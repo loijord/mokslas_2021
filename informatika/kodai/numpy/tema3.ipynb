{
 "cells": [
  {
   "cell_type": "markdown",
   "id": "51ece291",
   "metadata": {},
   "source": [
    "# More on metadata of arrays\n",
    "## Array interface\n",
    "Approach to the interface of array using private attribute:"
   ]
  },
  {
   "cell_type": "code",
   "execution_count": 41,
   "id": "058ea2a8",
   "metadata": {},
   "outputs": [
    {
     "data": {
      "text/plain": [
       "array([[ 658047583, 2399717312, 2682325474],\n",
       "       [3789451691, 2585146673,  388629288]], dtype=uint32)"
      ]
     },
     "execution_count": 41,
     "metadata": {},
     "output_type": "execute_result"
    }
   ],
   "source": [
    "import numpy as np\n",
    "arr = np.random.randint(2**32, size=(2, 3), dtype=np.uint32)\n",
    "arr"
   ]
  },
  {
   "cell_type": "code",
   "execution_count": 42,
   "id": "2adee26e",
   "metadata": {},
   "outputs": [
    {
     "data": {
      "text/plain": [
       "{'data': (94920605948720, False),\n",
       " 'strides': None,\n",
       " 'descr': [('', '<u4')],\n",
       " 'typestr': '<u4',\n",
       " 'shape': (2, 3),\n",
       " 'version': 3}"
      ]
     },
     "execution_count": 42,
     "metadata": {},
     "output_type": "execute_result"
    }
   ],
   "source": [
    "arr.__array_interface__"
   ]
  },
  {
   "cell_type": "markdown",
   "id": "5fa6c07b",
   "metadata": {},
   "source": [
    "## Pointers"
   ]
  },
  {
   "cell_type": "markdown",
   "id": "c057e5bc",
   "metadata": {},
   "source": [
    "Approach to: \n",
    "* a pointer to the data-area storing the array contents (it must point to the first element of data)\n",
    "* a read-only flag (true means the data area is read-only)"
   ]
  },
  {
   "cell_type": "code",
   "execution_count": 43,
   "id": "0d014176",
   "metadata": {},
   "outputs": [
    {
     "data": {
      "text/plain": [
       "(94920605948720, False)"
      ]
     },
     "execution_count": 43,
     "metadata": {},
     "output_type": "execute_result"
    }
   ],
   "source": [
    "pointer, read_only = arr.__array_interface__['data']\n",
    "pointer, read_only"
   ]
  },
  {
   "cell_type": "code",
   "execution_count": 44,
   "id": "86248120",
   "metadata": {},
   "outputs": [
    {
     "data": {
      "text/plain": [
       "24"
      ]
     },
     "execution_count": 44,
     "metadata": {},
     "output_type": "execute_result"
    }
   ],
   "source": [
    "arr.nbytes"
   ]
  },
  {
   "cell_type": "markdown",
   "id": "c1999245",
   "metadata": {},
   "source": [
    "In order to see what's inside the data storage area, approach to its bytes, 4 by 4:"
   ]
  },
  {
   "cell_type": "code",
   "execution_count": 45,
   "id": "6db22969",
   "metadata": {},
   "outputs": [
    {
     "data": {
      "text/plain": [
       "array([[ 95,   2,  57,  39],\n",
       "       [192, 199,   8, 143],\n",
       "       [226,   9, 225, 159],\n",
       "       [171, 113, 222, 225],\n",
       "       [ 49,  53,  22, 154],\n",
       "       [ 40,   3,  42,  23]])"
      ]
     },
     "execution_count": 45,
     "metadata": {},
     "output_type": "execute_result"
    }
   ],
   "source": [
    "from ctypes import string_at\n",
    "bytes = np.array([n for n in string_at(pointer, arr.nbytes)]).reshape(-1,4)\n",
    "bytes"
   ]
  },
  {
   "cell_type": "markdown",
   "id": "a2b84cf2",
   "metadata": {},
   "source": [
    "Extract initial data from bytes:"
   ]
  },
  {
   "cell_type": "code",
   "execution_count": 50,
   "id": "8bbadfae",
   "metadata": {},
   "outputs": [
    {
     "data": {
      "text/plain": [
       "[658047583, 2399717312, 2682325474, 3789451691, 2585146673, 388629288]"
      ]
     },
     "execution_count": 50,
     "metadata": {},
     "output_type": "execute_result"
    }
   ],
   "source": [
    "stream = [a + 2**8*b + 2**16*c + 2**24*d for a, b, c, d in bytes]\n",
    "stream"
   ]
  },
  {
   "cell_type": "markdown",
   "id": "88f81ec5",
   "metadata": {},
   "source": [
    "Create a view of initial array:"
   ]
  },
  {
   "cell_type": "code",
   "execution_count": 51,
   "id": "5ba5a5cc",
   "metadata": {},
   "outputs": [
    {
     "data": {
      "text/plain": [
       "(2, 3)"
      ]
     },
     "execution_count": 51,
     "metadata": {},
     "output_type": "execute_result"
    }
   ],
   "source": [
    "shape = arr.__array_interface__['shape']\n",
    "shape"
   ]
  },
  {
   "cell_type": "code",
   "execution_count": 52,
   "id": "f8e6701c",
   "metadata": {},
   "outputs": [
    {
     "data": {
      "text/plain": [
       "array([[ 658047583, 2399717312, 2682325474],\n",
       "       [3789451691, 2585146673,  388629288]])"
      ]
     },
     "execution_count": 52,
     "metadata": {},
     "output_type": "execute_result"
    }
   ],
   "source": [
    "np.reshape(stream, shape)"
   ]
  },
  {
   "cell_type": "markdown",
   "id": "2489128c",
   "metadata": {},
   "source": [
    "Make sure it's the same with initial array:"
   ]
  },
  {
   "cell_type": "code",
   "execution_count": 54,
   "id": "0a6d31b7",
   "metadata": {},
   "outputs": [
    {
     "data": {
      "text/plain": [
       "True"
      ]
     },
     "execution_count": 54,
     "metadata": {},
     "output_type": "execute_result"
    }
   ],
   "source": [
    "np.array_equal(arr, np.reshape(stream, shape))"
   ]
  },
  {
   "cell_type": "markdown",
   "id": "2220c8bd",
   "metadata": {},
   "source": [
    "## Read-only flag\n",
    "Take a look how to make `numpy` array immutable"
   ]
  },
  {
   "cell_type": "code",
   "execution_count": 73,
   "id": "cf21fe44",
   "metadata": {},
   "outputs": [
    {
     "data": {
      "text/plain": [
       "array([[1, 1],\n",
       "       [1, 1]])"
      ]
     },
     "execution_count": 73,
     "metadata": {},
     "output_type": "execute_result"
    }
   ],
   "source": [
    "arr = np.ones((2, 2), dtype=int)\n",
    "arr"
   ]
  },
  {
   "cell_type": "code",
   "execution_count": 74,
   "id": "8a1c3d48",
   "metadata": {},
   "outputs": [
    {
     "data": {
      "text/plain": [
       "array([[    1, -9999],\n",
       "       [    1,     1]])"
      ]
     },
     "execution_count": 74,
     "metadata": {},
     "output_type": "execute_result"
    }
   ],
   "source": [
    "arr[0, 1] = -9999\n",
    "arr"
   ]
  },
  {
   "cell_type": "code",
   "execution_count": 75,
   "id": "3cdb32f4",
   "metadata": {},
   "outputs": [
    {
     "name": "stdout",
     "output_type": "stream",
     "text": [
      "(94920600347216, False)\n",
      "(94920600347216, True)\n"
     ]
    }
   ],
   "source": [
    "print(arr.__array_interface__['data'])\n",
    "arr.setflags(write = False)\n",
    "print(arr.__array_interface__['data'])"
   ]
  },
  {
   "cell_type": "code",
   "execution_count": 76,
   "id": "5d19678a",
   "metadata": {},
   "outputs": [
    {
     "ename": "ValueError",
     "evalue": "assignment destination is read-only",
     "output_type": "error",
     "traceback": [
      "\u001b[0;31m---------------------------------------------------------------------------\u001b[0m",
      "\u001b[0;31mValueError\u001b[0m                                Traceback (most recent call last)",
      "\u001b[0;32m/tmp/ipykernel_77230/2851796484.py\u001b[0m in \u001b[0;36m<module>\u001b[0;34m\u001b[0m\n\u001b[0;32m----> 1\u001b[0;31m \u001b[0marr\u001b[0m\u001b[0;34m[\u001b[0m\u001b[0;36m0\u001b[0m\u001b[0;34m,\u001b[0m \u001b[0;36m1\u001b[0m\u001b[0;34m]\u001b[0m \u001b[0;34m=\u001b[0m \u001b[0;36m1\u001b[0m\u001b[0;34m\u001b[0m\u001b[0;34m\u001b[0m\u001b[0m\n\u001b[0m\u001b[1;32m      2\u001b[0m \u001b[0marr\u001b[0m\u001b[0;34m\u001b[0m\u001b[0;34m\u001b[0m\u001b[0m\n",
      "\u001b[0;31mValueError\u001b[0m: assignment destination is read-only"
     ]
    }
   ],
   "source": [
    "arr[0, 1] = 1\n",
    "arr"
   ]
  },
  {
   "cell_type": "markdown",
   "id": "8d5ff48b",
   "metadata": {},
   "source": [
    "## Strides\n",
    "This is old, not safe method"
   ]
  },
  {
   "cell_type": "code",
   "execution_count": 94,
   "id": "72cc89c2",
   "metadata": {},
   "outputs": [
    {
     "data": {
      "text/plain": [
       "array([[ 0,  1,  2,  3,  4,  5],\n",
       "       [ 6,  7,  8,  9, 10, 11],\n",
       "       [12, 13, 14, 15, 16, 17],\n",
       "       [18, 19, 20, 21, 22, 23]])"
      ]
     },
     "execution_count": 94,
     "metadata": {},
     "output_type": "execute_result"
    }
   ],
   "source": [
    "arr = np.arange(24).reshape(4, 6)\n",
    "arr"
   ]
  },
  {
   "cell_type": "code",
   "execution_count": 95,
   "id": "fdc9c7c2",
   "metadata": {},
   "outputs": [
    {
     "data": {
      "text/plain": [
       "(48, 8)"
      ]
     },
     "execution_count": 95,
     "metadata": {},
     "output_type": "execute_result"
    }
   ],
   "source": [
    "arr.strides"
   ]
  },
  {
   "cell_type": "markdown",
   "id": "e3a00e88",
   "metadata": {},
   "source": [
    "Create a specific view of array according to these rules:  \n",
    "* `strides` tells how many bytes a pointer needs to move along each axis while creating a view of plain array  \n",
    "* `shape` tells the total number of moves along each axis  \n",
    "* plain array is: `[0, 1, ..., 22, 23]`  "
   ]
  },
  {
   "cell_type": "code",
   "execution_count": 138,
   "id": "20d8f5b4",
   "metadata": {},
   "outputs": [
    {
     "data": {
      "text/plain": [
       "array([[ 0,  6, 12, 18],\n",
       "       [ 1,  7, 13, 19],\n",
       "       [ 2,  8, 14, 20],\n",
       "       [ 3,  9, 15, 21],\n",
       "       [ 4, 10, 16, 22],\n",
       "       [ 5, 11, 17, 23]])"
      ]
     },
     "execution_count": 138,
     "metadata": {},
     "output_type": "execute_result"
    }
   ],
   "source": [
    "# move 1 element along axis=0 and 6 elements along axis=1; take 6 elements on axis=0 and 4 elements on axis=1\n",
    "np.lib.stride_tricks.as_strided(arr, shape=(6, 4), strides=(arr.itemsize, 6 * arr.itemsize))"
   ]
  },
  {
   "cell_type": "code",
   "execution_count": 139,
   "id": "6d06b7b5",
   "metadata": {},
   "outputs": [
    {
     "data": {
      "text/plain": [
       "array([[ 0,  2,  4],\n",
       "       [ 2,  4,  6],\n",
       "       [ 4,  6,  8],\n",
       "       [ 6,  8, 10],\n",
       "       [ 8, 10, 12],\n",
       "       [10, 12, 14],\n",
       "       [12, 14, 16],\n",
       "       [14, 16, 18],\n",
       "       [16, 18, 20],\n",
       "       [18, 20, 22]])"
      ]
     },
     "execution_count": 139,
     "metadata": {},
     "output_type": "execute_result"
    }
   ],
   "source": [
    "# move 2 elements along axis=0 and 2 elements along axis=1; take 10 elements on axis=0 and 3 elements on axis=1\n",
    "np.lib.stride_tricks.as_strided(arr, shape=(10, 3), strides=(2*arr.itemsize, 2*arr.itemsize))"
   ]
  },
  {
   "cell_type": "markdown",
   "id": "fd7fb2b0",
   "metadata": {},
   "source": [
    "## Windows"
   ]
  },
  {
   "cell_type": "markdown",
   "id": "71af14b1",
   "metadata": {},
   "source": [
    "In numpy version >= 1.20.0 (Jan 30, 2021) you wouldn't need to calculate strides manually if you want to create a sliding window view into the array with the given window shape"
   ]
  },
  {
   "cell_type": "code",
   "execution_count": 3,
   "id": "ff4391cf",
   "metadata": {},
   "outputs": [
    {
     "name": "stdout",
     "output_type": "stream",
     "text": [
      "[0 1 2 3 4 5]\n",
      "[[0 1 2]\n",
      " [1 2 3]\n",
      " [2 3 4]\n",
      " [3 4 5]]\n"
     ]
    }
   ],
   "source": [
    "x = np.arange(6)\n",
    "print(x)\n",
    "print(np.lib.stride_tricks.sliding_window_view(x, 3))"
   ]
  },
  {
   "cell_type": "code",
   "execution_count": 4,
   "id": "bc6397f2",
   "metadata": {},
   "outputs": [
    {
     "name": "stdout",
     "output_type": "stream",
     "text": [
      "[[ 0  1  2  3  4]\n",
      " [ 5  6  7  8  9]\n",
      " [10 11 12 13 14]]\n",
      "[[[[ 0  1]\n",
      "   [ 5  6]]\n",
      "\n",
      "  [[ 1  2]\n",
      "   [ 6  7]]\n",
      "\n",
      "  [[ 2  3]\n",
      "   [ 7  8]]\n",
      "\n",
      "  [[ 3  4]\n",
      "   [ 8  9]]]\n",
      "\n",
      "\n",
      " [[[ 5  6]\n",
      "   [10 11]]\n",
      "\n",
      "  [[ 6  7]\n",
      "   [11 12]]\n",
      "\n",
      "  [[ 7  8]\n",
      "   [12 13]]\n",
      "\n",
      "  [[ 8  9]\n",
      "   [13 14]]]]\n"
     ]
    }
   ],
   "source": [
    "x = np.arange(15).reshape(3,5)\n",
    "print(x)\n",
    "print(np.lib.stride_tricks.sliding_window_view(x, (2, 2)))"
   ]
  }
 ],
 "metadata": {
  "kernelspec": {
   "display_name": "Python 3 (ipykernel)",
   "language": "python",
   "name": "python3"
  },
  "language_info": {
   "codemirror_mode": {
    "name": "ipython",
    "version": 3
   },
   "file_extension": ".py",
   "mimetype": "text/x-python",
   "name": "python",
   "nbconvert_exporter": "python",
   "pygments_lexer": "ipython3",
   "version": "3.9.7"
  }
 },
 "nbformat": 4,
 "nbformat_minor": 5
}
