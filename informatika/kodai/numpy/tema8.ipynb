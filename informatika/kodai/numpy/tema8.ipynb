{
 "cells": [
  {
   "cell_type": "markdown",
   "id": "99a53f46",
   "metadata": {},
   "source": [
    "# Why do we need to create classes?\n",
    "\n",
    "Šiame skyriuje pabandysime atlikti tam tikrą užduotį ir ją darydami turėtume pastebėti, kad kodas apsirašo daug paprasčiau naudojant klasę."
   ]
  },
  {
   "cell_type": "markdown",
   "id": "e44ca9bf",
   "metadata": {},
   "source": [
    "Tarkime, kad jūs gavote nelengvą užduotį: išanalizuoti, kaip sekėsi laikyti informatikos egzaminą kiekvienai mokyklai. "
   ]
  },
  {
   "cell_type": "code",
   "execution_count": 11,
   "id": "b397fc72",
   "metadata": {},
   "outputs": [],
   "source": [
    "import numpy as np\n",
    "import matplotlib.pyplot as plt\n",
    "\n",
    "def random_school(N):\n",
    "    # Grąžina normalųjį rezultatų pasiskirstymą Lietuvos mastu su dviem pikais:\n",
    "    # didesniu intervale [35, 40) ir mažesniu intervale [80, 90)\n",
    "    mu1, sigma1 = np.random.randint(35, 40), 15\n",
    "    mu2, sigma2 = np.random.randint(80, 90), 10\n",
    "    f1, f2 = np.random.normal(mu1, sigma1, size=int(N*0.8)).tolist(), np.random.normal(mu2, sigma2, size=int(N*0.2)).tolist()\n",
    "    arr = np.array(f1 + f2)\n",
    "    return arr[(arr>=0) & (arr<101)].astype(int)\n",
    "   \n",
    "def plot_sample(N):\n",
    "    # Atvaizduoja random_school(N) outputą\n",
    "    arr = random_school(N)\n",
    "    counts, labels = np.histogram(arr, bins=np.arange(0, 101))\n",
    "    fig, ax = plt.subplots(figsize=(18, 10))\n",
    "    ax.hist(arr, bins=labels, fc='g', ec='k')\n",
    "    ax.set_xlabel('Surinkti balai', fontsize=20)\n",
    "    ax.set_ylabel('Kiek abiturientų surinko', fontsize=20)\n",
    "    plt.show()\n",
    "    return np.sort(arr)"
   ]
  },
  {
   "cell_type": "markdown",
   "id": "869e6aae",
   "metadata": {},
   "source": [
    "Pavyzdys, kaip atrodo moksleivių rezultatų pasiskirstymas  Lietuvoje:"
   ]
  },
  {
   "cell_type": "code",
   "execution_count": 12,
   "id": "fc1f2e28",
   "metadata": {},
   "outputs": [
    {
     "data": {
      "image/png": "[encoded data removed]",
      "text/plain": [
       "<Figure size 1296x720 with 1 Axes>"
      ]
     },
     "metadata": {
      "needs_background": "light"
     },
     "output_type": "display_data"
    }
   ],
   "source": [
    "arr = plot_sample(3000)"
   ]
  },
  {
   "cell_type": "markdown",
   "id": "009a9aa2",
   "metadata": {},
   "source": [
    "Pavyzdys, kaip atrodo analizė Lietuvos mastu:"
   ]
  },
  {
   "cell_type": "code",
   "execution_count": 13,
   "id": "84136e1c",
   "metadata": {},
   "outputs": [
    {
     "name": "stdout",
     "output_type": "stream",
     "text": [
      "Egzamino neišlaikė 9.5% dalyvių\n",
      "Pirmieji 25% moksleivių surinko ne daugiau, nei 31tšk.\n",
      "Pirmieji 50% moksleivių surinko ne daugiau, nei 42tšk.\n",
      "Pirmieji 75% moksleivių surinko ne daugiau, nei 60tšk.\n",
      "Didžiausias gautas moksleivio įvertinimas - 100tšk.\n",
      "Iš viso informatiką laikė 2972 abiturientų\n"
     ]
    }
   ],
   "source": [
    "def rask_kiek_neišlaikė(arr):\n",
    "    print(f'Egzamino neišlaikė {np.round(100 * np.sum(arr<20)/len(arr), 1)}% dalyvių')\n",
    "\n",
    "def rask_pirmus_25(arr):\n",
    "    idx = (len(arr)-1)//4\n",
    "    print(f'Pirmieji 25% moksleivių surinko ne daugiau, nei {arr[idx]}tšk.')\n",
    "    \n",
    "def rask_pirmus_50(arr):\n",
    "    idx = (2*len(arr)-1)//4\n",
    "    print(f'Pirmieji 50% moksleivių surinko ne daugiau, nei {arr[idx]}tšk.')\n",
    "  \n",
    "def rask_pirmus_75(arr):\n",
    "    idx = (3*len(arr)-1)//4\n",
    "    print(f'Pirmieji 75% moksleivių surinko ne daugiau, nei {arr[idx]}tšk.')\n",
    "    \n",
    "def rask_visus(arr):\n",
    "    print(f'Didžiausias gautas moksleivio įvertinimas - {arr[-1]}tšk.')\n",
    "    \n",
    "def total(arr):\n",
    "    print(f'Iš viso informatiką laikė {len(arr)} abiturientų')\n",
    "   \n",
    "rask_kiek_neišlaikė(arr)\n",
    "rask_pirmus_25(arr) \n",
    "rask_pirmus_50(arr)\n",
    "rask_pirmus_75(arr)\n",
    "rask_visus(arr)\n",
    "total(arr)"
   ]
  },
  {
   "cell_type": "markdown",
   "id": "944913e8",
   "metadata": {},
   "source": [
    "[Tikroviškos analizės pavyzdys](https://www.nec.lt/failai/8760_2020_IT_st_ana-red.pdf)"
   ]
  },
  {
   "cell_type": "markdown",
   "id": "6573c6bd",
   "metadata": {},
   "source": [
    "`arr` - tai abiturientų duomenys iš 100 mokyklų, saugomi serveryje ir sunumeruotų `id` nuo 0 iki 99. Įtrauktos tik mokyklos, turinčios tarp 10 ir 29 dalyvavusių egzamine. Pirmame stulpelyje yra pateikiamas mokyklos `id`, surašyti didėjimo tvarka, antrame - mokinių rezultatai iš atitinkamų mokyklų rezultatai bet kuria tvarka. Masyvą `arr` galima gauti paleidus šį kodą:"
   ]
  },
  {
   "cell_type": "code",
   "execution_count": 4,
   "id": "9a665d39",
   "metadata": {},
   "outputs": [
    {
     "data": {
      "text/plain": [
       "array([[ 0, 35],\n",
       "       [ 0, 47],\n",
       "       [ 0, 40],\n",
       "       ...,\n",
       "       [99, 89],\n",
       "       [99, 71],\n",
       "       [99, 87]])"
      ]
     },
     "execution_count": 4,
     "metadata": {},
     "output_type": "execute_result"
    }
   ],
   "source": [
    "results = [random_school(N) for N in np.random.randint(10, 30, size=100)]\n",
    "lens = [len(n) for n in results]\n",
    "codes = np.repeat(np.arange(len(lens)), lens)\n",
    "results = np.concatenate(results)\n",
    "arr = np.transpose([codes, results])\n",
    "arr"
   ]
  },
  {
   "cell_type": "markdown",
   "id": "33716e47",
   "metadata": {},
   "source": [
    "**Jūsų tikslas - remiantis `arr` duomenimis sukurti tokį patį skaičiavimo mechanizmą individualiai kiekvienai iš mokyklų su didesniu kiekiu laikiusių mokinių. Kiekvienos mokyklos direktorius, norėdamas sužinoti, kaip sekėsi jo mokyklos moksleiviams, gali įvesti mokyklos kodą `id` ir pasirinkti vieną iš šešių galimų užklausų:**\n",
    "\n",
    "* rask_kiek_neišlaikė(arr, id)\n",
    "* rask_pirmus_25(arr, id)\n",
    "* rask_pirmus_50(arr, id)\n",
    "* rask_pirmus_75(arr, id)\n",
    "* rask_visus(arr, id)\n",
    "* total(arr, id)"
   ]
  },
  {
   "cell_type": "markdown",
   "id": "de2e03c2",
   "metadata": {},
   "source": [
    "## Užduotį sudaro kelios dalys"
   ]
  },
  {
   "cell_type": "markdown",
   "id": "ca4260c7",
   "metadata": {},
   "source": [
    "* Pirmoje dalyje bandysime pasiekti tikslą - parašyti kodą, kuris duoda rezultatą, kurio tikimės\n",
    "* Antroje dalyje bandysime refactorinti kodą - kitaip perdėlioti funkcijų aprašymus\n",
    "* Trečioje dalyje bandysime parašyti tą patį kodą naudojant klasę\n",
    "* Jei liks noro parašysime dokumentaciją ir testinius atvejus"
   ]
  },
  {
   "cell_type": "markdown",
   "id": "21d4540f",
   "metadata": {},
   "source": [
    "Užduotį įmanoma atlikti naudojant vien tam tikrų metodų apibrėžimus (`def`). Norint kode panaudoti klasės aprašą, reikėtų susipažinti su objektiškai orientuoto programavimo (OOP) [pagrindais](../../turinys.ipynb) (žr. OOP skyrių 2022 metų medžiagoje)."
   ]
  }
 ],
 "metadata": {
  "kernelspec": {
   "display_name": "Python 3 (ipykernel)",
   "language": "python",
   "name": "python3"
  },
  "language_info": {
   "codemirror_mode": {
    "name": "ipython",
    "version": 3
   },
   "file_extension": ".py",
   "mimetype": "text/x-python",
   "name": "python",
   "nbconvert_exporter": "python",
   "pygments_lexer": "ipython3",
   "version": "3.9.7"
  }
 },
 "nbformat": 4,
 "nbformat_minor": 5
}
