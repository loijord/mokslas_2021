{
 "cells": [
  {
   "cell_type": "markdown",
   "id": "56486568",
   "metadata": {},
   "source": [
    "# Advanced and Boolean indexing"
   ]
  },
  {
   "cell_type": "code",
   "execution_count": 2,
   "id": "2f3ba1c8",
   "metadata": {},
   "outputs": [
    {
     "data": {
      "text/plain": [
       "array([[ 2,  5, 18,  0],\n",
       "       [ 5,  3, 18, 14],\n",
       "       [ 8,  4,  4,  6]])"
      ]
     },
     "execution_count": 2,
     "metadata": {},
     "output_type": "execute_result"
    }
   ],
   "source": [
    "import numpy as np\n",
    "arr = np.random.randint(0, 20, size=(3, 4))\n",
    "arr"
   ]
  },
  {
   "cell_type": "markdown",
   "id": "8725c958",
   "metadata": {},
   "source": [
    "### Advanced indexing"
   ]
  },
  {
   "cell_type": "code",
   "execution_count": 3,
   "id": "6fb724a5",
   "metadata": {},
   "outputs": [
    {
     "data": {
      "text/plain": [
       "array([[ 2,  5, 18,  0],\n",
       "       [ 5,  3, 18, 14],\n",
       "       [ 8,  4,  4,  6]])"
      ]
     },
     "execution_count": 3,
     "metadata": {},
     "output_type": "execute_result"
    }
   ],
   "source": [
    "arr"
   ]
  },
  {
   "cell_type": "markdown",
   "id": "dc71d144",
   "metadata": {},
   "source": [
    "**Neapsigauti: kai indeksacijoje du `list` tipo objektai, tai indeksacija tampa Advanced**\n",
    "\n",
    "Čia masyvas `l1` nurodys, iš kurių eilučių yra imami nariai, o `l2` - atitinkamus stulpelius."
   ]
  },
  {
   "cell_type": "code",
   "execution_count": 4,
   "id": "eb68a22d",
   "metadata": {},
   "outputs": [
    {
     "data": {
      "text/plain": [
       "array([2, 4])"
      ]
     },
     "execution_count": 4,
     "metadata": {},
     "output_type": "execute_result"
    }
   ],
   "source": [
    "l1, l2 = [0, 2], [0, 2]\n",
    "arr[l1, l2]"
   ]
  },
  {
   "cell_type": "markdown",
   "id": "e88262cc",
   "metadata": {},
   "source": [
    "Galima pasirinkti tuos pačius narius ir pakartortinai:"
   ]
  },
  {
   "cell_type": "code",
   "execution_count": 5,
   "id": "c5dd2e8a",
   "metadata": {},
   "outputs": [
    {
     "data": {
      "text/plain": [
       "array([ 4, 14,  4])"
      ]
     },
     "execution_count": 5,
     "metadata": {},
     "output_type": "execute_result"
    }
   ],
   "source": [
    "arr[[2, 1, 2], [2, 3, 2]]"
   ]
  },
  {
   "cell_type": "markdown",
   "id": "bbf2f37a",
   "metadata": {},
   "source": [
    "Norint, kad būtų atrenkamas visas tam tikrų eilučių ir stulpelių turinys:"
   ]
  },
  {
   "cell_type": "code",
   "execution_count": 6,
   "id": "ab73c643",
   "metadata": {},
   "outputs": [
    {
     "data": {
      "text/plain": [
       "array([[ 2, 18],\n",
       "       [ 8,  4]])"
      ]
     },
     "execution_count": 6,
     "metadata": {},
     "output_type": "execute_result"
    }
   ],
   "source": [
    "arr[np.ix_(l1, l2)]"
   ]
  },
  {
   "cell_type": "markdown",
   "id": "0c567db9",
   "metadata": {},
   "source": [
    "arba naudojant Basic indexing:"
   ]
  },
  {
   "cell_type": "code",
   "execution_count": 7,
   "id": "de1de354",
   "metadata": {},
   "outputs": [
    {
     "data": {
      "text/plain": [
       "array([[ 2, 18],\n",
       "       [ 8,  4]])"
      ]
     },
     "execution_count": 7,
     "metadata": {},
     "output_type": "execute_result"
    }
   ],
   "source": [
    "arr[0:3:2, 0:3:2]"
   ]
  },
  {
   "cell_type": "markdown",
   "id": "fa007959",
   "metadata": {},
   "source": [
    "### Boolean indexing\n",
    "`numpy` masyvai palaiko ne tik `slice` ir `list` tipo objektų naudojimą indeksavime, tačiau taip pat leidžia naudoti ir `bool` tipo indeksus:"
   ]
  },
  {
   "cell_type": "code",
   "execution_count": 8,
   "id": "fe1d0c6b",
   "metadata": {},
   "outputs": [
    {
     "data": {
      "text/plain": [
       "(dtype('bool'), dtype('int64'))"
      ]
     },
     "execution_count": 8,
     "metadata": {},
     "output_type": "execute_result"
    }
   ],
   "source": [
    "bool_idx = np.array([True, False, True])\n",
    "int_idx = np.array([0, 2])\n",
    "bool_idx.dtype, int_idx.dtype"
   ]
  },
  {
   "cell_type": "code",
   "execution_count": 9,
   "id": "3926157b",
   "metadata": {},
   "outputs": [
    {
     "name": "stdout",
     "output_type": "stream",
     "text": [
      "[[ 2  5 18  0]\n",
      " [ 8  4  4  6]]\n",
      "[[ 2  5 18  0]\n",
      " [ 8  4  4  6]]\n"
     ]
    }
   ],
   "source": [
    "print(arr[bool_idx])\n",
    "print(arr[int_idx]) #turi gautis tas pats"
   ]
  },
  {
   "cell_type": "code",
   "execution_count": 12,
   "id": "7946e11d",
   "metadata": {},
   "outputs": [
    {
     "data": {
      "text/plain": [
       "array([[ 2,  5, 18,  0],\n",
       "       [ 5,  3, 18, 14],\n",
       "       [ 8,  4,  4,  6]])"
      ]
     },
     "execution_count": 12,
     "metadata": {},
     "output_type": "execute_result"
    }
   ],
   "source": [
    "arr"
   ]
  },
  {
   "cell_type": "markdown",
   "id": "1b6a5bcd",
   "metadata": {},
   "source": [
    "Galima naudoti ir tos pačios formos masyvą, sukuriamą pagal tam tikras sąlygas"
   ]
  },
  {
   "cell_type": "code",
   "execution_count": 10,
   "id": "cc41bccb",
   "metadata": {},
   "outputs": [
    {
     "data": {
      "text/plain": [
       "array([[False, False,  True, False],\n",
       "       [False, False,  True,  True],\n",
       "       [ True, False, False,  True]])"
      ]
     },
     "execution_count": 10,
     "metadata": {},
     "output_type": "execute_result"
    }
   ],
   "source": [
    "arr > 5"
   ]
  },
  {
   "cell_type": "markdown",
   "id": "06b105b6",
   "metadata": {},
   "source": [
    "Grąžinami elementai, tenkinantys tam tikrą sąlygą:"
   ]
  },
  {
   "cell_type": "code",
   "execution_count": 11,
   "id": "03d882f4",
   "metadata": {},
   "outputs": [
    {
     "data": {
      "text/plain": [
       "array([18, 18, 14,  8,  6])"
      ]
     },
     "execution_count": 11,
     "metadata": {},
     "output_type": "execute_result"
    }
   ],
   "source": [
    "arr[arr > 5]"
   ]
  },
  {
   "cell_type": "markdown",
   "id": "41d909a9",
   "metadata": {},
   "source": [
    "Sąlygas taip pat galima logiškai apjungti:"
   ]
  },
  {
   "cell_type": "code",
   "execution_count": 13,
   "id": "254d3fe9",
   "metadata": {},
   "outputs": [
    {
     "data": {
      "text/plain": [
       "array([[False,  True, False, False],\n",
       "       [ True, False, False,  True],\n",
       "       [ True, False, False,  True]])"
      ]
     },
     "execution_count": 13,
     "metadata": {},
     "output_type": "execute_result"
    }
   ],
   "source": [
    "(arr < 18) & (arr > 4)"
   ]
  },
  {
   "cell_type": "code",
   "execution_count": 14,
   "id": "cc44cb72",
   "metadata": {},
   "outputs": [
    {
     "data": {
      "text/plain": [
       "array([ 5,  5, 14,  8,  6])"
      ]
     },
     "execution_count": 14,
     "metadata": {},
     "output_type": "execute_result"
    }
   ],
   "source": [
    "arr[(arr < 18) & (arr > 4)]"
   ]
  }
 ],
 "metadata": {
  "kernelspec": {
   "display_name": "Python 3 (ipykernel)",
   "language": "python",
   "name": "python3"
  },
  "language_info": {
   "codemirror_mode": {
    "name": "ipython",
    "version": 3
   },
   "file_extension": ".py",
   "mimetype": "text/x-python",
   "name": "python",
   "nbconvert_exporter": "python",
   "pygments_lexer": "ipython3",
   "version": "3.9.7"
  }
 },
 "nbformat": 4,
 "nbformat_minor": 5
}
