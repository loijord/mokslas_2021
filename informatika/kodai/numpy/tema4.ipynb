{
 "cells": [
  {
   "cell_type": "markdown",
   "id": "13833dd7",
   "metadata": {},
   "source": [
    "# Basic indexing"
   ]
  },
  {
   "cell_type": "code",
   "execution_count": 18,
   "id": "9e882735",
   "metadata": {},
   "outputs": [],
   "source": [
    "import numpy as np\n",
    "arr = np.random.randint(0, 20, size=(3, 4))"
   ]
  },
  {
   "cell_type": "markdown",
   "id": "c3cba70f",
   "metadata": {},
   "source": [
    "**Eilutės keitimas:**"
   ]
  },
  {
   "cell_type": "code",
   "execution_count": 5,
   "id": "886dd841",
   "metadata": {},
   "outputs": [
    {
     "data": {
      "text/plain": [
       "array([[ 2,  3,  4,  5],\n",
       "       [16, 17, 14, 14],\n",
       "       [ 9, 16,  0,  0]])"
      ]
     },
     "execution_count": 5,
     "metadata": {},
     "output_type": "execute_result"
    }
   ],
   "source": [
    "arr[0] = np.arange(2, 6)\n",
    "arr"
   ]
  },
  {
   "cell_type": "markdown",
   "id": "61accbd1",
   "metadata": {},
   "source": [
    "**Bloko keitimas:**"
   ]
  },
  {
   "cell_type": "code",
   "execution_count": 6,
   "id": "a71ae80f",
   "metadata": {},
   "outputs": [
    {
     "data": {
      "text/plain": [
       "array([[ 2,  3,  4,  5],\n",
       "       [16, -1, -1, 14],\n",
       "       [ 9, -1, -1,  0]])"
      ]
     },
     "execution_count": 6,
     "metadata": {},
     "output_type": "execute_result"
    }
   ],
   "source": [
    "arr[1:, 1:3] = -1\n",
    "arr"
   ]
  },
  {
   "cell_type": "markdown",
   "id": "bf1b2ba7",
   "metadata": {},
   "source": [
    "### Indeksavimo rūšys"
   ]
  },
  {
   "cell_type": "markdown",
   "id": "5b08ba56",
   "metadata": {},
   "source": [
    "**Priėjimas prie elemento:**"
   ]
  },
  {
   "cell_type": "code",
   "execution_count": 7,
   "id": "306df07c",
   "metadata": {},
   "outputs": [
    {
     "data": {
      "text/plain": [
       "(4, 4)"
      ]
     },
     "execution_count": 7,
     "metadata": {},
     "output_type": "execute_result"
    }
   ],
   "source": [
    "arr[0,2], arr[0][2]"
   ]
  },
  {
   "cell_type": "markdown",
   "id": "88aff997",
   "metadata": {},
   "source": [
    "**Indeksavimas pagal pirmą ašį**:"
   ]
  },
  {
   "cell_type": "code",
   "execution_count": 8,
   "id": "508d98c7",
   "metadata": {},
   "outputs": [
    {
     "name": "stdout",
     "output_type": "stream",
     "text": [
      "[[ 2  3  4  5]\n",
      " [ 9 -1 -1  0]]\n",
      "[[ 2  3  4  5]\n",
      " [ 9 -1 -1  0]]\n"
     ]
    }
   ],
   "source": [
    "my_list = [0, 2]\n",
    "print(arr[my_list])\n",
    "print(arr[my_list, :])"
   ]
  },
  {
   "cell_type": "markdown",
   "id": "22f5233b",
   "metadata": {},
   "source": [
    "**Indeksavimas pagal abi ašis**:"
   ]
  },
  {
   "cell_type": "code",
   "execution_count": 9,
   "id": "8f2cd469",
   "metadata": {},
   "outputs": [
    {
     "name": "stdout",
     "output_type": "stream",
     "text": [
      "[[ 2  4]\n",
      " [ 9 -1]]\n"
     ]
    }
   ],
   "source": [
    "print(arr[[0, 2], ::2])"
   ]
  },
  {
   "cell_type": "markdown",
   "id": "19275231",
   "metadata": {},
   "source": [
    "**Indeksavimas pagal antrą ašį**:"
   ]
  },
  {
   "cell_type": "code",
   "execution_count": 10,
   "id": "da16d694",
   "metadata": {},
   "outputs": [
    {
     "name": "stdout",
     "output_type": "stream",
     "text": [
      "[[ 2  4]\n",
      " [16 -1]\n",
      " [ 9 -1]]\n"
     ]
    }
   ],
   "source": [
    "print(arr[:, ::2])"
   ]
  },
  {
   "cell_type": "markdown",
   "id": "62c2def3",
   "metadata": {},
   "source": [
    "### Indeksų praleidimo slice'suose prasmė\n",
    "Įsitikinsime, kad  `numpy` masyvų ir `list` indeksacija yra paremta `slice` tipo objektų naudojimu:"
   ]
  },
  {
   "cell_type": "code",
   "execution_count": 11,
   "id": "afe9e51f",
   "metadata": {},
   "outputs": [
    {
     "data": {
      "text/plain": [
       "([7, 9, 5, 1, 3], [7, 9, 5, 1, 3], [7, 9, 5, 1, 3])"
      ]
     },
     "execution_count": 11,
     "metadata": {},
     "output_type": "execute_result"
    }
   ],
   "source": [
    "a = [7,8,9,4,5,6,1,2,3]\n",
    "a[::2], a[None:None:2], a[slice(None,None,2)]"
   ]
  },
  {
   "cell_type": "code",
   "execution_count": 12,
   "id": "1ff6f7d0",
   "metadata": {},
   "outputs": [
    {
     "data": {
      "text/plain": [
       "([9, 4, 5, 6, 1, 2, 3], [9, 4, 5, 6, 1, 2, 3], [9, 4, 5, 6, 1, 2, 3])"
      ]
     },
     "execution_count": 12,
     "metadata": {},
     "output_type": "execute_result"
    }
   ],
   "source": [
    "a[2:], a[2:None:None], a[slice(2, None, None)]"
   ]
  },
  {
   "cell_type": "markdown",
   "id": "38963158",
   "metadata": {},
   "source": [
    "Taip pat panagrinėsime, kaip tokia indeksacija veikia `numpy` masyvuose, kai indeksuojamos abi ašys (`list` tipo objektai palaiko tik pirmos ašies indeksaciją):"
   ]
  },
  {
   "cell_type": "code",
   "execution_count": 13,
   "id": "09f68a03",
   "metadata": {},
   "outputs": [
    {
     "data": {
      "text/plain": [
       "array([[ 2,  3,  4,  5],\n",
       "       [16, -1, -1, 14],\n",
       "       [ 9, -1, -1,  0]])"
      ]
     },
     "execution_count": 13,
     "metadata": {},
     "output_type": "execute_result"
    }
   ],
   "source": [
    "arr"
   ]
  },
  {
   "cell_type": "code",
   "execution_count": 14,
   "id": "16ba7ada",
   "metadata": {},
   "outputs": [],
   "source": [
    "s1, s2 = slice(1,4,2), slice(1,3,2) # 1\n",
    "l1, l2 = [1, 3], [1]"
   ]
  },
  {
   "cell_type": "code",
   "execution_count": 15,
   "id": "75827cf9",
   "metadata": {},
   "outputs": [
    {
     "data": {
      "text/plain": [
       "(array([[-1]]), array([[-1]]))"
      ]
     },
     "execution_count": 15,
     "metadata": {},
     "output_type": "execute_result"
    }
   ],
   "source": [
    "arr[s1, s2], arr[1:4:2, 1:3:2] #tokia pati indeksacija, paima tik pirmą eilutę ir pirmą stulpelį"
   ]
  },
  {
   "cell_type": "code",
   "execution_count": 16,
   "id": "d36d5275",
   "metadata": {},
   "outputs": [
    {
     "ename": "IndexError",
     "evalue": "index 3 is out of bounds for axis 0 with size 3",
     "output_type": "error",
     "traceback": [
      "\u001b[0;31m---------------------------------------------------------------------------\u001b[0m",
      "\u001b[0;31mIndexError\u001b[0m                                Traceback (most recent call last)",
      "\u001b[0;32m/tmp/ipykernel_86879/1582159039.py\u001b[0m in \u001b[0;36m<module>\u001b[0;34m\u001b[0m\n\u001b[0;32m----> 1\u001b[0;31m \u001b[0marr\u001b[0m\u001b[0;34m[\u001b[0m\u001b[0ml1\u001b[0m\u001b[0;34m,\u001b[0m \u001b[0ms2\u001b[0m\u001b[0;34m]\u001b[0m\u001b[0;34m,\u001b[0m \u001b[0marr\u001b[0m\u001b[0;34m[\u001b[0m\u001b[0;34m[\u001b[0m\u001b[0;36m1\u001b[0m\u001b[0;34m,\u001b[0m \u001b[0;36m3\u001b[0m\u001b[0;34m]\u001b[0m\u001b[0;34m,\u001b[0m \u001b[0;36m1\u001b[0m\u001b[0;34m:\u001b[0m\u001b[0;36m3\u001b[0m\u001b[0;34m:\u001b[0m\u001b[0;36m2\u001b[0m\u001b[0;34m]\u001b[0m \u001b[0;31m#tokia pati indeksacija, tačiau išmeta IndexError, nes neranda trečios eilutės\u001b[0m\u001b[0;34m\u001b[0m\u001b[0;34m\u001b[0m\u001b[0m\n\u001b[0m",
      "\u001b[0;31mIndexError\u001b[0m: index 3 is out of bounds for axis 0 with size 3"
     ]
    }
   ],
   "source": [
    "arr[l1, s2], arr[[1, 3], 1:3:2] #tokia pati indeksacija, tačiau išmeta IndexError, nes neranda trečios eilutės"
   ]
  },
  {
   "cell_type": "code",
   "execution_count": 17,
   "id": "cc713a90",
   "metadata": {},
   "outputs": [
    {
     "data": {
      "text/plain": [
       "(array([[-1]]), array([[-1]]))"
      ]
     },
     "execution_count": 17,
     "metadata": {},
     "output_type": "execute_result"
    }
   ],
   "source": [
    "arr[s1, l2], arr[1:4:2, [1]] #tokia pati indeksacija, paima pirmą eilutę ir pirmą stulpelį"
   ]
  }
 ],
 "metadata": {
  "kernelspec": {
   "display_name": "Python 3 (ipykernel)",
   "language": "python",
   "name": "python3"
  },
  "language_info": {
   "codemirror_mode": {
    "name": "ipython",
    "version": 3
   },
   "file_extension": ".py",
   "mimetype": "text/x-python",
   "name": "python",
   "nbconvert_exporter": "python",
   "pygments_lexer": "ipython3",
   "version": "3.9.7"
  }
 },
 "nbformat": 4,
 "nbformat_minor": 5
}
