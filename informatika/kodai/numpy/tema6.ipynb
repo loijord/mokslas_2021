{
 "cells": [
  {
   "cell_type": "markdown",
   "id": "7bbbf9d9",
   "metadata": {},
   "source": [
    "# Keep in mind reshape is dynamic"
   ]
  },
  {
   "cell_type": "markdown",
   "id": "227d5398",
   "metadata": {},
   "source": [
    "## Masyvo formos keitimas"
   ]
  },
  {
   "cell_type": "code",
   "execution_count": 4,
   "id": "0282ab0a",
   "metadata": {},
   "outputs": [
    {
     "data": {
      "text/plain": [
       "array([[15,  3, 18,  1],\n",
       "       [16, 11, 13,  4],\n",
       "       [ 8, 11,  4,  4]])"
      ]
     },
     "execution_count": 4,
     "metadata": {},
     "output_type": "execute_result"
    }
   ],
   "source": [
    "import numpy as np\n",
    "arr = np.random.randint(20, size=(3, 4))\n",
    "arr"
   ]
  },
  {
   "cell_type": "code",
   "execution_count": 5,
   "id": "4f82242c",
   "metadata": {},
   "outputs": [
    {
     "data": {
      "text/plain": [
       "(3, 4)"
      ]
     },
     "execution_count": 5,
     "metadata": {},
     "output_type": "execute_result"
    }
   ],
   "source": [
    "arr.shape"
   ]
  },
  {
   "cell_type": "markdown",
   "id": "c75564ef",
   "metadata": {},
   "source": [
    "Štai tvarka, pagal kurią yra saugomi masyvo nariai atmintyje:"
   ]
  },
  {
   "cell_type": "code",
   "execution_count": 7,
   "id": "5194b00a",
   "metadata": {},
   "outputs": [
    {
     "data": {
      "text/plain": [
       "array([15,  3, 18,  1, 16, 11, 13,  4,  8, 11,  4,  4])"
      ]
     },
     "execution_count": 7,
     "metadata": {},
     "output_type": "execute_result"
    }
   ],
   "source": [
    "arr.ravel()"
   ]
  },
  {
   "cell_type": "markdown",
   "id": "ecb96e9a",
   "metadata": {},
   "source": [
    "Masyvas `arr` liko nepakitęs:"
   ]
  },
  {
   "cell_type": "code",
   "execution_count": 11,
   "id": "4e1fad85",
   "metadata": {},
   "outputs": [
    {
     "data": {
      "text/plain": [
       "array([[15,  3, 18,  1],\n",
       "       [16, 11, 13,  4],\n",
       "       [ 8, 11,  4,  4]])"
      ]
     },
     "execution_count": 11,
     "metadata": {},
     "output_type": "execute_result"
    }
   ],
   "source": [
    "arr"
   ]
  },
  {
   "cell_type": "markdown",
   "id": "02c4c805",
   "metadata": {},
   "source": [
    "`reshape` metodas perrikiuoja šiuos duomenis taip, kad eiliškumas ir kiekis nepasikeistų, bet būtų išlaikomi tam tikri ašių ilgiai"
   ]
  },
  {
   "cell_type": "code",
   "execution_count": 39,
   "id": "80d9285f",
   "metadata": {},
   "outputs": [
    {
     "data": {
      "text/plain": [
       "array([[[15,  3],\n",
       "        [18,  1]],\n",
       "\n",
       "       [[16, 11],\n",
       "        [13,  4]],\n",
       "\n",
       "       [[ 8, 11],\n",
       "        [ 4,  4]]])"
      ]
     },
     "execution_count": 39,
     "metadata": {},
     "output_type": "execute_result"
    }
   ],
   "source": [
    "x = arr.reshape(3, 2, 2)\n",
    "x"
   ]
  },
  {
   "cell_type": "code",
   "execution_count": 10,
   "id": "89a31491",
   "metadata": {},
   "outputs": [
    {
     "data": {
      "text/plain": [
       "(3, 2, 2)"
      ]
     },
     "execution_count": 10,
     "metadata": {},
     "output_type": "execute_result"
    }
   ],
   "source": [
    "x.shape"
   ]
  },
  {
   "cell_type": "markdown",
   "id": "4bed96c5",
   "metadata": {},
   "source": [
    "Tačiau masyvas `x` saugomas toje pačioje vietoje, kaip ir `arr`:"
   ]
  },
  {
   "cell_type": "code",
   "execution_count": 50,
   "id": "b2f4e6c2",
   "metadata": {},
   "outputs": [
    {
     "name": "stdout",
     "output_type": "stream",
     "text": [
      "x atminties adresas: 94108108557024, išskirta atminties vietos: 96 bitai\n",
      "arr atminties adresas: 94108108557024, išskirta atminties vietos: 96 bitai\n"
     ]
    }
   ],
   "source": [
    "print(f'x atminties adresas: {x.__array_interface__[\"data\"][0]}, išskirta atminties vietos: {x.nbytes} bitai')\n",
    "print(f'arr atminties adresas: {arr.__array_interface__[\"data\"][0]}, išskirta atminties vietos: {x.nbytes} bitai')"
   ]
  },
  {
   "cell_type": "markdown",
   "id": "e4456b34",
   "metadata": {},
   "source": [
    "Vadinasi, pakeitus `x` reikšmes pasikeis ir `arr` reikšmės:"
   ]
  },
  {
   "cell_type": "code",
   "execution_count": 52,
   "id": "3c408cd3",
   "metadata": {},
   "outputs": [
    {
     "data": {
      "text/plain": [
       "array([[[-9999,     3],\n",
       "        [   18,     1]],\n",
       "\n",
       "       [[   16,    11],\n",
       "        [   13,     4]],\n",
       "\n",
       "       [[    8,    11],\n",
       "        [    4,     4]]])"
      ]
     },
     "execution_count": 52,
     "metadata": {},
     "output_type": "execute_result"
    }
   ],
   "source": [
    "x[0, 0, 0] = -9999\n",
    "x"
   ]
  },
  {
   "cell_type": "code",
   "execution_count": 53,
   "id": "f67474a8",
   "metadata": {},
   "outputs": [
    {
     "data": {
      "text/plain": [
       "array([[-9999,     3,    18,     1],\n",
       "       [   16,    11,    13,     4],\n",
       "       [    8,    11,     4,     4]])"
      ]
     },
     "execution_count": 53,
     "metadata": {},
     "output_type": "execute_result"
    }
   ],
   "source": [
    "arr"
   ]
  },
  {
   "cell_type": "markdown",
   "id": "4fd345d2",
   "metadata": {},
   "source": [
    "Norint to išvengti galima `x` masyvą saugoti kitoje vietoje:"
   ]
  },
  {
   "cell_type": "code",
   "execution_count": 56,
   "id": "ab864b54",
   "metadata": {},
   "outputs": [
    {
     "name": "stdout",
     "output_type": "stream",
     "text": [
      "x atminties adresas: 94108108654512, išskirta atminties vietos: 96 bitai\n"
     ]
    }
   ],
   "source": [
    "x = arr.reshape(3, 2, 2).copy()\n",
    "print(f'x atminties adresas: {x.__array_interface__[\"data\"][0]}, išskirta atminties vietos: {x.nbytes} bitai')"
   ]
  },
  {
   "cell_type": "markdown",
   "id": "0548d739",
   "metadata": {},
   "source": [
    "Tada nereikės rūpintis dėl masyvo `arr`:"
   ]
  },
  {
   "cell_type": "code",
   "execution_count": 58,
   "id": "d8ffe402",
   "metadata": {},
   "outputs": [
    {
     "data": {
      "text/plain": [
       "array([[[9999,    3],\n",
       "        [  18,    1]],\n",
       "\n",
       "       [[  16,   11],\n",
       "        [  13,    4]],\n",
       "\n",
       "       [[   8,   11],\n",
       "        [   4,    4]]])"
      ]
     },
     "execution_count": 58,
     "metadata": {},
     "output_type": "execute_result"
    }
   ],
   "source": [
    "x[0, 0, 0] = 9999\n",
    "x"
   ]
  },
  {
   "cell_type": "code",
   "execution_count": 59,
   "id": "c31d6a20",
   "metadata": {},
   "outputs": [
    {
     "data": {
      "text/plain": [
       "array([[-9999,     3,    18,     1],\n",
       "       [   16,    11,    13,     4],\n",
       "       [    8,    11,     4,     4]])"
      ]
     },
     "execution_count": 59,
     "metadata": {},
     "output_type": "execute_result"
    }
   ],
   "source": [
    "arr"
   ]
  },
  {
   "cell_type": "markdown",
   "id": "1b24436c",
   "metadata": {},
   "source": [
    "Iš kitos pusės, švaistoma atmintis. Todėl galima uždėti apsaugą nuo nepageidautinų keitimų:"
   ]
  },
  {
   "cell_type": "code",
   "execution_count": 64,
   "id": "9b70b158",
   "metadata": {},
   "outputs": [
    {
     "ename": "ValueError",
     "evalue": "assignment destination is read-only",
     "output_type": "error",
     "traceback": [
      "\u001b[0;31m---------------------------------------------------------------------------\u001b[0m",
      "\u001b[0;31mValueError\u001b[0m                                Traceback (most recent call last)",
      "\u001b[0;32m/tmp/ipykernel_88454/4159271621.py\u001b[0m in \u001b[0;36m<module>\u001b[0;34m\u001b[0m\n\u001b[1;32m      1\u001b[0m \u001b[0marr\u001b[0m\u001b[0;34m.\u001b[0m\u001b[0msetflags\u001b[0m\u001b[0;34m(\u001b[0m\u001b[0mwrite\u001b[0m \u001b[0;34m=\u001b[0m \u001b[0;32mFalse\u001b[0m\u001b[0;34m)\u001b[0m\u001b[0;34m\u001b[0m\u001b[0;34m\u001b[0m\u001b[0m\n\u001b[1;32m      2\u001b[0m \u001b[0mx\u001b[0m \u001b[0;34m=\u001b[0m \u001b[0marr\u001b[0m\u001b[0;34m.\u001b[0m\u001b[0mreshape\u001b[0m\u001b[0;34m(\u001b[0m\u001b[0;36m3\u001b[0m\u001b[0;34m,\u001b[0m \u001b[0;36m2\u001b[0m\u001b[0;34m,\u001b[0m \u001b[0;36m2\u001b[0m\u001b[0;34m)\u001b[0m\u001b[0;34m\u001b[0m\u001b[0;34m\u001b[0m\u001b[0m\n\u001b[0;32m----> 3\u001b[0;31m \u001b[0mx\u001b[0m\u001b[0;34m[\u001b[0m\u001b[0;36m0\u001b[0m\u001b[0;34m,\u001b[0m \u001b[0;36m0\u001b[0m\u001b[0;34m,\u001b[0m \u001b[0;36m0\u001b[0m\u001b[0;34m]\u001b[0m \u001b[0;34m=\u001b[0m \u001b[0;36m9999\u001b[0m\u001b[0;34m\u001b[0m\u001b[0;34m\u001b[0m\u001b[0m\n\u001b[0m",
      "\u001b[0;31mValueError\u001b[0m: assignment destination is read-only"
     ]
    }
   ],
   "source": [
    "arr.setflags(write = False)\n",
    "x = arr.reshape(3, 2, 2)\n",
    "x[0, 0, 0] = 9999"
   ]
  },
  {
   "cell_type": "markdown",
   "id": "51603ec0",
   "metadata": {},
   "source": [
    "## Masyvo plokštinimas\n",
    "`np.ravel` ir `np.flatten` metodai paverčia masyvą plokščiu ir grąžina tą patį rezultatą. Tačiau `np.ravel()` nesukuria jo kopijos, o `np.flatten()` sukuria. "
   ]
  },
  {
   "cell_type": "code",
   "execution_count": 74,
   "id": "35ba676e",
   "metadata": {},
   "outputs": [
    {
     "data": {
      "text/plain": [
       "(array([100,   3,  18,   1,  16,  11,  13,   4,   8,  11,   4,   4]),\n",
       " array([100,   3,  18,   1,  16,  11,  13,   4,   8,  11,   4,   4]))"
      ]
     },
     "execution_count": 74,
     "metadata": {},
     "output_type": "execute_result"
    }
   ],
   "source": [
    "arr.setflags(write = True)\n",
    "y1, y2 = arr.ravel(), arr.flatten()\n",
    "y1, y2"
   ]
  },
  {
   "cell_type": "code",
   "execution_count": 76,
   "id": "5ee6d2df",
   "metadata": {},
   "outputs": [
    {
     "data": {
      "text/plain": [
       "(array([100,   3,  18,   1,  16,  11,  13,   4,   8,  11,   4,   4]),\n",
       " array([200,   3,  18,   1,  16,  11,  13,   4,   8,  11,   4,   4]))"
      ]
     },
     "execution_count": 76,
     "metadata": {},
     "output_type": "execute_result"
    }
   ],
   "source": [
    "y1[0] = 100\n",
    "y2[0] = 200\n",
    "y1, y2"
   ]
  },
  {
   "cell_type": "code",
   "execution_count": 77,
   "id": "dc2029a5",
   "metadata": {},
   "outputs": [
    {
     "data": {
      "text/plain": [
       "array([[100,   3,  18,   1],\n",
       "       [ 16,  11,  13,   4],\n",
       "       [  8,  11,   4,   4]])"
      ]
     },
     "execution_count": 77,
     "metadata": {},
     "output_type": "execute_result"
    }
   ],
   "source": [
    "arr"
   ]
  },
  {
   "cell_type": "markdown",
   "id": "fa5abfbf",
   "metadata": {},
   "source": [
    "**Vadinasi**, `np.ravel()` veikia panašiai, kaip `np.reshape()`, tik yra labiau user-friendly."
   ]
  }
 ],
 "metadata": {
  "kernelspec": {
   "display_name": "Python 3 (ipykernel)",
   "language": "python",
   "name": "python3"
  },
  "language_info": {
   "codemirror_mode": {
    "name": "ipython",
    "version": 3
   },
   "file_extension": ".py",
   "mimetype": "text/x-python",
   "name": "python",
   "nbconvert_exporter": "python",
   "pygments_lexer": "ipython3",
   "version": "3.9.7"
  }
 },
 "nbformat": 4,
 "nbformat_minor": 5
}
