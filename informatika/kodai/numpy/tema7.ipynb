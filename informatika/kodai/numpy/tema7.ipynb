{
 "cells": [
  {
   "cell_type": "markdown",
   "id": "8495b8e9",
   "metadata": {},
   "source": [
    "# Jumping between different ways of indexing\n",
    "\n",
    "Jau susipažinome su Basic (vienmate), Boolean ir Advanced indeksacija. Dabar pažiūrėkime, kokie yra būdai pereiti iš vienos indeksacijos į kitą."
   ]
  },
  {
   "cell_type": "code",
   "execution_count": 1,
   "id": "9ffd67b6",
   "metadata": {},
   "outputs": [
    {
     "data": {
      "text/plain": [
       "array([[ 5, 15, 18, 19],\n",
       "       [16,  3,  2, 12],\n",
       "       [ 6,  1, 16, 12]])"
      ]
     },
     "execution_count": 1,
     "metadata": {},
     "output_type": "execute_result"
    }
   ],
   "source": [
    "import numpy as np\n",
    "arr = np.random.randint(20, size=(3, 4))\n",
    "arr"
   ]
  },
  {
   "cell_type": "markdown",
   "id": "51c472fe",
   "metadata": {},
   "source": [
    "**Boolean -> Advanced**"
   ]
  },
  {
   "cell_type": "code",
   "execution_count": 5,
   "id": "9499796b",
   "metadata": {},
   "outputs": [
    {
     "data": {
      "text/plain": [
       "array([[ True, False, False, False],\n",
       "       [False,  True,  True, False],\n",
       "       [ True,  True, False, False]])"
      ]
     },
     "execution_count": 5,
     "metadata": {},
     "output_type": "execute_result"
    }
   ],
   "source": [
    "boolean_idx = arr < 10\n",
    "boolean_idx"
   ]
  },
  {
   "cell_type": "code",
   "execution_count": 6,
   "id": "1d90ce07",
   "metadata": {},
   "outputs": [
    {
     "data": {
      "text/plain": [
       "(array([0, 1, 1, 2, 2]), array([0, 1, 2, 0, 1]))"
      ]
     },
     "execution_count": 6,
     "metadata": {},
     "output_type": "execute_result"
    }
   ],
   "source": [
    "advanced_idx = np.where(boolean_idx)\n",
    "advanced_idx"
   ]
  },
  {
   "cell_type": "code",
   "execution_count": 8,
   "id": "bc39a9f8",
   "metadata": {},
   "outputs": [
    {
     "data": {
      "text/plain": [
       "(array([0, 1, 1, 2, 2]), array([0, 1, 2, 0, 1]))"
      ]
     },
     "execution_count": 8,
     "metadata": {},
     "output_type": "execute_result"
    }
   ],
   "source": [
    "advanced_idx = np.nonzero(boolean_idx) #kitas būdas\n",
    "advanced_idx"
   ]
  },
  {
   "cell_type": "markdown",
   "id": "4698e8ba",
   "metadata": {},
   "source": [
    "**Advanced -> Boolean**"
   ]
  },
  {
   "cell_type": "code",
   "execution_count": 32,
   "id": "db468cda",
   "metadata": {},
   "outputs": [
    {
     "data": {
      "text/plain": [
       "array([[ True, False, False, False],\n",
       "       [False,  True,  True, False],\n",
       "       [ True,  True, False, False]])"
      ]
     },
     "execution_count": 32,
     "metadata": {},
     "output_type": "execute_result"
    }
   ],
   "source": [
    "boolean_idx = np.zeros_like(arr, dtype=bool)\n",
    "boolean_idx[advanced_idx] = True\n",
    "boolean_idx"
   ]
  },
  {
   "cell_type": "markdown",
   "id": "4b7dc5c8",
   "metadata": {},
   "source": [
    "## Interacting with flattened array."
   ]
  },
  {
   "cell_type": "markdown",
   "id": "6b4be95d",
   "metadata": {},
   "source": [
    "Tiesioginis vaikščiojimas iš Basic (vienmatės) indeksacijos į daugiamatę yra dažnai negalimas. Norint tą padaryti vienmatę indeksaciją siūlau mėginti taikyti tik suplokštinto masyvo variantui."
   ]
  },
  {
   "cell_type": "code",
   "execution_count": 15,
   "id": "e38dceb2",
   "metadata": {},
   "outputs": [
    {
     "data": {
      "text/plain": [
       "((3, 4), array([ 5, 15, 18, 19, 16,  3,  2, 12,  6,  1, 16, 12]))"
      ]
     },
     "execution_count": 15,
     "metadata": {},
     "output_type": "execute_result"
    }
   ],
   "source": [
    "shape, arr_ravel = arr.shape, arr.ravel()\n",
    "shape, arr_ravel"
   ]
  },
  {
   "cell_type": "markdown",
   "id": "4db33020",
   "metadata": {},
   "source": [
    "**Boolean -> Basic (of flattened array)**"
   ]
  },
  {
   "cell_type": "code",
   "execution_count": 17,
   "id": "c77eb474",
   "metadata": {},
   "outputs": [],
   "source": [
    "basic_idx = np.flatnonzero(boolean_idx)"
   ]
  },
  {
   "cell_type": "markdown",
   "id": "9c1068b0",
   "metadata": {},
   "source": [
    "Įsitikinsime, kad tiek pradinio masyvo indeksacija, tiek suplokštinto masyvo indeksacija duos tuos pačius rezultatus"
   ]
  },
  {
   "cell_type": "code",
   "execution_count": 19,
   "id": "561355c7",
   "metadata": {},
   "outputs": [
    {
     "data": {
      "text/plain": [
       "(array([5, 3, 2, 6, 1]), array([5, 3, 2, 6, 1]))"
      ]
     },
     "execution_count": 19,
     "metadata": {},
     "output_type": "execute_result"
    }
   ],
   "source": [
    "arr_ravel[basic_idx], arr[boolean_idx] "
   ]
  },
  {
   "cell_type": "markdown",
   "id": "527daef7",
   "metadata": {},
   "source": [
    "**Advanced -> Basic (of flattened array)**"
   ]
  },
  {
   "cell_type": "markdown",
   "id": "79454516",
   "metadata": {},
   "source": [
    "Jeigu duota kiekvieno nario eilutė ir stulpelis, tai turėtų būti nesunku apskaičiuoti, kelintas tai yra narys lentelėje"
   ]
  },
  {
   "cell_type": "code",
   "execution_count": 25,
   "id": "1863c5e6",
   "metadata": {},
   "outputs": [
    {
     "name": "stdout",
     "output_type": "stream",
     "text": [
      "masyvo forma:\n",
      "* * * *\n",
      "* * * *\n",
      "* * * *\n",
      "\n",
      "eilučių indeksai:    [0 1 1 2 2]\n",
      "stulpelių indeksai:  [0 1 2 0 1]\n",
      "galutiniai indeksai: [0 5 6 8 9]\n"
     ]
    }
   ],
   "source": [
    "row, col = advanced_idx\n",
    "basic_idx = row * 4 + col\n",
    "print('masyvo forma:')\n",
    "print('* * * *\\n* * * *\\n* * * *\\n')\n",
    "print('eilučių indeksai:   ', row)\n",
    "print('stulpelių indeksai: ', col)\n",
    "print('galutiniai indeksai:', basic_idx)"
   ]
  },
  {
   "cell_type": "markdown",
   "id": "cd057795",
   "metadata": {},
   "source": [
    "Įsitikinsime, kad perėjimas iš vienos indeksacijos į kitą duos tuos pačius rezultatus"
   ]
  },
  {
   "cell_type": "code",
   "execution_count": 26,
   "id": "42ef4b69",
   "metadata": {},
   "outputs": [
    {
     "data": {
      "text/plain": [
       "(array([5, 3, 2, 6, 1]), array([5, 3, 2, 6, 1]))"
      ]
     },
     "execution_count": 26,
     "metadata": {},
     "output_type": "execute_result"
    }
   ],
   "source": [
    "arr_ravel[basic_idx], arr[advanced_idx] "
   ]
  },
  {
   "cell_type": "markdown",
   "id": "5a02d8cb",
   "metadata": {},
   "source": [
    "**Basic (of flattened array) -> Advanced**"
   ]
  },
  {
   "cell_type": "code",
   "execution_count": 30,
   "id": "5ce462c9",
   "metadata": {},
   "outputs": [
    {
     "data": {
      "text/plain": [
       "(array([0, 1, 1, 2, 2]), array([0, 1, 2, 0, 1]))"
      ]
     },
     "execution_count": 30,
     "metadata": {},
     "output_type": "execute_result"
    }
   ],
   "source": [
    "advanced_idx = basic_idx//4, basic_idx%4 # because shape[1] is 4\n",
    "advanced_idx"
   ]
  },
  {
   "cell_type": "markdown",
   "id": "ab04e1fa",
   "metadata": {},
   "source": [
    "Kitas būdas:"
   ]
  },
  {
   "cell_type": "code",
   "execution_count": 31,
   "id": "4e929dcb",
   "metadata": {},
   "outputs": [
    {
     "data": {
      "text/plain": [
       "(array([0, 1, 1, 2, 2]), array([0, 1, 2, 0, 1]))"
      ]
     },
     "execution_count": 31,
     "metadata": {},
     "output_type": "execute_result"
    }
   ],
   "source": [
    "np.divmod(basic_idx, 4)"
   ]
  },
  {
   "cell_type": "markdown",
   "id": "c9420ee6",
   "metadata": {},
   "source": [
    "**Basic (of flattened array) -> Boolean**"
   ]
  },
  {
   "cell_type": "markdown",
   "id": "d9ae74d8",
   "metadata": {},
   "source": [
    "Pirmas būdas - pirma rasti `advanced_idx`"
   ]
  },
  {
   "cell_type": "code",
   "execution_count": 34,
   "id": "61430fe5",
   "metadata": {},
   "outputs": [
    {
     "data": {
      "text/plain": [
       "array([[ True, False, False, False],\n",
       "       [False,  True,  True, False],\n",
       "       [ True,  True, False, False]])"
      ]
     },
     "execution_count": 34,
     "metadata": {},
     "output_type": "execute_result"
    }
   ],
   "source": [
    "boolean_idx = np.zeros(shape, dtype=bool)\n",
    "advanced_idx = np.divmod(basic_idx, 4)\n",
    "boolean_idx[advanced_idx] = True\n",
    "boolean_idx"
   ]
  },
  {
   "cell_type": "markdown",
   "id": "0a19b09a",
   "metadata": {},
   "source": [
    "Antras būdas - pakeitimus atlikti ant suplokštintos naujai sukurto masyvo versijos"
   ]
  },
  {
   "cell_type": "code",
   "execution_count": 35,
   "id": "04ac9779",
   "metadata": {},
   "outputs": [
    {
     "data": {
      "text/plain": [
       "array([[ True, False, False, False],\n",
       "       [False,  True,  True, False],\n",
       "       [ True,  True, False, False]])"
      ]
     },
     "execution_count": 35,
     "metadata": {},
     "output_type": "execute_result"
    }
   ],
   "source": [
    "boolean_idx = np.zeros_like(arr, dtype=bool)\n",
    "boolean_idx.ravel()[basic_idx] = True\n",
    "boolean_idx"
   ]
  }
 ],
 "metadata": {
  "kernelspec": {
   "display_name": "Python 3 (ipykernel)",
   "language": "python",
   "name": "python3"
  },
  "language_info": {
   "codemirror_mode": {
    "name": "ipython",
    "version": 3
   },
   "file_extension": ".py",
   "mimetype": "text/x-python",
   "name": "python",
   "nbconvert_exporter": "python",
   "pygments_lexer": "ipython3",
   "version": "3.9.7"
  }
 },
 "nbformat": 4,
 "nbformat_minor": 5
}
