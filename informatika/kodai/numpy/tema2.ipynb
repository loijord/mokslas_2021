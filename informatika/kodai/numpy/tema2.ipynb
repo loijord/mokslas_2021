{
 "cells": [
  {
   "cell_type": "markdown",
   "id": "021f6f54",
   "metadata": {},
   "source": [
    "# What is metadata of array?"
   ]
  },
  {
   "cell_type": "code",
   "execution_count": 13,
   "id": "6c492a7a",
   "metadata": {},
   "outputs": [
    {
     "data": {
      "text/plain": [
       "array([[0, 0, 7],\n",
       "       [4, 7, 0],\n",
       "       [9, 9, 4],\n",
       "       [4, 1, 8]], dtype=uint16)"
      ]
     },
     "execution_count": 13,
     "metadata": {},
     "output_type": "execute_result"
    }
   ],
   "source": [
    "import numpy as np\n",
    "arr = np.random.randint(10, size=(4, 3), dtype=np.uint16)\n",
    "arr"
   ]
  },
  {
   "cell_type": "markdown",
   "id": "a1362490",
   "metadata": {},
   "source": [
    "Tuple of array dimensions"
   ]
  },
  {
   "cell_type": "code",
   "execution_count": 14,
   "id": "e63d2fb0",
   "metadata": {},
   "outputs": [
    {
     "data": {
      "text/plain": [
       "(4, 3)"
      ]
     },
     "execution_count": 14,
     "metadata": {},
     "output_type": "execute_result"
    }
   ],
   "source": [
    "arr.shape"
   ]
  },
  {
   "cell_type": "markdown",
   "id": "eddc7959",
   "metadata": {},
   "source": [
    "Number of elements in the array"
   ]
  },
  {
   "cell_type": "code",
   "execution_count": 15,
   "id": "bcccd5a5",
   "metadata": {},
   "outputs": [
    {
     "data": {
      "text/plain": [
       "12"
      ]
     },
     "execution_count": 15,
     "metadata": {},
     "output_type": "execute_result"
    }
   ],
   "source": [
    "arr.size"
   ]
  },
  {
   "cell_type": "markdown",
   "id": "b62c4aee",
   "metadata": {},
   "source": [
    "Data-type of the array’s elements"
   ]
  },
  {
   "cell_type": "code",
   "execution_count": 16,
   "id": "0c9ce040",
   "metadata": {},
   "outputs": [
    {
     "data": {
      "text/plain": [
       "dtype('uint16')"
      ]
     },
     "execution_count": 16,
     "metadata": {},
     "output_type": "execute_result"
    }
   ],
   "source": [
    "arr.dtype"
   ]
  },
  {
   "cell_type": "markdown",
   "id": "3bb8c0da",
   "metadata": {},
   "source": [
    "Length of one array element in bytes"
   ]
  },
  {
   "cell_type": "code",
   "execution_count": 17,
   "id": "1183310b",
   "metadata": {},
   "outputs": [
    {
     "data": {
      "text/plain": [
       "2"
      ]
     },
     "execution_count": 17,
     "metadata": {},
     "output_type": "execute_result"
    }
   ],
   "source": [
    "arr.itemsize"
   ]
  },
  {
   "cell_type": "markdown",
   "id": "563e4d35",
   "metadata": {},
   "source": [
    "Total bytes consumed by the elements of the array"
   ]
  },
  {
   "cell_type": "code",
   "execution_count": 18,
   "id": "97644f2f",
   "metadata": {},
   "outputs": [
    {
     "data": {
      "text/plain": [
       "24"
      ]
     },
     "execution_count": 18,
     "metadata": {},
     "output_type": "execute_result"
    }
   ],
   "source": [
    "arr.nbytes"
   ]
  },
  {
   "cell_type": "markdown",
   "id": "8c65ee60",
   "metadata": {},
   "source": [
    "Machine limits for integer type `np.uint8`"
   ]
  },
  {
   "cell_type": "code",
   "execution_count": 76,
   "id": "e70b39a1",
   "metadata": {},
   "outputs": [
    {
     "data": {
      "text/plain": [
       "iinfo(min=0, max=255, dtype=uint8)"
      ]
     },
     "execution_count": 76,
     "metadata": {},
     "output_type": "execute_result"
    }
   ],
   "source": [
    "np.iinfo(np.uint8)"
   ]
  },
  {
   "cell_type": "markdown",
   "id": "a95f7818",
   "metadata": {},
   "source": [
    "A role of machine limits"
   ]
  },
  {
   "cell_type": "code",
   "execution_count": 144,
   "id": "fa1d59b3",
   "metadata": {},
   "outputs": [
    {
     "name": "stdout",
     "output_type": "stream",
     "text": [
      "[255 254 253]\n",
      "[  1   0 255]\n"
     ]
    }
   ],
   "source": [
    "x1 = np.array([255,254,253], dtype=np.uint8)\n",
    "x2 = x1 + 2\n",
    "print(x1)\n",
    "print(x2)"
   ]
  },
  {
   "cell_type": "markdown",
   "id": "0ee315d4",
   "metadata": {},
   "source": [
    "And this is what happens with bits. There's simply no space to keep numbers larger than 255!"
   ]
  },
  {
   "cell_type": "code",
   "execution_count": 152,
   "id": "13a4b91f",
   "metadata": {},
   "outputs": [
    {
     "name": "stdout",
     "output_type": "stream",
     "text": [
      "[[1 1 1 1 1 1 1 1]\n",
      " [1 1 1 1 1 1 1 0]\n",
      " [1 1 1 1 1 1 0 1]]\n"
     ]
    }
   ],
   "source": [
    "print(np.unpackbits(x1).reshape(-1, 8))"
   ]
  },
  {
   "cell_type": "code",
   "execution_count": 153,
   "id": "017ecd7a",
   "metadata": {},
   "outputs": [
    {
     "name": "stdout",
     "output_type": "stream",
     "text": [
      "[[0 0 0 0 0 0 0 1]\n",
      " [0 0 0 0 0 0 0 0]\n",
      " [1 1 1 1 1 1 1 1]]\n"
     ]
    }
   ],
   "source": [
    "print(np.unpackbits(x2).reshape(-1, 8))"
   ]
  }
 ],
 "metadata": {
  "kernelspec": {
   "display_name": "Python 3 (ipykernel)",
   "language": "python",
   "name": "python3"
  },
  "language_info": {
   "codemirror_mode": {
    "name": "ipython",
    "version": 3
   },
   "file_extension": ".py",
   "mimetype": "text/x-python",
   "name": "python",
   "nbconvert_exporter": "python",
   "pygments_lexer": "ipython3",
   "version": "3.9.7"
  }
 },
 "nbformat": 4,
 "nbformat_minor": 5
}
