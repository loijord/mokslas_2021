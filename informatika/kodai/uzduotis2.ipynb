{
 "cells": [
  {
   "cell_type": "markdown",
   "id": "cac5361d",
   "metadata": {},
   "source": [
    "Ankstesnėje užduotyje gvildenome, kas yra vardo priskyrimas objektui, tad šioje užduotyje stengsimės kuo daugiau išsiaiškinti apie savybes, kurias turi objektai. Nieko nelaukę imkime ir sukurkime 11 skirtingų objektų:"
   ]
  },
  {
   "cell_type": "code",
   "execution_count": 59,
   "id": "411c9933",
   "metadata": {},
   "outputs": [],
   "source": [
    "a0 = 3.56\n",
    "a1 = 3\n",
    "a2 = 'sveiki'\n",
    "a3= [8,7,5]\n",
    "a4 = (8,6,7)\n",
    "a5 = set([8,7,5])\n",
    "a6 = {'I':'aš', 'can':'galiu', 'code':'programuoti'}\n",
    "a7 = 6>7\n",
    "\n",
    "import numpy as np\n",
    "a8 = np.array([7,8,9])\n",
    "\n",
    "def a9(x,y):\n",
    "    return x+y\n",
    "\n",
    "class NewType:\n",
    "    def __init__(self, a, b, c):\n",
    "        self.a = a\n",
    "        self.b = b\n",
    "        self.c = c\n",
    "    def add(self, other):\n",
    "        return NewType(self.a+other.a, \n",
    "                       self.b+other.b,\n",
    "                       self.c+other.c)\n",
    "\n",
    "a10 = NewType(7,8,9)"
   ]
  },
  {
   "cell_type": "markdown",
   "id": "bcd2c46b",
   "metadata": {},
   "source": [
    "Šie objektai turi skirtingus vardus ir tipus. Taip pat tam tikras operacijas arba metodus, kuriuos galima atlikti su vienu arba keliais objektais. Kiekvienam objektų tipui galimos operacijos ir metodai skiriasi."
   ]
  },
  {
   "cell_type": "markdown",
   "id": "4dfa2a1a",
   "metadata": {},
   "source": [
    "## Savarankiškas darbas sąsiuviniuose\n",
    "**Svarbu!** Šioje užduotyje bus labai daug kūrybinio darbo: žaidimo su kodu ir dokumentacijų skaitymo. Tačiau šio darbo rezultatai labai svarbūs, todėl daugumą pratimų atlikite į sąsiuvinius. "
   ]
  },
  {
   "cell_type": "markdown",
   "id": "a369ea48",
   "metadata": {},
   "source": [
    "## Objektų tipai\n",
    "2.1 Paleiskite žemiau pateiktą kodą, skirtą patikrinti objektų tipus. Kas atliekama kiekviename šio kodo žingsnyje (užsirašyti nebūtina)?  "
   ]
  },
  {
   "cell_type": "code",
   "execution_count": null,
   "id": "ef1db2aa",
   "metadata": {},
   "outputs": [],
   "source": [
    "objects = [a0, a1, a2, a3, a4, a5, a6, a7, a8, a9, a10]\n",
    "for obj in objects:\n",
    "    print(f'Objektas: {obj}, tipas: {type(obj).__name__}')"
   ]
  },
  {
   "cell_type": "markdown",
   "id": "904cf412",
   "metadata": {},
   "source": [
    "Dabar komandą `type(obj).__name__` pakeiskite į `type(obj)`. Ką pastebėjote?  \n",
    "Užsirašykite į sąsiuvinį paleisto kodo rezultatus.\n",
    "\n",
    "***Pvz.***\n",
    "* `{'I': 'aš', 'can': 'galiu', 'code': 'programuoti'}` yra `dict` tipo objektas\n",
    "* ..."
   ]
  },
  {
   "cell_type": "markdown",
   "id": "a858c93e",
   "metadata": {},
   "source": [
    "## Objektų tipų keitimas\n",
    "Objektų tipų pavadinimai labai dažnai sutampa su metodų, skirtų sukonstruoti naujo tipo kintamuosius, pavadinimais. Pavyzdžiui `list` yra ir objekto `[8, 6, 7]` tipas ir metodas, leidžiantis žodį `labas` paversti į šio tipo objektų `['l', 'a', 'b', 'a', 's']`, kai naudojame komandą `list('labas')`. Paleiskite kodą, kuris atspausdina ekrane visus galimus objektų tipų pakeitimus:"
   ]
  },
  {
   "cell_type": "code",
   "execution_count": null,
   "id": "ba429d04",
   "metadata": {},
   "outputs": [],
   "source": [
    "objects = [a0, a1, a2, a3, a4, a5, a6, a7, a8, a9, a10]\n",
    "classes = [float, int, str, list, tuple, set, dict, bool, np.array, NewType]\n",
    "\n",
    "def fix_typo(obj):\n",
    "    '''returns \"name\" if object is str, name otherwise (no quotation marks)'''\n",
    "    if type(obj) is str:\n",
    "        return f\"'{obj}'\"\n",
    "    else:\n",
    "        return obj\n",
    "    \n",
    "for class_name in classes:\n",
    "    for obj in objects:\n",
    "        if class_name.__name__ != type(obj).__name__:\n",
    "            try:\n",
    "                print(f'\"{class_name.__name__}({fix_typo(obj)})\" takes an object {fix_typo(obj)} of \"{type(obj).__name__}\" \\\n",
    "type and changes its type into \"{class_name.__name__}\"\\nOUTPUT: {fix_typo(class_name(obj))}')\n",
    "            except BaseException as error: pass\n",
    "    print('=' * 100)"
   ]
  },
  {
   "cell_type": "markdown",
   "id": "7439e84b",
   "metadata": {},
   "source": [
    "2.2 Išnagrinėję šio kodo output'ą turėtumėte gebėti atsakyti, kokius objektų tipus galima paversti į `float`, `int`, `str`, `list`, `tuple`, `set`, `dict`, `bool`, `array` tipus ir kokio tikėtis rezultato. Sąsiuvinyje kiekvienam iš šių tipų užsirašykite:\n",
    "  * kokius objektų tipus galima pakeisti į šį tipą?\n",
    "  * kokius panašumus tarp jų pamatėte (jei pamatėte)\n",
    "  * kokio tikėtis keitimo rezultato  \n",
    "  \n",
    "***Pvz.***  \n",
    "  * Į `str` tipą galima pakeisti bet kurių tipų objektus. Rezultatas parodomas uždedant kabutes.  \n",
    "  * Į `list` tipą galima keisti tik objektus, kuriuose matosi tam tikri nariai: `str`, `tuple`, `set`, `dict`, `ndarray` tipų. Įprastai užrašomas tų narių sąrašas, išskyrus `dict` tipo objektą: tada sudaromas sąrašas, sudarytas vien iš raktų (keys).\n",
    "  * ...\n",
    "\n",
    "## Operacijos\n",
    "\n",
    "2.3 Raskite visus objektus iš sąrašo `objects = [a0, a1, a2, a3, a4, a5, a6, a7, a8, a9, a10]`, kurie palaiko sudėties su savimi operaciją. \n",
    "  * Užrašykite savo sąsiuvinyje visus tokius objektus ir šios operacijos rezultatą\n",
    "  * Ar yra skirtingų tipų objektų, kurie gali būti sudedami? Jei taip, užrašykite taip pat ir jų sudėties rezultatus\n",
    "\n",
    "***Pvz.***  \n",
    "  * 3.56 + 3.56 = 7.12\n",
    "  * ...\n",
    "  \n",
    "2.4 Kiekvienam objektui iš sąrašo `objects = [a0, a1, a2, a3, a4, a5, a6, a7, a8, a9, a10]` raskite objektus iš to paties sąrašo (nebūtinai skirtingus), su kuriais galima atlikti `+`, `-`, `/`, `//`, `%`, `*` operacijas ir užsirašykite jų rezultatus. Savais žodžiais apibendrinkite svarbiausius pastebėjimus ir užsirašykite juos į sąsiuvinį.\n",
    "\n",
    "***Pvz.***  \n",
    "  * `[8, 7, 5] + [8, 7, 5] = [8, 7, 5, 8, 7, 5]` (sudedant du `list`us vienas jų pratęsiamas antru)\n",
    "  * `[8, 7, 5] * 3 = [8, 7, 5, 8, 7, 5, 8, 7, 5]` (dauginant `list`ą gaunamas kitas `list` su pasikartojančiomis dalimis)\n",
    "  *  `set([8,7,5]) - set([8,7,5]) = set()` (aibių skirtumas reiškia antros aibės narių pašalinimą iš pirmos aibės)\n",
    "  * ...\n",
    "\n",
    "\n",
    "## `built-in` metodai\n",
    "[Python dokumentacijoje](https://docs.python.org/3.8/library/functions.html) yra pateikiamas visų `built-in` (įtaisytųjų) metodų sąrašas. Ką atlieka metodai `'bool', 'dict', 'float', 'int', 'list', 'set', 'str', 'tuple'`, jau išsiaiškinti pavyko. Taip pat turėtumėte būti susipažinę su pagrindinėmis objektų nagrinėjimo komandomis `['help', 'type', 'print']`. Štai kiti metodai, apie kurių egzistavimą vertinga žinoti:\n",
    "\n",
    "* **Metodai, atliekami su vienu skaičiumi:** `['abs', 'chr', 'bin', 'oct', 'hex', 'ord']`\n",
    "* **Metodai, atliekami su dviem skaičiais:** `['divmod', 'pow', 'round']`\n",
    "* **Iteratorių sudarymo ir iteravimo komandos:** `['enumerate', 'filter', 'map', 'next', 'iter', 'range', 'reversed', 'zip']`\n",
    "* **Iteruojamų objektų komandos:** `['max', 'min', 'sum', 'len', 'sorted', 'all', 'any']`\n",
    "\n",
    "2.5 Kiekvienam iš šių 24 metodų užsirašykite:\n",
    "  * ką jis atlieka (savais žodžiais)\n",
    "  * bent po vieną jo taikymo pavyzdį  \n",
    "\n",
    "Darydami užduotį galite remtis [šia nuoroda](https://www.w3schools.com/python/python_ref_functions.asp). Galbūt bus paprasčiau šią užduotį iškart atlikti ne sąsiuvinyje, o notebookuos'e, nes aprašinėjant kodą, jį galima taip pat ir vykdyti?\n",
    "\n",
    "**Pvz., jei darote sąsiuvinyje:**\n",
    "\n",
    "* `f = filter(lambda x: x >= 3, [1, 3, 2, 4, 5, 7, -1, 4])` - sukuria iteratorių, kuriame yra nariai, nemažesni už 3  \n",
    "   `list(f)` - norint pamatyti rezultatą, reikia pakeisti į `list`  \n",
    "   `>>> [3, 4, 5, 7, 4]`\n",
    "\n",
    "**Pvz., jei darote notebook'uose:**  \n",
    "\n",
    "* *`filter` sukuria iteratorių, kuriame yra nariai, tenkinantys tam tikrą sąlygą*"
   ]
  },
  {
   "cell_type": "code",
   "execution_count": 96,
   "id": "e1535fea",
   "metadata": {},
   "outputs": [
    {
     "name": "stdout",
     "output_type": "stream",
     "text": [
      "iteratorius: <filter object at 0x000002370AE5B670>\n",
      "iteratorius, paverstas sąrašu: [3, 4, 5, 7, 4]\n"
     ]
    }
   ],
   "source": [
    "my_list = [1, 3, 2, 4, 5, 7, -1, 4]\n",
    "iterator = filter(lambda x: x >= 3, my_list) #make an iterator\n",
    "listed_iterator = list(iterator) #change into a list\n",
    "print(f'iteratorius: {iterator}') \n",
    "print(f'iteratorius, paverstas sąrašu: {listed_iterator}')"
   ]
  },
  {
   "cell_type": "markdown",
   "id": "407e7d3b",
   "metadata": {},
   "source": [
    "Kiti, ne taip dažnai naudojami `built-in` metodai, kuriais galite pasidomėti papildomai:\n",
    "\n",
    "* `['callable', 'isinstance', 'vars', 'repr', 'dir']`\n",
    "* `['getattr', 'delattr', 'setattr', 'hasattr']`\n",
    "* `['globals', 'locals']`\n",
    "* `['bytes', 'bytearray', 'frozenset', 'slice', 'complex']`\n",
    "* `['eval', 'exec', 'open']`\n",
    "\n",
    "## Metodai\n",
    "2.6 Kiekvienam objektui iš sąrašo `objects = [a0, a1, a2, a3, a4, a5, a6, a7, a8, a9, a10]`:\n",
    "  * suraskite bent po vieną metodą (bet šįkart jau ne operaciją), atliekamą tarp jo ir kito tokio paties tipo objekto.\n",
    "  * užsirašykite rezultatą ir paaiškinimą, ką ši operacija atlieka\n",
    "  \n",
    "**Pvz.** žr. 2.4 užduotį \n",
    "\n",
    "2.7 Kiekvienam objektui iš pateikto sąrašo `objects = [a0, a1, a2, a3, a4, a5, a6, a7, a8, a9, a10]`:\n",
    "  * suraskite bent vieną `built-in` ir vieną ne `built-in` metodą, taikomą tik šiam vienam objektui\n",
    "  * užsirašykite paaiškinimus, ką jie atlieka\n",
    "  \n",
    "**Pvz.** \n",
    "* Sąrašą `X = [8, 7, 5]` galima surūšiuoti naodojant `sorted(X)` arba papildyti nariu `10` naudojant `X.append(10)`"
   ]
  }
 ],
 "metadata": {
  "kernelspec": {
   "display_name": "Python 3",
   "language": "python",
   "name": "python3"
  },
  "language_info": {
   "codemirror_mode": {
    "name": "ipython",
    "version": 3
   },
   "file_extension": ".py",
   "mimetype": "text/x-python",
   "name": "python",
   "nbconvert_exporter": "python",
   "pygments_lexer": "ipython3",
   "version": "3.8.8"
  }
 },
 "nbformat": 4,
 "nbformat_minor": 5
}
