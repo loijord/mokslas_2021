{
 "cells": [
  {
   "cell_type": "markdown",
   "id": "a858c93e",
   "metadata": {},
   "source": [
    "# Kintamieji ir jų tipai"
   ]
  },
  {
   "cell_type": "markdown",
   "id": "564ab1c6",
   "metadata": {},
   "source": [
    "2) Naudodami `type` komandą išsiaiškinkite šiuos tipus patys\n",
    "\n",
    "3) Sugalvokite kuo daugiau veikiančių komandų, kurios verčia vieną tipą į kitą\n",
    "\n",
    "4) Raskite kuo daugiau pavyzdžių, kai du kintamuosius leidžiama sudėti\n",
    "\n",
    "### Operacijos, metodai, funkcijos\n",
    "Kiekvienas kintamasis turi tam tikrą rinkinį operacijų, metodų ir `built-in` funkcijų, ką su juo leidžiama daryti. \n",
    "\n",
    "5) Kiekvienam kintamajam suraskite bent po vieną operaciją, atliekamą tarp jo ir kito tokio paties kintamojo.\n",
    "\n",
    "6) Kokias [`built-in`](https://docs.python.org/3/library/functions.html) funkcijas leidžiama su juo daryti?\n",
    "\n",
    "7) Kokius metodus galima jam iškviesti, ką jie atlieka?\n",
    "\n",
    "Tarkime `a = [3,5,7]`\n",
    "* Operacijos pavyzdys: `a * 5`\n",
    "* Metodo pavyzdys: `a.append(5)`\n",
    "* Funkcijos/metodo pavyzdys: `tuple(a)`\n",
    "\n",
    "Tarkime `b = -3`\n",
    "* Operacijos pavyzdžiai: `b * 5`, `b%3`, `b/2`, `b//2`\n",
    "* Metodo pavyzdys: `b.append(5)`\n",
    "* Funkcijos/metodo pavyzdys: `b.bit_length()`"
   ]
  },
  {
   "cell_type": "code",
   "execution_count": null,
   "id": "42347660",
   "metadata": {},
   "outputs": [],
   "source": [
    "a0 = 3.56\n",
    "a1 = 3\n",
    "a2 = 'ę'\n",
    "a3= [8,7,5]\n",
    "a4 = (8,6,7)\n",
    "a5 = set([8,7,5])\n",
    "a6 = {'I':'aš', 'can':'galiu', 'code':'programuoti'}\n",
    "\n",
    "import numpy as np\n",
    "a7 = np.array([7,8,9])\n",
    "\n",
    "class NewType:\n",
    "    def __init__(self, a, b, c):\n",
    "        self.a = a\n",
    "        self.b = b\n",
    "        self.c = c\n",
    "    def add(self, other):\n",
    "        return NewType(self.a+other.a, \n",
    "                       self.b+other.b,\n",
    "                       self.c+other.c)\n",
    "        \n",
    "a8 = NewType(7,8,9)\n",
    "\n",
    "def a9(x,y):\n",
    "    return x+y\n",
    "\n",
    "a10 = 6>7"
   ]
  }
 ],
 "metadata": {
  "kernelspec": {
   "display_name": "Python 3",
   "language": "python",
   "name": "python3"
  },
  "language_info": {
   "codemirror_mode": {
    "name": "ipython",
    "version": 3
   },
   "file_extension": ".py",
   "mimetype": "text/x-python",
   "name": "python",
   "nbconvert_exporter": "python",
   "pygments_lexer": "ipython3",
   "version": "3.8.8"
  }
 },
 "nbformat": 4,
 "nbformat_minor": 5
}
