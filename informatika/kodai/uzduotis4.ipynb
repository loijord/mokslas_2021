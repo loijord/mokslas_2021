{
 "cells": [
  {
   "cell_type": "markdown",
   "id": "8825d5d1",
   "metadata": {},
   "source": [
    "Kiekvienas didelę patirtį sukaupęs savo dalyko mokytojas turi susiformavusį požiūrį apie tai, koks jo galva turėtų būti sėkmingo darbo receptas norint bet kuriam moksleiviui išmokti jo dalyką. Vienoks jis bus literatūroje, kitoks, bet gal panašus jis bus biologijoje ar istorijoje, o fizikoje ir matematikoje taip pat panašus, bet labai daug kuo ir skiriasi (tik baigęs mokyklą Simonas suprato, kad būtent dėl šių skirtumų fizika į mokymosi galą jam ėmė sektis vis prasčiau). Įdomu, kad netgi ne vieną dešimtį išdirbusių mokytojų požiūris apie tai, ką turi daryti moksleivis, norėdamas išmokti jo dalyką, vis dar gali formuotis ar net keistis.\n",
    "\n",
    "Mokantis programavimo šitas klausimas neaplenkia - tai tikrai sudėtinga specialybė. Kaip atrodė šios srities profesionalų, gaunančių dideles algas, mokymasis mokykloje ir ką jie darė, kad pasiektų dabartinį rezultatą? Toks klausimas turėtų kankinti bet kurį kritiškai mąstantį moksleivį, susiduriantį su nežinia, aplankančia programavimo mokymosi pradžioje.\n",
    "\n",
    "Į jį galima atsakyti paprastai, žvelgiant iš Simono, turinčio 10 metų Python programavimo patirtį, varpinės.\n",
    "\n",
    "* *Pirmiausia jūs turite susipažinti su pagrindiniais Python kalbos objektais, jų tipais, operacijomis ir metodais*\n",
    "* *Tuo pat metu reiktų pradėti pažintį su algoritmais pradedant nuo paprasčiausių ir mažais žingsneliais einant link sudėtingesnių.*\n",
    "* *Geriausia įsiminti algoritmus iš pradžių padeda algoritmų schemų braižymas; vėlesnėje mokymosi eigoje šios schemos tampa nebereikalingos ir sudėtingus algoritmus vykdančius kodus galime rašyti apsieidami be jų.*\n",
    "* *Mokymosi metu reikia susipažinti ne tik su begale algoritmų, bet taip pat ir perprasti ne ką mažiau Python kalbos sintaksės bei komandų. **Algoritmas** - tai aiškūs ir tikslūs nurodymai, kaip ir kokių veiksmų seką turi įvykdyti kompiuteris, kad suformuluotam uždaviniui rastų reikalaujamą rezultatą.*\n",
    "* *Pats efektyviausias mokymosi būdas, norint perprasti Python sintaksę bei komandas yra spręsti kuo daugiau ir kuo įdomesnių uždavinukų. Svarbiausia išspręsti kuo daugiau jų per kuo trumpesnį mokymuisi skirtą laiką. Tam labai padeda geimifikacija (pvz. CodeSignal žaidimo stilius). Taip pat svarbu nepriprasti prie klaidingo įstikinimo, kad algoritmų, komandų ir sintaksės kalimas gali būti pakaitalas uždavinių sprendimui.*\n",
    "* *Ir tai - viskas, ko reikia norint pasiekti aukštus rezultatus baigiant mokyklą. Tiesa, sprendžiant uždavinius virš 90% laiko užima klaidų taisymas. Kiekviena klaida iš pradžių kainuoja labai daug laiko ją išsiaiškinti ir ištaisyti, bet būtent klaidos ir yra tai, kas skatina iš jų mokytis ir ugdo discipliną mąstyti kuo švariau, kodą rašyti kuo tiksliau.*\n",
    "\n",
    "Tačiau ar žinojimas, kaip reikia mokytis šią discipliną, padės ją išmokti? Visoms disciplinoms atsakymas yra beveik vienodas: tik tuo atveju, jei patys aktyviai dalyvaujame mokymosi procese, o ne mąstome, kaip čia dabar šitą dalyką išmokti. Programavimo atveju uždavinių sprendimas - pagrindinis šio dalyko akcentas. Nusimanymas šioje srityje išsprendus pakankamai daug uždavinių aplankys jus savaime, be ilgų apmąstymų, kodėl vis dar žinome tiek nedaug. Tai bus jūsų vertas apdovanojimas už įdėtą ilgą ir kruopštų darbą."
   ]
  },
  {
   "cell_type": "markdown",
   "id": "23056be7",
   "metadata": {},
   "source": [
    "Šios užduoties tikslas - išmokti elgtis su savo ar kitų parašytu kodu, t.y. suprasti:\n",
    "    \n",
    "* Ką daro parašyta programa?\n",
    "* Koks parašytos programos veikimo algoritmas?\n",
    "* Ką daro atskiri programos kodo fragmentai?\n",
    "* Ar programa veikia taip, kaip tikimasi?\n",
    "\n",
    "Norint atsakyti į kiekvieną iš šių klausimų reikėtų imtis tam tikrų veiksmų, atliekamų nepriklausomai nuo jūsų žinių lygio."
   ]
  },
  {
   "cell_type": "markdown",
   "id": "c83e3c62",
   "metadata": {},
   "source": [
    "## Ką daro parašyta programa?\n",
    "Nagrinėkime programą, paimtą iš [anglų kalbos žodžių kartojimo projekto](../projektai/repetitor/kartojimas_anglu.ipynb). Projekte paminėta, kad šiame kode bus apibrėžiama funkcija (metodas), kuri ne tik parodo atsitiktinį žodį, bet ir paklausia atsakymo:\n",
    "\n",
    "    import random\n",
    "    \n",
    "    def duok_žodį2(words):\n",
    "        w = random.choice(list(words.keys()))\n",
    "        r = input(f'išversk: {w}|')\n",
    "        \n",
    "    words = {'tai':'this', \n",
    "    'yra':'is',\n",
    "    'būdas':'way',\n",
    "    'mokytis':'learn',\n",
    "    'anglų':'yngliš',\n",
    "    'mintinai':'by heart'}\n",
    "    \n",
    "    duok_žodį2(words)\n",
    "    \n",
    "Ar jau galime pasakyti, ką daro ši programa? Beveik. Iš kodo kol kas negalime, tačiau projekto dokumentacija pateikia paaiškinimą: *programa parodo atsitiktinį žodį ir paklausia atsakymo* (t.y. vertimo). Norėdami tuo įsitikinti paleidžiame kodą pas save ir gauname:\n",
    "\n",
    "$\\phantom{xxx}\\texttt{išversk: mintinai|}\\boxed{\\phantom{xxxxxxxxx}}$\n",
    "\n",
    "Iš tiesų, parodomas žodis ir paprašoma į laukelį įvesti vertimą. O kaip turėtų atrodyti kodas, kurį skaitant būtų aišku, ką jis daro neieškant atsakymo dokumentacijoje ir nebandant suprasti kode atliekamų metodų? Įprastai tokiais atvejais naudojamas [komentavimas](https://www.w3schools.com/python/python_comments.asp) naudojant `#` simbolį. Funkcijų (kitaip metodų) apibrėžimuose vietoj šio simbolio įprasta naudoti [dokumentacines eilutes](https://www.programiz.com/python-programming/docstrings), rašomas tarp šių kabučių: `'''`. Štai taip turėtų atrodyti kodas su tvarkingai parašytais paaiškinimais:\n",
    "\n",
    "    import random\n",
    "\n",
    "    def duok_žodį2(words):\n",
    "        '''Takes in a word bank (words), displays a random word and ask for an answer'''\n",
    "        w = random.choice(list(words.keys())) #make a random word\n",
    "        r = input(f'išversk: {w}|') #ask to translate it\n",
    "\n",
    "    #Type your word bank here:\n",
    "    words = {'tai':'this', \n",
    "    'yra':'is',\n",
    "    'būdas':'way',\n",
    "    'mokytis':'learn',\n",
    "    'anglų':'yngliš',\n",
    "    'mintinai':'by heart'}\n",
    "\n",
    "    duok_žodį2(words) #call a method defined above\n",
    "    \n",
    "Stenkimės taip pat laikytis nerašytos taisyklės, kurios laikosi profesionalūs programuotojai: kodas ir komentarai turi būti rašomi anglų kalba. Remiantis šia taisykle net gi reikėtų pakeisti ir funkcijos pavadinimą į `give_word2`\n",
    "\n",
    "Python kalboje taip pat yra metodas `help`, skirtas išsiaiškinti, ką daro metodas, apie kurį norime sužinoti. Jei funkcija `duok_žodį2` turi dokumentacinę eilutę, ji turėtų matytis ir iškvietus `help` metodą:"
   ]
  },
  {
   "cell_type": "code",
   "execution_count": 3,
   "id": "799ff00b",
   "metadata": {},
   "outputs": [
    {
     "name": "stdout",
     "output_type": "stream",
     "text": [
      "Help on function duok_žodį2 in module __main__:\n",
      "\n",
      "duok_žodį2(words)\n",
      "    Takes in a word bank (words), displays a random word and ask for an answer\n",
      "\n"
     ]
    }
   ],
   "source": [
    "help(duok_žodį2)"
   ]
  },
  {
   "cell_type": "markdown",
   "id": "b5c5d551",
   "metadata": {},
   "source": [
    "**Apibendrinkime būdus, pagal kuriuos galime išsiaiškinti, ką daro parašyta programa:**\n",
    "* Skaityti dokumentaciją\n",
    "* Skaityti komentarus kode\n",
    "* Pasileisti kodą patiems\n",
    "* Remtis `help` metodu\n",
    "\n",
    "**Nerašytos taisyklės: jei programą rašome patys, tai turime daryti taip, kad jį galėtų suprasti bet kas, o visi komentarai, ir kode esantys kintamieji bei metodai turi būti rašomi anglų kalba**"
   ]
  },
  {
   "cell_type": "markdown",
   "id": "e2f753e9",
   "metadata": {},
   "source": [
    "## Koks parašytos programos veikimo algoritmas?\n",
    "Algoritmas - tai aiškūs ir tikslūs nurodymai, kaip ir kokių veiksmų seką turi įvykdyti kompiuteris, kad suformuluotam uždaviniui rastų reikalaujamą rezultatą. Pavyzdžiui anksčiau nagrinėtos programos metode turime dvi eilutes:\n",
    "\n",
    "    w = random.choice(list(words.keys())) #make a random word\n",
    "    r = input(f'išversk: {w}|') #ask to translate it\n",
    "    \n",
    "Iš jų matyti, kad algoritmą sudaro du pagrindiniai žingsniai: atstiktinio žodžio sudarymas ir paklausimas jį išversti (jei nesigiliname, kas daroma šių žingsnių viduje). Dauguma algoritmų, kuriuos mokysimės, bus gerokai sudėtingesni. Pavyzdžiui projekte apie [piktąjį matematikos mokytoją](../projektai/vidurkiai/vidurkiai.ipynb) sutinkame metodą, kuris sudaugina visus skaičius iš pateikto sąrašo:\n",
    "\n",
    "    def prod(X):\n",
    "        a = X[0]\n",
    "        for n in X[1:]:\n",
    "            a = a * n\n",
    "        return a\n",
    "    X = [1, 2, 3, 4, 5]\n",
    "    prod(X)\n",
    "    >>> 120\n",
    "        \n",
    "Ar skaitant kiekvieną šio kodo eilutes matyti, kas joje atliekama? Jeigu sintaksė daugmaž aiški, turėtų matytis štai toks algoritmas:\n",
    "* Kintamajam `a` priskirti pirmąjį skaičių sąrašo `X` narį\n",
    "* Kiekvienam tolimesniam sąrašo nariui kintamąjį `a` padauginti iš jo\n",
    "* Grąžinti galutinę kintamojo `a` reikšmę\n",
    "\n",
    "Jeigu matote, kad koks nors jūsų nagrinėjamas algoritmas yra jums per painus ir negalite jo suprasti iš kodo komentarų, vienintelis kelias jį suprasti yra leisti kodą [debug'inimo](https://www.facebook.com/simonas.mamaitis/posts/3465308566834345) režime arba naudojant jį atliekančius įrankius (deja, notebook'ai jų nepalaiko). Debugging - tai procesas, kurio metu kodas vykdomas kiekviename žingsnyje sustojant ir nagrinėjant kintamųjų reikšmes. Jo tikslas yra kode aptikti klaidas, tačiau galima jį naudoti ir aiškinantis, kaip veikia kodas. Labai geras tam skirtas įrankis yra [Python Tutor](https://pythontutor.com/), per jį ir galite leisti savo kodus. \n",
    "\n",
    "Jei gerai suprantate, ką turi atlikti kodas, kartais pravartu įsivaizduoti, kaip turėtų atrodyti jūsų pačių sugalvotas algoritmas jam įvykdyti. Jei šį algoritmą lengvai įsivaizduojame ir jis sutampa su algoritmu, naudojamu jau parašytame kode, tai aiškinimose procesas gerokai palengvėja.\n",
    "\n",
    "**Apibendrinkime būdus, pagal kuriuos galime išsiaiškinti parašytos programos veikimo algoritmą**\n",
    "* nagrinėti kodo turinį, skaityti jo komentarus\n",
    "* debuggint'i kodą su [Python Tutor](https://pythontutor.com/) arba mintyse\n",
    "* pamėginti įsivaizduoti, kokį algoritmą naudotumėte patys ir palyginti jį su naudojamu kode"
   ]
  },
  {
   "cell_type": "markdown",
   "id": "32c30b6f",
   "metadata": {},
   "source": [
    "## Ką daro atskiri programos kodo fragmentai?\n",
    "\n",
    "Šis klausimas dažnai iškyla, kai bandome savo kode aptikti klaidas. Spręsdami matematikos uždavinius dažnai tikriname, ar atliktų veiksmų reikšmės sutampa su teisingomis, ar reiškinių pertvarkymai teisingi ir pan. Beveik niekada nesikeičia keičiamų objektų tipas: pertvarkyta lygtis turi išlikti lygtimi, reiškiniai lieka reiškiniais ir pan. Tas pats turėtų galioti ir programavime išskyrus tuos atvejus, kai kintamųjų tipai yra keičiami dirbtinai. Vis dėlto, įsitikinti, kad kintamojo reikšmė sutampa su ta, kurios tikimės, nepakanka. **Tipų tikrinimas - ne mažiau svarbus**. Daugybė klaidų programuojant Python kyla dėl to, kad pamirštame atsižvelgti į kintamųjų tipus. \n",
    "\n",
    "**Pavyzdys 1.**\n",
    "\n",
    "    a = input('Įveskite sveikąjį skaičių: ')\n",
    "    b = a % 2 #kintamajam b priskiriama skaičiaus liekana dalijant iš dviejų\n",
    "    \n",
    "Šis kodas užlūžta ties antra eilute su klaida `\n",
    "TypeError: not all arguments converted during string formatting`.\\\n",
    "Neatkreipėme dėmesio, kad kintamojo `a` tipas yra blogas. Jį galima patikrinti taip pakeitus kodą: "
   ]
  },
  {
   "cell_type": "code",
   "execution_count": 5,
   "id": "654bfc2d",
   "metadata": {},
   "outputs": [
    {
     "name": "stdout",
     "output_type": "stream",
     "text": [
      "Įveskite sveikąjį skaičių: 6\n"
     ]
    },
    {
     "data": {
      "text/plain": [
       "str"
      ]
     },
     "execution_count": 5,
     "metadata": {},
     "output_type": "execute_result"
    }
   ],
   "source": [
    "a = input('Įveskite sveikąjį skaičių: ')\n",
    "#b = a % 2 #kintamajam b priskiriama skaičiaus liekana dalijant iš dviejų\n",
    "type(a)"
   ]
  },
  {
   "cell_type": "markdown",
   "id": "1ba3b3eb",
   "metadata": {},
   "source": [
    "Nieko keisto, kad toliau kodas neveikia, nes `str` tipas `%` operacijos nepalaiko."
   ]
  },
  {
   "cell_type": "markdown",
   "id": "8737d23f",
   "metadata": {},
   "source": [
    "**Pavyzdys 2.**\n",
    "\n",
    "    a = [1, 2, 3]\n",
    "    a[1] = 100\n",
    "    b = (1, 2, 3)\n",
    "    b[1] = 100"
   ]
  },
  {
   "cell_type": "markdown",
   "id": "71bb0288",
   "metadata": {},
   "source": [
    "Šis kodas nulūžta ties 4 eilute su klaida: `TypeError: 'tuple' object does not support item assignment`\\\n",
    "Pasižiūrėkime, kokie kintamųjų `a` ir `b` tipai ir kokia pakeisto kintamojo `a` reikšmė: "
   ]
  },
  {
   "cell_type": "code",
   "execution_count": 10,
   "id": "29141f85",
   "metadata": {},
   "outputs": [
    {
     "name": "stdout",
     "output_type": "stream",
     "text": [
      "[1, 100, 3]\n",
      "<class 'list'> <class 'tuple'>\n"
     ]
    }
   ],
   "source": [
    "a = [1, 2, 3]\n",
    "a[1] = 100\n",
    "b = (1, 2, 3)\n",
    "#b[1] = 100\n",
    "print(a)\n",
    "print(type(a), type(b))"
   ]
  },
  {
   "cell_type": "markdown",
   "id": "809595d8",
   "metadata": {},
   "source": [
    "Klaidos pranešimas buvo pakankamai informatyvus. Iš jo matyti, kad `list` tipo skaičių sekų narius keisti galima, o `tuple` tipo - negalima."
   ]
  },
  {
   "cell_type": "markdown",
   "id": "987413e8",
   "metadata": {},
   "source": [
    "Python 3.6 versijoje, išėjusioje tik prieš 5 metus, atsirado naujovė: [formatted string literals](https://docs.python.org/3/tutorial/inputoutput.html). Pabandykite skaitydami Python dokumentaciją suprasti, kaip šiais kintamaisiais naudotis ir koks jų tipas. O dabar pasileiskite šį kodą ir pasitikrinkite, ar supratote:\n",
    "\n",
    "**Pavyzdys 3.** \n",
    "\n",
    "    a, x = 52, 'o'\n",
    "    sakinys = f'1 kortų kaladėje yra {a} k{x}rt{x}s'\n",
    "    print(sakinys)\n",
    "    print('tipas:', type(sakinys))\n",
    "\n",
    "Kai jau gerai nusimanome apie šiuos kintamuosius, dar vadinamus 'f-strings', galime juos panaudoti ir ilgesnių kodų aiškinimesi su `print` sakiniais. Kaip keičiasi kintamųjų reikšmės ir kokie yra jų tipai anksčiau nagrinėtame kode?\n",
    "\n",
    "**Pavyzdys 4.**\n",
    "\n",
    "    def prod(X):\n",
    "        a = X[0]\n",
    "        for n in X[1:]:\n",
    "            a = a * n\n",
    "        return a\n",
    "    X = [1, 2, 3, 4, 5]\n",
    "    prod(X)\n",
    "    \n",
    "Informaciją apie atskirus šio kodo fragmentus galėtume gauti taip:"
   ]
  },
  {
   "cell_type": "code",
   "execution_count": 14,
   "id": "d3940fc4",
   "metadata": {},
   "outputs": [
    {
     "name": "stdout",
     "output_type": "stream",
     "text": [
      "a = 1, tipas:<class 'int'>\n",
      "n = 2, naujas a = 2\n",
      "n = 3, naujas a = 6\n",
      "n = 4, naujas a = 24\n",
      "n = 5, naujas a = 120\n"
     ]
    },
    {
     "data": {
      "text/plain": [
       "120"
      ]
     },
     "execution_count": 14,
     "metadata": {},
     "output_type": "execute_result"
    }
   ],
   "source": [
    "def prod(X):\n",
    "    a = X[0]\n",
    "    print(f'a = {a}, tipas:{type(a)}')\n",
    "    for n in X[1:]:\n",
    "        a = a * n\n",
    "        print(f'n = {n}, naujas a = {a}')\n",
    "    return a\n",
    "X = [1, 2, 3, 4, 5]\n",
    "prod(X)"
   ]
  },
  {
   "cell_type": "markdown",
   "id": "04d319d6",
   "metadata": {},
   "source": [
    "Darsyk grįžkime prie anksčiau turėto pavyzdžio:\n",
    "    \n",
    "**Pavyzdys 5.**\n",
    "\n",
    "    import random\n",
    "\n",
    "    words = {'tai':'this', \n",
    "    'yra':'is',\n",
    "    'būdas':'way',\n",
    "    'mokytis':'learn',\n",
    "    'anglų':'yngliš',\n",
    "    'mintinai':'by heart'}\n",
    "\n",
    "    def duok_žodį2(words):\n",
    "        w = random.choice(list(words.keys())) #make a random word\n",
    "        r = input(f'išversk: {w}|') #ask to translate it\n",
    "\n",
    "    duok_žodį2(words)"
   ]
  },
  {
   "cell_type": "markdown",
   "id": "9e535d67",
   "metadata": {},
   "source": [
    "Nors ir aišku, ką daro du pagrindiniai šio kodo žingsniai, tačiau jų viduje vykdomas komandas suprasti sunkiau. \\\n",
    "**Apibendrinkime visus būdus, kurie galėtų padėti paaiškinti, ką daro atskiri kodo fragmentai:**\n",
    "    \n",
    "1\\. naudoti `print`, `type`\\\n",
    "2\\. naudoti `help`\\\n",
    "3\\. Googl'inti, ieškoti dokumentacijų\n",
    "\n",
    "Tad ir pamėginkime prieiti prie galutinio išsiaiškinimo kiekvienu iš šių skirtingų būdų."
   ]
  },
  {
   "cell_type": "markdown",
   "id": "9b1b4855",
   "metadata": {},
   "source": [
    "## Ar programa veikia taip, kaip tikimasi?"
   ]
  },
  {
   "cell_type": "code",
   "execution_count": null,
   "id": "8ba14e62",
   "metadata": {},
   "outputs": [],
   "source": [
    "Uždavinys su amžiumi"
   ]
  },
  {
   "cell_type": "code",
   "execution_count": null,
   "id": "93c5132f",
   "metadata": {},
   "outputs": [],
   "source": [
    "Kada matematikoje skaičiaus tipas vis dėlto svarbus?"
   ]
  }
 ],
 "metadata": {
  "kernelspec": {
   "display_name": "Python 3",
   "language": "python",
   "name": "python3"
  },
  "language_info": {
   "codemirror_mode": {
    "name": "ipython",
    "version": 3
   },
   "file_extension": ".py",
   "mimetype": "text/x-python",
   "name": "python",
   "nbconvert_exporter": "python",
   "pygments_lexer": "ipython3",
   "version": "3.8.8"
  }
 },
 "nbformat": 4,
 "nbformat_minor": 5
}
