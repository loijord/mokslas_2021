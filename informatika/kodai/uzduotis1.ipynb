{
 "cells": [
  {
   "cell_type": "markdown",
   "id": "596f85ce",
   "metadata": {},
   "source": [
    "# Ką reiškia `=` ženklas programavime?\n",
    "Python kalboje `=` ženklas žymi vardo priskyrimą objektui. \n",
    "\n",
    "* Dažniausiai objektą galima vadinti tiesiog kintamuoju, o vardą - reikšme. Todėl dažniausiai galima sakyti paprasčiau: reikšmė yra priskiriama kintamajam.\n",
    "* Sakinį `A = B` galima skaityti taip: *Kintamojo reikšmė, paimta iš ląstelės `B`, įrašoma į ląstelę A*. `A` turinys pakinta, `B` nepakinta. \n",
    "* Sakinį `a = a + 1` galima skaityti taip: *Prie kintamojo, paimto iš ląstelės, kurioje saugoma `a` reikšmė, pridedamas 1 ir rezultatas patalpinamas į tą pačią ląstelę\n",
    "* Jei reikšmė priskiriama kintamajam pirmą kartą, taip pat sukuriamas ir kintamojo vardas. \n",
    "* Priskyrimo metu būtinai turi būti nurodomas jau priskirtas vardas\n",
    "* Priskyrimo metu sukuriamos ne objektų kopijos, o nuorodos į juos\n",
    "\n",
    "### Užduotys savarankiškam darbui\n",
    "\n",
    "1.1 Duotas reikinys: $a^2+2a$. Sugalvokite matematinį uždavinį, kurio sąlygoje būtų žodžiai: *reiškinys*, *kintamasis*, *reikšmė*\n",
    "\n",
    "1.2 Tarkime, kad $a=7$, o $b=9$. Pateikite pavyzdį komandos, kurioje `a` turinys nepakinta, o `b` pakinta.\n",
    "\n",
    "1.3 Parašykite kodą, naudojantį komandą `a = a + 1`, kurį paleidus matytųsi, kaip kinta `a` reikšmė\n",
    "\n",
    "1.4 Komanda `globals()` grąžina visus programos registre esančius objektus ir jų vardus. Įsitikinkite, kad įvykdžius komandą `informatika = 'jėga'` šis registras pasipildė nauju kintamuoju. Kaip pasikeis registras, jei vėliau paleisime komandą `informatika = 'kosmosas'`?\n",
    "\n",
    "1.5 Parašykite neveikiančio kodo pavyzdį, kuriame objektui priskiriamas dar nepriskirtas vardas\n",
    "\n",
    "1.6* Kodėl paleidus šį kodą pasikeičia ne tik `b`, bet ir `a` reikšmė?\n",
    "\n",
    "    b = [1, 2, 3]\n",
    "    a = b\n",
    "    a[1] = 100"
   ]
  }
 ],
 "metadata": {
  "kernelspec": {
   "display_name": "Python 3",
   "language": "python",
   "name": "python3"
  },
  "language_info": {
   "codemirror_mode": {
    "name": "ipython",
    "version": 3
   },
   "file_extension": ".py",
   "mimetype": "text/x-python",
   "name": "python",
   "nbconvert_exporter": "python",
   "pygments_lexer": "ipython3",
   "version": "3.8.8"
  }
 },
 "nbformat": 4,
 "nbformat_minor": 5
}
