{
 "cells": [
  {
   "cell_type": "markdown",
   "id": "4005adcf",
   "metadata": {},
   "source": [
    "## Dekoratoriai"
   ]
  },
  {
   "cell_type": "markdown",
   "id": "7b8ee239",
   "metadata": {},
   "source": [
    "Python koduose dažnai prireikia modifikuoti funkcijų arba klasių metodų elgesį. Tai gali nutikti, kai norime pakeisti tam tikras detales aprašomos klasės prototipe. Tokiu atveju norėtųsi keisti kuo mažiau kodo. Šiam tikslui yra numatytas įrankis, vadinamas dekoratoriumi. "
   ]
  },
  {
   "cell_type": "markdown",
   "id": "6e030158",
   "metadata": {},
   "source": [
    "Dekoratorius - tai funkcija, kuri pakeičia įvestos funkcijos veikimą ir grąžina rezultatą - pakeistą funkciją. Šiame pavyzdyje naudosime funkciją `modify_serve`, kuri pakeičia kitos funkcijos funkcijos `serve_thing` elgesį:"
   ]
  },
  {
   "cell_type": "code",
   "execution_count": 285,
   "id": "ae6ac82c",
   "metadata": {},
   "outputs": [],
   "source": [
    "def modify_serve(func):\n",
    "    def inner(*args, **kwargs):\n",
    "        func(*args, **kwargs)\n",
    "        print(\"And can you add some sugar on top of it?\")\n",
    "    return inner\n",
    "\n",
    "def serve_thing(thing):\n",
    "    print(f\"I'd like one {thing} please\")"
   ]
  },
  {
   "cell_type": "markdown",
   "id": "abda8e2e",
   "metadata": {},
   "source": [
    "Štai taip veikia funkcija `serve_thing`:"
   ]
  },
  {
   "cell_type": "code",
   "execution_count": 287,
   "id": "a835f688",
   "metadata": {},
   "outputs": [
    {
     "name": "stdout",
     "output_type": "stream",
     "text": [
      "I'd like one Capuccino please\n"
     ]
    }
   ],
   "source": [
    "serve_thing('Capuccino')"
   ]
  },
  {
   "cell_type": "markdown",
   "id": "c8853b96",
   "metadata": {},
   "source": [
    "Taip veiks funkcija `serve_thing`, jei ją dekoruosime su dekoratoriumi `modify_serve`:"
   ]
  },
  {
   "cell_type": "code",
   "execution_count": 289,
   "id": "9f02c179",
   "metadata": {},
   "outputs": [
    {
     "name": "stdout",
     "output_type": "stream",
     "text": [
      "I'd like one Capuccino please\n",
      "And can you add some sugar on top of it?\n"
     ]
    }
   ],
   "source": [
    "fancy_serve = modify_serve(serve_thing)\n",
    "fancy_serve('Capuccino')"
   ]
  },
  {
   "cell_type": "markdown",
   "id": "df7a6d7c",
   "metadata": {},
   "source": [
    "Dekoratoriams žymėti Python naudojamas specialus @ simbolis, naudojamas virš dekoruojamos funkcijos apibrėžimo:"
   ]
  },
  {
   "cell_type": "code",
   "execution_count": 290,
   "id": "083ceff2",
   "metadata": {},
   "outputs": [],
   "source": [
    "@modify_serve\n",
    "def serve_thing(thing):\n",
    "    print(f\"I'd like one {thing} please\")"
   ]
  },
  {
   "cell_type": "markdown",
   "id": "037ea32a",
   "metadata": {},
   "source": [
    "Tada galime matyti, kad funkcijos `serve_thin` elgesys bus pakeistas:"
   ]
  },
  {
   "cell_type": "code",
   "execution_count": 291,
   "id": "12109f8f",
   "metadata": {},
   "outputs": [
    {
     "name": "stdout",
     "output_type": "stream",
     "text": [
      "I'd like one Cappucino please\n",
      "And can you add some sugar on top of it?\n"
     ]
    }
   ],
   "source": [
    "serve_thing('Cappucino')"
   ]
  },
  {
   "cell_type": "markdown",
   "id": "8d02e633",
   "metadata": {},
   "source": [
    "## `@property`"
   ]
  },
  {
   "cell_type": "markdown",
   "id": "d561c3de",
   "metadata": {},
   "source": [
    "Grįžkime prie anksčiau turėtos funkcijos `property`. Kadangi ji yra įtaisytoji (builtin), tai įtaisytasis yra ir dekoratorius, žymimas `@`. Jei klasė turi daug atributų, tai yra nepatogu aprašant kiekvieną iš jų vartoti tuos pačius pavadinimus, prasidedančius `get` ir `set`. Tam pasitarnauja dekoratoriai `@property`, `@laipsniai.setter`, `@laipsniai.deleter`. Anksčiau turėtą klasę `Daugianaris` buvo galima aprašyti paprasčiau: "
   ]
  },
  {
   "cell_type": "code",
   "execution_count": 58,
   "id": "e3f97a38",
   "metadata": {},
   "outputs": [],
   "source": [
    "import numpy as np\n",
    "class Daugianaris:\n",
    "    def __init__(self, koeficientai, laipsniai): # apibrėžiamas metodas __init__\n",
    "        self._laipsniai = laipsniai # apibrėžiamas privatus atributas \n",
    "        self._koeficientai = koeficientai # apibrėžiamas privatus atributas\n",
    "       \n",
    "    @property\n",
    "    def laipsniai(self):\n",
    "        print('Gaunamas atributas Daugianaris._laipsniai')\n",
    "        return self._laipsniai\n",
    "      \n",
    "    @laipsniai.setter\n",
    "    def laipsniai(self, laipsniai):\n",
    "        if type(laipsniai) in (np.ndarray, tuple, list): #tikriname ar tipas geras\n",
    "            if np.all(np.array(laipsniai) % 1 == 0): #tikriname, ar įvesti laipsniai yra sveikieji\n",
    "                if np.all(np.array(laipsniai) >= 0): #tikriname, ar įvesti laipsniai yra teigiami\n",
    "                    if len(laipsniai) == len(self._koeficientai): #tikriname, ar laipsnių yra tiek, kiek koeficientų\n",
    "                        print(f'Laipsnių priskyrimas sėkmingas: {self.__class__.__name__}.laipsniai = {laipsniai}')\n",
    "                        self._laipsniai = laipsniai\n",
    "                    else: \n",
    "                        raise ValueError('Laipsnių turi būti tiek, kiek koeficientų')\n",
    "                else:\n",
    "                    raise ValueError('Laipsnių rodikliai turi būti neneigiami')\n",
    "            else:\n",
    "                raise ValueError('Laipsnių rodikliai turi būti sveiki skaičiai')\n",
    "        else:\n",
    "            raise TypeError('Laipsniai turi būti np.ndarray, list arba tuple tipo')\n",
    "\n",
    "    @laipsniai.deleter\n",
    "    def laipsniai(self):\n",
    "        print('Ištrinamas atributas Daugianaris._laipsniai')\n",
    "        del self._laipsniai"
   ]
  },
  {
   "cell_type": "markdown",
   "id": "b2688729",
   "metadata": {},
   "source": [
    "Pateiksime taip pat, kaip naudotis šiais trimis `getter`, `setter` ir `deleter` metodais:\n"
   ]
  },
  {
   "cell_type": "code",
   "execution_count": 59,
   "id": "77863b52",
   "metadata": {},
   "outputs": [],
   "source": [
    "d = Daugianaris([1, 3, 3, 1], [0, 1, 2, 3])"
   ]
  },
  {
   "cell_type": "code",
   "execution_count": 60,
   "id": "cbb17e2f",
   "metadata": {},
   "outputs": [
    {
     "name": "stdout",
     "output_type": "stream",
     "text": [
      "Gaunamas atributas Daugianaris._laipsniai\n",
      "[0, 1, 2, 3]\n"
     ]
    }
   ],
   "source": [
    "print(d.laipsniai) #getter metodas"
   ]
  },
  {
   "cell_type": "code",
   "execution_count": 61,
   "id": "eae4ee8f",
   "metadata": {},
   "outputs": [
    {
     "ename": "ValueError",
     "evalue": "Laipsnių turi būti tiek, kiek koeficientų",
     "output_type": "error",
     "traceback": [
      "\u001b[0;31m---------------------------------------------------------------------------\u001b[0m",
      "\u001b[0;31mValueError\u001b[0m                                Traceback (most recent call last)",
      "\u001b[0;32m/tmp/ipykernel_115613/4201996268.py\u001b[0m in \u001b[0;36m<module>\u001b[0;34m\u001b[0m\n\u001b[0;32m----> 1\u001b[0;31m \u001b[0md\u001b[0m\u001b[0;34m.\u001b[0m\u001b[0mlaipsniai\u001b[0m \u001b[0;34m=\u001b[0m \u001b[0;34m[\u001b[0m\u001b[0;36m0\u001b[0m\u001b[0;34m,\u001b[0m \u001b[0;36m1\u001b[0m\u001b[0;34m,\u001b[0m \u001b[0;36m2\u001b[0m\u001b[0;34m]\u001b[0m \u001b[0;31m#setter metodas\u001b[0m\u001b[0;34m\u001b[0m\u001b[0;34m\u001b[0m\u001b[0m\n\u001b[0m",
      "\u001b[0;32m/tmp/ipykernel_115613/2431110553.py\u001b[0m in \u001b[0;36mlaipsniai\u001b[0;34m(self, laipsniai)\u001b[0m\n\u001b[1;32m     19\u001b[0m                         \u001b[0mself\u001b[0m\u001b[0;34m.\u001b[0m\u001b[0m_laipsniai\u001b[0m \u001b[0;34m=\u001b[0m \u001b[0mlaipsniai\u001b[0m\u001b[0;34m\u001b[0m\u001b[0;34m\u001b[0m\u001b[0m\n\u001b[1;32m     20\u001b[0m                     \u001b[0;32melse\u001b[0m\u001b[0;34m:\u001b[0m\u001b[0;34m\u001b[0m\u001b[0;34m\u001b[0m\u001b[0m\n\u001b[0;32m---> 21\u001b[0;31m                         \u001b[0;32mraise\u001b[0m \u001b[0mValueError\u001b[0m\u001b[0;34m(\u001b[0m\u001b[0;34m'Laipsnių turi būti tiek, kiek koeficientų'\u001b[0m\u001b[0;34m)\u001b[0m\u001b[0;34m\u001b[0m\u001b[0;34m\u001b[0m\u001b[0m\n\u001b[0m\u001b[1;32m     22\u001b[0m                 \u001b[0;32melse\u001b[0m\u001b[0;34m:\u001b[0m\u001b[0;34m\u001b[0m\u001b[0;34m\u001b[0m\u001b[0m\n\u001b[1;32m     23\u001b[0m                     \u001b[0;32mraise\u001b[0m \u001b[0mValueError\u001b[0m\u001b[0;34m(\u001b[0m\u001b[0;34m'Laipsnių rodikliai turi būti neneigiami'\u001b[0m\u001b[0;34m)\u001b[0m\u001b[0;34m\u001b[0m\u001b[0;34m\u001b[0m\u001b[0m\n",
      "\u001b[0;31mValueError\u001b[0m: Laipsnių turi būti tiek, kiek koeficientų"
     ]
    }
   ],
   "source": [
    "d.laipsniai = [0, 1, 2] #setter metodas"
   ]
  },
  {
   "cell_type": "code",
   "execution_count": 62,
   "id": "6e872eb6",
   "metadata": {},
   "outputs": [
    {
     "name": "stdout",
     "output_type": "stream",
     "text": [
      "Laipsnių priskyrimas sėkmingas: Daugianaris.laipsniai = [0, 1, 2, 4]\n"
     ]
    }
   ],
   "source": [
    "d.laipsniai = [0, 1, 2, 4] #setter metodas"
   ]
  },
  {
   "cell_type": "code",
   "execution_count": 63,
   "id": "f9ac4236",
   "metadata": {},
   "outputs": [
    {
     "name": "stdout",
     "output_type": "stream",
     "text": [
      "Gaunamas atributas Daugianaris._laipsniai\n"
     ]
    },
    {
     "data": {
      "text/plain": [
       "[0, 1, 2, 4]"
      ]
     },
     "execution_count": 63,
     "metadata": {},
     "output_type": "execute_result"
    }
   ],
   "source": [
    "d.laipsniai"
   ]
  },
  {
   "cell_type": "code",
   "execution_count": 64,
   "id": "1f837ebf",
   "metadata": {},
   "outputs": [
    {
     "name": "stdout",
     "output_type": "stream",
     "text": [
      "Ištrinamas atributas Daugianaris._laipsniai\n"
     ]
    }
   ],
   "source": [
    "del d.laipsniai #deleter"
   ]
  },
  {
   "cell_type": "markdown",
   "id": "217add4f",
   "metadata": {},
   "source": [
    "## `@staticmethod`"
   ]
  },
  {
   "cell_type": "markdown",
   "id": "d022cf4b",
   "metadata": {},
   "source": [
    "Įprastiniai metodai klasėse reikalauja dirbti su egzemplioriumi (`self`), tačiau tai ne visada patogu. Statiniai metodai - tai tokie metodai, kurie gali egzistuoti klasės apraše nepriklausomai nuo aprašomų objektų (`self`)."
   ]
  },
  {
   "cell_type": "markdown",
   "id": "06921ed2",
   "metadata": {},
   "source": [
    "Tarkime, kad norime sukurti metodą, kuris suprastina panašiuosius narius daugianaryje. Pavyzdžiui daugianaris $3x^2+ 2x^2 - 7x^3 +11x - 9x+ x^2 - 3$ turi koeficientus `[3, 2, -7, 11, -9, 1, -3]` prie laipsnių `[2, 2, 3, 1, 1, 2, 0]`. Mums reikėtų jį pateikti kaip daugianarį $6x^2 - 7x^3 + 2x - 3$ nebūtinai tokia pačia narių tvarka. \n",
    "\n",
    "Norint rasti, kaip pasikeičia koeficientai ir atitinkami laipsniai, reikėtų spręsti bendresnį uždavinį: apskaičiuoti bendrą koeficientų sumą kiekvienai vienodų laipsnių grupei. Tai yra populiarus uždavinys duomenų moksle, todėl norėtųsi, kad jo sprendimo metodas būtų prieinamas už klasės `Daugianaris` ribų."
   ]
  },
  {
   "cell_type": "markdown",
   "id": "9326d0fb",
   "metadata": {},
   "source": [
    "Tegu daugianario atributai yra tokie:"
   ]
  },
  {
   "cell_type": "code",
   "execution_count": 18,
   "id": "a311d8a4",
   "metadata": {},
   "outputs": [],
   "source": [
    "keys = np.array([3, 2, -7, 11, -9, 1, -3])\n",
    "values = np.array([2, 2, 3, 1, 1, 2, 0])"
   ]
  },
  {
   "cell_type": "markdown",
   "id": "4e75c021",
   "metadata": {},
   "source": [
    "Tada grupavimo uždavinį galima spręsti taip:"
   ]
  },
  {
   "cell_type": "code",
   "execution_count": 65,
   "id": "d82cb800",
   "metadata": {},
   "outputs": [
    {
     "data": {
      "text/plain": [
       "(array([-3,  2,  6, -7]), array([0, 1, 2, 3]))"
      ]
     },
     "execution_count": 65,
     "metadata": {},
     "output_type": "execute_result"
    }
   ],
   "source": [
    "argidx = np.argsort(values)\n",
    "keys_sort, values_sort = keys[argidx], values[argidx]\n",
    "div_points = np.r_[0, np.flatnonzero(np.diff(values_sort)) + 1]\n",
    "np.add.reduceat(keys_sort, div_points), values_sort[div_points]"
   ]
  },
  {
   "cell_type": "markdown",
   "id": "74b9b018",
   "metadata": {},
   "source": [
    "Gautas atsakymas atitinka tai, ko ieškojome. Todėl galime šį metodą panaudoti kaip statinį klasėje `Daugianaris`:"
   ]
  },
  {
   "cell_type": "code",
   "execution_count": 67,
   "id": "4ce0e22d",
   "metadata": {},
   "outputs": [],
   "source": [
    "class Daugianaris:\n",
    "    def __init__(self, koeficientai, laipsniai): # apibrėžiamas metodas __init__\n",
    "        self._laipsniai = laipsniai # apibrėžiamas privatus atributas \n",
    "        self._koeficientai = koeficientai # apibrėžiamas privatus atributas\n",
    "       \n",
    "    @staticmethod\n",
    "    def prastinti(keys, values):\n",
    "        argidx = np.argsort(values)\n",
    "        keys_sort, values_sort = keys[argidx], values[argidx]\n",
    "        div_points = np.r_[0, np.flatnonzero(np.diff(values_sort)) + 1]\n",
    "        return np.add.reduceat(keys_sort, div_points), values_sort[div_points]"
   ]
  },
  {
   "cell_type": "markdown",
   "id": "4451ef9f",
   "metadata": {},
   "source": [
    "Statinio metodo vienas iš didžiausių privalumų yra, kad jais galima naudoti nesukuriant jokio egzemplioriaus. Prastinimo metodą galima atlikti šitaip:"
   ]
  },
  {
   "cell_type": "code",
   "execution_count": 68,
   "id": "01665366",
   "metadata": {},
   "outputs": [
    {
     "data": {
      "text/plain": [
       "(array([-3,  2,  6, -7]), array([0, 1, 2, 3]))"
      ]
     },
     "execution_count": 68,
     "metadata": {},
     "output_type": "execute_result"
    }
   ],
   "source": [
    "Daugianaris.prastinti(np.array([3, 2, -7, 11, -9, 1, -3]), np.array([2, 2, 3, 1, 1, 2, 0]))"
   ]
  },
  {
   "cell_type": "markdown",
   "id": "38ce9fc6",
   "metadata": {},
   "source": [
    "## `@njit`\n",
    "Šis dekoratorius yra bibliotekos `numba` metodas, skirtas pagreitinti kodo veikimą, kompiliuojant kodą ne Python režime, o verčiant jį į optimizuotą mašininį kodą naudojant LLVM kompiliavimo biblioteką. Taip pat yra galimybė kodą vykdyti paraleliai (ant kelių branduolių)\n",
    "\n",
    "Tarkime yra duotas masyvas, sudarytas iš 10000000 narių. Kiekvienam nariui reikia rasti, ar jis nelygus -2147483648. "
   ]
  },
  {
   "cell_type": "code",
   "execution_count": 71,
   "id": "bae41189",
   "metadata": {},
   "outputs": [
    {
     "data": {
      "text/plain": [
       "array([-2147483648, -2147483648, -2147483648, ..., -2147483648,\n",
       "       -2147483648,     7215752])"
      ]
     },
     "execution_count": 71,
     "metadata": {},
     "output_type": "execute_result"
    }
   ],
   "source": [
    "X = np.random.choice(np.array([-2147483648, 0]), p=[0.75, 0.25], size=(10000000,))\n",
    "idx = X == 0\n",
    "X[idx] = np.random.randint(7000000, 8000000, size=np.sum(idx))\n",
    "X"
   ]
  },
  {
   "cell_type": "markdown",
   "id": "23f5414a",
   "metadata": {},
   "source": [
    "Palyginame skirtingus būdus tai padaryti laiko atžvilgiu:"
   ]
  },
  {
   "cell_type": "code",
   "execution_count": 75,
   "id": "8fa11096",
   "metadata": {},
   "outputs": [
    {
     "name": "stdout",
     "output_type": "stream",
     "text": [
      "7.26 ms ± 171 µs per loop (mean ± std. dev. of 7 runs, 100 loops each)\n"
     ]
    }
   ],
   "source": [
    "%%timeit #efektyviausias numpy metodas\n",
    "X != -2147483648"
   ]
  },
  {
   "cell_type": "code",
   "execution_count": 74,
   "id": "6b00ff16",
   "metadata": {},
   "outputs": [
    {
     "name": "stdout",
     "output_type": "stream",
     "text": [
      "1.78 s ± 60.1 ms per loop (mean ± std. dev. of 7 runs, 1 loop each)\n"
     ]
    }
   ],
   "source": [
    "%%timeit #numpy masyvo iteracija\n",
    "[n != -2147483648 for n in X]"
   ]
  },
  {
   "cell_type": "code",
   "execution_count": 76,
   "id": "38fcdf3c",
   "metadata": {},
   "outputs": [
    {
     "name": "stdout",
     "output_type": "stream",
     "text": [
      "838 ms ± 24.4 ms per loop (mean ± std. dev. of 7 runs, 1 loop each)\n"
     ]
    }
   ],
   "source": [
    "%%timeit #numpy masyvo iteracija prieš tai jį pavertus į sąrašą\n",
    "[n != -2147483648 for n in X.tolist()]"
   ]
  },
  {
   "cell_type": "code",
   "execution_count": 77,
   "id": "6615a9a6",
   "metadata": {},
   "outputs": [
    {
     "name": "stdout",
     "output_type": "stream",
     "text": [
      "2.67 s ± 6.42 ms per loop (mean ± std. dev. of 7 runs, 1 loop each)\n"
     ]
    }
   ],
   "source": [
    "%%timeit #atminties rezervavimas True/False reikšmėms ir jų priskyrimas\n",
    "r = np.empty(len(X), dtype=bool)\n",
    "for i in range(len(X)):\n",
    "    r[i] =  X[i] != -2147483648"
   ]
  },
  {
   "cell_type": "markdown",
   "id": "a223a1d6",
   "metadata": {},
   "source": [
    "Pastarąjį sprendimo metodą galima perrašyti naudojant `@njit` dekoratorių tokiu būdu:"
   ]
  },
  {
   "cell_type": "code",
   "execution_count": 89,
   "id": "be5c4cc0",
   "metadata": {},
   "outputs": [],
   "source": [
    "from numba import njit, prange\n",
    "\n",
    "@njit\n",
    "def _numba_mask(r, arr):\n",
    "    for i in range(len(arr)):\n",
    "        r[i] = arr[i] != -2147483648\n",
    "        \n",
    "def numba_mask(arr):\n",
    "    r = np.empty(len(arr), dtype=bool)\n",
    "    _numba_mask(r, arr)\n",
    "    return r"
   ]
  },
  {
   "cell_type": "markdown",
   "id": "24460e48",
   "metadata": {},
   "source": [
    "Tuomet `numpy` masyvo iteracija yra kompiliuojama mašininio kodo lygyje ir pagreitėja tiek, kad susilygina su gerai išoptimizuota operacija \n",
    "\n",
    "`X != -2147483648`:"
   ]
  },
  {
   "cell_type": "code",
   "execution_count": 86,
   "id": "eb56586f",
   "metadata": {},
   "outputs": [
    {
     "name": "stdout",
     "output_type": "stream",
     "text": [
      "7.68 ms ± 221 µs per loop (mean ± std. dev. of 7 runs, 100 loops each)\n"
     ]
    }
   ],
   "source": [
    "%%timeit\n",
    "numba_mask(X)"
   ]
  },
  {
   "cell_type": "markdown",
   "id": "15e9987d",
   "metadata": {},
   "source": [
    "Šį metodą galima dar labiau paspartinti, jei ciklą pagalbiniame `_numba_mask` metode padalinsime keliems branduoliams:"
   ]
  },
  {
   "cell_type": "code",
   "execution_count": 103,
   "id": "bee0adbc",
   "metadata": {},
   "outputs": [],
   "source": [
    "@njit(parallel=True)\n",
    "def _numba_mask(r, arr):\n",
    "    for i in prange(len(arr)):\n",
    "        r[i] = arr[i] != -2147483648"
   ]
  },
  {
   "cell_type": "code",
   "execution_count": 104,
   "id": "cfd61b62",
   "metadata": {},
   "outputs": [
    {
     "name": "stdout",
     "output_type": "stream",
     "text": [
      "4.07 ms ± 89.8 µs per loop (mean ± std. dev. of 7 runs, 100 loops each)\n"
     ]
    }
   ],
   "source": [
    "%%timeit\n",
    "numba_mask(X)"
   ]
  },
  {
   "cell_type": "markdown",
   "id": "1ceaf260",
   "metadata": {},
   "source": [
    "Kai kurie `numpy` metodai naudojant `njit` dekoratorių yra išoptimizuoti dar labiau. Šiuo atveju sparčiausias variantas būtų toks:"
   ]
  },
  {
   "cell_type": "code",
   "execution_count": 105,
   "id": "5f3cb10c",
   "metadata": {},
   "outputs": [],
   "source": [
    "@njit(parallel=True, fastmath=True)\n",
    "def numba_mask(arr):\n",
    "    return arr != -2147483648"
   ]
  },
  {
   "cell_type": "code",
   "execution_count": 106,
   "id": "ea576bad",
   "metadata": {},
   "outputs": [
    {
     "name": "stdout",
     "output_type": "stream",
     "text": [
      "3.92 ms ± 49.6 µs per loop (mean ± std. dev. of 7 runs, 1 loop each)\n"
     ]
    }
   ],
   "source": [
    "%%timeit\n",
    "numba_mask(X)"
   ]
  },
  {
   "cell_type": "markdown",
   "id": "6f71ea8f",
   "metadata": {},
   "source": [
    "Linux operacinėje sistemoje greitį gavome panašų, tačiau Windows greitis gali skirtis 1.5 karto"
   ]
  },
  {
   "cell_type": "markdown",
   "id": "01ae9337",
   "metadata": {},
   "source": [
    "## Pastabos"
   ]
  },
  {
   "cell_type": "markdown",
   "id": "f850e9b7",
   "metadata": {},
   "source": [
    "`@staticmethod` ir `@property` yra dekoratoriai, vieni iš dažniausiai pasirodančių klasėse, o `@njit` yra importuojamas išimtinai tik iš `numba` bibliotekos. Pačiam rašyti dekoratorius galima, bet dažniausiai neprireikia."
   ]
  }
 ],
 "metadata": {
  "kernelspec": {
   "display_name": "Python 3 (ipykernel)",
   "language": "python",
   "name": "python3"
  },
  "language_info": {
   "codemirror_mode": {
    "name": "ipython",
    "version": 3
   },
   "file_extension": ".py",
   "mimetype": "text/x-python",
   "name": "python",
   "nbconvert_exporter": "python",
   "pygments_lexer": "ipython3",
   "version": "3.9.7"
  }
 },
 "nbformat": 4,
 "nbformat_minor": 5
}
