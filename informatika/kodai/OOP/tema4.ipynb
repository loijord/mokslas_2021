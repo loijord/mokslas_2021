{
 "cells": [
  {
   "cell_type": "markdown",
   "id": "bc784084",
   "metadata": {},
   "source": [
    "# Kas vyksta objekto sukūrimo metu?"
   ]
  },
  {
   "cell_type": "markdown",
   "id": "5a35787f",
   "metadata": {},
   "source": [
    "Ši klasė turi specialų metodą, kurio vardas yra `__init__`. Šis metodas veikia panašiai, kaip konstruktoriai C++ ir Java kalbose. Konstruktoriai yra naudojami inicijuoti objekto būseną, t.y. priskirti reikšmes duomenų atstovams, kai klasės objektas yra sukuriamas. Kaip ir kiti metodai, konstruktorių taip pat sudaro komandos, vykdomos objekto kūrimo metu. Objektas sukuriamas baigus jas vykdyti. [[Versta iš GeeksForGeeks](https://www.geeksforgeeks.org/__init__-in-python/)]"
   ]
  },
  {
   "cell_type": "markdown",
   "id": "515973d7",
   "metadata": {},
   "source": [
    "Kodėl būtinas `__init__` metodo naudojimas? "
   ]
  },
  {
   "cell_type": "markdown",
   "id": "972afbc7",
   "metadata": {},
   "source": [
    "**Svarbu!** Dauguma klasės metodų argumentai prasideda nuo `self`. Tai reiškia, kad jie bus atliekami su `self` kintamuoju. Vardu `self` klasės metodo aprašyme įprastai žymimas tos klasės objekto egzempliorius."
   ]
  },
  {
   "cell_type": "markdown",
   "id": "154a67f3",
   "metadata": {},
   "source": [
    "Kai jau turime klasės `Polynomial` aprašą, galime sukurti pirmąjį tos klasės objektą, kurio vardas yra `p`. Kad būtų paprasčiau įsivaizduoti, galime sakyti, jog tai tam tikras daugianaris $P(x)= 2 - 7x + 5x^2$, priklausantis visų daugianarių aibei."
   ]
  },
  {
   "cell_type": "code",
   "execution_count": 13,
   "id": "09064f28",
   "metadata": {},
   "outputs": [],
   "source": [
    "p = Expression([0, 1, 2], [2, -7, 5])"
   ]
  },
  {
   "cell_type": "code",
   "execution_count": 14,
   "id": "53b18d7b",
   "metadata": {},
   "outputs": [
    {
     "data": {
      "text/plain": [
       "[0, 1, 2]"
      ]
     },
     "execution_count": 14,
     "metadata": {},
     "output_type": "execute_result"
    }
   ],
   "source": [
    "p.pows"
   ]
  },
  {
   "cell_type": "code",
   "execution_count": null,
   "id": "00580d1e",
   "metadata": {},
   "outputs": [],
   "source": [
    "Šios komandos elgsena išorėje nematoma. Komandos viduje vykdymo metu atliekami tokie veiksmai:\n",
    "    \n",
    "* Sukuriamas egzempliorius `p`\n",
    "* Automatiškai kviečiamas metodas `__init__(self, ...)`. Čia `self` atitinka kintamąjį, kuris yra "
   ]
  },
  {
   "cell_type": "code",
   "execution_count": null,
   "id": "c44d8964",
   "metadata": {},
   "outputs": [],
   "source": [
    "Pasiž"
   ]
  },
  {
   "cell_type": "code",
   "execution_count": 8,
   "id": "e10bc0e2",
   "metadata": {},
   "outputs": [
    {
     "data": {
      "text/plain": [
       "['__class__',\n",
       " '__delattr__',\n",
       " '__dict__',\n",
       " '__dir__',\n",
       " '__doc__',\n",
       " '__eq__',\n",
       " '__format__',\n",
       " '__ge__',\n",
       " '__getattribute__',\n",
       " '__gt__',\n",
       " '__hash__',\n",
       " '__init__',\n",
       " '__init_subclass__',\n",
       " '__le__',\n",
       " '__lt__',\n",
       " '__module__',\n",
       " '__ne__',\n",
       " '__new__',\n",
       " '__reduce__',\n",
       " '__reduce_ex__',\n",
       " '__repr__',\n",
       " '__setattr__',\n",
       " '__sizeof__',\n",
       " '__str__',\n",
       " '__subclasshook__',\n",
       " '__weakref__',\n",
       " 'coeffs',\n",
       " 'kind',\n",
       " 'pows']"
      ]
     },
     "execution_count": 8,
     "metadata": {},
     "output_type": "execute_result"
    }
   ],
   "source": [
    "dir(p)"
   ]
  },
  {
   "cell_type": "code",
   "execution_count": 5,
   "id": "30701fd5",
   "metadata": {},
   "outputs": [
    {
     "name": "stdout",
     "output_type": "stream",
     "text": [
      "['__class__', '__delattr__', '__dir__', '__eq__', '__format__', '__ge__', '__getattribute__', '__gt__', '__hash__', '__init__', '__init_subclass__', '__le__', '__lt__', '__ne__', '__new__', '__reduce__', '__reduce_ex__', '__repr__', '__setattr__', '__sizeof__', '__str__', '__subclasshook__']\n"
     ]
    }
   ],
   "source": [
    "print([func for func in dir(Polynomial) if callable(getattr(Polynomial, func))])"
   ]
  },
  {
   "cell_type": "code",
   "execution_count": null,
   "id": "8b09b530",
   "metadata": {},
   "outputs": [],
   "source": [
    "p.pows, p.coeffs #by default, jie priskiriami None reikšmėms"
   ]
  },
  {
   "cell_type": "code",
   "execution_count": 5,
   "id": "c42da015",
   "metadata": {},
   "outputs": [
    {
     "data": {
      "text/plain": [
       "(None, None)"
      ]
     },
     "execution_count": 5,
     "metadata": {},
     "output_type": "execute_result"
    }
   ],
   "source": [
    "p = Polynomial()\n",
    "p.pows, p.coeffs #by default, jie priskiriami None reikšmėms"
   ]
  },
  {
   "cell_type": "markdown",
   "id": "a3882d06",
   "metadata": {},
   "source": [
    "Python priimta, kad kviečiant bet kurią klasę, ji iš pradžių kreipasi į `__init__` metodą, jei tokį randa. Šiame metode yra priskiriami atributai, kurie bus vartojami vėliau pagal poreikį."
   ]
  },
  {
   "cell_type": "code",
   "execution_count": 25,
   "id": "3904df1a",
   "metadata": {},
   "outputs": [
    {
     "data": {
      "text/plain": [
       "(array([0, 1]), array([1, 1]))"
      ]
     },
     "execution_count": 25,
     "metadata": {},
     "output_type": "execute_result"
    }
   ],
   "source": [
    "P = Polynomial([0, 1, 2], [1, 2, 1]) #Polynomial kreipiasi į __init__ metodą, kuris priskiria pows ir coeffs atributus\n",
    "P.pows, P.coeffs #Pasižiūrim šių atributų reikšmes"
   ]
  },
  {
   "cell_type": "markdown",
   "id": "3cacfa88",
   "metadata": {},
   "source": [
    "Įprastai kurti atributus, kuriems nėra peržiūros metodų, nėra gera programavimo praktika. Šiuo atveju metodus galėjome sukurti taip:"
   ]
  },
  {
   "cell_type": "code",
   "execution_count": null,
   "id": "f488b1de",
   "metadata": {},
   "outputs": [],
   "source": [
    "    \n",
    "    def get_pows(self):\n",
    "        return self.pows\n",
    "    \n",
    "    def get_coeffs(self):\n",
    "        return self.coeffs"
   ]
  },
  {
   "cell_type": "code",
   "execution_count": 16,
   "id": "efc11778",
   "metadata": {},
   "outputs": [],
   "source": [
    "class Expression:\n",
    "    kind = 'polynomial'\n",
    "    '''polynomial instance takes pows and coeffs\n",
    "    >>> type(PolynomialRefactor(np.array([0,1]), np.array([1,1])))\n",
    "    <class '__main__.PolynomialRefactor'>'''\n",
    "    def __init__(self, pows=None, coeffs=None):\n",
    "        self._pows = pows\n",
    "        self._coeffs = coeffs\n",
    "    \n",
    "    def get_pows(self):\n",
    "        '''return powers of polynomial\n",
    "        >>> PolynomialRefactor(np.array([0,1]), np.array([1,1])).get_pows()\n",
    "        array([0, 1])'''\n",
    "        return self._pows\n",
    "    \n",
    "    def get_coeffs(self):\n",
    "        '''return coeffs of polynomial\n",
    "        >>> PolynomialRefactor(np.array([0,1]), np.array([1,1])).get_coeffs()\n",
    "        array([1, 1])'''\n",
    "        return self._coeffs"
   ]
  },
  {
   "cell_type": "code",
   "execution_count": null,
   "id": "ee984564",
   "metadata": {},
   "outputs": [],
   "source": []
  },
  {
   "cell_type": "code",
   "execution_count": null,
   "id": "ceb65663",
   "metadata": {},
   "outputs": [],
   "source": []
  }
 ],
 "metadata": {
  "kernelspec": {
   "display_name": "Python 3 (ipykernel)",
   "language": "python",
   "name": "python3"
  },
  "language_info": {
   "codemirror_mode": {
    "name": "ipython",
    "version": 3
   },
   "file_extension": ".py",
   "mimetype": "text/x-python",
   "name": "python",
   "nbconvert_exporter": "python",
   "pygments_lexer": "ipython3",
   "version": "3.9.7"
  }
 },
 "nbformat": 4,
 "nbformat_minor": 5
}
