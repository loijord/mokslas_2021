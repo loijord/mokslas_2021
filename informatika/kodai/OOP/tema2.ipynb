{
 "cells": [
  {
   "cell_type": "markdown",
   "id": "93596538",
   "metadata": {},
   "source": [
    "# OOP: class variables (klasės kintamieji)\n",
    "\n",
    "## The Concepts of Objectively Oriented Programming\n",
    "\n",
    "* **Klasė** (class) − vartotojo apibrėžtas objekto prototipas, kuris apibrėžia atributų, charakterizuojančių bet kurį tos klasės objektą, rinkinį.  \n",
    "* **Atributai** (attributes) - tai duomenų atstovai (klasės kintamieji arba egzempliorių kintamieji) ir metodai, prieinami naudojant taško žymėjimą.  \n",
    "\n",
    "* **Klasės kintamasis** (class variable) − kintamasis, priklausantis visiems tos klasės egzemplioriams. Klasės kintamieji yra apibrėžiami klasės viduje, bet už metodų ribų.  \n",
    "\n",
    "* **Egzemplioriaus kintamasis** (instance variable) − kintamasis, apibrėžiamas tam tikrame klasės metode ir priklausantis tik tam tikram klasės instance.  \n",
    "\n",
    "* **Metodas** (method) - tai tam tikra funkcija, apibrėžiama klasės apraše.  \n",
    "\n",
    "* **Duomenų atstovas** (data member) − tai klasės kintamasis arba egzemplioriaus kintamasis, kuriame laikomi duomenys, susieti su klase ir jos objektais.  \n",
    "\n",
    "* **Egzempliorius** (instance) − individualus tam tikros klasės objektas.    \n",
    "\n",
    "* **Instantiation / initialization** − klasės egzemplioriaus sukūrimas.  \n",
    "\n",
    "* **Objektas** (object) − unikalus duomenų struktūros egzempliorius, apibrėžtas klasės, kuriam jis priklauso. Objektus sudaro duomenų atstovai (klasės kintamieji arba instance kintamieji) ir metodai.  \n",
    "\n",
    "[Versta iš [TutorialsPoint](https://www.tutorialspoint.com/python/python_classes_objects.htm)]"
   ]
  },
  {
   "cell_type": "markdown",
   "id": "5c1e9b0e",
   "metadata": {},
   "source": [
    "## Atributų rūšys\n",
    "Kiekvienas objektas turi tik dviejų tipų atributus: duomenų atstovus ir metodus. Duomenų atstovų negalima iškviesti (jei jų reikšmės nėra taip pat ir metodai), o metodus galima:"
   ]
  },
  {
   "cell_type": "code",
   "execution_count": 8,
   "id": "1f462c75",
   "metadata": {},
   "outputs": [
    {
     "data": {
      "text/plain": [
       "array([0, 1, 2, 3, 4, 5, 6, 7, 8, 9])"
      ]
     },
     "execution_count": 8,
     "metadata": {},
     "output_type": "execute_result"
    }
   ],
   "source": [
    "import numpy as np\n",
    "arr = np.arange(10)\n",
    "arr"
   ]
  },
  {
   "cell_type": "markdown",
   "id": "369b4bba",
   "metadata": {},
   "source": [
    "Duomenų atstovo pavyzdys:"
   ]
  },
  {
   "cell_type": "code",
   "execution_count": 9,
   "id": "2f718f39",
   "metadata": {},
   "outputs": [
    {
     "data": {
      "text/plain": [
       "8"
      ]
     },
     "execution_count": 9,
     "metadata": {},
     "output_type": "execute_result"
    }
   ],
   "source": [
    "arr.itemsize"
   ]
  },
  {
   "cell_type": "markdown",
   "id": "227cdcc9",
   "metadata": {},
   "source": [
    "Metodo pavyzdys:"
   ]
  },
  {
   "cell_type": "code",
   "execution_count": 80,
   "id": "89056e6d",
   "metadata": {},
   "outputs": [
    {
     "data": {
      "text/plain": [
       "9"
      ]
     },
     "execution_count": 80,
     "metadata": {},
     "output_type": "execute_result"
    }
   ],
   "source": [
    "arr.max()"
   ]
  },
  {
   "cell_type": "markdown",
   "id": "ade8aff1",
   "metadata": {},
   "source": [
    "Kas būna, jei bandome iškviesti duomenų atstovą:"
   ]
  },
  {
   "cell_type": "code",
   "execution_count": 6,
   "id": "e0e5b4e0",
   "metadata": {},
   "outputs": [
    {
     "name": "stdout",
     "output_type": "stream",
     "text": [
      "Help on int object:\n",
      "\n",
      "class int(object)\n",
      " |  int([x]) -> integer\n",
      " |  int(x, base=10) -> integer\n",
      " |  \n",
      " |  Convert a number or string to an integer, or return 0 if no arguments\n",
      " |  are given.  If x is a number, return x.__int__().  For floating point\n",
      " |  numbers, this truncates towards zero.\n",
      " |  \n",
      " |  If x is not a number or if base is given, then x must be a string,\n",
      " |  bytes, or bytearray instance representing an integer literal in the\n",
      " |  given base.  The literal can be preceded by '+' or '-' and be surrounded\n",
      " |  by whitespace.  The base defaults to 10.  Valid bases are 0 and 2-36.\n",
      " |  Base 0 means to interpret the base from the string as an integer literal.\n",
      " |  >>> int('0b100', base=0)\n",
      " |  4\n",
      " |  \n",
      " |  Built-in subclasses:\n",
      " |      bool\n",
      " |  \n",
      " |  Methods defined here:\n",
      " |  \n",
      " |  __abs__(self, /)\n",
      " |      abs(self)\n",
      " |  \n",
      " |  __add__(self, value, /)\n",
      " |      Return self+value.\n",
      " |  \n",
      " |  __and__(self, value, /)\n",
      " |      Return self&value.\n",
      " |  \n",
      " |  __bool__(self, /)\n",
      " |      self != 0\n",
      " |  \n",
      " |  __ceil__(...)\n",
      " |      Ceiling of an Integral returns itself.\n",
      " |  \n",
      " |  __divmod__(self, value, /)\n",
      " |      Return divmod(self, value).\n",
      " |  \n",
      " |  __eq__(self, value, /)\n",
      " |      Return self==value.\n",
      " |  \n",
      " |  __float__(self, /)\n",
      " |      float(self)\n",
      " |  \n",
      " |  __floor__(...)\n",
      " |      Flooring an Integral returns itself.\n",
      " |  \n",
      " |  __floordiv__(self, value, /)\n",
      " |      Return self//value.\n",
      " |  \n",
      " |  __format__(self, format_spec, /)\n",
      " |      Default object formatter.\n",
      " |  \n",
      " |  __ge__(self, value, /)\n",
      " |      Return self>=value.\n",
      " |  \n",
      " |  __getattribute__(self, name, /)\n",
      " |      Return getattr(self, name).\n",
      " |  \n",
      " |  __getnewargs__(self, /)\n",
      " |  \n",
      " |  __gt__(self, value, /)\n",
      " |      Return self>value.\n",
      " |  \n",
      " |  __hash__(self, /)\n",
      " |      Return hash(self).\n",
      " |  \n",
      " |  __index__(self, /)\n",
      " |      Return self converted to an integer, if self is suitable for use as an index into a list.\n",
      " |  \n",
      " |  __int__(self, /)\n",
      " |      int(self)\n",
      " |  \n",
      " |  __invert__(self, /)\n",
      " |      ~self\n",
      " |  \n",
      " |  __le__(self, value, /)\n",
      " |      Return self<=value.\n",
      " |  \n",
      " |  __lshift__(self, value, /)\n",
      " |      Return self<<value.\n",
      " |  \n",
      " |  __lt__(self, value, /)\n",
      " |      Return self<value.\n",
      " |  \n",
      " |  __mod__(self, value, /)\n",
      " |      Return self%value.\n",
      " |  \n",
      " |  __mul__(self, value, /)\n",
      " |      Return self*value.\n",
      " |  \n",
      " |  __ne__(self, value, /)\n",
      " |      Return self!=value.\n",
      " |  \n",
      " |  __neg__(self, /)\n",
      " |      -self\n",
      " |  \n",
      " |  __or__(self, value, /)\n",
      " |      Return self|value.\n",
      " |  \n",
      " |  __pos__(self, /)\n",
      " |      +self\n",
      " |  \n",
      " |  __pow__(self, value, mod=None, /)\n",
      " |      Return pow(self, value, mod).\n",
      " |  \n",
      " |  __radd__(self, value, /)\n",
      " |      Return value+self.\n",
      " |  \n",
      " |  __rand__(self, value, /)\n",
      " |      Return value&self.\n",
      " |  \n",
      " |  __rdivmod__(self, value, /)\n",
      " |      Return divmod(value, self).\n",
      " |  \n",
      " |  __repr__(self, /)\n",
      " |      Return repr(self).\n",
      " |  \n",
      " |  __rfloordiv__(self, value, /)\n",
      " |      Return value//self.\n",
      " |  \n",
      " |  __rlshift__(self, value, /)\n",
      " |      Return value<<self.\n",
      " |  \n",
      " |  __rmod__(self, value, /)\n",
      " |      Return value%self.\n",
      " |  \n",
      " |  __rmul__(self, value, /)\n",
      " |      Return value*self.\n",
      " |  \n",
      " |  __ror__(self, value, /)\n",
      " |      Return value|self.\n",
      " |  \n",
      " |  __round__(...)\n",
      " |      Rounding an Integral returns itself.\n",
      " |      Rounding with an ndigits argument also returns an integer.\n",
      " |  \n",
      " |  __rpow__(self, value, mod=None, /)\n",
      " |      Return pow(value, self, mod).\n",
      " |  \n",
      " |  __rrshift__(self, value, /)\n",
      " |      Return value>>self.\n",
      " |  \n",
      " |  __rshift__(self, value, /)\n",
      " |      Return self>>value.\n",
      " |  \n",
      " |  __rsub__(self, value, /)\n",
      " |      Return value-self.\n",
      " |  \n",
      " |  __rtruediv__(self, value, /)\n",
      " |      Return value/self.\n",
      " |  \n",
      " |  __rxor__(self, value, /)\n",
      " |      Return value^self.\n",
      " |  \n",
      " |  __sizeof__(self, /)\n",
      " |      Returns size in memory, in bytes.\n",
      " |  \n",
      " |  __sub__(self, value, /)\n",
      " |      Return self-value.\n",
      " |  \n",
      " |  __truediv__(self, value, /)\n",
      " |      Return self/value.\n",
      " |  \n",
      " |  __trunc__(...)\n",
      " |      Truncating an Integral returns itself.\n",
      " |  \n",
      " |  __xor__(self, value, /)\n",
      " |      Return self^value.\n",
      " |  \n",
      " |  as_integer_ratio(self, /)\n",
      " |      Return integer ratio.\n",
      " |      \n",
      " |      Return a pair of integers, whose ratio is exactly equal to the original int\n",
      " |      and with a positive denominator.\n",
      " |      \n",
      " |      >>> (10).as_integer_ratio()\n",
      " |      (10, 1)\n",
      " |      >>> (-10).as_integer_ratio()\n",
      " |      (-10, 1)\n",
      " |      >>> (0).as_integer_ratio()\n",
      " |      (0, 1)\n",
      " |  \n",
      " |  bit_length(self, /)\n",
      " |      Number of bits necessary to represent self in binary.\n",
      " |      \n",
      " |      >>> bin(37)\n",
      " |      '0b100101'\n",
      " |      >>> (37).bit_length()\n",
      " |      6\n",
      " |  \n",
      " |  conjugate(...)\n",
      " |      Returns self, the complex conjugate of any int.\n",
      " |  \n",
      " |  to_bytes(self, /, length, byteorder, *, signed=False)\n",
      " |      Return an array of bytes representing an integer.\n",
      " |      \n",
      " |      length\n",
      " |        Length of bytes object to use.  An OverflowError is raised if the\n",
      " |        integer is not representable with the given number of bytes.\n",
      " |      byteorder\n",
      " |        The byte order used to represent the integer.  If byteorder is 'big',\n",
      " |        the most significant byte is at the beginning of the byte array.  If\n",
      " |        byteorder is 'little', the most significant byte is at the end of the\n",
      " |        byte array.  To request the native byte order of the host system, use\n",
      " |        `sys.byteorder' as the byte order value.\n",
      " |      signed\n",
      " |        Determines whether two's complement is used to represent the integer.\n",
      " |        If signed is False and a negative integer is given, an OverflowError\n",
      " |        is raised.\n",
      " |  \n",
      " |  ----------------------------------------------------------------------\n",
      " |  Class methods defined here:\n",
      " |  \n",
      " |  from_bytes(bytes, byteorder, *, signed=False) from builtins.type\n",
      " |      Return the integer represented by the given array of bytes.\n",
      " |      \n",
      " |      bytes\n",
      " |        Holds the array of bytes to convert.  The argument must either\n",
      " |        support the buffer protocol or be an iterable object producing bytes.\n",
      " |        Bytes and bytearray are examples of built-in objects that support the\n",
      " |        buffer protocol.\n",
      " |      byteorder\n",
      " |        The byte order used to represent the integer.  If byteorder is 'big',\n",
      " |        the most significant byte is at the beginning of the byte array.  If\n",
      " |        byteorder is 'little', the most significant byte is at the end of the\n",
      " |        byte array.  To request the native byte order of the host system, use\n",
      " |        `sys.byteorder' as the byte order value.\n",
      " |      signed\n",
      " |        Indicates whether two's complement is used to represent the integer.\n",
      " |  \n",
      " |  ----------------------------------------------------------------------\n",
      " |  Static methods defined here:\n",
      " |  \n",
      " |  __new__(*args, **kwargs) from builtins.type\n",
      " |      Create and return a new object.  See help(type) for accurate signature.\n",
      " |  \n",
      " |  ----------------------------------------------------------------------\n",
      " |  Data descriptors defined here:\n",
      " |  \n",
      " |  denominator\n",
      " |      the denominator of a rational number in lowest terms\n",
      " |  \n",
      " |  imag\n",
      " |      the imaginary part of a complex number\n",
      " |  \n",
      " |  numerator\n",
      " |      the numerator of a rational number in lowest terms\n",
      " |  \n",
      " |  real\n",
      " |      the real part of a complex number\n",
      "\n"
     ]
    }
   ],
   "source": [
    "help(arr.itemsize)"
   ]
  },
  {
   "cell_type": "markdown",
   "id": "8558c142",
   "metadata": {},
   "source": [
    "Duomenų atstovo (data member) terminas programavime yra vartojamas rečiau. Todėl šioje temoje jį vadinsime tiesiog atributu, turėdami mintyje, kad čia jų sintaksė bus `obj.attr`, bet ne `obj.attr()`"
   ]
  },
  {
   "cell_type": "markdown",
   "id": "d44bee68",
   "metadata": {},
   "source": [
    "## Nesaugus attributų keitimas\n",
    "\n",
    "### Nepageidautinos objekto elgsenos pavyzdys"
   ]
  },
  {
   "cell_type": "markdown",
   "id": "996ef3be",
   "metadata": {},
   "source": [
    "Imkime tam tikrą Python objektą ir pasvarstykime, ar jam galėtume priskirti atributus:"
   ]
  },
  {
   "cell_type": "code",
   "execution_count": 11,
   "id": "fd6ff0eb",
   "metadata": {},
   "outputs": [
    {
     "data": {
      "text/plain": [
       "(2,)"
      ]
     },
     "execution_count": 11,
     "metadata": {},
     "output_type": "execute_result"
    }
   ],
   "source": [
    "arr = np.array([8, 3, 4], dtype=np.uint16)\n",
    "arr.strides"
   ]
  },
  {
   "cell_type": "code",
   "execution_count": 16,
   "id": "68a9855f",
   "metadata": {},
   "outputs": [
    {
     "data": {
      "text/plain": [
       "array([  8, 768,   3], dtype=uint16)"
      ]
     },
     "execution_count": 16,
     "metadata": {},
     "output_type": "execute_result"
    }
   ],
   "source": [
    "arr.strides = 1\n",
    "arr"
   ]
  },
  {
   "cell_type": "code",
   "execution_count": 65,
   "id": "11624e75",
   "metadata": {},
   "outputs": [
    {
     "data": {
      "text/plain": [
       "array([  8, 768,   3], dtype=uint16)"
      ]
     },
     "execution_count": 65,
     "metadata": {},
     "output_type": "execute_result"
    }
   ],
   "source": [
    "np.lib.stride_tricks.as_strided(arr, shape=(3,), strides=(1,))"
   ]
  },
  {
   "cell_type": "markdown",
   "id": "4ac94e44",
   "metadata": {},
   "source": [
    "Tai buvo nuotaikingas pavyzdys, kaip buvo galima nepageidaujamai pakeisti objekto elgseną. Iš tiesų, kiekvienas masyvo narys buvo saugomas 16 bitų ilgio atmintyje: "
   ]
  },
  {
   "cell_type": "code",
   "execution_count": 30,
   "id": "f85231a7",
   "metadata": {},
   "outputs": [
    {
     "data": {
      "text/plain": [
       "array([[0, 0, 0, 0, 0, 0, 0, 0, 0, 0, 0, 0, 1, 0, 0, 0],\n",
       "       [0, 0, 0, 0, 0, 0, 0, 0, 0, 0, 0, 0, 0, 0, 1, 1],\n",
       "       [0, 0, 0, 0, 0, 0, 0, 0, 0, 0, 0, 0, 0, 1, 0, 0]], dtype=uint8)"
      ]
     },
     "execution_count": 30,
     "metadata": {},
     "output_type": "execute_result"
    }
   ],
   "source": [
    "arr_bits = np.unpackbits(np.array([8, 3, 4], dtype='>i2').view(np.uint8)).reshape(-1, 16)\n",
    "arr_bits"
   ]
  },
  {
   "cell_type": "code",
   "execution_count": 26,
   "id": "c28818a8",
   "metadata": {},
   "outputs": [
    {
     "name": "stdout",
     "output_type": "stream",
     "text": [
      "23 11 5 2 1 0\n",
      "1 1 1 0 1\n"
     ]
    }
   ],
   "source": [
    "a = 23\n",
    "def d(x): return divmod(x, 2)\n",
    "d(a)\n",
    "a1, m1 = d(a)\n",
    "a2, m2 = d(a1)\n",
    "a3, m3 = d(a2)\n",
    "a4, m4 = d(a3)\n",
    "a5, m5 = d(a4)\n",
    "print(a, a1, a2, a3, a4, a5)\n",
    "print(m1, m2, m3, m4, m5)"
   ]
  },
  {
   "cell_type": "code",
   "execution_count": 28,
   "id": "f4777672",
   "metadata": {},
   "outputs": [
    {
     "ename": "AttributeError",
     "evalue": "module 'numpy' has no attribute 'binary'",
     "output_type": "error",
     "traceback": [
      "\u001b[0;31m---------------------------------------------------------------------------\u001b[0m",
      "\u001b[0;31mAttributeError\u001b[0m                            Traceback (most recent call last)",
      "\u001b[0;32m/tmp/ipykernel_42916/3398375871.py\u001b[0m in \u001b[0;36m<module>\u001b[0;34m\u001b[0m\n\u001b[0;32m----> 1\u001b[0;31m \u001b[0mnp\u001b[0m\u001b[0;34m.\u001b[0m\u001b[0mbinary\u001b[0m\u001b[0;34m(\u001b[0m\u001b[0;36m23\u001b[0m\u001b[0;34m)\u001b[0m\u001b[0;34m\u001b[0m\u001b[0;34m\u001b[0m\u001b[0m\n\u001b[0m",
      "\u001b[0;32m~/anaconda3/lib/python3.9/site-packages/numpy/__init__.py\u001b[0m in \u001b[0;36m__getattr__\u001b[0;34m(attr)\u001b[0m\n\u001b[1;32m    301\u001b[0m                 \u001b[0;32mreturn\u001b[0m \u001b[0mTester\u001b[0m\u001b[0;34m\u001b[0m\u001b[0;34m\u001b[0m\u001b[0m\n\u001b[1;32m    302\u001b[0m \u001b[0;34m\u001b[0m\u001b[0m\n\u001b[0;32m--> 303\u001b[0;31m             raise AttributeError(\"module {!r} has no attribute \"\n\u001b[0m\u001b[1;32m    304\u001b[0m                                  \"{!r}\".format(__name__, attr))\n\u001b[1;32m    305\u001b[0m \u001b[0;34m\u001b[0m\u001b[0m\n",
      "\u001b[0;31mAttributeError\u001b[0m: module 'numpy' has no attribute 'binary'"
     ]
    }
   ],
   "source": [
    "np.binary(23)"
   ]
  },
  {
   "cell_type": "code",
   "execution_count": 27,
   "id": "8c1c1d01",
   "metadata": {},
   "outputs": [
    {
     "data": {
      "text/plain": [
       "'0b10111'"
      ]
     },
     "execution_count": 27,
     "metadata": {},
     "output_type": "execute_result"
    }
   ],
   "source": [
    "bin(23)"
   ]
  },
  {
   "cell_type": "markdown",
   "id": "6bc61173",
   "metadata": {},
   "source": [
    "Neatsakingai naudodami atributą `.strides`, mes pakeitėme jo reikšmę, kuri nurodo, kiek baitų (po 8 bitus) reikia praleisti, norint nuskaityti masyvo duomenis. Gavome, kad dabar masyvo nariai buvo skaitomi iš tokių bitų eilučių:"
   ]
  },
  {
   "cell_type": "code",
   "execution_count": 31,
   "id": "522a40ea",
   "metadata": {},
   "outputs": [
    {
     "data": {
      "text/plain": [
       "array([[0, 0, 0, 0, 0, 0, 0, 0, 0, 0, 0, 0, 1, 0, 0, 0],\n",
       "       [0, 0, 0, 0, 1, 0, 0, 0, 0, 0, 0, 0, 0, 0, 0, 0],\n",
       "       [0, 0, 0, 0, 0, 0, 0, 0, 0, 0, 0, 0, 0, 0, 1, 1]], dtype=uint8)"
      ]
     },
     "execution_count": 31,
     "metadata": {},
     "output_type": "execute_result"
    }
   ],
   "source": [
    "np.lib.stride_tricks.as_strided(arr_bits.ravel(), shape=(3, 16), strides=(8, 1))"
   ]
  },
  {
   "cell_type": "markdown",
   "id": "20b7de9a",
   "metadata": {},
   "source": [
    "Todėl rezultatas buvo trys skaičiai: 8, 768 ir 3"
   ]
  },
  {
   "cell_type": "markdown",
   "id": "75b1f86c",
   "metadata": {},
   "source": [
    "### Neleistino atributo keitimo pavyzdys"
   ]
  },
  {
   "cell_type": "markdown",
   "id": "852b0098",
   "metadata": {},
   "source": [
    "Žinome, kad masyvai turi atributą `.nbytes`, parodantį, kiek baitų vietos jis užima"
   ]
  },
  {
   "cell_type": "code",
   "execution_count": 70,
   "id": "0e284e67",
   "metadata": {},
   "outputs": [
    {
     "data": {
      "text/plain": [
       "6"
      ]
     },
     "execution_count": 70,
     "metadata": {},
     "output_type": "execute_result"
    }
   ],
   "source": [
    "arr = np.array([8, 3, 4], dtype=np.uint16)\n",
    "arr.nbytes"
   ]
  },
  {
   "cell_type": "markdown",
   "id": "5299e4c1",
   "metadata": {},
   "source": [
    "Štai, kas bus, jei bandysime jį pakeisti"
   ]
  },
  {
   "cell_type": "code",
   "execution_count": 71,
   "id": "feca3cf3",
   "metadata": {},
   "outputs": [
    {
     "ename": "AttributeError",
     "evalue": "attribute 'nbytes' of 'numpy.ndarray' objects is not writable",
     "output_type": "error",
     "traceback": [
      "\u001b[0;31m---------------------------------------------------------------------------\u001b[0m",
      "\u001b[0;31mAttributeError\u001b[0m                            Traceback (most recent call last)",
      "\u001b[0;32m/tmp/ipykernel_124562/3329140033.py\u001b[0m in \u001b[0;36m<module>\u001b[0;34m\u001b[0m\n\u001b[0;32m----> 1\u001b[0;31m \u001b[0marr\u001b[0m\u001b[0;34m.\u001b[0m\u001b[0mnbytes\u001b[0m \u001b[0;34m=\u001b[0m \u001b[0;36m3\u001b[0m\u001b[0;34m\u001b[0m\u001b[0;34m\u001b[0m\u001b[0m\n\u001b[0m",
      "\u001b[0;31mAttributeError\u001b[0m: attribute 'nbytes' of 'numpy.ndarray' objects is not writable"
     ]
    }
   ],
   "source": [
    "arr.nbytes = 3"
   ]
  },
  {
   "cell_type": "markdown",
   "id": "1c834caa",
   "metadata": {},
   "source": [
    "### Neegzistuojančio atributo pavyzdys"
   ]
  },
  {
   "cell_type": "code",
   "execution_count": 84,
   "id": "1602ff3f",
   "metadata": {},
   "outputs": [
    {
     "ename": "AttributeError",
     "evalue": "'numpy.ndarray' object has no attribute 'party'",
     "output_type": "error",
     "traceback": [
      "\u001b[0;31m---------------------------------------------------------------------------\u001b[0m",
      "\u001b[0;31mAttributeError\u001b[0m                            Traceback (most recent call last)",
      "\u001b[0;32m/tmp/ipykernel_132466/3829648155.py\u001b[0m in \u001b[0;36m<module>\u001b[0;34m\u001b[0m\n\u001b[1;32m      1\u001b[0m \u001b[0marr\u001b[0m \u001b[0;34m=\u001b[0m \u001b[0mnp\u001b[0m\u001b[0;34m.\u001b[0m\u001b[0marray\u001b[0m\u001b[0;34m(\u001b[0m\u001b[0;34m[\u001b[0m\u001b[0;36m8\u001b[0m\u001b[0;34m,\u001b[0m \u001b[0;36m3\u001b[0m\u001b[0;34m,\u001b[0m \u001b[0;36m4\u001b[0m\u001b[0;34m]\u001b[0m\u001b[0;34m,\u001b[0m \u001b[0mdtype\u001b[0m\u001b[0;34m=\u001b[0m\u001b[0mnp\u001b[0m\u001b[0;34m.\u001b[0m\u001b[0muint16\u001b[0m\u001b[0;34m)\u001b[0m\u001b[0;34m\u001b[0m\u001b[0;34m\u001b[0m\u001b[0m\n\u001b[0;32m----> 2\u001b[0;31m \u001b[0marr\u001b[0m\u001b[0;34m.\u001b[0m\u001b[0mparty\u001b[0m \u001b[0;34m=\u001b[0m \u001b[0;36m5\u001b[0m\u001b[0;34m\u001b[0m\u001b[0;34m\u001b[0m\u001b[0m\n\u001b[0m",
      "\u001b[0;31mAttributeError\u001b[0m: 'numpy.ndarray' object has no attribute 'party'"
     ]
    }
   ],
   "source": [
    "arr = np.array([8, 3, 4], dtype=np.uint16)\n",
    "arr.party = 5"
   ]
  },
  {
   "cell_type": "markdown",
   "id": "81c4d3d7",
   "metadata": {},
   "source": [
    "Visais šiais atvejais (nepageidautinos objekto elgsenos, neleistino atributo keitimo ir neegzistuojančio atributo keitimo) atributo keitimas nebuvo sklandus. Todėl reikia ieškoti kitokių sprendimų."
   ]
  },
  {
   "cell_type": "markdown",
   "id": "f374ebbf",
   "metadata": {},
   "source": [
    "## Saugus atributų keitimas"
   ]
  },
  {
   "cell_type": "markdown",
   "id": "35e625a5",
   "metadata": {},
   "source": [
    "Galima įsitikinti, kad masyvai taip pat turi atributą `flags`:"
   ]
  },
  {
   "cell_type": "code",
   "execution_count": 3,
   "id": "2615ec38",
   "metadata": {},
   "outputs": [
    {
     "data": {
      "text/plain": [
       "  C_CONTIGUOUS : True\n",
       "  F_CONTIGUOUS : True\n",
       "  OWNDATA : True\n",
       "  WRITEABLE : True\n",
       "  ALIGNED : True\n",
       "  WRITEBACKIFCOPY : False\n",
       "  UPDATEIFCOPY : False"
      ]
     },
     "execution_count": 3,
     "metadata": {},
     "output_type": "execute_result"
    }
   ],
   "source": [
    "arr = np.array([8, 3, 4], dtype=np.uint16)\n",
    "arr.flags"
   ]
  },
  {
   "cell_type": "markdown",
   "id": "c97f0e59",
   "metadata": {},
   "source": [
    "Šis atributas yra Python žodynas. Galime pakeisti vieną iš to žodyno elementų:"
   ]
  },
  {
   "cell_type": "code",
   "execution_count": 16,
   "id": "420d9606",
   "metadata": {},
   "outputs": [],
   "source": [
    "arr.flags['WRITEABLE'] = False"
   ]
  },
  {
   "cell_type": "markdown",
   "id": "f5d955b6",
   "metadata": {},
   "source": [
    "Tokiu būdu pakeisime šio objekto nustatymus taip, kad į jį nebūtų galima įrašyti duomenų:"
   ]
  },
  {
   "cell_type": "code",
   "execution_count": 17,
   "id": "1dc18e92",
   "metadata": {},
   "outputs": [
    {
     "ename": "ValueError",
     "evalue": "assignment destination is read-only",
     "output_type": "error",
     "traceback": [
      "\u001b[0;31m---------------------------------------------------------------------------\u001b[0m",
      "\u001b[0;31mValueError\u001b[0m                                Traceback (most recent call last)",
      "\u001b[0;32m/tmp/ipykernel_132466/1667713418.py\u001b[0m in \u001b[0;36m<module>\u001b[0;34m\u001b[0m\n\u001b[0;32m----> 1\u001b[0;31m \u001b[0marr\u001b[0m\u001b[0;34m[\u001b[0m\u001b[0;36m1\u001b[0m\u001b[0;34m]\u001b[0m \u001b[0;34m=\u001b[0m \u001b[0;36m99\u001b[0m\u001b[0;34m\u001b[0m\u001b[0;34m\u001b[0m\u001b[0m\n\u001b[0m",
      "\u001b[0;31mValueError\u001b[0m: assignment destination is read-only"
     ]
    }
   ],
   "source": [
    "arr[1] = 99"
   ]
  },
  {
   "cell_type": "markdown",
   "id": "731498f3",
   "metadata": {},
   "source": [
    "Tai vis dar nėra saugus atributo keitimo būdas. Įprastai tokiais atvejais objektai turėtų būti apibrėžiami taip, kad turėtų metodus, skirtus keisti atributams"
   ]
  },
  {
   "cell_type": "code",
   "execution_count": 18,
   "id": "17f3525d",
   "metadata": {},
   "outputs": [
    {
     "data": {
      "text/plain": [
       "array([ 8, 99,  4], dtype=uint16)"
      ]
     },
     "execution_count": 18,
     "metadata": {},
     "output_type": "execute_result"
    }
   ],
   "source": [
    "arr.setflags(write=True)\n",
    "arr[1] = 99\n",
    "arr"
   ]
  },
  {
   "cell_type": "markdown",
   "id": "171aea53",
   "metadata": {},
   "source": [
    "[Ar tokį metodą turi `arr.strides` atributas](https://stackoverflow.com/questions/71166797)?"
   ]
  },
  {
   "cell_type": "markdown",
   "id": "931795b1",
   "metadata": {},
   "source": [
    "## Kaip sukurti objektą su norimais atributais? "
   ]
  },
  {
   "cell_type": "markdown",
   "id": "d66e69c9",
   "metadata": {},
   "source": [
    "Prieš tai ypatingą dėmesį skyrėme masyvams, kurie yra klasės `numpy.ndarray` objektai:"
   ]
  },
  {
   "cell_type": "code",
   "execution_count": 26,
   "id": "7ce68bc9",
   "metadata": {},
   "outputs": [
    {
     "name": "stdout",
     "output_type": "stream",
     "text": [
      "<class 'numpy.ndarray'>\n"
     ]
    }
   ],
   "source": [
    "print(type(arr))"
   ]
  },
  {
   "cell_type": "markdown",
   "id": "6d6de780",
   "metadata": {},
   "source": [
    "Jų elgsena buvo aprašyta `numpy` bibliotekos kūrėjų. \n",
    "\n",
    "### Kuriame paprasčiausią objektą, turintį atributus\n",
    "Tarkime dabar norime sukurti objektą, kurio pageidaujamos savybės yra tokios:\n",
    "\n",
    "* objektas turi duomenų atstovą `age`\n",
    "* objektas turi duomenų atstovą `weight`\n",
    "* objektas turi duomenų atstovą `height`\n",
    "* objektas apibūdina moksleivį\n",
    "\n",
    "Tokiu atveju klasę turime aprašyti patys:"
   ]
  },
  {
   "cell_type": "code",
   "execution_count": 70,
   "id": "a73cb370",
   "metadata": {},
   "outputs": [],
   "source": [
    "class Student:\n",
    "    age = 14\n",
    "    weight = 68\n",
    "    height = 172\n",
    "\n",
    "Marius = Student()"
   ]
  },
  {
   "cell_type": "markdown",
   "id": "71db6afa",
   "metadata": {},
   "source": [
    "Čia buvo sukurtas `Student` klasės objektas `Marius`. Pažiūrėję šio objekto tipą pamatysime, kad jis susideda iš dviejų dalių: aplinkos, kurioje buvo kuriama klasė, pavadinimo, ir klasės pavadinimo:"
   ]
  },
  {
   "cell_type": "code",
   "execution_count": 30,
   "id": "bc759a40",
   "metadata": {},
   "outputs": [
    {
     "name": "stdout",
     "output_type": "stream",
     "text": [
      "<class '__main__.Student'>\n"
     ]
    }
   ],
   "source": [
    "print(type(Marius))"
   ]
  },
  {
   "cell_type": "markdown",
   "id": "5a6960e5",
   "metadata": {},
   "source": [
    "Mūsų sukurtas objektas jau turės atributus, kurių pageidavome:"
   ]
  },
  {
   "cell_type": "code",
   "execution_count": 32,
   "id": "e7700964",
   "metadata": {},
   "outputs": [
    {
     "data": {
      "text/plain": [
       "(12, 68, 172)"
      ]
     },
     "execution_count": 32,
     "metadata": {},
     "output_type": "execute_result"
    }
   ],
   "source": [
    "Marius.age, Marius.weight, Marius.height"
   ]
  },
  {
   "cell_type": "markdown",
   "id": "13e888ee",
   "metadata": {},
   "source": [
    "Juos taip pat galima keisti:"
   ]
  },
  {
   "cell_type": "code",
   "execution_count": 34,
   "id": "26a390ab",
   "metadata": {},
   "outputs": [],
   "source": [
    "Marius.age = 15\n",
    "Marius.weight = 70\n",
    "Marius.height = 175"
   ]
  },
  {
   "cell_type": "code",
   "execution_count": 35,
   "id": "9b9b40f9",
   "metadata": {},
   "outputs": [
    {
     "data": {
      "text/plain": [
       "(15, 70, 175)"
      ]
     },
     "execution_count": 35,
     "metadata": {},
     "output_type": "execute_result"
    }
   ],
   "source": [
    "Marius.age, Marius.weight, Marius.height"
   ]
  },
  {
   "cell_type": "markdown",
   "id": "ea6b5b13",
   "metadata": {},
   "source": [
    "Dabar sukurkime kitą objektą vardu Aldona, kuri yra jaunesnė ir mažesnio sudėjimo:"
   ]
  },
  {
   "cell_type": "code",
   "execution_count": 67,
   "id": "0b3b0ff1",
   "metadata": {},
   "outputs": [
    {
     "data": {
      "text/plain": [
       "(14, 68, 172)"
      ]
     },
     "execution_count": 67,
     "metadata": {},
     "output_type": "execute_result"
    }
   ],
   "source": [
    "Aldona = Student()\n",
    "Aldona.age, Aldona.weight, Aldona.height"
   ]
  },
  {
   "cell_type": "code",
   "execution_count": 69,
   "id": "bbe21d38",
   "metadata": {},
   "outputs": [
    {
     "data": {
      "text/plain": [
       "(12, 49, 145)"
      ]
     },
     "execution_count": 69,
     "metadata": {},
     "output_type": "execute_result"
    }
   ],
   "source": [
    "Aldona.age, Aldona.weight, Aldona.height = 12, 49, 145\n",
    "Aldona.age, Aldona.weight, Aldona.height"
   ]
  },
  {
   "cell_type": "markdown",
   "id": "6d555ac1",
   "metadata": {},
   "source": [
    "Matome, kad sukūrus kiekvieną `Student` klasės objektą, jo atributai yra nustatomi automatiškai. Tai dažniausiai nėra pageidautina, nes automatiškai sukurti neteisingas atributų reikšmes ir paskui jas perrašyti nei efektyvu, nei patrauklu vartotojui. Be to, būdas kuriuo priskyrėme atributų reikšmes, bendru atveju nėra saugus, ne objekto elgsena gali pasikeisti netikėta linkme."
   ]
  },
  {
   "cell_type": "markdown",
   "id": "46e9f706",
   "metadata": {},
   "source": [
    "Kitoje temoje apžvelgsime būdus, kaip galima pakeisti objekto `Student` aprašą į tinkamesnį. O kol kas atkreipkime dėmesį, kad dabartiniame klasės apraše nebuvo nei vieno metodo. Vadinasi, visi kintamieji, kuriuos apibrėžėme, buvo klasės, bet ne egzemplioriaus kintamieji. Gerokai dažniau pasitaiko klasės, kuriose kuriami egzemplioriaus kintamieji. Apie tai - kitoje temoje."
   ]
  }
 ],
 "metadata": {
  "kernelspec": {
   "display_name": "Python 3 (ipykernel)",
   "language": "python",
   "name": "python3"
  },
  "language_info": {
   "codemirror_mode": {
    "name": "ipython",
    "version": 3
   },
   "file_extension": ".py",
   "mimetype": "text/x-python",
   "name": "python",
   "nbconvert_exporter": "python",
   "pygments_lexer": "ipython3",
   "version": "3.9.7"
  }
 },
 "nbformat": 4,
 "nbformat_minor": 5
}
