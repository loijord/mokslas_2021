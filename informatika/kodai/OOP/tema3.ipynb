{
 "cells": [
  {
   "cell_type": "markdown",
   "id": "69323253",
   "metadata": {},
   "source": [
    "# OOP: instance variables (egzemplioriaus kintamieji)\n",
    "\n",
    "Šioje temoje susipažinsime su trimis būdais aprašyti egzemplioriaus kintamųjų priskyrimą.  \n",
    "\n",
    "Medžiaga parengta pagal [GeeksForGeeks: getter and setter in Python](https://www.geeksforgeeks.org/getter-and-setter-in-python/)\n",
    "\n",
    "## The Concepts of Objectively Oriented Programming\n",
    "\n",
    "* **Klasė** (class) − vartotojo apibrėžtas objekto prototipas, kuris apibrėžia atributų, charakterizuojančių bet kurį tos klasės objektą, rinkinį.  \n",
    "* **Atributai** (attributes) - tai duomenų atstovai (klasės kintamieji arba egzempliorių kintamieji) ir metodai, prieinami naudojant taško žymėjimą.  \n",
    "\n",
    "* **Klasės kintamasis** (class variable) − kintamasis, priklausantis visiems tos klasės egzemplioriams. Klasės kintamieji yra apibrėžiami klasės viduje, bet už metodų ribų.  \n",
    "\n",
    "* **Egzemplioriaus kintamasis** (instance variable) − kintamasis, apibrėžiamas tam tikrame klasės metode ir priklausantis tik tam tikram klasės instance.  \n",
    "\n",
    "* **Metodas** (method) - tai tam tikra funkcija, apibrėžiama klasės apraše.  \n",
    "\n",
    "* **Duomenų atstovas** (data member) − tai klasės kintamasis arba egzemplioriaus kintamasis, kuriame laikomi duomenys, susieti su klase ir jos objektais.  \n",
    "\n",
    "* **Egzempliorius** (instance) − individualus tam tikros klasės objektas.    \n",
    "\n",
    "* **Instantiation / initialization** − klasės egzemplioriaus sukūrimas.  \n",
    "\n",
    "* **Objektas** (object) − unikalus duomenų struktūros egzempliorius, apibrėžtas klasės, kuriam jis priklauso. Objektus sudaro duomenų atstovai (klasės kintamieji arba instance kintamieji) ir metodai.  \n",
    "\n",
    "[Versta iš [TutorialsPoint](https://www.tutorialspoint.com/python/python_classes_objects.htm)]"
   ]
  },
  {
   "cell_type": "markdown",
   "id": "257299dc",
   "metadata": {},
   "source": [
    "Ankstesnėje temoje matėme klasės aprašymą, kuriame yra priskiriami klasės kintamieji:"
   ]
  },
  {
   "cell_type": "code",
   "execution_count": null,
   "id": "2e638223",
   "metadata": {},
   "outputs": [],
   "source": [
    "class Student:\n",
    "    age = 14\n",
    "    weight = 68\n",
    "    height = 172\n",
    "\n",
    "Marius = Student()"
   ]
  },
  {
   "cell_type": "markdown",
   "id": "3c867669",
   "metadata": {},
   "source": [
    "Jis nėra patogus vartotojui, nes kiekvieną kartą sukuriant naują šios klasės objektą, yra priskiriami bereikalingi klasės kintamieji. Norint, kad taip nebūtų, juos pakeisime egzemplioriaus kintamaisiais."
   ]
  },
  {
   "cell_type": "markdown",
   "id": "77cd8caa",
   "metadata": {},
   "source": [
    "## Pirmas būdas: `__init__` metodas\n",
    "Be šio metodo neapsieinama daugelyje klasių"
   ]
  },
  {
   "cell_type": "code",
   "execution_count": 75,
   "id": "29977816",
   "metadata": {},
   "outputs": [],
   "source": [
    "class Student:\n",
    "    def __init__(self, age, weight, height):\n",
    "        self.age = age\n",
    "        self.weight = weight\n",
    "        self.height = height"
   ]
  },
  {
   "cell_type": "markdown",
   "id": "f0191e94",
   "metadata": {},
   "source": [
    "Dabar pamatysime, kad kuriant naują `Student` klasės metodą privaloma nurodyti tris kintamuosius:"
   ]
  },
  {
   "cell_type": "code",
   "execution_count": 76,
   "id": "1b526973",
   "metadata": {},
   "outputs": [
    {
     "ename": "TypeError",
     "evalue": "__init__() missing 3 required positional arguments: 'age', 'weight', and 'height'",
     "output_type": "error",
     "traceback": [
      "\u001b[0;31m---------------------------------------------------------------------------\u001b[0m",
      "\u001b[0;31mTypeError\u001b[0m                                 Traceback (most recent call last)",
      "\u001b[0;32m/tmp/ipykernel_124562/3027654599.py\u001b[0m in \u001b[0;36m<module>\u001b[0;34m\u001b[0m\n\u001b[0;32m----> 1\u001b[0;31m \u001b[0mMarius\u001b[0m \u001b[0;34m=\u001b[0m \u001b[0mStudent\u001b[0m\u001b[0;34m(\u001b[0m\u001b[0;34m)\u001b[0m\u001b[0;34m\u001b[0m\u001b[0;34m\u001b[0m\u001b[0m\n\u001b[0m",
      "\u001b[0;31mTypeError\u001b[0m: __init__() missing 3 required positional arguments: 'age', 'weight', and 'height'"
     ]
    }
   ],
   "source": [
    "Marius = Student()"
   ]
  },
  {
   "cell_type": "markdown",
   "id": "e4af9312",
   "metadata": {},
   "source": [
    "Tą ir padarome:"
   ]
  },
  {
   "cell_type": "code",
   "execution_count": 78,
   "id": "5f117774",
   "metadata": {},
   "outputs": [
    {
     "data": {
      "text/plain": [
       "(15, 70, 172)"
      ]
     },
     "execution_count": 78,
     "metadata": {},
     "output_type": "execute_result"
    }
   ],
   "source": [
    "Marius = Student(15, 70, 172)\n",
    "Marius.age, Marius.weight, Marius.height"
   ]
  },
  {
   "cell_type": "markdown",
   "id": "6e875efc",
   "metadata": {},
   "source": [
    "Jei norime, kad vartotojui sukūrus naują klasės `Student` objektą kintamųjų nurodyti nebūtų privaloma, galime aprašyti `__init__` metodą kitaip:"
   ]
  },
  {
   "cell_type": "code",
   "execution_count": 81,
   "id": "e40b02a3",
   "metadata": {},
   "outputs": [],
   "source": [
    "class Student:\n",
    "    def __init__(self, age=None, weight=None, height=None):\n",
    "        self.age = age\n",
    "        self.weight = weight\n",
    "        self.height = height"
   ]
  },
  {
   "cell_type": "markdown",
   "id": "99efe722",
   "metadata": {},
   "source": [
    "Tada bus priskiriamos numatytosios reikšmės:"
   ]
  },
  {
   "cell_type": "code",
   "execution_count": 83,
   "id": "f168b833",
   "metadata": {},
   "outputs": [
    {
     "data": {
      "text/plain": [
       "(None, None, None)"
      ]
     },
     "execution_count": 83,
     "metadata": {},
     "output_type": "execute_result"
    }
   ],
   "source": [
    "Marius = Student()\n",
    "Marius.age, Marius.weight, Marius.height"
   ]
  },
  {
   "cell_type": "markdown",
   "id": "c7dfb363",
   "metadata": {},
   "source": [
    "Abiem šiais atvejais kintamųjų sukūrimas - vartotojo valioje, todėl egzemplioriaus kintamųjų naudojimas klasės apraše sutinkamas kur kas dažniau"
   ]
  },
  {
   "cell_type": "markdown",
   "id": "c1e725bc",
   "metadata": {},
   "source": [
    "## Antras būdas: `getter` & `setter`"
   ]
  },
  {
   "cell_type": "markdown",
   "id": "0845aafd",
   "metadata": {},
   "source": [
    "Sukuriant atributus `__init__` metode vis dar išliko problema, kad juos galima priskirti tik išoriškai:"
   ]
  },
  {
   "cell_type": "code",
   "execution_count": 85,
   "id": "881c9f05",
   "metadata": {},
   "outputs": [],
   "source": [
    "Marius.age = 16"
   ]
  },
  {
   "cell_type": "markdown",
   "id": "0cdcde27",
   "metadata": {},
   "source": [
    "Toks priskyrimas, kaip matėme, gali sukelti daug nesklandumų: vartotojui gali kainuoti laiko išsiaiškinti, kad toks atributas egzistuoja ir pilnai suprasti, kaip pakeis objekto elgseną toks pakeitimas. Norint to išvengti galima aprašyti atskirus `getter` ir `setter` metodus, dedikuotus atributo reikšmės nustatymui arba pakeitimui:"
   ]
  },
  {
   "cell_type": "code",
   "execution_count": 87,
   "id": "d68efc6d",
   "metadata": {},
   "outputs": [],
   "source": [
    "class Student:\n",
    "    def __init__(self, age=None, weight=None, height=None):\n",
    "        self.age = age\n",
    "        self.weight = weight\n",
    "        self.height = height\n",
    "\n",
    "    # getter method\n",
    "    def get_age(self):\n",
    "        return self.age\n",
    "      \n",
    "    # setter method\n",
    "    def set_age(self, x):\n",
    "        self.age = x\n",
    "        \n",
    "    # getter method\n",
    "    def get_weight(self):\n",
    "        return self.weight\n",
    "      \n",
    "    # setter method\n",
    "    def set_weight(self, x):\n",
    "        self.weight = x\n",
    "\n",
    "    # getter method\n",
    "    def get_height(self):\n",
    "        return self.height\n",
    "      \n",
    "    # setter method\n",
    "    def set_height(self, x):\n",
    "        self.height = x"
   ]
  },
  {
   "cell_type": "markdown",
   "id": "8b7c274b",
   "metadata": {},
   "source": [
    "Dabar galime ne tik saugiai keisti atributus, bet ir prie jų prieiti:"
   ]
  },
  {
   "cell_type": "code",
   "execution_count": 88,
   "id": "0b00df81",
   "metadata": {},
   "outputs": [
    {
     "data": {
      "text/plain": [
       "(17, 72, 180)"
      ]
     },
     "execution_count": 88,
     "metadata": {},
     "output_type": "execute_result"
    }
   ],
   "source": [
    "Marius = Student(17, 72, 180)\n",
    "Marius.get_age(), Marius.get_weight(), Marius.get_height()"
   ]
  },
  {
   "cell_type": "code",
   "execution_count": 89,
   "id": "2ee9f421",
   "metadata": {},
   "outputs": [
    {
     "data": {
      "text/plain": [
       "(16, 69, 176)"
      ]
     },
     "execution_count": 89,
     "metadata": {},
     "output_type": "execute_result"
    }
   ],
   "source": [
    "Marius.set_age(16)\n",
    "Marius.set_weight(69)\n",
    "Marius.set_height(176)\n",
    "Marius.get_age(), Marius.get_weight(), Marius.get_height()"
   ]
  },
  {
   "cell_type": "markdown",
   "id": "b40d9c6d",
   "metadata": {},
   "source": [
    "`getter` ir `setter` metodai padeda ne tik išvengti būtinybės juos keisti išoriškai, bet taip pat ir suteikia galimybę įvesti loginę patikrą nustatomiems arba gaunamiems kintamiesiems.\n",
    "\n",
    "Pailiustruosime, kaip tai padaryti kitos klasės `Daugianaris` apraše:"
   ]
  },
  {
   "cell_type": "code",
   "execution_count": 238,
   "id": "b525500f",
   "metadata": {},
   "outputs": [],
   "source": [
    "class Daugianaris:\n",
    "    def __init__(self, laipsniai=None, koeficientai=None): # apibrėžiamas metodas __init__\n",
    "        self.laipsniai = laipsniai # apibrėžiamas pirmas egzemplioriaus kintamasis\n",
    "        self.koeficientai = koeficientai # apibrėžiamas antras egzemplioriaus kintamasis\n",
    "       \n",
    "    # getter method\n",
    "    def get_laipsniai(self):\n",
    "        raise NotImplementedError('Laipsnių peržiūra šioje versijoje neprieinama.\\nJei norite juos matyti, naudokite Daugianaris.laipsniai')\n",
    "      \n",
    "    # setter method\n",
    "    def set_laipsniai(self, laipsniai):\n",
    "        if type(laipsniai) in (np.ndarray, tuple, list): #tikriname ar tipas geras\n",
    "            if np.all(np.array(laipsniai) % 1 == 0): #tikriname, ar įvesti laipsniai yra sveikieji\n",
    "                if np.all(np.array(laipsniai) >= 0): #tikriname, ar įvesti laipsniai yra teigiami\n",
    "                    if self.koeficientai is None or len(laipsniai) == len(self.koeficientai): #tikriname, ar laipsnių yra tiek, kiek koeficientų\n",
    "                        print(f'Laipsnių priskyrimas sėkmingas: {self.__class__.__name__}.laipsniai = {laipsniai}')\n",
    "                        self.laipsniai = laipsniai\n",
    "                    else: \n",
    "                        raise ValueError('Laipsnių turi būti tiek, kiek koeficientų')\n",
    "                else:\n",
    "                    raise ValueError('Laipsnių rodikliai turi būti neneigiami')\n",
    "            else:\n",
    "                raise ValueError('Laipsnių rodikliai turi būti sveiki skaičiai')\n",
    "        else:\n",
    "            raise TypeError('Laipsniai turi būti np.ndarray, list arba tuple tipo')\n",
    "\n",
    "    # getter method\n",
    "    def get_koeficientai(self):\n",
    "        return self.koeficientai\n",
    "      \n",
    "    # setter method\n",
    "    def set_koeficientai(self, koeficientai):\n",
    "        self.koeficientai = koeficientai"
   ]
  },
  {
   "cell_type": "markdown",
   "id": "6e53af82",
   "metadata": {},
   "source": [
    "Keletas pavyzdžių, kaip veikia loginė patikra:"
   ]
  },
  {
   "cell_type": "markdown",
   "id": "e4fa6b78",
   "metadata": {},
   "source": [
    "    P = Daugianaris()\n",
    "    P.set_laipsniai('skydas')\n",
    "    >>> TypeError: Laipsniai turi būti np.ndarray, list arba tuple tipo\n",
    "    P.set_laipsniai([0.5, 2, 3, 0])\n",
    "    >>> ValueError: Laipsnių rodikliai turi būti sveiki skaičiai\n",
    "    P.set_laipsniai([-1, 2, 3, 0])\n",
    "    >>> ValueError: Laipsnių rodikliai turi būti neneigiami\n",
    "    P.set_laipsniai([-1, 2, 3, 0])\n",
    "    >>> Laipsnių priskyrimas sėkmingas: Daugianaris.laipsniai = [1, 2, 3, 0]\n",
    "    P.get_laipsniai()\n",
    "    >>> NotImplementedError: Laipsnių peržiūra šioje versijoje neprieinama.\n",
    "    Jei norite juos matyti, naudokite Daugianaris.laipsniai"
   ]
  },
  {
   "cell_type": "markdown",
   "id": "b87cefef",
   "metadata": {},
   "source": [
    "Jei nenaudotume `setter` ir `getter` metodų:"
   ]
  },
  {
   "cell_type": "code",
   "execution_count": 242,
   "id": "53c6e19a",
   "metadata": {},
   "outputs": [
    {
     "name": "stdout",
     "output_type": "stream",
     "text": [
      "[1, 2, 3, 0] None\n"
     ]
    }
   ],
   "source": [
    "print(P.laipsniai, P.koeficientai)"
   ]
  },
  {
   "cell_type": "markdown",
   "id": "fc8a3c84",
   "metadata": {},
   "source": [
    "Kaip matome, įvedėme laipsnius, bet koeficientai liko neįvesti. Atliekant veiksmus su daugianariais, tokie atvejai tik pablogintų situaciją. Todėl geresnis klasės `Daugianaris` dizainas buvo laipsnių ir koeficientų įvedimą naujo klasės `Daugianaris` objekto kūrimo metu padaryti privalomą:\n",
    "\n",
    "    def __init__(self, laipsniai, koeficientai):\n",
    "        self.laipsniai = laipsniai\n",
    "        self.koeficientai = koeficientai"
   ]
  },
  {
   "cell_type": "markdown",
   "id": "a8937e56",
   "metadata": {},
   "source": [
    "## Trečias būdas: `property`"
   ]
  },
  {
   "cell_type": "markdown",
   "id": "26f984c7",
   "metadata": {},
   "source": [
    "Ar būtų įmanoma nesaugų išorinį atributų pakeitimą `P.laipsniai = [1, 2, 3, 0]` padaryti negalimu? Kitose objektinio programavimo kalbose tai yra daroma deklaruojant, kad kintamasis yra privatus, tačiau Python kalboje nėra tokios savybės. Vis dėlto, egzistuoja žymėjimas, leidžiantis atskirti, kada nepageidaujame, kad vartotojas keistų kintamąjį:\n",
    "\n",
    "    def __init__(self, laipsniai, koeficientai):\n",
    "        self._laipsniai = laipsniai\n",
    "        self._koeficientai = koeficientai\n",
    "        \n",
    "Komanda `P._laipsniai = [1, 2, 3, 0]` vis tiek veiks nepaisant to, kad objektas `P` turi `set_laipsniai` metodą. \n",
    "Pagal susitarimą, simbolio `_` prirašymas atributo vardo priekyje leidžia suprasti, kad priėjimas prie atributo reikšmės ar jos keitimas neturėtų būti daromas už klasės ribų. Tam, jeigu įmanoma, turėtų būti skirti `getter` ir `setter` metodai. \n",
    "\n",
    "Siekiant supaprastinti klasių aprašymą , Python kūrėjai numatė specialią įtaisytąją (built-in) `property` funkciją. Ji grąžiną objektą, turintį tris metodus: `getter()`, `setter()` ir `delete()`. Sukūrus bet kurį Python objektą, šiuos metodus dažnai atliekame rankiniu būdu:"
   ]
  },
  {
   "cell_type": "code",
   "execution_count": 195,
   "id": "147bf466",
   "metadata": {},
   "outputs": [
    {
     "data": {
      "text/plain": [
       "5"
      ]
     },
     "execution_count": 195,
     "metadata": {},
     "output_type": "execute_result"
    }
   ],
   "source": [
    "my_var = 5 # naujo objekto vardo sukūrimas ir reikšmės jam priskyrimas - setter atitikmuo\n",
    "my_var # getter atitikmuo"
   ]
  },
  {
   "cell_type": "code",
   "execution_count": 197,
   "id": "6612881a",
   "metadata": {},
   "outputs": [
    {
     "ename": "NameError",
     "evalue": "name 'my_var' is not defined",
     "output_type": "error",
     "traceback": [
      "\u001b[0;31m---------------------------------------------------------------------------\u001b[0m",
      "\u001b[0;31mNameError\u001b[0m                                 Traceback (most recent call last)",
      "\u001b[0;32m/tmp/ipykernel_124562/1507156334.py\u001b[0m in \u001b[0;36m<module>\u001b[0;34m\u001b[0m\n\u001b[0;32m----> 1\u001b[0;31m \u001b[0;32mdel\u001b[0m \u001b[0mmy_var\u001b[0m \u001b[0;31m#delete atitikmuo\u001b[0m\u001b[0;34m\u001b[0m\u001b[0;34m\u001b[0m\u001b[0m\n\u001b[0m\u001b[1;32m      2\u001b[0m \u001b[0mmy_var\u001b[0m \u001b[0;31m#gauname klaidą, nes my_var buvo pašalintas iš vardų registro\u001b[0m\u001b[0;34m\u001b[0m\u001b[0;34m\u001b[0m\u001b[0m\n",
      "\u001b[0;31mNameError\u001b[0m: name 'my_var' is not defined"
     ]
    }
   ],
   "source": [
    "del my_var #delete atitikmuo\n",
    "my_var #gauname klaidą, nes my_var buvo pašalintas iš vardų registro"
   ]
  },
  {
   "cell_type": "markdown",
   "id": "38abddb1",
   "metadata": {},
   "source": [
    "Norėdami pailiustruoti, kaip naudojamas `property` metodas, klasę `Daugianaris` aprašysime taip, kad naujas objektas būtų sukuriamas įvedus tik egzemplioriaus kintamąjį `koeficientai`, o egzemplioriaus kintamąjį `laipsniai` būtų galima vėliau priskirti patiems su griežtesne logine patikra. Tačiau `laipsniai` bus specialus `property` objektas, saugomas kaip klasės atributas, atliekant priskyrimą kodo viduje besikreipiantis į privatų egzemplioriaus atributą `_laipsniai`."
   ]
  },
  {
   "cell_type": "code",
   "execution_count": 247,
   "id": "0380b20e",
   "metadata": {},
   "outputs": [],
   "source": [
    "class Daugianaris:\n",
    "    def __init__(self, koeficientai=None): # apibrėžiamas metodas __init__\n",
    "        self._laipsniai = None # apibrėžiamas privatus atributas \n",
    "        self.koeficientai = koeficientai # apibrėžiamas privatus atributas\n",
    "       \n",
    "    # getter method of laipsniai\n",
    "    def get_laipsniai(self):\n",
    "        print('Gaunamas atributas Daugianaris._laipsniai')\n",
    "        return self._laipsniai\n",
    "      \n",
    "    # setter method of laipsniai\n",
    "    def set_laipsniai(self, laipsniai):\n",
    "        if type(laipsniai) in (np.ndarray, tuple, list): #tikriname ar tipas geras\n",
    "            if np.all(np.array(laipsniai) % 1 == 0): #tikriname, ar įvesti laipsniai yra sveikieji\n",
    "                if np.all(np.array(laipsniai) >= 0): #tikriname, ar įvesti laipsniai yra teigiami\n",
    "                    if len(laipsniai) == len(self._koeficientai): #tikriname, ar laipsnių yra tiek, kiek koeficientų\n",
    "                        print(f'Laipsnių priskyrimas sėkmingas: {self.__class__.__name__}.laipsniai = {laipsniai}')\n",
    "                        self._laipsniai = laipsniai\n",
    "                    else: \n",
    "                        raise ValueError('Laipsnių turi būti tiek, kiek koeficientų')\n",
    "                else:\n",
    "                    raise ValueError('Laipsnių rodikliai turi būti neneigiami')\n",
    "            else:\n",
    "                raise ValueError('Laipsnių rodikliai turi būti sveiki skaičiai')\n",
    "        else:\n",
    "            raise TypeError('Laipsniai turi būti np.ndarray, list arba tuple tipo')\n",
    "\n",
    "    # delete method of laipsniai\n",
    "    def del_laipsniai(self, laipsniai):\n",
    "        del self._laipsniai\n",
    "        \n",
    "    laipsniai = property(get_laipsniai, set_laipsniai, del_laipsniai)"
   ]
  },
  {
   "cell_type": "markdown",
   "id": "fd856b9b",
   "metadata": {},
   "source": [
    "Priminsime, kad toks klasės `Daugianaris` panaudojimas nėra pageidautinas, nes atributas `_laipsniai` yra privatus:"
   ]
  },
  {
   "cell_type": "code",
   "execution_count": 248,
   "id": "f5b9d289",
   "metadata": {},
   "outputs": [
    {
     "data": {
      "text/plain": [
       "[-1, 3, 4]"
      ]
     },
     "execution_count": 248,
     "metadata": {},
     "output_type": "execute_result"
    }
   ],
   "source": [
    "P = Daugianaris([1, 2, 1])\n",
    "P._laipsniai = [-1, 3, 4]\n",
    "P._laipsniai"
   ]
  },
  {
   "cell_type": "markdown",
   "id": "4b984bb2",
   "metadata": {},
   "source": [
    "Dabar pabandykime naudodami `property` objektą `P.laipsniai`:"
   ]
  },
  {
   "cell_type": "code",
   "execution_count": 249,
   "id": "d6198fa3",
   "metadata": {},
   "outputs": [
    {
     "ename": "ValueError",
     "evalue": "Laipsnių rodikliai turi būti neneigiami",
     "output_type": "error",
     "traceback": [
      "\u001b[0;31m---------------------------------------------------------------------------\u001b[0m",
      "\u001b[0;31mValueError\u001b[0m                                Traceback (most recent call last)",
      "\u001b[0;32m/tmp/ipykernel_124562/2686028597.py\u001b[0m in \u001b[0;36m<module>\u001b[0;34m\u001b[0m\n\u001b[1;32m      1\u001b[0m \u001b[0mP\u001b[0m \u001b[0;34m=\u001b[0m \u001b[0mDaugianaris\u001b[0m\u001b[0;34m(\u001b[0m\u001b[0;34m[\u001b[0m\u001b[0;36m1\u001b[0m\u001b[0;34m,\u001b[0m \u001b[0;36m2\u001b[0m\u001b[0;34m,\u001b[0m \u001b[0;36m1\u001b[0m\u001b[0;34m]\u001b[0m\u001b[0;34m)\u001b[0m\u001b[0;34m\u001b[0m\u001b[0;34m\u001b[0m\u001b[0m\n\u001b[0;32m----> 2\u001b[0;31m \u001b[0mP\u001b[0m\u001b[0;34m.\u001b[0m\u001b[0mlaipsniai\u001b[0m \u001b[0;34m=\u001b[0m \u001b[0;34m[\u001b[0m\u001b[0;34m-\u001b[0m\u001b[0;36m1\u001b[0m\u001b[0;34m,\u001b[0m \u001b[0;36m3\u001b[0m\u001b[0;34m,\u001b[0m \u001b[0;36m4\u001b[0m\u001b[0;34m]\u001b[0m\u001b[0;34m\u001b[0m\u001b[0;34m\u001b[0m\u001b[0m\n\u001b[0m\u001b[1;32m      3\u001b[0m \u001b[0mP\u001b[0m\u001b[0;34m.\u001b[0m\u001b[0mlaipsniai\u001b[0m\u001b[0;34m\u001b[0m\u001b[0;34m\u001b[0m\u001b[0m\n",
      "\u001b[0;32m/tmp/ipykernel_124562/1442017252.py\u001b[0m in \u001b[0;36mset_laipsniai\u001b[0;34m(self, laipsniai)\u001b[0m\n\u001b[1;32m     20\u001b[0m                         \u001b[0;32mraise\u001b[0m \u001b[0mValueError\u001b[0m\u001b[0;34m(\u001b[0m\u001b[0;34m'Laipsnių turi būti tiek, kiek koeficientų'\u001b[0m\u001b[0;34m)\u001b[0m\u001b[0;34m\u001b[0m\u001b[0;34m\u001b[0m\u001b[0m\n\u001b[1;32m     21\u001b[0m                 \u001b[0;32melse\u001b[0m\u001b[0;34m:\u001b[0m\u001b[0;34m\u001b[0m\u001b[0;34m\u001b[0m\u001b[0m\n\u001b[0;32m---> 22\u001b[0;31m                     \u001b[0;32mraise\u001b[0m \u001b[0mValueError\u001b[0m\u001b[0;34m(\u001b[0m\u001b[0;34m'Laipsnių rodikliai turi būti neneigiami'\u001b[0m\u001b[0;34m)\u001b[0m\u001b[0;34m\u001b[0m\u001b[0;34m\u001b[0m\u001b[0m\n\u001b[0m\u001b[1;32m     23\u001b[0m             \u001b[0;32melse\u001b[0m\u001b[0;34m:\u001b[0m\u001b[0;34m\u001b[0m\u001b[0;34m\u001b[0m\u001b[0m\n\u001b[1;32m     24\u001b[0m                 \u001b[0;32mraise\u001b[0m \u001b[0mValueError\u001b[0m\u001b[0;34m(\u001b[0m\u001b[0;34m'Laipsnių rodikliai turi būti sveiki skaičiai'\u001b[0m\u001b[0;34m)\u001b[0m\u001b[0;34m\u001b[0m\u001b[0;34m\u001b[0m\u001b[0m\n",
      "\u001b[0;31mValueError\u001b[0m: Laipsnių rodikliai turi būti neneigiami"
     ]
    }
   ],
   "source": [
    "P = Daugianaris([1, 2, 1])\n",
    "P.laipsniai = [-1, 3, 4]\n",
    "P.laipsniai"
   ]
  },
  {
   "cell_type": "markdown",
   "id": "bd905c78",
   "metadata": {},
   "source": [
    "Komanda `P.laipsniai = [-1, 3, 4]` buvo interpretuojama kaip komanda `P.set_laipsniai([-1, 3, 4])` ir šįsyk nepraėjo loginės patikros"
   ]
  },
  {
   "cell_type": "markdown",
   "id": "4005adcf",
   "metadata": {},
   "source": [
    "## Dekoratoriai"
   ]
  },
  {
   "cell_type": "markdown",
   "id": "7b8ee239",
   "metadata": {},
   "source": [
    "Dekoratoriai yra įrankis, leidžiantis modifikuoti funkcijų arba klasių elgesį nekeičiant kodo. "
   ]
  },
  {
   "cell_type": "markdown",
   "id": "6e030158",
   "metadata": {},
   "source": [
    "Dekoratorius yra funkcija, kuri pakeičia įvestos funkcijos veikimą ir grąžina rezultatą - pakeistą funkciją. Šiame pavyzdyje pakeisime funkcijos `serve_thing` elgesį:"
   ]
  },
  {
   "cell_type": "code",
   "execution_count": 285,
   "id": "ae6ac82c",
   "metadata": {},
   "outputs": [],
   "source": [
    "def modify_serve(func):\n",
    "    def inner(*args, **kwargs):\n",
    "        func(*args, **kwargs)\n",
    "        print(\"And can you add some sugar on top of it?\")\n",
    "    return inner\n",
    "\n",
    "def serve_thing(thing):\n",
    "    print(f\"I'd like one {thing} please\")"
   ]
  },
  {
   "cell_type": "markdown",
   "id": "abda8e2e",
   "metadata": {},
   "source": [
    "Štai taip veikia funkcija `serve_thing`:"
   ]
  },
  {
   "cell_type": "code",
   "execution_count": 287,
   "id": "a835f688",
   "metadata": {},
   "outputs": [
    {
     "name": "stdout",
     "output_type": "stream",
     "text": [
      "I'd like one Capuccino please\n"
     ]
    }
   ],
   "source": [
    "serve_thing('Capuccino')"
   ]
  },
  {
   "cell_type": "markdown",
   "id": "c8853b96",
   "metadata": {},
   "source": [
    "Taip veiks funkcija `serve_thing`, jei ją dekoruosime su dekoratoriumi `modify_serve`:"
   ]
  },
  {
   "cell_type": "code",
   "execution_count": 289,
   "id": "9f02c179",
   "metadata": {},
   "outputs": [
    {
     "name": "stdout",
     "output_type": "stream",
     "text": [
      "I'd like one Capuccino please\n",
      "And can you add some sugar on top of it?\n"
     ]
    }
   ],
   "source": [
    "fancy_serve = modify_serve(serve_thing)\n",
    "fancy_serve('Capuccino')"
   ]
  },
  {
   "cell_type": "markdown",
   "id": "df7a6d7c",
   "metadata": {},
   "source": [
    "Dekoratoriams žymėti Python naudojamas specialus @ simbolis, naudojamas virš dekoruojamos funkcijos apibrėžimo:"
   ]
  },
  {
   "cell_type": "code",
   "execution_count": 290,
   "id": "083ceff2",
   "metadata": {},
   "outputs": [],
   "source": [
    "@modify_serve\n",
    "def serve_thing(thing):\n",
    "    print(f\"I'd like one {thing} please\")"
   ]
  },
  {
   "cell_type": "markdown",
   "id": "037ea32a",
   "metadata": {},
   "source": [
    "Tada galime matyti, kad funkcijos `serve_thin` elgesys bus pakeistas:"
   ]
  },
  {
   "cell_type": "code",
   "execution_count": 291,
   "id": "12109f8f",
   "metadata": {},
   "outputs": [
    {
     "name": "stdout",
     "output_type": "stream",
     "text": [
      "I'd like one Cappucino please\n",
      "And can you add some sugar on top of it?\n"
     ]
    }
   ],
   "source": [
    "serve_thing('Cappucino')"
   ]
  },
  {
   "cell_type": "markdown",
   "id": "d561c3de",
   "metadata": {},
   "source": [
    "Grįžkime prie funkcijos `property`. Kadangi ji yra įtaisytoji (builtin), tai įtaisytasis yra ir dekoratorius, žymimas `@`.Jei klasė turi daug atributų, tai yra nepatogu aprašant kiekvieną iš jų vartoti tuos pačius pavadinimus, prasidedančius `get` ir `set`. Tam pasitarnauja dekoratoriai `@property`, `@laipsniai.setter`, `@laipsniai.deleter`. Klasę `Daugianaris` buvo galima aprašyti paprasčiau: "
   ]
  },
  {
   "cell_type": "code",
   "execution_count": 254,
   "id": "a2d72802",
   "metadata": {},
   "outputs": [],
   "source": [
    "class Daugianaris:\n",
    "    def __init__(self, koeficientai=None): # apibrėžiamas metodas __init__\n",
    "        self._laipsniai = None # apibrėžiamas privatus atributas \n",
    "        self.koeficientai = koeficientai # apibrėžiamas atributas\n",
    "       \n",
    "    @property\n",
    "    def laipsniai(self):\n",
    "        print('Gaunamas atributas Daugianaris._laipsniai')\n",
    "        return self._laipsniai\n",
    "      \n",
    "    @laipsniai.setter\n",
    "    def laipsniai(self, laipsniai):\n",
    "        if type(laipsniai) in (np.ndarray, tuple, list): #tikriname ar tipas geras\n",
    "            if np.all(np.array(laipsniai) % 1 == 0): #tikriname, ar įvesti laipsniai yra sveikieji\n",
    "                if np.all(np.array(laipsniai) >= 0): #tikriname, ar įvesti laipsniai yra teigiami\n",
    "                    if len(laipsniai) == len(self._koeficientai): #tikriname, ar laipsnių yra tiek, kiek koeficientų\n",
    "                        print(f'Laipsnių priskyrimas sėkmingas: {self.__class__.__name__}.laipsniai = {laipsniai}')\n",
    "                        self._laipsniai = laipsniai\n",
    "                    else: \n",
    "                        raise ValueError('Laipsnių turi būti tiek, kiek koeficientų')\n",
    "                else:\n",
    "                    raise ValueError('Laipsnių rodikliai turi būti neneigiami')\n",
    "            else:\n",
    "                raise ValueError('Laipsnių rodikliai turi būti sveiki skaičiai')\n",
    "        else:\n",
    "            raise TypeError('Laipsniai turi būti np.ndarray, list arba tuple tipo')\n",
    "\n",
    "    @laipsniai.deleter\n",
    "    def laipsniai(self, laipsniai):\n",
    "        del self._laipsniai"
   ]
  }
 ],
 "metadata": {
  "kernelspec": {
   "display_name": "Python 3 (ipykernel)",
   "language": "python",
   "name": "python3"
  },
  "language_info": {
   "codemirror_mode": {
    "name": "ipython",
    "version": 3
   },
   "file_extension": ".py",
   "mimetype": "text/x-python",
   "name": "python",
   "nbconvert_exporter": "python",
   "pygments_lexer": "ipython3",
   "version": "3.9.7"
  }
 },
 "nbformat": 4,
 "nbformat_minor": 5
}
