{
 "cells": [
  {
   "cell_type": "markdown",
   "id": "c45a6c89",
   "metadata": {},
   "source": [
    "## Dokumentacinės eilutės ir doctestai\n",
    "Kaip valdyti kodą, kad juo galėtų naudotis kiti žmonės, kad jis būtų suprantamas ir gerai dokumentuotas? Tuo tikslu pasižiūrėkime bent vieną geros dokumentacijos pavyzdį:"
   ]
  },
  {
   "cell_type": "code",
   "execution_count": 1,
   "id": "494a5e86",
   "metadata": {},
   "outputs": [
    {
     "name": "stdout",
     "output_type": "stream",
     "text": [
      "Help on function packbits in module numpy:\n",
      "\n",
      "packbits(...)\n",
      "    packbits(a, axis=None, bitorder='big')\n",
      "    \n",
      "    Packs the elements of a binary-valued array into bits in a uint8 array.\n",
      "    \n",
      "    The result is padded to full bytes by inserting zero bits at the end.\n",
      "    \n",
      "    Parameters\n",
      "    ----------\n",
      "    a : array_like\n",
      "        An array of integers or booleans whose elements should be packed to\n",
      "        bits.\n",
      "    axis : int, optional\n",
      "        The dimension over which bit-packing is done.\n",
      "        ``None`` implies packing the flattened array.\n",
      "    bitorder : {'big', 'little'}, optional\n",
      "        The order of the input bits. 'big' will mimic bin(val),\n",
      "        ``[0, 0, 0, 0, 0, 0, 1, 1] => 3 = 0b00000011``, 'little' will\n",
      "        reverse the order so ``[1, 1, 0, 0, 0, 0, 0, 0] => 3``.\n",
      "        Defaults to 'big'.\n",
      "    \n",
      "        .. versionadded:: 1.17.0\n",
      "    \n",
      "    Returns\n",
      "    -------\n",
      "    packed : ndarray\n",
      "        Array of type uint8 whose elements represent bits corresponding to the\n",
      "        logical (0 or nonzero) value of the input elements. The shape of\n",
      "        `packed` has the same number of dimensions as the input (unless `axis`\n",
      "        is None, in which case the output is 1-D).\n",
      "    \n",
      "    See Also\n",
      "    --------\n",
      "    unpackbits: Unpacks elements of a uint8 array into a binary-valued output\n",
      "                array.\n",
      "    \n",
      "    Examples\n",
      "    --------\n",
      "    >>> a = np.array([[[1,0,1],\n",
      "    ...                [0,1,0]],\n",
      "    ...               [[1,1,0],\n",
      "    ...                [0,0,1]]])\n",
      "    >>> b = np.packbits(a, axis=-1)\n",
      "    >>> b\n",
      "    array([[[160],\n",
      "            [ 64]],\n",
      "           [[192],\n",
      "            [ 32]]], dtype=uint8)\n",
      "    \n",
      "    Note that in binary 160 = 1010 0000, 64 = 0100 0000, 192 = 1100 0000,\n",
      "    and 32 = 0010 0000.\n",
      "\n"
     ]
    }
   ],
   "source": [
    "import numpy as np\n",
    "help(np.packbits)"
   ]
  },
  {
   "cell_type": "markdown",
   "id": "27402537",
   "metadata": {},
   "source": [
    "## Docstrings"
   ]
  },
  {
   "cell_type": "markdown",
   "id": "bd4ff49e",
   "metadata": {},
   "source": [
    "Pasižiūrėkime, kaip atrodo bet kurio mūsų paties aprašyto Python metodo dokumentacija:"
   ]
  },
  {
   "cell_type": "code",
   "execution_count": 100,
   "id": "0391c86e",
   "metadata": {},
   "outputs": [
    {
     "name": "stdout",
     "output_type": "stream",
     "text": [
      "Help on function func in module __main__:\n",
      "\n",
      "func(x, y)\n",
      "\n"
     ]
    }
   ],
   "source": [
    "def func(x,y):\n",
    "    return x+y\n",
    "\n",
    "help(func)"
   ]
  },
  {
   "cell_type": "markdown",
   "id": "b139f4e8",
   "metadata": {},
   "source": [
    "Kol kas nieko nėra, bet pagal `np.packbits` pavyzdį galime patys lengvai pasirašyti tvarkingą dokumentaciją:"
   ]
  },
  {
   "cell_type": "code",
   "execution_count": 101,
   "id": "8c6a839d",
   "metadata": {},
   "outputs": [
    {
     "name": "stdout",
     "output_type": "stream",
     "text": [
      "Help on function func in module __main__:\n",
      "\n",
      "func(x, y)\n",
      "    Adds two numbers.\n",
      "    \n",
      "    Parameters\n",
      "    ----------\n",
      "        a, b : scalars\n",
      "            Two integers which should be added.\n",
      "        \n",
      "    Returns\n",
      "    -------\n",
      "        out : scalar\n",
      "            The sum of a and b.\n",
      "            \n",
      "    Examples\n",
      "    --------\n",
      "    >>> func(1, 3)\n",
      "    4\n",
      "    >>> func(-1, 1.5)\n",
      "    0.5\n",
      "\n"
     ]
    }
   ],
   "source": [
    "def func(x,y):\n",
    "    '''Adds two numbers.\n",
    "    \n",
    "    Parameters\n",
    "    ----------\n",
    "        a, b : scalars\n",
    "            Two integers which should be added.\n",
    "        \n",
    "    Returns\n",
    "    -------\n",
    "        out : scalar\n",
    "            The sum of a and b.\n",
    "            \n",
    "    Examples\n",
    "    --------\n",
    "    >>> func(1, 3)\n",
    "    4\n",
    "    >>> func(-1, 1.5)\n",
    "    0.5\n",
    "    '''\n",
    "    return x+y\n",
    "\n",
    "help(func)"
   ]
  },
  {
   "cell_type": "markdown",
   "id": "3de1f014",
   "metadata": {},
   "source": [
    "## Doctests"
   ]
  },
  {
   "cell_type": "markdown",
   "id": "37cadf12",
   "metadata": {},
   "source": [
    "Dokumentacinėje eilutėje po simbolių `>>>` einančios komandos nėra vien paprasti komandų naudojimo pavyzdžiai skaitytojui. Jos skirtos automatiškai patikrinti, ar naudojamo kodo elgsena yra tokia pati, kokios tikimasi."
   ]
  },
  {
   "cell_type": "code",
   "execution_count": 107,
   "id": "08c4d792",
   "metadata": {},
   "outputs": [
    {
     "name": "stdout",
     "output_type": "stream",
     "text": [
      "Trying:\n",
      "    func(1, 3)\n",
      "Expecting:\n",
      "    4\n",
      "ok\n",
      "Trying:\n",
      "    func(-1, 1.5)\n",
      "Expecting:\n",
      "    0.5\n",
      "ok\n",
      "1 items had no tests:\n",
      "    __main__\n",
      "1 items passed all tests:\n",
      "   2 tests in __main__.func\n",
      "2 tests in 2 items.\n",
      "2 passed and 0 failed.\n",
      "Test passed.\n"
     ]
    }
   ],
   "source": [
    "if __name__ == '__main__':\n",
    "    doctest.testmod(verbose=True)"
   ]
  },
  {
   "cell_type": "markdown",
   "id": "cc4b07ae",
   "metadata": {},
   "source": [
    "Visi testai praėjo! Testų kūrimas koduose - svarbus procesas siekiant užtikrinti geresnį kodo valdymą ir prieinamumą kitiems vartotojams."
   ]
  }
 ],
 "metadata": {
  "kernelspec": {
   "display_name": "Python 3 (ipykernel)",
   "language": "python",
   "name": "python3"
  },
  "language_info": {
   "codemirror_mode": {
    "name": "ipython",
    "version": 3
   },
   "file_extension": ".py",
   "mimetype": "text/x-python",
   "name": "python",
   "nbconvert_exporter": "python",
   "pygments_lexer": "ipython3",
   "version": "3.9.7"
  }
 },
 "nbformat": 4,
 "nbformat_minor": 5
}
