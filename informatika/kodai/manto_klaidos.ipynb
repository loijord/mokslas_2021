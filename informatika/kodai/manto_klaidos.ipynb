{
 "cells": [
  {
   "cell_type": "markdown",
   "id": "843d3dff",
   "metadata": {},
   "source": [
    "### Pavyzdys 1\n",
    "Jei naudoji `Audio` metodą, failo pavadinimas turi būti pilnas ir aptinkamas šalia notebook'ų. Taip pat `embed` yra funkcijos parametras, o ne atskiras nieko neatliekantis kintamasis\n",
    "\n",
    "`from IPython.display import Audio`  \n",
    "<s>`Audio(\"01 - Indija - Raga instrumentiam ansambliui\")`</s>  \n",
    "<s>`embed=True`</s>\n",
    "\n",
    "`Audio(\"01 - Indija - Raga instrumentiam ansambliui.mp3, embed=True)`"
   ]
  },
  {
   "cell_type": "markdown",
   "id": "2631c0f7",
   "metadata": {},
   "source": [
    "### Pavyzdys 2\n",
    "Skaičiavimams tinkami naudoti tik `float`/`int` tipai, tuo tarpu `input` metodas grąžina `str` tipo kintamąjį. Jį būtina paversti į `int` tipą. \n",
    "\n",
    "`def kada_atskrido():`  \n",
    "    &emsp;&emsp;<s>`tval = input('ivesk val, kada isskrido:')`</s>  \n",
    "    &emsp;&emsp;<s>`tmin = input('ivesk min, kada isskrido:')`</s>  \n",
    "    &emsp;&emsp;<s>`smin = input('ivesk, kiek min skrido:')`</s>  \n",
    "    &emsp;&emsp;`tval = int(input('ivesk val, kada isskrido:'))`\\\n",
    "    &emsp;&emsp;`tmin = int(input('ivesk min, kada isskrido:'))`\\\n",
    "    &emsp;&emsp;`smin = int(input('ivesk, kiek min skrido:'))`\\\n",
    "    &emsp;&emsp;`rmin = tval * 60 + tmin + smin`\\\n",
    "    &emsp;&emsp;`return ((rmin // 60) % 24, rmin % 60)`"
   ]
  },
  {
   "cell_type": "markdown",
   "id": "8f47a9e7",
   "metadata": {},
   "source": [
    "### Pavyzdys 3\n",
    "Funkcijos argumentas yra painiojamas su kintamuoju, kuris priskiriamas `input` metodo rezultatui funkcijos viduje. Jei norime kintamąjį `sk` priskirti `input` metodo rezultatui, tuomet funkcijos argumentas `sk` tampa beprasmiu, nes yra priskiriamas naujai reikšmei. Tuomet jo nenaudojame:\n",
    "\n",
    "<s>`skaiciai=list(range(-100000,100000))`</s>  \n",
    "<s>`def koksskaicius(sk):`</s>  \n",
    "`def koksskaicius():`  \n",
    "<code>    </code>`sk = input(f'iveskite skaiciu:' )`  \n",
    "<code>    </code>`...`  \n",
    "<s>`koksskaicius(skaiciai)`</s>  \n",
    "`koksskaicius()`\n",
    "\n",
    "Jei norime atsisakyti perteklinio `input` metodo, `sk` reikšmė turėtų būti naudojama kaip funkcijos argumentas. Tiesa, tuomet reikšmės `list(range(-100000,100000))` naudoti negalima dėl tipų neatitikimo (plačiau - [ketvirtoje užduotyje](../kodai/uzduotis4.ipynb))\n",
    "\n",
    "<s>`skaiciai=list(range(-100000,100000))`</s>  \n",
    "`skaicius = '345'`  \n",
    "`def koksskaicius(sk):`  \n",
    "<code>    </code><s>`sk = input(f'iveskite skaiciu:' )`</s>  \n",
    "<code>    </code>`...`  \n",
    "<s>`koksskaicius(skaiciai)`</s>  \n",
    "`koksskaicius(skaicius)`"
   ]
  },
  {
   "cell_type": "markdown",
   "id": "b0eeaa89",
   "metadata": {},
   "source": [
    "## Pavyzdys 4\n",
    "Komanda `float(sk)` skaičiaus tipo nepakeičia, nes rezultatas nepriskiriamas jokiam kintamajam. Reikėtų rašyti `float(sk)`:\n",
    "\n",
    "`def koksskaicius():`  \n",
    "<code>    </code>`sk=input(f'iveskite skaiciu:' )`  \n",
    "<code>    </code><s>`float(sk)`</s>  \n",
    "<code>    </code>`sk = float(sk)`  \n",
    "<code>    </code>`if sk%1 == 0:`  \n",
    "<code>        </code>`...`"
   ]
  },
  {
   "cell_type": "markdown",
   "id": "91543af6",
   "metadata": {},
   "source": [
    "## Pavyzdys 5\n",
    "`input` metodas yra interaktyvi sąsaja tarp kompiuterio ir vartotojo. Tokios sąsajos praverčia, kai žaidžiame žaidimus, norime nuspausti kažkokius klavišus, pajudinti grafikus ir pan. Jei galime patikrinti funkcijos veikimą suvedę paprastą kodą, kam apsikrauti perteklinėmis sąsajomis?\n",
    "\n",
    "<s>`sk=float(input(f'skaicius:'))`</s>  \n",
    "`def skaiciaustipas(sk):`  \n",
    "<code>    </code>`...`  \n",
    "<code>    </code>`return ...`\n",
    "\n",
    "<s>`skaiciaustipas(sk)`</s>  \n",
    "`sk = 32.5`  \n",
    "`skaiciaustipas(sk)`"
   ]
  },
  {
   "cell_type": "markdown",
   "id": "b2eb71c7",
   "metadata": {},
   "source": [
    "### Kodas Simono markeriui"
   ]
  },
  {
   "cell_type": "code",
   "execution_count": 49,
   "id": "fcd1f0d2",
   "metadata": {},
   "outputs": [
    {
     "name": "stdout",
     "output_type": "stream",
     "text": [
      "`def fancy_strikethrougs():`  \n",
      "<code>    </code>`a = 'this is my simple text'`  \n",
      "<code>    </code><s>`b = 'this is my stricken out text'`</s>  \n",
      "<code>    </code>`c = 'this is my simple text again'`\n"
     ]
    },
    {
     "data": {
      "text/markdown": [
       "`def fancy_strikethrougs():`  \n",
       "<code>    </code>`a = 'this is my simple text'`  \n",
       "<code>    </code><s>`b = 'this is my stricken out text'`</s>  \n",
       "<code>    </code>`c = 'this is my simple text again'`"
      ],
      "text/plain": [
       "<IPython.core.display.Markdown object>"
      ]
     },
     "execution_count": 49,
     "metadata": {},
     "output_type": "execute_result"
    }
   ],
   "source": [
    "from IPython.display import Markdown\n",
    "\n",
    "def fancify(your_code, line_ids):\n",
    "    '''It generates a Markdown script of your_code in order to strike out its specific lines'''\n",
    "    blank_counts = [len(n) - len(n.lstrip(' ')) for n in your_code.split('\\n')] #counts of leading spaces for each line\n",
    "    your_code = your_code.replace('    ', '').replace('\\t', '') #eliminate leading spaces\n",
    "    lines = [f'`{n}`' for n in your_code.split('\\n')] #add `...` for each line\n",
    "    for id in line_ids:\n",
    "        lines[id] = f'<s>{lines[id]}</s>' #strick out lines that are needed\n",
    "    for i, b in enumerate(blank_counts):\n",
    "        if b!=0: lines[i] = f'<code>{\" \"*b}</code>{lines[i]}' #use <code>...</code> snippet for leading spaces\n",
    "    your_code = '  \\n'.join(lines) #and join'em finally\n",
    "    \n",
    "    return your_code\n",
    "\n",
    "code = \"\"\"def fancy_strikethrougs():\n",
    "    a = 'this is my simple text'\n",
    "    b = 'this is my stricken out text'\n",
    "    c = 'this is my simple text again'\"\"\"\n",
    "lines = [2]\n",
    "\n",
    "print(fancify(code, lines))\n",
    "Markdown(fancify(code, lines))"
   ]
  }
 ],
 "metadata": {
  "kernelspec": {
   "display_name": "Python 3",
   "language": "python",
   "name": "python3"
  },
  "language_info": {
   "codemirror_mode": {
    "name": "ipython",
    "version": 3
   },
   "file_extension": ".py",
   "mimetype": "text/x-python",
   "name": "python",
   "nbconvert_exporter": "python",
   "pygments_lexer": "ipython3",
   "version": "3.8.8"
  }
 },
 "nbformat": 4,
 "nbformat_minor": 5
}
