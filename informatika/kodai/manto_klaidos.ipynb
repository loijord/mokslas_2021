{
 "cells": [
  {
   "cell_type": "markdown",
   "id": "843d3dff",
   "metadata": {},
   "source": [
    "### Pavyzdys 1\n",
    "Jei naudoji `Audio` metodą, failo pavadinimas turi būti pilnas ir aptinkamas šalia notebook'ų. Taip pat `embed` yra funkcijos parametras, o ne atskiras nieko neatliekantis kintamasis"
   ]
  },
  {
   "cell_type": "markdown",
   "id": "2b0d71d8",
   "metadata": {},
   "source": [
    "`from IPython.display import Audio`\\\n",
    "<s>`Audio(\"01 - Indija - Raga instrumentiam ansambliui\")`</s>\\\n",
    "<s>`embed=True`</s>\n",
    "\n",
    "`Audio(\"01 - Indija - Raga instrumentiam ansambliui.mp3, embed=True)`"
   ]
  },
  {
   "cell_type": "markdown",
   "id": "2631c0f7",
   "metadata": {},
   "source": [
    "### Pavyzdys 2\n",
    "Skaičiavimams tinkami naudoti tik `float`/`int` tipai, tuo tarpu `input` metodas grąžina `str` tipo kintamąjį. Jį būtina paversti į `int` tipą. "
   ]
  },
  {
   "cell_type": "markdown",
   "id": "e98d9bc2",
   "metadata": {},
   "source": [
    "`def kada_atskrido():`\\\n",
    "&emsp;&emsp;<s>`tval = input('ivesk val, kada isskrido:')`</s>\\\n",
    "&emsp;&emsp;<s>`tmin = input('ivesk min, kada isskrido:')`</s>\\\n",
    "&emsp;&emsp;<s>`smin = input('ivesk, kiek min skrido:')`</s>\\\n",
    "&emsp;&emsp;`tval = int(input('ivesk val, kada isskrido:'))`\\\n",
    "&emsp;&emsp;`tmin = int(input('ivesk min, kada isskrido:'))`\\\n",
    "&emsp;&emsp;`smin = int(input('ivesk, kiek min skrido:'))`\\\n",
    "&emsp;&emsp;`rmin = tval * 60 + tmin + smin`\\\n",
    "&emsp;&emsp;`return ((rmin // 60) % 24, rmin % 60)`"
   ]
  }
 ],
 "metadata": {
  "kernelspec": {
   "display_name": "Python 3",
   "language": "python",
   "name": "python3"
  },
  "language_info": {
   "codemirror_mode": {
    "name": "ipython",
    "version": 3
   },
   "file_extension": ".py",
   "mimetype": "text/x-python",
   "name": "python",
   "nbconvert_exporter": "python",
   "pygments_lexer": "ipython3",
   "version": "3.8.8"
  }
 },
 "nbformat": 4,
 "nbformat_minor": 5
}
