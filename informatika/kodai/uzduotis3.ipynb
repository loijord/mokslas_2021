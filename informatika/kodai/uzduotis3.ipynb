{
 "cells": [
  {
   "cell_type": "markdown",
   "id": "dad755d1",
   "metadata": {},
   "source": [
    "# Programavimas Python"
   ]
  },
  {
   "cell_type": "markdown",
   "id": "22a6e0dd",
   "metadata": {},
   "source": [
    "Norint prasilaužti programavime, per trumpą laiką turėtume pramokti daug dalykų, štai pagrindiniai:"
   ]
  },
  {
   "cell_type": "markdown",
   "id": "a873252b",
   "metadata": {},
   "source": [
    "* ***Kodo testavimo naudojant `print`, `type`, `input` sakinius***\n",
    "* ***Kintamieji, jų tipai***\n",
    "* ***Operacijos***\n",
    "* ***`if` sakinys***\n",
    "* ***`while` sakinys***\n",
    "* ***`for` sakinys***\n",
    "* ***Klaidos ir jų tipai***\n",
    "* ***Funkcijų apibrėžimas ir vykdymas***\n",
    "* ***Comprehension principas***\n",
    "* ***Slicing ir `range`***\n",
    "* ***Generatoriai***"
   ]
  },
  {
   "cell_type": "markdown",
   "id": "4049ab6d",
   "metadata": {},
   "source": [
    "Bus nelengva, tačiau verta: programavimas - pelninga specialybė. Rašant kodą tik mažiau nei 10% laiko trunka kodo susiplanavimas, o likusį laiko trunka klaidų taisymas. Pagrindinė patirtis greičiausiai susiformuoja būtent taisant klaidas ir stengiantis vėliau kodą rašyti taip, kad jų pasitaikytų kuo mažiau. Didžiausias progresas, kaip ir kituose moksluose, pasiekiamas per aktyvų uždavinių sprendimą. Tam puikia tinka [CodeSignal platforma](https://codesignal.com/)."
   ]
  },
  {
   "cell_type": "markdown",
   "id": "a97219fe",
   "metadata": {},
   "source": [
    "Gal būt padės CodeSignal uždavinio su amžiumi sprendimas. Priminsiu užduotį: reikia parašyti funkciją, į kurią įvedami metai ir grąžinamas juos atitinkantis amžius, pvz.: 1905 -> 20, 17 -> 1700, 1988 -> 20."
   ]
  },
  {
   "cell_type": "markdown",
   "id": "41d899c8",
   "metadata": {},
   "source": [
    "Uždavinio sprendime matyti du dalykai: kaip reikia teisingai apibrėžti funkciją ir kaip teisingai panaudoti `if` sakinį\n",
    "    \n",
    "    def centuryFromYear(year):\n",
    "        if year%100 == 0:\n",
    "            return (year//100)\n",
    "        else:\n",
    "            return (year//100)+1"
   ]
  },
  {
   "cell_type": "markdown",
   "id": "f2e33fe6",
   "metadata": {},
   "source": [
    "Funkciją galima vykdyti suvedus:\n",
    "    \n",
    "    year = 2021\n",
    "    centuryFromYear(year)"
   ]
  },
  {
   "cell_type": "markdown",
   "id": "830a2029",
   "metadata": {},
   "source": [
    "Nesistebėkite, kad nemokate pačių paprasčiausių dalykų. Iškilus tam tikrai problemai reiktų stengtis ieškoti atsakymų internete. Svarbu kuo aiškiau suformuluoti klausimą. Pavyzdžiui: `python check if number is integer`. Didžiausia tikimybė tinkamą atsakymą rasti būna StackOverflow nuorodose. Natūralu, kad čia irgi [bandoma atsakyti](https://stackoverflow.com/questions/3501382/checking-whether-a-variable-is-an-integer-or-not), tačiau į kiek kitokį klausimą: ne į tai, kaip patikrinti, ar skaičius yra sveikasis, o kaip patikrinti, ar Python kintamojo tipas yra `int`. Tai dar sykį patvirtina, kaip yra **svarbu kuo aiškiau suformuluoti klausimą**."
   ]
  },
  {
   "cell_type": "markdown",
   "id": "c9e52f21",
   "metadata": {},
   "source": [
    "Šios užduoties tikslas bus ne mokytis naują medžiagą, o pamėginti parašyti tam tikrus kodus su jau įgyta patirtimi."
   ]
  },
  {
   "cell_type": "markdown",
   "id": "19f881b8",
   "metadata": {},
   "source": [
    "### Užduotys savarankiškam darbui"
   ]
  },
  {
   "cell_type": "markdown",
   "id": "609f7312",
   "metadata": {},
   "source": [
    "3.1 Kuo skiriasi paskutinės dvi eilutės?\n",
    "\n",
    "    print(\"I'm a hero\")\n",
    "    print(5*7)\n",
    "    print('5*7')\n",
    "   \n",
    "3.2 Atspausdinkite visų skaičių nuo $n$ iki $m$ (įskaitytinai) kvadratus\\\n",
    "3.3 Atspausdinkite visus kompiuteryje naudojamus ASCII simbolius\\\n",
    "3.4 Parašykite funkcija, į kurią įvedus $m$, yra grąžinami visi natūralieji skaičiai, mažesni už $m$, kurie dalijasi iš 2, bet nesidalija iš 3.\\\n",
    "3.5* Parašykite funkciją, kuri grąžina visus pirminius skaičius, nedidesnius nei $m$\\\n",
    "3.6 Parašykite funkciją, gražinančią rezultatą, gaunamą traukiant šaknį iš įvesto skaičiaus arba `str` tipo kintamąjį ,,Neleistina operacija\"\\\n",
    "3.7 Padarykite tą patį vietoj `if` sakinio, naudodami [Error Exceptions](https://docs.python.org/3/tutorial/errors.html)\\\n",
    "3.8* Parašykite funkciją, į kurią įvedami kvadratinės lygties $ax^2+bx+c=0$ koeficientai $a$, $b$ ir $c$, o rezultatas - tos lygties sprendiniai $x1$ ir $x2$, skaičiuojami pagal formulę $\\left[\\begin{array}{l}x_1=\\frac{-b-\\sqrt{D}}{2a} \\\\ x_2=\\frac{-b+\\sqrt{D}}{2a}\\end{array}\\right.$, čia $D=b^2-4ac$\n",
    "\n",
    "Sprendiniai turi būti suapvalinti **tūkstantųjų tikslumu**. Naudodami [Error Exceptions](https://docs.python.org/3/tutorial/errors.html) įtraukite ir atvejus, kai narys prie kvadrato yra nulinis arba diskriminantas neigiamas."
   ]
  }
 ],
 "metadata": {
  "kernelspec": {
   "display_name": "Python 3",
   "language": "python",
   "name": "python3"
  },
  "language_info": {
   "codemirror_mode": {
    "name": "ipython",
    "version": 3
   },
   "file_extension": ".py",
   "mimetype": "text/x-python",
   "name": "python",
   "nbconvert_exporter": "python",
   "pygments_lexer": "ipython3",
   "version": "3.8.8"
  }
 },
 "nbformat": 4,
 "nbformat_minor": 5
}
