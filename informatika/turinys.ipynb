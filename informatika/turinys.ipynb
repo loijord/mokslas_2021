{
 "cells": [
  {
   "cell_type": "markdown",
   "id": "52e42ec9",
   "metadata": {},
   "source": [
    "## Vykusios pamokos\n",
    "* 2021-09-05 (trumpesnė, su kiekvienu individualiai)\n",
    "* 2021-09-07 (diskriminanto skaičiavimas, tiesinis algoritmas)\n",
    "* 2021-09-14 ?\n",
    "* 2021-09-21 (uždavinukų sprendimas)\n",
    "* 2021-09-28 (Ugnė vietoj programavimo ruošėsi matematikai)\n",
    "* 2021-10-13 (Tyrinėjome anglų kalbos žodžių kartojimo projektą, susipažinome su kodo testavimu)"
   ]
  },
  {
   "cell_type": "markdown",
   "id": "035a26fd",
   "metadata": {},
   "source": [
    "<font color='red'> Ugnei būtų gerai susiderinti su Mantu kitą dieną, nei antradienis, kad būtų darbingesnė </font> \n",
    "\n",
    "<font color='orange'> Ugnei einasi lėčiau, nei Mantui, tačiau reikia stengtis, kad visi darytų pažangą pagal savo sugebėjimus </font> \n",
    "\n",
    "<font color='green'> Svarbiausia mokymosi dalis yra savarankiškai studijuoti pamokų medžiagą ir daryti individualiai paskirtas užduotis </font> "
   ]
  },
  {
   "cell_type": "markdown",
   "id": "69546dc2",
   "metadata": {},
   "source": [
    "**Kilus klausimams bet kuriuo metu rašykite į grupę *The Stage of Unstoppable***"
   ]
  },
  {
   "cell_type": "markdown",
   "id": "8e9f8b0e",
   "metadata": {},
   "source": [
    "## Naudingos nuorodos\n",
    "* [Python Tutor](https://pythontutor.com/) - Online langas, skirtas daug lengvesniam kodo debuggin'imui (testavimui), nei tai galima daryti notebook'uose.\n",
    "* [Codesignal](https://codesignal.com/) - Žaidimas su galybe uždavinių ir lygių, skirtas lavinti Python programavimo įgūdžius\n",
    "* [Project Euler](https://projecteuler.net/) - Žaidimas, kuriame sprendžiami matematinio pobūdžio uždaviniai naudojant programavimą\n",
    "* [Scratch](https://scratch.mit.edu/) - Programa, leidžianti mokytis programavimo dėliojant algoritmų schemas\n",
    "* [Github](https://github.com/) - Populiariausia platforma, skirta kelti projektams ir jų versijoms valdyti (tikiuosi tai darysime ateityje)\n",
    "* [Anki](https://apps.ankiweb.net/) - Programėlė, skirta kartotis norimus dalykus iš įvestų klausimynų, veikianti panašiu pagrindu, kaip ir anglų kartojimo projektas\n",
    "* [???]() - Būtų gerai surasti nors vieną schemų braižymo (ne tik dėliojimo) įrankį, kad to nereiktų daryti ranka"
   ]
  },
  {
   "cell_type": "markdown",
   "id": "e720aa3f",
   "metadata": {},
   "source": [
    "## Notebooks\n",
    "Tai yra juodraštiniai notebook'ai, kuriuos rašė Simonas, Mantas arba Ugnė. Juos ateityje reikės patikrinti ir paredaguoti.\n",
    "* [Rugsėjo paskutinės pamokos užduotis, skirta Mantui](kodai/pirma_užduotis.ipynb)\n",
    "* [Manto](kodai/manto.ipynb)\n",
    "* [Ugnės](kodai/ugnes.ipynb)\n",
    "* [Manto dar vienas](kodai/manto_dar_vienas.ipynb)\n",
    "* [Simono](kodai/simono_pirmas.ipynb)\n",
    "* [Untitled](kodai/untitled.ipynb)"
   ]
  },
  {
   "cell_type": "markdown",
   "id": "a44d898c",
   "metadata": {},
   "source": [
    "## Projektai\n",
    "***Paruošti projektai***\n",
    "* [Anglų kalbos žodžių kartojimas](projektai/repetitor/kartojimas_anglu.ipynb) - žaidimas, kur kiekviename lygyje klausinėjami tik tie žodžiai, kurie buvo neatsakyti\n",
    "* [Muzikos kūrinių kartojimas](projektai/repetitor/kartojimas_muzika.ipynb) - analogiškas žaidimas, skirtas kartotis muzikinių kūrinių šalims ir pavadinimams\n",
    "* [Uždavinys apie semestro vidurkį](projektai/vidurkiai/vidurkiai.ipynb) - ar atskleisite piktojo tarybinių laikų mokytojo mįslę?\n",
    "\n",
    "***Būsimi projektai***\n",
    "* Diskriminanto skaičiavimas - programa, kuri apskaičiuoja kvadratinės lygties sprendinius dešimtainėmis išraiškomis\n",
    "* Skaičių klasifikavimas į aibes - programa, kuri kiekvienam įvestam skaičiui nurodo, kuriai aibei jis priklauso ($\\mathbb{N}$, $\\mathbb{Z}$, $\\mathbb{Q}$, $\\mathbb{I}$)\n",
    "* Youtube downloader - programa, leidžianti atsisiųsti visus kūrinius į kompiuterį iš tam tikro Youtube grojaraščio. Štai mano YouTube [grojaraščiai](https://www.youtube.com/channel/UCjo-pQLdo2gUvdMMR4SpNpQ), kuriuos mėgstu klausyti dažnai.\n",
    "* Savo asmeninio puslapio sukūrimas - tai labai paprasta naudojant GitHub + Jupyter Notebook\n",
    "\n",
    "***Didesni projektai, vykdomi Simono***\n",
    "* [Matematikos kartojimas](../../datalearn_tests/practise.ipynb) [vystomas] - programa, leidžianti pamatyti užuominas sekantiems sprendimo žingsniams. Jos tikslas yra įpratinti atpažinti ir įsiminti mažiau įsisavintas taisykles, reikiamas sėkmingam uždavinių sprendimui. \n",
    "* [Matematikos pasiekimų analizė]() [vystomas] - programa, leidžianti atpažinti ir saugoti duomenis apie individualius kiekvieno mokinio pasiekimus"
   ]
  }
 ],
 "metadata": {
  "kernelspec": {
   "display_name": "Python 3",
   "language": "python",
   "name": "python3"
  },
  "language_info": {
   "codemirror_mode": {
    "name": "ipython",
    "version": 3
   },
   "file_extension": ".py",
   "mimetype": "text/x-python",
   "name": "python",
   "nbconvert_exporter": "python",
   "pygments_lexer": "ipython3",
   "version": "3.8.8"
  }
 },
 "nbformat": 4,
 "nbformat_minor": 5
}
