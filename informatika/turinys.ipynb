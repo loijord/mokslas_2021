{
 "cells": [
  {
   "cell_type": "markdown",
   "id": "5d355bd5",
   "metadata": {},
   "source": [
    "### Kaip atsidarinėti pamokas\n",
    "* Github nepalaiko spalvotų komentarų, animacijų, taip pat sunkiai užsikrauna didesni notebook'ai\n",
    "* Nbviewer skirtas tikslesniam Github esančių notebook'ų užkrovimui, bet atnaujinimai vėluoja užsikrauti iki 15 min.\n",
    "* Pasvėrus už ir prieš, rekomenduoju naudoti Nbviewer: [https://nbviewer.org/github/loijord/mokslas_2021/blob/main/turinys.ipynb](https://nbviewer.org/github/loijord/mokslas_2021/blob/main/turinys.ipynb)"
   ]
  },
  {
   "cell_type": "markdown",
   "id": "e553042b",
   "metadata": {},
   "source": [
    "## Medžiaga 2022 (populiariausios Python bibliotekos)\n",
    "\n",
    "**`numpy`**\n",
    "* [Naudojamausi būdai sukurti masyvams](kodai/numpy/tema1.ipynb) (`np.ones, np.ones_like, np.zeros, np.zeros_like, np.full, np.full_like, np.empty, np.empty_like, np.tile, np.repeat, np.random.randint, np.random.normal`)\n",
    "* [Kas yra masyvo metaduomenys?](kodai/numpy/tema2.ipynb) (`arr.shape, arr.size, arr.dtype, arr.itemsize, arr.nbytes, np.iinfo`)\n",
    "* [Daugiau apie masyvo metaduomenų panaudojimą](kodai/numpy/tema3.ipynb) (pointers, read-only, strides, windows)\n",
    "* [Paprasčiausias indeksavimas](kodai/numpy/tema4.ipynb) (`arr[:5]`)\n",
    "* [Boolean ir Advanced indeksavimas](kodai/numpy/tema5.ipynb) (`arr[[True, False, True]]`, `arr[[1, 3, 0], [2, 1, 2]]`)\n",
    "* [Masyvo formos keitimas ir atminties valdymas](kodai/numpy/tema6.ipynb) (`np.reshape, np.ravel, np.flatten`)\n",
    "* [Perėjimai iš vieno indeksavimo į kitą](kodai/numpy/tema7.ipynb) (visi 6 perėjimo būdai tarp Basic, Boolean ir Advanced)\n",
    "* [Kam programavime reikia klasių?](kodai/numpy/tema8.ipynb) (praktinė užduotis su informatikos VBE rezultatų analize)\n",
    "\n",
    "**`OOP`**\n",
    "* [Docstrings & Doctests](kodai/OOP/tema1.ipynb) (kaip dokumentuoti kodą)\n",
    "* [Atributų priskyrimas klasės kintamiesiems](kodai/OOP/tema2.ipynb) (atributų priskyrimas nenaudojant metodų)\n",
    "* [Atributų priskyrimas egzemplioriaus kintamiesiems](kodai/OOP/tema3.ipynb) (`__init__`, setter & getter, `property` ir dekoratoriai)\n",
    "\n",
    "**Užduotys**\n",
    "* [Negalutinė, dar tobulintina versija](kodai/numpy/Užduotys.ipynb)\n",
    "\n",
    "**Programavimo literatūra**\n",
    "* [...]()"
   ]
  },
  {
   "cell_type": "markdown",
   "id": "07efdaab",
   "metadata": {},
   "source": [
    "## Medžiaga 2021 (Python įvadas)\n",
    "* [Užduotis 0](kodai/uzduotis0.ipynb) - pratinamės dirbti su notebook'ais\n",
    "* [Užduotis 1](kodai/uzduotis1.ipynb) - Python `assignment`s\n",
    "* [Užduotis 2](kodai/uzduotis2.ipynb) - Python objektai, tipai, metodai ir operacijos [**Daug darbo, bet jis svarbus**]\n",
    "* [Užduotis 3](kodai/uzduotis3.ipynb) - pačių paprasčiausių programų rašymas\n",
    "* [Užduotis 4](kodai/uzduotis4.ipynb) (beveik baigta teorinė dalis) - mokomės, kaip rašyti ir skaityti kodą\n",
    "* Užduotis 5 - aptariame CodeSignal uždavinukų sprendimus ir ką naujo iš jų išmokome\n",
    "* Užduotis 6 - mokomės pagrindines Python komandas mintinai taikydami įrankį, esantį anglų kalbos žodžių mokymosi projekte\n",
    "* Užduotis 7 - kuriame savo pačių projektus (keletas idėjų: kvadratinės lygties sprendimas, skaičiaus priskyrimas $\\mathbb{N}$, $\\mathbb{Z}$, $\\mathbb{Q}$, $\\mathbb{I}$ aibėms, pirminių skaičių generavimas)\n",
    "* Užduotis 8 - mokomės braižyti algoritmų schemas ir atlikti vis sudėtingesnius algoritmus\n",
    "* Užduotis 9 - Zen of Python: `import this`\n",
    "* Užduotis 10 - kuriame klaidingus kodus su skirtingų tipų klaidomis"
   ]
  },
  {
   "cell_type": "markdown",
   "id": "5ed8f727",
   "metadata": {},
   "source": [
    "***Mantui*** siūlomos papildomos užduotys:\n",
    "* Užsiregistruoti Project Euler ir išspręsti bent vieną užduotį.\n",
    "* Eilės tvarka atlikinėti [užduotį 0](kodai/uzduotis0.ipynb), [užduotį 1](kodai/uzduotis1.ipynb), [užduotį 2](kodai/uzduotis2.ipynb), [užduotį 3](kodai/uzduotis3.ipynb). Patarčiau neskubėti spręsti trečio projekto pagrindinio klausimo, kol nėra įgyta pakankamai praktikos atliekant šias užduotis.\n",
    "* Codesignal\n",
    "\n",
    "[Manto klaidų analizė](kodai/manto_klaidos.ipynb)"
   ]
  },
  {
   "cell_type": "markdown",
   "id": "8e9f8b0e",
   "metadata": {},
   "source": [
    "## Naudingos nuorodos\n",
    "* [Python Tutor](https://pythontutor.com/) - Online langas, skirtas daug lengvesniam kodo debuggin'imui (testavimui), nei tai galima daryti notebook'uose.\n",
    "* [Codesignal](https://codesignal.com/) - Žaidimas su galybe uždavinių ir lygių, skirtas lavinti Python programavimo įgūdžius\n",
    "* [Project Euler](https://projecteuler.net/) - Žaidimas, kuriame sprendžiami matematinio pobūdžio uždaviniai naudojant programavimą\n",
    "* [Scratch](https://scratch.mit.edu/) - Programa, leidžianti mokytis programavimo dėliojant algoritmų schemas\n",
    "* [Github](https://github.com/) - Populiariausia platforma, skirta kelti projektams ir jų versijoms valdyti (tikiuosi tai darysime ateityje)\n",
    "* [Anki](https://apps.ankiweb.net/) - Programėlė, skirta kartotis norimus dalykus iš įvestų klausimynų, veikianti panašiu pagrindu, kaip ir anglų kartojimo projektas\n",
    "* [???]() - Būtų gerai surasti nors vieną schemų braižymo (ne tik dėliojimo) įrankį, kad to nereiktų daryti ranka\n",
    "* [`Tribe Of AI`](https://tribeofai.com/) ***paskaitos nuo nulio, kurias užbaigus įmanoma nesunkiai gauti duomenų analitiko poziciją su 1000 eur į rankas***."
   ]
  },
  {
   "cell_type": "markdown",
   "id": "a44d898c",
   "metadata": {},
   "source": [
    "## Projektai\n",
    "***Paruošti projektai***\n",
    "* [Anglų kalbos žodžių kartojimas](projektai/repetitor/kartojimas_anglu.ipynb) - žaidimas, kur kiekviename lygyje klausinėjami tik tie žodžiai, kurie buvo neatsakyti\n",
    "* [Muzikos kūrinių kartojimas](projektai/repetitor/kartojimas_muzika.ipynb) - analogiškas žaidimas, skirtas kartotis muzikinių kūrinių šalims ir pavadinimams\n",
    "* [Uždavinys apie semestro vidurkį](projektai/vidurkiai/vidurkiai.ipynb) - ar atskleisite piktojo tarybinių laikų mokytojo mįslę?\n",
    "* [Mokytojo markeris, skirtas braukti klaidoms](projektai/fancy_strikethroughs/fancy_strikethroughs.ipynb) - kaip nuhack'inti Markdown celių sintaksę ir priversti notebook'us braukyti cituojamą kodą?\n",
    "\n",
    "***Idėjos būsimiems projektams***\n",
    "* Diskriminanto skaičiavimas - programa, kuri apskaičiuoja kvadratinės lygties sprendinius dešimtainėmis išraiškomis\n",
    "* Skaičių klasifikavimas į aibes - programa, kuri kiekvienam įvestam skaičiui nurodo, kuriai aibei jis priklauso ($\\mathbb{N}$, $\\mathbb{Z}$, $\\mathbb{Q}$, $\\mathbb{I}$)\n",
    "* Youtube downloader - programa, leidžianti atsisiųsti visus kūrinius į kompiuterį iš tam tikro Youtube grojaraščio. Štai mano YouTube [grojaraščiai](https://www.youtube.com/channel/UCjo-pQLdo2gUvdMMR4SpNpQ), kuriuos mėgstu klausyti dažnai.\n",
    "* YouTube visitor - paprasčiausia programa, kuri atidaro tam tikrą YouTube kūrinio dalį\n",
    "* Savo asmeninio puslapio sukūrimas - tai labai paprasta naudojant GitHub + Jupyter Notebook\n",
    "* Žaidimukas lygtims spręsti\n",
    "* Geometrijos kvizas\n",
    "* Testas, skirtas patikrinti būsimo darbuotojo mintino skaičiavimo gebėjimus\n",
    "* Muzikos kūrinio kūrimas\n",
    "* Covid statistikos Lietuvoje analizė su Python\n",
    "\n",
    "***Didesni projektai, vykdomi Simono***\n",
    "* [Matematikos kartojimas](../../datalearn_tests/practise.ipynb) [vystomas] - programa, leidžianti pamatyti užuominas sekantiems sprendimo žingsniams. Jos tikslas yra įpratinti atpažinti ir įsiminti mažiau įsisavintas taisykles, reikiamas sėkmingam uždavinių sprendimui. \n",
    "* [Matematikos pasiekimų analizė]() [vystomas] - programa, leidžianti atpažinti ir saugoti duomenis apie individualius kiekvieno mokinio pasiekimus"
   ]
  },
  {
   "cell_type": "markdown",
   "id": "cd722a1b",
   "metadata": {},
   "source": [
    "**Kilus klausimams bet kuriuo metu rašykite į grupę *The Stage of Unstoppable***\n",
    "\n",
    "<font color='green'> Svarbiausia mokymosi dalis yra savarankiškai studijuoti pamokų medžiagą ir daryti individualiai paskirtas užduotis </font> \n",
    "\n",
    "<font color='grey'> Būtų gerai taip pat kuo greitesniu metu išspręsti šiuos organizacinius klausimus: </font> \n",
    "* <font color='grey'> failyno `mokslas_2021` parsisiuntimą į savo kompiuterius (Reikėtų savanorio, norinčio išmėginti, kaip veikia žemiau pateiktas būdas) </font>\n",
    "* <font color='grey'> paieškoti platformos, kurioje kodą visi galėtų keisti gyvai ir gerokai greičiau </font> (Tam greičiausiai padėtų [Google Colab](https://colab.research.google.com/))\n",
    "* <font color='grey'> paieškoti įrankio, pritaikyto algoritmų schemoms braižyti (Google: how to draw flow charts?)</font> \n",
    "\n",
    "<font color='grey'> Norėdami parsisiųsti visus notebook'us iš Github į savo kompiuterius, turite atlikti šiuos dalykus: </font> \n",
    "* <font color='grey'> Parsisiųsti ir susiinstaliuoti įrankį Git </font> \n",
    "* <font color='grey'> Anaconda Prompt'e įvykdyti komandą `git clone https://github.com/loijord/mokslas_2021` (Jei esate pasijungę notebook'us prieš tai turite iš jų išeiti spustelėję CTRL + C)</font> \n",
    "* <font color='grey'> Įjungus notebook'us, turėtų matytis naujai atsiradęs aplankas `mokslas_2021`, kuriame ir bus visa medžiaga</font>"
   ]
  }
 ],
 "metadata": {
  "kernelspec": {
   "display_name": "Python 3 (ipykernel)",
   "language": "python",
   "name": "python3"
  },
  "language_info": {
   "codemirror_mode": {
    "name": "ipython",
    "version": 3
   },
   "file_extension": ".py",
   "mimetype": "text/x-python",
   "name": "python",
   "nbconvert_exporter": "python",
   "pygments_lexer": "ipython3",
   "version": "3.9.7"
  }
 },
 "nbformat": 4,
 "nbformat_minor": 5
}
