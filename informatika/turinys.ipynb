{
 "cells": [
  {
   "cell_type": "markdown",
   "id": "52e42ec9",
   "metadata": {},
   "source": [
    "## Vykusios pamokos\n",
    "* 2021-09-05 (trumpesnė, su kiekvienu individualiai)\n",
    "* 2021-09-07 (diskriminanto skaičiavimas, tiesinis algoritmas)\n",
    "* 2021-09-14 ?\n",
    "* 2021-09-21 (uždavinukų sprendimas)\n",
    "* 2021-09-28 (Ugnė vietoj programavimo ruošėsi matematikai)\n",
    "* [2021-10-12](pamokos/2021-10-12.ipynb) (Tyrinėjome anglų kalbos žodžių kartojimo projektą, pašnekėjome apie kodo testavimą)\n",
    "* [2021-10-19](pamokos/2021-10-19.ipynb) (Mantas mokėsi atlikti `list comprehensions`, reikalingus CS4 užduočiai; Ugnė mokėsi, kaip naudotis notebook'ais)"
   ]
  },
  {
   "cell_type": "markdown",
   "id": "5d355bd5",
   "metadata": {},
   "source": [
    "### Nauja! Kaip atsidarinėti pamokas\n",
    "* Github nepalaiko spalvotų komentarų, animacijų, taip pat sunkiai užsikrauna didesni notebook'ai\n",
    "* Nbviewer skirtas tikslesniam Github esančių notebook'ų užkrovimui, bet atnaujinimai vėluoja užsikrauti iki 15 min.\n",
    "* Pasvėrus už ir prieš, rekomenduoju naudoti Nbviewer: [https://nbviewer.org/github/loijord/mokslas_2021/blob/main/turinys.ipynb](https://nbviewer.org/github/loijord/mokslas_2021/blob/main/turinys.ipynb)"
   ]
  },
  {
   "cell_type": "markdown",
   "id": "035a26fd",
   "metadata": {},
   "source": [
    "<font color='red'> Ugnei būtų gerai susiderinti su Mantu kitą dieną, nei antradienis, kad būtų darbingesnė </font> \n",
    "\n",
    "<font color='green'> Svarbiausia mokymosi dalis yra savarankiškai studijuoti pamokų medžiagą ir daryti individualiai paskirtas užduotis </font> \n",
    "\n",
    "<font color='grey'> Būtų gerai taip pat kuo greitesniu metu išspręsti šiuos organizacinius klausimus: </font> \n",
    "* <font color='grey'> failyno `mokslas_2021` parsisiuntimą į savo kompiuterius </font> (Reikėtų savanorio, norinčio išmėginti, kaip veikia žemiau pateiktas būdas)\n",
    "* <font color='grey'> paieškoti platformos, kurioje kodą visi galėtų keisti gyvai ir gerokai greičiau </font> (Tam greičiausiai padėtų [Google Colab](https://colab.research.google.com/))\n",
    "* <font color='grey'> paieškoti įrankio, pritaikyto algoritmų schemoms braižyti </font> (Google: how to draw flow charts?)"
   ]
  },
  {
   "cell_type": "markdown",
   "id": "10a092e7",
   "metadata": {},
   "source": [
    "**Norėdami parsisiųsti visus notebook'us iš Github į savo kompiuterius, turite atlikti šiuos dalykus:**\n",
    "\n",
    "* Parsisiųsti ir susiinstaliuoti įrankį Git\n",
    "* Anaconda Prompt'e įvykdyti komandą `git clone https://github.com/loijord/mokslas_2021` (Jei esate pasijungę notebook'us prieš tai turite iš jų išeiti spustelėję CTRL + C)\n",
    "* Įjungus notebook'us, turėtų matytis naujai atsiradęs aplankas `mokslas_2021`, kuriame ir bus visa medžiaga\n",
    "\n",
    "**Kilus klausimams bet kuriuo metu rašykite į grupę *The Stage of Unstoppable***"
   ]
  },
  {
   "cell_type": "markdown",
   "id": "07efdaab",
   "metadata": {},
   "source": [
    "## Medžiaga savarankiškam mokymuisi\n",
    "Kol kas paruošiau beveik penkias užduotis, dvi nebaigtos. Likusias sudarysiu netrukus.\n",
    "* [Užduotis 0](kodai/uzduotis0.ipynb) - pratinamės dirbti su notebook'ais\n",
    "* [Užduotis 1](kodai/uzduotis1.ipynb) - Python `assignment`s\n",
    "* [Užduotis 2](kodai/uzduotis2.ipynb) - Python objektai, tipai, metodai ir operacijos [**Daug darbo, bet jis svarbus**]\n",
    "* [Užduotis 3](kodai/uzduotis3.ipynb) - pačių paprasčiausių programų rašymas\n",
    "* [Užduotis 4](kodai/uzduotis4.ipynb) (beveik baigta teorinė dalis) - mokomės, kaip rašyti ir skaityti kodą\n",
    "* Užduotis 5 - aptariame CodeSignal uždavinukų sprendimus ir ką naujo iš jų išmokome\n",
    "* Užduotis 6 - mokomės pagrindines Python komandas mintinai taikydami įrankį, esantį anglų kalbos žodžių mokymosi projekte\n",
    "* Užduotis 7 - kuriame savo pačių projektus (keletas idėjų: kvadratinės lygties sprendimas, skaičiaus priskyrimas $\\mathbb{N}$, $\\mathbb{Z}$, $\\mathbb{Q}$, $\\mathbb{I}$ aibėms, pirminių skaičių generavimas)\n",
    "* Užduotis 8 - mokomės braižyti algoritmų schemas ir atlikti vis sudėtingesnius algoritmus\n",
    "* Užduotis 9 - Zen of Python: `import this`"
   ]
  },
  {
   "cell_type": "markdown",
   "id": "8daf07c0",
   "metadata": {},
   "source": [
    "## Progresas\n",
    "Su Ugne atlikome 0.1 - 0.6 užduotis\n",
    "\n",
    "Su Mantu visą pamoką sprendėme CS4 uždavinį (rasti didžiausią gretimų narių sandaugą duotame skaičių sąraše). Nors rezultatas ir atrodo nedidelis, turėjome daug veiklos: reikėjo susipažinti su [`list comprehensions`](https://www.pythonforbeginners.com/basics/list-comprehensions-in-python), iššifruoti keletą kodo klaidų. Taisant klaidas prireikė taip pat kodo debugginimo, kurį išbandėme su [Python Tutor](https://pythontutor.com/). Pasubmit'inus sprendimą dar pasižiūrėjome, kaip būtų galima CS4 uždavinį spręsti supakuojant gretimus narius į poras naudojant `zip` ir vėliau sudarant naują sąrašą iš tų porų sandaugų. Visi `built-in` metodai, kuriuos taikėme buvo `zip`, `len`, `max`, `range`. Plačiau apie `built-in` metodus kalbėsime 2 užduotyje. Papildomai susipažinome su [`list.append`](https://www.programiz.com/python-programming/methods/list/append) metodu."
   ]
  },
  {
   "cell_type": "markdown",
   "id": "5ed8f727",
   "metadata": {},
   "source": [
    "## Namų darbai\n",
    "Kiek norisi, abu galite pasižvalgyti, kaip atrodo [`Tribe Of AI`](https://tribeofai.com/) kursai.\n",
    "\n",
    "***Mantui*** siūliau tokius namų darbus:\n",
    "* Tęsti CodeSignal uždavinukų sprendimą.\n",
    "* Studijuoti trijų paruoštų projektų dokumentacijas ir testuoti, kaip veikia juose esančios komandos.\n",
    "* Užsiregistruoti Project Euler ir išspręsti bent vieną užduotį.\n",
    "* Jei darbo nepakanka, siūlau eilės tvarka atlikinėti [užduotį 0](kodai/uzduotis0.ipynb), [užduotį 1](kodai/uzduotis1.ipynb), [užduotį 2](kodai/uzduotis2.ipynb), [užduotį 3](kodai/uzduotis3.ipynb). Patarčiau neskubėti spręsti trečio projekto pagrindinio klausimo, kol nėra įgyta pakankamai praktikos atliekant šias užduotis.\n",
    "\n",
    "[Manto klaidų analizė](kodai/manto_klaidos.ipynb)\n",
    "\n",
    "***Ugnei*** siūlau iki kito karto užbaigti [užduoties 0](kodai/uzduotis0.ipynb) sprendimą. Užduotis reikėtų daryti atskiruose failuose."
   ]
  },
  {
   "cell_type": "markdown",
   "id": "8e9f8b0e",
   "metadata": {},
   "source": [
    "## Naudingos nuorodos\n",
    "* [Python Tutor](https://pythontutor.com/) - Online langas, skirtas daug lengvesniam kodo debuggin'imui (testavimui), nei tai galima daryti notebook'uose.\n",
    "* [Codesignal](https://codesignal.com/) - Žaidimas su galybe uždavinių ir lygių, skirtas lavinti Python programavimo įgūdžius\n",
    "* [Project Euler](https://projecteuler.net/) - Žaidimas, kuriame sprendžiami matematinio pobūdžio uždaviniai naudojant programavimą\n",
    "* [Scratch](https://scratch.mit.edu/) - Programa, leidžianti mokytis programavimo dėliojant algoritmų schemas\n",
    "* [Github](https://github.com/) - Populiariausia platforma, skirta kelti projektams ir jų versijoms valdyti (tikiuosi tai darysime ateityje)\n",
    "* [Anki](https://apps.ankiweb.net/) - Programėlė, skirta kartotis norimus dalykus iš įvestų klausimynų, veikianti panašiu pagrindu, kaip ir anglų kartojimo projektas\n",
    "* [???]() - Būtų gerai surasti nors vieną schemų braižymo (ne tik dėliojimo) įrankį, kad to nereiktų daryti ranka"
   ]
  },
  {
   "cell_type": "markdown",
   "id": "fb7f0f7c",
   "metadata": {},
   "source": [
    "* [Tribe Of Artificial Intelligence](https://tribeofai.com/) - ***paskaitos nuo nulio, kurias užbaigus įmanoma nesunkiai gauti duomenų analitiko poziciją su 1000 eur į rankas***."
   ]
  },
  {
   "cell_type": "markdown",
   "id": "e720aa3f",
   "metadata": {},
   "source": [
    "## Notebooks\n",
    "<font color='grey'> Tai yra juodraštiniai notebook'ai, kuriuos rašė Simonas, Mantas arba Ugnė. Juos ateityje reikės patikrinti ir paredaguoti.</font>\n",
    "* [Rugsėjo paskutinės pamokos užduotis, skirta Mantui](kodai/pirma_užduotis.ipynb)\n",
    "* [Manto](kodai/manto.ipynb)\n",
    "* [Ugnės](kodai/ugnes.ipynb)\n",
    "* [Manto dar vienas](kodai/manto_dar_vienas.ipynb)\n",
    "* [Simono](kodai/simono_pirmas.ipynb)\n",
    "* [Untitled](kodai/untitled.ipynb)"
   ]
  },
  {
   "cell_type": "markdown",
   "id": "a44d898c",
   "metadata": {},
   "source": [
    "## Projektai\n",
    "***Paruošti projektai***\n",
    "* [Anglų kalbos žodžių kartojimas](projektai/repetitor/kartojimas_anglu.ipynb) - žaidimas, kur kiekviename lygyje klausinėjami tik tie žodžiai, kurie buvo neatsakyti\n",
    "* [Muzikos kūrinių kartojimas](projektai/repetitor/kartojimas_muzika.ipynb) - analogiškas žaidimas, skirtas kartotis muzikinių kūrinių šalims ir pavadinimams\n",
    "* [Uždavinys apie semestro vidurkį](projektai/vidurkiai/vidurkiai.ipynb) - ar atskleisite piktojo tarybinių laikų mokytojo mįslę?\n",
    "* [Mokytojo markeris, skirtas braukti klaidoms](projektai/fancy_strikethroughs/fancy_strikethroughs.ipynb) - kaip nuhack'inti Markdown celių sintaksę ir priversti notebook'us braukyti cituojamą kodą?\n",
    "\n",
    "***Būsimi projektai***\n",
    "* Diskriminanto skaičiavimas - programa, kuri apskaičiuoja kvadratinės lygties sprendinius dešimtainėmis išraiškomis\n",
    "* Skaičių klasifikavimas į aibes - programa, kuri kiekvienam įvestam skaičiui nurodo, kuriai aibei jis priklauso ($\\mathbb{N}$, $\\mathbb{Z}$, $\\mathbb{Q}$, $\\mathbb{I}$)\n",
    "* Youtube downloader - programa, leidžianti atsisiųsti visus kūrinius į kompiuterį iš tam tikro Youtube grojaraščio. Štai mano YouTube [grojaraščiai](https://www.youtube.com/channel/UCjo-pQLdo2gUvdMMR4SpNpQ), kuriuos mėgstu klausyti dažnai.\n",
    "* Savo asmeninio puslapio sukūrimas - tai labai paprasta naudojant GitHub + Jupyter Notebook\n",
    "\n",
    "***Didesni projektai, vykdomi Simono***\n",
    "* [Matematikos kartojimas](../../datalearn_tests/practise.ipynb) [vystomas] - programa, leidžianti pamatyti užuominas sekantiems sprendimo žingsniams. Jos tikslas yra įpratinti atpažinti ir įsiminti mažiau įsisavintas taisykles, reikiamas sėkmingam uždavinių sprendimui. \n",
    "* [Matematikos pasiekimų analizė]() [vystomas] - programa, leidžianti atpažinti ir saugoti duomenis apie individualius kiekvieno mokinio pasiekimus\n",
    "* Žaidimukas lygtims spręsti\n",
    "* Geometrijos kvizas"
   ]
  }
 ],
 "metadata": {
  "kernelspec": {
   "display_name": "Python 3",
   "language": "python",
   "name": "python3"
  },
  "language_info": {
   "codemirror_mode": {
    "name": "ipython",
    "version": 3
   },
   "file_extension": ".py",
   "mimetype": "text/x-python",
   "name": "python",
   "nbconvert_exporter": "python",
   "pygments_lexer": "ipython3",
   "version": "3.8.8"
  }
 },
 "nbformat": 4,
 "nbformat_minor": 5
}
