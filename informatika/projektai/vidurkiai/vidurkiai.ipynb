{
 "cells": [
  {
   "cell_type": "markdown",
   "id": "e3202fd1",
   "metadata": {},
   "source": [
    "* Geometrinis skaičių $x_1$, $x_2$, $\\dots$, $x_n$ vidurkis skaičiuojamas pagal formulę: $GM(x_1, x_2, \\dots, x_n) = \\sqrt[n]{x_1x_2\\dots x_n}$\n",
    "* Aritmetinis skaičių $x_1$, $x_2$, $\\dots$, $x_n$ vidurkis skaičiuojamas pagal formulę: $AM(x_1, x_2, \\dots, x_n) = \\frac{x_1+x_2+\\dots +x_n}{n}$\n",
    "* Kvadratinis skaičių $x_1$, $x_2$, $\\dots$, $x_n$ vidurkis skaičiuojamas pagal formulę: $SM(x_1, x_2, \\dots, x_n) = \\sqrt{\\frac{x_1^2+x_2^2+\\dots +x_n^2}{n}}$"
   ]
  },
  {
   "cell_type": "markdown",
   "id": "c409d2d7",
   "metadata": {},
   "source": [
    "Olimpiadinėje matematikoje plačiai naudojama nelygybė \n",
    "\n",
    "$GM(x_1, x_2, \\dots, x_n) \\le AM(x_1, x_2, \\dots, x_n) \\le SM(x_1, x_2, \\dots, x_n)$, \n",
    "\n",
    "galiojanti visiems neneigiamiems $x_1, x_2, \\dots, x_n$. Lygybės atvejai yra įgyjami tada ir tik tada, kai $x_1 = x_2 = \\dots = x_n$."
   ]
  },
  {
   "cell_type": "markdown",
   "id": "588f1687",
   "metadata": {},
   "source": [
    "**Tačiau sovietinių laikų legendos mena vieną matematikos mokytoją, kuris buvo gana piktas. Jis davė moksleiviams beveik neišsprendžiamą uždavinį...**"
   ]
  },
  {
   "cell_type": "markdown",
   "id": "6975fa90",
   "metadata": {},
   "source": [
    "*Į klasę įžengė matematikos mokytojas.*\n",
    "\n",
    "*\\- Sveiki visi! Aš esu jūsų naujas mokytojas. Būsiu tiesmukas, esu truputį kuoktelėjęs, ypač, kai užsivedu pasakoti apie įspūdžius bendraujant su matematika. Tad neišsigąskite ir napabėkite iš mano pamokos, o pašaukite: ,,Mokytojau, sugrįžkit!\" ir viską mes išmoksim. Vienas ir svarbiausias dalykas, kurį jums tikrai nusibos girdėti, yra, kad be kruopštaus darbo nieko matematikoj nemokėsit! Ir būsit baudžiami! Už neatliktus namų darbus išvesiu geometrinį vidurkį trimestre. O jei sau papildomų namų darbų sugalvosit, tai gal ir kvadratinį išvesiu. Žinokit matematika labai įnoringa, jai nusibosta vis tos pačios kalbos apie aritmetinius vidurkius, kaip kituose moksluose.*\n",
    "\n",
    "*\\- Mokytojau ... sugrįžkit!*\n",
    "\n",
    "*\\- Mhm, gerai. Tai užsirašykit į sąsiuvinius dabar. Namų darbas. Susirasti enciklopedijoje, kaip skaičiuojamas geometrinis vidurkis, aritmetinis vidurkis, kvadratinis vidurkis ir užsirašyti bent po vieną pavyzdį pas save sąsiuviny. Kas nepadarys, tam išvesiu geometrinį vidurkį. Supratot?*\n",
    "\n",
    "*\\- ...*\n",
    "\n",
    "*\\- Ko taip išsigandot? Be darbo nieko nebus! Kas nedirbs, tam ir vidurkis mažesnis už aritmetinį, gaus trimestro gale geometrinį, o kas dirbs dvigubai, tai tas šaunuolis ir kvadratinį gaus, tą, kur didesnis už aritmetinį.*\n",
    "\n",
    "*\\- Galit paaiškint, mokytojau, nieko nesuprantam!*\n",
    "\n",
    "*\\- Viską jūs suprantat! Kas gauna dešimt ir du kuolus, tam aritmetinis vidurkis išeina keturi. Skaičiuotuvus turit, patikrint galit. Geometrinis vidurkis - mažiau, kvadratinis - daugiau. Namie išsiaiškinsit, kaip tuos vidurkius skaičiuot likusius. O kas sugebės pateikti tokį pavyzdį, kad visi trys vidurkiai be kablelio gautųsi ir vienas už kitą didesnis, tai tam išvesiu 10 iš karto trimestre.*"
   ]
  },
  {
   "cell_type": "markdown",
   "id": "bff9b527",
   "metadata": {},
   "source": [
    "**Šis mokytojas nė negalėjo įtarti, kad po daug daug metų Sovietų Sąjunga subyrės ir bet kuris tinginys namuose turės po galingą mašiną, į kurią suvedus vos keletą Python kodo eilučių, atsakymą į šį baisų uždavinį galima apskaičiuoti per mažiau, nei sekundę. Ar įveiksite jo mįslę?**"
   ]
  },
  {
   "cell_type": "markdown",
   "id": "a60de5b2",
   "metadata": {},
   "source": [
    "**Parašykite programą, kuri randa ne daugiau nei 6 pažymius, kurių geometrinis, aritmetinis ir kvadratinis vidurkiai yra skirtingi natūralieji skaičiai.**"
   ]
  },
  {
   "cell_type": "markdown",
   "id": "7413f94b",
   "metadata": {},
   "source": [
    "**Jums padės keletas užuominų**"
   ]
  },
  {
   "cell_type": "markdown",
   "id": "aa084f42",
   "metadata": {},
   "source": [
    "### Kaip sugeneruoti sąrašą skaičių, esančių intervale $[a; b]$?"
   ]
  },
  {
   "cell_type": "code",
   "execution_count": 3,
   "id": "ed407765",
   "metadata": {},
   "outputs": [
    {
     "data": {
      "text/plain": [
       "[4, 5, 6, 7, 8, 9]"
      ]
     },
     "execution_count": 3,
     "metadata": {},
     "output_type": "execute_result"
    }
   ],
   "source": [
    "def tarp(a, b):\n",
    "    return list(range(a, b+1))\n",
    "\n",
    "tarp(4,9)"
   ]
  },
  {
   "cell_type": "markdown",
   "id": "a322d43b",
   "metadata": {},
   "source": [
    "### Kaip sudauginti visus skaičius, esančius duotame sąraše?\n",
    "Pirmas būdas - pasirašyti savo metodą:"
   ]
  },
  {
   "cell_type": "code",
   "execution_count": 2,
   "id": "2031a9f4",
   "metadata": {},
   "outputs": [
    {
     "data": {
      "text/plain": [
       "60480"
      ]
     },
     "execution_count": 2,
     "metadata": {},
     "output_type": "execute_result"
    }
   ],
   "source": [
    "def prod(X):\n",
    "    a = X[0]\n",
    "    for n in X[1:]:\n",
    "        a = a * n\n",
    "    return a\n",
    "\n",
    "skaičiai = [4, 5, 6, 7, 8, 9]\n",
    "prod(skaičiai)"
   ]
  },
  {
   "cell_type": "markdown",
   "id": "139a1f3e",
   "metadata": {},
   "source": [
    "Antras būdas - pasinaudoti jau sukurtu metodu iš `numpy` bibliotekos:"
   ]
  },
  {
   "cell_type": "code",
   "execution_count": 6,
   "id": "6597470a",
   "metadata": {},
   "outputs": [
    {
     "data": {
      "text/plain": [
       "60480"
      ]
     },
     "execution_count": 6,
     "metadata": {},
     "output_type": "execute_result"
    }
   ],
   "source": [
    "import numpy as np\n",
    "skaičiai = [4, 5, 6, 7, 8, 9]\n",
    "np.prod(skaičiai)"
   ]
  },
  {
   "cell_type": "markdown",
   "id": "68046689",
   "metadata": {},
   "source": [
    "**Tačiau!** `np.prod` metodas veikia lėtai leidžiamas pakartotinai."
   ]
  },
  {
   "cell_type": "markdown",
   "id": "6a3a96e7",
   "metadata": {},
   "source": [
    "### Lošimo kauliukas metamas tris kartus, kaip rasti visas galimas metimų baigtis?"
   ]
  },
  {
   "cell_type": "code",
   "execution_count": 8,
   "id": "cac66f78",
   "metadata": {},
   "outputs": [
    {
     "name": "stdout",
     "output_type": "stream",
     "text": [
      "[(1, 1, 1), (1, 1, 2), (1, 1, 3), (1, 1, 4), (1, 1, 5), (1, 1, 6), (1, 2, 1), (1, 2, 2), (1, 2, 3), (1, 2, 4), (1, 2, 5), (1, 2, 6), (1, 3, 1), (1, 3, 2), (1, 3, 3), (1, 3, 4), (1, 3, 5), (1, 3, 6), (1, 4, 1), (1, 4, 2), (1, 4, 3), (1, 4, 4), (1, 4, 5), (1, 4, 6), (1, 5, 1), (1, 5, 2), (1, 5, 3), (1, 5, 4), (1, 5, 5), (1, 5, 6), (1, 6, 1), (1, 6, 2), (1, 6, 3), (1, 6, 4), (1, 6, 5), (1, 6, 6), (2, 1, 1), (2, 1, 2), (2, 1, 3), (2, 1, 4), (2, 1, 5), (2, 1, 6), (2, 2, 1), (2, 2, 2), (2, 2, 3), (2, 2, 4), (2, 2, 5), (2, 2, 6), (2, 3, 1), (2, 3, 2), (2, 3, 3), (2, 3, 4), (2, 3, 5), (2, 3, 6), (2, 4, 1), (2, 4, 2), (2, 4, 3), (2, 4, 4), (2, 4, 5), (2, 4, 6), (2, 5, 1), (2, 5, 2), (2, 5, 3), (2, 5, 4), (2, 5, 5), (2, 5, 6), (2, 6, 1), (2, 6, 2), (2, 6, 3), (2, 6, 4), (2, 6, 5), (2, 6, 6), (3, 1, 1), (3, 1, 2), (3, 1, 3), (3, 1, 4), (3, 1, 5), (3, 1, 6), (3, 2, 1), (3, 2, 2), (3, 2, 3), (3, 2, 4), (3, 2, 5), (3, 2, 6), (3, 3, 1), (3, 3, 2), (3, 3, 3), (3, 3, 4), (3, 3, 5), (3, 3, 6), (3, 4, 1), (3, 4, 2), (3, 4, 3), (3, 4, 4), (3, 4, 5), (3, 4, 6), (3, 5, 1), (3, 5, 2), (3, 5, 3), (3, 5, 4), (3, 5, 5), (3, 5, 6), (3, 6, 1), (3, 6, 2), (3, 6, 3), (3, 6, 4), (3, 6, 5), (3, 6, 6), (4, 1, 1), (4, 1, 2), (4, 1, 3), (4, 1, 4), (4, 1, 5), (4, 1, 6), (4, 2, 1), (4, 2, 2), (4, 2, 3), (4, 2, 4), (4, 2, 5), (4, 2, 6), (4, 3, 1), (4, 3, 2), (4, 3, 3), (4, 3, 4), (4, 3, 5), (4, 3, 6), (4, 4, 1), (4, 4, 2), (4, 4, 3), (4, 4, 4), (4, 4, 5), (4, 4, 6), (4, 5, 1), (4, 5, 2), (4, 5, 3), (4, 5, 4), (4, 5, 5), (4, 5, 6), (4, 6, 1), (4, 6, 2), (4, 6, 3), (4, 6, 4), (4, 6, 5), (4, 6, 6), (5, 1, 1), (5, 1, 2), (5, 1, 3), (5, 1, 4), (5, 1, 5), (5, 1, 6), (5, 2, 1), (5, 2, 2), (5, 2, 3), (5, 2, 4), (5, 2, 5), (5, 2, 6), (5, 3, 1), (5, 3, 2), (5, 3, 3), (5, 3, 4), (5, 3, 5), (5, 3, 6), (5, 4, 1), (5, 4, 2), (5, 4, 3), (5, 4, 4), (5, 4, 5), (5, 4, 6), (5, 5, 1), (5, 5, 2), (5, 5, 3), (5, 5, 4), (5, 5, 5), (5, 5, 6), (5, 6, 1), (5, 6, 2), (5, 6, 3), (5, 6, 4), (5, 6, 5), (5, 6, 6), (6, 1, 1), (6, 1, 2), (6, 1, 3), (6, 1, 4), (6, 1, 5), (6, 1, 6), (6, 2, 1), (6, 2, 2), (6, 2, 3), (6, 2, 4), (6, 2, 5), (6, 2, 6), (6, 3, 1), (6, 3, 2), (6, 3, 3), (6, 3, 4), (6, 3, 5), (6, 3, 6), (6, 4, 1), (6, 4, 2), (6, 4, 3), (6, 4, 4), (6, 4, 5), (6, 4, 6), (6, 5, 1), (6, 5, 2), (6, 5, 3), (6, 5, 4), (6, 5, 5), (6, 5, 6), (6, 6, 1), (6, 6, 2), (6, 6, 3), (6, 6, 4), (6, 6, 5), (6, 6, 6)]\n"
     ]
    }
   ],
   "source": [
    "from itertools import product\n",
    "variantai = list(range(1, 7))\n",
    "baigtys = list(product(variantai, repeat=3))\n",
    "print(baigtys)"
   ]
  },
  {
   "cell_type": "markdown",
   "id": "876a33ee",
   "metadata": {},
   "source": [
    "### Kaip patikrinti, ar skaičius sveikasis?\n",
    "Pirmas būdas:"
   ]
  },
  {
   "cell_type": "code",
   "execution_count": 20,
   "id": "4368bc19",
   "metadata": {},
   "outputs": [
    {
     "data": {
      "text/plain": [
       "False"
      ]
     },
     "execution_count": 20,
     "metadata": {},
     "output_type": "execute_result"
    }
   ],
   "source": [
    "x = 7.1\n",
    "x == int(x)"
   ]
  },
  {
   "cell_type": "markdown",
   "id": "57b23435",
   "metadata": {},
   "source": [
    "Antras būdas:"
   ]
  },
  {
   "cell_type": "code",
   "execution_count": 22,
   "id": "4a2ab564",
   "metadata": {},
   "outputs": [
    {
     "data": {
      "text/plain": [
       "False"
      ]
     },
     "execution_count": 22,
     "metadata": {},
     "output_type": "execute_result"
    }
   ],
   "source": [
    "x % 1 == 0"
   ]
  },
  {
   "cell_type": "markdown",
   "id": "31a89f40",
   "metadata": {},
   "source": [
    "### Kaip apskaičiuoti $\\sqrt[n]{x}$?"
   ]
  },
  {
   "cell_type": "markdown",
   "id": "7f4a7b28",
   "metadata": {},
   "source": [
    "Ištraukti $n$ - tojo laipsnio šaknį reiškia pakelti laipsniu $1/n$"
   ]
  },
  {
   "cell_type": "code",
   "execution_count": 5,
   "id": "86ff0380",
   "metadata": {},
   "outputs": [
    {
     "data": {
      "text/plain": [
       "1.912931182772389"
      ]
     },
     "execution_count": 5,
     "metadata": {},
     "output_type": "execute_result"
    }
   ],
   "source": [
    "x = 7\n",
    "x ** (1/3)"
   ]
  },
  {
   "cell_type": "markdown",
   "id": "8f20c07f",
   "metadata": {},
   "source": [
    "Traukiant kvadratines šaknis galima naudotis tam skirta biblioteka:"
   ]
  },
  {
   "cell_type": "code",
   "execution_count": 2,
   "id": "6b880ba1",
   "metadata": {},
   "outputs": [
    {
     "data": {
      "text/plain": [
       "1.4142135623730951"
      ]
     },
     "execution_count": 2,
     "metadata": {},
     "output_type": "execute_result"
    }
   ],
   "source": [
    "import math\n",
    "math.sqrt(2)"
   ]
  },
  {
   "cell_type": "markdown",
   "id": "83f2c2e4",
   "metadata": {},
   "source": [
    "### Kaip duotame sąraše palikti tik narius, kurie tenkina tam tikrą sąlygą?\n",
    "Tarkime norime atrinkti, kurie skaičiai yra sveikieji"
   ]
  },
  {
   "cell_type": "code",
   "execution_count": 24,
   "id": "8c5eecfa",
   "metadata": {},
   "outputs": [
    {
     "data": {
      "text/plain": [
       "[-1.0, -1, 0, -0.0, 0, 0.0, 0.0, 1.0, 1, 1.0, 1.0]"
      ]
     },
     "execution_count": 24,
     "metadata": {},
     "output_type": "execute_result"
    }
   ],
   "source": [
    "X = [-1.05, -1.0, -1, -0, -0.0, +0, 0.0, +0.0, +0.1, 1., 1, 1.0, +1.0]\n",
    "[x for x in X if x % 1 == 0]"
   ]
  },
  {
   "cell_type": "markdown",
   "id": "10313d29",
   "metadata": {},
   "source": [
    "Skaičiai rodomi truputį skirtingai, nes vieni yra `int` tipo, o kiti `float` tipo."
   ]
  },
  {
   "cell_type": "markdown",
   "id": "76da6aa2",
   "metadata": {},
   "source": [
    "### Vieta jūsų kodui"
   ]
  },
  {
   "cell_type": "markdown",
   "id": "e0b8c4d7",
   "metadata": {},
   "source": [
    "Turi būti tenkinamos šios sąlygos:\n",
    "* GM yra sveikasis skaičius\n",
    "* AM yra sveikasis skaičius\n",
    "* SM yra sveikasis skaičius\n",
    "* Pažymiai negali būti lygūs, nes kitaip $GM=AM=SM$\n",
    "\n",
    "Siūlau pradėti tikrinti nuo griežčiausios sąlygos, kad būtų iš karto atmetama kuo daugiau semestro baigčių. Kaip manote, kuri tai sąlyga?"
   ]
  },
  {
   "cell_type": "markdown",
   "id": "e5baeffa",
   "metadata": {},
   "source": [
    "### Sprendimas\n",
    "Jis nereikalingas. Darykit patys"
   ]
  },
  {
   "cell_type": "code",
   "execution_count": 30,
   "id": "035a8ac9",
   "metadata": {},
   "outputs": [
    {
     "name": "stdout",
     "output_type": "stream",
     "text": [
      "O!>!5\u000b",
      "y!>!qspevdu)sbohf)2-22*-!sfqfbu>O*\u000b",
      "z!>!\\o!gps!o!jo!y!jg!qspe)o*++)20O*!&!2!>>!1^\u000b",
      "{!>!\\o!gps!o!jo!z!jg!)oq/tvn)oq/bssbz)o*++3*0O*++)203*!&!2!>>!1^\u000b",
      "u!>!\\o!gps!o!jo!{!jg!)njo)o*\">!nby)o**!boe!oq/tvn)o*!&!O!>>!1^\u000b",
      "u\n"
     ]
    }
   ],
   "source": [
    "print(''.join([chr(ord(n)) for n in code])) #vieną atgal"
   ]
  }
 ],
 "metadata": {
  "kernelspec": {
   "display_name": "Python 3",
   "language": "python",
   "name": "python3"
  },
  "language_info": {
   "codemirror_mode": {
    "name": "ipython",
    "version": 3
   },
   "file_extension": ".py",
   "mimetype": "text/x-python",
   "name": "python",
   "nbconvert_exporter": "python",
   "pygments_lexer": "ipython3",
   "version": "3.8.8"
  }
 },
 "nbformat": 4,
 "nbformat_minor": 5
}
