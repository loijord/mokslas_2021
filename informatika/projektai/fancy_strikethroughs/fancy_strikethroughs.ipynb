{
 "cells": [
  {
   "cell_type": "markdown",
   "id": "945d8121",
   "metadata": {},
   "source": [
    "Kaip žinia, norint įvesti kopijuojamą Python kodą į Markdown tipo celes, reikia jį parašyti Code tipo celėje, tada jį visą pažymėti, atitraukti su TAB ir nukopijuoti į Markdown tipo celę, kurioje kodą norime cituoti. Pavyzdžiui šioje celėje pacituosiu kodą, kurį noriu parašyti:\n",
    "\n",
    "`def fancy_strikethrougs():`  \n",
    "    <code>&nbsp;&nbsp;&nbsp;&nbsp;</code>`a = 'this is my simple text'`  \n",
    "    <code>&nbsp;&nbsp;&nbsp;&nbsp;</code><s>`b = 'this is my stricken out text'`</s>  \n",
    "    <code>&nbsp;&nbsp;&nbsp;&nbsp;</code>`c = 'this is my simple text again'`\n",
    "    \n",
    "Looks `fancy`! Deja, bet toks kodo citavimas, kuriame matosi nubrauktos eilutės, Jupyter Notebook nepalaikomas. Kaip matote, šią kliūtį apeiti pavyko. Šio projekto tikslas yra panagrinėti, kaip buvo sprendžiamas šis techninis klausimas ir parašyti Python funkciją, kuri paima:\n",
    "* `str` tipo kintamąjį, kuriame laikomas jūsų Python skriptas\n",
    "* numerius eilučių, kurias norite jame išbraukti šiuo `fancy` būdu\n",
    "\n",
    "ir grąžina tekstą, kurį reikia įdėti į Markdown celę ir paleisti, kad būtų atvaizduojamas skriptas šiuo `fancy` būdu."
   ]
  },
  {
   "cell_type": "markdown",
   "id": "0b813197",
   "metadata": {},
   "source": [
    "## Kodo citavimas Jupyter Notebook\n",
    "Įprastai kodas Markdown celėse cituojamas atitraukiant jį visą TAB klavišu nuo krašto. Čia matote pacituoto kodo pavyzdį:\n",
    "    \n",
    "    def fancy_strikethrougs():\n",
    "        a = 'this is my simple text'\n",
    "        b = 'this is my stricken out text'\n",
    "        c = 'this is my simple text again' \n",
    "        \n",
    "Galima taip pat pamėginti pacituoti kiekvieną eilutę atskirai ir ,,sulipinti\" atskiras eilutes apjungiat jas 2 tarpais, Markdown tipo celėse atitinkančiais kėlimą į kitą eilutę:\n",
    "\n",
    "    `def fancy_strikethrougs():`  \n",
    "    `    a = 'this is my simple text'`  \n",
    "    `    b = 'this is my stricken out text'`  \n",
    "    `    c = 'this is my simple text again'` \n",
    "    \n",
    "Tačiau problema ta, kad paleidus šį skripto citavimo pavyzdį Markdown tipo celėje, skriptas bus sugadintas:\n",
    "\n",
    "    def fancy_strikethrougs():\n",
    "    a = 'this is my simple text'\n",
    "    b = 'this is my stricken out text'\n",
    "    c = 'this is my simple text again'"
   ]
  },
  {
   "cell_type": "markdown",
   "id": "df684032",
   "metadata": {},
   "source": [
    "## Pacituoto skripto nubraukimas\n",
    "Tekstas Markdown tipo celėse braukiamas įdedant jį tarp HTML skripto `<s>...</s>`. Štai taip reikia braukti tekstą `<s>išbrauktas tekstas</s>` ir štai taip atrodo <s>išbrauktas tekstas</s>.\n",
    "\n",
    "Jei bandytume panašiai nubraukti tam tikras kodo eilutes cituojant jį įprastu būdu, tai nepavyktų, nes HTML skriptas, atsakingas už nubraukimą, ,,numigruotų\" į cituojamą kodą:\n",
    "\n",
    "    def fancy_strikethrougs():\n",
    "        a = 'this is my simple text'\n",
    "        <s>b = 'this is my stricken out text'</s>\n",
    "        c = 'this is my simple text again' \n",
    "        \n",
    "Šią kliūtį galima apeiti bandant ,,sulipinti\" atskiras Python skripto eilutes, kaip ankstesniame pavyzdyje parašant:\n",
    "\n",
    "    `def fancy_strikethrougs():`  \n",
    "    `    a = 'this is my simple text'`  \n",
    "    <s>`    b = 'this is my stricken out text'`</s>  \n",
    "    `    c = 'this is my simple text again'` \n",
    "    \n",
    "tačiau vis tiek kol kas negalime išvengti kodo sugadinimo:\n",
    "\n",
    "`def fancy_strikethrougs():`  \n",
    "`    a = 'this is my simple text'`  \n",
    "<s>`    b = 'this is my stricken out text'`</s>  \n",
    "`    c = 'this is my simple text again'` "
   ]
  },
  {
   "cell_type": "markdown",
   "id": "d154ca86",
   "metadata": {},
   "source": [
    "## Skripto atitraukimas nuo krašto ,,per jėgą\"\n",
    "Aukščiau minėtos problemos kyla, nes leidžiant Markdown tipo celes kompiuterio viduje jos iš pradžių virsta HTML skriptu, o tik tuomet parodomos. Deja, bet HTML sintaksėje laisvi tarpai, likę eilutės pradžioje yra ,,suvalgomi\". Norint tai apeiti, galime naudoti specialų simbolį, kuris yra mums įprasto simbolio SPACE pakaitalas. Markdown tipo celėse jis žymimas `&nbsp;`. Taigi, kodą cituoti galėtume šitaip:\n",
    "\n",
    "    `def fancy_strikethrougs():`  \n",
    "    &nbsp;&nbsp;&nbsp;&nbsp;`a = 'this is my simple text'`  \n",
    "    &nbsp;&nbsp;&nbsp;&nbsp;<s>`b = 'this is my stricken out text'`</s>  \n",
    "    &nbsp;&nbsp;&nbsp;&nbsp;`c = 'this is my simple text again'`\n",
    "    \n",
    "Ir gautųsi:\n",
    "\n",
    "`def fancy_strikethrougs():`  \n",
    "&nbsp;&nbsp;&nbsp;&nbsp;`a = 'this is my simple text'`  \n",
    "&nbsp;&nbsp;&nbsp;&nbsp;<s>`b = 'this is my stricken out text'`</s>  \n",
    "&nbsp;&nbsp;&nbsp;&nbsp;`c = 'this is my simple text again'`\n",
    "\n",
    "Deja, bet šiame Python skripte 4 tarpų dydžio TAB atitraukimai lieka iškraipyti. Norint, kad taip nebūtų, tam reikia [specialaus apėjimo](https://stackoverflow.com/a/69592028/3044825):\n",
    "\n",
    "    `def fancy_strikethrougs():`  \n",
    "    <code>    </code>`a = 'this is my simple text'`  \n",
    "    <code>    </code><s>`b = 'this is my stricken out text'`</s>  \n",
    "    <code>    </code>`c = 'this is my simple text again'`\n",
    "    \n",
    "Jį paleidus gautume:\n",
    "\n",
    "`def fancy_strikethrougs():`  \n",
    "<code>    </code>`a = 'this is my simple text'`  \n",
    "<code>    </code><s>`b = 'this is my stricken out text'`</s>  \n",
    "<code>    </code>`c = 'this is my simple text again'`"
   ]
  },
  {
   "cell_type": "markdown",
   "id": "649fccda",
   "metadata": {},
   "source": [
    "## Proceso automatizavimas\n",
    "Matome, kad norėdami atlikti netgi vieną paprastą kodo eilutės išbraukimą turime atlikti labai daug cituojamo kodo pakeitimų. Tai labai nelankstus sprendimas. Parašykime Python metodą, kuris šiuos pakeitimus padarytų už mus."
   ]
  },
  {
   "cell_type": "code",
   "execution_count": 1,
   "id": "cdd3f51b",
   "metadata": {},
   "outputs": [
    {
     "name": "stdout",
     "output_type": "stream",
     "text": [
      "`def fancy_strikethrougs():`  \n",
      "<code>    </code>`a = 'this is my simple text'`  \n",
      "<code>    </code><s>`b = 'this is my stricken out text'`</s>  \n",
      "<code>    </code>`c = 'this is my simple text again'`\n"
     ]
    }
   ],
   "source": [
    "def fancify(your_code, line_ids):\n",
    "    '''It generates a Markdown script of your_code in order to strike out its specific lines'''\n",
    "    blank_counts = [len(n) - len(n.lstrip(' ')) for n in your_code.split('\\n')] #counts of leading spaces for each line\n",
    "    your_code = your_code.replace('    ', '').replace('\\t', '') #eliminate leading spaces\n",
    "    lines = [f'`{n}`' for n in your_code.split('\\n')] #add `...` for each line\n",
    "    for id in line_ids:\n",
    "        lines[id] = f'<s>{lines[id]}</s>' #strick out lines that are needed\n",
    "    for i, b in enumerate(blank_counts):\n",
    "        if b!=0: lines[i] = f'<code>{\" \"*b}</code>{lines[i]}' #use <code>...</code> snippet for leading spaces\n",
    "    your_code = '  \\n'.join(lines) #and join'em finally\n",
    "    \n",
    "    return your_code\n",
    "\n",
    "code = \"\"\"def fancy_strikethrougs():\n",
    "    a = 'this is my simple text'\n",
    "    b = 'this is my stricken out text'\n",
    "    c = 'this is my simple text again'\"\"\"\n",
    "\n",
    "print(fancify(code, [2]))"
   ]
  },
  {
   "cell_type": "markdown",
   "id": "5818d56a",
   "metadata": {},
   "source": [
    "Gautą skriptą galima vėliau pasileisti ant Markdown celės ir gauti reikiamą rezultatą, o jei norime jį peržiūrėti iš karto:"
   ]
  },
  {
   "cell_type": "code",
   "execution_count": 31,
   "id": "c7838542",
   "metadata": {},
   "outputs": [
    {
     "data": {
      "text/markdown": [
       "`def fancy_strikethrougs():`  \n",
       "<code>    </code>`a = 'this is my simple text'`  \n",
       "<code>    </code><s>`b = 'this is my stricken out text'`</s>  \n",
       "<code>    </code>`c = 'this is my simple text again'`"
      ],
      "text/plain": [
       "<IPython.core.display.Markdown object>"
      ]
     },
     "execution_count": 31,
     "metadata": {},
     "output_type": "execute_result"
    }
   ],
   "source": [
    "from IPython.display import Markdown\n",
    "code = \"\"\"def fancy_strikethrougs():\n",
    "    a = 'this is my simple text'\n",
    "    b = 'this is my stricken out text'\n",
    "    c = 'this is my simple text again'\"\"\"\n",
    "Markdown(fancify(code, [2]))"
   ]
  }
 ],
 "metadata": {
  "kernelspec": {
   "display_name": "Python 3",
   "language": "python",
   "name": "python3"
  },
  "language_info": {
   "codemirror_mode": {
    "name": "ipython",
    "version": 3
   },
   "file_extension": ".py",
   "mimetype": "text/x-python",
   "name": "python",
   "nbconvert_exporter": "python",
   "pygments_lexer": "ipython3",
   "version": "3.8.8"
  }
 },
 "nbformat": 4,
 "nbformat_minor": 5
}
