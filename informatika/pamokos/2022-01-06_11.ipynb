{
 "cells": [
  {
   "cell_type": "code",
   "execution_count": 108,
   "id": "1132ed9e",
   "metadata": {},
   "outputs": [],
   "source": [
    "import doctest\n",
    "import numpy as np"
   ]
  },
  {
   "cell_type": "markdown",
   "id": "9c89bce5",
   "metadata": {},
   "source": [
    "### Masyvo kūrimo metodai"
   ]
  },
  {
   "cell_type": "code",
   "execution_count": 66,
   "id": "2ba77772",
   "metadata": {},
   "outputs": [
    {
     "data": {
      "text/plain": [
       "array([[0, 0, 0, 0],\n",
       "       [0, 0, 0, 0],\n",
       "       [0, 0, 0, 0]])"
      ]
     },
     "execution_count": 66,
     "metadata": {},
     "output_type": "execute_result"
    }
   ],
   "source": [
    "np.zeros_like(arr)"
   ]
  },
  {
   "cell_type": "code",
   "execution_count": 69,
   "id": "ec89e850",
   "metadata": {},
   "outputs": [
    {
     "data": {
      "text/plain": [
       "array([[0, 0, 0, 0],\n",
       "       [0, 0, 0, 0],\n",
       "       [0, 0, 0, 0]])"
      ]
     },
     "execution_count": 69,
     "metadata": {},
     "output_type": "execute_result"
    }
   ],
   "source": [
    "np.zeros((3, 4), dtype=int)"
   ]
  },
  {
   "cell_type": "code",
   "execution_count": 70,
   "id": "9720e480",
   "metadata": {},
   "outputs": [
    {
     "data": {
      "text/plain": [
       "array([[ True,  True,  True,  True],\n",
       "       [ True,  True,  True,  True],\n",
       "       [ True,  True,  True,  True]])"
      ]
     },
     "execution_count": 70,
     "metadata": {},
     "output_type": "execute_result"
    }
   ],
   "source": [
    "np.ones((3, 4), dtype=bool)"
   ]
  },
  {
   "cell_type": "code",
   "execution_count": 71,
   "id": "e6905da8",
   "metadata": {},
   "outputs": [
    {
     "data": {
      "text/plain": [
       "array([[1.22751595e-311, 2.86558075e-322, 0.00000000e+000,\n",
       "        0.00000000e+000],\n",
       "       [1.11260619e-306, 2.42336543e-057, 4.22087287e-090,\n",
       "        1.04049517e-042],\n",
       "       [8.26240115e-072, 1.32368490e-071, 6.48224659e+170,\n",
       "        5.82471487e+257]])"
      ]
     },
     "execution_count": 71,
     "metadata": {},
     "output_type": "execute_result"
    }
   ],
   "source": [
    "np.empty((3, 4), dtype=float) #rezervuojamos atsitiktinės atminties ląstelės float tipo duomenims"
   ]
  },
  {
   "cell_type": "code",
   "execution_count": 75,
   "id": "3c3fa4a0",
   "metadata": {},
   "outputs": [
    {
     "data": {
      "text/plain": [
       "array([[2, 2, 2, 2],\n",
       "       [2, 2, 2, 2],\n",
       "       [2, 2, 2, 2]], dtype=uint8)"
      ]
     },
     "execution_count": 75,
     "metadata": {},
     "output_type": "execute_result"
    }
   ],
   "source": [
    "np.full((3, 4), fill_value=2, dtype=np.uint8)"
   ]
  },
  {
   "cell_type": "code",
   "execution_count": 81,
   "id": "55b28cf0",
   "metadata": {},
   "outputs": [
    {
     "data": {
      "text/plain": [
       "array([[1, 0, 0, 0, 0],\n",
       "       [0, 1, 0, 0, 0],\n",
       "       [0, 0, 1, 0, 0],\n",
       "       [0, 0, 0, 1, 0],\n",
       "       [0, 0, 0, 0, 1]])"
      ]
     },
     "execution_count": 81,
     "metadata": {},
     "output_type": "execute_result"
    }
   ],
   "source": [
    "np.eye(5, dtype=int)"
   ]
  },
  {
   "cell_type": "code",
   "execution_count": 82,
   "id": "231e404e",
   "metadata": {},
   "outputs": [
    {
     "data": {
      "text/plain": [
       "array([0, 0, 0, 0, 0, 0, 0, 0, 0, 1, 1, 1, 3, 3, 3, 3, 3, 3, 3, 4])"
      ]
     },
     "execution_count": 82,
     "metadata": {},
     "output_type": "execute_result"
    }
   ],
   "source": [
    "np.repeat(np.arange(5), [9, 3, 0, 7, 1])"
   ]
  },
  {
   "cell_type": "code",
   "execution_count": 84,
   "id": "fedf6293",
   "metadata": {},
   "outputs": [
    {
     "data": {
      "text/plain": [
       "array([0, 1, 2, 0, 1, 2, 0, 1, 2, 0, 1, 2])"
      ]
     },
     "execution_count": 84,
     "metadata": {},
     "output_type": "execute_result"
    }
   ],
   "source": [
    "np.tile(np.arange(3), 4)"
   ]
  },
  {
   "cell_type": "code",
   "execution_count": 83,
   "id": "cb7fe33f",
   "metadata": {},
   "outputs": [
    {
     "data": {
      "text/plain": [
       "array([[0, 1, 2, 3, 4, 0, 1, 2, 3, 4, 0, 1, 2, 3, 4, 0, 1, 2, 3, 4],\n",
       "       [0, 1, 2, 3, 4, 0, 1, 2, 3, 4, 0, 1, 2, 3, 4, 0, 1, 2, 3, 4],\n",
       "       [0, 1, 2, 3, 4, 0, 1, 2, 3, 4, 0, 1, 2, 3, 4, 0, 1, 2, 3, 4]])"
      ]
     },
     "execution_count": 83,
     "metadata": {},
     "output_type": "execute_result"
    }
   ],
   "source": [
    "np.tile(np.arange(5), (3, 4))"
   ]
  },
  {
   "cell_type": "markdown",
   "id": "28839648",
   "metadata": {},
   "source": [
    "Šįsyk dirbsime su masyvu, sudarytu iš atstiktinai sugeneruotų reikšmių:"
   ]
  },
  {
   "cell_type": "code",
   "execution_count": 3,
   "id": "825be4cc",
   "metadata": {},
   "outputs": [
    {
     "data": {
      "text/plain": [
       "array([[16, 11,  5, 11],\n",
       "       [17, 12, 14, 15],\n",
       "       [10, 13, 15, 18]])"
      ]
     },
     "execution_count": 3,
     "metadata": {},
     "output_type": "execute_result"
    }
   ],
   "source": [
    "arr = np.random.randint(20, size=(3, 4))\n",
    "arr"
   ]
  },
  {
   "cell_type": "markdown",
   "id": "825fb885",
   "metadata": {},
   "source": [
    "### Masyvo metaduomenys"
   ]
  },
  {
   "cell_type": "markdown",
   "id": "a1362490",
   "metadata": {},
   "source": [
    "Masyvas turi dvi ašis, kurių ilgiai yra tokie:"
   ]
  },
  {
   "cell_type": "code",
   "execution_count": 4,
   "id": "e63d2fb0",
   "metadata": {},
   "outputs": [
    {
     "data": {
      "text/plain": [
       "(3, 4)"
      ]
     },
     "execution_count": 4,
     "metadata": {},
     "output_type": "execute_result"
    }
   ],
   "source": [
    "arr.shape"
   ]
  },
  {
   "cell_type": "markdown",
   "id": "eddc7959",
   "metadata": {},
   "source": [
    "Masyvo dydis:"
   ]
  },
  {
   "cell_type": "code",
   "execution_count": 5,
   "id": "bcccd5a5",
   "metadata": {},
   "outputs": [
    {
     "data": {
      "text/plain": [
       "12"
      ]
     },
     "execution_count": 5,
     "metadata": {},
     "output_type": "execute_result"
    }
   ],
   "source": [
    "arr.size"
   ]
  },
  {
   "cell_type": "markdown",
   "id": "b62c4aee",
   "metadata": {},
   "source": [
    "Masyvo duomenų tipas:"
   ]
  },
  {
   "cell_type": "code",
   "execution_count": 6,
   "id": "0c9ce040",
   "metadata": {},
   "outputs": [
    {
     "data": {
      "text/plain": [
       "dtype('int32')"
      ]
     },
     "execution_count": 6,
     "metadata": {},
     "output_type": "execute_result"
    }
   ],
   "source": [
    "arr.dtype"
   ]
  },
  {
   "cell_type": "markdown",
   "id": "3bb8c0da",
   "metadata": {},
   "source": [
    "Masyvo duomens dydis baitais:"
   ]
  },
  {
   "cell_type": "code",
   "execution_count": 7,
   "id": "1183310b",
   "metadata": {},
   "outputs": [
    {
     "data": {
      "text/plain": [
       "4"
      ]
     },
     "execution_count": 7,
     "metadata": {},
     "output_type": "execute_result"
    }
   ],
   "source": [
    "arr.itemsize"
   ]
  },
  {
   "cell_type": "markdown",
   "id": "563e4d35",
   "metadata": {},
   "source": [
    "Masyvo duomenims saugoti numatytos vietos dydis baitais (neįskaitant metaduomenų):"
   ]
  },
  {
   "cell_type": "code",
   "execution_count": 8,
   "id": "97644f2f",
   "metadata": {},
   "outputs": [
    {
     "data": {
      "text/plain": [
       "48"
      ]
     },
     "execution_count": 8,
     "metadata": {},
     "output_type": "execute_result"
    }
   ],
   "source": [
    "arr.nbytes"
   ]
  },
  {
   "cell_type": "markdown",
   "id": "51ece291",
   "metadata": {},
   "source": [
    "Kai kurie metaduomenys apie masyvą yra paslėpti privačiame atribute:"
   ]
  },
  {
   "cell_type": "code",
   "execution_count": 103,
   "id": "2adee26e",
   "metadata": {},
   "outputs": [
    {
     "data": {
      "text/plain": [
       "{'data': (2484539640272, False),\n",
       " 'strides': None,\n",
       " 'descr': [('', '<i4')],\n",
       " 'typestr': '<i4',\n",
       " 'shape': (3, 4),\n",
       " 'version': 3}"
      ]
     },
     "execution_count": 103,
     "metadata": {},
     "output_type": "execute_result"
    }
   ],
   "source": [
    "arr.__array_interface__"
   ]
  },
  {
   "cell_type": "code",
   "execution_count": 76,
   "id": "e70b39a1",
   "metadata": {},
   "outputs": [
    {
     "data": {
      "text/plain": [
       "iinfo(min=0, max=255, dtype=uint8)"
      ]
     },
     "execution_count": 76,
     "metadata": {},
     "output_type": "execute_result"
    }
   ],
   "source": [
    "np.iinfo(np.uint8) #Greitas būdas pasižiūrėti duomenų ribas"
   ]
  },
  {
   "cell_type": "code",
   "execution_count": 77,
   "id": "fa1d59b3",
   "metadata": {},
   "outputs": [
    {
     "data": {
      "text/plain": [
       "array([  1,   0, 255], dtype=uint8)"
      ]
     },
     "execution_count": 77,
     "metadata": {},
     "output_type": "execute_result"
    }
   ],
   "source": [
    "np.array([255,254,253], dtype=np.uint8) + 2 #Kas įvyksta, kai peržengiam ribas"
   ]
  },
  {
   "cell_type": "markdown",
   "id": "25ff6514",
   "metadata": {},
   "source": [
    "### Dinaminės operacijos\n",
    "Dinaminėmis operacijomis laikomos tokios operacijos, kurios negrąžinamai pakeičia pradinį masyvą."
   ]
  },
  {
   "cell_type": "markdown",
   "id": "c3cba70f",
   "metadata": {},
   "source": [
    "**Eilutės keitimas:**"
   ]
  },
  {
   "cell_type": "code",
   "execution_count": 9,
   "id": "886dd841",
   "metadata": {},
   "outputs": [
    {
     "data": {
      "text/plain": [
       "array([[ 2,  3,  4,  5],\n",
       "       [17, 12, 14, 15],\n",
       "       [10, 13, 15, 18]])"
      ]
     },
     "execution_count": 9,
     "metadata": {},
     "output_type": "execute_result"
    }
   ],
   "source": [
    "arr[0] = np.arange(2, 6)\n",
    "arr"
   ]
  },
  {
   "cell_type": "markdown",
   "id": "61accbd1",
   "metadata": {},
   "source": [
    "**Bloko keitimas:**"
   ]
  },
  {
   "cell_type": "code",
   "execution_count": 10,
   "id": "a71ae80f",
   "metadata": {},
   "outputs": [
    {
     "data": {
      "text/plain": [
       "array([[ 2,  3,  4,  5],\n",
       "       [17, -1, -1, 15],\n",
       "       [10, -1, -1, 18]])"
      ]
     },
     "execution_count": 10,
     "metadata": {},
     "output_type": "execute_result"
    }
   ],
   "source": [
    "arr[1:, 1:3] = -1\n",
    "arr"
   ]
  },
  {
   "cell_type": "markdown",
   "id": "bf1b2ba7",
   "metadata": {},
   "source": [
    "### Indeksavimo rūšys"
   ]
  },
  {
   "cell_type": "markdown",
   "id": "5b08ba56",
   "metadata": {},
   "source": [
    "**Priėjimas prie elemento:**"
   ]
  },
  {
   "cell_type": "code",
   "execution_count": 11,
   "id": "306df07c",
   "metadata": {},
   "outputs": [
    {
     "data": {
      "text/plain": [
       "(4, 4)"
      ]
     },
     "execution_count": 11,
     "metadata": {},
     "output_type": "execute_result"
    }
   ],
   "source": [
    "arr[0,2], arr[0][2]"
   ]
  },
  {
   "cell_type": "markdown",
   "id": "88aff997",
   "metadata": {},
   "source": [
    "**Indeksavimas pagal pirmą ašį**:"
   ]
  },
  {
   "cell_type": "code",
   "execution_count": 12,
   "id": "508d98c7",
   "metadata": {},
   "outputs": [
    {
     "name": "stdout",
     "output_type": "stream",
     "text": [
      "[[ 2  3  4  5]\n",
      " [10 -1 -1 18]]\n",
      "[[ 2  3  4  5]\n",
      " [10 -1 -1 18]]\n"
     ]
    }
   ],
   "source": [
    "my_list = [0, 2]\n",
    "print(arr[my_list])\n",
    "print(arr[my_list, :])"
   ]
  },
  {
   "cell_type": "markdown",
   "id": "22f5233b",
   "metadata": {},
   "source": [
    "**Indeksavimas pagal abi ašis**:"
   ]
  },
  {
   "cell_type": "code",
   "execution_count": 13,
   "id": "8f2cd469",
   "metadata": {},
   "outputs": [
    {
     "name": "stdout",
     "output_type": "stream",
     "text": [
      "[[ 2  4]\n",
      " [10 -1]]\n"
     ]
    }
   ],
   "source": [
    "print(arr[[0, 2], ::2])"
   ]
  },
  {
   "cell_type": "markdown",
   "id": "19275231",
   "metadata": {},
   "source": [
    "**Indeksavimas pagal antrą ašį**:"
   ]
  },
  {
   "cell_type": "code",
   "execution_count": 14,
   "id": "da16d694",
   "metadata": {},
   "outputs": [
    {
     "name": "stdout",
     "output_type": "stream",
     "text": [
      "[[ 2  4]\n",
      " [17 -1]\n",
      " [10 -1]]\n"
     ]
    }
   ],
   "source": [
    "print(arr[:, ::2])"
   ]
  },
  {
   "cell_type": "markdown",
   "id": "62c2def3",
   "metadata": {},
   "source": [
    "### Indeksų praleidimo slice'suose prasmė\n",
    "Įsitikinsime, kad  `numpy` masyvų ir `list` indeksacija yra paremta `slice` tipo objektų naudojimu:"
   ]
  },
  {
   "cell_type": "code",
   "execution_count": 15,
   "id": "afe9e51f",
   "metadata": {},
   "outputs": [
    {
     "data": {
      "text/plain": [
       "([7, 9, 5, 1, 3], [7, 9, 5, 1, 3], [7, 9, 5, 1, 3])"
      ]
     },
     "execution_count": 15,
     "metadata": {},
     "output_type": "execute_result"
    }
   ],
   "source": [
    "a = [7,8,9,4,5,6,1,2,3]\n",
    "a[::2], a[None:None:2], a[slice(None,None,2)]"
   ]
  },
  {
   "cell_type": "code",
   "execution_count": 16,
   "id": "1ff6f7d0",
   "metadata": {},
   "outputs": [
    {
     "data": {
      "text/plain": [
       "([9, 4, 5, 6, 1, 2, 3], [9, 4, 5, 6, 1, 2, 3], [9, 4, 5, 6, 1, 2, 3])"
      ]
     },
     "execution_count": 16,
     "metadata": {},
     "output_type": "execute_result"
    }
   ],
   "source": [
    "a[2:], a[2:None:None], a[slice(2, None, None)]"
   ]
  },
  {
   "cell_type": "markdown",
   "id": "38963158",
   "metadata": {},
   "source": [
    "Taip pat panagrinėsime, kaip tokia indeksacija veikia `numpy` masyvuose, kai indeksuojamos abi ašys (`list` tipo objektai palaiko tik pirmos ašies indeksaciją):"
   ]
  },
  {
   "cell_type": "code",
   "execution_count": 17,
   "id": "09f68a03",
   "metadata": {},
   "outputs": [
    {
     "data": {
      "text/plain": [
       "array([[ 2,  3,  4,  5],\n",
       "       [17, -1, -1, 15],\n",
       "       [10, -1, -1, 18]])"
      ]
     },
     "execution_count": 17,
     "metadata": {},
     "output_type": "execute_result"
    }
   ],
   "source": [
    "arr"
   ]
  },
  {
   "cell_type": "code",
   "execution_count": 18,
   "id": "16ba7ada",
   "metadata": {},
   "outputs": [],
   "source": [
    "s1, s2 = slice(1,4,2), slice(1,3,2) # 1\n",
    "l1, l2 = [1, 3], [1]"
   ]
  },
  {
   "cell_type": "code",
   "execution_count": 19,
   "id": "75827cf9",
   "metadata": {},
   "outputs": [
    {
     "data": {
      "text/plain": [
       "(array([[-1]]), array([[-1]]))"
      ]
     },
     "execution_count": 19,
     "metadata": {},
     "output_type": "execute_result"
    }
   ],
   "source": [
    "arr[s1, s2], arr[1:4:2, 1:3:2] #tokia pati indeksacija, paima tik pirmą eilutę ir pirmą stulpelį"
   ]
  },
  {
   "cell_type": "code",
   "execution_count": 20,
   "id": "d36d5275",
   "metadata": {},
   "outputs": [
    {
     "ename": "IndexError",
     "evalue": "index 3 is out of bounds for axis 0 with size 3",
     "output_type": "error",
     "traceback": [
      "\u001b[1;31m---------------------------------------------------------------------------\u001b[0m",
      "\u001b[1;31mIndexError\u001b[0m                                Traceback (most recent call last)",
      "\u001b[1;32m~\\AppData\\Local\\Temp/ipykernel_12156/1582159039.py\u001b[0m in \u001b[0;36m<module>\u001b[1;34m\u001b[0m\n\u001b[1;32m----> 1\u001b[1;33m \u001b[0marr\u001b[0m\u001b[1;33m[\u001b[0m\u001b[0ml1\u001b[0m\u001b[1;33m,\u001b[0m \u001b[0ms2\u001b[0m\u001b[1;33m]\u001b[0m\u001b[1;33m,\u001b[0m \u001b[0marr\u001b[0m\u001b[1;33m[\u001b[0m\u001b[1;33m[\u001b[0m\u001b[1;36m1\u001b[0m\u001b[1;33m,\u001b[0m \u001b[1;36m3\u001b[0m\u001b[1;33m]\u001b[0m\u001b[1;33m,\u001b[0m \u001b[1;36m1\u001b[0m\u001b[1;33m:\u001b[0m\u001b[1;36m3\u001b[0m\u001b[1;33m:\u001b[0m\u001b[1;36m2\u001b[0m\u001b[1;33m]\u001b[0m \u001b[1;31m#tokia pati indeksacija, tačiau išmeta IndexError, nes neranda trečios eilutės\u001b[0m\u001b[1;33m\u001b[0m\u001b[1;33m\u001b[0m\u001b[0m\n\u001b[0m",
      "\u001b[1;31mIndexError\u001b[0m: index 3 is out of bounds for axis 0 with size 3"
     ]
    }
   ],
   "source": [
    "arr[l1, s2], arr[[1, 3], 1:3:2] #tokia pati indeksacija, tačiau išmeta IndexError, nes neranda trečios eilutės"
   ]
  },
  {
   "cell_type": "code",
   "execution_count": 21,
   "id": "cc713a90",
   "metadata": {},
   "outputs": [
    {
     "data": {
      "text/plain": [
       "(array([[-1]]), array([[-1]]))"
      ]
     },
     "execution_count": 21,
     "metadata": {},
     "output_type": "execute_result"
    }
   ],
   "source": [
    "arr[s1, l2], arr[1:4:2, [1]] #tokia pati indeksacija, paima pirmą eilutę ir pirmą stulpelį"
   ]
  },
  {
   "cell_type": "markdown",
   "id": "8725c958",
   "metadata": {},
   "source": [
    "### Advanced indexing"
   ]
  },
  {
   "cell_type": "code",
   "execution_count": 22,
   "id": "6fb724a5",
   "metadata": {},
   "outputs": [
    {
     "data": {
      "text/plain": [
       "array([[ 2,  3,  4,  5],\n",
       "       [17, -1, -1, 15],\n",
       "       [10, -1, -1, 18]])"
      ]
     },
     "execution_count": 22,
     "metadata": {},
     "output_type": "execute_result"
    }
   ],
   "source": [
    "arr"
   ]
  },
  {
   "cell_type": "markdown",
   "id": "dc71d144",
   "metadata": {},
   "source": [
    "**Neapsigauti: kai visų ašių indeksai yra `list` tipo, tai indeksacija tampa Advanced**"
   ]
  },
  {
   "cell_type": "code",
   "execution_count": 23,
   "id": "eb68a22d",
   "metadata": {},
   "outputs": [
    {
     "data": {
      "text/plain": [
       "array([ 2, -1])"
      ]
     },
     "execution_count": 23,
     "metadata": {},
     "output_type": "execute_result"
    }
   ],
   "source": [
    "l1, l2 = [0, 2], [0, 2]\n",
    "arr[l1, l2]"
   ]
  },
  {
   "cell_type": "markdown",
   "id": "bbf2f37a",
   "metadata": {},
   "source": [
    "**Norint, kad būtų taip, kaip darėme anksčiau:**"
   ]
  },
  {
   "cell_type": "code",
   "execution_count": 24,
   "id": "ab73c643",
   "metadata": {},
   "outputs": [
    {
     "data": {
      "text/plain": [
       "array([[ 2,  4],\n",
       "       [10, -1]])"
      ]
     },
     "execution_count": 24,
     "metadata": {},
     "output_type": "execute_result"
    }
   ],
   "source": [
    "arr[np.ix_(l1, l2)]"
   ]
  },
  {
   "cell_type": "markdown",
   "id": "fa007959",
   "metadata": {},
   "source": [
    "### Boolean indexing\n",
    "`numpy` masyvai palaiko ne tik `slice` ir `list` tipo objektų naudojimą indeksavime, tačiau taip pat leidžia naudoti ir `bool` tipo indeksus:"
   ]
  },
  {
   "cell_type": "code",
   "execution_count": 25,
   "id": "fe1d0c6b",
   "metadata": {},
   "outputs": [
    {
     "name": "stdout",
     "output_type": "stream",
     "text": [
      "[[ 2  3  4  5]\n",
      " [10 -1 -1 18]]\n",
      "[[ 2  3  4  5]\n",
      " [10 -1 -1 18]]\n"
     ]
    }
   ],
   "source": [
    "my_list = [True, False, True]\n",
    "print(arr[my_list])\n",
    "print(arr[[0, 2]]) #turi gautis tas pats"
   ]
  },
  {
   "cell_type": "markdown",
   "id": "7bbbf9d9",
   "metadata": {},
   "source": [
    "## Antra dalis"
   ]
  },
  {
   "cell_type": "markdown",
   "id": "227d5398",
   "metadata": {},
   "source": [
    "**Masyvo formos keitimas.** Keičiant formą suformuojamas naujo masyvo vaizdas, tačiau kopija nesukuriama ir dirbama su tuo pačiu:"
   ]
  },
  {
   "cell_type": "code",
   "execution_count": 51,
   "id": "0282ab0a",
   "metadata": {},
   "outputs": [
    {
     "data": {
      "text/plain": [
       "array([[ 2,  3,  4,  5],\n",
       "       [17, -1, -1, 15],\n",
       "       [10, -1, -1, 18]])"
      ]
     },
     "execution_count": 51,
     "metadata": {},
     "output_type": "execute_result"
    }
   ],
   "source": [
    "arr"
   ]
  },
  {
   "cell_type": "code",
   "execution_count": 52,
   "id": "4f82242c",
   "metadata": {},
   "outputs": [
    {
     "data": {
      "text/plain": [
       "(3, 4)"
      ]
     },
     "execution_count": 52,
     "metadata": {},
     "output_type": "execute_result"
    }
   ],
   "source": [
    "arr.shape"
   ]
  },
  {
   "cell_type": "code",
   "execution_count": 53,
   "id": "80d9285f",
   "metadata": {},
   "outputs": [
    {
     "data": {
      "text/plain": [
       "array([[[ 2,  3],\n",
       "        [ 4,  5]],\n",
       "\n",
       "       [[17, -1],\n",
       "        [-1, 15]],\n",
       "\n",
       "       [[10, -1],\n",
       "        [-1, 18]]])"
      ]
     },
     "execution_count": 53,
     "metadata": {},
     "output_type": "execute_result"
    }
   ],
   "source": [
    "x = arr.reshape(3, 2, 2)\n",
    "x"
   ]
  },
  {
   "cell_type": "markdown",
   "id": "51603ec0",
   "metadata": {},
   "source": [
    "**Masyvo plokštinimas**. `np.ravel` ir `np.flatten` metodai paverčia masyvą plokščiu ir grąžina tą patį rezultatą. Tačiau `np.ravel()` nesukuria jo kopijos, o `np.flatten()` sukuria. Todėl narių keitimas `np.ravel()` outpute yra dinaminis procesas, o `np.flatten()` atveju - nėra."
   ]
  },
  {
   "cell_type": "code",
   "execution_count": 54,
   "id": "35ba676e",
   "metadata": {},
   "outputs": [
    {
     "data": {
      "text/plain": [
       "(array([ 2,  3,  4,  5, 17, -1, -1, 15, 10, -1, -1, 18]),\n",
       " array([ 2,  3,  4,  5, 17, -1, -1, 15, 10, -1, -1, 18]))"
      ]
     },
     "execution_count": 54,
     "metadata": {},
     "output_type": "execute_result"
    }
   ],
   "source": [
    "x.ravel(), np.ravel(x)"
   ]
  },
  {
   "cell_type": "code",
   "execution_count": 55,
   "id": "bc7c9ece",
   "metadata": {},
   "outputs": [
    {
     "data": {
      "text/plain": [
       "(array([ 2,  3,  4,  5, 17, -1, -1, 15, 10, -1, -1, 18]),)"
      ]
     },
     "execution_count": 55,
     "metadata": {},
     "output_type": "execute_result"
    }
   ],
   "source": [
    "x.flatten(), #np.flatten(x) is not supported"
   ]
  },
  {
   "cell_type": "code",
   "execution_count": 60,
   "id": "5ee6d2df",
   "metadata": {},
   "outputs": [
    {
     "data": {
      "text/plain": [
       "(array([100,   3,   4,   5,  17,  -1,  -1,  15,  10,  -1,  -1,  18]),\n",
       " array([200,   3,   4,   5,  17,  -1,  -1,  15,  10,  -1,  -1,  18]))"
      ]
     },
     "execution_count": 60,
     "metadata": {},
     "output_type": "execute_result"
    }
   ],
   "source": [
    "y1, y2 = x.ravel(), x.flatten()\n",
    "y1[0] = 100\n",
    "y2[0] = 200\n",
    "y1, y2"
   ]
  },
  {
   "cell_type": "code",
   "execution_count": 61,
   "id": "dc2029a5",
   "metadata": {},
   "outputs": [
    {
     "data": {
      "text/plain": [
       "array([[[100,   3],\n",
       "        [  4,   5]],\n",
       "\n",
       "       [[ 17,  -1],\n",
       "        [ -1,  15]],\n",
       "\n",
       "       [[ 10,  -1],\n",
       "        [ -1,  18]]])"
      ]
     },
     "execution_count": 61,
     "metadata": {},
     "output_type": "execute_result"
    }
   ],
   "source": [
    "x"
   ]
  },
  {
   "cell_type": "code",
   "execution_count": 62,
   "id": "30f2faad",
   "metadata": {},
   "outputs": [
    {
     "data": {
      "text/plain": [
       "array([[100,   3,   4,   5],\n",
       "       [ 17,  -1,  -1,  15],\n",
       "       [ 10,  -1,  -1,  18]])"
      ]
     },
     "execution_count": 62,
     "metadata": {},
     "output_type": "execute_result"
    }
   ],
   "source": [
    "arr"
   ]
  },
  {
   "cell_type": "markdown",
   "id": "ccbfb8e5",
   "metadata": {},
   "source": [
    "Ups, `x` ir `arr` masyvų pirmi nariai pasikeitė. O anksčiau buvę nariai niekur nesaugomi, tad juos praradome! `y1 = x.ravel()` ir `x = arr.reshape(3, 2, 2)` metodai nesukūrė masyvų kopijų, todėl masyvų `x, y1, arr` nariai yra saugomi tose pačiose atminties ląstelėse. Pirmo nario pakeitimas pirmame masyve pakeitė ir likusių masyvų pirmus narius."
   ]
  },
  {
   "cell_type": "markdown",
   "id": "8495b8e9",
   "metadata": {},
   "source": [
    "**Perėjimai tarp skirtingų indeksacijų.** Jau susipažinome su paprasta, Boolean ir Fancy indeksacija. Dabar pažiūrėkime, kaip galima atkurti indeksus arba pereiti iš vienos indeksacijos į kitą."
   ]
  },
  {
   "cell_type": "code",
   "execution_count": 85,
   "id": "9ffd67b6",
   "metadata": {},
   "outputs": [
    {
     "data": {
      "text/plain": [
       "array([[False, False, False, False],\n",
       "       [False,  True,  True, False],\n",
       "       [False,  True,  True, False]])"
      ]
     },
     "execution_count": 85,
     "metadata": {},
     "output_type": "execute_result"
    }
   ],
   "source": [
    "arr == -1"
   ]
  },
  {
   "cell_type": "code",
   "execution_count": 87,
   "id": "1d90ce07",
   "metadata": {},
   "outputs": [
    {
     "data": {
      "text/plain": [
       "(array([1, 1, 2, 2], dtype=int64), array([1, 2, 1, 2], dtype=int64))"
      ]
     },
     "execution_count": 87,
     "metadata": {},
     "output_type": "execute_result"
    }
   ],
   "source": [
    "np.where(arr == -1) #randa Fancy indeksus narių, lygių -1"
   ]
  },
  {
   "cell_type": "code",
   "execution_count": 89,
   "id": "bc39a9f8",
   "metadata": {},
   "outputs": [
    {
     "data": {
      "text/plain": [
       "(array([1, 1, 2, 2], dtype=int64), array([1, 2, 1, 2], dtype=int64))"
      ]
     },
     "execution_count": 89,
     "metadata": {},
     "output_type": "execute_result"
    }
   ],
   "source": [
    "np.nonzero(arr == -1) #tas pats"
   ]
  },
  {
   "cell_type": "code",
   "execution_count": 95,
   "id": "1863c5e6",
   "metadata": {},
   "outputs": [
    {
     "data": {
      "text/plain": [
       "array([False, False, False, False, False,  True,  True, False, False,\n",
       "        True,  True, False])"
      ]
     },
     "execution_count": 95,
     "metadata": {},
     "output_type": "execute_result"
    }
   ],
   "source": [
    "flat_arr = arr.ravel() == -1\n",
    "flat_arr #palyginimas su -1"
   ]
  },
  {
   "cell_type": "code",
   "execution_count": 96,
   "id": "5ce462c9",
   "metadata": {},
   "outputs": [
    {
     "data": {
      "text/plain": [
       "array([ 5,  6,  9, 10], dtype=int64)"
      ]
     },
     "execution_count": 96,
     "metadata": {},
     "output_type": "execute_result"
    }
   ],
   "source": [
    "np.flatnonzero(flat_arr) #randa indeksus narių, lygių -1, išplokštintame masyve"
   ]
  },
  {
   "cell_type": "code",
   "execution_count": 99,
   "id": "81dd0c4d",
   "metadata": {},
   "outputs": [
    {
     "data": {
      "text/plain": [
       "array([[False, False, False, False],\n",
       "       [False,  True,  True, False],\n",
       "       [False,  True,  True, False]])"
      ]
     },
     "execution_count": 99,
     "metadata": {},
     "output_type": "execute_result"
    }
   ],
   "source": [
    "arr == -1"
   ]
  },
  {
   "cell_type": "code",
   "execution_count": 92,
   "id": "8d8d3b6a",
   "metadata": {},
   "outputs": [
    {
     "data": {
      "text/plain": [
       "array([ 5,  6,  9, 10], dtype=int64)"
      ]
     },
     "execution_count": 92,
     "metadata": {},
     "output_type": "execute_result"
    }
   ],
   "source": [
    "np.flatnonzero(arr == -1) #taikant metodą masyvo išplokštinimas nėra būtinas"
   ]
  },
  {
   "cell_type": "code",
   "execution_count": 98,
   "id": "942b588c",
   "metadata": {},
   "outputs": [
    {
     "data": {
      "text/plain": [
       "(array([1, 1, 2, 2], dtype=int32), array([1, 2, 1, 2], dtype=int32))"
      ]
     },
     "execution_count": 98,
     "metadata": {},
     "output_type": "execute_result"
    }
   ],
   "source": [
    "np.divmod([ 5,  6,  9, 10], 4) #triukas, su kuriuo galima paversti išplokštinto masyvo indeksus į fancy indeksus"
   ]
  },
  {
   "cell_type": "markdown",
   "id": "c45a6c89",
   "metadata": {},
   "source": [
    "## Trečia dalis\n",
    "Prisimename, kaip valdyti kodą, kad juo galėtų naudotis kiti žmonės, kad jis būtų suprantamas ir gerai dokumentuotas. Tuo tikslu pasižiūrėkime bent vieną geros dokumentacijos pavyzdį:"
   ]
  },
  {
   "cell_type": "code",
   "execution_count": 127,
   "id": "494a5e86",
   "metadata": {},
   "outputs": [
    {
     "name": "stdout",
     "output_type": "stream",
     "text": [
      "Help on function packbits in module numpy:\n",
      "\n",
      "packbits(...)\n",
      "    packbits(a, axis=None, bitorder='big')\n",
      "    \n",
      "    Packs the elements of a binary-valued array into bits in a uint8 array.\n",
      "    \n",
      "    The result is padded to full bytes by inserting zero bits at the end.\n",
      "    \n",
      "    Parameters\n",
      "    ----------\n",
      "    a : array_like\n",
      "        An array of integers or booleans whose elements should be packed to\n",
      "        bits.\n",
      "    axis : int, optional\n",
      "        The dimension over which bit-packing is done.\n",
      "        ``None`` implies packing the flattened array.\n",
      "    bitorder : {'big', 'little'}, optional\n",
      "        The order of the input bits. 'big' will mimic bin(val),\n",
      "        ``[0, 0, 0, 0, 0, 0, 1, 1] => 3 = 0b00000011``, 'little' will\n",
      "        reverse the order so ``[1, 1, 0, 0, 0, 0, 0, 0] => 3``.\n",
      "        Defaults to 'big'.\n",
      "    \n",
      "        .. versionadded:: 1.17.0\n",
      "    \n",
      "    Returns\n",
      "    -------\n",
      "    packed : ndarray\n",
      "        Array of type uint8 whose elements represent bits corresponding to the\n",
      "        logical (0 or nonzero) value of the input elements. The shape of\n",
      "        `packed` has the same number of dimensions as the input (unless `axis`\n",
      "        is None, in which case the output is 1-D).\n",
      "    \n",
      "    See Also\n",
      "    --------\n",
      "    unpackbits: Unpacks elements of a uint8 array into a binary-valued output\n",
      "                array.\n",
      "    \n",
      "    Examples\n",
      "    --------\n",
      "    >>> a = np.array([[[1,0,1],\n",
      "    ...                [0,1,0]],\n",
      "    ...               [[1,1,0],\n",
      "    ...                [0,0,1]]])\n",
      "    >>> b = np.packbits(a, axis=-1)\n",
      "    >>> b\n",
      "    array([[[160],\n",
      "            [ 64]],\n",
      "           [[192],\n",
      "            [ 32]]], dtype=uint8)\n",
      "    \n",
      "    Note that in binary 160 = 1010 0000, 64 = 0100 0000, 192 = 1100 0000,\n",
      "    and 32 = 0010 0000.\n",
      "\n"
     ]
    }
   ],
   "source": [
    "help(np.packbits)"
   ]
  },
  {
   "cell_type": "markdown",
   "id": "27402537",
   "metadata": {},
   "source": [
    "**Dokumentacijos kūrimas**"
   ]
  },
  {
   "cell_type": "markdown",
   "id": "bd4ff49e",
   "metadata": {},
   "source": [
    "Pasižiūrėkime, kaip atrodo bet kurio mūsų paties aprašyto Python metodo dokumentacija:"
   ]
  },
  {
   "cell_type": "code",
   "execution_count": 100,
   "id": "0391c86e",
   "metadata": {},
   "outputs": [
    {
     "name": "stdout",
     "output_type": "stream",
     "text": [
      "Help on function func in module __main__:\n",
      "\n",
      "func(x, y)\n",
      "\n"
     ]
    }
   ],
   "source": [
    "def func(x,y):\n",
    "    return x+y\n",
    "\n",
    "help(func)"
   ]
  },
  {
   "cell_type": "markdown",
   "id": "b139f4e8",
   "metadata": {},
   "source": [
    "Pagal `numpy` pavyzdį galime patys lengvai pasirašyti tvarkingą dokumentaciją:"
   ]
  },
  {
   "cell_type": "code",
   "execution_count": 101,
   "id": "8c6a839d",
   "metadata": {},
   "outputs": [
    {
     "name": "stdout",
     "output_type": "stream",
     "text": [
      "Help on function func in module __main__:\n",
      "\n",
      "func(x, y)\n",
      "    Adds two numbers.\n",
      "    \n",
      "    Parameters\n",
      "    ----------\n",
      "        a, b : scalars\n",
      "            Two integers which should be added.\n",
      "        \n",
      "    Returns\n",
      "    -------\n",
      "        out : scalar\n",
      "            The sum of a and b.\n",
      "            \n",
      "    Examples\n",
      "    --------\n",
      "    >>> func(1, 3)\n",
      "    4\n",
      "    >>> func(-1, 1.5)\n",
      "    0.5\n",
      "\n"
     ]
    }
   ],
   "source": [
    "def func(x,y):\n",
    "    '''Adds two numbers.\n",
    "    \n",
    "    Parameters\n",
    "    ----------\n",
    "        a, b : scalars\n",
    "            Two integers which should be added.\n",
    "        \n",
    "    Returns\n",
    "    -------\n",
    "        out : scalar\n",
    "            The sum of a and b.\n",
    "            \n",
    "    Examples\n",
    "    --------\n",
    "    >>> func(1, 3)\n",
    "    4\n",
    "    >>> func(-1, 1.5)\n",
    "    0.5\n",
    "    '''\n",
    "    return x+y\n",
    "\n",
    "help(func)"
   ]
  },
  {
   "cell_type": "markdown",
   "id": "3de1f014",
   "metadata": {},
   "source": [
    "**Testų paleidimas**"
   ]
  },
  {
   "cell_type": "markdown",
   "id": "37cadf12",
   "metadata": {},
   "source": [
    "Dokumentacinėje eilutėje po simbolių `>>>` einančios komandos nėra vien paprasti komandų naudojimo pavyzdžiai skaitytojui. Jos skirtos automatiškai patikrinti, ar naudojamo kodo elgsena yra tokia pati, kokios tikimasi."
   ]
  },
  {
   "cell_type": "code",
   "execution_count": 107,
   "id": "08c4d792",
   "metadata": {},
   "outputs": [
    {
     "name": "stdout",
     "output_type": "stream",
     "text": [
      "Trying:\n",
      "    func(1, 3)\n",
      "Expecting:\n",
      "    4\n",
      "ok\n",
      "Trying:\n",
      "    func(-1, 1.5)\n",
      "Expecting:\n",
      "    0.5\n",
      "ok\n",
      "1 items had no tests:\n",
      "    __main__\n",
      "1 items passed all tests:\n",
      "   2 tests in __main__.func\n",
      "2 tests in 2 items.\n",
      "2 passed and 0 failed.\n",
      "Test passed.\n"
     ]
    }
   ],
   "source": [
    "if __name__ == '__main__':\n",
    "    doctest.testmod(verbose=True)"
   ]
  },
  {
   "cell_type": "markdown",
   "id": "cc4b07ae",
   "metadata": {},
   "source": [
    "Visi testai praėjo! Testų kūrimas koduose - svarbus procesas siekiant užtikrinti geresnį kodo valdymą ir prieinamumą kitiems vartotojams."
   ]
  },
  {
   "cell_type": "markdown",
   "id": "3a6c868d",
   "metadata": {},
   "source": [
    "**Paketų instaliavimas per Anaconda Prompt**. Pabandykime užkrauti biblioteką:"
   ]
  },
  {
   "cell_type": "code",
   "execution_count": null,
   "id": "807033d3",
   "metadata": {},
   "outputs": [],
   "source": [
    "import numpy_indexed as npi"
   ]
  },
  {
   "cell_type": "markdown",
   "id": "9bfb214f",
   "metadata": {},
   "source": [
    "Komanda turėtų neveikti, nes tokios bibliotekos nesame susiinstaliavę. Norint suinstaliuoti, išjungiame visus aktyvius notebookus, tada vidinį serverį ir parašome Anaconda terminale komandą `pip install numpy_indexed`. Po instaliacijos vėl pasijungus serverį (įrašius `jupyter notebook` Anaconda terminale) turėtų viskas veikti."
   ]
  },
  {
   "cell_type": "code",
   "execution_count": 10,
   "id": "fa8982e7",
   "metadata": {},
   "outputs": [],
   "source": [
    "import numpy as np\n",
    "import numpy_indexed as npi\n",
    "\n",
    "class Polynomial:\n",
    "    '''polynomial instance takes pows and coeffs\n",
    "    >>> type(Polynomial(np.array([0,1]), np.array([1,1])))\n",
    "    <class '__main__.Polynomial'>'''\n",
    "    def __init__(self, pows=None, coeffs=None):\n",
    "        self.pows = pows\n",
    "        self.coeffs = coeffs\n",
    "\n",
    "    @staticmethod\n",
    "    def cartessian_product(*arrays):\n",
    "        \"\"\"returns cartessian product of several arrays\n",
    "        >>> Polynomial().cartessian_product(np.arange(2), np.arange(3)).tolist()\n",
    "        [[0, 0], [1, 0], [0, 1], [1, 1], [0, 2], [1, 2]]\n",
    "        \"\"\"\n",
    "        return np.stack(np.meshgrid(*arrays), axis=-1).reshape(-1, len(arrays))\n",
    "\n",
    "    def __mul__(self, other):\n",
    "        \"\"\" returns product of two polynomials\n",
    "        >>> P = Polynomial(np.array([0,1]), np.array([1,1])) * Polynomial(np.array([0,1,2]), np.array([1,1,1]))\n",
    "        >>> print(P.pows)\n",
    "        [0 1 2 3]\n",
    "        >>> print(P.coeffs)\n",
    "        [1 2 2 1]\n",
    "        \"\"\"\n",
    "        cells = self.cartessian_product(self.pows, other.pows) # finding pairs of powers\n",
    "        powers = np.sum(cells, axis=1) # summation of each pair of powers\n",
    "        coeffs = self.coeffs[cells[:, 0]] * other.coeffs[cells[:, 1]] # multiplication of corresponding coeffs\n",
    "        terms = np.column_stack([coeffs, powers]) # result as terms (coeff and power in each row)\n",
    "        return Polynomial(*npi.group_by(terms[:, 1]).sum(terms[:,0])) # reducing similar terms\n",
    "\n",
    "    def __eq__(self, other):\n",
    "        \"\"\"Implementation of equality\n",
    "        >>> isinstance(Polynomial(np.array([7]), np.array([8])), Polynomial)\n",
    "        True\n",
    "        >>> Polynomial(np.array([7]), np.array([8])) == Polynomial(np.array([7]), np.array([8]))\n",
    "        True\n",
    "        \"\"\"\n",
    "        if isinstance(other, Polynomial):\n",
    "            pow_equality = np.sort(self.pows) == np.sort(other.pows)\n",
    "            coeffs_equality = np.sort(self.coeffs) == np.sort(other.coeffs)\n",
    "            pow_allequal = np.all(pow_equality)\n",
    "            coeffs_allequal = np.all(coeffs_equality)\n",
    "            return pow_allequal and coeffs_allequal\n",
    "        return False"
   ]
  },
  {
   "cell_type": "markdown",
   "id": "2a956810",
   "metadata": {},
   "source": [
    "**Klasės `Polynomial` metodai**\n",
    "\n",
    "Visus klasės metodus galime peržiūrėti naudodami komandą `[func for func in dir(Polynomial) if callable(getattr(Polynomial, func))]`:"
   ]
  },
  {
   "cell_type": "code",
   "execution_count": 4,
   "id": "f7c1ee26",
   "metadata": {},
   "outputs": [
    {
     "name": "stdout",
     "output_type": "stream",
     "text": [
      "['__class__', '__delattr__', '__dir__', '__eq__', '__format__', '__ge__', '__getattribute__', '__gt__', '__init__', '__init_subclass__', '__le__', '__lt__', '__mul__', '__ne__', '__new__', '__reduce__', '__reduce_ex__', '__repr__', '__setattr__', '__sizeof__', '__str__', '__subclasshook__', 'cartessian_product']\n"
     ]
    }
   ],
   "source": [
    "print([func for func in dir(Polynomial) if callable(getattr(Polynomial, func))])"
   ]
  },
  {
   "cell_type": "markdown",
   "id": "ea5b3695",
   "metadata": {},
   "source": [
    "Metodai `__init__`, `__mul__`, `__eq__` ir `cartessian_product` buvo sukurti rankomis, o visus likusius metodus Python sukūrė automatiškai.\n",
    "\n",
    "* `__init__` metodas atsakingas už klasės Polynomial objekto sukūrimą\n",
    "* `__mul__` apibrėžia daugybos operatorių `*` tarp dviejų Polynomial. Du daugianariai yra dauginami pagal tokias pačias taisykles, kaip mokinomės mokykloje.\n",
    "* `__eq__` apibrėžia dviejų daugianarių palyginimą naudojanti simbolį `==`. Du daugianariai laikomi lygiais, jeigu sutampa jų koeficientai ir laipsniai.\n",
    "* `cartessian_product` yra statinis klasės Polynomial metodas. Tokie metodai nenaudoja kreipinio į patį objektą. Šis metodas grąžina visas kombinatorines kelių aibių kombinacijas, kai imamas lygiai vienas skaičius iš kiekvienos aibės. Norint tą padaryti nebūtina naudoti jokio daugianario.\n",
    "\n",
    "Daugybos `__mul__` apibrėžimas remiasi `cartessian_product` apibrėžimu."
   ]
  },
  {
   "cell_type": "markdown",
   "id": "ef03b9ec",
   "metadata": {},
   "source": [
    "**Klasės `Polynomial` atributai**"
   ]
  },
  {
   "cell_type": "code",
   "execution_count": 5,
   "id": "c42da015",
   "metadata": {},
   "outputs": [
    {
     "data": {
      "text/plain": [
       "(None, None)"
      ]
     },
     "execution_count": 5,
     "metadata": {},
     "output_type": "execute_result"
    }
   ],
   "source": [
    "p = Polynomial()\n",
    "p.pows, p.coeffs #by default, jie priskiriami None reikšmėms"
   ]
  },
  {
   "cell_type": "markdown",
   "id": "a3882d06",
   "metadata": {},
   "source": [
    "Python priimta, kad kviečiant bet kurią klasę, ji iš pradžių kreipasi į `__init__` metodą, jei tokį randa. Šiame metode yra priskiriami atributai, kurie bus vartojami vėliau pagal poreikį."
   ]
  },
  {
   "cell_type": "code",
   "execution_count": 25,
   "id": "3904df1a",
   "metadata": {},
   "outputs": [
    {
     "data": {
      "text/plain": [
       "(array([0, 1]), array([1, 1]))"
      ]
     },
     "execution_count": 25,
     "metadata": {},
     "output_type": "execute_result"
    }
   ],
   "source": [
    "P = Polynomial([0, 1, 2], [1, 2, 1]) #Polynomial kreipiasi į __init__ metodą, kuris priskiria pows ir coeffs atributus\n",
    "P.pows, P.coeffs #Pasižiūrim šių atributų reikšmes"
   ]
  },
  {
   "cell_type": "markdown",
   "id": "3cacfa88",
   "metadata": {},
   "source": [
    "Įprastai kurti atributus, kuriems nėra peržiūros metodų, nėra gera programavimo praktika. Šiuo atveju metodus galėjome sukurti taip:"
   ]
  },
  {
   "cell_type": "code",
   "execution_count": 16,
   "id": "efc11778",
   "metadata": {},
   "outputs": [],
   "source": [
    "class PolynomialRefactor:\n",
    "    '''polynomial instance takes pows and coeffs\n",
    "    >>> type(PolynomialRefactor(np.array([0,1]), np.array([1,1])))\n",
    "    <class '__main__.PolynomialRefactor'>'''\n",
    "    def __init__(self, pows=None, coeffs=None):\n",
    "        self._pows = pows\n",
    "        self._coeffs = coeffs\n",
    "    \n",
    "    def get_pows(self):\n",
    "        '''return powers of polynomial\n",
    "        >>> PolynomialRefactor(np.array([0,1]), np.array([1,1])).get_pows()\n",
    "        array([0, 1])'''\n",
    "        return self._pows\n",
    "    \n",
    "    def get_coeffs(self):\n",
    "        '''return coeffs of polynomial\n",
    "        >>> PolynomialRefactor(np.array([0,1]), np.array([1,1])).get_coeffs()\n",
    "        array([1, 1])'''\n",
    "        return self._coeffs"
   ]
  },
  {
   "cell_type": "markdown",
   "id": "82022219",
   "metadata": {},
   "source": [
    "### Spręstos užduotys\n",
    "* [Tomučio užduotėlės](https://klevas.mif.vu.lt/~tomukas/uzduotys/pitonas_2.html) nuo 1 iki 4.\n",
    "* Codesignal užduotis (masyvo reikšmių, nelygių -1, išrikiavimas didėjimo tvarka)\n",
    "* Sukurti indeksaciją, kuri suplokština masyvą (duotas masyvas, reikia sudaryti Fancy indeksus, kurie perrenka visus to masyvo narius)"
   ]
  },
  {
   "cell_type": "markdown",
   "id": "15b455f2",
   "metadata": {},
   "source": [
    "### Užduotys"
   ]
  },
  {
   "cell_type": "markdown",
   "id": "906f03e7",
   "metadata": {},
   "source": [
    "* Pasinagrinėti `numpy` metodus, kuriuos apsimoka taikyti braižant funkcijų grafikus. Žr. [matematikos pamokos aprašymą](https://github.com/loijord/mokslas_2021/blob/main/Matematika/turinys.ipynb), skyrelį Programavimo užduotėlė Mantui\n",
    "* Toliau tęsti su [Tomučio užduotėlėmis](https://klevas.mif.vu.lt/~tomukas/uzduotys/pitonas_2.html) nuo 5 iki 8. Jei yra poreikis, pasikartoti, kaip daryti 1 - 4.\n",
    "* Sukurti bent vieną metodą su dokumentacine eilute, paleisti testus naudojant `doctest.testmod(verbose=True)` komandą\n",
    "* Sukurti klasę su bent dviem metodais, iš kurių vienas yra `__init__`\n",
    "* Pridėti šiems metodams dokumentacines eilutes ir paleisti testus"
   ]
  },
  {
   "cell_type": "markdown",
   "id": "4fe85973",
   "metadata": {},
   "source": [
    "### Svarbu!"
   ]
  },
  {
   "cell_type": "markdown",
   "id": "9c2c94a7",
   "metadata": {},
   "source": [
    "Kiekvienai atskirai temai reikėtų stengtis susikurti atskirą `nootebok`ą, nedaryti visko viename faile."
   ]
  },
  {
   "cell_type": "code",
   "execution_count": 17,
   "id": "df8b7af2",
   "metadata": {},
   "outputs": [
    {
     "name": "stdout",
     "output_type": "stream",
     "text": [
      "Trying:\n",
      "    type(Polynomial(np.array([0,1]), np.array([1,1])))\n",
      "Expecting:\n",
      "    <class '__main__.Polynomial'>\n",
      "ok\n",
      "Trying:\n",
      "    isinstance(Polynomial(np.array([7]), np.array([8])), Polynomial)\n",
      "Expecting:\n",
      "    True\n",
      "ok\n",
      "Trying:\n",
      "    Polynomial(np.array([7]), np.array([8])) == Polynomial(np.array([7]), np.array([8]))\n",
      "Expecting:\n",
      "    True\n",
      "ok\n",
      "Trying:\n",
      "    P = Polynomial(np.array([0,1]), np.array([1,1])) * Polynomial(np.array([0,1,2]), np.array([1,1,1]))\n",
      "Expecting nothing\n",
      "ok\n",
      "Trying:\n",
      "    print(P.pows)\n",
      "Expecting:\n",
      "    [0 1 2 3]\n",
      "ok\n",
      "Trying:\n",
      "    print(P.coeffs)\n",
      "Expecting:\n",
      "    [1 2 2 1]\n",
      "ok\n",
      "Trying:\n",
      "    Polynomial().cartessian_product(np.arange(2), np.arange(3)).tolist()\n",
      "Expecting:\n",
      "    [[0, 0], [1, 0], [0, 1], [1, 1], [0, 2], [1, 2]]\n",
      "ok\n",
      "Trying:\n",
      "    type(PolynomialRefactor(np.array([0,1]), np.array([1,1])))\n",
      "Expecting:\n",
      "    <class '__main__.PolynomialRefactor'>\n",
      "ok\n",
      "Trying:\n",
      "    PolynomialRefactor(np.array([0,1]), np.array([1,1])).get_coeffs()\n",
      "Expecting:\n",
      "    array([1, 1])\n",
      "ok\n",
      "Trying:\n",
      "    PolynomialRefactor(np.array([0,1]), np.array([1,1])).get_pows()\n",
      "Expecting:\n",
      "    array([0, 1])\n",
      "ok\n",
      "3 items had no tests:\n",
      "    __main__\n",
      "    __main__.Polynomial.__init__\n",
      "    __main__.PolynomialRefactor.__init__\n",
      "7 items passed all tests:\n",
      "   1 tests in __main__.Polynomial\n",
      "   2 tests in __main__.Polynomial.__eq__\n",
      "   3 tests in __main__.Polynomial.__mul__\n",
      "   1 tests in __main__.Polynomial.cartessian_product\n",
      "   1 tests in __main__.PolynomialRefactor\n",
      "   1 tests in __main__.PolynomialRefactor.get_coeffs\n",
      "   1 tests in __main__.PolynomialRefactor.get_pows\n",
      "10 tests in 10 items.\n",
      "10 passed and 0 failed.\n",
      "Test passed.\n"
     ]
    }
   ],
   "source": [
    "import doctest\n",
    "if __name__ == '__main__':\n",
    "    doctest.testmod(verbose=True)"
   ]
  }
 ],
 "metadata": {
  "kernelspec": {
   "display_name": "Python 3 (ipykernel)",
   "language": "python",
   "name": "python3"
  },
  "language_info": {
   "codemirror_mode": {
    "name": "ipython",
    "version": 3
   },
   "file_extension": ".py",
   "mimetype": "text/x-python",
   "name": "python",
   "nbconvert_exporter": "python",
   "pygments_lexer": "ipython3",
   "version": "3.7.11"
  }
 },
 "nbformat": 4,
 "nbformat_minor": 5
}
