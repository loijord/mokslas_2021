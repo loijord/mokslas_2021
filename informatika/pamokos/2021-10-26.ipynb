{
 "cells": [
  {
   "cell_type": "markdown",
   "id": "6a0ddc5a",
   "metadata": {},
   "source": [
    "Su Ugne užbaigėme užduotį 0, kurios tikslas buvo pramokti naudotis Jupyter Notebook, rinkti aiškų tekstą ir įvedinėti formules. Perėjome prie užduoties 1 apie vardų priskyrimus objektams.\n",
    "\n",
    "Su Mantu aiškinomės, kaip daryti užduotį, kur reikia pasakyti, ar pašalinus ne daugiau, nei vieną sekos narį, įmanoma ją paversti griežtai didėjančia. Galima daryti dviem būdais, tačiau 1 būdas, kaip paaiškės vėliau, yra neefektyvus. Susipažinome su algoritmo efektyvumo matavimu, išbandėme kai kuriuos `numpy` bibliotekos, parašytos su `C`, metodus, įsitikinome, kad jie daug spartesni. Taip pat įsitikinome, kad `numpy` - tai ne riba, yra dar `numba` biblioteka, leidžianti naudoti `no-python` kompiliavimą ir paskirstanti duomenų procesinimą ant kelių branduolių. Metodai, kuriuos taikėme pamokoje: `zip`, `any`, `numpy.remove`, `numpy.diff`, `numpy.any`\n",
    "\n",
    "Namuose Mantui siūlau savarankiškai panagrinėti pamokoje aptartus klausimus ir išsiaiškinti, kaip išspręsti CS7 uždavinį 2 būdu. "
   ]
  },
  {
   "cell_type": "markdown",
   "id": "fb5ea056",
   "metadata": {},
   "source": [
    "### Duotas skaičių sąrašas. Parašykite funkciją, kuri išima iš jo `i`-tąjį narį ir grąžina rezultatą"
   ]
  },
  {
   "cell_type": "code",
   "execution_count": 2,
   "id": "ac065d44",
   "metadata": {},
   "outputs": [
    {
     "data": {
      "text/plain": [
       "[7, 4, 3, 5]"
      ]
     },
     "execution_count": 2,
     "metadata": {},
     "output_type": "execute_result"
    }
   ],
   "source": [
    "def remove(X, i):\n",
    "    return X[:i] + X[i+1:]\n",
    "remove([5,7,4,3,5], 0)"
   ]
  },
  {
   "cell_type": "markdown",
   "id": "f4cade68",
   "metadata": {},
   "source": [
    "### Duotas skaičių sąrašas. Parašykite funkciją, kuri grąžina jo gretimų narių skirtumus"
   ]
  },
  {
   "cell_type": "code",
   "execution_count": 4,
   "id": "2ff90732",
   "metadata": {},
   "outputs": [
    {
     "data": {
      "text/plain": [
       "[2, -3, -1, 2]"
      ]
     },
     "execution_count": 4,
     "metadata": {},
     "output_type": "execute_result"
    }
   ],
   "source": [
    "def diff(X):\n",
    "    return [y - x for x,y in zip(X[:-1], X[1:])]\n",
    "diff([5,7,4,3,5])"
   ]
  },
  {
   "cell_type": "markdown",
   "id": "ba06b46c",
   "metadata": {},
   "source": [
    "### Duotas skaičių sąrašas. Parašykite funkciją, kuri grąžina naują sąrašą, kuriame patikrinamas kiekvieno nario teigiamumas \n",
    "**`True`, jei daugiau už nulį, `False` kitu atveju**"
   ]
  },
  {
   "cell_type": "code",
   "execution_count": 6,
   "id": "5190b00b",
   "metadata": {},
   "outputs": [
    {
     "data": {
      "text/plain": [
       "[True, False, True, True, False]"
      ]
     },
     "execution_count": 6,
     "metadata": {},
     "output_type": "execute_result"
    }
   ],
   "source": [
    "def positivity(X):\n",
    "    return [n > 0 for n in X]\n",
    "positivity([5,-7,4,3,0])"
   ]
  },
  {
   "cell_type": "markdown",
   "id": "6897be11",
   "metadata": {},
   "source": [
    "### Duotas skaičių sąrašas, sudarytas iš `bool` tipo objektų. Nustatykite, ar bent vienas jo objektas lygus `True` "
   ]
  },
  {
   "cell_type": "code",
   "execution_count": 8,
   "id": "ac9882f8",
   "metadata": {},
   "outputs": [
    {
     "data": {
      "text/plain": [
       "True"
      ]
     },
     "execution_count": 8,
     "metadata": {},
     "output_type": "execute_result"
    }
   ],
   "source": [
    "any([True, False, True, True, False])"
   ]
  },
  {
   "cell_type": "markdown",
   "id": "3b6e3d58",
   "metadata": {},
   "source": [
    "### Duotas skaičių sąrašas. Parašykite funkciją, kuri parodo, kiek kartų kiekvienas skaičius jame pasitaiko\n",
    "**Pirmas būdas**"
   ]
  },
  {
   "cell_type": "code",
   "execution_count": 29,
   "id": "4bf1cff5",
   "metadata": {},
   "outputs": [
    {
     "data": {
      "text/plain": [
       "{1: 3, 2: 1, 5: 2, 7: 3}"
      ]
     },
     "execution_count": 29,
     "metadata": {},
     "output_type": "execute_result"
    }
   ],
   "source": [
    "def get_counts(array):\n",
    "    counts = {n:0 for n in set(array)}\n",
    "    for n in array:\n",
    "        counts[n] += 1\n",
    "    return counts\n",
    "get_counts([1,7,5,2,1,1,7,7,5])"
   ]
  },
  {
   "cell_type": "markdown",
   "id": "e4a8e480",
   "metadata": {},
   "source": [
    "**Antras būdas**"
   ]
  },
  {
   "cell_type": "code",
   "execution_count": 26,
   "id": "d8850682",
   "metadata": {},
   "outputs": [
    {
     "data": {
      "text/plain": [
       "{1: 3, 7: 3, 5: 2, 2: 1}"
      ]
     },
     "execution_count": 26,
     "metadata": {},
     "output_type": "execute_result"
    }
   ],
   "source": [
    "from collections import Counter\n",
    "dict(Counter([1,7,5,2,1,1,7,7,5]))"
   ]
  },
  {
   "cell_type": "markdown",
   "id": "f3a4615d",
   "metadata": {},
   "source": [
    "### Atlikite tą patį dvimačiam skaičių sąrašui"
   ]
  },
  {
   "cell_type": "code",
   "execution_count": 31,
   "id": "86a67002",
   "metadata": {},
   "outputs": [
    {
     "data": {
      "text/plain": [
       "{1: 3, 2: 1, 5: 2, 7: 3}"
      ]
     },
     "execution_count": 31,
     "metadata": {},
     "output_type": "execute_result"
    }
   ],
   "source": [
    "def flatten(array):\n",
    "    '''Converts 2D array into 1D array'''\n",
    "    array_1D = []\n",
    "    for row in array:\n",
    "        for item in row:\n",
    "            array_1D.append(item)\n",
    "    return array_1D\n",
    "            \n",
    "def get_counts_2D(array):\n",
    "    return get_counts(flatten(array))\n",
    "\n",
    "get_counts_2D([[1,7,5],[2,1,1],[7,7,5]])"
   ]
  },
  {
   "cell_type": "markdown",
   "id": "c3f0fcf9",
   "metadata": {},
   "source": [
    "### Palyginkite, kaip skiriasi šių komandų sparta\n",
    "\n",
    "    def diff_python(X): \n",
    "        #input: list\n",
    "        return [y - x for x,y in zip(X[:-1], X[1:])]\n",
    "        \n",
    "ir \n",
    "    \n",
    "    def diff_numpy(X):\n",
    "        #input: np.array\n",
    "        return np.diff(X)"
   ]
  },
  {
   "cell_type": "code",
   "execution_count": 33,
   "id": "7af9581c",
   "metadata": {},
   "outputs": [],
   "source": [
    "from random import randint\n",
    "\n",
    "def diff_python(X):\n",
    "    return [y - x for x,y in zip(X[:-1], X[1:])]\n",
    "\n",
    "def diff_numpy(X):\n",
    "    return np.diff(X)\n",
    "\n",
    "X = [randint(0,100) for i in range(10000000)]\n",
    "Y = np.array(X)"
   ]
  },
  {
   "cell_type": "code",
   "execution_count": 35,
   "id": "9a746682",
   "metadata": {},
   "outputs": [
    {
     "name": "stdout",
     "output_type": "stream",
     "text": [
      "2.84 s ± 46.1 ms per loop (mean ± std. dev. of 7 runs, 1 loop each)\n"
     ]
    }
   ],
   "source": [
    "%%timeit \n",
    "diff_python(X)"
   ]
  },
  {
   "cell_type": "code",
   "execution_count": 37,
   "id": "d8c0bb42",
   "metadata": {},
   "outputs": [
    {
     "name": "stdout",
     "output_type": "stream",
     "text": [
      "44.6 ms ± 2.13 ms per loop (mean ± std. dev. of 7 runs, 10 loops each)\n"
     ]
    }
   ],
   "source": [
    "%%timeit \n",
    "diff_numpy(Y)"
   ]
  },
  {
   "cell_type": "markdown",
   "id": "7413c09c",
   "metadata": {},
   "source": [
    "Išvada: `numpy` veikia virš 60 kartų greičiau, kai naudojamas tinkamas objekto tipas"
   ]
  },
  {
   "cell_type": "markdown",
   "id": "d5bdde0d",
   "metadata": {},
   "source": [
    "## Namų darbas\n",
    "Nepamiršk prieš rašant kodą `import numpy as np`  \n",
    "\n",
    "1 - 5 užduotys turėtų padėti suprasti, kaip atlikti CS7 užduotį.\n",
    "\n",
    "1\\. Ką daro ši funkcija?\n",
    "\n",
    "    def doesExclusionHelp(array, index):\n",
    "        return np.all(np.diff(np.delete(array, index)) > 0)\n",
    "        \n",
    "  Norint atsakyti, siūlau išsiaiškinti, ką daro šios komandos:\n",
    "  \n",
    "    array = [5, 3, 4, 7, 8]\n",
    "    np.delete(array, index)\n",
    "    np.diff(np.delete(array, index))\n",
    "    np.diff(np.delete(array, index)) > 0\n",
    "    np.all(np.diff(np.delete(array, index)) > 0)\n",
    "    \n",
    "  Ką šios komandos daro, galima taip pat išsiaiškinti per Google susiradus reikiamus metodus `numpy` dokumentacijoje.\n",
    "    \n",
    "2\\. Ką daro ši funkcija:\n",
    "\n",
    "    def findBreakpoints(array):\n",
    "        return np.flatnonzero(np.diff(array) <= 0) + 1\n",
    "    \n",
    "  Norint atsakyti, siūlau išsiaiškinti, ką daro šios komandos:\n",
    "  \n",
    "    array = [5, 3, 4, 4, 8]\n",
    "    np.diff(array)\n",
    "    np.diff(array) <= 0\n",
    "    np.flatnonzero(np.diff(array) <= 0)\n",
    "    np.flatnonzero(np.diff(array) <= 0) + 1\n",
    "    \n",
    "  Ką šios komandos daro, galima taip pat išsiaiškinti per Google susiradus reikiamus metodus `numpy` dokumentacijoje.\n",
    "\n",
    "3\\. Funkcija `findBreakpoints(array)` grąžina `np.array` tipo objektą, kuris turi daug panašumų su `list` tipu. Kuriais atvejais šio objekto ilgis lygus 0? Kuriais 1? Kuriais didesnis?\n",
    "\n",
    "4\\. Tegu `findBreakpoints(array)` grąžina objektą, turintį tik vieną narį. Pavadinkime jį `i`. Ką daro komanda `doesExclusionHelp(s, i) or doesExclusionHelp(s, i-1)`? *Pastaba: gali būti sunkiau pastebėti, kad komandos `doesExclusionHelp(s, i)` output'as yra True arba False, tačiau jis nėra `bool` tipo, dėl ko gali kilti sunkumų submit'tinant sprendimą CodeSignal.*\n",
    "\n",
    "5\\. Kaip perrašytum funkcijas `doesExclusionHelp` ir `findBreakpoints` nenaudodamas `numpy` paketo?"
   ]
  }
 ],
 "metadata": {
  "kernelspec": {
   "display_name": "Python 3 (ipykernel)",
   "language": "python",
   "name": "python3"
  },
  "language_info": {
   "codemirror_mode": {
    "name": "ipython",
    "version": 3
   },
   "file_extension": ".py",
   "mimetype": "text/x-python",
   "name": "python",
   "nbconvert_exporter": "python",
   "pygments_lexer": "ipython3",
   "version": "3.7.11"
  }
 },
 "nbformat": 4,
 "nbformat_minor": 5
}
