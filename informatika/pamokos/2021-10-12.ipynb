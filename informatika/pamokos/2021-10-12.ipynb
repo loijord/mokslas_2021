{
 "cells": [
  {
   "cell_type": "markdown",
   "id": "866cb09d",
   "metadata": {},
   "source": [
    "### Mantas"
   ]
  },
  {
   "cell_type": "markdown",
   "id": "3f616813",
   "metadata": {},
   "source": [
    "1\\. Mantui papasakojau apie `str` tipo kintamųjų sukūrimą naudojant `f-string` formatavimą:"
   ]
  },
  {
   "cell_type": "code",
   "execution_count": 2,
   "id": "a5916dd0",
   "metadata": {},
   "outputs": [
    {
     "name": "stdout",
     "output_type": "stream",
     "text": [
      "žie\n",
      "3žula\n"
     ]
    }
   ],
   "source": [
    "a = 'žie'\n",
    "b = 3\n",
    "print(f'žie\\n{b}žula')"
   ]
  },
  {
   "cell_type": "markdown",
   "id": "fa4142f0",
   "metadata": {},
   "source": [
    "2\\. Juos mokėmės pritaikyti kodo testavime. Mantas parašė metodą `mokytiselgesio`, kuris paklausia mandaugaus atsakymo ir, jei nesulaukia, išmeta 'neteisingai' ir paklausia iš naujo. Plačiau apie `f-string` naudojimą testuojant kodą rasite [ketvirtoje užduotyje](../kodai/uzduotis4.ipynb)"
   ]
  },
  {
   "cell_type": "code",
   "execution_count": null,
   "id": "fd9f76a7",
   "metadata": {},
   "outputs": [],
   "source": [
    "import random\n",
    "words={'laba diena':'laba', 'kaip jums sekas?': 'gerai'}\n",
    "   \n",
    "def mokytiselgesio(w):\n",
    "    w = random.choice(list(w))\n",
    "    r=input(f'atsakyk: {w}|')\n",
    "    if words[w] == r:\n",
    "        print ('teisingai')\n",
    "    else:\n",
    "        print('Neteisingai, kitas')\n",
    "        k=input(f'kitas: {w}|')\n",
    "        print(f'words[w] yra {words[w]}')\n",
    "        print(f'words = {words}')\n",
    "        print(f'w = {w}')\n",
    "        if words [w] == k:\n",
    "            print('teisingai')\n",
    "        else:\n",
    "            print('neteisingai', f'teisingas: {words[w]}')\n",
    "       \n",
    "    \n",
    "mokytiselgesio(words)"
   ]
  },
  {
   "cell_type": "markdown",
   "id": "2f81bb46",
   "metadata": {},
   "source": [
    "3\\. Nagrinėjome žodyno (`dict`) tipo kintamuosius. Pateikiau pavyzdį, kai sukurti žodyną, kurio raktai (`keys`) - įvairių tipų kintamieji: `a = {4:5, 7:[1,2,8], '8':'8', 'labas':'atia', 'atia':1}`"
   ]
  },
  {
   "cell_type": "markdown",
   "id": "c9f04dc9",
   "metadata": {},
   "source": [
    "4\\. Atsakiau į Manto klausimą, kaip sudaryti skaičių seką, kurioje skaičiai eina kas du. Atsakymas: naudoti `range` metodą."
   ]
  },
  {
   "cell_type": "code",
   "execution_count": 8,
   "id": "6371ee75",
   "metadata": {},
   "outputs": [
    {
     "data": {
      "text/plain": [
       "range(-7, 10, 2)"
      ]
     },
     "execution_count": 8,
     "metadata": {},
     "output_type": "execute_result"
    }
   ],
   "source": [
    "range(-7,10,2)"
   ]
  },
  {
   "cell_type": "markdown",
   "id": "14791476",
   "metadata": {},
   "source": [
    "`help` - metodas, labai padėsiantis mokantis Python [įtaisytųjų metodų](https://docs.python.org/3/library/functions.html) (`built-in`) sintaksės. Apie jį plačiau [ketvirtoje užduotyje](../kodai/uzduotis4.ipynb)"
   ]
  },
  {
   "cell_type": "code",
   "execution_count": null,
   "id": "a2b4ee0a",
   "metadata": {},
   "outputs": [],
   "source": [
    "help(range)"
   ]
  },
  {
   "cell_type": "code",
   "execution_count": 11,
   "id": "99a64dce",
   "metadata": {},
   "outputs": [
    {
     "data": {
      "text/plain": [
       "range"
      ]
     },
     "execution_count": 11,
     "metadata": {},
     "output_type": "execute_result"
    }
   ],
   "source": [
    "type(range(-7,10,2))"
   ]
  },
  {
   "cell_type": "code",
   "execution_count": null,
   "id": "3933cb02",
   "metadata": {},
   "outputs": [],
   "source": [
    "`range` tipo kintamieji yra iteratoriai, iš kurių naudos mažai. Todėl juos reikia pasiversti į sąrašus:"
   ]
  },
  {
   "cell_type": "code",
   "execution_count": 12,
   "id": "8732b126",
   "metadata": {},
   "outputs": [
    {
     "data": {
      "text/plain": [
       "[-7, -5, -3, -1, 1, 3, 5, 7, 9]"
      ]
     },
     "execution_count": 12,
     "metadata": {},
     "output_type": "execute_result"
    }
   ],
   "source": [
    "list(range(-7,10,2))"
   ]
  },
  {
   "cell_type": "markdown",
   "id": "981a20d9",
   "metadata": {},
   "source": [
    "5\\. Toliau nagrinėjome [iteratoriaus tipo kintamuosius](https://www.w3schools.com/python/python_iterators.asp): ką daro `iter` ir `next` komandos. Iteravimu laikome žengimą per sekos narius kas vieną narį į priekį. Taip pat aptarėme, kaip veikia [Python Exceptions](https://docs.python.org/3/tutorial/errors.html) (kodo valdymas, kai gavus klaidą imamos vykdyti kitos komandos). Pasikartojome tuo pačiu ir `while` sakinį:"
   ]
  },
  {
   "cell_type": "code",
   "execution_count": 5,
   "id": "4913a1e7",
   "metadata": {},
   "outputs": [
    {
     "name": "stdout",
     "output_type": "stream",
     "text": [
      "5\n",
      "7\n",
      "8\n",
      "4\n",
      "negaliu test\n"
     ]
    }
   ],
   "source": [
    "import sys\n",
    "a = [5,7,8,4]\n",
    "b = iter(a)\n",
    "while True:\n",
    "    try:\n",
    "        print(next(b))\n",
    "    except StopIteration:\n",
    "        print('negaliu test')\n",
    "        break\n"
   ]
  },
  {
   "cell_type": "markdown",
   "id": "d4d8c074",
   "metadata": {},
   "source": [
    "6\\. Manto klausimas: kaip sukurti funkciją, kuri grąžina kintamojo tipą. Atsakymas: tai įmanoma, bet nėra prasmės, nes tam numatyta Python įtaisytoji funkcija `type`"
   ]
  },
  {
   "cell_type": "code",
   "execution_count": 13,
   "id": "a56e3106",
   "metadata": {},
   "outputs": [
    {
     "data": {
      "text/plain": [
       "str"
      ]
     },
     "execution_count": 13,
     "metadata": {},
     "output_type": "execute_result"
    }
   ],
   "source": [
    "def tipas(a):\n",
    "    return type(a)\n",
    "\n",
    "tipas('24254')"
   ]
  },
  {
   "cell_type": "markdown",
   "id": "1404a1d1",
   "metadata": {},
   "source": [
    "7\\. Manto klausimas: kaip gražiai pakelti kvadratu $(\\sqrt{2})^2$, kad nemestų 2.000000000004? Atsakymas: tai neįmanoma dėl specifinės įvairių programavimo kalbų architektūros, bet galima naudoti apvalinimą"
   ]
  },
  {
   "cell_type": "code",
   "execution_count": 15,
   "id": "2f73b128",
   "metadata": {},
   "outputs": [
    {
     "data": {
      "text/plain": [
       "1.4142135623730951"
      ]
     },
     "execution_count": 15,
     "metadata": {},
     "output_type": "execute_result"
    }
   ],
   "source": [
    "a = 2**0.5\n",
    "a"
   ]
  },
  {
   "cell_type": "code",
   "execution_count": 16,
   "id": "7b6a7cf0",
   "metadata": {},
   "outputs": [
    {
     "data": {
      "text/plain": [
       "2.0000000000000004"
      ]
     },
     "execution_count": 16,
     "metadata": {},
     "output_type": "execute_result"
    }
   ],
   "source": [
    "a**2"
   ]
  },
  {
   "cell_type": "code",
   "execution_count": 18,
   "id": "e34f7001",
   "metadata": {},
   "outputs": [
    {
     "data": {
      "text/plain": [
       "2.0"
      ]
     },
     "execution_count": 18,
     "metadata": {},
     "output_type": "execute_result"
    }
   ],
   "source": [
    "round(a**2,3)"
   ]
  }
 ],
 "metadata": {
  "kernelspec": {
   "display_name": "Python 3",
   "language": "python",
   "name": "python3"
  },
  "language_info": {
   "codemirror_mode": {
    "name": "ipython",
    "version": 3
   },
   "file_extension": ".py",
   "mimetype": "text/x-python",
   "name": "python",
   "nbconvert_exporter": "python",
   "pygments_lexer": "ipython3",
   "version": "3.8.8"
  }
 },
 "nbformat": 4,
 "nbformat_minor": 5
}
