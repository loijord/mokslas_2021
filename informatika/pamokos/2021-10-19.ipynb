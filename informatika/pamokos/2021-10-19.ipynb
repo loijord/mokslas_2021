{
 "cells": [
  {
   "cell_type": "markdown",
   "id": "690d2738",
   "metadata": {},
   "source": [
    "## Progresas\n",
    "Su Ugne atlikome 0.1 - 0.6 užduotis\n",
    "\n",
    "Su Mantu visą pamoką sprendėme CS4 uždavinį (rasti didžiausią gretimų narių sandaugą duotame skaičių sąraše). Nors rezultatas ir atrodo nedidelis, turėjome daug veiklos: reikėjo susipažinti su [`list comprehensions`](https://www.pythonforbeginners.com/basics/list-comprehensions-in-python), iššifruoti keletą kodo klaidų. Taisant klaidas prireikė taip pat kodo debugginimo, kurį išbandėme su [Python Tutor](https://pythontutor.com/). Pasubmit'inus sprendimą dar pasižiūrėjome, kaip būtų galima CS4 uždavinį spręsti supakuojant gretimus narius į poras naudojant `zip` ir vėliau sudarant naują sąrašą iš tų porų sandaugų. Visi `built-in` metodai, kuriuos taikėme buvo `zip`, `len`, `max`, `range`. Plačiau apie `built-in` metodus kalbėsime 2 užduotyje. Papildomai susipažinome su [`list.append`](https://www.programiz.com/python-programming/methods/list/append) metodu.  \n",
    "\n",
    "Atsakymai į pateiktus klausimus turėtų padėti lengviau suprasti, kaip naudojami `zip`, `len`, `max`, `range`, `list.append` metodai bei kaip naudoti `list comprehensions`."
   ]
  },
  {
   "cell_type": "markdown",
   "id": "b6e65242",
   "metadata": {},
   "source": [
    "### Duotas sąrašas. Kaip sudaryti visų jo gretimų narių porų sąrašą?"
   ]
  },
  {
   "cell_type": "code",
   "execution_count": 2,
   "id": "136d787c",
   "metadata": {},
   "outputs": [
    {
     "data": {
      "text/plain": [
       "[(1, 2), (2, 3), (3, 4), (4, 5)]"
      ]
     },
     "execution_count": 2,
     "metadata": {},
     "output_type": "execute_result"
    }
   ],
   "source": [
    "X = [1, 2, 3, 4, 5]\n",
    "Y = list(zip(X[:-1], X[1:]))\n",
    "Y"
   ]
  },
  {
   "cell_type": "markdown",
   "id": "b69d895f",
   "metadata": {},
   "source": [
    "### Duotas skaičių porų sąrašas. Kaip sudaryti šių porų sandaugų sąrašą?"
   ]
  },
  {
   "cell_type": "code",
   "execution_count": 4,
   "id": "1dbf7c93",
   "metadata": {},
   "outputs": [
    {
     "data": {
      "text/plain": [
       "[2, 6, 12, 20]"
      ]
     },
     "execution_count": 4,
     "metadata": {},
     "output_type": "execute_result"
    }
   ],
   "source": [
    "Y = [(1, 2), (2, 3), (3, 4), (4, 5)]\n",
    "Z = [x*y for x, y in Y]\n",
    "Z"
   ]
  },
  {
   "cell_type": "markdown",
   "id": "5536fe05",
   "metadata": {},
   "source": [
    "### Duotas skaičių sąrašas. Kaip rasti jo didžiausią narį?"
   ]
  },
  {
   "cell_type": "code",
   "execution_count": 5,
   "id": "5e0be473",
   "metadata": {},
   "outputs": [
    {
     "data": {
      "text/plain": [
       "20"
      ]
     },
     "execution_count": 5,
     "metadata": {},
     "output_type": "execute_result"
    }
   ],
   "source": [
    "Z = [2, 6, 12, 20]\n",
    "max(Z)"
   ]
  },
  {
   "cell_type": "markdown",
   "id": "117d2ef0",
   "metadata": {},
   "source": [
    "### Duotas tuščias skaičių sąrašas `T = []` ir sąrašas `Z`. Kiekvienu `i`- tuoju ėjimu įterpkite į jį `Z[i]` \n",
    "**Pradėti nuo `i=0` ir tęsti, kol leistina**"
   ]
  },
  {
   "cell_type": "code",
   "execution_count": 7,
   "id": "e6a935b7",
   "metadata": {},
   "outputs": [
    {
     "data": {
      "text/plain": [
       "[2, 6, 12, 20]"
      ]
     },
     "execution_count": 7,
     "metadata": {},
     "output_type": "execute_result"
    }
   ],
   "source": [
    "T = []\n",
    "Z = [2, 6, 12, 20]\n",
    "for i in range(len(Z)):\n",
    "    T.append(Z[i])\n",
    "T"
   ]
  }
 ],
 "metadata": {
  "kernelspec": {
   "display_name": "Python 3 (ipykernel)",
   "language": "python",
   "name": "python3"
  },
  "language_info": {
   "codemirror_mode": {
    "name": "ipython",
    "version": 3
   },
   "file_extension": ".py",
   "mimetype": "text/x-python",
   "name": "python",
   "nbconvert_exporter": "python",
   "pygments_lexer": "ipython3",
   "version": "3.7.11"
  }
 },
 "nbformat": 4,
 "nbformat_minor": 5
}
