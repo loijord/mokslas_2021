{
 "cells": [
  {
   "cell_type": "markdown",
   "id": "320f4b3f",
   "metadata": {},
   "source": [
    "### Vytautas Miežys (bando susipažinti su populiariausiais algoritmais)\n",
    "* [https://www.algorithm-archive.org/](https://www.algorithm-archive.org/)\n",
    " \n",
    "### Mantas Račiūnas (C++, Julia, pointerių, garbage collections ir kvantinės fizikos algoritmų ekspertas)\n",
    "* [https://tensornetwork.org/](https://tensornetwork.org/)\n",
    "* [https://tensornetwork.org/diagrams/](https://tensornetwork.org/diagrams/)\n",
    "* [https://stackoverflow.com/questions/582336/](https://stackoverflow.com/questions/582336/)\n",
    "* Labai geras ir paprastas konspektas aprėpiantis plačias temas, pirmai pažinčiai labai gerai: [https://klevas.mif.vu.lt/~valund/KONSPEKTAI/Informatika%20C++.pdf](https://klevas.mif.vu.lt/~valund/KONSPEKTAI/Informatika%20C++.pdf)\n",
    "* [https://www.mokytojas.eu/puslapiai/16pamoka/12/Turbo%20paskalis%207.0%20(V.%20Undzenas).pdf](https://www.mokytojas.eu/puslapiai/16pamoka/12/Turbo%20paskalis%207.0%20(V.%20Undzenas).pdf)\n",
    "    \n",
    "### Jurgis Pralgauskis (Python švietėjas ir specialistas)\n",
    "* [https://cscircles.cemc.uwaterloo.ca/](https://cscircles.cemc.uwaterloo.ca/)\n",
    "* [https://petlja.org/biblioteka/r/lekcije/TxtProgInPythonEng/02_console-toctree](https://petlja.org/biblioteka/r/lekcije/TxtProgInPythonEng/02_console-toctree)\n",
    "* [https://futurecoder.io](https://futurecoder.io)\n",
    "* [https://www.sololearn.com](https://www.sololearn.com)\n",
    "* [http://www.diveintopython.net/](http://www.diveintopython.net/)\n",
    "* [http://www.web2py.com](http://www.web2py.com)\n",
    "* [https://codecombat.com](https://codecombat.com)"
   ]
  },
  {
   "cell_type": "markdown",
   "id": "a4016f8b",
   "metadata": {},
   "source": [
    "### Vytautas Astrauskas (informatikos olimpiadininkas)\n",
    "\n",
    "* [https://inf-knyga.nmakademija.lt/lt/latest/](https://inf-knyga.nmakademija.lt/lt/latest/)"
   ]
  }
 ],
 "metadata": {
  "kernelspec": {
   "display_name": "Python 3 (ipykernel)",
   "language": "python",
   "name": "python3"
  },
  "language_info": {
   "codemirror_mode": {
    "name": "ipython",
    "version": 3
   },
   "file_extension": ".py",
   "mimetype": "text/x-python",
   "name": "python",
   "nbconvert_exporter": "python",
   "pygments_lexer": "ipython3",
   "version": "3.9.7"
  }
 },
 "nbformat": 4,
 "nbformat_minor": 5
}
