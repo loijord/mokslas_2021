{
 "cells": [
  {
   "cell_type": "markdown",
   "id": "d2d90b12",
   "metadata": {},
   "source": [
    "## Sąvokos\n",
    "* Atkarpa, kuri jungia dviejų gretimų trikampio kraštinių vidurio taškus, yra vadinama to **trikampio vidurio linija**.\n",
    "* Atkarpa, kuri jungia trapecijos šoninių kraštinių vidurio taškus, yra vadinama tos **trapecijos vidurio linija**.\n",
    "* Du trikampiai vadinami **panašiaisiais**, jei jų kraštinės proporcingos ir atititinkami kampai lygūs. \n",
    "* Panašiųjų trikampių atitinkamų kraštinių santykis yra žymimas $k$ ir vadinamas **proporcingumo koeficientu**. \n",
    "* Dvi figūros vadinamos panašiomis, jei viena yra gauta kitą sumažinus arba padidinus kažkiek kartų.\n",
    "\n",
    "## Papildomos sąvokos \n",
    "* **Taško $A$ projekcija** į tiesę $a$ tiesės $b$ atžvilgiu vadinamas taškas, kuris yra sankirta dviejų tiesių: tiesės $a$ ir tiesės, einančios per $A$ ir lygiagrečios $b$.\n",
    "* **Atkarpos $AB$ projekcija** į tiesę $a$ tiesės $b$ kryptimi vadinama atkarpa, gauta sujungus taškų $A$ ir $B$ projekcijas į tiesę $a$ tiesės $b$ atžvilgiu.\n",
    "* Keturkampis, kurio įstrižainės yra statmenos, vadinamas **aitvaru**. Jei šios įstrižainės dalija viena kitą pusiau, tai toks aitvaras vadinamas rombu. *Pastaba: visus aitvarus geriausia įsivaizduoti kaip keturkampius, gautus pažymėjus keturis taškus skirtingose atkirstų statmenų tiesių dalyse.*\n",
    "* Trikampis - tai figūra, turinti tris viršūnes ir tris kampus. Jei viena viršūnė yra tarp kitų dviejų, toks trikampis vadinamas **išsigimusiu**.\n",
    "* Statųjį trikampį, kuriame kraštinių proporcijas nustatyti lengva pagal kampus, verta vadinti specialiuoju trikampiu. Jų yra tik du: turintis kampus $(30^o, 60^o, 90^o)$ ir turintis kampus $(45^o, 45^o, 90^o)$. "
   ]
  },
  {
   "cell_type": "markdown",
   "id": "b22ec582",
   "metadata": {},
   "source": [
    "## Savybės, taisyklės ir teoremos \n",
    "* **Talio teorema**. Jei dvi lygiagrečios tiesės lygiagretainį kerta kampo kraštines, tai jų atkirstos atkarpos yra proporcingos.\n",
    "* **Atvirkštinė Talio teorema**. Jeigu dviejų tiesių, kertančių kampo kraštines, atkirstos atkarpos yra proporcingos, tai tos tiesės yra lygiagrečios\n",
    "* **Talio teoremos išvada**. ?\n",
    "* **Pusiaukampinės savybė**. Trikampio kampo pusiaukampinė dalija prieš tą kampą esančią kraštinę į atkarpas, proporcingas prie kampo esančioms kraštinėms.\n",
    "* **Trikampio vidurio linijos savybė**. Trikampio vidurio linija yra lygiagreti vienai iš kraštinių ir lygi jos pusei.\n",
    "* **Trapecijos vidurio linijos savybė**. Trapecijos vidurio linija yra lygiagreti vienai iš kraštinių ir lygi pagrindų vidurkiui.\n",
    "* **Trikampio ir trapecijos plotas** lygus vidurio linijos ir jai statmenos aukštinės ilgių sandaugai.\n",
    "* **Vienodo proporcingumo savybė** (mano pasiūlytas pavadinimas). Padalykime vieną akarpą ilgio $a+b$ į dalis su ilgiais $a$ ir $b$, ir kita atkarpą ilgio $c+d$ į dalis su ilgiais $c$ ir $d$. Jei yra išlaikomi vienodi tų dalių tarpusavio santykiai, tai bus išlaikomi ir vienodi dalių santykiai su dalijamomis atkarpomis. T.y., jei galioja $a/b = c/d$, tai galios ir lygybės $\\frac{a}{a+b} = \\frac{c}{c+d}$ ir $\\frac{b}{a+b} = \\frac{c}{c+d}$\n",
    "* **Geometrinio vidurkio atvejis.** Jei ankstesniu atveju $b=c$, tai $b$ lygus likusių dalių geometriniam vidurkiui $\\sqrt{ad}$. \n",
    "* **Stačiojo trikampio aukštinės savybės.** Tarkime, kad stačiojo trikampio statinių ilgiai lygūs $a$ ir $b$, įžambinės ilgis lygus $c$, o aukštinė ilgio $h$ dalija įžambinę į dalis ilgių $a'$ ir $b'$. Tada tenkinamos tokios savybės:\n",
    "    * $h^2 =a'b'$\n",
    "    * $a^2 =a'c$ ir $b^2=b'c$ (pateikia kaip skirtingas, bet iš esmės vienodos)\n",
    "    * $hc = ab$ (nepateikia, bet prireikia dažnai)\n",
    "* **Trikampių panašumo požymiai.** \n",
    "    * Pirmasis. Jei vieno trikampio du kampai atitinkamai lygūs kito trikampio dviem kampas, tai tie trikampiai yra panašieji.\n",
    "    * Antrasis. Jei vieno trikampio dvi kraštinės yra proporcingos atitinkamoms kito trikampio kraštinėms ir kampai tarp tų kraštinių lygūs, tai tie trikampiai yra panašieji.\n",
    "    * Trečiasis. Jei vieno trikampio visų trijų kraštinių ir jas atitinkančių kito trikampio visų trijų kraštinių santykiai lygūs, tai tie trikampiai yra panašieji.\n",
    "* **Panašiųjų trikampių savybės**. Tarkime dviejų panašiųjų trikampių proporcingumo koeficientas lygus $k$. Tada: \n",
    "    * Tiesė, lygiagreti su trikampio pagrindu, atkerta nuo jo panašųjį trikampį.\n",
    "    * Jų atitinkamų aukštinių santykis lygus $k$\n",
    "    * Jų atitinkamų pusiaukraštinių ir pusiaukampinių santykis lygus $k$\n",
    "    * Perimetrų santykis lygus $k$\n",
    "    * Plotų santykis lygus $k^2$\n",
    "    \n",
    "\n",
    "## Papildomos savybės\n",
    "* Aitvaro plotas lygus jo įstrižainių ilgių sandaugos pusei.\n",
    "* Trys spinduliai, išeinantys iš bendro taško, tiesėje iškerta dvi atkarpas, kurių ilgiai yra proporcingi dviejų atkirstų dalių plotams.\n",
    "* Keturkampio kraštinių vidurio taškai sudaro lygiagretainį.\n",
    "\n",
    "* Lygiakraščio trikampio ploto formulė: $S = a^2\\frac{\\sqrt{3}}{4}$\n",
    "* \n",
    "* Jei trikampio kampai yra $(30^o, 60^o, 90^o)$ tai jo kraštinės sutinka santykiu $1:2:\\sqrt{3}$, o jei kampai yra $(45^o, 45^o, 90^o)$, tai santykiu - $1:1:\\sqrt{2}$. *Pastabos: tai galima nustatyti pagal elementarias geometrijos taisykles. Bendru atveju būtų $1:\\sin{\\alpha}:\\cos{\\alpha}$, kur $\\alpha$ - vienas iš smailiųjų stačiojo trikampio kampų. Ne su visais $\\alpha$ egzistuoja metodai, kaip rasti tikslius skaičius, todėl tam tikslui ir buvo įvesti trigonometriniai žymėjimai bei atskiros trigonometrijos taisyklės. Viena iš tokių taisyklių - kampo padvigubinimo savybė*\n",
    "* **Kampo padvigubinimo savybė** (mano pasiūlytas pavadinimas) Tarkime atkarpa $OA$ sudaro su tiese kampą $\\alpha < 45^o$, kita atkarpa $OB$ sudaro *dvigubai* didesnį kampą ir abi šios atkarpos yra ilgio, lygaus 1. Suprojektuotas atkarpas $OA$ ir $OB$ į tiesei statmena kryptimi pažymėkime $OA'$ ir $OB'$, o jų ilgius atitinkamai $a$ ir $b$. Tada galioja lygybė $b=2a^2+1$. *Pastabos: stojamuosiuose į licėjų dalis uždavinių buvo paremti šia išvada, kurią įprasta taikyti trigonometrijos uždaviniuose, tačiau ji mokykloje nėra pateikiama kaip atskira geometrijos savybė; išvados geometrinis įrodymas yra šiek tiek panašus į pusiaukampinės įrodymą.*\n",
    "\n",
    "\n",
    "# Kiti šaltiniai\n",
    "* Visos trikampių savybės pagal [Vikipedija](https://lt.wikipedia.org/wiki/Trikampis) (mokėtės viską, kas yra antrame skyriuje)\n",
    "* [Trikampio hipnozė](https://www.youtube.com/watch?v=MzwUVQfsZl8)"
   ]
  },
  {
   "cell_type": "code",
   "execution_count": null,
   "id": "1c5a0a04",
   "metadata": {},
   "outputs": [],
   "source": []
  }
 ],
 "metadata": {
  "kernelspec": {
   "display_name": "Python 3 (ipykernel)",
   "language": "python",
   "name": "python3"
  },
  "language_info": {
   "codemirror_mode": {
    "name": "ipython",
    "version": 3
   },
   "file_extension": ".py",
   "mimetype": "text/x-python",
   "name": "python",
   "nbconvert_exporter": "python",
   "pygments_lexer": "ipython3",
   "version": "3.9.7"
  }
 },
 "nbformat": 4,
 "nbformat_minor": 5
}
