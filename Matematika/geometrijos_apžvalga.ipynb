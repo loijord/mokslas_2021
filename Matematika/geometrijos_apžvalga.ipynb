{
 "cells": [
  {
   "cell_type": "markdown",
   "id": "74928369",
   "metadata": {},
   "source": [
    "## Sąvokos\n",
    "* Atkarpa, kuri jungia dviejų gretimų trikampio kraštinių vidurio taškus, yra vadinama to trikampio vidurio linija.\n",
    "* Atkarpa, kuri jungia trapecijos šoninių kraštinių vidurio taškus, yra vadinama tos trapecijos vidurio linija.\n",
    "* Du trikampiai vadinami panašiaisiais, jei jų kraštinės proporcingos."
   ]
  },
  {
   "cell_type": "markdown",
   "id": "71c995fa",
   "metadata": {},
   "source": [
    "## Savybės, taisyklės ir teoremos \n",
    "* **Talio teorema**. Jei dvi lygiagrečios tiesės lygiagretainį kerta kampo kraštines, tai jų atkirstos atkarpos yra proporcingos.\n",
    "* **Atvirkštinė Talio teorema**. Jeigu dviejų tiesių, kertančių kampo kraštines, atkirstos atkarpos yra proporcingos, tai tos tiesės yra lygiagrečios\n",
    "* **Talio teoremos išvada**. ?\n",
    "* **Pusiaukampinės savybė**. Trikampio kampo pusiaukampinė dalija prieš tą kampą esančią kraštinę į atkarpas, proporcingas prie kampo esančioms kraštinėms.\n",
    "* **Trikampio vidurio linijos savybė**. Trikampio vidurio linija yra lygiagreti vienai iš kraštinių ir lygi jos pusei.\n",
    "* **Trapecijos vidurio linijos savybė**. Trapecijos vidurio linija yra lygiagreti vienai iš kraštinių ir lygi pagrindų vidurkiui.\n",
    "\n",
    "\n",
    "## Papildomai\n",
    "* Keturkampis, kurio įstrižainės yra statmenos, vadinamas aitvaru. Jei šios įstrižainės dalija viena kitą pusiau, tai toks aitvaras vadinamas rombu. Aitvaro plotas lygus įstrižainių sandaugos pusei.\n",
    "* Iškiliojo keturkampio vidurio taškai sudaro lygiagretainį\n",
    "* Taško $A$ projekcija į tiesę $a$ tiesės $b$ atžvilgiu vadinamas taškas, kuris yra sankirta dviejų tiesių: tiesės $a$ ir tiesės, einančios per $A$ ir lygiagrečios $b$.\n",
    "* Taško $AB$ projekcija į tiesę $a$ tiesės $b$ atžvilgiu vadinama atkarpa, gauta sujungus taškų $A$ ir $B$ projekcijas į tiesę $a$ tiesės $b$ atžvilgiu.\n",
    "* Tiesė, lygiagreti su trikampio pagrindu, atkerta nuo jo panašųjį trikampį.\n",
    "* Proporcingumas yra adityvus. \n",
    "* Lygiakraščio trikampio ploto formulė: $S = a^2\\frac{\\sqrt{3}}{4}$\n",
    "\n",
    "# Kiti šaltiniai\n",
    "* Visos trikampių savybės pagal [Vikipedija](https://lt.wikipedia.org/wiki/Trikampis) (mokėtės viską, kas yra antrame skyriuje)\n",
    "* [Trikampio hipnozė](https://www.youtube.com/watch?v=MzwUVQfsZl8)"
   ]
  },
  {
   "cell_type": "code",
   "execution_count": null,
   "id": "6ae9d00e",
   "metadata": {},
   "outputs": [],
   "source": []
  }
 ],
 "metadata": {
  "kernelspec": {
   "display_name": "Python 3 (ipykernel)",
   "language": "python",
   "name": "python3"
  },
  "language_info": {
   "codemirror_mode": {
    "name": "ipython",
    "version": 3
   },
   "file_extension": ".py",
   "mimetype": "text/x-python",
   "name": "python",
   "nbconvert_exporter": "python",
   "pygments_lexer": "ipython3",
   "version": "3.9.7"
  }
 },
 "nbformat": 4,
 "nbformat_minor": 5
}
