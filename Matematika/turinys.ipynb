{
 "cells": [
  {
   "cell_type": "markdown",
   "id": "b83e4a2b",
   "metadata": {},
   "source": [
    "**Pamokos**\n",
    "* 2021-09-04 (Pamoka vyko kiekvienam individualiai, dalį laiko skyrėme programavimui) - Mantas daugiau programavo; Ugnė susipažino su vaizdinių pritaikymu formulėms suprasti, kai kalbame apie daugybos veiksmą. \n",
    "* 2021-09-12 - tekstiniai uždaviniai, skirti kartojimo kontroliniui (procentai)\n",
    "* 2021-09-19 - Darsyk tekstiniai uždaviniai, skirti kartojimo kontroliniui\n",
    "* 2021-09-26 - Kontrolinio darbo aptarimas? Ugnė aiškinosi kiekvieną uždavinį; Mantas gavo šiek tiek papildomos veiklos su nelygybėmis\n",
    "* 2021-10-02 (Vyko tik su Ugne) - kruopštus darbas su šaknų sudėtimi, iškėlimais ir įkėlimais (taisyklės $a(b+c)$ apibendrinimas)\n",
    "* 2021-10-10 - ruošiamės kontroliniui: 6 sudėtingi uždaviniai su šaknimis\n",
    "* 2021-10-22 - gliaudome stipresnius tekstinius uždavinius, kuriuose tam tikras skaičius yra pakartotinai dauginamas iš tam tikrų daugiklių ir reikia bendrą padidėjimą išreikšti procentai\n",
    "* 2021-10-29 - \n",
    "\n",
    "---ATSISKAITYTA (Mantas, Ugnė: ok) --- \n",
    "* 2011-11-11 - Reiškinių prastinimai su greitosios daugybos formulėmis.\n",
    "* 2021-11-14 - Tęsiame uždavinius su kubų ir kvadratų formulėmis\n",
    "* 2021-11-18 - Tiesinių lygčių nagrinėjimas 3 atvejais: 1 sprendinys, 0 sprendinių, be galo daug sprendinių\n",
    "* 2021-11-21 - Sprendėme lygtis, kuriose reikia patikrinti apibrėžimo sritį\n",
    "* 2021-11-25 - Sprendėme kvadratines lygtis. Aiškinomės kvadratinės lygties sprendinių formulių išvedimą. Su Mantu nagrinėjome papildomą medžiagą: 4 laipsnio lygčių sprendimą naudojant trinarių papildymus iki pilno kvadrato.\n",
    "* 2021-11-28 - Toliau sprendėme kvadratines lygtis. Daugiau dėmesio skyrėme aiškintis kvadratinės lygties sprendinių išvedimo formulėms, sprendimui greitu būdu (pagal atv. Vijeto teoremą). Su Ugne ir Mantu papildomai panagrinėjome simetrinės 4 laipsnio lygties sprendimą su keitiniu $y = t+\\frac{1}{t}$\n",
    "* 2021-12-02 - Sprendėme lygtis, kurių sprendime naudojami keitiniai (tame tarpe ir bikvadratines lygtis)\n",
    "* 2021-12-05 - ...  \n",
    "\n",
    "---ATSISKAITYTA (Ugnė: ok) ---\n",
    "* 2021-12-09 - Pradėjome mokytis funkcijų temą. Išsiaiškinome 3 funkcijos vaizdinius ir matematikų supratimo apie funkcines istorinę vystymosi eigą. Daug dėmesio skyrėme funkcijos **apibrėžimo srities** ir **reikšmių srities** sąvokoms, mokėmės, kaip šias sritis nustatyti duotoms funkcijoms.\n",
    "* 2021-12-12 - Funkcijos  \n",
    "\n",
    "---ATSISKAITYTA (Mantas: ok) ---  \n",
    "* 2021-12-16 - Funkcijos\n",
    "* 2021-12-19 - Funkcijos ir šiek tiek apie garso bangų skaidymą dažniais"
   ]
  },
  {
   "cell_type": "markdown",
   "id": "bd1d0a17",
   "metadata": {},
   "source": [
    "## Funkcijų braižymas naudojant `Python` + `numpy`\n",
    "### Python komandos, skirtos braižyti grafikams"
   ]
  },
  {
   "cell_type": "code",
   "execution_count": 86,
   "id": "f8107518",
   "metadata": {},
   "outputs": [],
   "source": [
    "import matplotlib.pyplot as plt\n",
    "import numpy as np"
   ]
  },
  {
   "cell_type": "markdown",
   "id": "052092bc",
   "metadata": {},
   "source": [
    "Jūs bandote nubraižyti tam tikros ne visuose taškuose apibrėžtos funkcijos, grafiką:\n",
    "\n",
    "|$$x$$|-5|-4|-3|-2|-1|0|1|2|3|4|5|\n",
    "|--:|:-:|:-:|:-:|:-:|:-:|:-:|:-:|:-:|:-:|:-:|:-:|\n",
    "|$$f(x)$$|0|1|neapibrėžta|2|0.5|0|0.5|-2|neapibrėžta|-1|0|\n",
    "\n",
    "Kaip matome ši užduotis su Python pavyksta puikiai:"
   ]
  },
  {
   "cell_type": "code",
   "execution_count": 113,
   "id": "703cbfad",
   "metadata": {},
   "outputs": [
    {
     "data": {
      "image/png": "[encoded data removed]",
      "text/plain": [
       "<Figure size 432x288 with 1 Axes>"
      ]
     },
     "metadata": {
      "needs_background": "light"
     },
     "output_type": "display_data"
    }
   ],
   "source": [
    "def brėžk(x, y):\n",
    "    plt.plot(x, y, marker='o')\n",
    "    plt.show()\n",
    "    \n",
    "x = np.array([-5, -4,     -3, -2,  -1, 0,   1,  2,      3,  4, 5])\n",
    "f = np.array([ 0,  1, np.nan,  2, 0.5, 0, 0.5, -2, np.nan, -1, 0])\n",
    "brėžk(x, f)"
   ]
  },
  {
   "cell_type": "markdown",
   "id": "6bc528d7",
   "metadata": {},
   "source": [
    "Dabar atėjo eilė pamėginti nubraižyti vadovėlyje esančių funkcijų grafikus. \n",
    "\n",
    "### Funkcija $f(x)=\\frac{12}{x-3}$\n",
    "Pasirenkame visas $x$ reikšmes nuo -8 iki 8 ir randame jas atitinkančias $f(x)$ reikšmes:"
   ]
  },
  {
   "cell_type": "code",
   "execution_count": 105,
   "id": "fd8ce882",
   "metadata": {},
   "outputs": [
    {
     "name": "stderr",
     "output_type": "stream",
     "text": [
      "C:\\Users\\Acer\\anaconda3\\envs\\paseliai\\lib\\site-packages\\ipykernel_launcher.py:2: RuntimeWarning: divide by zero encountered in true_divide\n",
      "  \n"
     ]
    }
   ],
   "source": [
    "x = np.arange(-8, 9, 1)\n",
    "f = 12/(x-3)"
   ]
  },
  {
   "cell_type": "markdown",
   "id": "acce3926",
   "metadata": {},
   "source": [
    "Programa išmeta dalybos iš nulio įspėjimą, tačiau tai nesutrukdo rasti funkcijos $\\displaystyle f(x)=\\frac{12}{x-3}$ reikšmes ir nubraižyti grafiką:"
   ]
  },
  {
   "cell_type": "code",
   "execution_count": 108,
   "id": "c705251e",
   "metadata": {},
   "outputs": [
    {
     "name": "stdout",
     "output_type": "stream",
     "text": [
      "[[ -8.    -7.    -6.    -5.    -4.    -3.    -2.    -1.     0.     1.     2.     3.     4.     5.     6.     7.     8.  ]\n",
      " [ -1.09  -1.2   -1.33  -1.5   -1.71  -2.    -2.4   -3.    -4.    -6.   -12.      inf  12.     6.     4.     3.     2.4 ]]\n"
     ]
    },
    {
     "data": {
      "image/png": "[encoded data removed]",
      "text/plain": [
       "<Figure size 432x288 with 1 Axes>"
      ]
     },
     "metadata": {
      "needs_background": "light"
     },
     "output_type": "display_data"
    }
   ],
   "source": [
    "with np.printoptions(linewidth=145, precision=2):\n",
    "    print(np.array([x,f]))\n",
    "brėžk(x, f)"
   ]
  },
  {
   "cell_type": "markdown",
   "id": "a3dabe1d",
   "metadata": {},
   "source": [
    "### Funkcija $g(x)=\\sqrt{x+3}$."
   ]
  },
  {
   "cell_type": "markdown",
   "id": "58c0584f",
   "metadata": {},
   "source": [
    "Pabandžius apskaičiuoti funkcijos $g(x)=\\sqrt{x+3}$ reikšmes, gauname jau kitokios klaidos įspėjimą:"
   ]
  },
  {
   "cell_type": "code",
   "execution_count": 55,
   "id": "b6003e7c",
   "metadata": {},
   "outputs": [
    {
     "name": "stderr",
     "output_type": "stream",
     "text": [
      "C:\\Users\\Acer\\anaconda3\\envs\\paseliai\\lib\\site-packages\\ipykernel_launcher.py:2: RuntimeWarning: invalid value encountered in sqrt\n",
      "  \n"
     ]
    }
   ],
   "source": [
    "x = np.arange(-8, 9)\n",
    "g = np.sqrt(x + 3)"
   ]
  },
  {
   "cell_type": "markdown",
   "id": "2a8a9b15",
   "metadata": {},
   "source": [
    "Funkcijos $g$ reikšmės ir funkcijos grafikas dabar atrodo taip:"
   ]
  },
  {
   "cell_type": "code",
   "execution_count": 81,
   "id": "ae557fbb",
   "metadata": {},
   "outputs": [
    {
     "name": "stdout",
     "output_type": "stream",
     "text": [
      "[[-8.   -7.   -6.   -5.   -4.   -3.   -2.   -1.    0.    1.    2.    3.    4.    5.    6.    7.    8.  ]\n",
      " [  nan   nan   nan   nan   nan  0.    1.    1.41  1.73  2.    2.24  2.45  2.65  2.83  3.    3.16  3.32]]\n"
     ]
    },
    {
     "data": {
      "image/png": "[encoded data removed]",
      "text/plain": [
       "<Figure size 432x288 with 1 Axes>"
      ]
     },
     "metadata": {
      "needs_background": "light"
     },
     "output_type": "display_data"
    }
   ],
   "source": [
    "with np.printoptions(linewidth=145, precision=2):\n",
    "    print(np.array([x, g]))\n",
    "brėžk(x, g)"
   ]
  },
  {
   "cell_type": "markdown",
   "id": "8124a2f0",
   "metadata": {},
   "source": [
    "### Programavimo užduotėlė Mantui\n",
    "Programuoti taip, kad nebūtų rodomi klaidų įspėjimai ar pranešimai - gera programavimo praktika. Štai būdas, kaip galima skaičiuoti $x$, $f(x)$ ir $g(x)$ reikšmes, kad nebūtų rodomi klaidos įspėjimai:"
   ]
  },
  {
   "cell_type": "code",
   "execution_count": 83,
   "id": "4b06b904",
   "metadata": {},
   "outputs": [],
   "source": [
    "x = np.arange(-8, 9, dtype=float)\n",
    "f = np.divide(12, x-3, out=np.full_like(x-3, np.nan), where=x-3!=0)\n",
    "g = np.sqrt(x+3, out=np.full_like(x+3, np.nan), where=x+3>=0)"
   ]
  },
  {
   "cell_type": "markdown",
   "id": "24e728d5",
   "metadata": {},
   "source": [
    "Taip atrodo apskaičiuotos reikšmės:"
   ]
  },
  {
   "cell_type": "code",
   "execution_count": 84,
   "id": "0af4beb8",
   "metadata": {},
   "outputs": [
    {
     "name": "stdout",
     "output_type": "stream",
     "text": [
      "[[ -8.    -7.    -6.    -5.    -4.    -3.    -2.    -1.     0.     1.     2.     3.     4.     5.     6.     7.     8.  ]\n",
      " [ -1.09  -1.2   -1.33  -1.5   -1.71  -2.    -2.4   -3.    -4.    -6.   -12.      nan  12.     6.     4.     3.     2.4 ]\n",
      " [   nan    nan    nan    nan    nan   0.     1.     1.41   1.73   2.     2.24   2.45   2.65   2.83   3.     3.16   3.32]]\n"
     ]
    }
   ],
   "source": [
    "with np.printoptions(linewidth=145, precision=2):\n",
    "    print(np.array([x, f, g]))"
   ]
  },
  {
   "cell_type": "markdown",
   "id": "fb44dddf",
   "metadata": {},
   "source": [
    "Mantui: pamėgink išsiaiškinti pagal `numpy` dokumentaciją, ką daro [`np.arange`](https://numpy.org/doc/stable/reference/generated/numpy.arange.html), [`np.divide`](https://numpy.org/doc/stable/reference/generated/numpy.divide.html) ir [`np.sqrt`](https://numpy.org/doc/stable/reference/generated/numpy.sqrt.html) metodai bei kokia juose taikomų parametrų paskirtis."
   ]
  },
  {
   "cell_type": "markdown",
   "id": "7f7f1258",
   "metadata": {},
   "source": [
    "### Pirmosios 2022 metų pamokos apibendrinimas\n",
    "Funkcijos - tai unikali tiek matematinė, tiek mentalinė struktūra. Norint gerai suprasti matematines operacijas, kurias galima su jomis atlikti, reikėtų stengtis suprasti, kaip veikia tie patys dalykai trijuose funkcijų vaizdiniuose:\n",
    "\n",
    "* Funkcijos kaip atitikties tarp dviejų skaičių\n",
    "* Funkcijos kaip simboliškai išreiškiamos formulės\n",
    "* Funkcijos kaip grafiko\n",
    "\n",
    "Šie trys vaizdiniai vienas kitą papildo. Be to, jie dalyvauja ir daugybėje kasdienių mentalinių procesų: dažnai vietoj kintamųjų imame tam tikrus objektus, su jais padarome tam tikrą veiksmą ir gauname kitus objektus. Daugybę panašių reiškinių galima apibendrinti tam tikromis abstrakčiai suvokiamomis analogijomis, leidžiančiomis vaizdingai apibūdinti šiuos panašius procesus. Pavyzdžiui sakydami ,,dangus griūva\" arba skaitydami pasakėčią apie kiškį, kuris išsigando nukritusio kopūstlapio, turime mintyje kuriozišką situaciją, kai vienas didelės svarbos neturintis įvykis yra sureikšminamas ir sukelia nenatūraliai didelę eskalaciją. Naudodami šią metaforą galime lakoniškai apibūdinti tokius reiškinius, kaip antai stiprų žiniasklaidos susidomėjimą tam tikro darbuotojo atleidimu iš darbo. Nukritęs kopūsto lapas siejamas su darbuotojo atleidimu, dangus - su reaguojančia visuomene, griuvimas - su jos reakcija. Tokiu būdu žmogaus  protas suranda būdą, kaip geriau įsidėmėti tam tikrą reiškinį: vieno ar kelių objektų virsmas kitais yra siejamas su tam tikra abstrakcija, taikytina ir kitiems procesams apibūdinti. \n",
    "\n",
    "Taigi, mokantis matematiką ir kitus dalykus yra svarbu ne tik operuoti konkrečiais objektais ar reiškiniais, o taip pat vietoje ir laiku atrasti tinkamas analogijas. Tokiu būdų smegenyse susiformuoja daug ilgiau atmintyje neišblėstančios struktūros, padedančios išeikvoti kur kas mažiau neuronų.\n",
    "\n",
    "Daugiau apie tai, kaip efektyviai panaudoti savo neuronų resursus, pasakojama ypač didelio populiarumo sulaukusiame paskaitų cikle [`Learn How To Learn: Powerful mental tools to help you master tough subjects`](https://www.coursera.org/learn/learning-how-to-learn)\n",
    "\n",
    "**Svarbu:** būtinai nepamirškite, kaip tirti funkcijas $f(x)=\\sqrt{x+3}$, $\\displaystyle g(x) = \\frac{12}{x-3}$, $h(x)=(x+3)^2$, nes šie atvejai - pagrindiniai tyrinėjant įvairių mokyklinių funkcijų apibrėžimo sritis, reikšmių sritis ir grafikų eskizus."
   ]
  },
  {
   "cell_type": "code",
   "execution_count": null,
   "id": "04090d76",
   "metadata": {},
   "outputs": [],
   "source": []
  }
 ],
 "metadata": {
  "kernelspec": {
   "display_name": "Python 3 (ipykernel)",
   "language": "python",
   "name": "python3"
  },
  "language_info": {
   "codemirror_mode": {
    "name": "ipython",
    "version": 3
   },
   "file_extension": ".py",
   "mimetype": "text/x-python",
   "name": "python",
   "nbconvert_exporter": "python",
   "pygments_lexer": "ipython3",
   "version": "3.7.11"
  }
 },
 "nbformat": 4,
 "nbformat_minor": 5
}
