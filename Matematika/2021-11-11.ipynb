{
 "cells": [
  {
   "cell_type": "markdown",
   "id": "8a5d39b9",
   "metadata": {},
   "source": [
    "### Uždavinukai\n",
    "Per užsiėmimą darėme: 47, 48, 56"
   ]
  },
  {
   "cell_type": "markdown",
   "id": "594ff303",
   "metadata": {},
   "source": [
    "![](uzduoteles.jpg)"
   ]
  },
  {
   "cell_type": "markdown",
   "id": "d765003f",
   "metadata": {},
   "source": [
    "## 47 ir 48 uždavinių sprendimų apibendrinimas\n",
    "Sprendžiant reiktų prisilaikyti tokio eiliškumo: \n",
    "\n",
    "* atliekame pagrindinius pertvarkymus\n",
    "* paverčiame neigiamus laipsnius trupmenomis\n",
    "* bendravardikliname\n",
    "* sukilnojame dvigubose trupmenose susidariusius vardiklius į savo vietas\n",
    "* užbaigiame prastinimą\n",
    "\n",
    "Privalumas, jei sugebate prieš neigiamų laipsnių pavertimą trupmenomis įžvelgti tam tikras greitosios daugybos formules. Tai turėtų ypač palengvinti darbą ir sutaupyti popieriaus."
   ]
  },
  {
   "cell_type": "markdown",
   "id": "c9802311",
   "metadata": {},
   "source": [
    "## 47\n",
    "Pagalvokite, kaip galima iš pradžių operuoti tik su neigiamais laipsniais dar prieš juos pakeičiant trupmenomis. Ar jaučiate, kad galite nenaudodami trupmenų pritaikyti greitosios daugybos formules reiškiniams $a^{-3}+b^3$, $a^{3}-b^{-3}$, $a^2-b^{-2}$ ir $a^{-2}-b^{2}$ ? Jei taip, pusė darbo atlikta."
   ]
  },
  {
   "cell_type": "markdown",
   "id": "b9459a99",
   "metadata": {},
   "source": [
    "**a)**  \n",
    "$\\begin{eqnarray*}\n",
    "\\frac{a^{-3}+b^3}{a^{-2}-a^{-1}b+b^2}:\\frac{a^2-b^{-2}}{a-b^{-1}}&=&\\frac{(a^{-1}+b)(a^{-2}-a^{-1}b+b^2)}{a^{-2}-a^{-1}b+b^2}:\\frac{(a-b^{-1})(a+b^{-1})}{a-b^{-1}}=\\\\\n",
    "&=&(a^{-1}+b) : (a+b^{-1})= \\frac{\\frac{1}{a}+b}{a+\\frac{1}{b}}=\\frac{\\frac{1}{a}+\\frac{ab}{a}}{\\frac{ab}{b}+\\frac{1}{b}}=\\\\\n",
    "&=&\\frac{\\frac{1+ab}{a}}{\\frac{ab+1}{b}} = \\frac{b(1+ab)}{a(ab+1)} = \\frac{b}{a}\n",
    "\\end{eqnarray*}$\n",
    "\n",
    "**b)**  \n",
    "$\\begin{eqnarray*}\n",
    "\\frac{a^{3}-b^{-3}}{a^{2}+ab^{-1}+b^{-2}}:\\frac{a^{-2}-b^{2}}{a^{-1}+b}&=&\\frac{(a-b^{-1})(a^{2}+ab^{-1}+b^{-2})}{a^{2}+ab^{-1}+b^{-2}}:\\frac{(a^{-1}+b)(a^{-1}-b)}{a^{-1}+b}=\\\\\n",
    "&=&(a-b^{-1}) : (a^{-1}-b)= \\frac{a-b^{-1}}{a^{-1}-b}=\\frac{a-\\frac{1}{b}}{\\frac{1}{a}-b}=\\\\\n",
    "&=&\\frac{\\frac{ab}{b}-\\frac{1}{b}}{\\frac{1}{a}-\\frac{ab}{a}}=\\frac{\\frac{ab-1}{b}}{\\frac{1-ab}{a}} = \\frac{a(ab-1)}{b(1-ab)} = -\\frac{a}{b}\n",
    "\\end{eqnarray*}$\n",
    "\n",
    "**Įsidėmėkite, kad reiškinys $\\frac{ab-1}{1-ab}$ lygus $-1$**"
   ]
  },
  {
   "cell_type": "markdown",
   "id": "fd499b8f",
   "metadata": {},
   "source": [
    "## 48\n",
    "Ar galima iš pradžių operuoti tik su neigiamais laipsniais ir dar prieš pakeičiant trupmenomis? a) dalyje darbo apimtį susimažinti pavyksta, jei galite suprastinti reiškinį $\\displaystyle\\frac{a^{-2}+b^{-2}}{\\left(b^{-2}-a^{-2}\\right)^{-1}}$. Tuo tarpu b) dalyje prieš pakeičiant neigiamus laipsnius trupmenomis pakeitimai įmanomi tik labai pasistengus, todėl rinksimės daug paprastesnį kelią jų neatlikti.\n",
    "\n",
    "Atkreipkite dėmesį, kad reiškiniuose $a^3b^{-1}-a^{-1}b^3$, $ab^{-3}-a^{-3}b$ ir $ab^{-1}+a^{-1}b$ nesimato jokių galimybių taikyti greitosios daugybos formules, kol jų nepertvarkome į reiškinius \n",
    "\n",
    "**a)**  \n",
    "$\\begin{eqnarray*}\n",
    "\\frac{\\left(ab^{-3}-a^{-3}b\\right)^{-1}\\cdot (a^{-2}+b^{-2})}{\\left(b^{-2}-a^{-2}\\right)^{-1}}&=&\\frac{(a^{-2}+b^{-2})\\cdot\\left(b^{-2}-a^{-2}\\right)}{ab^{-3}-a^{-3}b}=\\\\\n",
    "&=&\\frac{(b^{-2}+a^{-2})\\cdot\\left(b^{-2}-a^{-2}\\right)}{ab^{-3}-a^{-3}b} = \\frac{b^{-4}-a^{-4}}{ab^{-3}-a^{-3}b} = \\frac{\\frac{1}{b^4}-\\frac{1}{a^4}}{a\\cdot \\frac{1}{b^3}-\\frac{1}{a^3}\\cdot b} = \\frac{\\frac{1}{b^4}-\\frac{1}{a^4}}{\\frac{a}{b^3}-\\frac{b}{a^3}}=\\\\\n",
    "&=&\\frac{\\frac{a^4}{a^4b^4}-\\frac{b^4}{a^4b^4}}{\\frac{a^4}{a^3b^3}-\\frac{b^4}{a^3b^3}} = \\frac{\\frac{a^4-b^4}{a^4b^4}}{\\frac{a^4-b^4}{a^3b^3}}=\\frac{a^3b^3}{a^4b^4} = \\frac{1}{ab}\n",
    "\\end{eqnarray*}$\n",
    "\n",
    "**b)**  \n",
    "$\\begin{eqnarray*}\n",
    "\\frac{a^3b^{-1}-a^{-1}b^3}{ab^{-1}+a^{-1}b}\\cdot\\left(\\frac{a^2-b^2}{ab}\\right)^{-1}=\\frac{a^3\\cdot\\frac{1}{b}-\\frac{1}{a}\\cdot b^3}{a\\cdot\\frac{1}{b}+\\frac{1}{a}\\cdot b}\\cdot\\frac{ab}{a^2-b^2}&=&\\frac{\\frac{a^3}{b}-\\frac{b^3}{a}}{\\frac{a}{b}+\\frac{b}{a}}\\cdot\\frac{ab}{a^2-b^2}=\\\\\n",
    "&=&\\frac{\\frac{a^4}{ab}-\\frac{b^4}{ab}}{\\frac{a^2}{ab}+\\frac{b^2}{ab}}\\cdot\\frac{ab}{a^2-b^2} = \\frac{\\frac{a^4-b^4}{ab}}{\\frac{a^2+b^2}{ab}}\\cdot\\frac{ab}{a^2-b^2}=\\frac{a^4-b^4}{(a^2+b^2)(a^2-b^2)}\\cdot ab = ab\n",
    "\\end{eqnarray*}$"
   ]
  }
 ],
 "metadata": {
  "kernelspec": {
   "display_name": "Python 3 (ipykernel)",
   "language": "python",
   "name": "python3"
  },
  "language_info": {
   "codemirror_mode": {
    "name": "ipython",
    "version": 3
   },
   "file_extension": ".py",
   "mimetype": "text/x-python",
   "name": "python",
   "nbconvert_exporter": "python",
   "pygments_lexer": "ipython3",
   "version": "3.9.7"
  }
 },
 "nbformat": 4,
 "nbformat_minor": 5
}
