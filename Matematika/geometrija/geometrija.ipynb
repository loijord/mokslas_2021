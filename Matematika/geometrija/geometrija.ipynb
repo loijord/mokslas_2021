{
 "cells": [
  {
   "cell_type": "code",
   "execution_count": 1,
   "id": "0b507c3c",
   "metadata": {},
   "outputs": [],
   "source": [
    "from IPython.display import display, HTML\n",
    "from matplotlib import colors, cm\n",
    "import matplotlib.pyplot as plt\n",
    "import networkx as nx\n",
    "import netgraph\n",
    "import os\n",
    "#import json\n",
    "#current_location = os.getcwd()\n",
    "#os.chdir('problems/set1')\n",
    "#os.listdir()\n",
    "directory = {'problems':'problems/set1', 'definitions':'definitions', 'rules': 'rules'}"
   ]
  },
  {
   "cell_type": "markdown",
   "id": "658bb758",
   "metadata": {},
   "source": [
    "## Templates\n",
    "Pakuriam keletą automatinių HTML skriptų generatorių gražiam dizainui"
   ]
  },
  {
   "cell_type": "code",
   "execution_count": 2,
   "id": "50593228",
   "metadata": {},
   "outputs": [
    {
     "name": "stdout",
     "output_type": "stream",
     "text": [
      "<div style=\"display: flex\">\n",
      "    <div>\n",
      "        <img src=\"problems/set1/my_draw.jpg\" style=\"height: 200px\">\n",
      "    </div>\n",
      "    &emsp;\n",
      "    <div>\n",
      "        <h4> DUOTA: </h4>\n",
      "        <ul>\n",
      "            <li> $a$ </li>\n",
      "            <li> $b$ </li>\n",
      "        </ul>\n",
      "        <h4> RASTI: </h4>\n",
      "        <ul>\n",
      "            <li> $c$ </li>\n",
      "        </ul>\n",
      "    </div>\n",
      "</div>\n"
     ]
    }
   ],
   "source": [
    "class CustomHTML:\n",
    "    '''various operations of template scripts kept line by line'''\n",
    "    # by https://www.w3.org/community/webed/wiki/HTML/Training/Tag_syntax\n",
    "    # https://www.thoughtco.com/html-singleton-tags-3468620\n",
    "    directory = directory['problems']\n",
    "    tab = 4\n",
    "    void = ('area', 'base', 'br', 'col', 'command', 'embed', 'hr', 'img', 'input', \n",
    "            'keygen', 'link', 'meta', 'param', 'source', 'track', 'wbr')\n",
    "       \n",
    "    def __init__(self):\n",
    "        pass\n",
    "    \n",
    "    def tabbing(self, text):\n",
    "        '''adds indent to each line'''\n",
    "        return '\\n'.join([' '*self.tab + line for line in text.split('\\n')])\n",
    "    \n",
    "    def element(self, tag_name, content='', **options):\n",
    "        \"\"\"if content is string, add start tag and end tag \n",
    "        in the same row (unless it's void, no end tag then).\n",
    "        Otherwise include each item of content in new line using indentation\"\"\"\n",
    "        attr_space = ' '.join(f'{key}=\"{val}\"' for key, val in options.items())\n",
    "        if attr_space: \n",
    "            start_tag = f'<{tag_name} {attr_space}>'\n",
    "        else: \n",
    "            start_tag = f'<{tag_name}>'\n",
    "            \n",
    "        if tag_name in self.void:\n",
    "            return start_tag\n",
    "        else:\n",
    "            end_tag = f'</{tag_name}>'\n",
    "            if type(content) is str:\n",
    "                return f'{start_tag} {content} {end_tag}'\n",
    "            else:\n",
    "                content = \"\\n\".join([self.tabbing(c) for c in content])\n",
    "                return f'{start_tag}\\n{content}\\n{end_tag}'\n",
    "    \n",
    "    def hjoin(self, items):\n",
    "        text = '\\n&emsp;\\n'.join([self.element('div', [item]) for item in items])\n",
    "        return self.element('div', [text], style='display: flex')\n",
    "        \n",
    "    def vjoin(self, items, sep='\\n&emsp;\\n'):\n",
    "        return sep.join(items)\n",
    "    \n",
    "    def itemize(self, content):\n",
    "        if type(content) is str:\n",
    "            raise TypeError('You should itemize bullet list, not str')\n",
    "        return self.element('ul', [self.element('li', c) for c in content])\n",
    "    \n",
    "    def brezinys(self, brezinys):\n",
    "        return self.element('img', src=os.path.join(self.directory, brezinys), style='height: 200px')\n",
    "    \n",
    "    def duota_rasti(self, duota, rasti):\n",
    "        return self.vjoin([self.element('h4', 'DUOTA:'), self.itemize(duota),\n",
    "                          self.element('h4', 'RASTI:'), self.itemize(rasti)], sep='\\n')\n",
    "    \n",
    "    def brezinys_duota_rasti(self, brezinys, duota, rasti, setup=dict()):\n",
    "        return self.hjoin([self.brezinys(brezinys), self.duota_rasti(duota, rasti)])\n",
    "        \n",
    "    def sprendimas(self, steps):\n",
    "        return self.vjoin([self.element('h3', 'SPRENDIMAS:'), self.itemize(steps)], sep='\\n')\n",
    "    \n",
    "script = CustomHTML().brezinys_duota_rasti('my_draw.jpg', ['$a$', '$b$'], ['$c$'])\n",
    "print(script)"
   ]
  },
  {
   "cell_type": "code",
   "execution_count": 3,
   "id": "bc04ab7c",
   "metadata": {},
   "outputs": [
    {
     "data": {
      "text/html": [
       "<div style=\"display: flex\">\n",
       "    <div>\n",
       "        <img src=\"problems/set1/my_draw.jpg\" style=\"height: 200px\">\n",
       "    </div>\n",
       "    &emsp;\n",
       "    <div>\n",
       "        <h4> DUOTA: </h4>\n",
       "        <ul>\n",
       "            <li> $a$ </li>\n",
       "            <li> $b$ </li>\n",
       "        </ul>\n",
       "        <h4> RASTI: </h4>\n",
       "        <ul>\n",
       "            <li> $c$ </li>\n",
       "        </ul>\n",
       "    </div>\n",
       "</div>"
      ],
      "text/plain": [
       "<IPython.core.display.HTML object>"
      ]
     },
     "execution_count": 3,
     "metadata": {},
     "output_type": "execute_result"
    }
   ],
   "source": [
    "HTML(script)"
   ]
  },
  {
   "cell_type": "markdown",
   "id": "f25c65ae",
   "metadata": {},
   "source": [
    "## Uždavinio sandara\n",
    "* Uždavinys - tai žinomųjų rinkinys $a_1$, $a_2$, ..., $a_n$ kartu su nurodymu pateikti sprendimą, kaip rasti vieną ar kelis nežinomuosius $x_1$, $x_2$, ..., $x_n$. Senesnis vaizdavimas uždavinio kaip Toulmino modeliu pagrįstas žemėlapis buvo ne toks lankstus, nes dažnai taisyklės taikomos keliems duomenims ar jų išvadoms, o jas sukomplektuoti dažnai yra sunku. \n",
    "  \n",
    "* Uždaviniui galima:\n",
    "  * rasti tarpines sprendimo būsenas turint sprendimo žingsnius (klausimas, sprendimas)\n",
    "  * paskelbti tam tikrą sprendimo žingsnių rinkinį nauju uždaviniu\n",
    "  * išbraižyti grafą  "
   ]
  },
  {
   "cell_type": "markdown",
   "id": "a0363685",
   "metadata": {},
   "source": [
    "Which kinds of data do I expect during solution process? \n",
    "* The one that forms `Data.dataspace`: known and unknown one, mentioned in condition of problem.\n",
    "Known, unknown or derived.\n",
    "* The one that forms `Data.stepspace`: implicated one.\n",
    "\n",
    "Note that both abovementioned are dictionaries of indices. Data itself is storied `Data.references` that maps these indices into instances of classes."
   ]
  },
  {
   "cell_type": "code",
   "execution_count": 4,
   "id": "4ebc0c17",
   "metadata": {},
   "outputs": [],
   "source": [
    "class Data:\n",
    "    dataspace = {'known': [], 'unknown': []}\n",
    "    stepspace = {'ifthen': []}\n",
    "    references = dict()\n",
    "    \n",
    "    def __init__(self, n, fr=None, to=None, by=None):\n",
    "        self.n = n\n",
    "        if fr is not None:\n",
    "            self.fr = fr\n",
    "        if to is not None:\n",
    "            self.to = to\n",
    "        if by is not None:\n",
    "            self.by = by\n",
    "    \n",
    "    def reset(self):\n",
    "        self.dataspace = {'known': [], 'unknown': []}\n",
    "        self.stepspace = {'ifthen': []}\n",
    "        self.references = dict()\n",
    "        \n",
    "        \n",
    "class Known(Data):\n",
    "    '''Descriptor for a known data of text problem refered in condition.\n",
    "    Responsible for a process of introducing notation if it is required to do so.\n",
    "\n",
    "    Parameters\n",
    "    -----\n",
    "    n: a number of data descriptor instance unique to every instance of Data\n",
    "    fr: a part of condition that describes a single claim\n",
    "    to: notation introduced (optional)\n",
    "    by: general environment required to introduce notation; \n",
    "        usually a relation that refers to some objects or quantities used\n",
    "    '''\n",
    "    \n",
    "    def __init__(self, *args, **kwargs):\n",
    "        Data.__init__(self, *args, **kwargs)\n",
    "        Data.dataspace['known'].append(self.n)\n",
    "        Data.references[self.n] = self\n",
    "    \n",
    "class Unknown(Data):\n",
    "    '''Descriptor for a data to look for refered in condition.\n",
    "    Responsible for a process of introducing notation if it is required to do so.\n",
    "\n",
    "    Parameters\n",
    "    -----\n",
    "    n: a number of data descriptor instance unique to every instance of Data\n",
    "    fr: a part of condition that refers what to look for\n",
    "    to: notation introduced (optional)\n",
    "    by: general environment required to introduce notation; \n",
    "        usually an object or quantity\n",
    "    '''\n",
    "    \n",
    "    def __init__(self, *args, **kwargs):\n",
    "        Data.__init__(self, *args, **kwargs)\n",
    "        Data.dataspace['unknown'].append(self.n)\n",
    "        Data.references[self.n] = self\n",
    "        \n",
    "class IfThen(Data):\n",
    "    '''Descriptor for a derived data from data found or given already\n",
    "    Responsible for a process of deriving a new data using rules and definitions\n",
    "\n",
    "    Parameters\n",
    "    -----\n",
    "    n: a number of data descriptor instance unique to every instance of Data\n",
    "    fr: a minimal set of data needed to derive a current claim\n",
    "    to: notation introduced (optional)\n",
    "    by: general environment that is a rationale for deriving a current claim; \n",
    "        usually a main rule or definition to apply on a minimal set of data\n",
    "    ask: a question that includes a minimal set of data and asks to derive a current claim\n",
    "    background: additional environment that is to weak intuitively to be interpreted\n",
    "        as a rationale for deriving a new claim but plays an important role in a\n",
    "        process in derivation\n",
    "    '''\n",
    "    \n",
    "    def __init__(self, *args, carrier=None, ask=None, background=(), **kwargs):\n",
    "        if carrier is not None:\n",
    "            self.carrier = carrier\n",
    "        if ask is not None: \n",
    "            self.ask = ask\n",
    "        self.background = background\n",
    "        \n",
    "        Data.__init__(self, *args, **kwargs)\n",
    "        Data.stepspace['ifthen'].append(self.n)\n",
    "        Data.references[self.n] = self"
   ]
  },
  {
   "cell_type": "markdown",
   "id": "c2cfe7f7",
   "metadata": {},
   "source": [
    "Which kinds of reasoning do I expect in each step notation and solution process?\n",
    "\n",
    "Initially, there is a list of actions possible:\n",
    "* Use **definition** in implication\n",
    "* Use **rule** in implication\n",
    "* Use assignment:\n",
    "    * assign an equation like `trukmė yra trys minutės` while interpreting condition\n",
    "    * derive an equation like `vadinasi, pagal ankstesnes sąlygas, atkarpos ilgis yra x+3`"
   ]
  },
  {
   "cell_type": "code",
   "execution_count": 5,
   "id": "65c9ceba",
   "metadata": {},
   "outputs": [],
   "source": [
    "class Warrant:\n",
    "    def __init__(self, *args, **kwargs):\n",
    "        self.args=args\n",
    "        self.kwargs=kwargs\n",
    "\n",
    "class Derive(Warrant):\n",
    "    def __init__(self, *args, **kwargs):\n",
    "        Warrant.__init__(self, *args, **kwargs)\n",
    "        \n",
    "class Assign(Warrant):\n",
    "    def __init__(self, *args, **kwargs):\n",
    "        Warrant.__init__(self, *args, **kwargs)\n",
    "    \n",
    "    def __repr__(self):\n",
    "        return ''\n",
    "        \n",
    "class Def(Warrant):\n",
    "    directory = directory['definitions']\n",
    "    def __init__(self, *args, **kwargs):\n",
    "        Warrant.__init__(self, *args, **kwargs)\n",
    "        \n",
    "    def __repr__(self):\n",
    "        cell = self.args[0].replace(' ','-')\n",
    "        script = CustomHTML().element('a', f'PAGAL {self.args[0]} apibrėžimą', \n",
    "                                      href=os.path.join(self.directory, f'definitions.ipynb#{cell}'),\n",
    "                                      target=\"_blank\")\n",
    "        return script\n",
    "        \n",
    "class Rule(Warrant):\n",
    "    directory = directory['rules']\n",
    "    def __init__(self, *args, **kwargs):\n",
    "        Warrant.__init__(self, *args, **kwargs)\n",
    "        \n",
    "    def __repr__(self):\n",
    "        cell = self.args[0].replace(' ','-')\n",
    "        script = CustomHTML().element('a', f'PAGAL {self.args[0]}', \n",
    "                                      href=os.path.join(self.directory, f'rules.ipynb#{cell}'),\n",
    "                                      target=\"_blank\")\n",
    "        return script"
   ]
  },
  {
   "cell_type": "markdown",
   "id": "cd185b28",
   "metadata": {},
   "source": [
    "Can we classify a data that participates in application of rules, definitions, assignments and derivations?\n",
    "\n",
    "* Quantity that exists as multitude or magnitude (you need to specify a type)\n",
    "* Variable that exists as unknown, parameter or number (you need to specify a type)"
   ]
  },
  {
   "cell_type": "markdown",
   "id": "7564880c",
   "metadata": {},
   "source": [
    "Which processes and parameters are involved in solution of problem?"
   ]
  },
  {
   "cell_type": "code",
   "execution_count": 6,
   "id": "b256261c",
   "metadata": {},
   "outputs": [],
   "source": [
    "class Problem:\n",
    "    def __init__(self, task, data, steps, name=None, brezinys=None, analogies=None, conclusion=None, author=None, picture=None):\n",
    "        self.task=task\n",
    "        self.data=data\n",
    "        self.steps=steps\n",
    "        self.analogies=analogies\n",
    "        self.conclusion=conclusion\n",
    "        self.author=author\n",
    "        self.picture=picture  \n",
    "        self.name=name\n",
    "        self.metadata={'data': Data.dataspace, 'steps': Data.stepspace, 'references': Data.references}\n",
    "        \n",
    "        #clearing data after initialisation while keeping attributes in metadata\n",
    "        Data.dataspace = {'known': [], 'unknown': []}\n",
    "        Data.stepspace = {'ifthen': []}\n",
    "        Data.references = dict()\n",
    "\n",
    "    #@staticmethod\n",
    "    def explain(self, i):\n",
    "        construct = pr.metadata['references'][i]\n",
    "        if hasattr(construct, 'by'):\n",
    "            explanation = f'{construct.by}'\n",
    "        else: \n",
    "            explanation = ''\n",
    "            \n",
    "        if hasattr(construct, 'carrier'): solution = construct.carrier\n",
    "        elif hasattr(construct, 'to'): solution = construct.to\n",
    "        else: solution = construct.fr\n",
    "\n",
    "        return f'{solution}{explanation}'\n",
    "    \n",
    "    def conclude(self, i):\n",
    "        construct = pr.metadata['references'][i]\n",
    "        if hasattr(construct, 'to'): solution = construct.to\n",
    "        elif hasattr(construct, 'carrier'): solution = construct.carrier\n",
    "        else: solution = construct.fr\n",
    "        return solution      \n",
    "    \n",
    "    def return_substeps(self, return_solution=False, no_brezinys=False):        \n",
    "        views = []\n",
    "        implications = self.metadata['steps']['ifthen']\n",
    "        references = self.metadata['references']\n",
    "        for step_id, i in enumerate(implications): \n",
    "            step = references[i]\n",
    "            duota = tuple(self.explain(index) for index in step.fr)\n",
    "            rasti = [step.ask]\n",
    "            header1, pradinis_brezinys, brezinys, sprendimas = '', '', '', ''\n",
    "            \n",
    "            if (self.picture is not None) or not(no_brezinys):\n",
    "                header1 = CustomHTML().element('h3', f'PRADINIS BRĖŽINYS')\n",
    "                pradinis_brezinys = CustomHTML().brezinys(self.picture)\n",
    "                \n",
    "            if hasattr(step, 'picture'):\n",
    "                picture = step.picture\n",
    "            else:\n",
    "                picture = self.picture\n",
    "                \n",
    "            if return_solution:\n",
    "                sprendimas = CustomHTML().sprendimas([self.explain(i)])\n",
    "         \n",
    "            header2 = CustomHTML().element('h3', f'SĄLYGA: žingsnis {step_id+1}')\n",
    "            view = CustomHTML().brezinys_duota_rasti(picture, duota, rasti)            \n",
    "            v = CustomHTML().vjoin([header1, pradinis_brezinys, header2, view, sprendimas])\n",
    "            views.append(v)\n",
    "        return views\n",
    "            \n",
    "    def return_steps(self, return_solution=False, no_brezinys=False):   \n",
    "        sprendimas, pradinis_brezinys, view = '', '', ''\n",
    "        title = CustomHTML().element('h2', f'{self.name}')\n",
    "        sąlyga = self.task\n",
    "\n",
    "        if (self.picture is not None) or not(no_brezinys):\n",
    "            pradinis_brezinys = pr.picture\n",
    "            duota = [self.explain(i) for i in self.metadata['data']['known']]\n",
    "            rasti = [self.explain(i) for i in self.metadata['data']['unknown']]\n",
    "            view = CustomHTML().brezinys_duota_rasti(pradinis_brezinys, duota, rasti)\n",
    "\n",
    "        if return_solution:\n",
    "            steps = [self.explain(i) for i in self.metadata['steps']['ifthen']]\n",
    "            sprendimas = CustomHTML().sprendimas(steps)\n",
    "            \n",
    "        return CustomHTML().vjoin([title+sąlyga, view, sprendimas], sep='<br><br>\\n')"
   ]
  },
  {
   "cell_type": "markdown",
   "id": "bda946f0",
   "metadata": {},
   "source": [
    "Pakurkim klasę uždavinio sprendimo procesui aprašyti"
   ]
  },
  {
   "cell_type": "code",
   "execution_count": 7,
   "id": "cb04d12e",
   "metadata": {},
   "outputs": [],
   "source": [
    "pr = Problem(\n",
    "task = 'Sujungus keturkampio kraštinių vidurio taškus gautas lygiagretainis. Raskite jo perimetrą, jei viena jo įstrižainė lygi $x$, o kita $y$',\n",
    "picture = 'my_draw.jpg',\n",
    "data=(\n",
    "    Known(n=0, fr='$X$ - atkarpos $AB$ vidurio taškas'),\n",
    "    Known(n=1, fr='$Y$ - atkarpos $BC$ vidurio taškas'),\n",
    "    Known(n=2, fr='$Z$ - atkarpos $CD$ vidurio taškas'),\n",
    "    Known(n=3, fr='$T$ - atkarpos $DA$ vidurio taškas'),\n",
    "    Known(n=4, fr='Viena lygiagretainio įstrižainė lygi $x$', to='$AC=x$', by=Assign('įstrižainė', '$x$')),\n",
    "    Known(n=5, fr='Kita lygiagretainio įstrižainė lygi $y$',  to='$BD=y$', by=Assign('įstrižainė', '$y$')),\n",
    "    Unknown(n=6, fr='Raskite lygiagretainio perimetrą', to='$P_{XYZT}$')),  \n",
    "steps=(\n",
    "    IfThen(n=7, fr=(0, 1), carrier=r'$XY$ yra $\\triangle ABC$ vidurio linija', \n",
    "           by=Def('Vidurio linija'), ask='Kokia savybe pasižymi atkarpa $XY$?'),\n",
    "       \n",
    "    IfThen(n=8, fr=(2, 3), carrier=r'$ZT$ yra $\\triangle ACD$ vidurio linija', \n",
    "           by=Def('Vidurio linija'), ask='Kokia savybe pasižymi atkarpa $ZT$?'),\n",
    "    \n",
    "    IfThen(n=9, fr=(1, 2), carrier=r'$YZ$ yra $\\triangle ABD$ vidurio linija', \n",
    "           by=Def('Vidurio linija'), ask='Kokia savybe pasižymi atkarpa $YZ$?'),\n",
    "    \n",
    "    IfThen(n=10, fr=(0, 3), carrier=r'$XT$ yra $\\triangle BCD$ vidurio linija', \n",
    "           by=Def('Vidurio linija'), ask='Kokia savybe pasižymi atkarpa $XT$?'),\n",
    "    \n",
    "    IfThen(n=11, fr=(7,4), carrier=r'$\\displaystyle XY = \\frac{x}{2}$', \n",
    "           by=Rule('Vidurio linijos savybė'), ask='$XY$', background=(Rule('deassign'), 4)),\n",
    "    \n",
    "    IfThen(n=12, fr=(8,4), carrier=r'$\\displaystyle ZT = \\frac{x}{2}$', \n",
    "           by=Rule('Vidurio linijos savybė'), ask='$ZT$', background=(Rule('deassign'), 4)),\n",
    "    \n",
    "    IfThen(n=13, fr=(9,5), carrier=r'$\\displaystyle YZ = \\frac{y}{2}$', \n",
    "           by=Rule('Vidurio linijos savybė'), ask='$YZ$', background=(Rule('deassign'), 5)),\n",
    "    \n",
    "    IfThen(n=14, fr=(10,5), carrier=r'$\\displaystyle XT = \\frac{y}{2}$', \n",
    "           by=Rule('Vidurio linijos savybė'), ask='$XT$', background=(Rule('deassign'), 5)),\n",
    "    \n",
    "    IfThen(n=15, fr=(11,12,13,14), \n",
    "           carrier=r'$P_{XYZT}=XY+ZT+XY+ZT=\\frac{x}{2}+\\frac{x}{2}+\\frac{y}{2}+\\frac{y}{2}=x+y$',\n",
    "           to=r'$P_{XYZT}=x+y$',\n",
    "           by=Def('Perimetras'), \n",
    "           ask='$P_{XYZT}$',\n",
    "           background=(Rule('trupmenų su vienodais vardikliais sudėtis'), Rule('deassign'), 11,12,13,14))),\n",
    "    \n",
    "analogies = [(0,1,2,3), (4,5), (7,8,9,10), (11,12,13,14)],\n",
    "conclusion = 'Lygiagretainio, gauto sujungus keturkampio kraštinių vidurio taškus, perimetras lygus to keturkampio įstrižainių sumai',\n",
    "author = 'vadovėlis gimnazijų 1 ir 2 klasėms',\n",
    "name = 'Uždavinys 99')"
   ]
  },
  {
   "cell_type": "markdown",
   "id": "beed0ceb",
   "metadata": {},
   "source": [
    "Svarbiausia informacija automatiškai susidėlioja į klasės `Data` kintamuosius vos tik yra sukuriami `IfThen`, `Known`, `Unknown` kintamieji. Kiekvienąsyk kuriant naują `Problem` egzempliorių ši informacija nusiresetina, o paskui pasipildo reikiamais duomenimis automatiškai."
   ]
  },
  {
   "cell_type": "code",
   "execution_count": 8,
   "id": "383cc5d0",
   "metadata": {},
   "outputs": [
    {
     "data": {
      "text/plain": [
       "{'data': {'known': [0, 1, 2, 3, 4, 5], 'unknown': [6]},\n",
       " 'steps': {'ifthen': [7, 8, 9, 10, 11, 12, 13, 14, 15]},\n",
       " 'references': {0: <__main__.Known at 0x7f640dcb9ca0>,\n",
       "  1: <__main__.Known at 0x7f640dcb97f0>,\n",
       "  2: <__main__.Known at 0x7f640dcb9460>,\n",
       "  3: <__main__.Known at 0x7f640dcb9760>,\n",
       "  4: <__main__.Known at 0x7f640dcb93d0>,\n",
       "  5: <__main__.Known at 0x7f640dcb9520>,\n",
       "  6: <__main__.Unknown at 0x7f640dcb94c0>,\n",
       "  7: <__main__.IfThen at 0x7f640dcd8a60>,\n",
       "  8: <__main__.IfThen at 0x7f640dcd8760>,\n",
       "  9: <__main__.IfThen at 0x7f640dcd8eb0>,\n",
       "  10: <__main__.IfThen at 0x7f640dcd8df0>,\n",
       "  11: <__main__.IfThen at 0x7f640dcd8be0>,\n",
       "  12: <__main__.IfThen at 0x7f640dcd8fd0>,\n",
       "  13: <__main__.IfThen at 0x7f640dcbb970>,\n",
       "  14: <__main__.IfThen at 0x7f640dcbb820>,\n",
       "  15: <__main__.IfThen at 0x7f640dcbb640>}}"
      ]
     },
     "execution_count": 8,
     "metadata": {},
     "output_type": "execute_result"
    }
   ],
   "source": [
    "pr.metadata"
   ]
  },
  {
   "cell_type": "markdown",
   "id": "5c310dfc",
   "metadata": {},
   "source": [
    "## Realizacija\n",
    "Kiekvienam sprendimo žigsniui pasižiūri, iš kokių duomenų id jis gautas, o tada nukreipia į jų tekstą (jau sutvarkytą maksimaliai, nepriklausomai nuo to, ar buvo atliktas žymėjimas, ar išvedimas)"
   ]
  },
  {
   "cell_type": "markdown",
   "id": "884b7910",
   "metadata": {},
   "source": [
    "Prielaidos: duomenys gali turėti tik tipus `known` ir `unknown`. Sprendimo žingsniai kol kas yra tik formos `ifthen`, tačiau gal ateityje prisidės `case`, `contradiction`, `induction` ir pan."
   ]
  },
  {
   "cell_type": "code",
   "execution_count": 9,
   "id": "c36b41a7",
   "metadata": {},
   "outputs": [
    {
     "data": {
      "text/html": [
       "<h3> PRADINIS BRĖŽINYS </h3>\n",
       "&emsp;\n",
       "<img src=\"problems/set1/my_draw.jpg\" style=\"height: 200px\">\n",
       "&emsp;\n",
       "<h3> SĄLYGA: žingsnis 9 </h3>\n",
       "&emsp;\n",
       "<div style=\"display: flex\">\n",
       "    <div>\n",
       "        <img src=\"problems/set1/my_draw.jpg\" style=\"height: 200px\">\n",
       "    </div>\n",
       "    &emsp;\n",
       "    <div>\n",
       "        <h4> DUOTA: </h4>\n",
       "        <ul>\n",
       "            <li> $\\displaystyle XY = \\frac{x}{2}$<a href=\"rules/rules.ipynb#Vidurio-linijos-savybė\" target=\"_blank\"> PAGAL Vidurio linijos savybė </a> </li>\n",
       "            <li> $\\displaystyle ZT = \\frac{x}{2}$<a href=\"rules/rules.ipynb#Vidurio-linijos-savybė\" target=\"_blank\"> PAGAL Vidurio linijos savybė </a> </li>\n",
       "            <li> $\\displaystyle YZ = \\frac{y}{2}$<a href=\"rules/rules.ipynb#Vidurio-linijos-savybė\" target=\"_blank\"> PAGAL Vidurio linijos savybė </a> </li>\n",
       "            <li> $\\displaystyle XT = \\frac{y}{2}$<a href=\"rules/rules.ipynb#Vidurio-linijos-savybė\" target=\"_blank\"> PAGAL Vidurio linijos savybė </a> </li>\n",
       "        </ul>\n",
       "        <h4> RASTI: </h4>\n",
       "        <ul>\n",
       "            <li> $P_{XYZT}$ </li>\n",
       "        </ul>\n",
       "    </div>\n",
       "</div>\n",
       "&emsp;\n",
       "<h3> SPRENDIMAS: </h3>\n",
       "<ul>\n",
       "    <li> $P_{XYZT}=XY+ZT+XY+ZT=\\frac{x}{2}+\\frac{x}{2}+\\frac{y}{2}+\\frac{y}{2}=x+y$<a href=\"definitions/definitions.ipynb#Perimetras\" target=\"_blank\"> PAGAL Perimetras apibrėžimą </a> </li>\n",
       "</ul>"
      ],
      "text/plain": [
       "<IPython.core.display.HTML object>"
      ]
     },
     "execution_count": 9,
     "metadata": {},
     "output_type": "execute_result"
    }
   ],
   "source": [
    "subtasks = pr.return_substeps(return_solution=True)\n",
    "HTML(subtasks[8])"
   ]
  },
  {
   "cell_type": "code",
   "execution_count": 10,
   "id": "eb04d8b2",
   "metadata": {},
   "outputs": [
    {
     "data": {
      "text/html": [
       "<h2> Uždavinys 99 </h2>Sujungus keturkampio kraštinių vidurio taškus gautas lygiagretainis. Raskite jo perimetrą, jei viena jo įstrižainė lygi $x$, o kita $y$<br><br>\n",
       "<div style=\"display: flex\">\n",
       "    <div>\n",
       "        <img src=\"problems/set1/my_draw.jpg\" style=\"height: 200px\">\n",
       "    </div>\n",
       "    &emsp;\n",
       "    <div>\n",
       "        <h4> DUOTA: </h4>\n",
       "        <ul>\n",
       "            <li> $X$ - atkarpos $AB$ vidurio taškas </li>\n",
       "            <li> $Y$ - atkarpos $BC$ vidurio taškas </li>\n",
       "            <li> $Z$ - atkarpos $CD$ vidurio taškas </li>\n",
       "            <li> $T$ - atkarpos $DA$ vidurio taškas </li>\n",
       "            <li> $AC=x$ </li>\n",
       "            <li> $BD=y$ </li>\n",
       "        </ul>\n",
       "        <h4> RASTI: </h4>\n",
       "        <ul>\n",
       "            <li> $P_{XYZT}$ </li>\n",
       "        </ul>\n",
       "    </div>\n",
       "</div><br><br>\n",
       "<h3> SPRENDIMAS: </h3>\n",
       "<ul>\n",
       "    <li> $XY$ yra $\\triangle ABC$ vidurio linija<a href=\"definitions/definitions.ipynb#Vidurio-linija\" target=\"_blank\"> PAGAL Vidurio linija apibrėžimą </a> </li>\n",
       "    <li> $ZT$ yra $\\triangle ACD$ vidurio linija<a href=\"definitions/definitions.ipynb#Vidurio-linija\" target=\"_blank\"> PAGAL Vidurio linija apibrėžimą </a> </li>\n",
       "    <li> $YZ$ yra $\\triangle ABD$ vidurio linija<a href=\"definitions/definitions.ipynb#Vidurio-linija\" target=\"_blank\"> PAGAL Vidurio linija apibrėžimą </a> </li>\n",
       "    <li> $XT$ yra $\\triangle BCD$ vidurio linija<a href=\"definitions/definitions.ipynb#Vidurio-linija\" target=\"_blank\"> PAGAL Vidurio linija apibrėžimą </a> </li>\n",
       "    <li> $\\displaystyle XY = \\frac{x}{2}$<a href=\"rules/rules.ipynb#Vidurio-linijos-savybė\" target=\"_blank\"> PAGAL Vidurio linijos savybė </a> </li>\n",
       "    <li> $\\displaystyle ZT = \\frac{x}{2}$<a href=\"rules/rules.ipynb#Vidurio-linijos-savybė\" target=\"_blank\"> PAGAL Vidurio linijos savybė </a> </li>\n",
       "    <li> $\\displaystyle YZ = \\frac{y}{2}$<a href=\"rules/rules.ipynb#Vidurio-linijos-savybė\" target=\"_blank\"> PAGAL Vidurio linijos savybė </a> </li>\n",
       "    <li> $\\displaystyle XT = \\frac{y}{2}$<a href=\"rules/rules.ipynb#Vidurio-linijos-savybė\" target=\"_blank\"> PAGAL Vidurio linijos savybė </a> </li>\n",
       "    <li> $P_{XYZT}=XY+ZT+XY+ZT=\\frac{x}{2}+\\frac{x}{2}+\\frac{y}{2}+\\frac{y}{2}=x+y$<a href=\"definitions/definitions.ipynb#Perimetras\" target=\"_blank\"> PAGAL Perimetras apibrėžimą </a> </li>\n",
       "</ul>"
      ],
      "text/plain": [
       "<IPython.core.display.HTML object>"
      ]
     },
     "execution_count": 10,
     "metadata": {},
     "output_type": "execute_result"
    }
   ],
   "source": [
    "h = pr.return_steps(return_solution=True, no_brezinys=False)\n",
    "HTML(h)"
   ]
  },
  {
   "cell_type": "markdown",
   "id": "37dc3908",
   "metadata": {},
   "source": [
    "## Experimental plugin to problem class"
   ]
  },
  {
   "cell_type": "code",
   "execution_count": 15,
   "id": "e4adfa86",
   "metadata": {},
   "outputs": [
    {
     "data": {
      "text/html": [
       "<h2> Data <h2>"
      ],
      "text/plain": [
       "<IPython.core.display.HTML object>"
      ]
     },
     "metadata": {},
     "output_type": "display_data"
    },
    {
     "data": {
      "text/html": [
       "0: $X$ - atkarpos $AB$ vidurio taškas"
      ],
      "text/plain": [
       "<IPython.core.display.HTML object>"
      ]
     },
     "metadata": {},
     "output_type": "display_data"
    },
    {
     "data": {
      "text/html": [
       "1: $Y$ - atkarpos $BC$ vidurio taškas"
      ],
      "text/plain": [
       "<IPython.core.display.HTML object>"
      ]
     },
     "metadata": {},
     "output_type": "display_data"
    },
    {
     "data": {
      "text/html": [
       "2: $Z$ - atkarpos $CD$ vidurio taškas"
      ],
      "text/plain": [
       "<IPython.core.display.HTML object>"
      ]
     },
     "metadata": {},
     "output_type": "display_data"
    },
    {
     "data": {
      "text/html": [
       "3: $T$ - atkarpos $DA$ vidurio taškas"
      ],
      "text/plain": [
       "<IPython.core.display.HTML object>"
      ]
     },
     "metadata": {},
     "output_type": "display_data"
    },
    {
     "data": {
      "text/html": [
       "4: $AC=x$"
      ],
      "text/plain": [
       "<IPython.core.display.HTML object>"
      ]
     },
     "metadata": {},
     "output_type": "display_data"
    },
    {
     "data": {
      "text/html": [
       "5: $BD=y$"
      ],
      "text/plain": [
       "<IPython.core.display.HTML object>"
      ]
     },
     "metadata": {},
     "output_type": "display_data"
    },
    {
     "data": {
      "text/html": [
       "7: $XY$ yra $\\triangle ABC$ vidurio linija"
      ],
      "text/plain": [
       "<IPython.core.display.HTML object>"
      ]
     },
     "metadata": {},
     "output_type": "display_data"
    },
    {
     "data": {
      "text/html": [
       "8: $ZT$ yra $\\triangle ACD$ vidurio linija"
      ],
      "text/plain": [
       "<IPython.core.display.HTML object>"
      ]
     },
     "metadata": {},
     "output_type": "display_data"
    },
    {
     "data": {
      "text/html": [
       "9: $YZ$ yra $\\triangle ABD$ vidurio linija"
      ],
      "text/plain": [
       "<IPython.core.display.HTML object>"
      ]
     },
     "metadata": {},
     "output_type": "display_data"
    },
    {
     "data": {
      "text/html": [
       "10: $XT$ yra $\\triangle BCD$ vidurio linija"
      ],
      "text/plain": [
       "<IPython.core.display.HTML object>"
      ]
     },
     "metadata": {},
     "output_type": "display_data"
    },
    {
     "data": {
      "text/html": [
       "11: $\\displaystyle XY = \\frac{x}{2}$"
      ],
      "text/plain": [
       "<IPython.core.display.HTML object>"
      ]
     },
     "metadata": {},
     "output_type": "display_data"
    },
    {
     "data": {
      "text/html": [
       "12: $\\displaystyle ZT = \\frac{x}{2}$"
      ],
      "text/plain": [
       "<IPython.core.display.HTML object>"
      ]
     },
     "metadata": {},
     "output_type": "display_data"
    },
    {
     "data": {
      "text/html": [
       "13: $\\displaystyle YZ = \\frac{y}{2}$"
      ],
      "text/plain": [
       "<IPython.core.display.HTML object>"
      ]
     },
     "metadata": {},
     "output_type": "display_data"
    },
    {
     "data": {
      "text/html": [
       "14: $\\displaystyle XT = \\frac{y}{2}$"
      ],
      "text/plain": [
       "<IPython.core.display.HTML object>"
      ]
     },
     "metadata": {},
     "output_type": "display_data"
    },
    {
     "data": {
      "text/html": [
       "15: $P_{XYZT}=x+y$"
      ],
      "text/plain": [
       "<IPython.core.display.HTML object>"
      ]
     },
     "metadata": {},
     "output_type": "display_data"
    },
    {
     "data": {
      "text/html": [
       "<h2> Rules <h2>"
      ],
      "text/plain": [
       "<IPython.core.display.HTML object>"
      ]
     },
     "metadata": {},
     "output_type": "display_data"
    },
    {
     "data": {
      "text/html": [
       "(0, 7): Vidurio linija"
      ],
      "text/plain": [
       "<IPython.core.display.HTML object>"
      ]
     },
     "metadata": {},
     "output_type": "display_data"
    },
    {
     "data": {
      "text/html": [
       "(0, 10): Vidurio linija"
      ],
      "text/plain": [
       "<IPython.core.display.HTML object>"
      ]
     },
     "metadata": {},
     "output_type": "display_data"
    },
    {
     "data": {
      "text/html": [
       "(1, 7): Vidurio linija"
      ],
      "text/plain": [
       "<IPython.core.display.HTML object>"
      ]
     },
     "metadata": {},
     "output_type": "display_data"
    },
    {
     "data": {
      "text/html": [
       "(1, 9): Vidurio linija"
      ],
      "text/plain": [
       "<IPython.core.display.HTML object>"
      ]
     },
     "metadata": {},
     "output_type": "display_data"
    },
    {
     "data": {
      "text/html": [
       "(2, 8): Vidurio linija"
      ],
      "text/plain": [
       "<IPython.core.display.HTML object>"
      ]
     },
     "metadata": {},
     "output_type": "display_data"
    },
    {
     "data": {
      "text/html": [
       "(2, 9): Vidurio linija"
      ],
      "text/plain": [
       "<IPython.core.display.HTML object>"
      ]
     },
     "metadata": {},
     "output_type": "display_data"
    },
    {
     "data": {
      "text/html": [
       "(3, 8): Vidurio linija"
      ],
      "text/plain": [
       "<IPython.core.display.HTML object>"
      ]
     },
     "metadata": {},
     "output_type": "display_data"
    },
    {
     "data": {
      "text/html": [
       "(3, 10): Vidurio linija"
      ],
      "text/plain": [
       "<IPython.core.display.HTML object>"
      ]
     },
     "metadata": {},
     "output_type": "display_data"
    },
    {
     "data": {
      "text/html": [
       "(4, 11): Vidurio linijos savybė"
      ],
      "text/plain": [
       "<IPython.core.display.HTML object>"
      ]
     },
     "metadata": {},
     "output_type": "display_data"
    },
    {
     "data": {
      "text/html": [
       "(4, 12): Vidurio linijos savybė"
      ],
      "text/plain": [
       "<IPython.core.display.HTML object>"
      ]
     },
     "metadata": {},
     "output_type": "display_data"
    },
    {
     "data": {
      "text/html": [
       "(5, 13): Vidurio linijos savybė"
      ],
      "text/plain": [
       "<IPython.core.display.HTML object>"
      ]
     },
     "metadata": {},
     "output_type": "display_data"
    },
    {
     "data": {
      "text/html": [
       "(5, 14): Vidurio linijos savybė"
      ],
      "text/plain": [
       "<IPython.core.display.HTML object>"
      ]
     },
     "metadata": {},
     "output_type": "display_data"
    },
    {
     "data": {
      "text/html": [
       "(7, 11): Vidurio linijos savybė"
      ],
      "text/plain": [
       "<IPython.core.display.HTML object>"
      ]
     },
     "metadata": {},
     "output_type": "display_data"
    },
    {
     "data": {
      "text/html": [
       "(8, 12): Vidurio linijos savybė"
      ],
      "text/plain": [
       "<IPython.core.display.HTML object>"
      ]
     },
     "metadata": {},
     "output_type": "display_data"
    },
    {
     "data": {
      "text/html": [
       "(9, 13): Vidurio linijos savybė"
      ],
      "text/plain": [
       "<IPython.core.display.HTML object>"
      ]
     },
     "metadata": {},
     "output_type": "display_data"
    },
    {
     "data": {
      "text/html": [
       "(10, 14): Vidurio linijos savybė"
      ],
      "text/plain": [
       "<IPython.core.display.HTML object>"
      ]
     },
     "metadata": {},
     "output_type": "display_data"
    },
    {
     "data": {
      "text/html": [
       "(11, 15): Perimetras"
      ],
      "text/plain": [
       "<IPython.core.display.HTML object>"
      ]
     },
     "metadata": {},
     "output_type": "display_data"
    },
    {
     "data": {
      "text/html": [
       "(12, 15): Perimetras"
      ],
      "text/plain": [
       "<IPython.core.display.HTML object>"
      ]
     },
     "metadata": {},
     "output_type": "display_data"
    },
    {
     "data": {
      "text/html": [
       "(13, 15): Perimetras"
      ],
      "text/plain": [
       "<IPython.core.display.HTML object>"
      ]
     },
     "metadata": {},
     "output_type": "display_data"
    },
    {
     "data": {
      "text/html": [
       "(14, 15): Perimetras"
      ],
      "text/plain": [
       "<IPython.core.display.HTML object>"
      ]
     },
     "metadata": {},
     "output_type": "display_data"
    },
    {
     "data": {
      "text/plain": [
       "<netgraph._main.InteractiveGraph at 0x7f63fa1d6910>"
      ]
     },
     "execution_count": 15,
     "metadata": {},
     "output_type": "execute_result"
    }
   ],
   "source": [
    "%matplotlib qt5\n",
    "\n",
    "def draw_graph(pr):\n",
    "    fig, ax = plt.subplots(figsize=(5, 5))\n",
    "    G=nx.DiGraph()\n",
    "    G.add_nodes_from(pr.metadata['data']['known'], color = 'green')\n",
    "    for i in pr.metadata['steps']['ifthen']:\n",
    "        for node in pr.metadata['references'][i].fr:\n",
    "            G.add_node(i, color='lightblue')\n",
    "            G.add_edge(node, i, by=pr.metadata['references'][i].by.args[0])\n",
    "\n",
    "\n",
    "    node_vals = dict()\n",
    "    tg = list(nx.topological_generations(G))\n",
    "    norm = colors.Normalize(vmin=0, vmax=len(tg)-1)\n",
    "    for i, generation in enumerate(tg):\n",
    "        for node in sorted(generation):\n",
    "            color = tuple(n/255 for n in cm.summer(norm(len(tg)-1-i), bytes=True))\n",
    "            node_vals[node] = color\n",
    "\n",
    "    basespace = nx.get_edge_attributes(G, 'by').values()\n",
    "    lookin = list(set(basespace))\n",
    "    idx = [lookin.index(n) for n in basespace]\n",
    "    norm = colors.Normalize(vmin=0, vmax=max(idx))\n",
    "    edge_colors = [tuple(n/255 for n in cm.rainbow(norm(v), bytes=True)) for v in idx]\n",
    "\n",
    "\n",
    "    annotations = {idx:pr.conclude(idx) for idx in pr.metadata['references'] \n",
    "                   if pr.metadata['references'][idx].__class__.__name__ != 'Unknown'}\n",
    "\n",
    "    I = netgraph.InteractiveGraph(G, node_size=6, \n",
    "                                  node_labels=True, \n",
    "                                  node_color=node_vals,\n",
    "                                  edge_color = dict(zip(nx.get_edge_attributes(G, 'by').keys(), edge_colors)),\n",
    "                                  annotations=annotations,\n",
    "                                  edge_width=2, arrows=True, ax=ax)\n",
    "\n",
    "    display(HTML('<h2> Data <h2>'))\n",
    "    for key, val in annotations.items():\n",
    "        display(HTML(f'{key}: {val}'))\n",
    "\n",
    "    display(HTML('<h2> Rules <h2>'))\n",
    "    for key, val in zip(nx.get_edge_attributes(G, 'by').keys(), basespace):\n",
    "        display(HTML(f'{key}: {val}'))\n",
    "        \n",
    "    return I\n",
    "\n",
    "draw_graph(pr)"
   ]
  },
  {
   "cell_type": "code",
   "execution_count": null,
   "id": "e9c1f09b",
   "metadata": {},
   "outputs": [],
   "source": [
    "import matplotlib.pyplot as plt"
   ]
  },
  {
   "cell_type": "code",
   "execution_count": null,
   "id": "361d3102",
   "metadata": {},
   "outputs": [],
   "source": []
  },
  {
   "cell_type": "code",
   "execution_count": null,
   "id": "788299f1",
   "metadata": {},
   "outputs": [],
   "source": []
  }
 ],
 "metadata": {
  "kernelspec": {
   "display_name": "Python 3 (ipykernel)",
   "language": "python",
   "name": "python3"
  },
  "language_info": {
   "codemirror_mode": {
    "name": "ipython",
    "version": 3
   },
   "file_extension": ".py",
   "mimetype": "text/x-python",
   "name": "python",
   "nbconvert_exporter": "python",
   "pygments_lexer": "ipython3",
   "version": "3.9.7"
  }
 },
 "nbformat": 4,
 "nbformat_minor": 5
}
