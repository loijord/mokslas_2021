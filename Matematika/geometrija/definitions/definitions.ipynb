{
 "cells": [
  {
   "cell_type": "markdown",
   "id": "e7530cad",
   "metadata": {},
   "source": [
    "### Vidurio linija\n",
    "* Atkarpa, jungianti trikampio šoninių kraštinių vidurio taškus, vadinama **trikampio vidurio linija.**\n",
    "* Atkarpa, jungianti trapecijos šoninių kraštinių vidurio taškus, vadinama **trapecijos vidurio linija.**"
   ]
  },
  {
   "cell_type": "markdown",
   "id": "2b8b5b2f",
   "metadata": {},
   "source": [
    "### Perimetras\n",
    "Daugiakampio kraštinių ilgių suma vadinama **daugiakampio perimetru**"
   ]
  }
 ],
 "metadata": {
  "kernelspec": {
   "display_name": "Python 3 (ipykernel)",
   "language": "python",
   "name": "python3"
  },
  "language_info": {
   "codemirror_mode": {
    "name": "ipython",
    "version": 3
   },
   "file_extension": ".py",
   "mimetype": "text/x-python",
   "name": "python",
   "nbconvert_exporter": "python",
   "pygments_lexer": "ipython3",
   "version": "3.9.7"
  }
 },
 "nbformat": 4,
 "nbformat_minor": 5
}
