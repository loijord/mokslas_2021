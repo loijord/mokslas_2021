{
 "cells": [
  {
   "cell_type": "markdown",
   "id": "425d758b",
   "metadata": {},
   "source": [
    "# 05-09\n",
    "\n",
    "Per 05-09 pamoką susipažinau su Ievos gebėjimais ir mokymosi stiliumi. Pagrindiniai jos trūkumai - nepasitikėjimas savo jėgomis, bijojimas suklysti sprendžiant savarankiškai bei nepripratimas prie savarankiško teksto skaitymo, kur yra duotos instrukcijos, kaip reikėtų spręsti naujo skyriaus uždavinius. Taip pat minėjau, kad dalis sprendimų remiasi taisyklėmis, kurios atrandamos intuityviai (nors jų nėra vadovėlyje), kai kelis kartus iškyla intelektinis poreikis jas pritaikyti, o po kelių sėkmingų pritaikymų įsimenamos savaime. Sura6ysiu keletą taisyklių, su kuriomis kilo sunkumų:\n",
    "\n",
    "## Šaknų pašalinimas lygtyje\n",
    "Jei $\\sqrt{a} = \\sqrt{b}$, tai $a=b$. Norint įsitikinti šia taisykle, galima pasvarstyti apie tokias galimybes:\n",
    "* Atvejai $a<0$ ir $b<0$ nėra galimi\n",
    "* Jei $a\\ge 0$, tai imame kokį nors pavyzdį, tarkim su $a=10$ bus $\\sqrt{10}=\\sqrt{b}$. Aišku, kad $b$ gali būti lygus tik 10.  \n",
    "\n",
    "Jei aiškintume dar griežčiau, reiktų taikyti šaknies apibrėžimą: $\\sqrt{a}$ yra žymimas toks neneigiamas skaičius, kurį pakėlę kvadratu turime gauti $a$. Tad lygybėje $\\sqrt{a} = \\sqrt{b}$ abudu skaičiai, kuriuos pakėlę kvadratu, gausime $a$ ir $b$, yra vienodi. Vadinasi, $a$ ir $b$ vienodi.\n",
    "\n",
    "### Pavyzdys 1\n",
    "$\\boxed{\\sqrt{x^2 + (4-x)^2}= \\sqrt{10}} \\Rightarrow \\boxed{x^2 + (4-x)^2= 10}$\n",
    "\n",
    "## Dviejų skaičių lygybė nuliui\n",
    "Tarkime $ab=0$. Kada taip būna? Jei imame abudu nenulinius skaičius, taip nebūna. Vadinasi, bent vienas iš jų yra lygus 0.\n",
    "\n",
    "### Pavyzdys 2\n",
    "$\\boxed{(x+3)(x-1)=0} \\Rightarrow \\boxed{x+3=0\\text{ arba }x-1=0}$ \n",
    "\n",
    "## Kaip greitai atlikti kvadratinio trinario išskaidymą?\n",
    "\n",
    "Tarkime kvadratinis reiškinys $x^2+px+q$ išsiskaido į $(x-a)(x-b)$. Pagal ankstesnį teiginį, $x-a=0$ arba $x-b=0$, ir tai duoda du sprendinius $a$ ir $b$. Be to, $(x-a)(x-b) = x^2 - x(a+b)+ab$. Jei pavyksta sugalvoti tokius du skaičius $a$ ir $b$, kad $-(a+b)=p$ ir $ab=q$, tai išskaidymas gaunamas akimirksniu.\n",
    "\n",
    "### Pavyzdys 3\n",
    "Išskaidyti $x^2-2x-24$. Galima pradėti nuo sandaugos. Pvz. tinka $4 \\times (-6) = -24$. Jų suma yra $-2$, bet reiktų 2. Tada galima parinkti $-4$ ir $6$. Jie duos reikiamą sumą. Vadinasi,\n",
    "\n",
    "$x^2-2x-24 = (x-(-4))(x-6) = (x+4)(x-6)$\n",
    "\n",
    "\n",
    "## Keliais būdais galima pasirinkti 2 daiktus iš skirtingų grupių?\n",
    "\n",
    "### Pavyzdys 4\n",
    "Tarkime yra 3 sriubos ir 7 antri patiekalai. Kiek galima pasirinkti skirtingų pietų iš dviejų patiekalų porcijų? Atsakymas: $3 \\times 7$"
   ]
  },
  {
   "cell_type": "markdown",
   "id": "70085de9",
   "metadata": {},
   "source": [
    "**Pirmas būdas**. Visus variantus galima įsivaizduoti išrašyti didėjimo tvarka, panašiai kaip žodžius žodyne. Svarbu, kad kiekvienai sriubai tektų po 7 antrų patiekalų variantus."
   ]
  },
  {
   "cell_type": "code",
   "execution_count": 72,
   "id": "3d2afb41",
   "metadata": {},
   "outputs": [
    {
     "name": "stdout",
     "output_type": "stream",
     "text": [
      "Sriuba 1, antras 1\n",
      "Sriuba 1, antras 2\n",
      "Sriuba 1, antras 3\n",
      "Sriuba 1, antras 4\n",
      "Sriuba 1, antras 5\n",
      "Sriuba 1, antras 6\n",
      "Sriuba 1, antras 7\n",
      "Sriuba 2, antras 1\n",
      "Sriuba 2, antras 2\n",
      "Sriuba 2, antras 3\n",
      "Sriuba 2, antras 4\n",
      "Sriuba 2, antras 5\n",
      "Sriuba 2, antras 6\n",
      "Sriuba 2, antras 7\n",
      "Sriuba 3, antras 1\n",
      "Sriuba 3, antras 2\n",
      "Sriuba 3, antras 3\n",
      "Sriuba 3, antras 4\n",
      "Sriuba 3, antras 5\n",
      "Sriuba 3, antras 6\n",
      "Sriuba 3, antras 7\n"
     ]
    }
   ],
   "source": [
    "arr = np.stack(np.meshgrid(*[[1,2,3], [1,2,3,4,5,6,7]]), axis=-1).reshape(7,3,2).swapaxes(0,1)\n",
    "rinkinys(arr)"
   ]
  },
  {
   "cell_type": "markdown",
   "id": "a7d03f21",
   "metadata": {},
   "source": [
    "**Antras būdas** Tuos pačius variantus daug paprasčiau įsivaizduoti kaip galimybių medį"
   ]
  },
  {
   "cell_type": "code",
   "execution_count": 66,
   "id": "e3d59e35",
   "metadata": {},
   "outputs": [
    {
     "data": {
      "image/png": "[encoded data removed]",
      "text/plain": [
       "<Figure size 432x288 with 1 Axes>"
      ]
     },
     "metadata": {},
     "output_type": "display_data"
    }
   ],
   "source": [
    "medis()"
   ]
  },
  {
   "cell_type": "markdown",
   "id": "d9f34b80",
   "metadata": {},
   "source": [
    "**Trečias būdas**. Visus variantus taip pat galima įsivaizduoti kaip stačiakampę lentelę:"
   ]
  },
  {
   "cell_type": "code",
   "execution_count": 71,
   "id": "8d957593",
   "metadata": {},
   "outputs": [
    {
     "data": {
      "text/html": [
       "<div>\n",
       "<style scoped>\n",
       "    .dataframe tbody tr th:only-of-type {\n",
       "        vertical-align: middle;\n",
       "    }\n",
       "\n",
       "    .dataframe tbody tr th {\n",
       "        vertical-align: top;\n",
       "    }\n",
       "\n",
       "    .dataframe thead th {\n",
       "        text-align: right;\n",
       "    }\n",
       "</style>\n",
       "<table border=\"1\" class=\"dataframe\">\n",
       "  <thead>\n",
       "    <tr style=\"text-align: right;\">\n",
       "      <th></th>\n",
       "      <th>1</th>\n",
       "      <th>2</th>\n",
       "      <th>3</th>\n",
       "      <th>4</th>\n",
       "      <th>5</th>\n",
       "      <th>6</th>\n",
       "      <th>7</th>\n",
       "    </tr>\n",
       "  </thead>\n",
       "  <tbody>\n",
       "    <tr>\n",
       "      <th>1</th>\n",
       "      <td>[1, 1]</td>\n",
       "      <td>[1, 2]</td>\n",
       "      <td>[1, 3]</td>\n",
       "      <td>[1, 4]</td>\n",
       "      <td>[1, 5]</td>\n",
       "      <td>[1, 6]</td>\n",
       "      <td>[1, 7]</td>\n",
       "    </tr>\n",
       "    <tr>\n",
       "      <th>2</th>\n",
       "      <td>[2, 1]</td>\n",
       "      <td>[2, 2]</td>\n",
       "      <td>[2, 3]</td>\n",
       "      <td>[2, 4]</td>\n",
       "      <td>[2, 5]</td>\n",
       "      <td>[2, 6]</td>\n",
       "      <td>[2, 7]</td>\n",
       "    </tr>\n",
       "    <tr>\n",
       "      <th>3</th>\n",
       "      <td>[3, 1]</td>\n",
       "      <td>[3, 2]</td>\n",
       "      <td>[3, 3]</td>\n",
       "      <td>[3, 4]</td>\n",
       "      <td>[3, 5]</td>\n",
       "      <td>[3, 6]</td>\n",
       "      <td>[3, 7]</td>\n",
       "    </tr>\n",
       "  </tbody>\n",
       "</table>\n",
       "</div>"
      ],
      "text/plain": [
       "        1       2       3       4       5       6       7\n",
       "1  [1, 1]  [1, 2]  [1, 3]  [1, 4]  [1, 5]  [1, 6]  [1, 7]\n",
       "2  [2, 1]  [2, 2]  [2, 3]  [2, 4]  [2, 5]  [2, 6]  [2, 7]\n",
       "3  [3, 1]  [3, 2]  [3, 3]  [3, 4]  [3, 5]  [3, 6]  [3, 7]"
      ]
     },
     "execution_count": 71,
     "metadata": {},
     "output_type": "execute_result"
    }
   ],
   "source": [
    "lentelė(arr)"
   ]
  },
  {
   "cell_type": "markdown",
   "id": "1d459112",
   "metadata": {},
   "source": [
    "## Pitagoro teorema\n",
    "Duotas statusis trikampis, kurio kraštinės yra $a$, $b$, $c$. Pitagoro teorema teigia, kad šios kraštinės tenkina lygybę $\\boxed{a^2+b^2=c^2}$. Pateiksiu taip pat visas šios teoremos išvadas, kurių prireikia sprendžiant uždavinius:\n",
    "* Įžambinės radimas: $\\boxed{c = \\sqrt{a^2+b^2}}$\n",
    "* Statinių radimas: $\\boxed{a=\\sqrt{c^2-b^2}}$ ir $\\boxed{b=\\sqrt{c^2-a^2}}$\n",
    "\n",
    "Papildomai pateiksiu Pitagoro teoremos pradinį variantą, kuris buvo žinomas Antikos laikotarpiu, kol dar skaičiaus sąvoka nebuvo pakankamai išplėtota plotui įvardyti"
   ]
  },
  {
   "cell_type": "code",
   "execution_count": 76,
   "id": "1bd9cad6",
   "metadata": {},
   "outputs": [
    {
     "data": {
      "image/png": "[encoded data removed]",
      "text/plain": [
       "<Figure size 576x576 with 1 Axes>"
      ]
     },
     "metadata": {
      "needs_background": "light"
     },
     "output_type": "display_data"
    }
   ],
   "source": [
    "Pitagoras()"
   ]
  },
  {
   "cell_type": "code",
   "execution_count": 75,
   "id": "fac0b99c",
   "metadata": {},
   "outputs": [],
   "source": [
    "import pandas as pd\n",
    "import numpy as np\n",
    "import math\n",
    "import matplotlib.pyplot as plt\n",
    "\n",
    "def rinkinys(arr):\n",
    "    for i, j in arr.reshape(-1, 2): \n",
    "        print(f'Sriuba {i}, antras {j}')\n",
    "\n",
    "def medis():\n",
    "    b1, b2, b3 = [[2,x] for x in range(5,12)], [[3,x] for x in range(12,19)], [[4,x] for x in range(19,26)]\n",
    "    G = nx.Graph([[1,2],[1,3],[1,4],*b1,*b2,*b3])\n",
    "    layout = nx.spring_layout(G)\n",
    "    labels={1: '', 2: '', 3: '', 4: '', 5: [1,1], 6: [1,2], 7: [1,3], 8: [1,4], 9: [1,5], 10: [1,6], 11: [1,7], \n",
    "            12: [2,1], 13: [2,2], 14: [2,3], 15: [2,4], 16: [2,5], 17: [2,6], 18: [2,7], 19: [3,1], 20: [3,2],\n",
    "            21: [3,3], 22: [3,4], 23: [3,5], 24: [3,6], 25: [3,7]}\n",
    "    nx.draw(G, pos=layout, labels=labels, node_color='w', node_size=[0,0,0,0]+[300]*21)\n",
    "    plt.show()\n",
    "\n",
    "def lentelė(arr):\n",
    "    return pd.DataFrame(arr.tolist(), index=[1,2,3], columns=[1,2,3,4,5,6,7])\n",
    "\n",
    "def Pitagoras():\n",
    "    from matplotlib.patches import RegularPolygon\n",
    "    fig, ax = plt.subplots(figsize=(8, 8))\n",
    "    ax.add_patch(RegularPolygon((6, -6), numVertices=4, radius=6*math.sqrt(2), \n",
    "                                orientation=math.pi/4, color='b', ec='k'))\n",
    "    ax.add_patch(RegularPolygon((3.5, 8.5), numVertices=4, radius=6.5*math.sqrt(2), \n",
    "                                orientation=-math.sin(5/12), color='g', ec='k'))\n",
    "    ax.add_patch(RegularPolygon((14.5, 2.5), numVertices=4, radius=2.5*math.sqrt(2), \n",
    "                                orientation=math.pi/4, color='y', ec='k'))\n",
    "    ax.set_xlim([-6,20]); ax.set_ylim([-15, 18])\n",
    "    ax.set_aspect('equal')\n",
    "    plt.axis('off')\n",
    "    ax.set_title('Jei vidinis trikampis yra statusis, tai \\ndidysis kvadratas sudaro abu mažesnius')\n",
    "    plt.show()"
   ]
  }
 ],
 "metadata": {
  "kernelspec": {
   "display_name": "Python 3 (ipykernel)",
   "language": "python",
   "name": "python3"
  },
  "language_info": {
   "codemirror_mode": {
    "name": "ipython",
    "version": 3
   },
   "file_extension": ".py",
   "mimetype": "text/x-python",
   "name": "python",
   "nbconvert_exporter": "python",
   "pygments_lexer": "ipython3",
   "version": "3.9.7"
  }
 },
 "nbformat": 4,
 "nbformat_minor": 5
}
