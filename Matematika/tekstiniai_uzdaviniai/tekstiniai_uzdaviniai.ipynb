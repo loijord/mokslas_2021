{
 "cells": [
  {
   "cell_type": "code",
   "execution_count": 2,
   "id": "713d5581",
   "metadata": {},
   "outputs": [],
   "source": [
    "from my_models import draw_tasking, draw_division, Vergnaud, Greer\n",
    "from IPython.display import display, HTML\n",
    "docs = {'seagreen': 'Išspręsti ir pasitikrinti uždaviniai', \n",
    "        'lightgreen': 'Išspręsti, bet nepasitikrinti uždaviniai', \n",
    "        'lightblue': 'Uždaviniai kitam kartui',\n",
    "        'pink': 'Dar nebandyti uždaviniai',\n",
    "        'brown': 'Neatidžiai išspręsti uždaviniai',\n",
    "        'red': 'Uždaviniai, kurių nepavyko išspręsti'}"
   ]
  },
  {
   "cell_type": "markdown",
   "id": "a7e330ba",
   "metadata": {},
   "source": [
    "Pijaus pagrindinis trūkumas: per silpnas skaičiaus sąvokos vaizdinys. Pavyzdžiui negebėjimas atsakyti, kiek kartų 21 yra daugiau už 14. \n",
    "\n",
    "Norint atsakyti į panašius klausimus reiktų stengtis turėti kuo platesnį žodyną, kuris leidžia:\n",
    "\n",
    "* Aprašomus reiškinius arba lygybes apibūdinti tekstinėmis formuluotėmis\n",
    "* Tekstiniame uždavinyje sutinkamas formuluotes aprašyti reiškiniais ir lygtimis\n",
    "\n",
    "Dar vienas patvirtinimas, kad Pijus turi silpną skaičiaus vaizdinį, yra tai, kad jis nėra įsisavinęs skaitmenų, rašomų po kablelio, prasmės. Šis supratimas sutvirtėtų, jei Pijus išmoktų perskaityti bet kurį skaičių skyriais. Pavyzdžiui:\n",
    "\n",
    "* 78.8103 yra: 7 dešimtys, 8 vienetai, 8 dešimtosios, 1 šimtoji ir 3 dešimttūkstantosios\n",
    "\n",
    "Panašias problemas pastebiu ir pas Ugnę, kuri mokosi ieškoti $x$ reikšmių, su kuriomis pasiekiama kvadratinių reiškinių, tokių kaip $x^2-2x+3$ mažiausia reikšmė arba rasti tą reikšmę. Turėdama tekstinio uždavinio sąlygą ji sunkiai sugalvoja, kokį procesą reikia daryti aritmetiškai.\n",
    "\n",
    "# Tyrimai apie įgūdžius, būtinus tekstinių uždavinių sprendimui"
   ]
  },
  {
   "cell_type": "markdown",
   "id": "5672f71f",
   "metadata": {},
   "source": [
    "## Sudėtis ir atimtis\n",
    "\n",
    "Tekstinių uždavinių, kuriuose pasitaiko atimtis ir sudėtis, klasifikacija, buvo ypač susidomėta apie 1980 metus (Heller, Green, Carpenter ir Moser darbuose). Toliau remsiuosi [Ievos Kilienės tyrimu](https://www.journals.vu.lt/LMR/article/view/22470/21844) (2020 m.), atliktu šių modelių pagrindu. Modelį galima apibūdinti tokiais pavyzdžiais:\n",
    "\n",
    "***Change (keitimas)***\n",
    "\n",
    "1\\. Goda had 5 stickers. Adas gave her 8 more\n",
    "stickers.  How many stickers does Goda have\n",
    "altogether?  \n",
    "2\\. Goda had 13 stickers. She gave 5 stickers to\n",
    "Adas. How many stickers does she have left?  \n",
    "3\\.   Goda  has  5  stickers.   How  many  more\n",
    "stickers does she need to have 13 stickers altogether?  \n",
    "4\\.  Goda had 13 stickers.  She gave some to\n",
    "Adas.  Now she has 8 stickers left.  How many\n",
    "stickers did Goda give to Adas?  \n",
    "5\\.  Goda had some stickers.  Adas gave her 5\n",
    "more stickers.  Now she has 13 stickers.  How\n",
    "many stickers did Goda have to start with?  \n",
    "6\\.   Goda had some stickers.   She gave 5 to\n",
    "Adas.  Now she has 8 stickers left.  How many\n",
    "stickers did Goda have to start with?  \n",
    "\n",
    "***Combine (sujungimas)***\n",
    "\n",
    "7\\. Goda has 5 red stickers and 8 blue stickers.\n",
    "How many stickers does she have?   \n",
    "8\\. Goda has 13 stickers. Five are red and the\n",
    "rest are blue. How many blue stickers does\n",
    "Goda have?  \n",
    "\n",
    "***Compare (palyginimas)***\n",
    "\n",
    "9\\.  Goda has 13 stickers.  Adas has 5 stickers.\n",
    "How many more stickers does Goda have than\n",
    "Adas?  \n",
    "10\\. Goda has 13 stickers. Adas has 5 stickers.\n",
    "How many fewer stickers does Adas have than\n",
    "Goda?  \n",
    "11\\. Adas has 5 stickers. Goda has 8 more than\n",
    "Adas. How many stickers does Goda have?  \n",
    "12\\. Adas has 5 stickers. He has 8 fewer stick-ers than Goda. How many stickers does Goda\n",
    "have?  \n",
    "13\\. Goda has 13 stickers. She has 5 more\n",
    "stickers than Adas.  How many stickers does\n",
    "Adas have?  \n",
    "14\\.  Goda has 13 stickers. Adas has 5 fewer\n",
    "stickers than Goda.  How many stickers does\n",
    "Adas have?  \n",
    "\n",
    "***Equalize (sulyginimas)***\n",
    "\n",
    "15\\. Goda has 13 stickers. Adas has 5 stickers.\n",
    "How many stickers does Adas have to win to\n",
    "have as many stickers as Goda?  \n",
    "16\\. Goda has 13 stickers. Adas has 5 stickers.\n",
    "How many stickers does Goda have to lose to\n",
    "have as many stickers as Adas?  \n",
    "17\\.  Adas has 5 stickers.  If he wins 8 stickers,\n",
    "he will have the same number of stickers as\n",
    "Goda. How many stickers does Goda have?  \n",
    "18\\. Adas has 5 stickers. If Goda loses 8 stickers, \n",
    "she will have the same number stickers as\n",
    "Adas. How many stickers does Goda have?  \n",
    "19\\. Goda has 13 stickers. If Adas wins 5 stickers, \n",
    "he will have the same number of stickers\n",
    "as Goda. How many stickers does Adas have?  \n",
    "20\\.  Goda has 13 stickers.  If she loses 5 stickers,\n",
    "she will have the same number stickers as\n",
    "Adas. How many stickers does Adas have?  \n",
    "\n",
    "### Ievos K. tyrimo išvados \n",
    "\n",
    "Pirmos klasės vadovėlių tekstinių uždavinių sąlygos gana ribotos, nes juose dominuoja tik 1, 2, 9, 10, 11 ir 14 uždavinių tipai. Klausiama pagrinde, keliais daiktais vienas žmogus turi daugiau/mažiau už kitą arba kiek daiktų turės žmogus, atidavęs arba gavęs žinomą daiktų kiekį (kai žinoma, kiek turėjo iš pradžių). Norint, kad moksleiviai sugebėtų gerai spręsti tekstinius uždavinius vyresnėse klasėse, būtina įtraukti ir kitus tipus.\n",
    "\n",
    "![](ievos_rez.png)"
   ]
  },
  {
   "cell_type": "markdown",
   "id": "37fdfc5f",
   "metadata": {},
   "source": [
    "## Daugyba ir dalyba\n",
    "\n",
    "Tekstiniai uždaviniai su daugyba ir dalyba yra kur kas sunkiau klasifikuojami, todėl plačiai naudojamų šių uždavinių klasifikavimo modelių yra ne vienas. Imant pavyzdį iš ankstesnio tyrimo, norint, kad tekstiniai uždaviniai negrasintų prastais pažymiais, reikėtų spręsti daug įvairesnius jų tipus, nei mokykloje.\n",
    "\n",
    "Šiame tekste pateiksiu du plačiau ištirtus dauginimo klasifikacijos modelius, paimtus iš straipsnio [Larsson K., Students’ understandings of multiplication, p. 7 - 10, 2016](http://www.diva-portal.org/smash/get/diva2:1038458/FULLTEXT01.pdf). Yra taip pat ir dalybos modelių, tačiau jie ne tokie svarbūs, nes su dalijimu Pijus dirbs pagrinde šeštoje klasėje."
   ]
  },
  {
   "cell_type": "markdown",
   "id": "c8d91696",
   "metadata": {},
   "source": [
    "**Vergnaud (1983, 1988, 1994) modelis**"
   ]
  },
  {
   "cell_type": "code",
   "execution_count": 38,
   "id": "81fb3932",
   "metadata": {},
   "outputs": [
    {
     "data": {
      "text/html": [
       "<table border=\"1\" class=\"dataframe\">\n",
       "  <thead>\n",
       "    <tr style=\"text-align: right;\">\n",
       "      <th></th>\n",
       "      <th></th>\n",
       "      <th></th>\n",
       "    </tr>\n",
       "    <tr>\n",
       "      <th>Subkonstruktas</th>\n",
       "      <th>Tipas</th>\n",
       "      <th>Kintamųjų paaiškinimai</th>\n",
       "    </tr>\n",
       "  </thead>\n",
       "  <tbody>\n",
       "    <tr>\n",
       "      <th rowspan=\"2\" valign=\"top\">Matų izomorfizmas</th>\n",
       "      <th>-</th>\n",
       "      <th>Kiek kainuoja 12 sausainių, jei 4 sausainiai kainuoja 20 kronų?</th>\n",
       "    </tr>\n",
       "    <tr>\n",
       "      <th>Uždavinys su neišreikštu vienetu</th>\n",
       "      <th>Kiek kainuoja 12 sausainių, jei sausainis kainuoja 5 kronas?</th>\n",
       "    </tr>\n",
       "    <tr>\n",
       "      <th rowspan=\"2\" valign=\"top\">Matų sandauga</th>\n",
       "      <th>Ploto skaičiavimas</th>\n",
       "      <th>Koks stačiakampio plotas, jei jo plotis 4 cm, o ilgis 5 cm?</th>\n",
       "    </tr>\n",
       "    <tr>\n",
       "      <th>Dekarto sandaugos skaičiavimas</th>\n",
       "      <th>Kelias poras galima sudaryti iš 4 mergaičių ir 5 berniukų grupės?</th>\n",
       "    </tr>\n",
       "    <tr>\n",
       "      <th>Kartotinis proporcingumas</th>\n",
       "      <th>-</th>\n",
       "      <th>Kiek grūdų sulesa 12 vištų per 12 dienų, jei 4 vištos per 4 dienas sulesa 4 kg grūdų?</th>\n",
       "    </tr>\n",
       "  </tbody>\n",
       "</table>"
      ],
      "text/plain": [
       "<IPython.core.display.HTML object>"
      ]
     },
     "execution_count": 38,
     "metadata": {},
     "output_type": "execute_result"
    }
   ],
   "source": [
    "HTML(Vergnaud().to_html(escape=False))"
   ]
  },
  {
   "cell_type": "markdown",
   "id": "c787fa04",
   "metadata": {},
   "source": [
    "**Praplėstas Greer (1992) modelis**\n",
    "\n",
    "Tekstą parengiau pagal neoficialią [Room to Discover blogo](https://roomtodiscover.com/meanings-of-multiplication/) versiją"
   ]
  },
  {
   "cell_type": "code",
   "execution_count": 39,
   "id": "c71093c2",
   "metadata": {},
   "outputs": [
    {
     "data": {
      "text/html": [
       "<table border=\"1\" class=\"dataframe\">\n",
       "  <thead>\n",
       "    <tr style=\"text-align: right;\">\n",
       "      <th></th>\n",
       "      <th></th>\n",
       "      <th></th>\n",
       "    </tr>\n",
       "    <tr>\n",
       "      <th>Subkonstruktas</th>\n",
       "      <th>Tipas</th>\n",
       "      <th>Kintamųjų paaiškinimai</th>\n",
       "    </tr>\n",
       "  </thead>\n",
       "  <tbody>\n",
       "    <tr>\n",
       "      <th rowspan=\"2\" valign=\"top\">Grupavimas</th>\n",
       "      <th>Skaidymas</th>\n",
       "      <th>Aš noriu išdalinti 8 sausainius keturiems draugams lygiomis dalimis. Kiek gaus kiekvienas iš jų?</th>\n",
       "    </tr>\n",
       "    <tr>\n",
       "      <th>Matavimas</th>\n",
       "      <th>Aš padalinau 24 sausainius į lygias grupes po 3. Kiek grupių gavau?</th>\n",
       "    </tr>\n",
       "    <tr>\n",
       "      <th>Rodiklis</th>\n",
       "      <th>-</th>\n",
       "      <th>1) Marius suvalgo po 4 guminukus per minutę. Kiek guminukų jis suvalgo per 7 minutes? <br> 2) Mantas eina 6km/h greičiu. Kokią distanciją jis įveiks per 20 min?</th>\n",
       "    </tr>\n",
       "    <tr>\n",
       "      <th>Dauginamasis palyginimas</th>\n",
       "      <th>-</th>\n",
       "      <th>Šiandien iš geografijos aš gavau 8, o iš matematikos 4 kartus mažiau. Kiek gavau iš matematikos?</th>\n",
       "    </tr>\n",
       "    <tr>\n",
       "      <th rowspan=\"2\" valign=\"top\">Stačiakampė figūra</th>\n",
       "      <th>Diskretūs dydžiai</th>\n",
       "      <th>Koks sąsiuvinyje nupiešto stačiakampio plotas, jei vienas jo kraštas eina per 8 langelių kraštines, o kitas - per 9?</th>\n",
       "    </tr>\n",
       "    <tr>\n",
       "      <th>Tolydūs dydžiai</th>\n",
       "      <th>Koks stačiakampio, kurio kraštinės yra 2.5cm ir 3.5cm plotas?</th>\n",
       "    </tr>\n",
       "    <tr>\n",
       "      <th>Dekarto sandauga</th>\n",
       "      <th>-</th>\n",
       "      <th>Jei kebabinė siūlo 2 skirtingų dydžių ir 3 rūšių kebabus bei 4 padažus, kelis skirtingus užsakymus galima padaryti?</th>\n",
       "    </tr>\n",
       "  </tbody>\n",
       "</table>"
      ],
      "text/plain": [
       "<IPython.core.display.HTML object>"
      ]
     },
     "execution_count": 39,
     "metadata": {},
     "output_type": "execute_result"
    }
   ],
   "source": [
    "HTML(Greer().to_html(escape=False))"
   ]
  },
  {
   "cell_type": "markdown",
   "id": "ba60312b",
   "metadata": {},
   "source": [
    "### Nesusipratimų skyrelis\n",
    "    \n",
    "* **Du skirtingi grupavimo būdai**. *Batų fabriko vadovas pirštu parodė darbuotojui į 100 batų krūvą, tada liepė padalinti juos į poras ir sudėti į dėžes. Kitą dieną jam buvo šokas. Jis rado 50 batų sukrauta į vieną didelę dėžę ir 50 į kitą.* \n",
    "\n",
    "* **Du skirtingi grupavimo būdai**. *Dalinti skaičių 3 į trečdalį grupės yra nesąmonė. Tačiau dalinti 3 kieno nors vienetus po trečdalį - jau lengviau.* \n",
    "\n",
    "* **Du skirtingi palyginimo būdai**. *Ar tikrai gauti iš matematikos 4 mažiau nei iš geografijos yra tas pats, kas gauti 4 kartais mažiau?*\n",
    "\n",
    "* **Du skirtingi stačiakampio ploto skaičiavimo būdai**. *Stačiakampio, kurio ilgį sudaro 3.5 langelio, o plotį 2.5 langelio, plotą skaičiuodami langelius ieško tik užsispyrę mokiniai. Paprasčiau tiesiog padauginti 2.5 iš 3.5.*\n",
    "\n",
    "* **Plotas vs tūris**. *Ar ilga plona kolba gali užimti tiek pat vietos, kiek neaukšta stiklinė?*\n"
   ]
  },
  {
   "cell_type": "code",
   "execution_count": 36,
   "id": "49a6c4b0",
   "metadata": {},
   "outputs": [
    {
     "data": {
      "text/html": [
       "<table border=\"1\" class=\"dataframe\">\n",
       "  <thead>\n",
       "    <tr style=\"text-align: right;\">\n",
       "      <th></th>\n",
       "      <th></th>\n",
       "      <th></th>\n",
       "    </tr>\n",
       "    <tr>\n",
       "      <th>Subkonstruktas</th>\n",
       "      <th>Tipas</th>\n",
       "      <th>Kintamųjų paaiškinimai</th>\n",
       "    </tr>\n",
       "  </thead>\n",
       "  <tbody>\n",
       "    <tr>\n",
       "      <th rowspan=\"2\" valign=\"top\">Grupavimas</th>\n",
       "      <th>Skaidymas</th>\n",
       "      <th>Aš noriu išdalinti 8 sausainius keturiems draugams lygiomis dalimis. Kiek gaus kiekvienas iš jų?</th>\n",
       "    </tr>\n",
       "    <tr>\n",
       "      <th>Matavimas</th>\n",
       "      <th>Aš padalinau 24 sausainius į lygias grupes po 3. Kiek grupių gavau?</th>\n",
       "    </tr>\n",
       "    <tr>\n",
       "      <th>Rodiklis</th>\n",
       "      <th>-</th>\n",
       "      <th>1) Marius suvalgo po 4 guminukus per minutę. Kiek guminukų jis suvalgo per 7 minutes? <br> 2) Mantas eina 6km/h greičiu. Kokią distanciją jis įveiks per 20 min?</th>\n",
       "    </tr>\n",
       "    <tr>\n",
       "      <th>Dauginamasis palyginimas</th>\n",
       "      <th>-</th>\n",
       "      <th>Šiandien iš geografijos aš gavau 8, o iš matematikos 4 kartus mažiau. Kiek gavau iš matematikos?</th>\n",
       "    </tr>\n",
       "    <tr>\n",
       "      <th rowspan=\"2\" valign=\"top\">Stačiakampė figūra</th>\n",
       "      <th>Diskretūs dydžiai</th>\n",
       "      <th>Koks sąsiuvinyje nupiešto stačiakampio plotas, jei vienas jo kraštas eina per 8 langelių kraštines, o kitas - per 9?</th>\n",
       "    </tr>\n",
       "    <tr>\n",
       "      <th>Tolydūs dydžiai</th>\n",
       "      <th>Koks stačiakampio, kurio kraštinės yra 2.5cm ir 3.5cm plotas?</th>\n",
       "    </tr>\n",
       "    <tr>\n",
       "      <th>Dekarto sandauga</th>\n",
       "      <th>-</th>\n",
       "      <th>Jei kebabinė siūlo 2 skirtingų dydžių ir 3 rūšių kebabus bei 4 padažus, kelis skirtingus užsakymus galima padaryti?</th>\n",
       "    </tr>\n",
       "  </tbody>\n",
       "</table>"
      ],
      "text/plain": [
       "<IPython.core.display.HTML object>"
      ]
     },
     "execution_count": 36,
     "metadata": {},
     "output_type": "execute_result"
    }
   ],
   "source": [
    "from IPython.display import display, HTML\n",
    "HTML(Greer().to_html(escape=False))"
   ]
  },
  {
   "cell_type": "markdown",
   "id": "c72c308b",
   "metadata": {},
   "source": [
    "## Tolimesni patarimai Pijui ir Ugnei"
   ]
  },
  {
   "cell_type": "markdown",
   "id": "7851aed4",
   "metadata": {},
   "source": [
    "Svarbiausia - stengtis per Simono pamokas įsisavinti Simono patariamus sprendimo būdus, kurie atmintyje yra išliekantys daug ilgiau arba turi daug didesnį ryšį su kitomis temomis. Stengtis nespręsti tais pačiais ne visada veiksmingais metodais, o perimti naujus. Taip pat darbas turi vykti gyvai: uždavinių analizę ir taisyklių įsiminimo būdų paiešką reikia aktyviai daryti pačiam, neapsiriboti vien klasės ir namų darbų darymu.\n",
    "\n",
    "Norint iš uždavinių atrasti naudingus pastebėjimus, reikia turėti po ranka uždavinių rinkinius, todėl juos įkelsiu čia."
   ]
  },
  {
   "cell_type": "markdown",
   "id": "9a990021",
   "metadata": {},
   "source": [
    "## Pirmas uždavinių komplektas Pijui\n",
    "\n",
    "***Pagal Matematika Tau vadovėlio pirmus skyrius***\n",
    "\n",
    "1\\. Lietuvos lengvaatletis Virgilijus Alekna būdamas 18 metų diską numetė 52 m. 84cm., o 2000m. Jis tapo olimpinių žaidynių Sidnėjuje čempionu diską numetęs gerokai toliau. Šis nuotolis lygus 69m 30cm. Kiek toliau nukriejo Virgilijaus diskas 2000m., palyginti su ankstesniais?  \n",
    "2\\. Skaičių spindulyje nuo 0 iki 100000 pažymėtos penkios spalvinės dalys. Pirma, vidurinė ir paskutinė dalys yra dvigubai ilgesnės už likusias dvi. Kokie skaičiai yra pirmos dalies gale ir paskutinės dalies viduryje?  \n",
    "3\\. Lentelėje pateikiami LR aplinkos ministerijos nustatyti medžiojamų žvėrių duomenys. Pagal juos 2012m. buvo 250 medžiojamų vilkų, o palyginti su 2011m., šis skaičius sumažėjo 50. Tauriųjų elnių 2012m. buvo 25672, o palyginti su 2011m., šis skaičius padidėjo 2177. Kiek tauriųjų elnių buvo 2011 m.? Kiek vilkų buvo 2011 m?  \n",
    "4\\. Parduotuvėje liepa pirko 1500g. obuolių, 250g. saldainių, 500g. kriaušių ir 750g. sausainių. Kiek svėrė vaisiai - obuoliai ir kriaušės? Kiek svėrė saldainiai ir sausainiai? Kiek svėrė kiekvienas pirkinys?  \n",
    "5\\. Nuo 1929m. Iki 2015m. Ventės rago ornitologinės stoties darbuotojai kartu su talkininkais sužiedavo 104422 juodąsias, 122085 ilgauodeges, 13943 šiaurinės, 438204 mėlynąsias ir 487846 didžiąsias zyles. Kiek zylių buvo sužieduota 1929 - 2015m Ventės rago ornitologinėje stotyje?  \n",
    "6\\. Autobuso vairuotojas ryte į baką įpylė 120 l benzino. Iki pietų jis sunaudojo 48 l, o po pietų - 50 l. Kiek litrų benzino liko bake?  \n",
    "7\\. Sporto varžybose dalyvavo 52 mokiniai. 25 iš jų šoko į aukštį. 22 - į tolį, o visi kiti bėgo 100 m. Apskaičiuokite, kiek mokinių bėgo.  \n",
    "8\\. Iš dviejų stočių, tarp kurių yra 315 km. vienas priešais kitą išvyko du autobusai. Jie susitiko, kai vienas autobusas buvo nuvažiavęs 175 km. Kokį atstumą iki susitikimo nuvažiavo kitas autobusas?  \n",
    "9\\. Nuo Ignalinos iki Kauno yra 169 km., nuo Ignalinos iki Nidos - 423 km., o nuo Ignalinos iki Alytaus - 211km. Kiek kilometrų daugiau nuo Ignalinos iki Nidos, negu iki Kauno? Kiek kilometrų mažiau nuo Ignalinos iki Kauno, negu iki Alytaus?  \n",
    "10\\. Naujas automobilis kainuoja 12 100Eur, o toks pats, tik 3 metais senesnis - 4900Eur pigiau. Pirkėjas turi 13600Eur. Kokia senesnio automobilio kaina? Kiek pinigų liktų pirkėjui, jei jis pasirinktų naują automobilį? Jei pirktų trijais metais senesnį automobilį?  \n",
    "11\\. Krepšyje yra obuolių, kriaušių ir apelsinų. Iš viso yra 85 vaisiai, o iš jų - 25 apelsinai ir 37 kriaušės. Kiek krepšyje yra apelsinų ir kriaušių kartu? Kiek krepšyje yra obuolių?  \n",
    "12\\. Mokykloje sporto treniruotes lanko 248 mokiniai, o dailės būrelį - 67 mokiniais mažiau. Kiek mokinių lanko dailės būrelį?  \n",
    "13\\. Ignas skaitė 348 puslapių knygą . Pirmąją dieną jis perskaitė 135 puslapius, antrąją - 25 puslapiais daugiau. Kiek knygos puslapių Ignas perskaitė antrąją dieną? Kiek iš viso puslapių perskaitė Ignas? Kiek puslapių jam liko skaityti?  \n",
    "14\\. Bibliotekoje yra 43523 knygos, iš jų 38123 lietuvių kalba, 3865 - anglų, 523 - vokiečių, o visos kitos - kitomis kalbomis. Kiek knygų, parašytų kitomis kalbomis, yra bibliotekoje? Kiek knygų anglų kalba yra daugiau negu vokiečių kalba?  \n",
    "15\\. Orientavimosi sporto varžybose Šarūnas, ieškodamas punktų, nubėgo 1085 m, Rytis - 253 m daugiau už Šarūną, o Tomas - 48 m mažiau už Rytį ir Šarūną, jų nubėgtą kelią kartu sudėjus. Kiek nubėgo Rytis? Kiek nubėgo Tomas?  \n",
    "16\\. Laukas yra stačiakampio formos. Ilgoji jo kraštinė 1532m, t.y. 237 m. ilgesnė už plotį. Apskaičiuokite lauko plotį. Apskaičiuokite perimetrą.  \n",
    "17\\. Sode šeima pasodino 7 eiles vaismedžių po 15 medelių kiekvienoje eilėje. Kiek sode pasodinta vaismedžių? \t\n",
    "18\\. Per lietų į tuščią statinę, stovinčią po lietvamzdžiu, kiekvieną minutę pribėga po 8l vandens. Pro skylę statinėje kiekvieną minutę išteka po 3l vandens. Kiek litrų vandens bus statinėje praėjus 8 minutėms?  \n",
    "19\\. Gruodžio 2 dieną pasnigo. Nuo kitos dienos Lėja pradėjo lesinti paukščiukus savo lesyklėlėje. Kasdien ji paberdavo po 30 gramų saulėgražų. Vasario 26 dienos vakare sniegas jau buvo nutirpęs, tad nuo kitos dienos Lėja paukščiukų nebelesino. Žvelgdami į kalendorių apskaičiuokite, kiek gramų saulėgražų sulesino Lėja.  \n",
    "20\\. Izabelės namuose yra biblioteka - 39 knygų lentynos. Kiekvienoje lentynoje sudėta po 28 knygas. Kiek knygų yra Izabelės šeimos bibliotekoje?  \n",
    "21\\. Kiek para turi minučių? Kiek para turi sekundžių?  \n",
    "22\\. Savaitės pradžioje į parduotuvę atvežta 67 planšetiniai kompiuteriai (kaina 135 Eur), o savaitės pabaigoje - 41 planšetinis kompiuteris (kaina 150 Eur). Kiek parduotuvė gaus pinigų pardavusi visus šiuos kompiuterius?  \n",
    "23\\. Suaugusiojo širdis suplaka 70 kartų per minutę. Kiek kartų suplaka širdis per: valandą, parą, metus?  \n",
    "24\\. 2013 m. Lietuvos gyventojai augino 16521 žąsį, ančių 3 kartus daugiau negu žąsų, kalakutų 4 kartus daugiau negu ančių. Kiek 2013 m. gyventojai augino vištų, jei jų buvo 44 kartus daugiau negu kalakutų?  \n",
    "25\\. Šarūnas turi surinkęs 900 pašto ženklų. Kiekviename albumo puslapyje surikiuota po 25 pašto ženklus. Kiek albumo puslapių užpildyta?  \n",
    "26\\. 90 vienodų vadovėlių kainuoja 810 eurų. Kiek kainuoja vienas vadovėlis? Kiek tokių vadovėlių gali nupirkti mokykla, jei turi 360 eurų?  \n",
    "27\\. Vilija, pirmadienį gavusi 16 Eur kišenpinigių, antradienį pusę jų išleido, o trečiadfienį - ketvirtadalį likusių. Kiek pinigų Vilija teturi?  \n",
    "28\\. Meldinė nendriniukė yra vienas rečiausių migruojančių paukščių giesmininkų Europoje. 2011 m. Lietuvoje suskaičiuota apie 90 jų giedančių patinėlių, 2013 m. - vos 45, o 2015m. nustatytas akivaizdus šių paukščių pagausėjimas - net 135 giedantys patinėliai. Kiek kartų medinių nendrinukių sumažėjo nuo 2011 m. iki 2013 m.? Kiek kartų padidėjo nuo 2013 m. iki 2015 m.? Kiek meldinių nendrinukių būtų 2017 m., jei per 2015 - 2017 m. jų skaičius padidėtų tiek pat kartų, kiek per 2013-2015 m.?  \n",
    "29\\. Julijos brolis už kostiumą sumokėjo 144 Eur, už marškinius - 12 Eur. Kiek kartų kostiumas brangesnis už marškinius?  \n",
    "30\\. Pirmąją lengvosios atletikos varžybų dieną parduota 21 354 bilietai. Antrąją dieną - 6 kartus mažiau. Kiek bilietų parduota antrąją dieną? Kiek bilietų parduota per abi dienas?  \n",
    "31\\. Gabija nupirko 1950 g saldainių ir išdalijo po lygiai dvidešimt šešiems savo bendraklasiams. Po kiek gramų saldainių gavo kiekvienas mokinys?  \n",
    "32\\. Mokyklos sienoms dažyti sunaudota 82 vienodos dėžės geltonų dažų ir dar 14 kg mėlynų dažų - iš viso 342 kg. Kiek kilogramų dažų buvo kiekvienoje dėžėje?  \n",
    "33\\. 375cm. juostelė sudalyta 25cm ilgio gabalėliais. Kiek gauta trumpų juostelių? Kiek centimetrų juostelės liko?  \n",
    "34\\. Vairuotojui teko išvežioti 1753 kg kriaušių - po lygiai kilogramų į 36 parduotuves, o likusias nuvežti į senelių namus. Kiek kilogramų kriaušių pristatyta į kiekvieną parduotuvę? Kiek kilogramų kriaušių atvežta į senelių namus?  \n",
    "35\\. Angelė laiko keturias kanarėles. Vienai kanarėlei per dieną užtenka 7g įvairių sėklų mišinio. Mergaitė parduotuvėje nupirko lesalo. Dėžutė lesalo sveria 500 g. Kiek gramų lesalo reikia 4 kanarėlėms per dieną? Kiek dienų nupirkto lesalo užteks 4 kanarėlėms? Kiek gramų lesalo liks dėžutėje?  \n",
    "36\\. Danielė pirko dvi porcijas ledų. Ar gali jos pirkinys kainuoti 100 ct? 98 ct? 105 ct? 71 ct?  \n",
    "37\\. Lukas pirko penkis vienodus sąsiuvinius. Ar gali jo pirkinys kainuoti 200 ct? 125 ct? 88 ct? 5 ct?  \n",
    "38\\. Gėlininkė kasdien sukomponuodavo po tiek pat puokščių. Ar galėjo ji per pekias dienas sukomponuoti 76 puokštes? 125? 210? 5?  \n",
    "39\\. Paulius dešimčiai savo draugų padalijo saldainius po lygiai. Ar galėjo saldainių skaičius būti 100? 30? 25? 22?  \n",
    "40\\. Matematikos konkurse dalyvavo 105 pradinukai, o aukštesniųjų klasių mokinių buvo dukart daugiau. Kiek moksleivių dalyvavo matematikos konkurse?"
   ]
  },
  {
   "cell_type": "markdown",
   "id": "ce35cb3c",
   "metadata": {},
   "source": [
    "**Pijui atlikti mėlyna spalva pažymėtus uždavinius**"
   ]
  },
  {
   "cell_type": "code",
   "execution_count": 9,
   "id": "966aeb7e",
   "metadata": {},
   "outputs": [
    {
     "data": {
      "image/png": "[encoded data removed]",
      "text/plain": [
       "<Figure size 1152x432 with 1 Axes>"
      ]
     },
     "metadata": {
      "needs_background": "light"
     },
     "output_type": "display_data"
    }
   ],
   "source": [
    "draw_tasking(8, 40, colors={'seagreen':list(range(1, 21))+[23,24,28,29,30,40]}, docs=docs, extent=8, lfont=16)"
   ]
  },
  {
   "cell_type": "markdown",
   "id": "e7b8154b",
   "metadata": {},
   "source": [
    "## Antras uždavinių komplektas Pijui\n",
    "***Pagal Vergnaud ir Greer modelius***"
   ]
  },
  {
   "cell_type": "markdown",
   "id": "88ff2e57",
   "metadata": {},
   "source": [
    "1\\. Kiek kainuoja 12 sausainių, jei 4 sausainiai kainuoja 20 kronų?  \n",
    "2\\. Kiek kainuoja 12 sausainių, jei sausainis kainuoja 5 kronas?  \n",
    "3\\. Koks stačiakampio plotas, jei jo plotis 4 cm, o ilgis 5 cm?  \n",
    "4\\. Kelias poras galima sudaryti iš 4 mergaičių ir 5 berniukų grupės?  \n",
    "5\\. Kiek grūdų sulesa 12 vištų per 12 dienų, jei 4 vištos per 4 dienas sulesa 4 kg grūdų?  \n",
    "6\\. Aš noriu išdalinti 8 sausainius keturiems draugams lygiomis dalimis. Kiek gaus kiekvienas iš jų?  \n",
    "7\\. Aš padalinau 24 sausainius į lygias grupes po 3. Kiek grupių gavau?  \n",
    "8\\. Marius suvalgo po 4 guminukus per minutę. Kiek guminukų jis suvalgo per 7 minutes?  \n",
    "9\\. Mantas eina 6km/h greičiu. Kokią distanciją jis įveiks per 20 min?  \n",
    "10\\. Šiandien iš geografijos aš gavau 8, o iš matematikos 4 kartus mažiau. Kiek gavau iš matematikos?  \n",
    "11\\. Koks sąsiuvinyje nupiešto stačiakampio plotas, jei vienas jo kraštas eina per 8 langelių kraštines, o kitas - per 9?  \n",
    "12\\. Koks stačiakampio, kurio kraštinės yra 2.5cm ir 3.5cm plotas?  \n",
    "13\\. Jei kebabinė siūlo 2 skirtingų dydžių ir 3 rūšių kebabus bei 4 padažus, kelis skirtingus užsakymus galima padaryti?  "
   ]
  },
  {
   "cell_type": "markdown",
   "id": "b4849415",
   "metadata": {},
   "source": [
    "**Pijui atlikti mėlyna spalva pažymėtus uždavinius**"
   ]
  },
  {
   "cell_type": "code",
   "execution_count": 6,
   "id": "ccc52c90",
   "metadata": {},
   "outputs": [
    {
     "data": {
      "image/png": "[encoded data removed]",
      "text/plain": [
       "<Figure size 1512x144 with 1 Axes>"
      ]
     },
     "metadata": {
      "needs_background": "light"
     },
     "output_type": "display_data"
    }
   ],
   "source": [
    "draw_tasking(13, 13, colors={'seagreen':[1,2,3,6,7,8,10,11,12], 'red':[4,5,9,13], 'brown':[6]}, docs=docs)"
   ]
  },
  {
   "cell_type": "markdown",
   "id": "161f7575",
   "metadata": {},
   "source": [
    "Pijus neįveikė 4, 5, 9 ir 13 uždavinių. Tai reiškia, kad jam reikia gilinti žinias iš taip vadinamų *rate* problems (nueitas kelias arba atlikto darbas per laiką), panagrinėti atvejus su kartotiniu proporcingumu bei pasimokyti skaičiuoti kombinacijas. \n",
    "\n",
    "Sprendžiant uždavinius iškilo ir kitų nesklandumų. Pijus negalėjo išspręsti:\n",
    "\n",
    "* kiek maisto davinių per dieną priklauso 100 tūkst. kareivių, jei per dieną jam priklauso trys daviniai: pusryčių, pietų ir vakarienės (bandė 100 tūkst. dalinti iš 3). Vadinasi, pas Pijų šlubuoja taip pat ir grupavimo uždaviniai (kiekvieną daiktą **sudaro po** 6 dalis, kiek dalių yra iš viso?).   \n",
    "* uždavinių, kur naudojamas žodis **tenka** (pvz. vienam žmogui **tenka** trys daviniai). Reikia plėsti matematinių žodžių žodyną.  \n",
    "* ką daryti, kai skaičiai nesidalija (pvz. jei aš nueinu **per** valandą 6 kilometrus, kokią distanciją nueinu per minutę?). Gal būt reiktų stiprinti fizikinių išmatavimų suvokimą (kiek **trunka** 20 sekundžių, kaip **tankiai** gyvena žmonės Lietuvoje, kiek **erdvus** yra 50m$^2$ butas ir panašiai)\n",
    "\n",
    "Atsižvelgdamas į Pijaus silpnąsias vietas sudariau dar 5 uždavinius:\n",
    "\n",
    "1\\. Bulvių fabrike šiandien dirbo 30 žmonių, veikė 9 konvejeriai, o dar 2 buvo sugedę. Per šiandienos darbo dieną buvo sufasuota 54 tonos bulvių. Rytdieną įmonės direktorius ketina visus konvejerius paleisti 1.1 karto didesniu greičiu, paleisti abudu sutaisytus neveikiančius konvejerius ir pakviesti dirbti 49 darbuotojus vietoj 30. Kokio dydžio bulvių produkcijos jis gali tikėtis?  \n",
    "2\\. Vieną pusės kubo formos vonią baseino kranas pripildo per 5 minutes. Per kiek minučių šis kranas gali pripildyti vonią, kurios plotis, ilgis ir aukštis yra dvigubai didesni?  \n",
    "3\\. Atstumas tarp mano dėdės namų ir kaimo yra 20 kilometrų. Dėdė dažniausiai į kaimą važiuoju automobiliu ir jo vidutinis greitis būna 72 km/h, o aš važiuoju dviračiu ir mano vidutinis greitis būna 18 km/h. Kiek kilometrų aš įveikiu dviračiu, kol dėdė būna pasiekęs kaimą?  \n",
    "4\\. Mėnulyje visi daiktai dėl mažesnės traukos yra 6 kartus lengvesni, nei Žemėje. Astronautas kartus su skafandru Žemėje sveria 120 kg. Kokį savo svorį jis jaus Mėnulyje?  \n",
    "5\\. Maksimas vaikšto į krepšinio treniruotes ir sudarinėja trijų savaičių grafiką, kuriomis savaitės dienomis jis eis į treniruotę. Į savaitę jis eis po vieną kartą. Jo grafiko pavyzdys galėtų būti toks: pirmą savaitę jis eis antradienį, antrą - penktadienį, o paskutinę - antradienį. Kelis skirtingus vaikščiojimo į treniruotę grafikus jis gali sudaryti?  \n",
    "\n",
    "Iš šių 5 pateiktų uždavinių Pijui reikės padaryti visus:"
   ]
  },
  {
   "cell_type": "code",
   "execution_count": 9,
   "id": "cc4c544e",
   "metadata": {},
   "outputs": [
    {
     "data": {
      "image/png": "[encoded data removed]",
      "text/plain": [
       "<Figure size 936x144 with 1 Axes>"
      ]
     },
     "metadata": {
      "needs_background": "light"
     },
     "output_type": "display_data"
    }
   ],
   "source": [
    "draw_tasking(5, 5, colors={'lightblue': [1, 2, 3, 4, 5]}, docs=docs)"
   ]
  },
  {
   "cell_type": "markdown",
   "id": "9364d7c1",
   "metadata": {},
   "source": [
    "## Trečias uždavinių komplektas Pijui\n",
    "***Pagal 3 - 4 klasės Kengūros uždavinius,*** kurie visi gali būti sprendžiami aritmetiškai, bet kartais paprasčiau yra sudaryti lygtis.\n",
    "\n",
    "1\\. Ant vienos svarstyklių lėkštelės padėti 6 apelsinai, o ant kitos - 2 melionai. Kai padedame tokį pat trečią melioną prie apelsinų, svarstyklės pasidaro pusiausvyros. Kiek apelsinų svefia tiek pat, kiek vienas melionas?  \n",
    "2\\. Kvadratas, kurio kraštinė lygi 10 cm, perskeltas į du stačiakampius, kurių pločiai lygūs 3 cm ir 7 cm. Keliais centimetrais kvadrato perimetras yra didesnis už mažesniojo stačiakampio perimetrą?  \n",
    "3\\. Samanta ir Jolanta kartu turi 60 degtukų. Samanta paėmė tiek degtukų, kiek jų reikėjo sudėti trikampiui, kurio kiekvienos kraštinės ilgis yra šeši degtukai. Iš likusių degtukų Jolanta sudėjo stačiakampį, kurio vieną kraštinę taip pat sudarė šeši degtukai. Kiek degtukų buvo didesnėje stačiakampio kraštinėje?  \n",
    "4\\. Dvidešimt aštuoni mokiniai dalyvavo matematikos varžybose ir jų rezultatai buvo skirtingi. Skaičius mokinių, atsidūrusių už Tomo, buvo dvigubai didesnis už skaičių mokinių, kuriems pasisekė geriau už Tomą. Kelintą vietą užėmė Tomas?  \n",
    "5\\. Ant laido atsitūpė būrelis kregždžių. Vienu momentu 5 iš jų nuskrido, o po kurio laiko 3 parskrido atgal. Tada ant laido tupėjo 12 kregždžių. Kiek kregždžių atsitūpė ant laido iš pradžių?  \n",
    "6\\. Stačiakampį sudaro 4 eilutės po 6 langelius. Pirmoje eilutėje užtušuotas penktas langelis, antroje - pirmas, trečioje - trečias ir šeštas, o paskutinėje - trečias. Kiek kvadratėlių reikia užtušuoti, kad užtušuotų kvadratėlių būtų perpus mažiau negu neužtušuotų?  \n",
    "7\\. Marijos ir Petro klasės visi mokiniai sustojo į eilę. Už Marijos stovėjo 16 mokinių, tarp jų ir Petras. Prieš Petrą stovėjo 14 mokinių, tarp jų ir Marija. Tarp Marijos ir Petro stovėjo 7 mokiniai. Kiek mokinių mokosi toje klasėje?  \n",
    "8\\. Trys obuoliai ir du apelsinai sveria 255g. Du obuoliai ir trys apelsinai sveria 285g. Kiek gramų sveria vienas obuolys ir vienas apelsinas?  \n",
    "9\\. Karina rado knygą, iš kurios buvo išplėštas vienas gabalas. Atvertus tą vietą, kairėje buvo 24-as puslapis, o dešinėje - 45-as puslapis. Keli lapai buvo išplėšti iš knygos?  \n",
    "10\\. Tomas turi 147 eurus, o Simas 57 eurus. Kiek eurų Tomas turėtų duoti Simui, kad jam liktų dukart tiek pinigų, kiek turės Simas?  \n",
    "11\\. Loterijos bilietas kainavo 4 eurus. Trys vaikinai - Saulius, Petras ir Robertas susidėjo dviem bilietams. Saulius davė 1 eurą, Petras - 3 eurus, Robertas - 4 eurus. Vienam iš tų nupirktų bilietų atiteko 1000 eurų laimėjimas. Vaikinai laimikį pasidalino sąžiningai, t.y. pagal kiekvieno jų indėlį. Kiek eurų gavo Petras?  \n",
    "12\\. Jonas mėtė į taikinį strėlytes. Iš pradžių jis turėjo 10 strėlyčių. Už kiekvieną pataikymą į centrą Jonas gaudavo po dvi papildomas strėlytes. Kiek kartų jis pataikė į centrą, jei po 20 metimų strėlyčių nebeliko?  \n",
    "13\\. Vienoje ilgosios gatvės pusėje esančių namų numeriai yra 1, 3, 5, ..., 19, o kitoje pusėje esančių namų numeriai - 2, 4, 6, ..., 14. Kiek namų yra Ilgojoje gatvėje?  \n",
    "14\\. Lėktuvas skrenda pučiant pastovaus greičio vėjui. Naudodamas tiek pat galios, pavėjui jis gali skristi 650 km/h greičiu, o prieš vėją gali skristi 600 km/h greičiu. Koks vėjo greitis?"
   ]
  },
  {
   "cell_type": "markdown",
   "id": "22cb613f",
   "metadata": {},
   "source": [
    "**Pijui atlikti mėlyna spalva pažymėtus uždavinius**"
   ]
  },
  {
   "cell_type": "code",
   "execution_count": 7,
   "id": "67b8a2b4",
   "metadata": {},
   "outputs": [
    {
     "data": {
      "image/png": "[encoded data removed]",
      "text/plain": [
       "<Figure size 1080x216 with 1 Axes>"
      ]
     },
     "metadata": {
      "needs_background": "light"
     },
     "output_type": "display_data"
    }
   ],
   "source": [
    "draw_tasking(7, 14, colors={'lightgreen': [2, 3, 4, 6, 10], 'lightblue': [1, 5, 6, 7, 8, 9]}, docs=docs)"
   ]
  },
  {
   "cell_type": "markdown",
   "id": "4b94183c",
   "metadata": {},
   "source": [
    "## Ketvirtas uždavinių komplektas Pijui\n",
    "[Medžiagoje](https://github.com/loijord/matematikos_pamokos/blob/master/programa/Martynas/nezinomieji.pdf) aiškinama, kaip spręsti tekstinius uždavinius sudarant lygtis. Tačiau norint, kad tai pavyktų sėkmingai, reikėtų pasispręsti kitus uždavinius, kad būtų galima lengviau gaudytis sąryšiuose:\n",
    "\n",
    "![](reiskiniai.png)"
   ]
  },
  {
   "cell_type": "markdown",
   "id": "23eafebc",
   "metadata": {},
   "source": [
    "## Penktas uždavinių komplektas visiems\n",
    "1 - 4 uždaviniuose siūloma pabūti matematikos mokytojo vietoje. 5 - 8 užduotys - nestandartiniai uždaviniai iš pirmos klasės vadovėlio. 9 uždavinys pakliuvo į daugumą Kengūros grupių, pradedant trečiokais. 10 uždavinys paimtas iš 2020m. egzamino.\n",
    "\n",
    "1\\. Antrokas Darius kartoja atimtį stulpeliu:\n",
    "\n",
    "$\\begin{array}{r}\\underline{\\phantom{x}}52\\\\ \\underline{26}\\\\26 \\end{array}\n",
    "\\phantom{xxxxx}\n",
    "\\begin{array}{r}\\underline{\\phantom{x}}91\\\\ \\underline{79}\\\\12 \\end{array}$\n",
    "\n",
    "Kaip paaiškintumėte šią procedūrą antrokui? Ką jūsų manymu jis turi žinoti spręsdamas tokius uždavinius?\n",
    "\n",
    "2\\. Mokytoja pastebėjo, kad keli Pijaus klasės draugai penktoje klasėje daro tas pačias klaidas daugindami didelius dviženklius skaičius stulpeliu. Pavyzdžiui daugindami 123 x 645 vietoje teisingo metodo dešinėje jie užmiršta perkelti skaičius kiekviename stulpelyje ir gauna tokį atsakymą kaip kairėje.\n",
    "\n",
    "$\\begin{array}{r}_{x}123\\\\ \\underline{645}\\\\615\\\\ 492 \\\\ \\underline{\\phantom{X}738}\\\\ 1845\\end{array}\\phantom{xxxxx}\n",
    "\\begin{array}{r} _{x}123\\\\ \\underline{645}\\\\615\\\\ 492\\phantom{u} \\\\ \\underline{738\\phantom{uu}}\\\\ 79335\\end{array}$\n",
    "\n",
    "Kaip paaiškintumėte, kodėl kairėje pusėje pateiktas sprendimo būdas neteisingas ir ką darytumėte mokytojos vietoje?\n",
    "\n",
    "3\\. Šeštoje klasėje prasideda veiksmai su trupmenomis. Jūs esate geras mokytojas, todėl norite ne tik paaiškinti, kaip atlikti veiksmą, bet ir pateikti pavyzdį, kokiose situacijose jis pasitaiko. Kokį uždavinį sukurtumėte, norėdamas parodyti, kad jis sprendžiamas atliekant veiksmą $1\\frac{3}{4}\\div \\frac{1}{2}$?\n",
    "\n",
    "4\\. Tarkime, kad viena gabi moksleivė labai susidomėjo jūsų mokoma tema apie perimetrų ir plotų skaičiavimą. Ji tvirtina, kad atrado dalyką, apie kurį nepasakojote klasei. *Kai figūros perimetras didėja, plotas taip pat didėja*. Šį teiginį ji pailiustravo brėžiniu:\n",
    "\n",
    "<img src=\"discovery.png\" alt=\"drawing\" width=\"400\"/>\n",
    "\n",
    "Ką atsakytumėte moksleivei?\n",
    "\n",
    "5\\. Ugnė per dieną turi vidutiniškai po 7 pamokas. Kiek pamokų ji turi per savaitę?  \n",
    "6\\. Dviems samdomiems ūkio darbininkams, Laurynui ir Martynui, yra pavestas darbas nuravėti sklypo plotą, lygų 12 arų. Laurynas gali nuravėti 7 arus per 4 valandas, o Martynas - 5 arus per dvi valandas. Jiems abiems už darbą bus sumokėta po lygiai: po 180 kronų. Kaip darbininkai turi pasidalyti atlyginimą, kad dalybos būtų sąžiningos?  \n",
    "7\\. Kajus turi 16 riešutų, o Gerda 15. Kajus atidavė vieną riešutą Gerdai. Ar jie dabar turi po lygiai riešutų?  \n",
    "8\\. Iš dviejų dėžių išpilta 100 kaštonų. Kiek kaštonų galėjo būti kiekvienoje dėžėje?  \n",
    "9\\. Žūklėje Petras pagavo tiek pat žuvų, kaip ir jo sūnus Lukas. Jonas pagavo triskart daugiau žuvų, negu jo sūnus. Visi kartu jie pagavo 35 žuvis. Kiek žuvų pagavo Petras?  \n",
    "10\\. Buvo nupirkta $a$ knygų po $b$ eurų ir $b$ knygų po $a$ eurų. Kokia vidutinė vienos knygos kaina?"
   ]
  },
  {
   "cell_type": "markdown",
   "id": "25679760",
   "metadata": {},
   "source": [
    "## Šeštas uždavinių komplektas Mantui ir Ugnei\n",
    "[Atskiroje nuorodoje](https://nbviewer.org/github/loijord/matematikos_pamokos/blob/master/programa/Vilius/TU/TU.ipynb) dalinuosi:\n",
    "* Skirtingais modeliais, kas sudaro tekstinio uždavinio sprendimą\n",
    "* Kitų mokytojų pastabomis\n",
    "* 2015 - 2020m. tekstinių uždavinių sąlygomis iš egzamino ir statistine jų analize\n",
    "* 2014m., 2006m., 2005m., 2004m. egzaminų tekstinių uždavinių sąlygomis, abiturientų darbais ir jų kokybine analize\n",
    "\n",
    "Primenu, kad daugiau tekstinių uždavinių iš egzaminų prieinama per [ematematikas.lt](https://www.ematematikas.lt/egzaminai/) su VIP naryste"
   ]
  },
  {
   "cell_type": "markdown",
   "id": "b62c536e",
   "metadata": {},
   "source": [
    "## Septintas uždavinių komplektas Mantui ir Ugnei\n",
    "Pateikti uždaviniai yra paimti iš [ematematikas.lt](https://www.ematematikas.lt/egzaminai/) duomenų bazėje talpinamų visų 2002 - 2021 valstybinio egzamino uždavinių, kurie taip pat atitinka išeitas temas apie kvadratinius reiškinius. "
   ]
  },
  {
   "cell_type": "markdown",
   "id": "eabed93a",
   "metadata": {},
   "source": [
    "1\\. Tiesė $m$ eina per tašką $(-2; 3)$ ir yra lygiagreti su tiese $y=-2x+1$. Raskite tiesės $m$ lygtį (2021m., 1tšk.)\n",
    "\n",
    "2\\. Su kuria $a$ reikšme taškas $M(2; -1)$ priklauso tiesei $y=-4x+2a-7$? (2019m., 1tšk.)\n",
    "\n",
    "3\\. Kuriuose taške parabolės $y=(x-1)^2$ grafikas kerta koordinačių ašį $Oy$? (2018m., 1tšk.)\n",
    "\n",
    "4\\. Kokia turi būti $m$ reikšmė, kad taškas $A(0;1)$ priklausytų funkcijos $f(x)=(m−2)x+m−3$ grafikui? (2014m., 1tšk.)\n",
    "\n",
    "5\\. Apskaičiuokite skaitinę $p$ reikšmę, su kuria tiesė $x=−2$ būtų funkcijos $f(x)=x^2+px+3$ grafiko simetrijos ašis (2012m., 1tšk.)\n",
    "\n",
    "6\\. Nurodykite funkcijos $y=4x^2+4x+10$ reikšmių sritį. (2007m., 1tšk.)\n",
    "\n",
    "7\\. Įrodykite, kad su visomis realiosiomis $k$ reikšmėmis funkcijos $f(x)=(x−2)(x−3)−k^2$ grafikas kerta $Ox$ ašį dviejuose taškuose.\n",
    "\n",
    "8\\. Kurios parabolės viršūnė yra II ketvirtyje? $(x-1)^2-1$, $(x+2)^2+1$, $(x+2)^2-3$, $(x-4)^2$ ar $x^2-1$ (2006m., 1tšk.)\n",
    "\n",
    "9\\. Su kuriomis $a$ ($a \\neq 0$) reikšmėmis funkcijų $y=ax^2+6x+3$ ir $y=2x−a$ grafikai neturi bendrų taškų? (2006m., 3tšk.)\n",
    "\n",
    "10\\. Su kuriomis m reikšmėmis funkcija $y=mx^2−2mx+4$ įgyja tik teigiamas reikšmes? (2003m., 4tšk.)\n",
    "\n",
    "11\\. Nubrėžkite funkcijos $f(x)=−x^2+1$ grafiko eskizą (2016m., 1tšk.)\n",
    "\n",
    "12\\. Raskite funkcijos $f(x)=x^2+4x−5$ reikšmių sritį, kai $x\\in [−3;1]$ (2008m., 1tšk.)\n",
    "\n",
    "13\\. Užrašykite tiesės, einančios per taškus $A(2;0)$ ir $B(10;9)$, lygtį (2006m., 2tšk.)\n",
    "\n",
    "14\\. Pagal $y=f(x)$ [grafiką](https://www.desmos.com/calculator/dtten6wka9) nustatykite šios funkcijos reikšmių sritį. (2013m., 1tšk.)"
   ]
  },
  {
   "cell_type": "markdown",
   "id": "3ae85582",
   "metadata": {},
   "source": [
    "## Aštuntas uždavinių komplektas Mantui ir Ugnei\n",
    "Čia įkeliu kontrolinių darbų užduotis bei 01-17 pamokos pagr. taisyklių apžvalgą\n",
    "\n",
    "**Taisyklių rinkinys**  \n",
    "Parengtas pagal 01-17 dienos uždavinių aptarimą su Ugne\n",
    "\n",
    "|Teiginys|Iliustracija|\n",
    "|:---|:---|\n",
    "|A1. Trinaryje $ax^2+bx+c$ (arba $ax^2$) skaičius $a$ reguliuoja parabolės kryptį| [https://www.desmos.com/calculator/n7rnij8npr](https://www.desmos.com/calculator/n7rnij8npr)|\n",
    "|Turiu mintyje, į kurią pusę bus nukreipta parabolė (žemyn ar aukštyn)| [https://www.desmos.com/calculator/cj78svkc4h](https://www.desmos.com/calculator/cj78svkc4h)|\n",
    "|B. Kai skaičių $m$ pridedame prie kvadratinio trinario $ax^2+bx+c$,||\n",
    "|tai grafikas pasislenka per $m$ į viršų (kai $m>0$) arba per $m$ į apačią (kai $m<0$)|[https://www.desmos.com/calculator/cj78svkc4h](https://www.desmos.com/calculator/cj78svkc4h)|\n",
    "|C. Kai įstatome $x \\to n$, tai reiškinys $a(x-n)^2+m$ įgyja mažiausią reikšmę, nes $m$ yra fiksuotas, o||\n",
    "|$a(x-n)^2$ įgyja mažiausią reikšmę 0, kai $x$ yra $n$ (formos $(x-n)^2$ nario mažiausia reikšmė yra 0, kai $x$ yra $n$).||\n",
    "|D. Čia parodyta, kaip kvadratinį trinarį formos $ax^2+bx+c$ suvesti į reiškinį formos $a(x-n)^2+m$||\n",
    "|Iliustracijoje pavaizduota daug grafikų, kurie sutampa, nes visi reiškiniai yra lygūs (pertvarkymas vyksta pažingsniui)|[https://www.desmos.com/calculator/wdpebkhh4p](https://www.desmos.com/calculator/wdpebkhh4p)|\n",
    "|E. Norint nustatyti trinario $ax^2+bx+c$ viršūnes, tai galima padaryti dviem būdais:||\n",
    "|arba (1a) susivest į reiškinį $a(x-n)²+m$ ir (1b) iš to reiškinio pasakyti, kordinates (n, m)||\n",
    "|arba (2a) rasti $x$ koordinatę $x_0$ pagal formulę $-b/2a$ ir (2b) rasti $y$ reikšmę įstačius $x_0$ į $ax^2+bx+c$||\n",
    "|Pateiktoje iliustracijoje mėginama atlikti (2a) ir (2b) trinaryje $2x^2-4x+5$|[https://www.desmos.com/calculator/4xj1wbncku](https://www.desmos.com/calculator/4xj1wbncku)|\n",
    "|F. Tarkime turime $f(x) = ax^2+bx+c$, kaip sužinoti, kur šis grafikas kirs $x$ ir $y$ ašis?||\n",
    "|(a) Kai $x=0$, tai bus kertama $y$ ašis. $y$ randamas įstačius $x \\to 0$. Gaunasi $c$ šiuo atveju||\n",
    "|(b) Kai $y=0$, tai kertama $x$ ašis. Tada $x$ gaunamas išsprendus lygtį $ax^2+bx+c=0$||\n",
    "|Sankirtos su $x$ ir $y$ ašimis taškų nustatymo procesas yra visiškai toks pats, kai turime bet kurią kitokią išraišką. Pvz. $2x^2-4x$|[https://www.desmos.com/calculator/7bu7pjucuc](https://www.desmos.com/calculator/7bu7pjucuc)|\n",
    "|G. Kartais būna, kad (b) lygtis neturi sprendinių, nes $D=b^2-4ac<0$. Tai reiškia, kad $f(x)$ nekirs $x$ ašies|[https://www.desmos.com/calculator/cgww7hmp6v](https://www.desmos.com/calculator/cgww7hmp6v)|\n",
    "|H. Lygties $f(x)=0$ sprendiniai kai kur yra vadinami funkcijos $f$ nuliais||\n",
    "|Pvz. jei turime $f(x) = (x-1)(x+3)$, tai šios funkcijos nuliai bus 1 ir -3, nes su šiomis reikšmėmis $(x-1)(x+3) = 0$||\n",
    "|Funkcijos $f(x)$ nuliais dar galima laikyti $x$ reikšmes, su kuriomis $f(x)$ kerta $x$ ašį||\n",
    "|Funkcijos $f(x) = 2x^2-4x$ funkcijos nuliais yra pavaizuotų taškų $x$ koordinatės 0 ir 2|[https://www.desmos.com/calculator/7bu7pjucuc](https://www.desmos.com/calculator/7bu7pjucuc)|\n",
    "|Funkcijos $f(x) = 9x^2-6.25$ nuliais yra pavaizuotų taškų $x$ koordinatės $-5/6$ ir $5/6$|[https://www.desmos.com/calculator/me4myvagjt](https://www.desmos.com/calculator/me4myvagjt)|\n",
    "|I. Jei funkcijos $y = f(x)$ grafikas eina per tašką $(a; b)$, tai galioja lygybė $f(a)=b$||\n",
    "|J. Įprastai turint tokias išraiškas kaip $ax^{22} - b(x^2+c) - d/e$, nepriklausomai nuo jų sudėtingumo įprasta $x$ laikyti kintamuoju (dydžiu), o $a,b,c,d,e$ - parametrais / koeficientais||"
   ]
  },
  {
   "cell_type": "markdown",
   "id": "3ce2e710",
   "metadata": {},
   "source": [
    "**Kvadratinės funkcijos**\n",
    "\n",
    "1\\. Tiesė, einanti per koordinačių pradžios tašką, statmenai kertasi su kita tiese taške $(1; 2)$. Užrašykite abiejų tiesių lygtis (4)  \n",
    "2\\. Raskite funkcijos $-2x^2+5$ reikšmių sritį ir nustatykite funkcijos grafiko simetrijos ašį (2)  \n",
    "3\\. Nubraižykite funkcijos $g(x)=2x^2+4x+2$ grafiką. Nurodykite, kada $g(x)<0$ (5)  \n",
    "4\\. Paveikus tam tikru preparatu bakterijų koloniją, jų skaičius (tūkstančiais) po $t$ valandų apytiksliai lygus $N(t)= -19t^2+160t+400$ ($0\\le t \\le 7$). Po kiek valandų bakterijų kolonija nustos augusi ir ims nykti? (2)  \n",
    "5\\. Funkcijos išreikštos formulėmis $f(x)=10-2x$ ir $g(a)=2a+3$. Apskaičiuokite $f(2)+g(-1.5)$ (2)  \n",
    "6\\. Užrašykite parabolės lygtį, jei jos reikšmė lygi 1, kai $x=-1$, o jos didžiausia reikšmė yra 3, kai $x=-3$ (3)  \n",
    "7\\. Nebraižydami funkcijų $f(x)=6x^2-7x+2$ ir $g(x)=-2x$ grafikų, įrodykite, kad jie neturi bendrų taškų (2)  \n",
    "8\\. $x_1$ ir $x_2$ yra lygties $3x^2-8x-15$ sprendiniai. Nespręsdami lygties, apskaičiuokite $x_1^3+x_2^3$ (3)  \n",
    "\n",
    "**Funkcijos ir tekstiniai uždaviniai**\n",
    "\n",
    "1\\. Išspręskite: \n",
    "\n",
    "  (a) $\\displaystyle\\begin{cases}\\frac{2}{3}x-\\frac{1}{8}y-\\frac{1}{2}=0\\\\ -16x+3y=12\\end{cases}$(3)  \n",
    "  (b) $\\begin{cases}x+y+3z=12\\\\x-y+z=2\\\\ 2x+3y-z=5\\end{cases}$ (4)  \n",
    "2\\. Raskite tokį tiesės $35x+40y=675$ tašką, kad jo koordinatė būtų priešinga abscisei (3)  \n",
    "3\\. Motorinė valtis įveikia 240 km atstumą, plaukdama 3h pasroviui, o paskui 2h prieš srovę. Ta pati valtis per 3h prieš srovę nuplaukia 35 km daugiau, negu per 2h pasroviui. Raskite greitį, kuriuo ši valtis plaukia prieš srovę. (4)  \n",
    "4\\. Su kuria parametro $a$ reikšme tiesės $5x-2y-3=0$ ir $x+y-a$ turi vieną bendrą tašką? (3)  \n",
    "5\\. Atsukus tik šalto vandens čiaupą cisterna pripildoma 2h ilgiau, o atsukus tik karšto vandens čiaupą - 4.5h, negu cisterna būtų pripildyta atsukus abudu čiaupus. Per kiek laiko būtų pripildyta cisterna, jei atsuktume tik šalto vandens čiaupą? (4)  \n",
    "6\\. Duotos aibės $A=[-4;2)$, $B=(-2;3)$; $C=\\{-3; 2\\}$. Raskite $A\\bigcap B \\bigcup C$ (2)"
   ]
  },
  {
   "cell_type": "markdown",
   "id": "78bc4867",
   "metadata": {},
   "source": [
    "## Devintas uždavinių komplektas Mantui ir Ugnei\n",
    "***Uždaviniai bus paimti iš uždavinyno Matematika devintai klasei bei kontrolinio darbo.*** Čia pateikiu tik uždavinių sąlygas. Uždavinių aptarimas yra perkeltas [į kitą vietą](https://github.com/loijord/mokslas_2021/blob/main/Matematika/2022-03-06.ipynb). 35 - 38 uždaviniai - nesudėtingi."
   ]
  },
  {
   "cell_type": "markdown",
   "id": "a78dbb9b",
   "metadata": {},
   "source": [
    "Pateiksiu iliustraciją, kuri tinka pavaizduoti bet kurio elementaraus tekstinio uždavinio sprendimo procesą\n",
    "![](etu.png)"
   ]
  },
  {
   "cell_type": "markdown",
   "id": "ea196fa1",
   "metadata": {},
   "source": [
    "32\\. Turistas ėjo iš poilsiavietės į artimiausią geležinkelio stotį. Per pirmą valandą jis įveikė 3km. Tada jis sumetė, kad eidamas tokiu greičiu ir toliau, į traukinį pavėluotų 40 minučių, o eidamas 4km/h greičiu, ateitų 45 minutėmis anksčiau. Apskaičiuokite poilsiavietės atstumą iki geležinkelio stoties.  \n",
    "33\\. Tam tikrą darbą dirbo du nevienodos kvalifikacijos darbininkai, kuriems buvo mokamas skirtingas atlyginimas. Pirmasis uždirbo 240 eur, o antrasis, kuris dirbo 3 dienomis mažiau už pirmąjį - 144 eur. Jeigu antrasis būtų dirbęs tiek dienų, kiek antrasis, o pirmasis - tiek dienų, kiek antrasis, tai pirmasis būtų gavęs 12 eur daugiau už antrąjį. Kiek dienų dirbo kiekvienas darbininkas?  \n",
    "34\\. Pirmasis siurblys, veikdamas atskirai, pripildo baseiną 3h greičiau už antrąjį. Baseinui pripildyti buvo paleisti du siurbliai, bet po 10h pirmasis siurblys buvo išjungtas ir baseiną pripildyti baigė antrasis siurblys už 5h 45min. Per kiek laiko baseiną pripildo kiekvienas siurblys, veikdamas atskirai?  \n",
    "35\\. Laivas nuplaukė 36km pasroviui ir grįžo atgal. raskite savąjį laivo greitį, jei upės tėkmės greitis yra 3km/h, o laivo kelionė atgal truko valanda ilgiau, nei kelionė pirmyn.  \n",
    "36\\. Motorinė valtis nuplaukė 16km prieš srovę ir grįžo atgal. Raskite valties savąjį greitį, jei upės tėkmės greitis yra 2km/h, o kelionė atgal truko valanda trumpiau, nei kelionė pirmyn.  \n",
    "37\\. Kateris nuplaukė pasroviui iš vienos prieplaukos į kitą. Kad grįžtų atgal per tokį pat laiką, kateris turėjo padidinti savąjį greitį 4km/h. Raskite upės tėkmės greitį.  \n",
    "38\\. Kateris nuplaukia 34km  upe pasroviui per tokį patį laiką, kaip ir 26km prieš srovę. Katerio savasis greitis yra 15km/h. Raskite upės tėkmės greitį.  \n",
    "39\\. Du skirtingos keliamosios galios automobiliai gali pervežti krovinį per 8h. Per kiek valandų gali pervežti krovinį mažesnės keliamosios galios automobilis, jeigu jis, perveždamas krovinį vienas, užtrunka 30h ilgiau negu kitas - didesnės keliamosios galios automobilis?  \n",
    "40\\. Dvi brigados, dirbdamos kartu, gali suremontuoti kelią per 6 valandas. Per kiek laiko gali atlikti užduotį pirmoji brigada, jeigu ji turi daugiau darbininkų ir gali atlikti darbą 16h greičiau, negu antroji brigada?  \n",
    "41\\. Lengvasis automobilis 90km nuvažiavo 15min greičiau, negu tą patį atstumą autobusas. Lengvojo automobilio greitis 12km/h didesnis už autobuso greitį. Kiek laiko važiavo autobusas?  \n",
    "42\\. Motociklininkas 100km nuvažiavo 1h 40min greičiau negu dviratininkas. Motociklininko greitis 30km/h didesnis už dviratininko greitį. Kiek laiko važiavo dviratininkas?"
   ]
  },
  {
   "cell_type": "markdown",
   "id": "d591117c",
   "metadata": {},
   "source": [
    "## Dešimtas uždavinių komplektas Mantui\n",
    "Visi 9 - 12 klasės uždaviniai prieinami svetainėje [http://mif.vu.lt/matematikos-olimpiados/](http://mif.vu.lt/matematikos-olimpiados/). Čia atrinkti tik tie uždaviniai, su kurių sprendimu į licėjų einantys devintokai yra susidūrę: lygtys, lygčių sistemos, nelygybės ir elementaresni tekstiniai uždaviniai. Uždavinių sąlygas ir sprendimus galima rasti *Lietuvos mokinių matematikos olimpiados 2010 - 2020\n",
    "rajono etapo užduočių ir sprendimų* [knygutėje](http://mif.vu.lt/matematikos-olimpiados/lmmo/rajono-miesto-etapas/)\n",
    "\n",
    "1\\. [2010 m., rajono etapas, 11-12kl.] Išspręskite lygčių sistemą: $\\begin{cases}2x^2-2x+2=y+z \\\\ 2y^2-2y+2=z+x \\\\ 2z^2-2z+2=x+y\\end{cases}$  \n",
    "2\\. [2011 m., rajono etapas, 11-12kl.] Karlsonas Mažylio gimtadienį šventė dvi dienas ir Mažylis jį vaišino\n",
    "uogiene bei tortu. Antrąją dieną Mažylis davė Karlsonui daugiau uogienės ir mažiau\n",
    "torto nei pirmąją, bet Karlsono per dieną suvalgyto maisto svoris nepakito. Karlsonas\n",
    "su apmaudu nustatė, kad jei antrąją dieną Mažylis uogienės kiekį (kilogramais) būtų\n",
    "padidinęs tiek nuošimčių, keliais jis sumažino torto kiekį, o torto kiekį sumažinęs tiek\n",
    "nuošimčių, keliais padidino uogienės kiekį, tai bendras Karlsono suvalgyto maisto svoris\n",
    "būtų padidėjęs 50%. Dar daugiau, jei antrąją dieną Mažylis būtų uogienės kiekį padi-\n",
    "dinęs tiek kartų, kiek jis sumažino torto kiekį, o torto kiekį sumažinęs tiek kartų, kiek\n",
    "jis padidino uogienės kiekį, tai bendras maisto svoris būtų padidėjęs net 220%. Keliais\n",
    "nuošimčiais antrąją dieną Mažylis iš tiesų padidino uogienės kiekį palyginti su pirmąja\n",
    "diena?  \n",
    "3\\. [2011 m., Vilniaus m., 11-12kl.] Išspręskite lygčių sistemą: $\\begin{cases}2x = u^2 − 23 \\\\ 4y = x^2 + 7 \\\\ 6z = y^2 + 14 \\\\ 8t = z^2 + 23 \\\\ 10u = t^2 + 34\\end{cases}$  \n",
    "4\\. [2012 m., rajono etapas, 9-10kl.] Realieji skaičiai $a$, $b$ ir $c$ yra tokie, kad su visais realiaisiais skaičiais $x$ teisinga lygybė $x^3+ax^2+bx+c = (x + 2)(2x^2 + 2x + 2011) − (x + 1)(x^2 + x + 1)$. Raskite reiškinio $a-b+c$ reikšmę.  \n",
    "5\\. [2012 m., rajono etapas, 9-10kl.] Išspręskite lygtį $\\displaystyle\\frac{1}{x(x+8)}-\\frac{1}{(x+4)^2}=\\frac{4}{9}$\n",
    "\n",
    "6\\. [2013 m., rajono etapas, 9-10kl.] Realieji skaičiai $x$ ir $y$ tenkina lygtį $(x+y)^2=(x+2013)(y-2013)$\n",
    "\n",
    "    (a) Raskite bent vieną šios lygties sprendinį.  \n",
    "    (b) Raskite visus šios lygties sprendinius\n",
    "    \n",
    "7\\. [2013 m., rajono etapas, 9-10kl.] Realieji skaičiai $x$ ir $y$ tenkina lygybes\n",
    "\n",
    "  $x^3 − 3x^2 + 5x − 17 = 0$ ir $y^3 − 3y^2 + 5y + 11 = 0$.\n",
    "  \n",
    "  Raskite visas galimas sumos $x+y$ reikšmes\n",
    "\n",
    "8\\. [2013 m., rajono etapas, 11-12kl.]\n",
    "(a) Ar lygtis $\\displaystyle\\frac{3x^2 + 16xy + 15y^2}{x^2+y^2}=21$ turi sprendinių?  \n",
    "  (b) Raskite didžiausią reiškinio $\\displaystyle\\frac{3x^2 + 16xy + 15y^2}{x^2+y^2}$ reikšmę.  \n",
    "  (c) Stačiojo trikampio statinių ilgiai $u$ ir $v$ bei reiškinio $\\displaystyle\\frac{ux^2+vxy}{x^2+y^2}$ didžiausia reikšmė $M$ yra natūralieji skaičiai. Įrodykite, kad trikampio įžambinės ilgis taip pat yra natūralusis skaičius (Čia x ir y visur yra bet kokie realieji skaičiai, kuriems reiškiniai apibrėžti).  \n",
    "9\\. [2014 m., rajono etapas, 9-10kl.] Realieji skaičiai $x$ ir $y$ tenkina lygybes $xy = 10$ ir $(x + 1)(y + 1) = 20$. Kam lygi reiškinio $(x + 2)(y + 2)$ reikšmė?  \n",
    "10\\. [2014 m., rajono etapas, 9-10kl.] Išspręskite lygčių sistemą: $\\begin{cases}x+xy+x^2=9 \\\\ y+xy+y^2=-3\\end{cases}$  \n",
    "11\\. [2014 m., rajono etapas, 11-12kl.] Realieji skaičiai x ir y tenkina lygybę $x^2 + 2xy + y^2 + x + y − 2 = 0$. Raskite visas galimas reikšmes, kurias gali įgyti reiškinys $x^3+y^3$  \n",
    "12\\. [2015 m., rajono etapas, 9-10kl.] Penkių iš eilės einančių natūraliųjų skaičių sekoje pirmųjų trijų skaičių\n",
    "kvadratų suma lygi paskutiniųjų dviejų skaičių kvadratų sumai. \n",
    "\n",
    "    a) Raskite bent vieną tokį rinkinį. \n",
    "    b) Ar yra daugiau tokių rinkinių?  \n",
    "    \n",
    "13\\. [2016 m., rajono etapas, 9-10kl.] Įrodykite, kad su visais teigiamais skaičiais $a$ ir $b$ teisinga nelygybė $\\displaystyle\\frac{a+b}{1+a+b}<\\frac{a}{1+a}+\\frac{b}{a+b}$.  \n",
    "14\\. [2016 m., rajono etapas, 11-12kl.] Kai piemens paklausė, kiek jis augina avių, ožkų ir asilų, jis atsakė:\n",
    "„Jei pusė mano avių virstų asilais, ožkų turėčiau dvigubai daugiau nei asilų. Jei pusė\n",
    "mano asilų virstų ožkomis, ožkų turėčiau penkiomis daugiau nei avių. Jei pusė mano\n",
    "ožkų virstų avimis, tai avių turėčiau septynis kartus daugiau nei asilų.” Kiek iš viso\n",
    "gyvūnų augina piemuo?  \n",
    "15\\. [2017 m., rajono etapas, 9-10kl.] Vienos kelionės metu traukinys 80 m ilgio tuneliu važiavo 8 sekundes,\n",
    "o vėliau 140 m ilgio tuneliu – 11 sekundžių. Nustatykite traukinio ilgį. (Traukinio\n",
    "greitis pastovus. Važiavimo tuneliu trukmė skaičiuojama nuo traukinio įvažiavimo į\n",
    "tunelį pradžios iki išvažiavimo iš tunelio pabaigos.)  \n",
    "16\\. [2017 m., rajono etapas, 9-10kl.] Raskite lygčių sistemos $\\begin{cases} 26x^2+5y^2+29z^2=20xy+4xz+10yz \\\\ x^3+y^3+z^3 = 1072 \\end{cases}$ visus realiuosius sprendinius $(x, y, z)$  \n",
    "17\\. [2017 m., rajono etapas, 11-12kl.] Vienos kelionės metu traukinio kelyje pasitaikė du tuneliai. Pirmuoju\n",
    "jis važiavo 8 sekundes, o antruoju, kuris buvo 75% ilgesnis, jis važiavo 11 sekundžių.\n",
    "Kitas traukinys buvo 5% greitesnis už pirmąjį traukinį ir antruoju tuneliu važiavo 10\n",
    "sekundžių. Raskite traukinių ilgių santykį. (Traukinių greičiai pastovūs. Važiavimo\n",
    "tuneliu trukmė skaičiuojama nuo traukinio įvažiavimo į tunelį pradžios iki išvažiavimo\n",
    "iš tunelio pabaigos.)  \n",
    "18\\. [2017 m., rajono etapas, 11-12kl.] Viename užsienio mieste viešojo transporto bilietas galioja 7 dienas\n",
    "arba 30 dienų. Bilietas atitinkamai kainuoja 7 Eur 3 ct arba 30 Eur. Studentas ketina\n",
    "mieste išbūti 3 metus, t. y. 1096 dienas, o viešuoju transportu naudotis kasdien. Kiek\n",
    "mažiausiai pinigų jis gali išleisti bilietams?  \n",
    "19\\. [2019 m., rajono etapas, 9-10kl.] Raminta ir Gerda pasiėmė po krūvelę monetų ir 20 kartų keitėsi monetomis. Pirmieji 10 apsikeitimų buvo tokie: Raminta Gerdai atiduodavo trečdalį tuo metu savo turimų monetų, o Gerda Ramintai atiduodavo du trečdalius tuo metu savo turimų monetų. Likusių 10 apsikeitimų metu Raminta Gerdai atiduodavo tris penktadalius tuo metu savo turimų monetų, o Gerda Ramintai – du penktadalius. Kaskart mergaitės atiduodavo viena kitai monetas tuo pačiu metu (o ne viena po kitos). Pabaigoje Raminta turėjo 72 monetas. Kiek monetų turėjo Gerda po penktojo apsikeitimo?  \n",
    "20\\. [2020 m., rajono etapas, 9-10kl.] Raskite lygčių sistemos $\\begin{cases} x^2 + 3xy − 3x = −27 \\\\ y^2 − xy − 3y = 25 \\end{cases}$ visus realiuosius sprendinius $(x, y)$  \n",
    "21\\. [2020 m., rajono etapas, 11-12kl.] Dviračių lenktynėse keli dviratininkai važiavo gulsčiąja trasos dalimi\n",
    "tuo pačiu pastoviu 40 km/h greičiu. Jų sudaromos vilkstinės ilgis buvo 200 m. To-\n",
    "limesnė trasos dalis yra įkalnė, todėl joje kiekvienas iš vilkstinės dviratininkų važiavo\n",
    "pastoviu 24 km/h greičiu. Koks buvo vilkstinės ilgis, kai visi šie dviratininkai važiavo\n",
    "įkalne?  \n",
    "22\\. [2020 m., rajono etapas, 11-12kl.] Apskaičiuokite $\\displaystyle\\frac{64^x + 729^x}{144^x + 324^x}$, jei $\\displaystyle\\frac{8^x + 27^x}{12^x + 18^x}=5$"
   ]
  },
  {
   "cell_type": "markdown",
   "id": "54c56a4b",
   "metadata": {},
   "source": [
    "## Vienuoliktas uždavinių komplektas Ugnei\n",
    "[Stojamųjų į licėjų užduotys](https://github.com/loijord/matematikos_pamokos/blob/master/programa/Mantas/stojamieji/files/licejus_uzduotys/licejus_uzduotys.ipynb)"
   ]
  },
  {
   "cell_type": "markdown",
   "id": "1646d4ea",
   "metadata": {},
   "source": [
    "# Vertingos nuorodos mokantis matematiką"
   ]
  },
  {
   "cell_type": "markdown",
   "id": "a16bf136",
   "metadata": {},
   "source": [
    "**Tai, kas yra internete:**\n",
    "\n",
    "* [https://www.ematematikas.lt/](https://www.ematematikas.lt/) - įsivertinimo testų ir 20 metų egzamino uždavinių bazė\n",
    "* [https://matematika.lt/](https://matematika.lt/) - vaizdo įrašai: matematikos pamokos ir 2014 - 2021 m. egzaminų sprendimai\n",
    "* [https://mat.lt/](https://mat.lt/) - 2013 - 2021 m. egzaminų sprendimai, matematikos ir fizikos formulės bei išmaniosios skaičiuoklės\n",
    "* [nec.lt](www.nec.lt/) - pagrindinis Lietuvos tinklalapis, kuriame talpinama visa medžiaga apie egzaminus:  \n",
    "  * [Buvusių egzaminų pavyzdžiai](https://www.nec.lt/712/)  \n",
    "  * [Buvusių egzaminų statistinės analizės](https://www.nec.lt/714/)  \n",
    "  * Buvusių egzaminų kokybinės analizės: [2014m.](https://www.nec.lt/438/), [2006m.](https://www.nec.lt/73/), [2005m.](https://www.nec.lt/74/), [2004m.](https://www.nec.lt/75/)\n",
    "  * [Buvusių egzaminų vertinimo instrukcijos](https://www.nec.lt/716/)  \n",
    "  * [VBE reikalavimai](https://nec.lt/failai/7182_priedas_nr_1-mat.pdf)  \n",
    "* [https://www.desmos.com/](https://www.desmos.com/) - funkcijų braižyklė\n",
    "* [https://www.wolframalpha.com/](https://www.wolframalpha.com/) - greitas bet kurio algebrinio uždavinio išsprendimas (be paaiškinimų)\n",
    "* [https://universalmathsolver.com/](https://universalmathsolver.com/) - įvairių algebros uždavinių automatizuotas pažingsninis sprendimas\n",
    "* [https://phet.colorado.edu/](https://phet.colorado.edu/) - matematikos, fizikos, chemijos ir biologijos procesų interaktyvios simuliacijos bei žaidimai\n",
    "* [https://www.geogebra.org/classic](https://www.geogebra.org/classic) - geometrijos figūrų ir funkcijų grafikų braižymo kompiuteriu priemonė\n",
    "* [https://www.geogebra.org/materials](https://www.geogebra.org/materials) - įvairių vartotojų įkeltos simuliacijos, skirtos vizualiai paaiškinti algebros ir geometrijos procesus\n",
    "* [https://www.euclidea.xyz/](https://www.euclidea.xyz/) - matematinis žaidimas, skirtas lavinti geometrijos įgūdžiams"
   ]
  },
  {
   "cell_type": "markdown",
   "id": "4ad25af5",
   "metadata": {},
   "source": [
    "# Kodėl gali nesisekti ir ką daryti?\n",
    "* [Problemos su matematikos ugdymu](https://www.facebook.com/rimas.norvaisa/posts/1964118053816795) - nieko (mes nekalti) arba stengtis pažinti problemas ir kas padėtų.\n",
    "  * [Simonas M.: kodėl matematikos mokymasis yra sunkus?](https://www.lrytas.lt/it/laboratorija/2021/04/18/news/didziausias-mokiniu-priesas-kodel-mokykline-matematika-yra-tokia-sunki--19030538)\n",
    "  * [Rimas N.: kas yra matematikos turinio gilinimas ir kaip mokiniui įmanoma suprasti matematiką?](https://norvaisa.lt/matematika/mokykline-matematika/mokyklines-matematikos-turinio-gilinimas-kaip-tai-imanoma/)\n",
    "  * [Rimas N.: matematikos mokymas – laike įstrigęs pasaulis](http://norvaisa.lt/wp-content/uploads/2012/07/laike-istriges-pasaulis.pdf)\n",
    "* Per didelis krūvis. Gal būt reikėtų pasižiūrėti paskaitą, kaip geriau išnaudoti smegenų resursus mokymuisi?\n",
    "  * [Paskaitų ciklas, kaip optimaliai mokytis bet kurį dalyką](https://www.coursera.org/learn/learning-how-to-learn)\n",
    "  * [Kaip psichologų žinios yra taikomos tiriant matematikos mokymąsi?](https://github.com/loijord/General/blob/master/READING/developmental_stages/vystymosi%20%C4%AFtaka%20matematikos%20mokymuisi.pdf)\n",
    "* Kartojasi kvailos klaidos - siūlau nepergyventi, jų apmažės su laiku savaime dirbant sistemingai. Galima remtis Sweller'io pažintinės įkrovos teorija:\n",
    "  * [Kodėl atsiranda klaidos ir ką su jomis daryti](https://theconversation.com/why-students-make-silly-mistakes-in-class-and-what-can-be-done-48826)\n",
    "  * [Labiau išplėtoti šios teorijos taikymai švietime](sweller/sweller.ipynb)\n",
    "* Kyla nervas, kad neišsisprendžia. Tai yra natūrali reakcija į nesisekančius dalykus. Ilgainiui išsivysto reiškinys, vadinamas *mathematical anxiety*, kai uždavinio sprendimo tikslu tampa ne smalsumas, o pajusti palengvėjimą išsprendus, išvengti nerimo. Kol kas nesu pateikęs santraukos, bet esminė mintis yra ta, kad požiūrį į matematikos mokymąsi lemia tai, kaip mums pavyks išspręsti tam tikrus konfliktus, kylančius tarp to, ką išmokome ir to, ko nepavyksta paaiškinti anksčiau išmoktomis žiniomis.\n",
    "  * [Plačiau apie tai, kokius konfliktus sprendžiame mokymosi metu](https://github.com/loijord/matematikos_pamokos/blob/master/programa/Martynas/naujimetai/review.pdf)\n",
    "* Nemoku/neatsimenu/nežinau, kaip spręsti toliau. Pirma, gebėjimas atrasti sprendimą, kai jis nėra iš anksto žinomas ir nėra instrukcijų, kuo remtis, ateina su uždavinių sprendimo patirtimi. Antra, vien mokymasis atlikti matematines procedūras nėra pakankamas susidaryti tvirtoms struktūroms ilgojoje atmintyje, todėl reikėtų daugiau dėmesio skirti matematinės kalbos lavinimui.\n",
    "  * **G. Polya - How to solve it** knygoje įvardijama, kas įeina į uždavinių sprendimo patirtį. Knygos santrauka pateikiama žemiau. Pastaba: *tokie gebėjimai ypač lavinami Kengūros konkurse*\n",
    "  * Matematinė kalba: [sąvokų žodynėlis](https://github.com/loijord/matematikos_pamokos/blob/master/programa/Nojus/stojamieji/s%C4%85vok%C5%B3_%C5%BEodyn%C4%97lis.ipynb)\n",
    "  * Matematinė kalba: [kaip teisingai formuluoti sąvokas ir jomis naudotis?](https://github.com/loijord/matematikos_pamokos/blob/master/programa/Martynas/naujimetai/santrauka.pdf)\n",
    "  * Tekstiniai uždaviniai: [kaip skaityti paprasčiausių tekstinių uždavinių sąlygas?](https://github.com/loijord/matematikos_pamokos/blob/master/programa/Martynas/zodinis.pdf)\n",
    "  * Tekstiniai uždaviniai: [tekstinių uždavinių sandaros tyrimai](https://nbviewer.org/github/loijord/matematikos_pamokos/blob/master/programa/Vilius/TU/TU.ipynb)"
   ]
  },
  {
   "cell_type": "markdown",
   "id": "c83b758e",
   "metadata": {},
   "source": [
    "# How to Solve It\n",
    "\n",
    "|||\n",
    "|:---|:---|\n",
    "|UŽDAVINIO SUPRATIMAS|Kokį nežinomąjį reikia rasti? Kokie duomenys duoti? Kokia sąlyga? Ar įmanoma ją išpildyti? Ar sąlyga pakankama rasti nežinomajam, ar nepakankama? O gal perteklinė ar prieštaringa? Nusibrėžkite iliustraciją. Pasirinkite tinkamus žymėjimus. Išskirkite atskiras sąlygos dalis. Ar įmanoma jas užrašyti?|\n",
    "|PLANO SUDARYMAS|Ar uždavinys prieš tai matytas? Arba matytas truputį kitoks uždavinys? Ar žinai giminingą uždavinį arba naudingą teoremą, kuri būtų naudinga? Pasižiūrėk į kintamąjį. **Pabandyk sugalvoti pažįstamą uždavinį, turintį tą patį ar panašų nežinomąjį. Tarkim radai panašų prieš tai išspręstą uždavinį. Ar gali juo pasinaudoti? Ar gali panaudoti jo rezultatą, sprendimo metodą?** Ar reikia įvesti papildomą elementą į turimą sprendimą, kad pavyktų juo pasinaudoti? Ar gali kitaip suformuluoti uždavinį? Arba dar kitaip? Grįžk prie apibrėžimų. Jei negalui išspręsti uždavinio, pradėk nuo susijusio uždavinio. Ar įsivaizduoji artimesnį susijusį uždavinį? Konkretesnį uždavinį? Analogišką uždavinį? Pabandyk spręsti tik vieną sąlygos dalį nenagrinėdamas kitos. Kaip tada apibrėžtas nežinomasis ir kaip jis gali keistis? Ae gali išvesti ką nors naudingo iš šių duomenų? Ar gali sugalvoti kitus duomenis apibrėžti šiam nežinomajam. Ar gali pakeisti nežinomąjį, arba duomenis, arba abu, kad nežinomasis būtų labiau susijęs su duomenimis? Ar panaudojai visus duomenis? Ar pasinaudojai visomis esminėmis mintimis, įtrauktomis į uždavinį?|\n",
    "|PLANO VYKDYMAS|Vykdydamas sprendimo planą patikrink kiekvieną žingsnį. Ar esi tikras, kad kiekvienas žingsnis teisingas, ar gali paaiškinti, kodėl teisingas?|\n",
    "|SPRENDIMO APŽVALGA|Ar gali patikrinti rezultatą? Ar gali patikrinti įrodymą? Ar gali gauti rezultatą kitu būdu? Ar kitas būdas matomas akimirksniu? Ar gali pasiremti rezultatu arba sprendimo metodu kituose uždaviniuose?|"
   ]
  },
  {
   "cell_type": "markdown",
   "id": "0d4b7911",
   "metadata": {},
   "source": [
    "# Literatūra\n",
    "\n",
    "* **G. Polya. How to Solve It**\n",
    "\n",
    "*Knygoje nagrinėjama, iš kokių etapų susidaro kiekvieno uždavinio sprendimas nepriklausomai nuo uždavinio turinio (27 eur)*\n",
    "\n",
    "* **D. Tall. How humans learn to think mathematically**\n",
    "\n",
    "*Knygoje apibendrinamos naujausios matematinės studijos apie matematikos mokymosi procesus. Detalesnė apžvalga - faile [review.pdf](review.pdf)*\n",
    "\n",
    "* **D. O'bryan. Atminties galimybės**\n",
    "\n",
    "*Knygoje aptariamos įsiminimo technikos, kurias naudojo pasaulio atminties čempionatų 8x čempionas (10 eur)*\n",
    "* **Vilius Stakėnas. Matematinės istorijos skiautiniai**\n",
    "\n",
    "*Knygoje pristatoma matematikos istorija: kokia ji buvo, kaip gyveno ją kūrę matematikai, kaip veikė jų protai, kaip buvo atrastos matematinės idėjos (18 eur arba pasiskolinti iš bibliotekos)*\n",
    "\n",
    "* **David G. Myers - Psichologija** [nuoroda atsisiuntimui](https://www.dropbox.com/s/vyghsx7k1ivd86g/David%20G.%20Myers%20Psichologija%202008.pdf?dl=0)\n",
    "\n",
    "*Tai 1000 puslapių ilgio psichologijos pamatai. Artimiausios mokymuisi temos - elgesio ir pažinimo procesai, smegenų veikla, intelektas, motyvacija, kūrybiškumas ir kt. (12 eur arba pasiskolinti iš bibliotekos)*\n",
    "\n",
    "* **Liping Ma - Knowing and Teaching elementary mathematics** [nuoroda atsisiuntimui](https://www.dropbox.com/s/w0m9haikka8trpq/tuxdoc.com_liping-ma-knowing-and-teaching-elementary-mathematics-teachers-understanding-of-fundamental-mathematics-in-china-and-the-united-states.pdf?dl=0)\n",
    "\n",
    "*Knygoje atliekamas kokybinis tyrimas, kuriame lygina Kinijos ir Amerikos matematikos mokytojų žinių skirtumus. Knygoje pateikiama, kuo skiriasi teisingas matematinių procedūrų aiškinimas nuo neteisingo, sudaromas bendras vaizdas apie sąvokinį matematikos supratimą. (nuo 10 eur)*\n",
    "\n",
    "* **Learning How to Learn: Powerful mental tools to help you master tough subjects** [nuoroda](https://www.coursera.org/learn/learning-how-to-learn)\n",
    "\n",
    "*Tai yra pati populiariausia paskaita Courseroje. Joje aptariamos bet kurių dalykų mokymuisi būdingos mąstymo savybės neaplenkiant ir matematikos. Kursas nemokamas*\n",
    "\n",
    "* **Rimas Norvaiša. Matematikos mokymas - laike įstrigęs pasaulis** [nuoroda atsisiuntimui](https://norvaisa.lt/wp-content/uploads/2012/07/laike-istriges-pasaulis.pdf)\n",
    "\n",
    "*Straipsnyje apžvelgiama keleto pasaulio šalių mokyklinės matematikos ugdymo sistemų patirtis ir aptariamos aplinkybės, lemiančios žemą tokios sistemos kokybę Lietuvoje. Argumentuojama, jog šią kokybę sąlygoja dabartinės mokyklinės matematikos turinio atsilikimas nuo šiuolaikinės matematikos.*\n",
    "\n",
    "* **Rimas Norvaiša. Analizės pagrindai** [nuoroda atsisiuntimui](https://docplayer.lt/160776846-Analiz%C4%97s-pagrindai-rimas-norvai%C5%A1a-12-2-variantas-2019-kovo-26-e-pa%C5%A1tas.html)\n",
    "\n",
    "*Paprastai įstojus į aukštąją mokyklą studentus nustebina didelis šuolis tarp mokyklinės ir aukštosios (dažniausiai nuosekliu loginiu samprotavimu grindžiamos) matematikos. Dėstytojai neturi laiko padėti studentams persiorientuoti. Tam ir yra skirtas šis konspektas.*"
   ]
  },
  {
   "cell_type": "markdown",
   "id": "0a8d73ad",
   "metadata": {},
   "source": [
    "# Kitos vertingos temos, sukeltos Simono\n",
    "\n",
    "* [https://github.com/loijord/egzanalysis/tree/master/READING](https://github.com/loijord/egzanalysis/tree/master/READING) įvarios temos, skirtos ruoštis egzaminui\n",
    "* [https://github.com/loijord/egzanalysis/blob/master/egzanalize_beta.pdf](https://github.com/loijord/egzanalysis/blob/master/egzanalize_beta.pdf) - pastabos dėl egzamino turinio ir uždavinių klasifikacija, panaši į [https://www.ematematikas.lt/](https://www.ematematikas.lt/)\n",
    "* [https://github.com/loijord/matematikos_pamokos/blob/master/programa/Kipras/kvadratai.ipynb](https://github.com/loijord/matematikos_pamokos/blob/master/programa/Kipras/kvadratai.ipynb) - viskas, ką reikia žinoti apie kvadratinių lygčių sprendimą be diskriminanto\n",
    "* [https://github.com/loijord/matematikos_pamokos/blob/master/programa/Mantas/Projektas2/dauginimas.pdf](https://github.com/loijord/matematikos_pamokos/blob/master/programa/Mantas/Projektas2/dauginimas.pdf) - kaip įmanoma greitai išsivesti įvarias formules: $(a+b)(a^2-ab+b^2)=a^3+b^3$ ir pan.\n",
    "* [https://github.com/loijord/matematikos_pamokos/blob/master/programa/Mokytojams/atskirieji_atvejai.ipynb](https://github.com/loijord/matematikos_pamokos/blob/master/programa/Mokytojams/atskirieji_atvejai.ipynb) - kas vyksta, kai įsistatome kintamąjį arba pritaikome matematinį teiginį?\n"
   ]
  }
 ],
 "metadata": {
  "kernelspec": {
   "display_name": "Python 3 (ipykernel)",
   "language": "python",
   "name": "python3"
  },
  "language_info": {
   "codemirror_mode": {
    "name": "ipython",
    "version": 3
   },
   "file_extension": ".py",
   "mimetype": "text/x-python",
   "name": "python",
   "nbconvert_exporter": "python",
   "pygments_lexer": "ipython3",
   "version": "3.9.7"
  }
 },
 "nbformat": 4,
 "nbformat_minor": 5
}
