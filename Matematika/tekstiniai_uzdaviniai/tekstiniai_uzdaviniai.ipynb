{
 "cells": [
  {
   "cell_type": "markdown",
   "id": "a7e330ba",
   "metadata": {},
   "source": [
    "Pijaus pagrindinis trūkumas: per silpnas skaičiaus sąvokos vaizdinys. Pavyzdžiui negebėjimas atsakyti, kiek kartų 21 yra daugiau už 14. \n",
    "\n",
    "Norint atsakyti į panašius klausimus reiktų stengtis turėti kuo platesnį žodyną, kuris leidžia:\n",
    "\n",
    "* Aprašomus reiškinius arba lygybes apibūdinti tekstinėmis formuluotėmis\n",
    "* Tekstiniame uždavinyje sutinkamas formuluotes aprašyti reiškiniais ir lygtimis\n",
    "\n",
    "Dar vienas patvirtinimas, kad Pijus turi silpną skaičiaus vaizdinį, yra tai, kad jis nėra įsisavinęs skaitmenų, rašomų po kablelio, prasmės. Šis supratimas sutvirtėtų, jei Pijus išmoktų perskaityti bet kurį skaičių skyriais. Pavyzdžiui:\n",
    "\n",
    "* 78.8103 yra: 7 dešimtys, 8 vienetai, 8 dešimtosios, 1 šimtoji ir 3 dešimttūkstantosios\n",
    "\n",
    "Panašias problemas pastebiu ir pas Ugnę, kuri mokosi ieškoti $x$ reikšmių, su kuriomis pasiekiama kvadratinių reiškinių, tokių kaip $x^2-2x+3$ mažiausia reikšmė arba rasti tą reikšmę. Turėdama tekstinio uždavinio sąlygą ji sunkiai sugalvoja, kokį procesą reikia daryti aritmetiškai.\n",
    "\n",
    "# Tyrimai apie įgūdžius, būtinus tekstinių uždavinių sprendimui"
   ]
  },
  {
   "cell_type": "markdown",
   "id": "5672f71f",
   "metadata": {},
   "source": [
    "## Sudėtis ir atimtis\n",
    "\n",
    "Tekstinių uždavinių, kuriuose pasitaiko atimtis ir sudėtis, klasifikacija, buvo ypač susidomėta apie 1980 metus (Heller, Green, Carpenter ir Moser darbuose). Toliau remsiuosi [Ievos Kilienės tyrimu](https://www.journals.vu.lt/LMR/article/view/22470/21844) (2020 m.), atliktu šių modelių pagrindu. Modelį galima apibūdinti tokiais pavyzdžiais:\n",
    "\n",
    "***Change (keitimas)***\n",
    "\n",
    "1\\. Goda had 5 stickers. Adas gave her 8 more\n",
    "stickers.  How many stickers does Goda have\n",
    "altogether?  \n",
    "2\\. Goda had 13 stickers. She gave 5 stickers to\n",
    "Adas. How many stickers does she have left?  \n",
    "3\\.   Goda  has  5  stickers.   How  many  more\n",
    "stickers does she need to have 13 stickers altogether?  \n",
    "4\\.  Goda had 13 stickers.  She gave some to\n",
    "Adas.  Now she has 8 stickers left.  How many\n",
    "stickers did Goda give to Adas?  \n",
    "5\\.  Goda had some stickers.  Adas gave her 5\n",
    "more stickers.  Now she has 13 stickers.  How\n",
    "many stickers did Goda have to start with?  \n",
    "6\\.   Goda had some stickers.   She gave 5 to\n",
    "Adas.  Now she has 8 stickers left.  How many\n",
    "stickers did Goda have to start with?  \n",
    "\n",
    "***Combine (sujungimas)***\n",
    "\n",
    "7\\. Goda has 5 red stickers and 8 blue stickers.\n",
    "How many stickers does she have?   \n",
    "8\\. Goda has 13 stickers. Five are red and the\n",
    "rest are blue. How many blue stickers does\n",
    "Goda have?  \n",
    "\n",
    "***Compare (palyginimas)***\n",
    "\n",
    "9\\.  Goda has 13 stickers.  Adas has 5 stickers.\n",
    "How many more stickers does Goda have than\n",
    "Adas?  \n",
    "10\\. Goda has 13 stickers. Adas has 5 stickers.\n",
    "How many fewer stickers does Adas have than\n",
    "Goda?  \n",
    "11\\. Adas has 5 stickers. Goda has 8 more than\n",
    "Adas. How many stickers does Goda have?  \n",
    "12\\. Adas has 5 stickers. He has 8 fewer stick-ers than Goda. How many stickers does Goda\n",
    "have?  \n",
    "13\\. Goda has 13 stickers. She has 5 more\n",
    "stickers than Adas.  How many stickers does\n",
    "Adas have?  \n",
    "14\\.  Goda has 13 stickers. Adas has 5 fewer\n",
    "stickers than Goda.  How many stickers does\n",
    "Adas have?  \n",
    "\n",
    "***Equalize (sulyginimas)***\n",
    "\n",
    "15\\. Goda has 13 stickers. Adas has 5 stickers.\n",
    "How many stickers does Adas have to win to\n",
    "have as many stickers as Goda?  \n",
    "16\\. Goda has 13 stickers. Adas has 5 stickers.\n",
    "How many stickers does Goda have to lose to\n",
    "have as many stickers as Adas?  \n",
    "17\\.  Adas has 5 stickers.  If he wins 8 stickers,\n",
    "he will have the same number of stickers as\n",
    "Goda. How many stickers does Goda have?  \n",
    "18\\. Adas has 5 stickers. If Goda loses 8 stickers, \n",
    "she will have the same number stickers as\n",
    "Adas. How many stickers does Goda have?  \n",
    "19\\. Goda has 13 stickers. If Adas wins 5 stickers, \n",
    "he will have the same number of stickers\n",
    "as Goda. How many stickers does Adas have?  \n",
    "20\\.  Goda has 13 stickers.  If she loses 5 stickers,\n",
    "she will have the same number stickers as\n",
    "Adas. How many stickers does Adas have?  \n",
    "\n",
    "### Ievos K. tyrimo išvados \n",
    "\n",
    "Pirmos klasės vadovėlių tekstinių uždavinių sąlygos gana ribotos, nes juose dominuoja tik 1, 2, 9, 10, 11 ir 14 uždavinių tipai. Klausiama pagrinde, keliais daiktais vienas žmogus turi daugiau/mažiau už kitą arba kiek daiktų turės žmogus, atidavęs arba gavęs žinomą daiktų kiekį (kai žinoma, kiek turėjo iš pradžių). Norint, kad moksleiviai sugebėtų gerai spręsti tekstinius uždavinius vyresnėse klasėse, būtina įtraukti ir kitus tipus.\n",
    "\n",
    "![](ievos_rez.png)"
   ]
  },
  {
   "cell_type": "markdown",
   "id": "0cdbe837",
   "metadata": {},
   "source": [
    "## Daugyba ir dalyba\n",
    "\n",
    "Tekstiniai uždaviniai su daugyba ir dalyba yra kur kas sunkiau klasifikuojami, todėl plačiai naudojamų šių uždavinių klasifikavimo modelių yra ne vienas. Imant pavyzdį iš ankstesnio tyrimo, norint, kad tekstiniai uždaviniai negrasintų prastais pažymiais, reikėtų spręsti daug įvairesnius jų tipus, nei mokykloje.\n",
    "\n",
    "Šiame tekste pateiksiu du plačiau ištirtus dauginimo klasifikacijos modelius, paimtus iš straipsnio [Larsson K., Students’ understandings of multiplication, p. 7 - 10, 2016](http://www.diva-portal.org/smash/get/diva2:1038458/FULLTEXT01.pdf). Yra taip pat ir dalybos modelių, tačiau jie ne tokie svarbūs, nes su dalijimu Pijus dirbs pagrinde šeštoje klasėje."
   ]
  },
  {
   "cell_type": "markdown",
   "id": "e0a7936e",
   "metadata": {},
   "source": [
    "**Vergnaud (1983, 1988, 1994) modelis**"
   ]
  },
  {
   "cell_type": "code",
   "execution_count": 38,
   "id": "1ec4b9a3",
   "metadata": {},
   "outputs": [
    {
     "data": {
      "text/html": [
       "<table border=\"1\" class=\"dataframe\">\n",
       "  <thead>\n",
       "    <tr style=\"text-align: right;\">\n",
       "      <th></th>\n",
       "      <th></th>\n",
       "      <th></th>\n",
       "    </tr>\n",
       "    <tr>\n",
       "      <th>Subkonstruktas</th>\n",
       "      <th>Tipas</th>\n",
       "      <th>Kintamųjų paaiškinimai</th>\n",
       "    </tr>\n",
       "  </thead>\n",
       "  <tbody>\n",
       "    <tr>\n",
       "      <th rowspan=\"2\" valign=\"top\">Matų izomorfizmas</th>\n",
       "      <th>-</th>\n",
       "      <th>Kiek kainuoja 12 sausainių, jei 4 sausainiai kainuoja 20 kronų?</th>\n",
       "    </tr>\n",
       "    <tr>\n",
       "      <th>Uždavinys su neišreikštu vienetu</th>\n",
       "      <th>Kiek kainuoja 12 sausainių, jei sausainis kainuoja 5 kronas?</th>\n",
       "    </tr>\n",
       "    <tr>\n",
       "      <th rowspan=\"2\" valign=\"top\">Matų sandauga</th>\n",
       "      <th>Ploto skaičiavimas</th>\n",
       "      <th>Koks stačiakampio plotas, jei jo plotis 4 cm, o ilgis 5 cm?</th>\n",
       "    </tr>\n",
       "    <tr>\n",
       "      <th>Dekarto sandaugos skaičiavimas</th>\n",
       "      <th>Kelias poras galima sudaryti iš 4 mergaičių ir 5 berniukų grupės?</th>\n",
       "    </tr>\n",
       "    <tr>\n",
       "      <th>Kartotinis proporcingumas</th>\n",
       "      <th>-</th>\n",
       "      <th>Kiek grūdų sulesa 12 vištų per 12 dienų, jei 4 vištos per 4 dienas sulesa 4 kg grūdų?</th>\n",
       "    </tr>\n",
       "  </tbody>\n",
       "</table>"
      ],
      "text/plain": [
       "<IPython.core.display.HTML object>"
      ]
     },
     "execution_count": 38,
     "metadata": {},
     "output_type": "execute_result"
    }
   ],
   "source": [
    "from my_models import Vergnaud, Greer\n",
    "from IPython.display import display, HTML\n",
    "HTML(Vergnaud().to_html(escape=False))"
   ]
  },
  {
   "cell_type": "markdown",
   "id": "edb4674f",
   "metadata": {},
   "source": [
    "**Praplėstas Greer (1992) modelis**\n",
    "\n",
    "Tekstą parengiau pagal neoficialią [Room to Discover blogo](https://roomtodiscover.com/meanings-of-multiplication/) versiją"
   ]
  },
  {
   "cell_type": "code",
   "execution_count": 39,
   "id": "bc9a04ee",
   "metadata": {},
   "outputs": [
    {
     "data": {
      "text/html": [
       "<table border=\"1\" class=\"dataframe\">\n",
       "  <thead>\n",
       "    <tr style=\"text-align: right;\">\n",
       "      <th></th>\n",
       "      <th></th>\n",
       "      <th></th>\n",
       "    </tr>\n",
       "    <tr>\n",
       "      <th>Subkonstruktas</th>\n",
       "      <th>Tipas</th>\n",
       "      <th>Kintamųjų paaiškinimai</th>\n",
       "    </tr>\n",
       "  </thead>\n",
       "  <tbody>\n",
       "    <tr>\n",
       "      <th rowspan=\"2\" valign=\"top\">Grupavimas</th>\n",
       "      <th>Skaidymas</th>\n",
       "      <th>Aš noriu išdalinti 8 sausainius keturiems draugams lygiomis dalimis. Kiek gaus kiekvienas iš jų?</th>\n",
       "    </tr>\n",
       "    <tr>\n",
       "      <th>Matavimas</th>\n",
       "      <th>Aš padalinau 24 sausainius į lygias grupes po 3. Kiek grupių gavau?</th>\n",
       "    </tr>\n",
       "    <tr>\n",
       "      <th>Rodiklis</th>\n",
       "      <th>-</th>\n",
       "      <th>1) Marius suvalgo po 4 guminukus per minutę. Kiek guminukų jis suvalgo per 7 minutes? <br> 2) Mantas eina 6km/h greičiu. Kokią distanciją jis įveiks per 20 min?</th>\n",
       "    </tr>\n",
       "    <tr>\n",
       "      <th>Dauginamasis palyginimas</th>\n",
       "      <th>-</th>\n",
       "      <th>Šiandien iš geografijos aš gavau 8, o iš matematikos 4 kartus mažiau. Kiek gavau iš matematikos?</th>\n",
       "    </tr>\n",
       "    <tr>\n",
       "      <th rowspan=\"2\" valign=\"top\">Stačiakampė figūra</th>\n",
       "      <th>Diskretūs dydžiai</th>\n",
       "      <th>Koks sąsiuvinyje nupiešto stačiakampio plotas, jei vienas jo kraštas eina per 8 langelių kraštines, o kitas - per 9?</th>\n",
       "    </tr>\n",
       "    <tr>\n",
       "      <th>Tolydūs dydžiai</th>\n",
       "      <th>Koks stačiakampio, kurio kraštinės yra 2.5cm ir 3.5cm plotas?</th>\n",
       "    </tr>\n",
       "    <tr>\n",
       "      <th>Dekarto sandauga</th>\n",
       "      <th>-</th>\n",
       "      <th>Jei kebabinė siūlo 2 skirtingų dydžių ir 3 rūšių kebabus bei 4 padažus, kelis skirtingus užsakymus galima padaryti?</th>\n",
       "    </tr>\n",
       "  </tbody>\n",
       "</table>"
      ],
      "text/plain": [
       "<IPython.core.display.HTML object>"
      ]
     },
     "execution_count": 39,
     "metadata": {},
     "output_type": "execute_result"
    }
   ],
   "source": [
    "HTML(Greer().to_html(escape=False))"
   ]
  },
  {
   "cell_type": "markdown",
   "id": "7409a220",
   "metadata": {},
   "source": [
    "### Nesusipratimų skyrelis\n",
    "    \n",
    "* **Du skirtingi grupavimo būdai**. *Batų fabriko vadovas pirštu parodė darbuotojui į 100 batų krūvą, tada liepė padalinti juos į poras ir sudėti į dėžes. Kitą dieną jam buvo šokas. Jis rado 50 batų sukrauta į vieną didelę dėžę ir 50 į kitą.* \n",
    "\n",
    "* **Du skirtingi grupavimo būdai**. *Dalinti skaičių 3 į trečdalį grupės yra nesąmonė. Tačiau dalinti 3 kieno nors vienetus po trečdalį - jau lengviau.* \n",
    "\n",
    "* **Du skirtingi palyginimo būdai**. *Ar tikrai gauti iš matematikos 4 mažiau nei iš geografijos yra tas pats, kas gauti 4 kartais mažiau?*\n",
    "\n",
    "* **Du skirtingi stačiakampio ploto skaičiavimo būdai**. *Stačiakampio, kurio ilgį sudaro 3.5 langelio, o plotį 2.5 langelio, plotą skaičiuodami langelius ieško tik užsispyrę mokiniai. Paprasčiau tiesiog padauginti 2.5 iš 3.5.*\n",
    "\n",
    "* **Plotas vs tūris**. *Ar ilga plona kolba gali užimti tiek pat vietos, kiek neaukšta stiklinė?*\n"
   ]
  },
  {
   "cell_type": "code",
   "execution_count": 36,
   "id": "111e60ba",
   "metadata": {},
   "outputs": [
    {
     "data": {
      "text/html": [
       "<table border=\"1\" class=\"dataframe\">\n",
       "  <thead>\n",
       "    <tr style=\"text-align: right;\">\n",
       "      <th></th>\n",
       "      <th></th>\n",
       "      <th></th>\n",
       "    </tr>\n",
       "    <tr>\n",
       "      <th>Subkonstruktas</th>\n",
       "      <th>Tipas</th>\n",
       "      <th>Kintamųjų paaiškinimai</th>\n",
       "    </tr>\n",
       "  </thead>\n",
       "  <tbody>\n",
       "    <tr>\n",
       "      <th rowspan=\"2\" valign=\"top\">Grupavimas</th>\n",
       "      <th>Skaidymas</th>\n",
       "      <th>Aš noriu išdalinti 8 sausainius keturiems draugams lygiomis dalimis. Kiek gaus kiekvienas iš jų?</th>\n",
       "    </tr>\n",
       "    <tr>\n",
       "      <th>Matavimas</th>\n",
       "      <th>Aš padalinau 24 sausainius į lygias grupes po 3. Kiek grupių gavau?</th>\n",
       "    </tr>\n",
       "    <tr>\n",
       "      <th>Rodiklis</th>\n",
       "      <th>-</th>\n",
       "      <th>1) Marius suvalgo po 4 guminukus per minutę. Kiek guminukų jis suvalgo per 7 minutes? <br> 2) Mantas eina 6km/h greičiu. Kokią distanciją jis įveiks per 20 min?</th>\n",
       "    </tr>\n",
       "    <tr>\n",
       "      <th>Dauginamasis palyginimas</th>\n",
       "      <th>-</th>\n",
       "      <th>Šiandien iš geografijos aš gavau 8, o iš matematikos 4 kartus mažiau. Kiek gavau iš matematikos?</th>\n",
       "    </tr>\n",
       "    <tr>\n",
       "      <th rowspan=\"2\" valign=\"top\">Stačiakampė figūra</th>\n",
       "      <th>Diskretūs dydžiai</th>\n",
       "      <th>Koks sąsiuvinyje nupiešto stačiakampio plotas, jei vienas jo kraštas eina per 8 langelių kraštines, o kitas - per 9?</th>\n",
       "    </tr>\n",
       "    <tr>\n",
       "      <th>Tolydūs dydžiai</th>\n",
       "      <th>Koks stačiakampio, kurio kraštinės yra 2.5cm ir 3.5cm plotas?</th>\n",
       "    </tr>\n",
       "    <tr>\n",
       "      <th>Dekarto sandauga</th>\n",
       "      <th>-</th>\n",
       "      <th>Jei kebabinė siūlo 2 skirtingų dydžių ir 3 rūšių kebabus bei 4 padažus, kelis skirtingus užsakymus galima padaryti?</th>\n",
       "    </tr>\n",
       "  </tbody>\n",
       "</table>"
      ],
      "text/plain": [
       "<IPython.core.display.HTML object>"
      ]
     },
     "execution_count": 36,
     "metadata": {},
     "output_type": "execute_result"
    }
   ],
   "source": [
    "from IPython.display import display, HTML\n",
    "HTML(Greer().to_html(escape=False))"
   ]
  },
  {
   "cell_type": "markdown",
   "id": "62f3d6f4",
   "metadata": {},
   "source": [
    "## Tolimesni patarimai Pijui ir Ugnei"
   ]
  },
  {
   "cell_type": "markdown",
   "id": "c63d4a7d",
   "metadata": {},
   "source": [
    "Svarbiausia - stengtis per Simono pamokas įsisavinti Simono patariamus sprendimo būdus, kurie atmintyje yra išliekantys daug ilgiau arba turi daug didesnį ryšį su kitomis temomis. Stengtis nespręsti tais pačiais ne visada veiksmingais metodais, o perimti naujus. Taip pat darbas turi vykti gyvai: uždavinių analizę ir taisyklių įsiminimo būdų paiešką reikia aktyviai daryti pačiam, neapsiriboti vien klasės ir namų darbų darymu.\n",
    "\n",
    "Norint iš uždavinių atrasti naudingus pastebėjimus, reikia turėti po ranka uždavinių rinkinius, todėl juos įkelsiu čia."
   ]
  },
  {
   "cell_type": "markdown",
   "id": "6eb4ef45",
   "metadata": {},
   "source": [
    "## Pirmas uždavinių komplektas Pijui\n",
    "\n",
    "***Pagal Matematika Tau vadovėlio pirmus skyrius***\n",
    "\n",
    "1\\. Lietuvos lengvaatletis Virgilijus Alekna būdamas 18 metų diską numetė 52 m. 84cm., o 2000m. Jis tapo olimpinių žaidynių Sidnėjuje čempionu diską numetęs gerokai toliau. Šis nuotolis lygus 69m 30cm. Kiek toliau nukriejo Virgilijaus diskas 2000m., palyginti su ankstesniais?  \n",
    "2\\. Skaičių spindulyje nuo 0 iki 100000 pažymėtos penkios spalvinės dalys. Pirma, vidurinė ir paskutinė dalys yra dvigubai ilgesnės už likusias dvi. Kokie skaičiai yra pirmos dalies gale ir paskutinės dalies viduryje?  \n",
    "3\\. Lentelėje pateikiami LR aplinkos ministerijos nustatyti medžiojamų žvėrių duomenys. Pagal juos 2012m. buvo 250 medžiojamų vilkų, o palyginti su 2011m., šis skaičius sumažėjo 50. Tauriųjų elnių 2012m. buvo 25672, o palyginti su 2011m., šis skaičius padidėjo 2177. Kiek tauriųjų elnių buvo 2011 m.? Kiek vilkų buvo 2011 m?  \n",
    "4\\. Parduotuvėje liepa pirko 1500g. obuolių, 250g. saldainių, 500g. kriaušių ir 750g. sausainių. Kiek svėrė vaisiai - obuoliai ir kriaušės? Kiek svėrė saldainiai ir sausainiai? Kiek svėrė kiekvienas pirkinys?  \n",
    "5\\. Nuo 1929m. Iki 2015m. Ventės rago ornitologinės stoties darbuotojai kartu su talkininkais sužiedavo 104422 juodąsias, 122085 ilgauodeges, 13943 šiaurinės, 438204 mėlynąsias ir 487846 didžiąsias zyles. Kiek zylių buvo sužieduota 1929 - 2015m Ventės rago ornitologinėje stotyje?  \n",
    "6\\. Autobuso vairuotojas ryte į baką įpylė 120 l benzino. Iki pietų jis sunaudojo 48 l, o po pietų - 50 l. Kiek litrų benzino liko bake?  \n",
    "7\\. Sporto varžybose dalyvavo 52 mokiniai. 25 iš jų šoko į aukštį. 22 - į tolį, o visi kiti bėgo 100 m. Apskaičiuokite, kiek mokinių bėgo.  \n",
    "8\\. Iš dviejų stočių, tarp kurių yra 315 km. vienas priešais kitą išvyko du autobusai. Jie susitiko, kai vienas autobusas buvo nuvažiavęs 175 km. Kokį atstumą iki susitikimo nuvažiavo kitas autobusas?  \n",
    "9\\. Nuo Ignalinos iki Kauno yra 169 km., nuo Ignalinos iki Nidos - 423 km., o nuo Ignalinos iki Alytaus - 211km. Kiek kilometrų daugiau nuo Ignalinos iki Nidos, negu iki Kauno? Kiek kilometrų mažiau nuo Ignalinos iki Kauno, negu iki Alytaus?  \n",
    "10\\. Naujas automobilis kainuoja 12 100Eur, o toks pats, tik 3 metais senesnis - 4900Eur pigiau. Pirkėjas turi 13600Eur. Kokia senesnio automobilio kaina? Kiek pinigų liktų pirkėjui, jei jis pasirinktų naują automobilį? Jei pirktų trijais metais senesnį automobilį?  \n",
    "11\\. Krepšyje yra obuolių, kriaušių ir apelsinų. Iš viso yra 85 vaisiai, o iš jų - 25 apelsinai ir 37 kriaušės. Kiek krepšyje yra apelsinų ir kriaušių kartu? Kiek krepšyje yra obuolių?  \n",
    "12\\. Mokykloje sporto treniruotes lanko 248 mokiniai, o dailės būrelį - 67 mokiniais mažiau. Kiek mokinių lanko dailės būrelį?  \n",
    "13\\. Ignas skaitė 348 puslapių knygą . Pirmąją dieną jis perskaitė 135 puslapius, antrąją - 25 puslapiais daugiau. Kiek knygos puslapių Ignas perskaitė antrąją dieną? Kiek iš viso puslapių perskaitė Ignas? Kiek puslapių jam liko skaityti?  \n",
    "14\\. Bibliotekoje yra 43523 knygos, iš jų 38123 lietuvių kalba, 3865 - anglų, 523 - vokiečių, o visos kitos - kitomis kalbomis. Kiek knygų, parašytų kitomis kalbomis, yra bibliotekoje? Kiek knygų anglų kalba yra daugiau negu vokiečių kalba?  \n",
    "15\\. Orientavimosi sporto varžybose Šarūnas, ieškodamas punktų, nubėgo 1085 m, Rytis - 253 m daugiau už Šarūną, o Tomas - 48 m mažiau už Rytį ir Šarūną, jų nubėgtą kelią kartu sudėjus. Kiek nubėgo Rytis? Kiek nubėgo Tomas?\n",
    "16\\. Laukas yra stačiakampio formos. Ilgoji jo kraštinė 1532m, t.y. 237 m. ilgesnė už plotį. Apskaičiuokite lauko plotį. Apskaičiuokite perimetrą.  \n",
    "17\\. Sode šeima pasodino 7 eiles vaismedžių po 15 medelių kiekvienoje eilėje. Kiek sode pasodinta vaismedžių? \t\n",
    "18\\. Per lietų į tuščią statinę, stovinčią po lietvamzdžiu, kiekvieną minutę pribėga po 8l vandens. Pro skylę statinėje kiekvieną minutę išteka po 3l vandens. Kiek litrų vandens bus statinėje praėjus 8 minutėms?  \n",
    "19\\. Gruodžio 2 dieną pasnigo. Nuo kitos dienos Lėja pradėjo lesinti paukščiukus savo lesyklėlėje. Kasdien ji paberdavo po 30 gramų saulėgražų. Vasario 26 dienos vakare sniegas jau buvo nutirpęs, tad nuo kitos dienos Lėja paukščiukų nebelesino. Žvelgdami į kalendorių apskaičiuokite, kiek gramų saulėgražų sulesino Lėja.  \n",
    "20\\. Izabelės namuose yra biblioteka - 39 knygų lentynos. Kiekvienoje lentynoje sudėta po 28 knygas. Kiek knygų yra Izabelės šeimos bibliotekoje?  \n",
    "21\\. Kiek para turi minučių? Kiek para turi sekundžių?  \n",
    "22\\. Savaitės pradžioje į parduotuvę atvežta 67 planšetiniai kompiuteriai (kaina 135 Eur), o savaitės pabaigoje - 41 planšetinis kompiuteris (kaina 150 Eur). Kiek parduotuvė gaus pinigų pardavusi visus šiuos kompiuterius?  \n",
    "23\\. Suaugusiojo širdis suplaka 70 kartų per minutę. Kiek kartų suplaka širdis per: valandą, parą, metus?  \n",
    "24\\. 2013 m. Lietuvos gyventojai augino 16521 žąsį, ančių 3 kartus daugiau negu žąsų, kalakutų 4 kartus daugiau negu ančių. Kiek 2013 m. gyventojai augino vištų, jei jų buvo 44 kartus daugiau negu kalakutų?  \n",
    "25\\. Šarūnas turi surinkęs 900 pašto ženklų. Kiekviename albumo puslapyje surikiuota po 25 pašto ženklus. Kiek albumo puslapių užpildyta?  \n",
    "26\\. 90 vienodų vadovėlių kainuoja 810 eurų. Kiek kainuoja vienas vadovėlis? Kiek tokių vadovėlių gali nupirkti mokykla, jei turi 360 eurų?  \n",
    "27\\. Vilija, pirmadienį gavusi 16 Eur kišenpinigių, antradienį pusę jų išleido, o trečiadfienį - ketvirtadalį likusių. Kiek pinigų Vilija teturi?  \n",
    "28\\. Meldinė nendriniukė yra vienas rečiausių migruojančių paukščių giesmininkų Europoje. 2011 m. Lietuvoje suskaičiuota apie 90 jų giedančių patinėlių, 2013 m. - vos 45, o 2015m. nustatytas akivaizdus šių paukščių pagausėjimas - net 135 giedantys patinėliai. Kiek kartų medinių nendrinukių sumažėjo nuo 2011 m. iki 2013 m.? Kiek - nuo 2013 m. iki 2015 m.? Kiek meldinių nendrinukių būtų 2017 m., jei per 2015 - 2017 m. jų skaičius padidėtų tiek pat kartų, kiek per 2013-2015 m.?  \n",
    "29\\. Julijos brolis už kostiumą sumokėjo 144 Eur, už marškinius - 12 Eur. Kiek kartų kostiumas brangesnis už marškinius?  \n",
    "30\\. Pirmąją lengvosios atletikos varžybų dieną parduota 21 354 bilietai. Antrąją dieną - 6 kartus mažiau. Kiek bilietų parduota antrąją dieną? Kiek bilietų parduota per abi dienas?  \n",
    "31\\. Gabija nupirko 1950 g saldainių ir išdalijo po lygiai dvidešimt šešiems savo bendraklasiams. Po kiek gramų saldainių gavo kiekvienas mokinys?  \n",
    "32\\. Mokyklos sienoms dažyti sunaudota 82 vienodos dėžės geltonų dažų ir dar 14 kg mėlynų dažų - iš viso 342 kg. Kiek kilogramų dažų buvo kiekvienoje dėžėje?  \n",
    "33\\. 375cm. juostelė sudalyta 25cm ilgio gabalėliais. Kiek gauta trumpų juostelių? Kiek centimetrų juostelės liko?  \n",
    "34\\. Vairuotojui teko išvežioti 1753 kg kriaušių - po lygiai kilogramų į 36 parduotuves, o likusias nuvežti į senelių namus. Kiek kilogramų kriaušių pristatyta į kiekvieną parduotuvę? Kiek kilogramų kriaušių atvežta į senelių namus?  \n",
    "35\\. Angelė laiko keturias kanarėles. Vienai kanarėlei per dieną užtenka 7g įvairių sėklų mišinio. Mergaitė parduotuvėje nupirko lesalo. Dėžutė lesalo sveria 500 g. Kiek gramų lesalo reikia 4 kanarėlėms per dieną? Kiek dienų nupirkto lesalo užteks 4 kanarėlėms? Kiek gramų lesalo liks dėžutėje?  \n",
    "36\\. Danielė pirko dvi porcijas ledų. Ar gali jos pirkinys kainuoti 100 ct? 98 ct? 105 ct? 71 ct?  \n",
    "37\\. Lukas pirko penkis vienodus sąsiuvinius. Ar gali jo pirkinys kainuoti 200 ct? 125 ct? 88 ct? 5 ct?  \n",
    "38\\. Gėlininkė kasdien sukomponuodavo po tiek pat puokščių. Ar galėjo ji per pekias dienas sukomponuoti 76 puokštes? 125? 210? 5?  \n",
    "39\\. Paulius dešimčiai savo draugų padalijo saldainius po lygiai. Ar galėjo saldainių skaičius būti 100? 30? 25? 22?  \n",
    "40\\. Matematikos konkurse dalyvavo 105 pradinukai, o aukštesniųjų klasių mokinių buvo dukart daugiau. Kiek moksleivių dalyvavo matematikos konkurse?"
   ]
  },
  {
   "cell_type": "markdown",
   "id": "213c0552",
   "metadata": {},
   "source": [
    "## Antras uždavinių komplektas Pijui\n",
    "***Pagal Vergnaud ir Greer modelius***"
   ]
  },
  {
   "cell_type": "markdown",
   "id": "9abe5eef",
   "metadata": {},
   "source": [
    "1\\. Kiek kainuoja 12 sausainių, jei 4 sausainiai kainuoja 20 kronų?  \n",
    "2\\. Kiek kainuoja 12 sausainių, jei sausainis kainuoja 5 kronas?  \n",
    "3\\. Koks stačiakampio plotas, jei jo plotis 4 cm, o ilgis 5 cm?  \n",
    "4\\. Kelias poras galima sudaryti iš 4 mergaičių ir 5 berniukų grupės?  \n",
    "5\\. Kiek grūdų sulesa 12 vištų per 12 dienų, jei 4 vištos per 4 dienas sulesa 4 kg grūdų?  \n",
    "6\\. Aš noriu išdalinti 8 sausainius keturiems draugams lygiomis dalimis. Kiek gaus kiekvienas iš jų?  \n",
    "7\\. Aš padalinau 24 sausainius į lygias grupes po 3. Kiek grupių gavau?  \n",
    "8\\. Marius suvalgo po 4 guminukus per minutę. Kiek guminukų jis suvalgo per 7 minutes?  \n",
    "9\\. Mantas eina 6km/h greičiu. Kokią distanciją jis įveiks per 20 min?  \n",
    "10\\. Šiandien iš geografijos aš gavau 8, o iš matematikos 4 kartus mažiau. Kiek gavau iš matematikos?  \n",
    "11\\. Koks sąsiuvinyje nupiešto stačiakampio plotas, jei vienas jo kraštas eina per 8 langelių kraštines, o kitas - per 9?  \n",
    "12\\. Koks stačiakampio, kurio kraštinės yra 2.5cm ir 3.5cm plotas?  \n",
    "13\\. Jei kebabinė siūlo 2 skirtingų dydžių ir 3 rūšių kebabus bei 4 padažus, kelis skirtingus užsakymus galima padaryti?  "
   ]
  },
  {
   "cell_type": "markdown",
   "id": "f58afa44",
   "metadata": {},
   "source": [
    "## Trečias uždavinių komplektas Pijui\n",
    "***Pagal 3 - 4 klasės Kengūros uždavinius,*** kurie visi gali būti sprendžiami aritmetiškai, bet kartais paprasčiau yra sudaryti lygtis.\n",
    "\n",
    "1\\. Ant vienos svarstyklių lėkštelės padėti 6 apelsinai, o ant kitos - 2 melionai. Kai padedame tokį pat trečią melioną prie apelsinų, svarstyklės pasidaro pusiausvyros. Kiek apelsinų svefia tiek pat, kiek vienas melionas?  \n",
    "2\\. Kvadratas, kurio kraštinė lygi 10 cm, perskeltas į du stačiakampius, kurių pločiai lygūs 3 cm ir 7 cm. Keliais centimetrais kvadrato perimetras yra didesnis už mažesniojo stačiakampio perimetrą?  \n",
    "3\\. Samanta ir Jolanta kartu turi 60 degtukų. Samanta paėmė tiek degtukų, kiek jų reikėjo sudėti trikampiui, kurio kiekvienos kraštinės ilgis yra šeši degtukai. Iš likusių degtukų Jolanta sudėjo stačiakampį, kurio vieną kraštinę taip pat sudarė šeši degtukai. Kiek degtukų buvo didesnėje stačiakampio kraštinėje?  \n",
    "4\\. Dvidešimt aštuoni mokiniai dalyvavo matematikos varžybose ir jų rezultatai buvo skirtingi. Skaičius mokinių, atsidūrusių už Tomo, buvo dvigubai didesnis už skaičių mokinių, kuriems pasisekė geriau už Tomą. Kelintą vietą užėmė Tomas?  \n",
    "5\\. Ant laido atsitūpė būrelis kregždžių. Vienu momentu 5 iš jų nuskrido, o po kurio laiko 3 parskrido atgal. Tada ant laido tupėjo 12 kregždžių. Kiek kregždžių atsitūpė ant laido iš pradžių?  \n",
    "6\\. Stačiakampį sudaro 4 eilutės po 6 langelius. Pirmoje eilutėje užtušuotas penktas langelis, antroje - pirmas, trečioje - trečias ir šeštas, o paskutinėje - trečias. Kiek kvadratėlių reikia užtušuoti, kad užtušuotų kvadratėlių būtų perpus mažiau negu neužtušuotų?  \n",
    "7\\. Marijos ir Petro klasės visi mokiniai sustojo į eilę. Už Marijos stovėjo 16 mokinių, tarp jų ir Petras. Prieš Petrą stovėjo 14 mokinių, tarp jų ir Marija. Tarp Marijos ir Petro stovėjo 7 mokiniai. Kiek mokinių mokosi toje klasėje?  \n",
    "8\\. Trys obuoliai ir du apelsinai sveria 255g. Du obuoliai ir trys apelsinai sveria 285g. Kiek gramų sveria vienas obuolys ir vienas apelsinas?  \n",
    "9\\. Karina rado knygą, iš kurios buvo išplėštas vienas gabalas. Atvertus tą vietą, kairėje buvo 24-as puslapis, o dešinėje - 45-as puslapis. Keli lapai buvo išplėšti iš knygos?  \n",
    "10\\. Tomas turi 147 eurus, o Simas 57 eurus. Kiek eurų Tomas turėtų duoti Simui, kad jam liktų dukart tiek pinigų, kiek turės Simas?  \n",
    "11\\. Loterijos bilietas kainavo 4 eurus. Trys vaikinai - Saulius, Petras ir Robertas susidėjo dviem bilietams. Saulius davė 1 eurą, Petras - 3 eurus, Robertas - 4 eurus. Vienam iš tų nupirktų bilietų atiteko 1000 eurų laimėjimas. Vaikinai laimikį pasidalino sąžiningai, t.y. pagal kiekvieno jų indėlį. Kiek eurų gavo Petras?  \n",
    "12\\. Jonas mėtė į taikinį strėlytes. Iš pradžių jis turėjo 10 strėlyčių. Už kiekvieną pataikymą į centrą Jonas gaudavo po dvi papildomas strėlytes. Kiek kartų jis pataikė į centrą, jei po 20 metimų strėlyčių nebeliko?  \n",
    "13\\. Vienoje ilgosios gatvės pusėje esančių namų numeriai yra 1, 3, 5, ..., 19, o kitoje pusėje esančių namų numeriai - 2, 4, 6, ..., 14. Kiek namų yra Ilgojoje gatvėje?  \n",
    "14\\. Lėktuvas skrenda pučiant pastovaus greičio vėjui. Naudodamas tiek pat galios, pavėjui jis gali skristi 650 km/h greičiu, o prieš vėją gali skristi 600 km/h greičiu. Koks vėjo greitis?"
   ]
  },
  {
   "cell_type": "markdown",
   "id": "56224e26",
   "metadata": {},
   "source": [
    "## Ketvirtas uždavinių komplektas Pijui\n",
    "[Medžiagoje](https://github.com/loijord/matematikos_pamokos/blob/master/programa/Martynas/nezinomieji.pdf) aiškinama, kaip spręsti tekstinius uždavinius sudarant lygtis. Tačiau norint, kad tai pavyktų sėkmingai, reikėtų pasispręsti kitus uždavinius, kad būtų galima lengviau gaudytis sąryšiuose:\n",
    "\n",
    "![](reiskiniai.png)"
   ]
  },
  {
   "cell_type": "markdown",
   "id": "24b88b56",
   "metadata": {},
   "source": [
    "## Penktas uždavinių komplektas visiems\n",
    "1 - 4 uždaviniuose siūloma pabūti matematikos mokytojo vietoje. 5 - 8 užduotys - nestandartiniai uždaviniai iš pirmos klasės vadovėlio. 9 uždavinys pakliuvo į daugumą Kengūros grupių, pradedant trečiokais. 10 uždavinys paimtas iš 2020m. egzamino.\n",
    "\n",
    "1\\. Antrokas Darius kartoja atimtį stulpeliu:\n",
    "\n",
    "$\\begin{array}{r}\\underline{\\phantom{x}}52\\\\ \\underline{26}\\\\26 \\end{array}\n",
    "\\phantom{xxxxx}\n",
    "\\begin{array}{r}\\underline{\\phantom{x}}91\\\\ \\underline{79}\\\\12 \\end{array}$\n",
    "\n",
    "Kaip paaiškintumėte šią procedūrą antrokui? Ką jūsų manymu jis turi žinoti spręsdamas tokius uždavinius?\n",
    "\n",
    "2\\. Mokytoja pastebėjo, kad keli Pijaus klasės draugai penktoje klasėje daro tas pačias klaidas daugindami didelius dviženklius skaičius stulpeliu. Pavyzdžiui daugindami 123 x 645 vietoje teisingo metodo dešinėje jie užmiršta perkelti skaičius kiekviename stulpelyje ir gauna tokį atsakymą kaip kairėje.\n",
    "\n",
    "$\\begin{array}{r}_{x}123\\\\ \\underline{645}\\\\615\\\\ 492 \\\\ \\underline{\\phantom{X}738}\\\\ 1845\\end{array}\\phantom{xxxxx}\n",
    "\\begin{array}{r} _{x}123\\\\ \\underline{645}\\\\615\\\\ 492\\phantom{u} \\\\ \\underline{738\\phantom{uu}}\\\\ 79335\\end{array}$\n",
    "\n",
    "Kaip paaiškintumėte, kodėl kairėje pusėje pateiktas sprendimo būdas neteisingas ir ką darytumėte mokytojos vietoje?\n",
    "\n",
    "3\\. Šeštoje klasėje prasideda veiksmai su trupmenomis. Jūs esate geras mokytojas, todėl norite ne tik paaiškinti, kaip atlikti veiksmą, bet ir pateikti pavyzdį, kokiose situacijose jis pasitaiko. Kokį uždavinį sukurtumėte, norėdamas parodyti, kad jis sprendžiamas atliekant veiksmą $1\\frac{3}{4}\\div \\frac{1}{2}$?\n",
    "\n",
    "4\\. Tarkime, kad viena gabi moksleivė labai susidomėjo jūsų mokoma tema apie perimetrų ir plotų skaičiavimą. Ji tvirtina, kad atrado dalyką, apie kurį nepasakojote klasei. *Kai figūros perimetras didėja, plotas taip pat didėja*. Šį teiginį ji pailiustravo brėžiniu:\n",
    "\n",
    "<img src=\"discovery.png\" alt=\"drawing\" width=\"400\"/>\n",
    "\n",
    "Ką atsakytumėte moksleivei?\n",
    "\n",
    "5\\. Ugnė per dieną turi vidutiniškai po 7 pamokas. Kiek pamokų ji turi per savaitę?  \n",
    "6\\. Dviems samdomiems ūkio darbininkams, Laurynui ir Martynui, yra pavestas darbas nuravėti sklypo plotą, lygų 12 arų. Laurynas gali nuravėti 7 arus per 4 valandas, o Martynas - 5 arus per dvi valandas. Jiems abiems už darbą bus sumokėta po lygiai: po 180 kronų. Kaip darbininkai turi pasidalyti atlyginimą, kad dalybos būtų sąžiningos?  \n",
    "7\\. Kajus turi 16 riešutų, o Gerda 15. Kajus atidavė vieną riešutą Gerdai. Ar jie dabar turi po lygiai riešutų?  \n",
    "8\\. Iš dviejų dėžių išpilta 100 kaštonų. Kiek kaštonų galėjo būti kiekvienoje dėžėje?  \n",
    "9\\. Žūklėje Petras pagavo tiek pat žuvų, kaip ir jo sūnus Lukas. Jonas pagavo triskart daugiau žuvų, negu jo sūnus. Visi kartu jie pagavo 35 žuvis. Kiek žuvų pagavo Petras?  \n",
    "10. Buvo nupirkta $a$ knygų po $b$ eurų ir $b$ knygų po $a$ eurų. Kokia vidutinė vienos knygos kaina?"
   ]
  },
  {
   "cell_type": "markdown",
   "id": "9e4d07a2",
   "metadata": {},
   "source": [
    "## Šeštas uždavinių komplektas Mantui ir Ugnei\n",
    "[Atskiroje nuorodoje](https://nbviewer.org/github/loijord/matematikos_pamokos/blob/master/programa/Vilius/TU/TU.ipynb) dalinuosi:\n",
    "* Skirtingais modeliais, kas sudaro tekstinio uždavinio sprendimą\n",
    "* Kitų mokytojų pastabomis\n",
    "* 2015 - 2020m. tekstinių uždavinių sąlygomis iš egzamino ir statistine jų analize\n",
    "* 2014m., 2006m., 2005m., 2004m. egzaminų tekstinių uždavinių sąlygomis, abiturientų darbais ir jų kokybine analize\n",
    "\n",
    "Primenu, kad daugiau tekstinių uždavinių iš egzaminų prieinama per [ematematikas.lt](https://www.ematematikas.lt/egzaminai/) su VIP naryste"
   ]
  },
  {
   "cell_type": "markdown",
   "id": "8abe58ce",
   "metadata": {},
   "source": [
    "## Septintas uždavinių komplektas Mantui ir Ugnei\n",
    "Duotas tam tikras kvadratinis reiškinys. Jis visada turės piką tam tikrame taške. Pateikti uždaviniai yra paimti iš [ematematikas.lt](https://www.ematematikas.lt/egzaminai/) duomenų bazėje talpinamų visų 2002 - 2021 valstybinio egzamino uždavinių, kurie taip pat atitinka išeitas temas apie kvadratinius reiškinius. Kita dalis paimta mokytojos Miglės M. kontrolinio darbo. Vėliau siūlysiu tam tikrą šių uždavinių klasifikaciją\n",
    "\n",
    "**Viršūnių paieškos**\n",
    "* Rasti nežinomojo reikšmę, su kuria reiškinys įgyja minimalią arba maksimalią reikšmę\n",
    "* Rasti tą minimalią reikšmę"
   ]
  },
  {
   "cell_type": "markdown",
   "id": "f6f2c3e5",
   "metadata": {},
   "source": [
    "Tiesė $m$ eina per tašką $(-2; 3)$ ir yra lygiagreti su tiese $y=-2x+1$. Raskite tiesės $m$ lygtį (2021m., 1tšk.)\n",
    "\n",
    "Su kuria $a$ reikšme taškas $M(2; -1)$ priklauso tiesei $y=-4x+2a-7$? (2019m., 1tšk.)\n",
    "\n",
    "Kuriuose taške parabolės $y=(x-1)^2$ grafikas kerta koordinačių ašį $Oy$? (2018m., 1tšk.)\n",
    "\n",
    "Kokia turi būti $m$ reikšmė, kad taškas $A(0;1)$ priklausytų funkcijos $f(x)=(m−2)x+m−3$ grafikui? (2014m., 1tšk.)\n",
    "\n",
    "Apskaičiuokite skaitinę $p$ reikšmę, su kuria tiesė $x=−2$ būtų funkcijos $f(x)=x^2+px+3$ grafiko simetrijos ašis (2012m., 1tšk.)\n",
    "\n",
    "Nurodykite funkcijos $y=4x^2+4x+10$ reikšmių sritį. (2007m., 1tšk.)\n",
    "\n",
    "Įrodykite, kad su visomis realiosiomis $k$ reikšmėmis funkcijos $f(x)=(x−2)(x−3)−k^2$ grafikas kerta $Ox$ ašį dviejuose taškuose.\n",
    "\n",
    "Kurios parabolės viršūnė yra II ketvirtyje? $(x-1)^2-1$, $(x+2)^2+1$, $(x+2)^2-3$, $(x-4)^2$ ar $x^2-1$ (2006m., 1tšk.)\n",
    "\n",
    "Su kuriomis $a$ ($a \\neq 0$) reikšmėmis funkcijų $y=ax^2+6x+3$ ir $y=2x−a$ grafikai neturi bendrų taškų? (2006m., 3tšk.)\n",
    "\n",
    "Su kuriomis m reikšmėmis funkcija $y=mx^2−2mx+4$ įgyja tik teigiamas reikšmes? (2003m., 4tšk.)\n",
    "\n",
    "Nubrėžkite funkcijos $f(x)=−x^2+1$ grafiko eskizą (2016m., 1tšk.)\n",
    "\n",
    "Raskite funkcijos $f(x)=x^2+4x−5$ reikšmių sritį, kai $x\\in [−3;1]$ (2008m., 1tšk.)\n",
    "\n",
    "Užrašykite tiesės, einančios per taškus $A(2;0)$ ir $B(10;9)$, lygtį (2006m., 2tšk.)\n",
    "\n",
    "Pagal $y=f(x)$ [grafiką](https://www.desmos.com/calculator/dtten6wka9) nustatykite šios funkcijos reikšmių sritį. (2013m., 1tšk.)"
   ]
  },
  {
   "cell_type": "code",
   "execution_count": null,
   "id": "b99f3bc7",
   "metadata": {},
   "outputs": [],
   "source": []
  },
  {
   "cell_type": "markdown",
   "id": "c1be206a",
   "metadata": {},
   "source": [
    "1\\. Tiesė, einanti per koordinačių pradžios tašką, statmenai kertasi su kita tiese taške $(1; 2)$. Užrašykite abiejų tiesių lygtis (4)  \n",
    "2\\. Raskite funkcijos $-2x^2+5$ reikšmių sritį ir nustatykite funkcijos grafiko simetrijos ašį (2)  \n",
    "3\\. Nubraižykite funkcijos $g(x)=2x^2+4x+2$ grafiką. Nurodykite, kada $g(x)<0$ (5)  \n",
    "4\\. Paveikus tam tikru preparatu bakterijų koloniją, jų skaičius (tūkstančiais) po $t$ valandų apytiksliai lygus $N(t)= -19t^2+160t+400$ ($0\\le t \\le 7$). Po kiek valandų bakterijų kolonija nustos augusi ir ims nykti? (2)  \n",
    "5\\. Funkcijos išreikštos formulėmis $f(x)=10-2x$ ir $g(a)=2a+3$. Apskaičiuokite $f(2)+g(-1.5)$ (2)  \n",
    "6\\. Užrašykite parabolės lygtį, jei jos reikšmė lygi 1, kai $x=-1$, o jos didžiausia reikšmė yra 3, kai $x=-3$ (3)  \n",
    "7\\. Nebraižydami funkcijų $f(x)=6x^2-7x+2$ ir $g(x)=-2x$ grafikų, įrodykite, kad jie neturi bendrų taškų (2)  \n",
    "8\\. $x_1$ ir $x_2$ yra lygties $3x^2-8x-15$ sprendiniai. Nespręsdami lygties, apskaičiuokite $x_1^3+x_2^3$ (3)  \n",
    "\n"
   ]
  },
  {
   "cell_type": "markdown",
   "id": "dd739d8b",
   "metadata": {},
   "source": [
    "## Aštuntas uždavinių komplektas Mantui ir Ugnei\n",
    "***Uždaviniai bus paimti iš uždavinyno Matematika devintai klasei*** \n",
    "\n",
    "Vėliau įkelsiu daugiau uždavinių"
   ]
  },
  {
   "cell_type": "markdown",
   "id": "604733e7",
   "metadata": {},
   "source": [
    "32\\. Turistas ėjo iš poilsiavietės į artimiausią geležinkelio stotį. Per pirmą valandą jis įveikė 3 km. Tada jis sumetė, kad eidamas tokiu greičiu ir toliau, į traukinį pavėluotų 40 minučių, o eidamas 4km/h greičiu, ateitų 45 minutėmis anksčiau. Apskaičiuokite poilsiavietės atstumą iki geležinkelio stoties."
   ]
  },
  {
   "cell_type": "markdown",
   "id": "d45cc196",
   "metadata": {},
   "source": [
    "Pateiksiu iliustraciją, apibendrinančią tekstinio uždavinio sprendimo procesą\n",
    "![](etu.png)"
   ]
  },
  {
   "cell_type": "markdown",
   "id": "d9888a71",
   "metadata": {},
   "source": [
    "**1 sprendimo būdas panaudojant aritmetines operacijas**"
   ]
  },
  {
   "cell_type": "markdown",
   "id": "964dd3e1",
   "metadata": {},
   "source": [
    "Jei turistas eitų $v_2 = 4$km/h greičiu, tai jo tempas paspartėtų $\\displaystyle\\frac{v_2}{v_1} = \\frac{4}{3}$ karto, o ėjimo laikas sudarytų $\\displaystyle\\frac{v_1}{v_2} = \\frac{3}{4}$ trukmės, numatytos eiti lėtesniu greičiu. Tai yra sumažėtų $\\displaystyle 1 - \\frac{v_1}{v_2} = 1 - \\frac{3}{4} = \\frac{1}{4}$ arba kitaip tariant ketvirtadaliu. Šis ketvirtadalis atitinka $\\Delta t_1 - \\Delta t_2 = 40 - (-45) = 85$ minutes. Vadinasi, visas lėtesniu greičiu einant numatytas laikas yra $\\displaystyle(\\Delta t_1 - \\Delta t_2)\\times \\frac{1}{1 - \\frac{v_1}{v_2}} = 85 \\times 4 = 340$ minučių. Per jas yra įveikiamas $\\frac{340}{60} \\times 3 = 17$ kilometrų atstumas. Turint mintyje, kas 3km jau nueiti, galutinis ieškomas atstumas yra 20 kilometrų."
   ]
  },
  {
   "cell_type": "markdown",
   "id": "e4ed3bc1",
   "metadata": {},
   "source": [
    "**2 sprendimo būdas panaudojant lygčių sprendimą**\n",
    "\n",
    "Tarkime, kad:\n",
    "\n",
    "$\\begin{cases} x\\text{ -- likęs nueiti mažesnis 3km kelias} \\\\y\\text{ -- likęs laikas iki traukinio išvykimo}\\end{cases}$\n",
    "\n",
    "Suvienodinę matavimo vienetus (laiką matuosime valandomis), užrašome, kaip skaičiuojamas vykimo greitis abiem atvejais pagal formulę $v=\\frac{s}{t}$:\n",
    "\n",
    "$\\displaystyle\\begin{cases} 3 = \\frac{x}{y+\\frac{3}{4}}\\\\ 4 = \\frac{x}{y-\\frac{2}{3}}\\end{cases}$\n",
    "\n",
    "Sistemos sprendimas:\n",
    "\n",
    "$\\displaystyle\\begin{cases} 3 = \\frac{x}{y+\\frac{3}{4}}\\\\ 4 = \\frac{x}{y-\\frac{2}{3}}\\end{cases} \\Leftrightarrow \\begin{cases} 3 = \\frac{4x}{4y+3}\\\\ 4 = \\frac{3x}{3y-2}\\end{cases} \\Leftrightarrow \\begin{cases}3(4y+3)=4x \\\\ 4(3y-2)=3x\\end{cases} \\Leftrightarrow \\begin{cases}12y+9=4x \\\\ 12y-8=3x\\end{cases} \\Leftrightarrow \\begin{cases}12y=4x - 9 \\\\ 12y=3x + 8\\end{cases} \\Leftrightarrow \\begin{cases}y=\\frac{4x - 9}{12} \\\\ 4x-9=3x + 8\\end{cases} \\Leftrightarrow \\begin{cases}y=\\frac{4x - 9}{12} \\\\ x=17\\end{cases}$\n",
    "\n",
    "Gavome 17 km. Vadinasi, galutinis ieškomas atstumas yra 20 kilometrų. Jei norite, galite rasti ir $y$ reikšmę. Ji lygi $4\\frac{11}{12}$\n",
    "\n",
    "**3 sprendimo būdas panaudojant peršokimą tarp dviejų daugybos subkonstruktų**\n",
    "\n",
    "Galime formulę $s=vt$ sieti su stačiakampio ploto formule $S=ab$. Tada reikės naudojamus dydžius pakeisti taip:\n",
    "\n",
    "$\\begin{cases} \\text{atstumas}\\to\\text{stačiakampio plotas} \\\\ \\text{greitis}\\to\\text{stačiakampio plotis} \\\\ \\text{laikas}\\to\\text{stačiakampio ilgis}\\end{cases}$\n",
    "\n",
    "Tada reikia sąlygos formuluotę pakeisti taip, kad sutiktų tapatinami dydžiai. Tarkime, turistas skaičiuoja, kokį kelią liko nueiti. Abiem atvejais jis, žinoma, vienodas. Tada jis gali beeidamas išspręsti tokį uždavinį:\n",
    "\n",
    "*Žinoma, kad jei pirmo stačiakampio plotis 3, o ilgis $\\displaystyle{\\frac{3}{4}}$ didesnis už kažkokį skaičių, tai jis bus lygiaplotis su stačiakampiu, kurio plotis yra 4, o ilgis yra $\\displaystyle{\\frac{2}{3}}$ mažesnis už tą patį skaičių. Raskite stačiakampio plotą*\n",
    "\n",
    "Uždavinys palengvėja, nes stačiakampės figūros subkonstruktas daugybos atveju yra tas, prie kurio esame pripratę labiau, nei prie subkonstrukto, kurį vadinu *rodikliu* (tarkim greitis). Ar išspręstumėte tokį uždavinį? Jei pažymėtume tą skaičių $x$, tai gautumėte tokią pačią lygtį, kaip ir lygčių sistemos sprendimo gale. Teisingas atsakymas 17."
   ]
  },
  {
   "cell_type": "markdown",
   "id": "8e2e948c",
   "metadata": {},
   "source": [
    "## Kodas Pijui\n",
    "Just a fancy printing, kad matytųsi, ką išspręsti ir koks progresas"
   ]
  },
  {
   "cell_type": "code",
   "execution_count": 93,
   "id": "83cd1add",
   "metadata": {},
   "outputs": [
    {
     "data": {
      "image/png": "[encoded data removed]",
      "text/plain": [
       "<Figure size 576x216 with 1 Axes>"
      ]
     },
     "metadata": {
      "needs_background": "light"
     },
     "output_type": "display_data"
    }
   ],
   "source": [
    "import matplotlib.pyplot as plt\n",
    "import matplotlib.ticker as mticker\n",
    "from matplotlib.colors import ListedColormap\n",
    "\n",
    "#Since it was asked in comments how to display cell values:\n",
    "\n",
    "\n",
    "def draw_tasking(N, M, P, fill_in):\n",
    "    fig, ax = plt.subplots(figsize=(M, N))\n",
    "    arr = (np.arange(N*M) < P).astype(int)\n",
    "    arr[np.array(fill_in) - 1] = 2\n",
    "    arr = arr.reshape(N, M)[::-1,:]\n",
    "\n",
    "\n",
    "    ax.xaxis.set_tick_params(labeltop=True)\n",
    "    ax.xaxis.set_tick_params(labelbottom=False)\n",
    "\n",
    "    ax.pcolormesh(arr, edgecolors='k', linewidth=2, cmap=ListedColormap(['w', 'lightblue', 'pink']))\n",
    "    ax.set_xticks(np.arange(M + 1))\n",
    "    ax.yaxis.set_major_locator(mticker.FixedLocator(np.arange(N + 1)))\n",
    "    ax.set_yticklabels(np.arange(N, -1, -1))\n",
    "\n",
    "    for i in range(arr.shape[0]):\n",
    "        for j in range(arr.shape[1]):\n",
    "            id = (N-i-1)*M+j + 1\n",
    "            if id <= P:\n",
    "                text = plt.text(j+0.5, i+0.5, id, \n",
    "                        ha=\"center\", va=\"center\", color=\"k\", fontsize='xx-large')\n",
    "\n",
    "    plt.show()\n",
    "\n",
    "draw_tasking(3, 8, 20, [3, 5, 16, 20])"
   ]
  }
 ],
 "metadata": {
  "kernelspec": {
   "display_name": "Python 3 (ipykernel)",
   "language": "python",
   "name": "python3"
  },
  "language_info": {
   "codemirror_mode": {
    "name": "ipython",
    "version": 3
   },
   "file_extension": ".py",
   "mimetype": "text/x-python",
   "name": "python",
   "nbconvert_exporter": "python",
   "pygments_lexer": "ipython3",
   "version": "3.9.7"
  }
 },
 "nbformat": 4,
 "nbformat_minor": 5
}
