{
 "cells": [
  {
   "cell_type": "markdown",
   "id": "99f86928",
   "metadata": {},
   "source": [
    "Esminė atminties savybė, minėta ankstesniame įraše: naudojimasis darbine atmintimi yra valingas procesas, tuo tarpu bet kokio mokymosi rezultatas - informacijos išsaugojimas ilgojoje atmintyje yra nevalingas procesas. Jis priklauso tik nuo to, kokie procesai vyko darbinėje atmintyje. Darbinė atmintis savo veikimo trukme ir talpa yra ribota, todėl reikia skirti daug dėmesio, kad informacija, kuria manipuliuojame darbinėje atmintyje, būtų supakuota į kuo mažiau atminties vienetų. Tai padidins informacijos apdorojimo galimybes ir saugomos informacijos ilgojoje atmintyje ilgaamžiškumą.\n",
    "\n",
    "Darbinės ir ilgosios atminties ryšį galime priskirti elementarioms [psichologijos kurso](https://www.dropbox.com/s/vyghsx7k1ivd86g/David%20G.%20Myers%20Psichologija%202008.pdf?dl=0) žinioms. Aišku, studijos apie atminties veiklą gerokai pasistūmėjo. Pavyzdžiui psichologijos bakalaurai Riomerio universitete mokosi Svelerio pažintinės įkrūvos teoriją (cognitive load theory; Sweller). Šiuo teoriniu modeliu grindžiama, kodėl nepasiteisina dabartinė mūsų šalies švietimo ideologija, teigianti, kad mokymas yra efektyviausias tada, kai vaikas mokosi pats, o ne tada, kai mokytojas jam tiesiogiai perduoda žinias. Pagrindiniai prieštaraujantys argumentai - mokymosi metodai turi būti pasirinkti priklausomai nuo klasės, dalyko ir svarbiausia nuo jau turimų vaiko žinių. Būtina atsižvelgti į tokias mąstymo savybes, kaip **išspręsto pavyzdžio efektas** arba **kompetencijos pasikeitimo efektas**\n",
    "\n",
    "![](atmskaidres.png)"
   ]
  }
 ],
 "metadata": {
  "kernelspec": {
   "display_name": "Python 3 (ipykernel)",
   "language": "python",
   "name": "python3"
  },
  "language_info": {
   "codemirror_mode": {
    "name": "ipython",
    "version": 3
   },
   "file_extension": ".py",
   "mimetype": "text/x-python",
   "name": "python",
   "nbconvert_exporter": "python",
   "pygments_lexer": "ipython3",
   "version": "3.9.7"
  }
 },
 "nbformat": 4,
 "nbformat_minor": 5
}
