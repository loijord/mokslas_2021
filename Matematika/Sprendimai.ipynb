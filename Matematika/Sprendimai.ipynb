{
 "cells": [
  {
   "cell_type": "markdown",
   "id": "25f02848",
   "metadata": {},
   "source": [
    "Tikiuosi, kad spręsdami uždavinius su procentais:\n",
    "    \n",
    "* Naudosite žymėjimą $\\begin{cases}k \\text{ - galutinio ir pradinio skaičių santykis} \\\\ p \\text{ - keliais procentais padidėjo/sumažėjo pradinis skaičius}\\end{cases}$\n",
    "* Atsiminsite, jog su $k<1$ galutinis skaičius mažesnis už pradinį, o $k>1$ - didesnis.\n",
    "* Atsiminsite, jog su $k<1$ turėsime $k = 1-\\frac{p}{100}$, o su $k>1$ turėsime $k = 1+\\frac{p}{100}$.\n",
    "* Stengsitės apsieiti be $p$ ieškojimo sprendžiant šias lygtis. Pvz.: jei $k=3.78$, tai $p$ randamas iš $k$ atimant 1 ir rezultatą padauginant iš 100, o jei $k=0.78$, tai $p$ randamas iš 1 atimant $k$ ir rezultatą padauginant iš 100.\n",
    "* Prieš sudarant bet kurią lygtį stengsitės paaiškinti, kokia yra įvestų kintamųjų ar sudarytų reiškinių prasmė.\n",
    "* Suprasite multiplikatyvumo principą, kai yra keli skaičiaus pasikeitimai: jei iš pradžių skaičių padidina $n$ kartų, o po to $m$ kartų, tai jis nuo pradžių padidės $n\\cdot m$ kartų."
   ]
  },
  {
   "cell_type": "markdown",
   "id": "999b4e87",
   "metadata": {},
   "source": [
    "5\\. Tarpmiestinio autobuso kainą padidinus 20%, pajamos, gautos pardavus bilietus, sumažėjo 16%. Keliais procentais sumažėjo keleivių skaičius? \n",
    "\n",
    "**Sprendimas.**\n",
    "Tegu $\\begin{cases}k \\text{ - galutinio ir pradinio keleivio skaičių santykis} \\\\ p \\text{ - keliais procentais sumažėjo keleivių skaičius}\\end{cases}$.  \n",
    "Tada: $\\boxed{1.2k = 0.84} \\Leftrightarrow \\boxed{k = 0.7} \\stackrel{k = 1-\\frac{p}{100}}{\\Leftrightarrow} \\boxed{p = 30}$"
   ]
  },
  {
   "cell_type": "markdown",
   "id": "bb37b8d4",
   "metadata": {},
   "source": [
    "6\\. Žaidimo kaina buvo didinama du kartus. Po antro kainos padidinimo žaidimas kainavo 2 kartus brangiau negu iki pirmojo kainos padidinimo. Keliais procentais buvo padidinta žaidimo kaina pirmą kartą, jei antrą kartą ji buvo didinama 25%?\n",
    "\n",
    "**Sprendimas.**\n",
    "Tegu $\\begin{cases}k \\text{ - kiek kartų buvo didinama kaina pirmą kartą} \\\\ p \\text{ - keliais procentais buvo didinama kaina pirmą kartą}\\end{cases}$.  \n",
    "Tada: \n",
    "$\\boxed{1.25k = 2} \\Leftrightarrow \\boxed{k = 1.6} \\stackrel{k = 1+\\frac{p}{100}}{\\Leftrightarrow} \\boxed{p = 60}$"
   ]
  },
  {
   "cell_type": "markdown",
   "id": "88d41886",
   "metadata": {},
   "source": [
    "7\\. Pirmuoju vamzdžiu baseinas pripildomas 1.5 karto greičiau, nei antruoju. Jei pirmuoju vamzdžiu vanduo bėga 45 min, o antruoju 1.5 valandos, pripildoma $\\frac{1}{6}$ baseino. Per kiek valandų baseinas pripildomas abiem vamzdžiais?\n",
    "\n",
    "**Sprendimas.**\n",
    "Tegu $a$ - baseino dalis, kuri pribėga II vamzdžiu per 45 min. Tada:  \n",
    "$\\left[\\begin{array}{l} \n",
    "1.5a \\text{ - baseino dalis, kuri pribėga II vamzdžiu per 45 min.} \\\\ \n",
    "a+1.5a \\text{ - baseino dalis, kuri pribėga I ir II vamzdžiais per 45 min.}\\\\ \n",
    "a+2\\cdot 1.5a \\text{ - pribėgusi baseino dalis, kai I vamzdžiu vanduo bėga 45 min. ir II vamzdžiu - 1.5 val}\\end{array}\\right.$ \n",
    "\n",
    "Kadangi $a+2\\cdot 1.5a=\\frac{1}{6}$, tai $a=\\frac{1}{24}$. Per 45 min pribėga $a+1.5a=2.5a = \\frac{5}{48}$ baseino. Tai yra $\\frac{48}{5}=9.6$ karto mažiau, nei reikia. Vadinasi, baseinas bus pripildomas per $45 \\cdot 9.6 = 432$ min = 6.2 val."
   ]
  },
  {
   "cell_type": "markdown",
   "id": "9637e2f4",
   "metadata": {},
   "source": [
    "8\\. Krepšinio treniruotes lanko ne mažiau kaip $94\\%$ vaikinų. Kiti treniruočių lankytojai yra merginos. Kiek mažiausiai mokinių lanko krepšinio treniruotes?\n",
    "\n",
    "**Sprendimas.** Merginų yra ne daugiau kaip $6%$. Tarkime mokinių yra $M$, merginų yra $m$. Pagal sąlygą $\\boxed{\\frac{m}{M} \\le \\frac{6}{100}} \\Leftrightarrow \\boxed{\\frac{M}{m} \\ge \\frac{100}{6}} \\Leftrightarrow \\boxed{M \\ge m \\cdot 16\\frac{2}{3}}$. Mažiausia galima sveikoji $M$ reikšmė yra 17 (kai $m=1$)."
   ]
  },
  {
   "cell_type": "markdown",
   "id": "cecf50d5",
   "metadata": {},
   "source": [
    "9\\. Mokslinių tyrimų centro projekte dalyvauja studentų ir dėstytojų delegacija. Studentų amžiaus vidurkis yra 22 metai, dėstytojų - 47 metai, o visos delegacijos 41 metai. Kiek procentų delegacijos sudaro studentai? \n",
    "\n",
    "**Sprendimas 1.** Tegu $s$ - studentų skaičius ir $d$ - dėstytojų skaičius. Ieškosime $\\frac{s}{s+d}$. Delegacijos amžiaus vidurkis suskaičiuojamas sudedant studentų amžių sumą su dėstytojų amžių suma ir padalijant rezultatą iš delegacijos dydžio:  \n",
    "$\\displaystyle \\frac{22s + 47d}{s+d} = 41 \\Leftrightarrow 22s+47d=41s+41d \\Leftrightarrow 6d=19s \\Leftrightarrow d=\\frac{19}{6}s$  \n",
    "Tada $\\displaystyle\\frac{s}{s+d} = \\frac{s}{\\frac{19}{6}s+s} = \\frac{s}{\\frac{25}{6}s} = \\frac{6}{25}=\\frac{24}{100}$. Gavome, kad $\\frac{24}{100}$ delegacijos yra studentai. Tai yra $24\\%$ (tikslaus studentų skaičiaus sužinoti neįmanoma)"
   ]
  },
  {
   "cell_type": "markdown",
   "id": "2c0c0303",
   "metadata": {},
   "source": [
    "10\\. Skaičius, tris kartus padidintas po tiek pat procentų, padidėjo 8 kartus. Kiek procentų kaskart buvo didinamas skaičius?\n",
    "\n",
    "Tegu $\\begin{cases}k \\text{ - kiek kartų kaskart didinamas skaičius} \\\\ p \\text{ - keliais procentais kaskart didinamas skaičius}\\end{cases}$.  \n",
    "Tada: $\\boxed{k\\cdot k\\cdot k = 8}\\Leftrightarrow \\boxed{k = 2} \\Leftrightarrow \\boxed{p=100}$"
   ]
  },
  {
   "cell_type": "markdown",
   "id": "316590d8",
   "metadata": {},
   "source": [
    "11\\. Po kelerių metų investuota suma padvigubės, jei kasmet priskaičiuojama $4.5\\%$ sudėtinių palūkanų?\n",
    "\n",
    "Tegu ieškomas skaičius yra $n$. Tada $\\boxed{\\underbrace{1.045\\cdot 1.045\\cdot\\dots\\cdot 1.045 = 2}_{n}}\\Leftrightarrow \\boxed{1.045^n=2}\\Leftrightarrow \\boxed{n = \\log_{1.045}{2}\\approx 15.747}$.\n",
    "\n",
    "Suma viršys dvigubą sumą po 16 metų. Kol dar nemokame logaritmų, vienintelis kelias yra lyginti skirtingus rezultatus su skirtingais natūraliaisiais $n$"
   ]
  }
 ],
 "metadata": {
  "kernelspec": {
   "display_name": "Python 3 (ipykernel)",
   "language": "python",
   "name": "python3"
  },
  "language_info": {
   "codemirror_mode": {
    "name": "ipython",
    "version": 3
   },
   "file_extension": ".py",
   "mimetype": "text/x-python",
   "name": "python",
   "nbconvert_exporter": "python",
   "pygments_lexer": "ipython3",
   "version": "3.7.11"
  }
 },
 "nbformat": 4,
 "nbformat_minor": 5
}
