{
 "cells": [
  {
   "cell_type": "markdown",
   "id": "23cb86dc",
   "metadata": {},
   "source": [
    "Šioje dalyje kelsiu tekstinių uždavinių sprendimų aptarimą.\n",
    "\n",
    "### 32 uždavinys\n",
    "Turistas ėjo iš poilsiavietės į artimiausią geležinkelio stotį. Per pirmą valandą jis įveikė 3 km. Tada jis sumetė, kad eidamas tokiu greičiu ir toliau, į traukinį pavėluotų 40 minučių, o eidamas 4km/h greičiu, ateitų 45 minutėmis anksčiau. Apskaičiuokite poilsiavietės atstumą iki geležinkelio stoties."
   ]
  },
  {
   "cell_type": "markdown",
   "id": "0e71500b",
   "metadata": {},
   "source": [
    "**1 sprendimo būdas panaudojant aritmetines operacijas**\n",
    "\n",
    "Jei turistas eitų $v_2 = 4$km/h greičiu, tai jo tempas paspartėtų $\\displaystyle\\frac{v_2}{v_1} = \\frac{4}{3}$ karto, o ėjimo laikas sudarytų $\\displaystyle\\frac{v_1}{v_2} = \\frac{3}{4}$ trukmės, numatytos eiti lėtesniu greičiu. Tai yra sumažėtų $\\displaystyle 1 - \\frac{v_1}{v_2} = 1 - \\frac{3}{4} = \\frac{1}{4}$ arba kitaip tariant ketvirtadaliu. Šis ketvirtadalis atitinka $\\Delta t_1 - \\Delta t_2 = 40 - (-45) = 85$ minutes. Vadinasi, visas lėtesniu greičiu einant numatytas laikas yra $\\displaystyle(\\Delta t_1 - \\Delta t_2)\\times \\frac{1}{1 - \\frac{v_1}{v_2}} = 85 \\times 4 = 340$ minučių. Per jas yra įveikiamas $\\frac{340}{60} \\times 3 = 17$ kilometrų atstumas. Turint mintyje, kas 3km jau nueiti, galutinis ieškomas atstumas yra 20 kilometrų.\n",
    "\n",
    "**2 sprendimo būdas panaudojant lygčių sprendimą**\n",
    "\n",
    "Tarkime, kad:\n",
    "\n",
    "$\\begin{cases} x\\text{ -- likęs nueiti mažesnis 3km kelias} \\\\y\\text{ -- likęs laikas iki traukinio išvykimo}\\end{cases}$\n",
    "\n",
    "Suvienodinę matavimo vienetus (laiką matuosime valandomis), užrašome, kaip skaičiuojamas vykimo greitis abiem atvejais pagal formulę $v=\\frac{s}{t}$:\n",
    "\n",
    "$\\displaystyle\\begin{cases} 3 = \\frac{x}{y+\\frac{3}{4}}\\\\ 4 = \\frac{x}{y-\\frac{2}{3}}\\end{cases}$\n",
    "\n",
    "Sistemos sprendimas:\n",
    "\n",
    "$\\displaystyle\\begin{cases} 3 = \\frac{x}{y+\\frac{3}{4}}\\\\ 4 = \\frac{x}{y-\\frac{2}{3}}\\end{cases} \\Leftrightarrow \\begin{cases} 3 = \\frac{4x}{4y+3}\\\\ 4 = \\frac{3x}{3y-2}\\end{cases} \\Leftrightarrow \\begin{cases}3(4y+3)=4x \\\\ 4(3y-2)=3x\\end{cases} \\Leftrightarrow \\begin{cases}12y+9=4x \\\\ 12y-8=3x\\end{cases} \\Leftrightarrow \\begin{cases}12y=4x - 9 \\\\ 12y=3x + 8\\end{cases} \\Leftrightarrow \\begin{cases}y=\\frac{4x - 9}{12} \\\\ 4x-9=3x + 8\\end{cases} \\Leftrightarrow \\begin{cases}y=\\frac{4x - 9}{12} \\\\ x=17\\end{cases}$\n",
    "\n",
    "Gavome 17 km. Vadinasi, galutinis ieškomas atstumas yra 20 kilometrų. Jei norite, galite rasti ir $y$ reikšmę. Ji lygi $4\\frac{11}{12}$\n",
    "\n",
    "**3 sprendimo būdas panaudojant peršokimą tarp dviejų daugybos subkonstruktų**\n",
    "\n",
    "Galime formulę $s=vt$ sieti su stačiakampio ploto formule $S=ab$. Tada reikės naudojamus dydžius pakeisti taip:\n",
    "\n",
    "$\\begin{cases} \\text{atstumas}\\to\\text{stačiakampio plotas} \\\\ \\text{greitis}\\to\\text{stačiakampio plotis} \\\\ \\text{laikas}\\to\\text{stačiakampio ilgis}\\end{cases}$\n",
    "\n",
    "Tada reikia sąlygos formuluotę pakeisti taip, kad sutiktų tapatinami dydžiai. Tarkime, turistas skaičiuoja, kokį kelią liko nueiti. Abiem atvejais jis, žinoma, vienodas. Tada jis gali beeidamas išspręsti tokį uždavinį:\n",
    "\n",
    "*Žinoma, kad jei pirmo stačiakampio plotis 3, o ilgis $\\displaystyle{\\frac{3}{4}}$ didesnis už kažkokį skaičių, tai jis bus lygiaplotis su stačiakampiu, kurio plotis yra 4, o ilgis yra $\\displaystyle{\\frac{2}{3}}$ mažesnis už tą patį skaičių. Raskite stačiakampio plotą*\n",
    "\n",
    "Uždavinys palengvėja, nes stačiakampės figūros subkonstruktas daugybos atveju yra tas, prie kurio esame pripratę labiau, nei prie subkonstrukto, kurį vadinu *rodikliu* (tarkim greitis). Ar išspręstumėte tokį uždavinį? Jei pažymėtume tą skaičių $x$, tai gautumėte tokią pačią lygtį, kaip ir lygčių sistemos sprendimo gale. Teisingas atsakymas 17."
   ]
  },
  {
   "cell_type": "markdown",
   "id": "66c1ae5d",
   "metadata": {},
   "source": [
    "### 33 uždavinys \n",
    "33\\. Tam tikrą darbą dirbo du nevienodos kvalifikacijos darbininkai, kuriems buvo mokamas skirtingas atlyginimas. Pirmasis uždirbo 240 eur, o antrasis, kuris dirbo 3 dienomis mažiau už pirmąjį - 144 eur. Jeigu antrasis būtų dirbęs tiek dienų, kiek antrasis, o pirmasis - tiek dienų, kiek antrasis, tai pirmasis būtų gavęs 12 eur daugiau už antrąjį. Kiek dienų dirbo kiekvienas darbininkas?"
   ]
  },
  {
   "cell_type": "markdown",
   "id": "6b8ae05b",
   "metadata": {},
   "source": [
    "**Pradžiai - bent vienas veikiantis sprendimas**\n",
    "\n",
    "Pažymėkime $t$ ir $t+3$ pradirbtus laikus dienomis abiem atvejais. Tada $\\displaystyle \\frac{240}{t+3}$ ir $\\displaystyle \\frac{144}{t}$ bus jų atlyginimai už vieną dieną remiantis pirmu scenarijumi (atitinkamai pirmo ir antro darbuotojų). Antrame scenarijuje skaičiuojant gautus galutinius atlyginimus, reikia šiuos skaičius reikia padauginti iš laikų $t$ ir $t+3$ kita tvarka, tad gausis skaičiai $\\displaystyle 240\\cdot \\frac{t}{t+3}$ ir $\\displaystyle 144\\cdot \\frac{t+3}{t}$ (irgi atitinkamai pirmo ir antro darbuotojų). Duota, kad pirmasis darbuotojas gautų 12 eurų daugiau už antrąjį, todėl pirmas skaičius yra 12 didesnis už antrąjį:\n",
    "\n",
    "$\\displaystyle \\boxed{240 \\cdot \\frac{t}{t+3} - 144\\cdot \\frac{t+3}{t} = 12} \\Leftrightarrow \\boxed{20 \\cdot \\frac{t}{t+3} - 12\\cdot \\frac{t+3}{t}=1}$\n",
    "\n",
    "Duoti skaičiai yra atvirkštiniai vienas kitam, todėl galima įvesti keitinį $\\displaystyle x = \\frac{t}{t+3}$\n",
    "\n",
    "Tada gausime $\\displaystyle \\boxed{20x - \\frac{12}{x}=1} \\Leftrightarrow \\boxed{20x^2 - 12= x} \\Leftrightarrow \\boxed{20x^2 - x- 12 = 0} \\Leftrightarrow \\boxed{x=\\left[\\begin{array}{c}\\frac{1+\\sqrt{1+12\\cdot 20\\cdot 4}}{40} \\\\ \\frac{1-\\sqrt{1+12\\cdot 20\\cdot 4}}{40}\\end{array}\\right. = \\left[\\begin{array}{c}\\frac{1+31}{40} \\\\ \\frac{1-31}{40}\\end{array}\\right. = 0.8}\\text{ (neig. reikšmė netinka)}$\n",
    "\n",
    "Iš čia $\\boxed{\\displaystyle{\\frac{t}{t+3}=0.8}} \\Leftrightarrow \\boxed{t=0.8t+2.4} \\Leftrightarrow \\boxed{0.2t=2.4} \\Leftrightarrow \\boxed{t = 12}$\n",
    "\n",
    "Tuomet pirmasis darbininkas dirbo 15 dienų, o antrasis 12.\n",
    "\n",
    "Galima daryti ir be keitinio: \n",
    "\n",
    "$\\boxed{20 \\cdot \\frac{t}{t+3} - 12\\cdot \\frac{t+3}{t}=1} \\Leftrightarrow \\boxed{20t^2 - 12(t+3)^2=t(t+3)} \\Leftrightarrow \\boxed{20t^2 - 12t^2-72t-9=t^2+3t} \\Leftrightarrow \\boxed{7t^2-75t-108=0}$ $\\Leftrightarrow \\boxed{7t^2-84t+9t-108=0}\\Leftrightarrow 7t(t-12) + 9(t-12)=0 \\Leftrightarrow (7t+9)(t-12)=0$ \n",
    "\n",
    "Kairysis daugiklis teigiamas, todėl $t-12=0$ ir $t=12$\n",
    "\n",
    "*Pastaba*. Sąryšis $20a-12b=1$ - tai tiesinė priklausomybė tarp $a$ ir $b$. Šiuo atveju $a$ ir $b$ buvo atvirkštiniai skaičiai. Bendru atveju tiesinė priklausomybė tarp atvirkštinių skaičių neapsieina be kvadratinių lygčių, dažniausiai sudėtingesnių, sprendimo.\n",
    "\n",
    "**Ar yra kitokių sprendimų, pavyzdžiui aritmetinių?**\n",
    "Pabandykime:\n",
    "\n",
    "$\\begin{cases} \\text{uždarbis}\\to\\text{stačiakampio plotas} \\\\ \\text{dienos}\\to\\text{stačiakampio plotis} \\\\ \\text{atlygis už dieną}\\to\\text{stačiakampio ilgis}\\end{cases}$\n",
    "\n",
    "Tada sąlyga skambėtų taip:\n",
    "\n",
    "*Pirmojo stačiakampio plotas lygus 240, o antrojo 144. Pirmojo stačiakampio viena kraštinė yra 3 vienetais didesnė už antro stačiakampio kraštinę. Jei stačiakampius transformuotume, kad kraštinės būtų sukeistos vietomis (pagal ilgius), tai pirmo stačiakampio plotas viršytų antro stačiakampio plotą tik 12. Raskite šių kraštinių ilgius.*\n",
    "\n",
    "Kiek mėginau spręsti, tai labai įdomus geometrinis uždavinys. Jį galima perkelti į tokį brėžinį:"
   ]
  },
  {
   "cell_type": "code",
   "execution_count": 2,
   "id": "b2fdd698",
   "metadata": {},
   "outputs": [
    {
     "data": {
      "image/png": "[encoded data removed]",
      "text/plain": [
       "<Figure size 432x288 with 1 Axes>"
      ]
     },
     "metadata": {
      "needs_background": "light"
     },
     "output_type": "display_data"
    }
   ],
   "source": [
    "#from my_models import draw_division (pas Pijų tekstiniuose uždaviniuose esantis modulis)\n",
    "#draw_division()"
   ]
  },
  {
   "cell_type": "markdown",
   "id": "d7f35c23",
   "metadata": {},
   "source": [
    "Tegu antras stačiakampis yra sritis su numeriu 1, o pirmas - pilna sritis 1, 2, 3, 4. Srities 3 trumpesnioji kraštinė lygi 3. Tada tenkinamos sąlygos:\n",
    "    \n",
    "$\\begin{cases}S_1 = 144\\\\ S_1+S_2+S_3+S_4=240 \\\\ S_1+S_2+12 = S_1+S_3 \\\\ S_1/S_3 = S_2/S_4\\end{cases}$\n",
    "\n",
    "Tokios sistemos sprendimas taip pat susiveda į kvadratinės lygties sprendimą, todėl gali būti, kad vien aritmetiniais veiksmais (be lygčių) paremto sprendimo nėra.\n",
    "\n",
    "**Analogijos su kitais uždaviniais**\n",
    "\n",
    "*George Polya* savo knygoje *How to solve it* siūlo būtinai nepraleisti paskutinio bet kurios problemos sprendimo laiptelio:\n",
    "    \n",
    "***Ar gali patikrinti rezultatą? Ar gali patikrinti įrodymą? Ar gali gauti rezultatą kitu būdu? Ar kitas būdas matomas akimirksniu? Ar gali pasiremti rezultatu arba sprendimo metodu kituose uždaviniuose?***\n",
    "\n",
    "2015 metų egzamine matematikos egzamine randame tokį uždavinį:\n",
    "\n",
    "*Tuo pačiu metu iš miestelių A ir B pastoviais greičiais vienas priešais kitą išvažiavo du dviratininkai. Pirmasis važiavo iš miestelio A į miestelį B, o antrasis – iš miestelio B į miestelį A. Pakeliui jie susitiko. Po susitikimo pirmasis dviratininkas į miestelį B atvyko po 36 minučių, o antrasis į miestelį A atvyko po 25 minučių. Kiek minučių pirmasis dviratininkas važiavo iš miestelio A iki susitikimo su antruoju dviratininku? [3tšk.]*\n",
    "\n",
    "Jo sprendimą galima taip apibendrinti: jei pirmasis dviratininkas važiavo $k$ kartų lėčiau, tai jam po susitikimo reikės įveikti kito dviratininko nuvažiuotą atstumą, kuris yra $k$ kartų didesnis. Vadinasi, jis užtruks $k^2$ kartų ilgiau. Tai yra, $k^2=\\displaystyle \\frac{36}{25}$. Vadinasi, greičiai skiriasi $k=1.2$ karto.\n",
    "\n",
    "Abiejuose uždaviniuose sutinkame situaciją, kai du veikėjai apsikeičia atliekamo darbo dydžiais, tačiau išlaiko tokį patį tempą, kol pabaigia darbus. Pirmame uždavinyje yra duotas atlyginimų skirtumas, o antrame uždavinyje skirtumas nežinomas, bet duotas likusių darbų (atstumų) atlikimo laikų santykis. Su santykiais spręsti daug paprasčiau, nes kvadratinė lygtis gavosi nepilnoji. Kai ieškosime sprendimo kitiems uždaviniams, galėsime prisiminti, kad darbų apsikeitimo atveju reiktų tikėtis kvadratinių sąryšių ir kad daug paprasčiau spręsti yra naudojant santykinį palyginimą, nei skirtuminį."
   ]
  }
 ],
 "metadata": {
  "kernelspec": {
   "display_name": "Python 3 (ipykernel)",
   "language": "python",
   "name": "python3"
  },
  "language_info": {
   "codemirror_mode": {
    "name": "ipython",
    "version": 3
   },
   "file_extension": ".py",
   "mimetype": "text/x-python",
   "name": "python",
   "nbconvert_exporter": "python",
   "pygments_lexer": "ipython3",
   "version": "3.9.7"
  }
 },
 "nbformat": 4,
 "nbformat_minor": 5
}
