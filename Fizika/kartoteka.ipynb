{
 "cells": [
  {
   "cell_type": "markdown",
   "id": "c3b4b63b",
   "metadata": {},
   "source": [
    "Norint pasikartoti tam tikro dalyko sąvokas, pasileidžiame per Python tam skirtos funkcijos aprašymą"
   ]
  },
  {
   "cell_type": "code",
   "execution_count": 1,
   "id": "18221bc2",
   "metadata": {},
   "outputs": [],
   "source": [
    "import random\n",
    "import sys\n",
    "\n",
    "def kartojam_fiziką(words, reverse=False):\n",
    "    if reverse:\n",
    "        words = {y:x for x, y in words.items()}\n",
    "    lt_meanings = list(words.keys())\n",
    "    round_id = 1\n",
    "    print('Paspausk ENTER, jei nusibodo')\n",
    "    while len(lt_meanings)>0:\n",
    "        random.shuffle(lt_meanings)\n",
    "        your_score, total_score = 0, len(lt_meanings)\n",
    "        print('-'*(9+len(str(round_id))))\n",
    "        print(f'|ROUND: {round_id}|')\n",
    "        print('-'*(9+len(str(round_id))))\n",
    "        for w in lt_meanings.copy():\n",
    "            r = input(f'/SĄVOKA: {w}|')\n",
    "            if r == words[w].lower(): \n",
    "                print('\\\\Teisingai!')\n",
    "                lt_meanings.remove(w)\n",
    "                your_score += 1\n",
    "            elif r == '': \n",
    "                print('*** Eik ilsėtis, tinginy')\n",
    "                sys.exit()\n",
    "            else: print('\\\\Neteisingai!', f'Turėjo būti: {words[w]}') \n",
    "        print(f'ATSAKEI: {your_score}/{total_score}, LIKO: {total_score - your_score}')\n",
    "        round_id += 1       \n",
    "    print('GERAI PAVAREI!')"
   ]
  },
  {
   "cell_type": "markdown",
   "id": "f1590111",
   "metadata": {},
   "source": [
    "Paskui reikia apsirašyti susidaryti apibrėžimų banką"
   ]
  },
  {
   "cell_type": "code",
   "execution_count": 2,
   "id": "c4ca9a31",
   "metadata": {},
   "outputs": [],
   "source": [
    "words = {'dispersija':'baltos šviesos skaidymasis į spektrą', \n",
    "'ištisinis spektras':'įvairiaspalvė, trūkių neturinti spalvų juosta',\n",
    "'linijinis spektras':'spektras, sudarytas iš kelių siaurų spalvotų linijų, skleidžiamas įkaitintų atominių dujų',\n",
    "'juostinis spektras':'spektras, sudarytas iš spalvotų juostų, perskirtų tamsiais tarpais, skleidžiamas molekulinų dujų',\n",
    "'spinduliuotės spektras': 'spektras, kurį sudaro šviesą spinduliuojanti medžiaga',\n",
    "'sugerties spektras': 'spektras, kurį sudaro linijos, atsirandančios karštos medžiagos skleidžiamus spindulius leidžiant per mažai įkaitintas dujas'}"
   ]
  },
  {
   "cell_type": "markdown",
   "id": "db0d80b5",
   "metadata": {},
   "source": [
    "Dabar jau turime funkciją ir žodžių banką, tai galime išbandyti šį įrankį"
   ]
  },
  {
   "cell_type": "code",
   "execution_count": null,
   "id": "b39ad34c",
   "metadata": {},
   "outputs": [
    {
     "name": "stdout",
     "output_type": "stream",
     "text": [
      "Paspausk ENTER, jei nusibodo\n",
      "----------\n",
      "|ROUND: 1|\n",
      "----------\n",
      "/SĄVOKA: baltos šviesos skaidymasis į spektrą|dispersija\n",
      "\\Teisingai!\n",
      "/SĄVOKA: spektras, sudarytas iš spalvotų juostų, perskirtų tamsiais tarpais, skleidžiamas molekulinų dujų|juostinis spektras\n",
      "\\Teisingai!\n",
      "/SĄVOKA: įvairiaspalvė, trūkių neturinti spalvų juosta|ištisinis spektras\n",
      "\\Teisingai!\n",
      "/SĄVOKA: spektras, kurį sudaro šviesą spinduliuojanti medžiaga|spinduliuotės spektras\n",
      "\\Teisingai!\n",
      "/SĄVOKA: spektras, sudarytas iš kelių siaurų spalvotų linijų, skleidžiamas įkaitintų atominių dujų|linijinis spektras\n",
      "\\Teisingai!\n"
     ]
    }
   ],
   "source": [
    "kartojam_fiziką(words, reverse=True)"
   ]
  },
  {
   "cell_type": "markdown",
   "id": "fc1a7dfc",
   "metadata": {},
   "source": [
    "Toliau po kiekvenos fizikos pamokos užrašinėsiu apibrėžtų žodžių bankus"
   ]
  },
  {
   "cell_type": "markdown",
   "id": "09d2b9c2",
   "metadata": {},
   "source": [
    "# 2022-03-16"
   ]
  },
  {
   "cell_type": "markdown",
   "id": "eeb9dfb9",
   "metadata": {},
   "source": [
    "`as a Python variable`"
   ]
  },
  {
   "cell_type": "code",
   "execution_count": 3,
   "id": "40ed1b3c",
   "metadata": {},
   "outputs": [],
   "source": [
    "words = {'dispersija':'baltos šviesos skaidymasis į spektrą', \n",
    "'ištisinis spektras':'įvairiaspalvė, trūkių neturinti spalvų juosta',\n",
    "'linijinis spektras':'spektras, sudarytas iš kelių siaurų spalvotų linijų, skleidžiamas įkaitintų atominių dujų',\n",
    "'juostinis spektras':'spektras, sudarytas iš spalvotų juostų, perskirtų tamsiais tarpais, skleidžiamas molekulinų dujų',\n",
    "'spinduliuotės spektras': 'spektras, kurį sudaro šviesą spinduliuojanti medžiaga',\n",
    "'sugerties spektras': 'spektras, kurį sudaro linijos, atsirandančios karštos medžiagos skleidžiamus spindulius leidžiant per mažai įkaitintas dujas'}"
   ]
  },
  {
   "cell_type": "markdown",
   "id": "35766175",
   "metadata": {},
   "source": [
    "`as text for reading`"
   ]
  },
  {
   "cell_type": "markdown",
   "id": "d195d9fd",
   "metadata": {},
   "source": [
    "* **Dispersija** - tai baltos šviesos skaidymasis į spektrą\n",
    "* **Ištisinis spektras** - tai įvairiaspalvė, trūkių neturinti spalvų juosta\n",
    "* **Linijinis spektras** - tai spektras, sudarytas iš kelių siaurų spalvotų linijų, skleidžiamas įkaitintų atominių dujų\n",
    "* **Juostinis spektras** - tai spektras, sudarytas iš spalvotų juostų, perskirtų tamsiais tarpais, skleidžiamas molekulinų dujų\n",
    "* **Spinduliuotės spektras** - tai spektras, kurį sudaro šviesą spinduliuojanti medžiaga\n",
    "* **Sugerties spektras** - tai spektras, kurį sudaro linijos, atsirandančios karštos medžiagos skleidžiamus spindulius leidžiant per mažai įkaitintas dujas\n"
   ]
  }
 ],
 "metadata": {
  "kernelspec": {
   "display_name": "Python 3 (ipykernel)",
   "language": "python",
   "name": "python3"
  },
  "language_info": {
   "codemirror_mode": {
    "name": "ipython",
    "version": 3
   },
   "file_extension": ".py",
   "mimetype": "text/x-python",
   "name": "python",
   "nbconvert_exporter": "python",
   "pygments_lexer": "ipython3",
   "version": "3.9.7"
  }
 },
 "nbformat": 4,
 "nbformat_minor": 5
}
