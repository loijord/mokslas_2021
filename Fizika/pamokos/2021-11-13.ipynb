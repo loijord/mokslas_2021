{
 "cells": [
  {
   "cell_type": "markdown",
   "id": "48ed60bd",
   "metadata": {},
   "source": [
    "### Ruošimosi kontroliniam darbui pavyzdys\n",
    "Svarbiausia:\n",
    "* Reikiamų formulių žinojimas\n",
    "* Konteksto, kuriame taikomos formulės, žinojimas\n",
    "* Sąvokų apibrėžimų žinojimas\n",
    "\n",
    "Būtų geriausia formules pamokoje kuo geriau išsiaiškinti formules (tiek kintamųjų prasmę, tiek kontekstą, kur jos taikomos), kuo tiksliau prisiminti kontekstą (kas atliekama eksperimentuose, kokie reiškiniai vyksta, kokių analogiškų reiškinių sutikome prieš tai), persispręsti bent keletą uždavinių, įsidėmėti būtiniausių sąvokų prasmę. Bet jei nepavyksta, siūlau laikytis tokio ruošimosi plano.\n",
    "\n",
    "**Šį ruošimo kontroliniam darbui pavyzdį pailiustruosime nagrinėdami temą apie kondensatorius ir virpesių kontūrus**  \n",
    "\n",
    "**FORMULĖS**  \n",
    "1\\. Tarkime, kad sąsiuvinyje radome per pamoką užrašytas formules: $T=2\\pi\\sqrt{LC}$; $\\displaystyle L=\\frac{\\lambda^2}{c^2\\cdot 4\\pi^2C}; C=\\frac{1}{f^2\\cdot 4\\pi^2L}$. Neaišku, kurios pagrindinės, kurios išvestinės.  \n",
    "2\\. Norint rasti daugiau informacijos apie reikiamas formules, perverčiame visą vadovėlio skyrių, užsirašome viską, ką tik galima rasti su formulėmis: \n",
    "\n",
    "* Virpesių kontūras. $C = \\frac{Q}{U}$, čia: $\\begin{cases}C\\text{ - kondensatoriaus elektrinė talpa (faradai, F)} \\\\ U\\text{ - įtampa tarp įkrauto kondensatoriaus plokštelių (voltai, V)} \\\\ Q\\text{ - vienos plokštelės krūvio modulis (kulonai, C)}\\end{cases}$\n",
    "* Elektromagnetinė banga. $c = \\lambda\\cdot \\nu$, čia: $\\begin{cases}\\lambda\\text{ - bangos ilgis (metrai, m)}\\\\ \\nu\\text{ - bangos dažnis (hercai, Hz)} \\\\ c\\text{ - bangos sklidimo greitis (m/s; vakume 300000000)}\\end{cases}$\n",
    "\n",
    "3\\. Šaltinyje [http://www.mat.lt/fizikos-formules](http://www.mat.lt/fizikos-formules) galima rasti, kad pamokoje minėta buvo:\n",
    "\n",
    "* [Virpesių kontūro periodas - Tomsono formulė.](http://www.mat.lt/fizikos-formules/elektromagnetiniai-virpesiai/virpesiu-konturo-periodas-tomsono-formule.html) $T = 2\\pi\\sqrt{LC}$, čia: $\\begin{cases}T \\text{ - periodas (s)}\\\\ L\\text{ - induktyvumas (hercai, Hz)} \\\\ C\\text{ - elektrinė banga (faradai, F)}\\end{cases}$\n",
    "* [Virpesių kontūro dažnis](http://www.mat.lt/fizikos-formules/elektromagnetiniai-virpesiai/virpesiu-konturo-daznis.html). $\\displaystyle\\nu = \\frac{1}{2\\pi\\sqrt{LC}}$, čia: $\\begin{cases}\\nu \\text{ - dažnis (hercai)}\\\\ L\\text{ - induktyvumas (henriai, H)} \\\\ C\\text{ - elektrinė banga (faradai, F)}\\end{cases}$\n",
    "\n",
    "4\\. Pasinaudoję papildomo šaltinio formulėmis matome, kad pirma ir antra formulė yra panašios. Reiktų pastebėti, kad antra formulė yra gaunama iš pirmos pasinaudojant lygybe $\\displaystyle \\nu=\\frac{1}{T}$. Galbūt tai bus reikalinga sprendžiant uždavinius?\n",
    "\n",
    "**KONTEKSTAS**  \n",
    "Norint suprasti kontekstą, reikėtų savarankiškai susirasti reikiamų uždavinių, juos išsispręsti ir įsidėmėti situacijas, apibūdintas jų sąlygose. \n",
    "* **Uždavinius** galima rasti šaltinyje [https://fizikologas.lt/](https://fizikologas.lt/)\n",
    "* Reikiamas sprendimui **formules**, tokias kaip [$\\displaystyle T = 2\\pi \\sqrt{LC}$](http://www.mat.lt/fizikos-formules/elektromagnetiniai-virpesiai/virpesiu-konturo-periodas-tomsono-formule.html), [$\\displaystyle C = \\frac{\\varepsilon\\varepsilon_0 S}{d}$](http://www.mat.lt/fizikos-formules/elektrostatika/ploksciojo-kondensatoriaus-elektrine-talpa.html) ir [$\\displaystyle f = \\frac{1}{2\\pi\\sqrt{LC}}$](http://www.mat.lt/fizikos-formules/elektromagnetiniai-virpesiai/virpesiu-konturo-daznis.html) galima rasti vadovėlyje, [http://www.mat.lt/fizikos-formules](http://www.mat.lt/fizikos-formules), [Wiki](https://lt.wikipedia.org/wiki/Dielektrin%C4%97_skvarba) ir kituose šaltiniuose. \n",
    "\n",
    "* **Kontekstas**, kuriame taikomos formulės, atsispindi per 2021-11-13 užsiėmimą spręstų uždavinių sąlygose:  \n",
    "\n",
    "    A. Virpesių kontūro kondensatoriaus talpa 20 mF, o ritės induktyvumas 300 mH. Apskaičiuokite\n",
    "    kontūre vykstančių laisvųjų elektrinių virpesių dažnį, periodą.  \n",
    "    B. Virpesių kontūrą sudaro kondensatorius ir ritė. Kondensatoriaus plokštelių plotas 11 cm2, atstumas\n",
    "    tarp plokštelių 0,1 cm, tarpas užpildytas gintaru. Ritės induktyvumas 12 mH. Kokio periodo ir dažnio\n",
    "    virpesius generuoja kontūras?  \n",
    "    C. Kontūro induktyvumą galima keisti nuo 0,1 μH iki 10 μH, o talpą – nuo 50 pF iki 5000 pF. Kokios yra\n",
    "    kontūro virpesių dažnio kitimo ribos?  \n",
    "\n",
    "  Iš šių uždavinių sąlygų galima **atpažinti tokį kontekstą**: \n",
    "    * Periodas $T$ ir dažnis $f$ yra dydžiai, apibūdinantys virpesių savybes virpesių kontūre.\n",
    "    * Virpesiai kontūre dar vadinami laisvaisiais elektriniais virpesiais.\n",
    "    * Virpesių kontūrą sudaro kondensatorius ir ritė.\n",
    "    * Dalis virpesių kontūro dėsnių, tokių kaip [$\\displaystyle T = 2\\pi \\sqrt{LC}$](http://www.mat.lt/fizikos-formules/elektromagnetiniai-virpesiai/virpesiu-konturo-periodas-tomsono-formule.html) ir [$\\displaystyle f = \\frac{1}{2\\pi\\sqrt{LC}}$](http://www.mat.lt/fizikos-formules/elektromagnetiniai-virpesiai/virpesiu-konturo-daznis.html), priklauso nuo ritės savybių. Tuo tarpu dėsnis [$\\displaystyle C = \\frac{\\varepsilon\\varepsilon_0 S}{d}$](http://www.mat.lt/fizikos-formules/elektrostatika/ploksciojo-kondensatoriaus-elektrine-talpa.html) nusako kondensatoriaus savybes.\n",
    "\n",
    "Uždavinių pavyzdžius buvo galima rasti nuėjus į [https://fizikologas.lt/](https://fizikologas.lt/) *-> Elektromagnetiniai virpesiai -> Tomsono formulė*. Taip pat pasirinkus skiltį *Pratybos* galima rasti per pamoką spręstų uždavinių sprendimų video įrašus ir daugiau uždavinių pavyzdžių.  \n",
    "**SĄVOKŲ APIBRĖŽIMAI**  \n",
    "Reiktų užsirašyti ir pasistengti išmokti visų vadovėlyje pateikiamų paryškintų sąvokų apibrėžimus. Pvz.:\n",
    "\n",
    "* Kondensatorius - tai elektros krūvį kaupiantis prietaisas, kurį sudaro du laidininkai, prijungti prie nuolatinės srovės šaltinio ir taip pat prie atskirtų nelaidžia medžiaga plokštelių.\n",
    "* Elektrinė talpa - tai fizikinis dydis, apibūdinantis kondensatoriaus savybę kaupti elektros krūvį.\n",
    "\n",
    "**PAPILDOMI KLAUSIMAI**  \n",
    "Suprantama, kad kyla klausimų, kaip buvo sugalvota daugybė formulių. Jei norisi atrasti papildomų būdų joms paaiškinti, tai dažnai gali ir nepavykti, nes jos išvedamos stebėjimų pagalba paskelbiant tam tikrus fizikos dėsnius, o kartais panaudojant kol kas neprieinamą aukštesnio lygio matematiką (diferencijavimą ir integravimą). Papildomi būdai paaiškinti formulėms neįeina į programą, **todėl yra pavojus, kad jų ieškant gali nelikti laiko išmokti tai, kas būtina pagal programą**.\n",
    "\n",
    "* Jei formulė yra **pagrindinė**, tai ją papildomai paaiškinti gali pavykti nebent remiantis [kontekstu](https://www.facebook.com/simonas.mamaitis/posts/4251582678206926), kuriame pasitaiko aritmetiniai veiksmai.\n",
    "* Jei formulė yra **išvestinė**, tai turi egzistuoti toks pagrindinių formulių rinkinys, iš kurio panaudojant matematinius pertvarkymus galima ją išvesti. Tačiau kartais tam prireikia per sudėtingų technikų tokių, kaip diferencijavimo ar integravimo. Apie šias technikas vadovėlyje dažniausiai būna nutylėta."
   ]
  }
 ],
 "metadata": {
  "kernelspec": {
   "display_name": "Python 3 (ipykernel)",
   "language": "python",
   "name": "python3"
  },
  "language_info": {
   "codemirror_mode": {
    "name": "ipython",
    "version": 3
   },
   "file_extension": ".py",
   "mimetype": "text/x-python",
   "name": "python",
   "nbconvert_exporter": "python",
   "pygments_lexer": "ipython3",
   "version": "3.9.7"
  }
 },
 "nbformat": 4,
 "nbformat_minor": 5
}
