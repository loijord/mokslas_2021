{
 "cells": [
  {
   "cell_type": "markdown",
   "id": "48ed60bd",
   "metadata": {},
   "source": [
    "## Ruošimosi kontroliniam darbui paruoštukė\n",
    "2021-11-13 pamoką parengiau patarimus, kaip ruoščiausi kontroliniam darbui.\n",
    "\n",
    "Svarbiausia:\n",
    "* Reikiamų formulių žinojimas\n",
    "* Konteksto, kuriame taikomos formulės, žinojimas\n",
    "* Sąvokų apibrėžimų žinojimas\n",
    "\n",
    "Būtų geriausia formules pamokoje kuo geriau išsiaiškinti formules (tiek kintamųjų prasmę, tiek kontekstą, kur jos taikomos), kuo tiksliau prisiminti kontekstą (kas atliekama eksperimentuose, kokie reiškiniai vyksta, kokių analogiškų reiškinių sutikome prieš tai), persispręsti bent keletą uždavinių, įsidėmėti būtiniausių sąvokų prasmę. Bet jei nepavyksta, siūlau laikytis tokio ruošimosi plano. \n",
    "\n",
    "**FORMULĖS**  \n",
    "1\\. Kokias formules turime užrašytas sąsiuvinyje, uždavinių sprendimuose? Perverčiame visą vadovėlio skyrių, užsirašome viską, ką tik galima rasti su formulėmis. Ar matyti, kurios pagrindinės, kurios išvestinės?  \n",
    "2\\. Šaltinyje [http://www.mat.lt/fizikos-formules](http://www.mat.lt/fizikos-formules) galima rasti formules, kurių nėra vadovėlyje.  \n",
    "3\\. Kokie visų užsirašytų formulių išvedimai, paaiškinimai?\n",
    "\n",
    "**KONTEKSTAS**  \n",
    "Norint suprasti kontekstą, reikėtų savarankiškai susirasti reikiamų uždavinių, juos išsispręsti ir įsidėmėti situacijas, apibūdintas jų sąlygose. \n",
    "* **Uždavinius** galima rasti šaltinyje [https://fizikologas.lt/](https://fizikologas.lt/)\n",
    "* Reikiamų sprendimui **formulių** ieškome vadovėlyje, [http://www.mat.lt/fizikos-formules](http://www.mat.lt/fizikos-formules), [Wiki](https://lt.wikipedia.org/wiki/Dielektrin%C4%97_skvarba) ir kituose šaltiniuose. \n",
    "\n",
    "* **Kontekstą**, kuriame taikomos formulės, geriausia būtų išsiaiškinti skaitant vadovėlį. Jei tai nepavyksta, tada bent jau susirašykime visą kontekstą, kurį pavyksta išsiaiškinti skaitant uždavinių sąlygas (bet jų nesprendžiant). \n",
    " \n",
    "**SĄVOKŲ APIBRĖŽIMAI**  \n",
    "Reiktų užsirašyti ir pasistengti išmokti visų vadovėlyje pateikiamų paryškintų sąvokų apibrėžimus. \n",
    "\n",
    "**PAPILDOMI KLAUSIMAI**  \n",
    "Suprantama, kad kyla klausimų, kaip buvo sugalvota daugybė formulių. Jei norisi atrasti papildomų būdų joms paaiškinti, tai dažnai gali ir nepavykti, nes jos išvedamos stebėjimų pagalba paskelbiant tam tikrus fizikos dėsnius, o kartais panaudojant kol kas neprieinamą aukštesnio lygio matematiką (diferencijavimą ir integravimą). Papildomi būdai paaiškinti formulėms neįeina į programą, **todėl yra pavojus, kad jų ieškant gali nelikti laiko išmokti tai, kas būtina pagal programą**.\n",
    "\n",
    "* Jei formulė yra **pagrindinė**, tai ją papildomai paaiškinti gali pavykti nebent remiantis [kontekstu](https://www.facebook.com/simonas.mamaitis/posts/4251582678206926), kuriame pasitaiko aritmetiniai veiksmai.\n",
    "* Jei formulė yra **išvestinė**, tai turi egzistuoti toks pagrindinių formulių rinkinys, iš kurio panaudojant matematinius pertvarkymus galima ją išvesti. Tačiau kartais tam prireikia per sudėtingų technikų tokių, kaip diferencijavimo ar integravimo. Apie šias technikas vadovėlyje dažniausiai būna nutylėta."
   ]
  },
  {
   "cell_type": "markdown",
   "id": "20b31a24",
   "metadata": {},
   "source": [
    "## Paruoštukės taikymas mokantis apie šviesą\n",
    "..."
   ]
  },
  {
   "cell_type": "code",
   "execution_count": null,
   "id": "1dbb70e8",
   "metadata": {},
   "outputs": [],
   "source": []
  }
 ],
 "metadata": {
  "kernelspec": {
   "display_name": "Python 3 (ipykernel)",
   "language": "python",
   "name": "python3"
  },
  "language_info": {
   "codemirror_mode": {
    "name": "ipython",
    "version": 3
   },
   "file_extension": ".py",
   "mimetype": "text/x-python",
   "name": "python",
   "nbconvert_exporter": "python",
   "pygments_lexer": "ipython3",
   "version": "3.7.11"
  }
 },
 "nbformat": 4,
 "nbformat_minor": 5
}
