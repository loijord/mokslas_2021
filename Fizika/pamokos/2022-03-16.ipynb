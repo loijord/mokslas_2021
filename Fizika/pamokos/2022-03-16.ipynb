{
 "cells": [
  {
   "cell_type": "markdown",
   "id": "575d9fb3",
   "metadata": {},
   "source": [
    "Pamoką skyrėme išanalizuoti vadovėlio 5.1 ir 5.2 skyrius: baltos šviesos sudėtį, vaivorykštės susidarymą, spalvas, spektrų rūšis ir spektrinę analizę. Mokymosi proceso neaprašinėsiu, tik priminsiu [ankstesnių analizių apibendrinimą](../2021-11-13.ipynb).\n",
    "\n",
    "Norint pasiruošti kontroliniam darbui, reikia:\n",
    "\n",
    "1\\. Užsirašyti visas formules  \n",
    "2\\. Išnagrinėti kontekstą, sutinkamą tekstiniuose uždaviniuose, reikalaujančiuose taikyti formules  \n",
    "3\\. Užsirašyti sąvokų apibrėžimus  \n",
    "4\\. Bandyti paaiškinti, kaip buvo išvesti dėsniai (warning: jei vadovėlyje yra per sudėtingi paaiškinimai, arba jų nėra, tuomet laikas gali susinaudoti aiškinantis ir nukentės kontrolinis darbas)  \n",
    "\n",
    "Kiekviena dalis reikalauja daug darbo, todėl prie jų prieisime palaipsniui. Vėlesniuose užsiėmimuose matysime, kad kontekstą nagrinėti vien remiantis tekstiniais uždaviniais nepakanka. Matau, kad antra ir ketvirta dalis yra nepilnos, todėl šis sąrašas bus koreguojamas. Bandysiu atrasti semantinę struktūrą, padedančią paprasčiau aprašyti vadovėlyje pateiktus eksperimentų pavyzdžius ir jų išvadas. Kol kas atlikime tik pirmą dalį:"
   ]
  },
  {
   "cell_type": "markdown",
   "id": "40a30438",
   "metadata": {},
   "source": [
    "Paryškintos 5.1, 5.2 ir 5.3 skyrių sąvokos:  \n",
    "`as a Python variable`"
   ]
  },
  {
   "cell_type": "code",
   "execution_count": 1,
   "id": "069f2ff7",
   "metadata": {},
   "outputs": [],
   "source": [
    "words = {'dispersija':'baltos šviesos skaidymasis į spektrą', \n",
    "'ištisinis spektras':'įvairiaspalvė, trūkių neturinti spalvų juosta, apibūdinanti baltos šviesos spindulių dažnių visumą',\n",
    "'linijinis spektras':'spektras, sudarytas iš kelių siaurų spalvotų linijų, skleidžiamas įkaitintų atominių dujų',\n",
    "'juostinis spektras':'spektras, sudarytas iš spalvotų juostų, perskirtų tamsiais tarpais, skleidžiamas molekulinių dujų',\n",
    "'spinduliuotės spektras': 'spektras, kurį sudaro šviesą spinduliuojanti medžiaga',\n",
    "'sugerties spektras': 'spektras, kurį sudaro linijos, atsirandančios karštos medžiagos skleidžiamus spindulius leidžiant per mažai įkaitintas dujas',\n",
    "'spektrinė analizė': 'medžiagų cheminės sudėties tyrimas pagal jų spektrą',\n",
    "'spektroskopas': 'prietaisas ryškiems spektrams gauti ir tirti, sudarytas iš dviejų vamzdžių su glaudžiamaisiais lęšiais, tarp jų įtaistytos trikampės prizmės ir žiūrono okuliaro',\n",
    "'spektrografas': 'prietaisas ryškiems spektrams gauti ir tirti, sudarytas iš dviejų vamzdžių su glaudžiamaisiais lęšiais, tarp jų įtaistytos trikampės prizmės ir fotografinės juostelės',\n",
    "'infraraudonoji spinduliuotė': 'elektromagnetinės bangos, kurias žmogus junta kaip šilumą',\n",
    "'infrafotografija': 'šiluminis specialia kamera sudarytas atvaizdas',\n",
    "'ultravioletinė spinduliuotė': 'elektromagnetinės bangos už regimojo spektro, kurias skleidžia stipriai įkaitinti kūnai',\n",
    "'rentgeno spinduliuotė': 'elektromagnetinės bangos, veikiančios fotografinę plokštelę ir jonizuojančios orą',\n",
    "'gama spinduliuotė': 'elektromagnetinės bangos, trumpesnės už rentgeno spinduliuotę'}"
   ]
  },
  {
   "cell_type": "markdown",
   "id": "53c82593",
   "metadata": {},
   "source": [
    "`as text for reading`"
   ]
  },
  {
   "cell_type": "markdown",
   "id": "d81222a7",
   "metadata": {},
   "source": [
    "* **Dispersija** - baltos šviesos skaidymasis į spektrą\n",
    "* **Ištisinis spektras** - įvairiaspalvė, trūkių neturinti spalvų juosta\n",
    "* **Linijinis spektras** - spektras, sudarytas iš kelių siaurų spalvotų linijų, skleidžiamas įkaitintų atominių dujų\n",
    "* **Juostinis spektras** - spektras, sudarytas iš spalvotų juostų, perskirtų tamsiais tarpais, skleidžiamas molekulinų dujų\n",
    "* **Spinduliuotės spektras** - spektras, kurį sudaro šviesą spinduliuojanti medžiaga\n",
    "* **Sugerties spektras** - spektras, kurį sudaro linijos, atsirandančios karštos medžiagos skleidžiamus spindulius leidžiant per mažai įkaitintas dujas\n",
    "* **Spektrinė analizė** - medžiagų cheminės sudėties tyrimas pagal jų spektrą\n",
    "* **Spektroskopas** - prietaisas ryškiems spektrams gauti ir tirti, sudarytas iš dviejų vamzdžių su glaudžiamaisiais lęšiais, tarp jų įtaistytos trikampės prizmės ir žiūrono okuliaro\n",
    "* **Spektrografas** - prietaisas ryškiems spektrams gauti ir tirti, sudarytas iš dviejų vamzdžių su glaudžiamaisiais lęšiais, tarp jų įtaistytos trikampės prizmės ir fotografinės juostelės\n",
    "* **Infraraudonoji spinduliuotė** - elektromagnetinės bangos, kurias žmogus junta kaip šilumą\n",
    "* **Infrafotografija** - šiluminis specialia kamera sudarytas atvaizdas\n",
    "* **Ultravioletinė spinduliuotė** - elektromagnetinės bangos už regimojo spektro, kurias skleidžia stipriai įkaitinti kūnai\n",
    "* **Rentgeno spinduliuotė** - elektromagnetinės bangos, veikiančios fotografinę plokštelę ir jonizuojančios orą\n",
    "* **Gama spinduliuotė** - elektromagnetinės bangos, trumpesnės už rentgeno spinduliuotę"
   ]
  }
 ],
 "metadata": {
  "kernelspec": {
   "display_name": "Python 3 (ipykernel)",
   "language": "python",
   "name": "python3"
  },
  "language_info": {
   "codemirror_mode": {
    "name": "ipython",
    "version": 3
   },
   "file_extension": ".py",
   "mimetype": "text/x-python",
   "name": "python",
   "nbconvert_exporter": "python",
   "pygments_lexer": "ipython3",
   "version": "3.9.7"
  }
 },
 "nbformat": 4,
 "nbformat_minor": 5
}
