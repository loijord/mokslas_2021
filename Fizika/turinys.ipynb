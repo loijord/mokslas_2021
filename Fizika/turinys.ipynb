{
 "cells": [
  {
   "cell_type": "markdown",
   "id": "b68bba5d",
   "metadata": {},
   "source": [
    "Besibaigiant aštuntai klasei diskutavome, kokias mokymosi formas reikėtų naudoti norint pagerinti fizikos mokymosi rezutatus. Turėjome tris pamokas, kurios patalpintos kitoje repozitorijoje:\n",
    "\n",
    "* [1 pamoka](https://github.com/loijord/matematikos_pamokos/blob/master/programa/Adomas/2021-05-08.ipynb)\n",
    "* [2 pamoka](https://github.com/loijord/matematikos_pamokos/blob/master/programa/Adomas/2021-05-25.ipynb)\n",
    "* [3 pamoka](https://github.com/loijord/matematikos_pamokos/blob/master/programa/Adomas/pagr_fizikos_problema.ipynb)\n",
    "\n",
    "Šių metų mokslo metų pamokos bus talpinamos repozitorijoje [https://github.com/loijord/mokslas_2021](https://github.com/loijord/mokslas_2021)\n",
    "\n",
    "## Vykusios pamokos\n",
    "\n",
    "* [2021-11-13](pamokos/2021-11-13.ipynb) Nagrinėjome, kokiais metodais pasiruošti kontroliniam darbui, kai neturime pakankamai uždavinių ar reikiamų formulių vadovėlyje.\n",
    "* [2021-11-20](pamokos/2021-11-13.ipynb) Nagrinėjome, kaip naudotis paruoštuke mokantis apie šviesą.\n",
    "\n",
    "## Kaip kartotis sąvokas su Python\n"
   ]
  },
  {
   "cell_type": "code",
   "execution_count": null,
   "id": "ebebce83",
   "metadata": {},
   "outputs": [],
   "source": []
  },
  {
   "cell_type": "markdown",
   "id": "df1e49cf",
   "metadata": {},
   "source": [
    "## Ruošimosi kontroliniam darbui pavyzdys\n",
    "perkeltas į 2021-11-13 pamoką"
   ]
  },
  {
   "cell_type": "markdown",
   "id": "3ea3ce42",
   "metadata": {},
   "source": [
    "# Naudingos nuorodos fizikos mokymuisi\n",
    "1\\. [http://www.mat.lt/fizikos-formules](http://www.mat.lt/fizikos-formules)\n",
    "\n",
    "Šioje nuorodoje galėsi:\n",
    "\n",
    "* Susirasti dominančią fizikos formulę\n",
    "* Išsiaiškinti kintamųjų prasmes\n",
    "* Pasitikrinti tam tikrojo kintamojo išvedimą konkrečioje formulėje\n",
    "* Išsiaiškinti formulės (dėsnio) pavadinimą\n",
    "\n",
    "Bet pačiam reikės:\n",
    "\n",
    "* Geriau suprasti kontekstą (situaciją), kur taikoma tam tikra formulė\n",
    "* Suprasti, kurios formulės yra pagrindinės, kurios išvestinės\n",
    "* Pasitikrinti tam tikrojo kintamojo išvedimą, kai yra taikomos kelios formulės\n",
    "\n",
    "2\\. [https://fizikologas.lt/](https://fizikologas.lt/)\n",
    "\n",
    "Kai kurios temos turi uždavinukų pavyzdžius, jei reikia papildomos praktikos.\n",
    "\n",
    "3\\. [https://www.ematematikas.lt/](https://www.ematematikas.lt/)\n",
    "\n",
    "Šiame puslapyje turintys Premium narystę vartotojai gali greitai įsivertinti, kaip moka įvairias temas mokyklinės programos ir egzaminų programos lygyje. Kiekviena klasė yra išskaidyta į skyrius, kurie turi pakankamai trumpus žinias įvertinančus testus. Taip pat matosi visų mokyklinės matematikos temų sąrašas su priskirtomis užduotimis iš visų 20 buvusių matematikos egzaminų.\n",
    "\n",
    "Forumas yra prieinamas visiems, tačiau šiek tiek apmiręs. Archyve galima rasti daug fizikos ir matematikos uždavinių, kurie gali praversti savarankiškai treniruojantis su uždaviniais.\n",
    "\n"
   ]
  },
  {
   "cell_type": "markdown",
   "id": "24832d20",
   "metadata": {},
   "source": [
    "# Vertingos nuorodos bendram lavinimuisi\n",
    "### Mokslo sriubos laidos\n",
    "Subscribe: [Mokslo Sriubos kanalas](https://www.youtube.com/channel/UCdOoN3WOefqtvWor9B7Yyiw)\n",
    "\n",
    "***Šių metų sezonas***\n",
    "* [Mokslo sriuba: kelionė prie Islandijos ugnikalnio (1 dalis)](https://www.youtube.com/watch?v=6_6Tswsjfgs)\n",
    "* [Mokslo sriuba: Fagradalsfjalio ugnikalnis](https://www.youtube.com/watch?v=vYbFRP8JM9M)\n",
    "* [Mokslo sriuba: kaip veikia šiuolaikinės vėjo jėgainės?](https://www.youtube.com/watch?v=7GN4CshV4FY)\n",
    "* [Mokslo sriuba: kodėl Žemės gelmėse taip karšta?](https://www.youtube.com/watch?v=fhKqTtKiyFg)\n",
    "\n",
    "***Kitų metų sezonai***\n",
    "* [Mokslo sriuba: kvantinės fizikos keistumai](https://www.youtube.com/watch?v=hyP06TAMhHo)\n",
    "* [Mokslo sriuba: apie termobranduolinę sintezę (1 dalis)](https://www.youtube.com/watch?v=V9pwC_Pvrw8)\n",
    "* [Mokslo sriuba: termobranduolinė sintezė ir Wendelstein 7-X stelaratorius](https://www.youtube.com/watch?v=ZieXzalrE6k)\n",
    "* [Mokslo sriuba: vakcinos nuo koronaviruso (1 dalis)](https://www.youtube.com/watch?v=kgQvuh5pi0I)\n",
    "* [Mokslo sriuba: vakcinos nuo koronaviruso (2 dalis)](https://www.youtube.com/watch?v=AcHX2PjgPVw)\n",
    "* [Mokslo sriuba: kodėl prieš 50 metų žmonės skrido į Mėnulį?](https://www.youtube.com/watch?v=_V_xi27SyFY)\n",
    "* [Mokslo sriuba: JAV Saturn V ir sovietų N1 raketos](https://www.youtube.com/watch?v=iLMZD84Qf7k)\n",
    "* [Mokslo sriuba: Apollo 11 skrydis į Mėnulį](https://www.youtube.com/watch?v=uEbGlIdV-7s)\n",
    "* [Mokslo sriuba: Apollo 11 išsilaipinimas ant Mėnulio](https://www.youtube.com/watch?v=D1NnBYeiGnQ)\n",
    "* [Mokslo sriuba: kaip Apollo astronautai įveikė Van Aleno žiedus?](https://www.youtube.com/watch?v=112L6lKXRdI)\n",
    "* [Mokslo sriuba: Hablo kosminiam teleskopui - 30 metų (1 dalis)](https://www.youtube.com/watch?v=LUlxAPB90hs)\n",
    "* [Mokslo sriuba: įdomiausi „Hubble“ teleskopo atradimai](https://www.youtube.com/watch?v=dvB_5usn9oA)\n",
    "* [Mokslo sriuba: įdomiausi „Hubble“ teleskopo atradimai (2 dalis)](https://www.youtube.com/watch?v=Q9lgLefieII)\n",
    "* [Mokslo sriuba: Džeimso Vebo kosminis teleskopas](https://www.youtube.com/watch?v=mpqf0oaSFQA)\n",
    "* [Mokslo sriuba: gyvybės pėdsakų Marse paieškos](https://www.youtube.com/watch?v=cMU0l2S6fFU)\n",
    "* [Mokslo sriuba: 5G poveikis sveikatai](https://www.youtube.com/watch?v=83DuC-qpU3A)\n",
    "* [Mokslo sriuba: Ignalinos atominė elektrinė (1 dalis)](https://www.youtube.com/watch?v=QgyWce-9rGo)\n",
    "* [Mokslo sriuba: Ignalinos atominė elektrinė (2 dalis)](https://www.youtube.com/watch?v=SJ5rzZQ1BSU)\n",
    "\n",
    "***Kitos nuorodos***\n",
    "* [Kassavaitės astronomijos naujienos](https://www.konstanta.lt/)\n",
    "* [Einšteino reliatyvumo teorija](https://www.youtube.com/watch?v=ev9zrt__lec)"
   ]
  }
 ],
 "metadata": {
  "kernelspec": {
   "display_name": "Python 3 (ipykernel)",
   "language": "python",
   "name": "python3"
  },
  "language_info": {
   "codemirror_mode": {
    "name": "ipython",
    "version": 3
   },
   "file_extension": ".py",
   "mimetype": "text/x-python",
   "name": "python",
   "nbconvert_exporter": "python",
   "pygments_lexer": "ipython3",
   "version": "3.9.7"
  }
 },
 "nbformat": 4,
 "nbformat_minor": 5
}
