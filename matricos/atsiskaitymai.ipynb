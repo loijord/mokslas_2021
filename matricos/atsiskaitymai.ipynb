{
 "cells": [
  {
   "cell_type": "markdown",
   "id": "78dbd423",
   "metadata": {},
   "source": [
    "Mokėjimų tvarkaraštis nuo 12 19\n",
    "\n",
    "Matematika su Mantu ir Ugne ketvirtadienį\n",
    "\n",
    "03 10  \n",
    "03 03     \n",
    "02 24    \n",
    "02 10    \n",
    "02 03    \n",
    "01 27      \n",
    "01 20    \n",
    "01 13    \n",
    "\n",
    "Matematika su Mantu ir Ugne sekmadienį\n",
    "\n",
    "03 13   \n",
    "03 06    \n",
    "02 27    \n",
    "02 06      \n",
    "01 30     \n",
    "01 23    \n",
    "01 16 (atskiros pamokos)  \n",
    "01 09  \n",
    "12 19    \n",
    "\n",
    "Matematika su Pijumi trečiadienį\n",
    "\n",
    "03 09  \n",
    "03 02    \n",
    "02 23   \n",
    "02 09    \n",
    "02 02    \n",
    "01 26    \n",
    "01 19    \n",
    "01 12    \n",
    "\n",
    "Programavimas su Mantu antradienį\n",
    "\n",
    "03 08     \n",
    "03 01    \n",
    "02 22     \n",
    "02 08    \n",
    "02 05    \n",
    "01 25    \n",
    "01 11      \n",
    "01 06     \n",
    "12 22    \n",
    "\n",
    "\n",
    "Fizika su Adomu šeštadienį\n",
    "\n",
    "02 26  \n",
    "02 12  \n",
    "01 22  \n",
    "01 15  "
   ]
  },
  {
   "cell_type": "markdown",
   "id": "ae49bef6",
   "metadata": {},
   "source": [
    "INCOME:  \n",
    "02 27: 200.00 -> Lina  \n",
    "02 25: 150.00 -> Ina  \n",
    "01 19: 100.00 -> Ina  \n",
    "12 15: 70.00 + 100.00 į priekį -> Ina  \n",
    "12 08: 200.00 + 70 už Pijų  "
   ]
  },
  {
   "cell_type": "markdown",
   "id": "6056e2a1",
   "metadata": {},
   "source": [
    "### Linai\n",
    "\n",
    "Lina už Ugnės matematikos pamokas gruodžio 8 d. atsiskaitė 200 eur į priekį ir 70 eur už Pijaus pamokas. Tada po 200 eur mokėjo sausio viduryje ir vasario 27 d. \n",
    "\n",
    "Nuo to laiko gruodį Ugnė turėjo 4 užsiėmimus. Po to sausį ir vasarį turėjo dar 12 pamokų (1 iš jų vyko atskirai). Iš viso: 16 pamokų, 202.5 eur.  \n",
    "\n",
    "Be matematikos pamokų Lina mokėjo už Pijaus užsiėmimus. Jų gruodžio mėnesį buvo 3, o sausį ir vasarį - po 3. Iš viso 135 eur.\n",
    "\n",
    "Iki kovo 1 d. (neįskaitant) likutis buvo 62.5 eur + 200 eur.\n",
    "Kovo 13 d. (praeitą sav. po sekmadienio) likutis buvo 182.5 eur.\n",
    "\n",
    "### Inai\n",
    "Ina už užsiėmimus atsiskaitė 100 eurų į priekį gruodžio 15 d., sausio 19 d. 100 eurų ir vasario 24 d. 150 eurų.\n",
    "\n",
    "Likusį gruodžio mėnesį Mantas turėjo 2 užsiėmimus, o sausį ir vasarį turėjo dar 12 pamokų (1 iš jų vyko atskirai). Iš viso: 14 pamokų, 177.5 eur.  \n",
    "\n",
    "Be matematikos pamokų tarp gruodžio 15 ir dabar Mantas turėjo iš viso 9 programavimo užsiėmimus (kartu su dviem kovo mėnesio užsiėmimais). Iš viso 135 eur, 105 eur iki vasario galo. \n",
    "\n",
    "Vasario 24 d. po ketvirtadienio pamokos ateinančioms pamokoms likutis buvo 80 eur.  \n",
    "Iki kovo 1 d. (neįskaitant) likutis buvo 67.5 eur.\n",
    "Likutis išsinaudojo kovo 10 d. po praeitos savaitės ketvirtadienio.\n",
    "\n",
    "### Erikai\n",
    "Sausio viduryje gavau 110 eurų įmoką. Nelabai suprantu, už kelis čia užsiėmimus, nes pernai metais buvo tik vienas neapmokėtas užsiėmimas, o šiais metais iki dabar vyko tik 5 užsiėmimai. Tai išnaudota 90 eurų. Kaip matot, užsiėmimų tempas sulėtėjo per pusę, Adomas dažnai atšaukia šeštadienio pamokas, o darant ilgesnes bent 2 savaičių pertraukas būna sunku prisiminti, ką ėjome anksčiau. Todėl siūlau arba mokytis Adomui arba šiokiadieniais, arba mėginti mokytis porcijomis (darome ilgesnę pertrauką, kai esame įsitikinę, kad įveikėme pilną skyrių). Kol kas bandome mokytis šiokiadieniais."
   ]
  },
  {
   "cell_type": "markdown",
   "id": "8f287070",
   "metadata": {},
   "source": [
    "# Update"
   ]
  },
  {
   "cell_type": "markdown",
   "id": "0c1bccf1",
   "metadata": {},
   "source": [
    "### Inai ir Linai\n",
    "\n",
    "Mantas su Ugne iki Velykų atostogų turėjo 9 pamokas:\n",
    "\n",
    "* Kovo 13, 17, 20, 27, 31 d.\n",
    "* Balandžio 3, 7, 10, 14\n",
    "\n",
    "Mantas atskirai turėjo pamoką balandžio 24d. (sekmadienį, po atostogų)"
   ]
  },
  {
   "cell_type": "code",
   "execution_count": 2,
   "id": "424b0449",
   "metadata": {},
   "outputs": [
    {
     "data": {
      "text/html": [
       "\n",
       "        <iframe\n",
       "            width=\"100%\"\n",
       "            height=\"650\"\n",
       "            src=\"http://127.0.0.1:8050/\"\n",
       "            frameborder=\"0\"\n",
       "            allowfullscreen\n",
       "            \n",
       "        ></iframe>\n",
       "        "
      ],
      "text/plain": [
       "<IPython.lib.display.IFrame at 0x7f6a525050a0>"
      ]
     },
     "metadata": {},
     "output_type": "display_data"
    }
   ],
   "source": [
    "import plotly.express as px\n",
    "from jupyter_dash import JupyterDash\n",
    "from dash import dcc\n",
    "import dash_html_components as html\n",
    "from dash.dependencies import Input, Output# Load Data\n",
    "df = px.data.tips()# Build App\n",
    "app = JupyterDash(__name__)\n",
    "app.layout = html.Div([\n",
    "    html.H1(\"JupyterDash Demo\"),\n",
    "    dcc.Graph(id='graph'),\n",
    "    html.Label([\n",
    "        \"colorscale\",\n",
    "        dcc.Dropdown(\n",
    "            id='colorscale-dropdown', clearable=False,\n",
    "            value='plasma', options=[\n",
    "                {'label': c, 'value': c}\n",
    "                for c in px.colors.named_colorscales()\n",
    "            ])\n",
    "    ]),\n",
    "])# Define callback to update graph\n",
    "@app.callback(\n",
    "    Output('graph', 'figure'),\n",
    "    [Input(\"colorscale-dropdown\", \"value\")]\n",
    ")\n",
    "def update_figure(colorscale):\n",
    "    return px.scatter(\n",
    "        df, x=\"total_bill\", y=\"tip\", color=\"size\",\n",
    "        color_continuous_scale=colorscale,\n",
    "        render_mode=\"webgl\", title=\"Tips\"\n",
    "    )# Run app and display result inline in the notebook\n",
    "app.run_server(mode='inline')"
   ]
  }
 ],
 "metadata": {
  "kernelspec": {
   "display_name": "Python 3 (ipykernel)",
   "language": "python",
   "name": "python3"
  },
  "language_info": {
   "codemirror_mode": {
    "name": "ipython",
    "version": 3
   },
   "file_extension": ".py",
   "mimetype": "text/x-python",
   "name": "python",
   "nbconvert_exporter": "python",
   "pygments_lexer": "ipython3",
   "version": "3.9.7"
  }
 },
 "nbformat": 4,
 "nbformat_minor": 5
}
