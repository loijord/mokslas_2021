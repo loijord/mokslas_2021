{
 "cells": [
  {
   "cell_type": "code",
   "execution_count": null,
   "id": "5f3d530e",
   "metadata": {},
   "outputs": [],
   "source": [
    "Mokėjimų tvarkaraštis nuo 12 19\n",
    "\n",
    "Matematika su Mantu ir Ugne ketvirtadienį\n",
    "\n",
    "03 03 *\n",
    "02 24 *\n",
    "02 10 *\n",
    "02 03 *\n",
    "01 27 *\n",
    "01 20 *\n",
    "01 13 *\n",
    "\n",
    "Matematika su Mantu ir Ugne sekmadienį\n",
    "\n",
    "03 06 *\n",
    "02 27 *\n",
    "02 06 *\n",
    "01 30 *\n",
    "01 23 *\n",
    "01 16 nn\n",
    "01 09 *\n",
    "12 19 *\n",
    "\n",
    "Matematika su Pijumi trečiadienį\n",
    "\n",
    "03 02 *\n",
    "02 23\n",
    "02 09\n",
    "02 02\n",
    "01 26\n",
    "01 19\n",
    "01 12\n",
    "\n",
    "Programavimas su Mantu antradienį\n",
    "\n",
    "03 01 *\n",
    "02 22 *\n",
    "02 08 *\n",
    "02 05 *\n",
    "01 25 *\n",
    "01 11 *\n",
    "01 06 *\n",
    "12 22 *\n",
    "\n",
    "\n",
    "Fizika su Adomu šeštadienį\n",
    "\n",
    "02 26 *\n",
    "02 12 *\n",
    "01 22 *\n",
    "01 15 *"
   ]
  }
 ],
 "metadata": {
  "kernelspec": {
   "display_name": "Python 3 (ipykernel)",
   "language": "python",
   "name": "python3"
  },
  "language_info": {
   "codemirror_mode": {
    "name": "ipython",
    "version": 3
   },
   "file_extension": ".py",
   "mimetype": "text/x-python",
   "name": "python",
   "nbconvert_exporter": "python",
   "pygments_lexer": "ipython3",
   "version": "3.9.7"
  }
 },
 "nbformat": 4,
 "nbformat_minor": 5
}
