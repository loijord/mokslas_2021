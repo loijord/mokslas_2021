{
 "cells": [
  {
   "cell_type": "code",
   "execution_count": 8,
   "id": "6d327052",
   "metadata": {},
   "outputs": [],
   "source": [
    "import sympy as sp\n",
    "from IPython.display import Markdown, Latex, display\n",
    "x, y, z = sp.symbols('x y z')\n",
    "X = sp.Matrix([x, y, z])"
   ]
  },
  {
   "cell_type": "code",
   "execution_count": 16,
   "id": "664287da",
   "metadata": {},
   "outputs": [
    {
     "data": {
      "text/plain": [
       "'\\\\begin{cases} abc \\\\end{cases}'"
      ]
     },
     "execution_count": 16,
     "metadata": {},
     "output_type": "execute_result"
    }
   ],
   "source": [
    "def LatexEnv(name, core, c=None):\n",
    "    if c==None: c=''\n",
    "    else: c=f'{{{c}}}'\n",
    "    return f'\\\\begin{{{name}}}{c} {core} \\\\end{{{name}}}'\n",
    "LatexEnv('cases', 'abc')"
   ]
  },
  {
   "cell_type": "code",
   "execution_count": 14,
   "id": "ae3cdc94",
   "metadata": {},
   "outputs": [
    {
     "data": {
      "text/plain": [
       "'\\\\frac{a}{n}'"
      ]
     },
     "execution_count": 14,
     "metadata": {},
     "output_type": "execute_result"
    }
   ],
   "source": [
    "def LatexArgs(name, *args):\n",
    "    return f'\\\\{name}'+''.join(f'{{{arg}}}' for arg in args)\n",
    "LatexArgs('frac','a','n')"
   ]
  },
  {
   "cell_type": "code",
   "execution_count": 142,
   "id": "4f505748",
   "metadata": {},
   "outputs": [
    {
     "data": {
      "text/plain": [
       "'\\\\text{det(A)} = - (1 \\\\cdot 3 \\\\cdot 5 + 3 \\\\cdot 5 \\\\cdot 4 + 3 \\\\cdot 5 \\\\cdot 5) + \\\\left(1 \\\\cdot 5 \\\\cdot 5 + 4 \\\\cdot 3 \\\\cdot 3 + 5 \\\\cdot 5 \\\\cdot 3\\\\right) = - (15 + 60 + 75) + \\\\left(25 + 36 + 75\\\\right) = -150 + 136 = -14'"
      ]
     },
     "execution_count": 142,
     "metadata": {},
     "output_type": "execute_result"
    }
   ],
   "source": [
    "def LatexEq(steps):\n",
    "    def _tex(n):\n",
    "        if type(n) is str: return n\n",
    "        else: return sp.latex(n)\n",
    "        \n",
    "    return ' = '.join([_tex(s) for s in steps])\n",
    "\n",
    "LatexEq(DetCalc_3x3_process(A, name='A'))"
   ]
  },
  {
   "cell_type": "code",
   "execution_count": 153,
   "id": "f278f612",
   "metadata": {},
   "outputs": [],
   "source": [
    "def latexy(f):\n",
    "    return f'${f}$'"
   ]
  },
  {
   "cell_type": "code",
   "execution_count": 118,
   "id": "2513a18b",
   "metadata": {},
   "outputs": [
    {
     "data": {
      "text/plain": [
       "[Eq(x + 3*y + 3*z, 4), Eq(5*x + 5*y + 3*z, 4), Eq(4*x + 5*y + 5*z, 9)]"
      ]
     },
     "execution_count": 118,
     "metadata": {},
     "output_type": "execute_result"
    }
   ],
   "source": [
    "def AB_to_system(M1, M2):\n",
    "    #given AX, return equations needed\n",
    "    return (sp.Eq(a,b) for a,b in zip(M1, M2))\n",
    "                                        \n",
    "equations = list(AB_to_system(A*X, B))\n",
    "equations"
   ]
  },
  {
   "cell_type": "code",
   "execution_count": 10,
   "id": "3376774a",
   "metadata": {},
   "outputs": [
    {
     "data": {
      "text/plain": [
       "'\\\\begin{cases} x + 3 y + 3 z = 4 \\\\\\\\ 5 x + 5 y + 3 z = 4 \\\\\\\\ 4 x + 5 y + 5 z = 9 \\\\end{cases}'"
      ]
     },
     "execution_count": 10,
     "metadata": {},
     "output_type": "execute_result"
    }
   ],
   "source": [
    "def system_to_latex(equations):\n",
    "    latexify = [sp.latex(n) for n in equations]\n",
    "    core = ' \\\\\\\\ '.join(latexify)\n",
    "    return LatexEnv('cases', core)\n",
    "\n",
    "result = system_to_latex(equations)\n",
    "result"
   ]
  },
  {
   "cell_type": "code",
   "execution_count": 11,
   "id": "2adff716",
   "metadata": {},
   "outputs": [
    {
     "data": {
      "text/plain": [
       "'\\\\begin{cases} x + 3 y + 3 z = 4 \\\\\\\\ 5 x + 5 y + 3 z = 4 \\\\\\\\ 4 x + 5 y + 5 z = 9 \\\\end{cases}'"
      ]
     },
     "execution_count": 11,
     "metadata": {},
     "output_type": "execute_result"
    }
   ],
   "source": [
    "def AB_to_latex(A, B):\n",
    "    return system_to_latex(AB_to_system(A, B))\n",
    "AB_to_latex(A*X, B)"
   ]
  },
  {
   "cell_type": "code",
   "execution_count": 72,
   "id": "1fd42b06",
   "metadata": {},
   "outputs": [
    {
     "data": {
      "text/markdown": [
       "\\begin{cases} x + 3 y + 3 z = 4 \\\\ 5 x + 5 y + 3 z = 4 \\\\ 4 x + 5 y + 5 z = 9 \\end{cases}"
      ],
      "text/plain": [
       "<IPython.core.display.Markdown object>"
      ]
     },
     "metadata": {},
     "output_type": "display_data"
    }
   ],
   "source": [
    "display(Markdown(system_to_latex(AX_to_system(A*X, B))))"
   ]
  },
  {
   "cell_type": "code",
   "execution_count": 203,
   "id": "488bbf87",
   "metadata": {},
   "outputs": [
    {
     "data": {
      "text/plain": [
       "('\\\\text{det(A)}',\n",
       " '\\\\left|\\\\begin{array}{ccc} 1&3&3\\\\\\\\5&5&3\\\\\\\\4&5&5 \\\\end{array}\\\\right|',\n",
       " -(1*3*5 + 3*5*4 + 3*5*5) + 1*5*5 + 4*3*3 + 5*5*3,\n",
       " -(15 + 60 + 75) + 25 + 36 + 75,\n",
       " -150 + 136,\n",
       " -14)"
      ]
     },
     "execution_count": 203,
     "metadata": {},
     "output_type": "execute_result"
    }
   ],
   "source": [
    "def DetCalc_3x3_process(M, name='A'):\n",
    "    step0 = LatexArgs('text', f'det({name})')\n",
    "    detcore = \"\\\\\\\\\".join([f\"{M[0]}&{M[1]}&{M[2]}\", f\"{M[3]}&{M[4]}&{M[5]}\", f\"{M[6]}&{M[7]}&{M[8]}\"])\n",
    "    step1 = f'\\\\left|{LatexEnv(\"array\", detcore, \"ccc\")}\\\\right|'\n",
    "    step2 = sp.Add(sp.Add(sp.Mul(M[0],M[4],M[8], evaluate=False),\n",
    "                                   sp.Mul(M[3],M[7],M[2], evaluate=False),\n",
    "                                   sp.Mul(M[6],M[1],M[5], evaluate=False), evaluate=False),\n",
    "                  sp.Mul(-1, sp.Add(sp.Mul(M[2],M[4],M[6], evaluate=False),\n",
    "                                    sp.Mul(M[1],M[3],M[8], evaluate=False),\n",
    "                                    sp.Mul(M[0],M[5],M[7], evaluate=False), \n",
    "                                    evaluate=False), evaluate=False), evaluate=False)\n",
    "    step3 = sp.Add(sp.Add(M[0]*M[4]*M[8], M[3]*M[7]*M[2], M[6]*M[1]*M[5], evaluate=False),\n",
    "                  sp.Mul(-1, sp.Add(M[2]*M[4]*M[6], M[1]*M[3]*M[8], M[0]*M[5]*M[7], evaluate=False), \n",
    "                         evaluate=False), evaluate=False)\n",
    "    step4 = sp.Add(M[0]*M[4]*M[8]+M[3]*M[7]*M[2]+M[6]*M[1]*M[5],\n",
    "                  -M[2]*M[4]*M[6]-M[1]*M[3]*M[8]-M[0]*M[5]*M[7], evaluate=False)\n",
    "    step5 = M[0]*M[4]*M[8]+M[3]*M[7]*M[2]+M[6]*M[1]*M[5]-M[2]*M[4]*M[6]-M[1]*M[3]*M[8]-M[0]*M[5]*M[7]\n",
    "    return step0, step1, step2, step3, step4, step5\n",
    "\n",
    "DetCalc_3x3_process(A, name='A')"
   ]
  },
  {
   "cell_type": "markdown",
   "id": "f4a95124",
   "metadata": {},
   "source": [
    "## Let's run Cramer now!\n",
    "Išspręsti Kramerio metodu lygčių sistemą, kurios koeficientų matrica yra A ir laisvųjų narių stulpelis yra B."
   ]
  },
  {
   "cell_type": "markdown",
   "id": "d9168ad8",
   "metadata": {},
   "source": [
    "$A = \\left(\\begin{array}{ccc} 1&3&3 \\\\ 5&5&3 \\\\ 4&5&5 \\end{array}\\right)$; $B = \\left(\\begin{array}{c} 4\\\\ 4 \\\\ 9 \\end{array}\\right)$\n",
    "\n",
    "$X = \\left(\\begin{array}{c} x \\\\ y \\\\ z \\end{array}\\right)$\n",
    "\n",
    "Tada, jei moki daugybą, gali įsitikinti, kad:\n",
    "\n",
    "$AX = \\left(\\begin{array}{c} x+3y+3z \\\\ 5x+5y+3z \\\\ 4x+5y+5z \\end{array}\\right)$\n",
    "\n",
    "Prilyginam $AX=B$\n",
    "\n",
    "$\\left(\\begin{array}{c} x+3y+3z \\\\ 5x+5y+3z \\\\ 4x+5y+5z \\end{array}\\right) = \\left(\\begin{array}{c} 4\\\\ 4 \\\\ 9 \\end{array}\\right)$\n",
    "\n",
    "Tai buvo kitas būdas užsirašyti lygčių sistemai\n",
    "\n",
    "$\\begin{cases} x+3y+3z=4 \\\\ 5x+5y+3z=4 \\\\ 4x+5y+5z=9 \\end{cases}$\n",
    "\n"
   ]
  },
  {
   "cell_type": "code",
   "execution_count": 299,
   "id": "74eb17e2",
   "metadata": {},
   "outputs": [],
   "source": [
    "#A = sp.Matrix([[5, 4, 3], [2, 3, 0], [0, 3, 4]])\n",
    "#B = sp.Matrix([[30], [11], [11]])"
   ]
  },
  {
   "cell_type": "code",
   "execution_count": 303,
   "id": "58b2f0d1",
   "metadata": {},
   "outputs": [],
   "source": [
    "A = sp.Matrix([[1, 3, 3], [5, 5, 3], [4, 5, 5]])\n",
    "B = sp.Matrix([[4], [4], [9]])"
   ]
  },
  {
   "cell_type": "code",
   "execution_count": 313,
   "id": "b4e5c8fa",
   "metadata": {
    "scrolled": true
   },
   "outputs": [
    {
     "data": {
      "text/markdown": [
       "A = $\\left[\\begin{matrix}1 & 3 & 3\\\\5 & 5 & 3\\\\4 & 5 & 5\\end{matrix}\\right]$; "
      ],
      "text/plain": [
       "<IPython.core.display.Markdown object>"
      ]
     },
     "metadata": {},
     "output_type": "display_data"
    },
    {
     "data": {
      "text/markdown": [
       "B = $\\left[\\begin{matrix}4\\\\4\\\\9\\end{matrix}\\right]$"
      ],
      "text/plain": [
       "<IPython.core.display.Markdown object>"
      ]
     },
     "metadata": {},
     "output_type": "display_data"
    },
    {
     "data": {
      "text/markdown": [
       "Gaunasi sistema:\\begin{cases} x + 3 y + 3 z = 4 \\\\ 5 x + 5 y + 3 z = 4 \\\\ 4 x + 5 y + 5 z = 9 \\end{cases}"
      ],
      "text/plain": [
       "<IPython.core.display.Markdown object>"
      ]
     },
     "metadata": {},
     "output_type": "display_data"
    },
    {
     "data": {
      "text/markdown": [
       "$\\text{det($D$)} = \\left|\\begin{array}{ccc} 1&3&3\\\\5&5&3\\\\4&5&5 \\end{array}\\right| = - (1 \\cdot 3 \\cdot 5 + 3 \\cdot 5 \\cdot 4 + 3 \\cdot 5 \\cdot 5) + \\left(1 \\cdot 5 \\cdot 5 + 4 \\cdot 3 \\cdot 3 + 5 \\cdot 5 \\cdot 3\\right) = - (15 + 60 + 75) + \\left(25 + 36 + 75\\right) = -150 + 136 = -14$ $\\text{det($D_1$)} = \\left|\\begin{array}{ccc} 4&3&3\\\\4&5&3\\\\9&5&5 \\end{array}\\right| = - (3 \\cdot 4 \\cdot 5 + 4 \\cdot 3 \\cdot 5 + 3 \\cdot 5 \\cdot 9) + \\left(4 \\cdot 5 \\cdot 3 + 9 \\cdot 3 \\cdot 3 + 4 \\cdot 5 \\cdot 5\\right) = - (60 + 60 + 135) + \\left(60 + 81 + 100\\right) = -255 + 241 = -14$ $\\text{det($D_2$)} = \\left|\\begin{array}{ccc} 1&4&3\\\\5&4&3\\\\4&9&5 \\end{array}\\right| = - (1 \\cdot 3 \\cdot 9 + 3 \\cdot 4 \\cdot 4 + 4 \\cdot 5 \\cdot 5) + \\left(1 \\cdot 4 \\cdot 5 + 4 \\cdot 4 \\cdot 3 + 5 \\cdot 9 \\cdot 3\\right) = - (27 + 48 + 100) + \\left(20 + 48 + 135\\right) = -175 + 203 = 28$ $\\text{det($D_3$)} = \\left|\\begin{array}{ccc} 1&3&4\\\\5&5&4\\\\4&5&9 \\end{array}\\right| = - (1 \\cdot 4 \\cdot 5 + 4 \\cdot 5 \\cdot 4 + 3 \\cdot 5 \\cdot 9) + \\left(1 \\cdot 5 \\cdot 9 + 4 \\cdot 3 \\cdot 4 + 5 \\cdot 5 \\cdot 4\\right) = - (20 + 80 + 135) + \\left(45 + 48 + 100\\right) = -235 + 193 = -42$"
      ],
      "text/plain": [
       "<IPython.core.display.Markdown object>"
      ]
     },
     "metadata": {},
     "output_type": "display_data"
    },
    {
     "data": {
      "text/markdown": [
       "$x=\\displaystyle\\frac{D_1}{D} = \\frac{-14}{-14} = 1$"
      ],
      "text/plain": [
       "<IPython.core.display.Markdown object>"
      ]
     },
     "metadata": {},
     "output_type": "display_data"
    },
    {
     "data": {
      "text/markdown": [
       "$y=\\displaystyle\\frac{D_2}{D} = \\frac{28}{-14} = -2$"
      ],
      "text/plain": [
       "<IPython.core.display.Markdown object>"
      ]
     },
     "metadata": {},
     "output_type": "display_data"
    },
    {
     "data": {
      "text/markdown": [
       "$z=\\displaystyle\\frac{D_3}{D} = \\frac{-42}{-14} = 3$"
      ],
      "text/plain": [
       "<IPython.core.display.Markdown object>"
      ]
     },
     "metadata": {},
     "output_type": "display_data"
    }
   ],
   "source": [
    "solution = []\n",
    "results = []\n",
    "steps = DetCalc_3x3_process(A.copy(), name=latexy('D'))\n",
    "solution.append(latexy(LatexEq(steps)))\n",
    "results.append(steps[-1])\n",
    "for i in range(3):\n",
    "    D = A.copy()\n",
    "    D = D.col_insert(i, B)\n",
    "    D.col_del(i+1)\n",
    "    steps = DetCalc_3x3_process(D, name=latexy(f'D_{i+1}'))\n",
    "    solution.append(latexy(LatexEq(steps)))\n",
    "    results.append(steps[-1])\n",
    "\n",
    "D, D1, D2, D3 = results\n",
    "data0 = 'A = ' + latexy(sp.latex(A)) +'; '\n",
    "data1 = 'B = ' + latexy(sp.latex(B))\n",
    "kramer = ' '.join(solution)\n",
    "\n",
    "display(Markdown(data0))\n",
    "display(Markdown(data1))\n",
    "display(Markdown('Gaunasi sistema:'+ system_to_latex(AB_to_system(A*X, B))))\n",
    "display(Markdown(kramer))\n",
    "display(Markdown(f\"$x=\\\\displaystyle{LatexArgs('frac', 'D_1', 'D')} = {LatexArgs('frac', D1, D)} = {D1/D}$\"))\n",
    "display(Markdown(f\"$y=\\\\displaystyle{LatexArgs('frac', 'D_2', 'D')} = {LatexArgs('frac', D2, D)} = {D2/D}$\"))\n",
    "display(Markdown(f\"$z=\\\\displaystyle{LatexArgs('frac', 'D_3', 'D')} = {LatexArgs('frac', D3, D)} = {D3/D}$\"))"
   ]
  },
  {
   "cell_type": "markdown",
   "id": "83bdb415",
   "metadata": {},
   "source": [
    "### Bugs\n",
    "Can't set order of summands while counting determinant of 3*3 matrix"
   ]
  },
  {
   "cell_type": "code",
   "execution_count": 4,
   "id": "55fcd7d1",
   "metadata": {},
   "outputs": [
    {
     "name": "stdout",
     "output_type": "stream",
     "text": [
      "[[5 4 3]\n",
      " [2 3 0]\n",
      " [0 3 4]]\n",
      "[[5 4]\n",
      " [2 3]\n",
      " [0 3]]\n"
     ]
    }
   ],
   "source": [
    "import numpy as np\n",
    "A = np.array([[5, 4, 3], [2, 3, 0], [0, 3, 4]], dtype=int)\n",
    "B = np.array([[5, 4], [2, 3], [0, 3]], dtype=int)\n",
    "print(A)\n",
    "print(B)"
   ]
  },
  {
   "cell_type": "code",
   "execution_count": 9,
   "id": "d3f58ace",
   "metadata": {},
   "outputs": [
    {
     "data": {
      "text/plain": [
       "[[[5*5, 4*2, 3*0], [5*4, 4*3, 3*3]],\n",
       " [[2*5, 3*2, 0*0], [2*4, 3*3, 0*3]],\n",
       " [[0*5, 3*2, 4*0], [0*4, 3*3, 4*3]]]"
      ]
     },
     "execution_count": 9,
     "metadata": {},
     "output_type": "execute_result"
    }
   ],
   "source": [
    "[[[sp.Mul(x,y,evaluate=False) for x,y in zip(m,n)] for n in np.transpose(B)] for m in A]"
   ]
  },
  {
   "cell_type": "code",
   "execution_count": null,
   "id": "61c2e43f",
   "metadata": {},
   "outputs": [],
   "source": []
  }
 ],
 "metadata": {
  "kernelspec": {
   "display_name": "Python 3 (ipykernel)",
   "language": "python",
   "name": "python3"
  },
  "language_info": {
   "codemirror_mode": {
    "name": "ipython",
    "version": 3
   },
   "file_extension": ".py",
   "mimetype": "text/x-python",
   "name": "python",
   "nbconvert_exporter": "python",
   "pygments_lexer": "ipython3",
   "version": "3.9.7"
  }
 },
 "nbformat": 4,
 "nbformat_minor": 5
}
