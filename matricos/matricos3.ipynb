{
 "cells": [
  {
   "cell_type": "code",
   "execution_count": 6,
   "id": "42783da8",
   "metadata": {},
   "outputs": [
    {
     "data": {
      "text/plain": [
       "[[3*0 + 4*2 + 5*5, 3*3 + 4*3 + 5*4],\n",
       " [0*0 + 3*2 + 2*5, 0*3 + 2*4 + 3*3],\n",
       " [0*5 + 4*0 + 3*2, 0*4 + 3*3 + 4*3]]"
      ]
     },
     "execution_count": 6,
     "metadata": {},
     "output_type": "execute_result"
    }
   ],
   "source": [
    "import numpy as np\n",
    "import sympy as sp\n",
    "A = np.array([[5, 4, 3], [2, 3, 0], [0, 3, 4]], dtype=int)\n",
    "B = np.array([[5, 4], [2, 3], [0, 3]], dtype=int)\n",
    "[[sp.Add(*[sp.Mul(x,y,evaluate=False) for x,y in zip(m,n)], evaluate=False) for n in np.transpose(B)] for m in A]\n"
   ]
  },
  {
   "cell_type": "code",
   "execution_count": 3,
   "id": "6184bf8f",
   "metadata": {},
   "outputs": [
    {
     "data": {
      "text/plain": [
       "[[[5*5, 4*2, 3*0], [5*4, 4*3, 3*3]],\n",
       " [[2*5, 3*2, 0*0], [2*4, 3*3, 0*3]],\n",
       " [[0*5, 3*2, 4*0], [0*4, 3*3, 4*3]]]"
      ]
     },
     "execution_count": 3,
     "metadata": {},
     "output_type": "execute_result"
    }
   ],
   "source": [
    "[[[sp.Mul(x,y,evaluate=False) for x,y in zip(m,n)] for n in np.transpose(B)] for m in A]\n"
   ]
  },
  {
   "cell_type": "code",
   "execution_count": null,
   "id": "4b30c56b",
   "metadata": {},
   "outputs": [],
   "source": []
  }
 ],
 "metadata": {
  "kernelspec": {
   "display_name": "Python 3 (ipykernel)",
   "language": "python",
   "name": "python3"
  },
  "language_info": {
   "codemirror_mode": {
    "name": "ipython",
    "version": 3
   },
   "file_extension": ".py",
   "mimetype": "text/x-python",
   "name": "python",
   "nbconvert_exporter": "python",
   "pygments_lexer": "ipython3",
   "version": "3.9.7"
  }
 },
 "nbformat": 4,
 "nbformat_minor": 5
}
