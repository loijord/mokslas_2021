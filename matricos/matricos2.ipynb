{
 "cells": [
  {
   "cell_type": "markdown",
   "id": "c45cc9e1",
   "metadata": {},
   "source": [
    "### Run code!"
   ]
  },
  {
   "cell_type": "code",
   "execution_count": 2,
   "id": "6d327052",
   "metadata": {},
   "outputs": [],
   "source": [
    "import sympy as sp\n",
    "from IPython.display import Markdown, Latex, display\n",
    "x, y, z = sp.symbols('x y z')\n",
    "X = sp.Matrix([x, y, z])"
   ]
  },
  {
   "cell_type": "code",
   "execution_count": 9,
   "id": "664287da",
   "metadata": {},
   "outputs": [
    {
     "data": {
      "text/plain": [
       "'\\\\begin{cases} abc \\\\end{cases}'"
      ]
     },
     "execution_count": 9,
     "metadata": {},
     "output_type": "execute_result"
    }
   ],
   "source": [
    "def LatexEnv(name, core, c=None):\n",
    "    if c==None: c=''\n",
    "    else: c=f'{{{c}}}'\n",
    "    return f'\\\\begin{{{name}}}{c} {core} \\\\end{{{name}}}'\n",
    "LatexEnv('cases', 'abc')"
   ]
  },
  {
   "cell_type": "code",
   "execution_count": 4,
   "id": "ae3cdc94",
   "metadata": {},
   "outputs": [
    {
     "data": {
      "text/plain": [
       "'\\\\frac{a}{n}'"
      ]
     },
     "execution_count": 4,
     "metadata": {},
     "output_type": "execute_result"
    }
   ],
   "source": [
    "def LatexArgs(name, *args):\n",
    "    return f'\\\\{name}'+''.join(f'{{{arg}}}' for arg in args)\n",
    "LatexArgs('frac','a','n')"
   ]
  },
  {
   "cell_type": "code",
   "execution_count": 140,
   "id": "3b33ad7c",
   "metadata": {},
   "outputs": [
    {
     "data": {
      "text/plain": [
       "('\\\\text{|A|}',\n",
       " '\\\\left|\\\\begin{array}{ccc} 1&3&3\\\\\\\\5&5&3\\\\\\\\4&5&5 \\\\end{array}\\\\right|',\n",
       " -(1*3*5 + 3*5*4 + 3*5*5) + 1*5*5 + 4*3*3 + 5*5*3,\n",
       " -(15 + 60 + 75) + 25 + 36 + 75,\n",
       " -150 + 136,\n",
       " -14)"
      ]
     },
     "execution_count": 140,
     "metadata": {},
     "output_type": "execute_result"
    }
   ],
   "source": [
    "def DetCalc_3x3_process(M, name='A'):\n",
    "    step0 = LatexArgs('text', f'|{name}|')\n",
    "    detcore = \"\\\\\\\\\".join([f\"{M[0]}&{M[1]}&{M[2]}\", f\"{M[3]}&{M[4]}&{M[5]}\", f\"{M[6]}&{M[7]}&{M[8]}\"])\n",
    "    step1 = f'\\\\left|{LatexEnv(\"array\", detcore, \"ccc\")}\\\\right|'\n",
    "    step2 = sp.Add(sp.Add(sp.Mul(M[0],M[4],M[8], evaluate=False),\n",
    "                                   sp.Mul(M[3],M[7],M[2], evaluate=False),\n",
    "                                   sp.Mul(M[6],M[1],M[5], evaluate=False), evaluate=False),\n",
    "                  sp.Mul(-1, sp.Add(sp.Mul(M[2],M[4],M[6], evaluate=False),\n",
    "                                    sp.Mul(M[1],M[3],M[8], evaluate=False),\n",
    "                                    sp.Mul(M[0],M[5],M[7], evaluate=False), \n",
    "                                    evaluate=False), evaluate=False), evaluate=False)\n",
    "    step3 = sp.Add(sp.Add(M[0]*M[4]*M[8], M[3]*M[7]*M[2], M[6]*M[1]*M[5], evaluate=False),\n",
    "                  sp.Mul(-1, sp.Add(M[2]*M[4]*M[6], M[1]*M[3]*M[8], M[0]*M[5]*M[7], evaluate=False), \n",
    "                         evaluate=False), evaluate=False)\n",
    "    step4 = sp.Add(M[0]*M[4]*M[8]+M[3]*M[7]*M[2]+M[6]*M[1]*M[5],\n",
    "                  -M[2]*M[4]*M[6]-M[1]*M[3]*M[8]-M[0]*M[5]*M[7], evaluate=False)\n",
    "    step5 = M[0]*M[4]*M[8]+M[3]*M[7]*M[2]+M[6]*M[1]*M[5]-M[2]*M[4]*M[6]-M[1]*M[3]*M[8]-M[0]*M[5]*M[7]\n",
    "    return step0, step1, step2, step3, step4, step5\n",
    "\n",
    "DetCalc_3x3_process(A, name='A')"
   ]
  },
  {
   "cell_type": "code",
   "execution_count": 141,
   "id": "aad1f191",
   "metadata": {},
   "outputs": [
    {
     "data": {
      "text/plain": [
       "('|A_{12}|',\n",
       " '-1\\\\cdot \\\\left|\\\\begin{array}{cc} 1&3\\\\\\\\5&5 \\\\end{array}\\\\right|',\n",
       " '- (- 3 \\\\cdot 5 + 1 \\\\cdot 5)',\n",
       " '-5 + 15',\n",
       " '10')"
      ]
     },
     "execution_count": 141,
     "metadata": {},
     "output_type": "execute_result"
    }
   ],
   "source": [
    "def DetCalc_2x2_process(M, name='A', multiplier=None):\n",
    "    step0 = f'|{name}|'\n",
    "    if multiplier is None: m=''\n",
    "    else: m = str(multiplier)+'\\\\cdot '\n",
    "    detcore = \"\\\\\\\\\".join([f\"{M[0]}&{M[1]}\", f\"{M[2]}&{M[3]}\"])\n",
    "    step1 = m + f'\\\\left|{LatexEnv(\"array\", detcore, \"cc\")}\\\\right|'\n",
    "    s2 = sp.Add(sp.Mul(M[0],M[3], evaluate=False), \n",
    "                   sp.Mul(-1, sp.Mul(M[1],M[2], evaluate=False), evaluate=False), evaluate=False)\n",
    "    if multiplier==1: step2=s2\n",
    "    else: step2 = sp.Mul(multiplier, s2, evaluate=False)\n",
    "    step3 = sp.Add(multiplier*M[0]*M[3], -multiplier*M[1]*M[2], evaluate=False)\n",
    "    step4 = multiplier*M[0]*M[3] -multiplier*M[1]*M[2]\n",
    "    return step0, step1, sp.latex(step2), sp.latex(step3), sp.latex(step4)\n",
    "\n",
    "calc = DetCalc_2x2_process(sp.Matrix([[1, 3], [5, 5]]), name='A_{12}', multiplier=-1)\n",
    "calc"
   ]
  },
  {
   "cell_type": "code",
   "execution_count": 142,
   "id": "4f505748",
   "metadata": {},
   "outputs": [
    {
     "data": {
      "text/plain": [
       "'\\\\text{|A|} = \\\\left|\\\\begin{array}{ccc} 1&3&3\\\\\\\\5&5&3\\\\\\\\4&5&5 \\\\end{array}\\\\right| = - (1 \\\\cdot 3 \\\\cdot 5 + 3 \\\\cdot 5 \\\\cdot 4 + 3 \\\\cdot 5 \\\\cdot 5) + \\\\left(1 \\\\cdot 5 \\\\cdot 5 + 4 \\\\cdot 3 \\\\cdot 3 + 5 \\\\cdot 5 \\\\cdot 3\\\\right) = - (15 + 60 + 75) + \\\\left(25 + 36 + 75\\\\right) = -150 + 136 = -14'"
      ]
     },
     "execution_count": 142,
     "metadata": {},
     "output_type": "execute_result"
    }
   ],
   "source": [
    "def LatexEq(steps):\n",
    "    def _tex(n):\n",
    "        if type(n) is str: return n\n",
    "        else: return sp.latex(n)\n",
    "        \n",
    "    return ' = '.join([_tex(s) for s in steps])\n",
    "\n",
    "LatexEq(DetCalc_3x3_process(A, name='A'))"
   ]
  },
  {
   "cell_type": "code",
   "execution_count": 135,
   "id": "dc57aa3f",
   "metadata": {},
   "outputs": [],
   "source": [
    "def displayMatrix(A, d=1, simplify=False):\n",
    "    def _divide(m, d, simplify=simplify):\n",
    "        if simplify:\n",
    "            gcd = np.gcd(m, d)\n",
    "            m, d = m//gcd, d//gcd\n",
    "            m, d = np.sign(d)*m, np.sign(d)*d\n",
    "        if d == 1: return str(m)\n",
    "        else: \n",
    "            if simplify and m<0: return '-'+LatexArgs('frac', -m, d)\n",
    "            else: return LatexArgs('frac', m, d)\n",
    "    latexify = ['&'.join([_divide(m, d) for m in n]) for n in np.array(A)]\n",
    "    core = ' \\\\\\\\ '.join(latexify)\n",
    "    return '\\\\left(' + LatexEnv('array', core, 'c'*3) + '\\\\right)' #well, why 3?"
   ]
  },
  {
   "cell_type": "code",
   "execution_count": 6,
   "id": "f278f612",
   "metadata": {},
   "outputs": [],
   "source": [
    "def latexy(f):\n",
    "    return f'${f}$'"
   ]
  },
  {
   "cell_type": "markdown",
   "id": "f4a95124",
   "metadata": {},
   "source": [
    "## Let's run Cramer now!\n",
    "Išspręsti Kramerio metodu lygčių sistemą, kurios koeficientų matrica yra A ir laisvųjų narių stulpelis yra B."
   ]
  },
  {
   "cell_type": "markdown",
   "id": "c3f1e053",
   "metadata": {},
   "source": [
    "$A \\cdot A^{-1} = \\left(\\begin{array}{ccc} 1&0&0 \\\\ 0&1&0 \\\\ 0&0&1 \\end{array}\\right)$"
   ]
  },
  {
   "cell_type": "markdown",
   "id": "d9168ad8",
   "metadata": {},
   "source": [
    "$A = \\left(\\begin{array}{ccc} 1&3&3 \\\\ 5&5&3 \\\\ 4&5&5 \\end{array}\\right)$; $B = \\left(\\begin{array}{c} 4\\\\ 4 \\\\ 9 \\end{array}\\right)$\n",
    "\n",
    "$X = \\left(\\begin{array}{c} x \\\\ y \\\\ z \\end{array}\\right)$\n",
    "\n",
    "Tada, jei moki daugybą, gali įsitikinti, kad:\n",
    "\n",
    "$AX = \\left(\\begin{array}{c} x+3y+3z \\\\ 5x+5y+3z \\\\ 4x+5y+5z \\end{array}\\right)$\n",
    "\n",
    "Prilyginam $AX=B$\n",
    "\n",
    "$\\left(\\begin{array}{c} x+3y+3z \\\\ 5x+5y+3z \\\\ 4x+5y+5z \\end{array}\\right) = \\left(\\begin{array}{c} 4\\\\ 4 \\\\ 9 \\end{array}\\right)$\n",
    "\n",
    "Tai buvo kitas būdas užsirašyti lygčių sistemai\n",
    "\n",
    "$\\begin{cases} x+3y+3z=4 \\\\ 5x+5y+3z=4 \\\\ 4x+5y+5z=9 \\end{cases}$\n",
    "\n"
   ]
  },
  {
   "cell_type": "code",
   "execution_count": 106,
   "id": "58b2f0d1",
   "metadata": {},
   "outputs": [],
   "source": [
    "A = sp.Matrix([[1, 3, 3], [5, 5, 3], [4, 5, 5]])"
   ]
  },
  {
   "cell_type": "code",
   "execution_count": 138,
   "id": "b4e5c8fa",
   "metadata": {
    "scrolled": false
   },
   "outputs": [
    {
     "data": {
      "text/markdown": [
       "$\\text{|$A$|} = \\left|\\begin{array}{ccc} 1&3&3\\\\5&5&3\\\\4&5&5 \\end{array}\\right| = - (1 \\cdot 3 \\cdot 5 + 3 \\cdot 5 \\cdot 4 + 3 \\cdot 5 \\cdot 5) + \\left(1 \\cdot 5 \\cdot 5 + 4 \\cdot 3 \\cdot 3 + 5 \\cdot 5 \\cdot 3\\right) = - (15 + 60 + 75) + \\left(25 + 36 + 75\\right) = -150 + 136 = -14$"
      ],
      "text/plain": [
       "<IPython.core.display.Markdown object>"
      ]
     },
     "metadata": {},
     "output_type": "display_data"
    },
    {
     "data": {
      "text/markdown": [
       "$|A_{11}| = 1\\cdot \\left|\\begin{array}{cc} 5&3\\\\5&5 \\end{array}\\right| = - 3 \\cdot 5 + 5 \\cdot 5 = -15 + 25 = 10$"
      ],
      "text/plain": [
       "<IPython.core.display.Markdown object>"
      ]
     },
     "metadata": {},
     "output_type": "display_data"
    },
    {
     "data": {
      "text/markdown": [
       "$|A_{12}| = -1\\cdot \\left|\\begin{array}{cc} 5&3\\\\4&5 \\end{array}\\right| = - (- 3 \\cdot 4 + 5 \\cdot 5) = -25 + 12 = -13$"
      ],
      "text/plain": [
       "<IPython.core.display.Markdown object>"
      ]
     },
     "metadata": {},
     "output_type": "display_data"
    },
    {
     "data": {
      "text/markdown": [
       "$|A_{13}| = 1\\cdot \\left|\\begin{array}{cc} 5&5\\\\4&5 \\end{array}\\right| = - 4 \\cdot 5 + 5 \\cdot 5 = -20 + 25 = 5$"
      ],
      "text/plain": [
       "<IPython.core.display.Markdown object>"
      ]
     },
     "metadata": {},
     "output_type": "display_data"
    },
    {
     "data": {
      "text/markdown": [
       "$|A_{21}| = -1\\cdot \\left|\\begin{array}{cc} 3&3\\\\5&5 \\end{array}\\right| = - (- 3 \\cdot 5 + 3 \\cdot 5) = -15 + 15 = 0$"
      ],
      "text/plain": [
       "<IPython.core.display.Markdown object>"
      ]
     },
     "metadata": {},
     "output_type": "display_data"
    },
    {
     "data": {
      "text/markdown": [
       "$|A_{22}| = 1\\cdot \\left|\\begin{array}{cc} 1&3\\\\4&5 \\end{array}\\right| = - 3 \\cdot 4 + 1 \\cdot 5 = -12 + 5 = -7$"
      ],
      "text/plain": [
       "<IPython.core.display.Markdown object>"
      ]
     },
     "metadata": {},
     "output_type": "display_data"
    },
    {
     "data": {
      "text/markdown": [
       "$|A_{23}| = -1\\cdot \\left|\\begin{array}{cc} 1&3\\\\4&5 \\end{array}\\right| = - (- 3 \\cdot 4 + 1 \\cdot 5) = -5 + 12 = 7$"
      ],
      "text/plain": [
       "<IPython.core.display.Markdown object>"
      ]
     },
     "metadata": {},
     "output_type": "display_data"
    },
    {
     "data": {
      "text/markdown": [
       "$|A_{31}| = 1\\cdot \\left|\\begin{array}{cc} 3&3\\\\5&3 \\end{array}\\right| = - 3 \\cdot 5 + 3 \\cdot 3 = -15 + 9 = -6$"
      ],
      "text/plain": [
       "<IPython.core.display.Markdown object>"
      ]
     },
     "metadata": {},
     "output_type": "display_data"
    },
    {
     "data": {
      "text/markdown": [
       "$|A_{32}| = -1\\cdot \\left|\\begin{array}{cc} 1&3\\\\5&3 \\end{array}\\right| = - (- 3 \\cdot 5 + 1 \\cdot 3) = -3 + 15 = 12$"
      ],
      "text/plain": [
       "<IPython.core.display.Markdown object>"
      ]
     },
     "metadata": {},
     "output_type": "display_data"
    },
    {
     "data": {
      "text/markdown": [
       "$|A_{33}| = 1\\cdot \\left|\\begin{array}{cc} 1&3\\\\5&5 \\end{array}\\right| = - 3 \\cdot 5 + 1 \\cdot 5 = -15 + 5 = -10$"
      ],
      "text/plain": [
       "<IPython.core.display.Markdown object>"
      ]
     },
     "metadata": {},
     "output_type": "display_data"
    },
    {
     "data": {
      "text/markdown": [
       "$\\left(\\begin{array}{ccc}A_{11}&A_{12}&A_{13}\\\\A_{21}&A_{22}&A_{23}\\\\A_{31}&A_{32}&A_{23}\\end{array}\\right) = \\left(\\begin{array}{ccc} 10&-13&5 \\\\ 0&-7&7 \\\\ -6&12&-10 \\end{array}\\right)$"
      ],
      "text/plain": [
       "<IPython.core.display.Markdown object>"
      ]
     },
     "metadata": {},
     "output_type": "display_data"
    },
    {
     "data": {
      "text/markdown": [
       "$\\left(\\begin{array}{ccc}A_{11}&A_{12}&A_{13}\\\\A_{21}&A_{22}&A_{23}\\\\A_{31}&A_{32}&A_{33}\\end{array}\\right)^T = \\left(\\begin{array}{ccc} 10&0&-6 \\\\ -13&-7&12 \\\\ 5&7&-10 \\end{array}\\right)$"
      ],
      "text/plain": [
       "<IPython.core.display.Markdown object>"
      ]
     },
     "metadata": {},
     "output_type": "display_data"
    },
    {
     "data": {
      "text/markdown": [
       "$\\displaystyle A^{-1} = \\frac{1}{A} \\cdot \\left(\\begin{array}{ccc}A_{11}&A_{12}&A_{13}\\\\A_{21}&A_{22}&A_{23}\\\\A_{31}&A_{32}&A_{33}\\end{array}\\right)^T = \\left(\\begin{array}{ccc} \\frac{10}{-14}&\\frac{0}{-14}&\\frac{-6}{-14} \\\\ \\frac{-13}{-14}&\\frac{-7}{-14}&\\frac{12}{-14} \\\\ \\frac{5}{-14}&\\frac{7}{-14}&\\frac{-10}{-14} \\end{array}\\right) = \\left(\\begin{array}{ccc} -\\frac{5}{7}&0&\\frac{3}{7} \\\\ \\frac{13}{14}&\\frac{1}{2}&-\\frac{6}{7} \\\\ -\\frac{5}{14}&-\\frac{1}{2}&\\frac{5}{7} \\end{array}\\right)$"
      ],
      "text/plain": [
       "<IPython.core.display.Markdown object>"
      ]
     },
     "metadata": {},
     "output_type": "display_data"
    }
   ],
   "source": [
    "solution = []\n",
    "results = []\n",
    "steps = DetCalc_3x3_process(A.copy(), name=latexy('A'))\n",
    "solution.append(latexy(LatexEq(steps)))\n",
    "results.append(steps[-1])\n",
    "for i,j in [(0,0), (0,1), (0,2), (1,0), (1,1), (1,2), (2,0), (2,1), (2,2)]:\n",
    "    D = A.copy()\n",
    "    D.row_del(i)\n",
    "    D.col_del(j)\n",
    "    steps = DetCalc_2x2_process(D, name=f'A_{{{str(i+1)+str(j+1)}}}', multiplier=(-1)**(i+j))\n",
    "    solution.append(latexy(LatexEq(steps)))\n",
    "    results.append(steps[-1])\n",
    "\n",
    "AC = np.array([int(n) for n in results[1:10]]).reshape(3, 3)\n",
    "    \n",
    "other_steps = []\n",
    "demo_matrix = '\\\\left(\\\\begin{array}{ccc}A_{11}&A_{12}&A_{13}\\\\\\\\A_{21}&A_{22}&A_{23}\\\\\\\\A_{31}&A_{32}&A_{23}\\\\end{array}\\\\right)'\n",
    "other_steps.append(latexy(LatexEq([demo_matrix, displayMatrix(sp.Matrix(AC))])))\n",
    "demo_matrixT = '\\\\left(\\\\begin{array}{ccc}A_{11}&A_{12}&A_{13}\\\\\\\\A_{21}&A_{22}&A_{23}\\\\\\\\A_{31}&A_{32}&A_{33}\\\\end{array}\\\\right)^T'\n",
    "other_steps.append(latexy(LatexEq([demo_matrixT, displayMatrix(sp.Matrix(AC.T))])))\n",
    "other_steps.append(latexy(LatexEq(['\\\\displaystyle A^{-1}', \n",
    "                                   LatexArgs('frac', 1, 'A') + ' \\\\cdot '+ demo_matrixT,\n",
    "                                   displayMatrix(AC.T, results[0], simplify=False),\n",
    "                                   displayMatrix(AC.T, results[0], simplify=True)])))\n",
    "\n",
    "for s in solution: display(Markdown(s))\n",
    "for s in other_steps: display(Markdown(s))\n",
    "\n"
   ]
  },
  {
   "cell_type": "markdown",
   "id": "83bdb415",
   "metadata": {},
   "source": [
    "### Bugs\n",
    "Can't set order of summands while counting determinant of 3*3 matrix"
   ]
  },
  {
   "cell_type": "code",
   "execution_count": 110,
   "id": "c73ce631",
   "metadata": {},
   "outputs": [
    {
     "data": {
      "text/plain": [
       "array([[1, 3, 3],\n",
       "       [5, 5, 3],\n",
       "       [4, 5, 5]], dtype=object)"
      ]
     },
     "execution_count": 110,
     "metadata": {},
     "output_type": "execute_result"
    }
   ],
   "source": [
    "np.array(A)"
   ]
  },
  {
   "cell_type": "code",
   "execution_count": 143,
   "id": "d3f58ace",
   "metadata": {},
   "outputs": [
    {
     "data": {
      "text/plain": [
       "[[(array([5, 4, 3]), array([5, 2, 0])), (array([5, 4, 3]), array([4, 3, 3]))],\n",
       " [(array([2, 3, 0]), array([5, 2, 0])), (array([2, 3, 0]), array([4, 3, 3]))],\n",
       " [(array([0, 3, 4]), array([5, 2, 0])), (array([0, 3, 4]), array([4, 3, 3]))]]"
      ]
     },
     "execution_count": 143,
     "metadata": {},
     "output_type": "execute_result"
    }
   ],
   "source": [
    "import numpy as np\n",
    "A = np.array([[5, 4, 3], [2, 3, 0], [0, 3, 4]])\n",
    "B = np.array([[5, 4], [2, 3], [0, 3]])\n",
    "[[(m,n) for n in np.transpose(B)] for m in A]"
   ]
  },
  {
   "cell_type": "code",
   "execution_count": 96,
   "id": "93a1395f",
   "metadata": {},
   "outputs": [
    {
     "data": {
      "text/plain": [
       "array([[ 10, -13,   5],\n",
       "       [  0,  -7,   7],\n",
       "       [ -6,  12, -10]])"
      ]
     },
     "execution_count": 96,
     "metadata": {},
     "output_type": "execute_result"
    }
   ],
   "source": [
    "AC = np.array([int(n) for n in results[1:10]]).reshape(3, 3)\n",
    "AC"
   ]
  },
  {
   "cell_type": "code",
   "execution_count": 113,
   "id": "86d841dc",
   "metadata": {},
   "outputs": [
    {
     "data": {
      "text/markdown": [
       "$\\left(\\begin{array}{ccc} 10&-13&5 \\\\ 0&-7&7 \\\\ -6&12&-10 \\end{array}\\right)$"
      ],
      "text/plain": [
       "<IPython.core.display.Markdown object>"
      ]
     },
     "metadata": {},
     "output_type": "display_data"
    }
   ],
   "source": [
    "display(Markdown(latexy(displayMatrix(AC))))"
   ]
  },
  {
   "cell_type": "code",
   "execution_count": 98,
   "id": "52eb2061",
   "metadata": {},
   "outputs": [
    {
     "data": {
      "text/markdown": [
       "$\\left(\\begin{array}{ccc} \\frac{10}{2}&\\frac{0}{2}&\\frac{-6}{2} \\\\ \\frac{-13}{2}&\\frac{-7}{2}&\\frac{12}{2} \\\\ \\frac{5}{2}&\\frac{7}{2}&\\frac{-10}{2} \\end{array}\\right)$"
      ],
      "text/plain": [
       "<IPython.core.display.Markdown object>"
      ]
     },
     "metadata": {},
     "output_type": "display_data"
    }
   ],
   "source": [
    "display(Markdown(latexy(displayMatrix(AC.T, 2))))"
   ]
  },
  {
   "cell_type": "code",
   "execution_count": 99,
   "id": "91b48f68",
   "metadata": {},
   "outputs": [
    {
     "data": {
      "text/markdown": [
       "$\\left(\\begin{array}{ccc} 5&0&-3 \\\\ \\frac{-13}{2}&\\frac{-7}{2}&6 \\\\ \\frac{5}{2}&\\frac{7}{2}&-5 \\end{array}\\right)$"
      ],
      "text/plain": [
       "<IPython.core.display.Markdown object>"
      ]
     },
     "metadata": {},
     "output_type": "display_data"
    }
   ],
   "source": [
    "display(Markdown(latexy(displayMatrix(AC.T, 2, simplify=True))))"
   ]
  },
  {
   "cell_type": "code",
   "execution_count": 103,
   "id": "102ad0fa",
   "metadata": {},
   "outputs": [
    {
     "data": {
      "text/latex": [
       "$\\displaystyle \\left[\\begin{matrix}10 & -13 & 5\\\\0 & -7 & 7\\\\-6 & 12 & -10\\end{matrix}\\right]$"
      ],
      "text/plain": [
       "Matrix([\n",
       "[10, -13,   5],\n",
       "[ 0,  -7,   7],\n",
       "[-6,  12, -10]])"
      ]
     },
     "execution_count": 103,
     "metadata": {},
     "output_type": "execute_result"
    }
   ],
   "source": [
    "sp.Matrix(AC)"
   ]
  },
  {
   "cell_type": "code",
   "execution_count": null,
   "id": "615ab746",
   "metadata": {},
   "outputs": [],
   "source": []
  }
 ],
 "metadata": {
  "kernelspec": {
   "display_name": "Python 3 (ipykernel)",
   "language": "python",
   "name": "python3"
  },
  "language_info": {
   "codemirror_mode": {
    "name": "ipython",
    "version": 3
   },
   "file_extension": ".py",
   "mimetype": "text/x-python",
   "name": "python",
   "nbconvert_exporter": "python",
   "pygments_lexer": "ipython3",
   "version": "3.9.7"
  }
 },
 "nbformat": 4,
 "nbformat_minor": 5
}
