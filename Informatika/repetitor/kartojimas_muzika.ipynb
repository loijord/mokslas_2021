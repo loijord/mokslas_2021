{
 "cells": [
  {
   "cell_type": "markdown",
   "id": "6361a87c",
   "metadata": {},
   "source": [
    "Šiame projekte kuriamas žaidimas, skirtas kartotis muzikinių kūrinių šalims ir pavadinimams"
   ]
  },
  {
   "cell_type": "markdown",
   "id": "791db653",
   "metadata": {},
   "source": [
    "# Muzikos kūrinių kartojimasis\n",
    "## Naudojimosi instrukcijos\n",
    "\n",
    "* **Svarbu!** Šalia šios programos būtinai turi būti aplankalas `my_playlist` kuriame yra bent keli muzikos kūriniai.\n",
    "* Prieš naudojantis žaidimu reikia paleisti žemiau esantį kodą, kuriame aprašytos funkcijos `kūrinių_išsaugojimas` ir `kūrinių kartojimas`\n",
    "* Žaidimą vykdo funkcija `kūrinių kartojimas`. Prieš ja naudojantis būtina iškviesti funkciją `kūrinių_išsaugojimas`, kad galėtume įrašyti duomenis apie kiekvieno kūrinio šalį ir pavadinimą.\n",
    "* Funkcija `kūrinių_išsaugojimas` kviečiama atskirame langelyje paleidus komandą `kūrinių_išsaugojimas()`. Paskui leidžiama komanda `kūrinių_kartojimas()`, kuri vykdys žaidimą.\n",
    "* **Svarbu!** Vykdant komandą `kūrinių_išsaugojimas()` aplanke `my_playlist` turėtų atsirasti vis naujais duomenimis pasipildantys failai `šalys.txt` ir `pavadinimai.txt`. Kai suvesite daugiau šalių ir pavadinimų, dėl visa ko sukurkite atsargines šių failų kopijas kitoje vietoje, jei jie netyčia susigadintų.\n",
    "* **Svarbu!** Baigę kodo vykdymą ištrinkite outputą su ESC + Y + R, nes palikti ilgi grojaraščiai šiame faile gali jo užkrovimą iš naujo padaryti neįmanomu."
   ]
  },
  {
   "cell_type": "code",
   "execution_count": 4,
   "id": "c9d83904",
   "metadata": {},
   "outputs": [],
   "source": [
    "import os\n",
    "import json\n",
    "from IPython.display import Audio, display\n",
    "import sys\n",
    "import random\n",
    "\n",
    "def kūrinių_išsaugojimas():\n",
    "    if 'šalys.txt' not in os.listdir('my_playlist'): \n",
    "        with open('my_playlist\\šalys.txt', 'w') as f:\n",
    "            json.dump({}, f)\n",
    "    if 'pavadinimai.txt' not in os.listdir('my_playlist'): \n",
    "        with open('my_playlist\\pavadinimai.txt', 'w') as f:\n",
    "            json.dump({}, f)\n",
    "\n",
    "    for song in os.listdir('my_playlist'):\n",
    "        if '.txt' not in song:\n",
    "            display(Audio('my_playlist\\\\'+song, autoplay=True, embed=True))\n",
    "\n",
    "            with open('my_playlist\\šalys.txt', 'r') as f:\n",
    "                šalys = json.load(f)\n",
    "                if song in šalys.keys():\n",
    "                    input('Šiam kūriniui šalis jau išsaugota (žr. failą \"šalys.txt\"): ' + šalys[song])\n",
    "                else:\n",
    "                    šalis = input('Šio kūrinio šalis? ')\n",
    "                    šalys = {**šalys, song:šalis}\n",
    "\n",
    "            with open('my_playlist\\pavadinimai.txt', 'r') as f:\n",
    "                pavadinimai = json.load(f)\n",
    "                if song in pavadinimai.keys():\n",
    "                    input('Šiam kūriniui pavadinimas jau išsaugotas (žr. failą \"pavadinimai.txt\"): ' + pavadinimai[song])\n",
    "                else:\n",
    "                    pavadinimas = input('Šio kūrinio pavadinimas? ')\n",
    "                    pavadinimai = {**pavadinimai, song:pavadinimas} \n",
    "\n",
    "            with open('my_playlist\\šalys.txt', 'w') as f:\n",
    "                json.dump(šalys, f)\n",
    "                \n",
    "            with open('my_playlist\\pavadinimai.txt', 'w') as f:\n",
    "                json.dump(pavadinimai, f)\n",
    "                \n",
    "    print('Viskas išsaugota į failus šalys.txt ir pavadinimai.txt')\n",
    "    \n",
    "\n",
    "def kūrinių_kartojimas():\n",
    "    songs = [song for song in os.listdir('my_playlist') if '.txt' not in song]\n",
    "    with open('my_playlist\\šalys.txt', 'r') as f: \n",
    "        šalys = json.load(f)\n",
    "    with open('my_playlist\\pavadinimai.txt', 'r') as f: \n",
    "        pavadinimai = json.load(f)\n",
    "    print('Paspausk SPACE ir ENTER, jei nusibodo')\n",
    "    print('Jei pavadinimo nurodyti nebūtina, spausk ENTER')\n",
    "    print('Jei pasiduodi, bet nori sužinoti grojamo kūrinio failo pavadinimą, įvesk \"?\"')\n",
    "    round_id = 1\n",
    "    while len(songs) > 0:\n",
    "        random.shuffle(songs)\n",
    "        your_score, total_score = 0, len(songs)\n",
    "        print('-'*(9+len(str(round_id))))\n",
    "        print(f'|ROUND: {round_id}|')\n",
    "        print('-'*(9+len(str(round_id))))\n",
    "        for song in songs.copy():\n",
    "            display(Audio('my_playlist\\\\'+song, autoplay=True, embed=True))\n",
    "            š = input(f' /Šalis? |')\n",
    "            p = input(f'/Pavadinimas? |')\n",
    "            if š == šalys[song] and p == pavadinimai[song]: \n",
    "                print('\\\\Teisingai!')\n",
    "                songs.remove(song)\n",
    "                your_score += 1\n",
    "            elif š == ' ' or p == ' ': \n",
    "                print('*** Eik ilsėtis, tinginy')\n",
    "                sys.exit()\n",
    "            else: \n",
    "                print('\\\\Neteisingai!')\n",
    "                if š != šalys[song]: print(f'\\tŠalis turėjo būti: {šalys[song]}') \n",
    "                if p != pavadinimai[song]: print(f'\\tPavadinimas turėjo būti: {pavadinimai[song]}')\n",
    "                if š == '?' or p == '?': \n",
    "                    print(song)\n",
    "        print(f'ATSAKEI: {your_score}/{total_score}, LIKO: {total_score - your_score}')\n",
    "        round_id += 1       \n",
    "    print('GERAI PAVAREI!')"
   ]
  },
  {
   "cell_type": "code",
   "execution_count": null,
   "id": "2494fbc0",
   "metadata": {},
   "outputs": [],
   "source": [
    "kūrinių_išsaugojimas() #baigę kodo vykdymą ištrinkite outputą su ESC + Y + R"
   ]
  },
  {
   "cell_type": "code",
   "execution_count": null,
   "id": "4cd5ead7",
   "metadata": {},
   "outputs": [],
   "source": [
    "kūrinių_kartojimas() #baigę kodo vykdymą ištrinkite outputą su ESC + Y + R"
   ]
  },
  {
   "cell_type": "markdown",
   "id": "a61a29f2",
   "metadata": {},
   "source": [
    "## Kaip planuojamas kodas, kurį rašysime?"
   ]
  },
  {
   "cell_type": "markdown",
   "id": "a52c5a42",
   "metadata": {},
   "source": [
    "Jei norime dirbti su ilgu muzikos failų rinkiniu, susidedame juos į aplanką, pavadintą `my_playlist`. Tada reikia kažkaip susieti kiekvieną failą su šalimi ir pavadinimu. Kaip tai padaryti? Įvedinėti paraidžiui kiekvieno failo pavadinimą užims per daug laiko. Siūlau iš pradžių sukurti ***pagalbinę funkciją***, kuri automatiškai aptinka visus muzikos failus, esančius `my_playlist`, paklausia kiekvieno iš jų stiliaus ir šalies, o tada stilius ir šalis išsaugo atskiruose failuose `šalys.txt` ir `pavadinimai.txt`. O tik tada parašyti ***pagrindinę funkciją***, kuri vykdo kartojimo žaidimą. Ją galima paleisti tik tada, kai prieš tai leidome *pagalbinę funkciją*, t.y. kiekvieno kūrinio šalių ir stilių duomenis galima rasti tam numatytuose failuose `šalys.txt` ir `pavadinimai.txt`.\n",
    "\n",
    "Vėlesnėse dalyse pakomentuosiu atskirus kodo fragmentus, o dar vėliau juos apjungsime į ***pagalbinę funkciją*** ir ***pagrindinę funkcijas***."
   ]
  },
  {
   "cell_type": "markdown",
   "id": "bb29e6be",
   "metadata": {},
   "source": [
    "### Kaip rasti visų kūrinių, esančių `my_playlist` aplanke, sąrašą?\n",
    "Pabandykime pasižiūrėti, kokie kūriniai padėti pas mane:"
   ]
  },
  {
   "cell_type": "code",
   "execution_count": 2,
   "id": "1046a7f0",
   "metadata": {},
   "outputs": [
    {
     "data": {
      "text/plain": [
       "['Afrika Bambaataa & The Soulsonic Force - Planet Rock (Official Music Video) (1).mp3',\n",
       " 'AudioTrack 03.mp3',\n",
       " 'Massive Attack - Black Milk.mp3']"
      ]
     },
     "execution_count": 2,
     "metadata": {},
     "output_type": "execute_result"
    }
   ],
   "source": [
    "import os\n",
    "[song for song in os.listdir('my_playlist') if '.txt' not in song]"
   ]
  },
  {
   "cell_type": "markdown",
   "id": "b007c921",
   "metadata": {},
   "source": [
    "### Kaip paleisti muzikos kūrinį iš `my_playlist` aplanko?\n",
    "Atkreipkite dėmesį, kad reikia įvesti taip pat failo formatą (.mp3), o kelias iki failo turi būti aiškus."
   ]
  },
  {
   "cell_type": "code",
   "execution_count": null,
   "id": "b100cef4",
   "metadata": {},
   "outputs": [],
   "source": [
    "from IPython.display import Audio\n",
    "Audio(\"my_playlist\\AudioTrack 03.mp3\", autoplay=True)"
   ]
  },
  {
   "cell_type": "markdown",
   "id": "470e0ed2",
   "metadata": {},
   "source": [
    "### Kaip saugoti duomenis apie kūrinius tam skirtuose failuose?\n",
    "\n",
    "Siūlau susikurti žodyno tipo kintamuosius, kurie atrodytų šitaip:\n",
    "\n",
    "    šalys = {'Afrika Bambaataa & The Soulsonic Force - Planet Rock (Official Music Video) (1).mp3' : 'Afrika',\n",
    "    'AudioTrack 03.mp3' : 'Lietuva',\n",
    "    'Massive Attack - Black Milk.mp3' : 'Anglija'}\n",
    "     \n",
    "    pavadinimai = {'Afrika Bambaataa & The Soulsonic Force - Planet Rock (Official Music Video) (1).mp3' : 'Hip Hop',\n",
    "    'AudioTrack 03.mp3' : 'Folkloras',\n",
    "    'Massive Attack - Black Milk.mp3' : 'Trip Hop'}\n",
    "     \n",
    "[Daugiau apie tokio tipo kintamųjų saugojimą failuose](https://stackoverflow.com/questions/11821322/elegant-way-to-store-dictionary-permanently-with-python)"
   ]
  },
  {
   "cell_type": "markdown",
   "id": "72613e0c",
   "metadata": {},
   "source": [
    "Šiuos duomenis galima išsaugoti `my_playlist` aplanke tokiu būdu:"
   ]
  },
  {
   "cell_type": "code",
   "execution_count": 6,
   "id": "9ddc2910",
   "metadata": {},
   "outputs": [],
   "source": [
    "import json\n",
    "\n",
    "šalys = {'Afrika Bambaataa & The Soulsonic Force - Planet Rock (Official Music Video) (1).mp3' : 'Afrika',\n",
    "'AudioTrack 03.mp3' : 'Lietuva',\n",
    "'Massive Attack - Black Milk.mp3' : 'Anglija'}\n",
    "\n",
    "pavadinimai = {'Afrika Bambaataa & The Soulsonic Force - Planet Rock (Official Music Video) (1).mp3' : 'Hip Hop',\n",
    "'AudioTrack 03.mp3' : 'Folkloras',\n",
    "'Massive Attack - Black Milk.mp3' : 'Trip Hop'}\n",
    "    \n",
    "with open('my_playlist\\šalys.txt', 'w') as f:\n",
    "    json.dump(šalys, f)\n",
    "    \n",
    "with open('my_playlist\\pavadinimai.txt', 'w') as f:\n",
    "    json.dump(pavadinimai, f)"
   ]
  },
  {
   "cell_type": "markdown",
   "id": "07376bed",
   "metadata": {},
   "source": [
    "Taip pat reikėtų ir turėti būdą, kaip juos perskaityti, kai notebook`us paleidžiame iš naujo:"
   ]
  },
  {
   "cell_type": "code",
   "execution_count": 21,
   "id": "e9b131d1",
   "metadata": {},
   "outputs": [],
   "source": [
    "with open('my_playlist\\šalys.txt', 'r') as f:\n",
    "    šalys = json.load(f)\n",
    "with open('my_playlist\\pavadinimai.txt', 'r') as f:\n",
    "    stiliai = json.load(f)"
   ]
  },
  {
   "cell_type": "markdown",
   "id": "22cfbcc3",
   "metadata": {},
   "source": [
    "### Kaip įvesti duomenis apie muzikos kūrinį?"
   ]
  },
  {
   "cell_type": "code",
   "execution_count": null,
   "id": "1a6d782b",
   "metadata": {},
   "outputs": [],
   "source": [
    "from IPython.display import Audio, display\n",
    "\n",
    "def ask(file):\n",
    "    display(Audio(file, autoplay=True, embed=True))\n",
    "    šalis = input('Šio kūrinio šalis? ')\n",
    "    stilius = input('Šio kūrinio pavainimas? ')\n",
    "    return šalis, stilius\n",
    "\n",
    "ask(\"my_playlist\\Massive Attack - Black Milk.mp3\")"
   ]
  },
  {
   "cell_type": "markdown",
   "id": "6af5a6ec",
   "metadata": {},
   "source": [
    "### Pirma dalis. Kaip išsaugoti duomenis apie kiekvieną kūrinį, esantį `my_playlist` aplanke?"
   ]
  },
  {
   "cell_type": "markdown",
   "id": "0009ff75",
   "metadata": {},
   "source": [
    "Sujungus visus prieš tai darytus dalykus parašome funkciją, kuri priskiria mūsų įvestus duomenis apie šalis ir pavadinimus atskiriems kintamiesiems. Programa paleidžia kiekvieną kūrinį, paklausia šalies ir pavadinimo, o tada duomenų failus `šalys.txt` ir `pavadinimai.txt` jais papildo. Jei duomenų failai nerandami, sukuriami failai, turintys tuščius žodynus."
   ]
  },
  {
   "cell_type": "code",
   "execution_count": null,
   "id": "13f43b1d",
   "metadata": {},
   "outputs": [],
   "source": [
    "import os\n",
    "import json\n",
    "from IPython.display import Audio, display\n",
    "\n",
    "def kūrinių_išsaugojimas():\n",
    "    if 'šalys.txt' not in os.listdir('my_playlist'): \n",
    "        with open('my_playlist\\šalys.txt', 'w') as f:\n",
    "            json.dump({}, f)\n",
    "    if 'pavadinimai.txt' not in os.listdir('my_playlist'): \n",
    "        with open('my_playlist\\pavadinimai.txt', 'w') as f:\n",
    "            json.dump({}, f)\n",
    "\n",
    "    for song in os.listdir('my_playlist'):\n",
    "        if '.txt' not in song:\n",
    "            display(Audio('my_playlist\\\\'+song, autoplay=True, embed=True))\n",
    "\n",
    "            with open('my_playlist\\šalys.txt', 'r') as f:\n",
    "                šalys = json.load(f)\n",
    "                if song in šalys.keys():\n",
    "                    input('Šiam kūriniui šalis jau išsaugota (žr. failą \"šalys.txt\"): ' + šalys[song])\n",
    "                else:\n",
    "                    šalis = input('Šio kūrinio šalis? ')\n",
    "                    šalys = {**šalys, song:šalis}\n",
    "\n",
    "            with open('my_playlist\\pavadinimai.txt', 'r') as f:\n",
    "                pavadinimai = json.load(f)\n",
    "                if song in pavadinimai.keys():\n",
    "                    input('Šiam kūriniui pavadinimas jau išsaugotas (žr. failą \"pavadinimai.txt\"): ' + pavadinimai[song])\n",
    "                else:\n",
    "                    pavadinimas = input('Šio kūrinio pavadinimas? ')\n",
    "                    pavadinimai = {**pavadinimai, song:pavadinimas} \n",
    "\n",
    "            with open('my_playlist\\šalys.txt', 'w') as f:\n",
    "                json.dump(šalys, f)\n",
    "                \n",
    "            with open('my_playlist\\pavadinimai.txt', 'w') as f:\n",
    "                json.dump(pavadinimai, f)\n",
    "            \n",
    "    print('Viskas išsaugota į failus šalys.txt ir pavadinimai.txt')\n",
    "    \n",
    "kūrinių_išsaugojimas()"
   ]
  },
  {
   "cell_type": "markdown",
   "id": "eadb6321",
   "metadata": {},
   "source": [
    "### Antra dalis. Kartojimo žaidimas\n",
    "Šioje dalyje aprašoma funkcija, kuri klausinėja muzikos kūrinių šalių ir pavadinimų. Kodas paimtas iš anglų kalbos žodžių kartojimo programos ir pamodifikuotas"
   ]
  },
  {
   "cell_type": "code",
   "execution_count": null,
   "id": "46d12f5f",
   "metadata": {},
   "outputs": [],
   "source": [
    "import os\n",
    "import json\n",
    "from IPython.display import Audio, display\n",
    "import sys\n",
    "import random\n",
    "\n",
    "def kūrinių_kartojimas():\n",
    "    songs = [song for song in os.listdir('my_playlist') if '.txt' not in song]\n",
    "    with open('my_playlist\\šalys.txt', 'r') as f: \n",
    "        šalys = json.load(f)\n",
    "    with open('my_playlist\\pavadinimai.txt', 'r') as f: \n",
    "        pavadinimai = json.load(f)\n",
    "    print('Paspausk SPACE ir ENTER, jei nusibodo')\n",
    "    print('Jei pavadinimo nurodyti nebūtina, spausk ENTER')\n",
    "    print('Jei pasiduodi, bet nori sužinoti grojamo kūrinio failo pavadinimą, įvesk \"?\"')\n",
    "    round_id = 1\n",
    "    while len(songs) > 0:\n",
    "        random.shuffle(songs)\n",
    "        your_score, total_score = 0, len(songs)\n",
    "        print('-'*(9+len(str(round_id))))\n",
    "        print(f'|ROUND: {round_id}|')\n",
    "        print('-'*(9+len(str(round_id))))\n",
    "        for song in songs.copy():\n",
    "            display(Audio('my_playlist\\\\'+song, autoplay=True, embed=True))\n",
    "            š = input(f' /Šalis? |')\n",
    "            p = input(f'/Pavadinimas? |')\n",
    "            if š == šalys[song] and p == pavadinimai[song]: \n",
    "                print('\\\\Teisingai!')\n",
    "                songs.remove(song)\n",
    "                your_score += 1\n",
    "            elif š == ' ' or p == ' ': \n",
    "                print('*** Eik ilsėtis, tinginy')\n",
    "                sys.exit()\n",
    "            else: \n",
    "                print('\\\\Neteisingai!')\n",
    "                if š != šalys[song]: print(f'\\tŠalis turėjo būti: {šalys[song]}') \n",
    "                if p != pavadinimai[song]: print(f'\\tPavadinimas turėjo būti: {pavadinimai[song]}')\n",
    "                if š == '?' or p == '?': \n",
    "                    print(song)\n",
    "        print(f'ATSAKEI: {your_score}/{total_score}, LIKO: {total_score - your_score}')\n",
    "        round_id += 1       \n",
    "    print('GERAI PAVAREI!')\n",
    "        \n",
    "kūrinių_kartojimas()"
   ]
  }
 ],
 "metadata": {
  "kernelspec": {
   "display_name": "Python 3",
   "language": "python",
   "name": "python3"
  },
  "language_info": {
   "codemirror_mode": {
    "name": "ipython",
    "version": 3
   },
   "file_extension": ".py",
   "mimetype": "text/x-python",
   "name": "python",
   "nbconvert_exporter": "python",
   "pygments_lexer": "ipython3",
   "version": "3.8.8"
  }
 },
 "nbformat": 4,
 "nbformat_minor": 5
}
