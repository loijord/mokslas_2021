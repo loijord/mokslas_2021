{
 "cells": [
  {
   "cell_type": "markdown",
   "id": "bc8e991a",
   "metadata": {},
   "source": [
    "# Anglų kalbos žodžių kartojimasis\n",
    "Šiame projekte sukursime žaidimą, kuris kiekviename lygyje klausinėja tik tuos žodžius, kurie buvo neatsakyti\n",
    "\n",
    "## Naudojimo instrukcijos\n",
    "Norint vykdyti anglų kalbos kartojimo žaidimą reikia:\n",
    "* Rankiniu būdu susikurti žodyno tipo kintamąjį, kuriame bus saugomi jūsų žodžiai, pavyzdžiui:\n",
    "\n",
    "      words = {'tai':'this', \n",
    "      'yra':'is',\n",
    "      'būdas':'way',\n",
    "      'mokytis':'learn',\n",
    "      'anglų':'yngliš',\n",
    "      'mintinai':'by heart'}\n",
    "      \n",
    "* Pasileisti likusį kodą:"
   ]
  },
  {
   "cell_type": "code",
   "execution_count": 1,
   "id": "eac3450b",
   "metadata": {},
   "outputs": [
    {
     "name": "stdout",
     "output_type": "stream",
     "text": [
      "Paspausk ENTER, jei nusibodo\n",
      "----------\n",
      "|ROUND: 1|\n",
      "----------\n",
      "/Išversk: būdas|way\n",
      "\\Teisingai!\n",
      "/Išversk: anglų|\n",
      "*** Eik ilsėtis, tinginy\n"
     ]
    },
    {
     "ename": "SystemExit",
     "evalue": "",
     "output_type": "error",
     "traceback": [
      "An exception has occurred, use %tb to see the full traceback.\n",
      "\u001b[1;31mSystemExit\u001b[0m\n"
     ]
    },
    {
     "name": "stderr",
     "output_type": "stream",
     "text": [
      "C:\\Users\\Acer\\anaconda3\\lib\\site-packages\\IPython\\core\\interactiveshell.py:3445: UserWarning: To exit: use 'exit', 'quit', or Ctrl-D.\n",
      "  warn(\"To exit: use 'exit', 'quit', or Ctrl-D.\", stacklevel=1)\n"
     ]
    }
   ],
   "source": [
    "words = {'tai':'this', \n",
    "'yra':'is',\n",
    "'būdas':'way',\n",
    "'mokytis':'learn',\n",
    "'anglų':'yngliš',\n",
    "'mintinai':'by heart'}\n",
    "\n",
    "import random\n",
    "import sys\n",
    "\n",
    "def kartojam_anglų(words):\n",
    "    lt_meanings = list(words.keys())\n",
    "    round_id = 1\n",
    "    print('Paspausk ENTER, jei nusibodo')\n",
    "    while len(lt_meanings)>0:\n",
    "        random.shuffle(lt_meanings)\n",
    "        your_score, total_score = 0, len(lt_meanings)\n",
    "        print('-'*(9+len(str(round_id))))\n",
    "        print(f'|ROUND: {round_id}|')\n",
    "        print('-'*(9+len(str(round_id))))\n",
    "        for w in lt_meanings.copy():\n",
    "            r = input(f'/Išversk: {w}|')\n",
    "            if r == words[w]: \n",
    "                print('\\\\Teisingai!')\n",
    "                lt_meanings.remove(w)\n",
    "                your_score += 1\n",
    "            elif r == '': \n",
    "                print('*** Eik ilsėtis, tinginy')\n",
    "                sys.exit()\n",
    "            else: print('\\\\Neteisingai!', f'Turėjo būti: {words[w]}') \n",
    "        print(f'ATSAKEI: {your_score}/{total_score}, LIKO: {total_score - your_score}')\n",
    "        round_id += 1       \n",
    "    print('GERAI PAVAREI!')\n",
    "        \n",
    "kartojam_anglų(words)"
   ]
  },
  {
   "cell_type": "markdown",
   "id": "83454424",
   "metadata": {},
   "source": [
    "Trumpai pakomentuosiu kai kurias kodo dalis"
   ]
  },
  {
   "cell_type": "markdown",
   "id": "ec54299a",
   "metadata": {},
   "source": [
    "### Funkcija, kuri parodo atsitiktinį žodį iš duotų žodžių sąrašo"
   ]
  },
  {
   "cell_type": "code",
   "execution_count": 6,
   "id": "74321e82",
   "metadata": {},
   "outputs": [
    {
     "name": "stdout",
     "output_type": "stream",
     "text": [
      "atia\n"
     ]
    }
   ],
   "source": [
    "import random\n",
    "W = {'labas':'hi', 'atia':'bye', 'iki':'bye'}\n",
    "\n",
    "def duok_žodį(words):\n",
    "    w = random.choice(list(words.keys()))\n",
    "    print(w)\n",
    "\n",
    "duok_žodį(W)"
   ]
  },
  {
   "cell_type": "markdown",
   "id": "63b9dec9",
   "metadata": {},
   "source": [
    "### Funkcija, kuri ne tik parodo atsitiktinį žodį, bet ir paklausia atsakymo"
   ]
  },
  {
   "cell_type": "code",
   "execution_count": null,
   "id": "20e7cec7",
   "metadata": {},
   "outputs": [],
   "source": [
    "def duok_žodį2(words):\n",
    "    w = random.choice(list(words.keys()))\n",
    "    r = input(f'išversk: {w}|')\n",
    "duok_žodį2(words)"
   ]
  },
  {
   "cell_type": "markdown",
   "id": "492fbad7",
   "metadata": {},
   "source": [
    "### Funkcija, kuri parodo atsitiktinį žodį, paklausia atsakymo ir patikrina, ar jis teisingas"
   ]
  },
  {
   "cell_type": "code",
   "execution_count": null,
   "id": "7db55951",
   "metadata": {},
   "outputs": [],
   "source": [
    "def duok_žodį3(words):\n",
    "    w = random.choice(list(words.keys()))\n",
    "    r = input(f'išversk: {w}|')\n",
    "    if words[w] == r:\n",
    "        print('Teisingai!')\n",
    "    else:\n",
    "        print('Neteisingai!', f'Turėjo būti: {words[w]}') \n",
    "duok_žodį3(words)"
   ]
  }
 ],
 "metadata": {
  "kernelspec": {
   "display_name": "Python 3",
   "language": "python",
   "name": "python3"
  },
  "language_info": {
   "codemirror_mode": {
    "name": "ipython",
    "version": 3
   },
   "file_extension": ".py",
   "mimetype": "text/x-python",
   "name": "python",
   "nbconvert_exporter": "python",
   "pygments_lexer": "ipython3",
   "version": "3.8.8"
  }
 },
 "nbformat": 4,
 "nbformat_minor": 5
}
