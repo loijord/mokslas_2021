{
 "cells": [
  {
   "cell_type": "markdown",
   "id": "a44d898c",
   "metadata": {},
   "source": [
    "***Projektai***\n",
    "* [Anglų kalbos žodžių kartojimas](repetitor/kartojimas_anglu.ipynb) - žaidimas, kur kiekviename lygyje klausinėjami tik tie žodžiai, kurie buvo neatsakyti\n",
    "* [Muzikos kūrinių kartojimas](repetitor/kartojimas_muzika.ipynb) - analogiškas žaidimas, skirtas kartotis muzikinių kūrinių šalims ir pavadinimams\n",
    "* [Uždavinys apie semestro vidurkį](vidurkiai/vidurkiai.ipynb) - ar atskleisite piktojo tarybinių laikų mokytojo mįslę?\n",
    "* Diskriminanto skaičiavimas - programa, kuri apskaičiuoja kvadratinės lygties sprendinius dešimtainėmis išraiškomis\n",
    "\n",
    "***Būsimi projektai***\n",
    "* [Matematikos kartojimas](../../datalearn_tests/practise.ipynb) [vystomas] - programa, leidžianti pamatyti užuominas sekantiems sprendimo žingsniams. Jos tikslas yra įpratinti atpažinti ir įsiminti mažiau įsisavintas taisykles, reikiamas sėkmingam uždavinių sprendimui. \n",
    "* Matematikos pasiekimų analizė - programa, leidžianti atpažinti ir saugoti duomenis apie individualius kiekvieno mokinio pasiekimus\n",
    "* Youtube downloader - programa, leidžianti atsisiųsti visus kūrinius į kompiuterį iš tam tikro Youtube grojaraščio. Štai pora mano sukurtų YouTube grojaraščių.\n",
    "* Savo asmeninio puslapio sukūrimas - tai labai paprasta naudojant GitHub + Jupyter Notebook"
   ]
  }
 ],
 "metadata": {
  "kernelspec": {
   "display_name": "Python 3",
   "language": "python",
   "name": "python3"
  },
  "language_info": {
   "codemirror_mode": {
    "name": "ipython",
    "version": 3
   },
   "file_extension": ".py",
   "mimetype": "text/x-python",
   "name": "python",
   "nbconvert_exporter": "python",
   "pygments_lexer": "ipython3",
   "version": "3.8.8"
  }
 },
 "nbformat": 4,
 "nbformat_minor": 5
}
