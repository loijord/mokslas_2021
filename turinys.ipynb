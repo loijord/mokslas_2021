{
 "cells": [
  {
   "cell_type": "markdown",
   "id": "868953bf",
   "metadata": {},
   "source": [
    "2021 metų pradžioje dirbu su trimis devintokais: Adomu, Mantu ir Ugne. Mantas ir Ugnė kartu mokosi matematiką ir Python programavimo, o Adomas - fiziką. Štai jų užsiėmimai:\n",
    "\n",
    "* [Matematika su Mantu ir Ugne (bus papildyta)](Matematika/turinys.ipynb)\n",
    "* [Informatika su Mantu ir Ugne](informatika/turinys.ipynb)\n",
    "* [Fizika su Adomu (bus papildyta)](Fizika/turinys.ipynb)"
   ]
  },
  {
   "cell_type": "code",
   "execution_count": null,
   "id": "745e0b32",
   "metadata": {},
   "outputs": [],
   "source": []
  }
 ],
 "metadata": {
  "kernelspec": {
   "display_name": "Python 3",
   "language": "python",
   "name": "python3"
  },
  "language_info": {
   "codemirror_mode": {
    "name": "ipython",
    "version": 3
   },
   "file_extension": ".py",
   "mimetype": "text/x-python",
   "name": "python",
   "nbconvert_exporter": "python",
   "pygments_lexer": "ipython3",
   "version": "3.8.8"
  }
 },
 "nbformat": 4,
 "nbformat_minor": 5
}
